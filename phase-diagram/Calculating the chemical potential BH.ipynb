{
 "cells": [
  {
   "cell_type": "markdown",
   "id": "b323389b",
   "metadata": {},
   "source": [
    "# Bose–Hubbard Model "
   ]
  },
  {
   "cell_type": "markdown",
   "id": "1e79dca2",
   "metadata": {},
   "source": [
    "The Hamiltonian of the one dimensional Bose–Hubbard model can be written as:"
   ]
  },
  {
   "cell_type": "markdown",
   "id": "bf9b7348",
   "metadata": {},
   "source": [
    "\n",
    "$$\\hat{H} = -J \\sum_{<i,j>} \\left(\\hat{a}_i^\\dagger\\hat{a}_j + \\hat{a}_j^\\dagger\\hat{a}_i\\right)\n",
    "          + \\frac{U}{2} \\sum_{i=1}^M  \\,\\hat{n}_i \\left(\\hat{n}_i - 1\\right)$$"
   ]
  },
  {
   "cell_type": "markdown",
   "id": "8606269b",
   "metadata": {},
   "source": [
    "where $\\hat{a}_i^\\dagger$ and $\\hat{a}_i$ are creation and annihilation operators, and \n",
    "$\\hat{n}_i=\\hat{a}_i^\\dagger\\hat{a}_i$ is the particle number operator, $M$ is the total numbers of the sites. \n",
    "The kinetic part, $\\hat{a}_i^\\dagger\\hat{a}_j$ means that one boson is annihilated at site $j$ and then created at site $i$, so the net effect is this boson hop from $j$-site to $i$-site. That’s why we call it <strong>hopping term</strong>. Summation indices $<ij>$ means that only neighboring lattice sites are considered, since the do not consider a long interaction between bosons.\n",
    "\n",
    "The second part is the <strong>interaction term</strong>, which describes the on-site interaction of the boson. It has the same form as the electrostatic energy of $N$ electric charges. In the following article, we assume $U>0$ so that the interaction is repulsive, that is the reason of minus sign.\n",
    "\n",
    "We can also consider a <strong>chemical potential</strong> $\\mu$ term. If the chemical potential is fixed, then it will become a constant and we can simply ignore it.\n",
    "\n",
    "To start, we can choose the occupation basis:\n",
    "\n",
    "$|n_1,\\, n_2, \\, \\ldots,\\, n_i,\\, \\ldots,\\, n_N>.$\n",
    "\n",
    "Here, $N$ is the number of sites, while $M=\\sum_{i=1}^N n_i$ is the total number of particles. Apply the operators on it, we have:\n",
    "\n",
    " \n",
    "\\begin{aligned}\n",
    "   \\vphantom{\\hat{a}_i^\\dagger}\n",
    "   \\hat{a}_i         \\, |\\ldots,\\, n_i  ,\\, \\ldots>\n",
    "   = \\sqrt{n_i}        \\, |\\ldots,\\, n_i-1,\\, \\ldots> \\\\\n",
    "   \\hat{a}_i^\\dagger \\, |\\ldots,\\, n_i  ,\\, \\ldots>\n",
    "   = \\sqrt{n_i+1}      \\, |\\ldots,\\, n_i+1,\\, \\ldots> \\\\\n",
    "   \\vphantom{\\hat{a}_i^\\dagger}\n",
    "   \\hat{n}_i         \\, |\\ldots,\\, n_i  ,\\, \\ldots>\n",
    "    = n_i               \\, |\\ldots,\\, n_i  ,\\, \\ldots>\n",
    "\\end{aligned}\n"
   ]
  },
  {
   "cell_type": "markdown",
   "id": "b2bf8512",
   "metadata": {},
   "source": [
    "## Simulation"
   ]
  },
  {
   "cell_type": "code",
   "execution_count": 393,
   "id": "dcb25c26",
   "metadata": {},
   "outputs": [
    {
     "data": {
      "text/plain": [
       "43758-element Vector{Vector{Int64}}:\n",
       " [10, 0, 0, 0, 0, 0, 0, 0, 0]\n",
       " [9, 1, 0, 0, 0, 0, 0, 0, 0]\n",
       " [9, 0, 1, 0, 0, 0, 0, 0, 0]\n",
       " [9, 0, 0, 1, 0, 0, 0, 0, 0]\n",
       " [9, 0, 0, 0, 1, 0, 0, 0, 0]\n",
       " [9, 0, 0, 0, 0, 1, 0, 0, 0]\n",
       " [9, 0, 0, 0, 0, 0, 1, 0, 0]\n",
       " [9, 0, 0, 0, 0, 0, 0, 1, 0]\n",
       " [9, 0, 0, 0, 0, 0, 0, 0, 1]\n",
       " [8, 2, 0, 0, 0, 0, 0, 0, 0]\n",
       " [8, 1, 1, 0, 0, 0, 0, 0, 0]\n",
       " [8, 1, 0, 1, 0, 0, 0, 0, 0]\n",
       " [8, 1, 0, 0, 1, 0, 0, 0, 0]\n",
       " ⋮\n",
       " [0, 0, 0, 0, 0, 0, 1, 0, 9]\n",
       " [0, 0, 0, 0, 0, 0, 0, 10, 0]\n",
       " [0, 0, 0, 0, 0, 0, 0, 9, 1]\n",
       " [0, 0, 0, 0, 0, 0, 0, 8, 2]\n",
       " [0, 0, 0, 0, 0, 0, 0, 7, 3]\n",
       " [0, 0, 0, 0, 0, 0, 0, 6, 4]\n",
       " [0, 0, 0, 0, 0, 0, 0, 5, 5]\n",
       " [0, 0, 0, 0, 0, 0, 0, 4, 6]\n",
       " [0, 0, 0, 0, 0, 0, 0, 3, 7]\n",
       " [0, 0, 0, 0, 0, 0, 0, 2, 8]\n",
       " [0, 0, 0, 0, 0, 0, 0, 1, 9]\n",
       " [0, 0, 0, 0, 0, 0, 0, 0, 10]"
      ]
     },
     "execution_count": 393,
     "metadata": {},
     "output_type": "execute_result"
    }
   ],
   "source": [
    "using LinearAlgebra \n",
    "using Plots #Graph\n",
    "using StaticArrays \n",
    "using SparseArrays \n",
    "using Arpack  #Eigenvalues and eigenvectors\n",
    "using LaTeXStrings #Titles and labels \n",
    "using JLD #Save data\n",
    "#definition of N,M,D\n",
    "global N=10\n",
    "global M=9\n",
    "global D=Int((factorial(M+N-1))/(factorial(M-1)*factorial(N)))  \n",
    "\n",
    "#i-prime number function(suggested form) \n",
    "p(i)=100i+3 \n",
    "\n",
    "#Generate a basis for N = M\n",
    "function generate_basis(N, M, D)\n",
    "    #D = prod(max(N, M):N+M-1) ÷ prod(1:min(N, M))\n",
    "    basis = [zeros(Int, M) for _ in 1:D]\n",
    "    basis[1][1] = N\n",
    "    for t = 2:D\n",
    "        if basis[t-1][M] != 0\n",
    "            k = M - 1\n",
    "        else\n",
    "            k = M\n",
    "        end\n",
    "        while k > 0 && basis[t-1][k] == 0\n",
    "            k -= 1\n",
    "        end\n",
    "        @views basis[t][1:k-1] .= basis[t-1][1:k-1]\n",
    "        basis[t][k] = basis[t-1][k] - 1\n",
    "        basis[t][k+1] = N - sum(@view(basis[t][1:k])) \n",
    "        end \n",
    "    return basis \n",
    "end \n",
    "#if you are struggling with the lexicographic order, you can think this algorithm as a game of balls on different \n",
    "#sites, for example for 3 balls and 3 sites, you start with 3 in the first site, then 1 ball fall from \n",
    "#the first site and going to the second site and finally the ball which fallen moves to the third site\n",
    "#and now you repeat the process of drop a ball on the first place and then move it on each site until the last.\n",
    "#vplusone = generate_basis(N+1,M) \n",
    "v = generate_basis(N,M, D) "
   ]
  },
  {
   "cell_type": "code",
   "execution_count": 394,
   "id": "29186e7e",
   "metadata": {},
   "outputs": [
    {
     "data": {
      "text/plain": [
       "tag (generic function with 1 method)"
      ]
     },
     "execution_count": 394,
     "metadata": {},
     "output_type": "execute_result"
    }
   ],
   "source": [
    "#tag function\n",
    "function tag(b,M)\n",
    "    tag=0;\n",
    "    for i in 1:M\n",
    "        tag += (√p(i))*b[i] \n",
    "    end\n",
    "    return tag \n",
    "end"
   ]
  },
  {
   "cell_type": "code",
   "execution_count": 395,
   "id": "4eb7f985",
   "metadata": {},
   "outputs": [
    {
     "data": {
      "text/plain": [
       "creation_ann (generic function with 1 method)"
      ]
     },
     "execution_count": 395,
     "metadata": {},
     "output_type": "execute_result"
    }
   ],
   "source": [
    "function creation_ann(k,j,v)     \n",
    "    if(v[j] >= 1) \n",
    "        b = copy(v)\n",
    "        value = sqrt(((b[k])+1)*b[j])\n",
    "        b[j] -= 1; \n",
    "        b[k] += 1;    \n",
    "        return [value , b]   \n",
    "    else \n",
    "        return 0; \n",
    "    end \n",
    "end   "
   ]
  },
  {
   "cell_type": "code",
   "execution_count": 396,
   "id": "60027f10",
   "metadata": {},
   "outputs": [
    {
     "data": {
      "text/plain": [
       "matrixofcreationann (generic function with 1 method)"
      ]
     },
     "execution_count": 396,
     "metadata": {},
     "output_type": "execute_result"
    }
   ],
   "source": [
    "function matrixofcreationann(i,k)\n",
    "    mat = spzeros(D,D)\n",
    "    for j in 1:D \n",
    "        if creation_ann(i,k,v[j]) == 0 \n",
    "           continue      \n",
    "        end\n",
    "        mat[DictOfInds[tag(creation_ann( i, k , v[j] )[2],M)], j] = creation_ann(i, k , v[j])[1] \n",
    "    end    \n",
    "    return mat\n",
    "end"
   ]
  },
  {
   "cell_type": "code",
   "execution_count": 397,
   "id": "7b4e2d8c",
   "metadata": {},
   "outputs": [
    {
     "data": {
      "text/plain": [
       "valdiags (generic function with 1 method)"
      ]
     },
     "execution_count": 397,
     "metadata": {},
     "output_type": "execute_result"
    }
   ],
   "source": [
    "#Diagonal values of the occupation number\n",
    "function valdiags(k, v, M)  \n",
    "    if(v[k] >= 1)  \n",
    "        return  (v[k]*(v[k]-1))/2  \n",
    "    else \n",
    "        return 0;\n",
    "    end  \n",
    "end       "
   ]
  },
  {
   "cell_type": "code",
   "execution_count": 398,
   "id": "c1a00338",
   "metadata": {},
   "outputs": [
    {
     "data": {
      "text/plain": [
       "occupation (generic function with 1 method)"
      ]
     },
     "execution_count": 398,
     "metadata": {},
     "output_type": "execute_result"
    }
   ],
   "source": [
    "function occupation(j, v) \n",
    "     if(v[j] >= 1)  \n",
    "        return  v[j]  \n",
    "    else \n",
    "        return 0;\n",
    "    end  \n",
    "end       "
   ]
  },
  {
   "cell_type": "code",
   "execution_count": 399,
   "id": "5db136e0",
   "metadata": {},
   "outputs": [
    {
     "data": {
      "text/plain": [
       "matrixoccupation (generic function with 1 method)"
      ]
     },
     "execution_count": 399,
     "metadata": {},
     "output_type": "execute_result"
    }
   ],
   "source": [
    "function matrixoccupation(k, D) \n",
    "    mat = spzeros(D,D)\n",
    "    for j in 1:D \n",
    "        mat[j,j] = occupation(k, v[j]) \n",
    "    end   \n",
    "    return mat \n",
    "end"
   ]
  },
  {
   "cell_type": "code",
   "execution_count": 400,
   "id": "52e9a9e0",
   "metadata": {},
   "outputs": [
    {
     "data": {
      "text/plain": [
       "2-element Vector{Any}:\n",
       " 3.1622776601683795\n",
       "  [9, 0, 1, 0, 0, 0, 0, 0, 0]"
      ]
     },
     "execution_count": 400,
     "metadata": {},
     "output_type": "execute_result"
    }
   ],
   "source": [
    "creation_ann(3,1,v[1])"
   ]
  },
  {
   "cell_type": "code",
   "execution_count": null,
   "id": "1df2ede6",
   "metadata": {},
   "outputs": [],
   "source": []
  },
  {
   "cell_type": "code",
   "execution_count": 401,
   "id": "161a407f",
   "metadata": {},
   "outputs": [],
   "source": [
    "#Array of tags \n",
    "T = []\n",
    "for i in 1:length(v) \n",
    "     push!(T,  tag( v[i] , M )) \n",
    "end"
   ]
  },
  {
   "cell_type": "code",
   "execution_count": 402,
   "id": "94e4174a",
   "metadata": {},
   "outputs": [
    {
     "data": {
      "text/plain": [
       "Dict{Float64, Int64} with 43758 entries:\n",
       "  240.367 => 38483\n",
       "  241.024 => 34377\n",
       "  218.167 => 20738\n",
       "  250.252 => 22245\n",
       "  265.121 => 39872\n",
       "  187.78  => 2404\n",
       "  191.623 => 31214\n",
       "  204.305 => 5822\n",
       "  244.254 => 34329\n",
       "  194.994 => 5795\n",
       "  214.638 => 25098\n",
       "  250.768 => 39907\n",
       "  226.767 => 34032\n",
       "  183.211 => 6742\n",
       "  206.547 => 17143\n",
       "  217.509 => 17413\n",
       "  206.768 => 29588\n",
       "  232.709 => 38349\n",
       "  226.502 => 23312\n",
       "  241.441 => 23449\n",
       "  272.078 => 43646\n",
       "  215.672 => 32556\n",
       "  167.595 => 735\n",
       "  217.352 => 9513\n",
       "  215.231 => 31064\n",
       "  ⋮       => ⋮"
      ]
     },
     "execution_count": 402,
     "metadata": {},
     "output_type": "execute_result"
    }
   ],
   "source": [
    "#Order and we made a dictionary to Tsorted => indices\n",
    "inds = sortperm(T);\n",
    "Tsorted = T[inds];\n",
    "#DictOfInds = Dict(zip(Tsorted, inds)) \n",
    "DictOfInds = Dict(Tsorted .=> inds)"
   ]
  },
  {
   "cell_type": "code",
   "execution_count": 310,
   "id": "06ff77c8",
   "metadata": {},
   "outputs": [
    {
     "data": {
      "text/plain": [
       "35×35 SparseMatrixCSC{Float64, Int64} with 194 stored entries:\n",
       "⡻⣮⠢⡂⢄⠀⠀⠀⠀⠀⠀⠀⠀⠀⠀⠀⠀⠀\n",
       "⠨⠢⢻⢖⡄⠑⢅⠢⢀⠀⠀⠀⠀⠀⠀⠀⠀⠀\n",
       "⠀⠑⢄⠉⠛⣤⣀⠑⠀⠑⢄⠄⡀⠀⠀⠀⠀⠀\n",
       "⠀⠀⠡⡑⢄⠘⠵⣣⠢⡀⠀⠑⢌⠐⢄⠀⠀⠀\n",
       "⠀⠀⠀⠐⢄⠀⠈⠢⠻⣦⠀⠀⠀⠑⢄⠈⠢⡀\n",
       "⠀⠀⠀⠀⠀⠕⢄⠀⠀⠀⢻⢖⡄⡀⠀⠀⠀⠀\n",
       "⠀⠀⠀⠀⠀⠈⢂⠑⢄⠀⠀⠩⡛⣬⡂⢄⠀⠀\n",
       "⠀⠀⠀⠀⠀⠀⠀⠑⡀⠑⠀⠀⠈⢌⠛⣤⡑⠀\n",
       "⠀⠀⠀⠀⠀⠀⠀⠀⠈⠢⠀⠀⠀⠀⠑⠈⠻⠆"
      ]
     },
     "execution_count": 310,
     "metadata": {},
     "output_type": "execute_result"
    }
   ],
   "source": [
    "diagscomp = [];\n",
    "for j in 1:D \n",
    "    sumsdeocup = []; \n",
    "    for k in 1:M\n",
    "        push!(sumsdeocup, valdiags(k, v[j], M))\n",
    "    end  \n",
    "    push!(diagscomp, sum(sumsdeocup))    \n",
    "end   \n",
    "#Mostramos la parte  \n",
    "U=1\n",
    "Vals = U*diagscomp\n",
    "Hint = spzeros(D,D)\n",
    "Hint[diagind(Hint)] = Vals; Hint  \n",
    "J = 1 \n",
    "Hkin = spzeros(D, D)\n",
    "for j in 1:D, k in 1:M, m in 1:M   \n",
    "    if creation_ann(k,m,v[j]) == 0 \n",
    "        continue     \n",
    "    elseif (abs(k-m)==(M-1) || abs(k-m)==1 ) ##Boundary condition 1->M, M->1            \n",
    "    #   if(DictOfInds[tag(creation_ann( k, m , v[j] )[2],M)] < j)   #### up  part \n",
    "    #       Hkin[DictOfInds[tag(creation_ann( k, m , v[j] )[2],M)], j] = -J*(creation_ann( k, m , v[j])[1]) \n",
    "    #   end\n",
    "        if(DictOfInds[tag(creation_ann( k, m , v[j] )[2],M)] > j) ### down  part \n",
    "            Hkin[DictOfInds[tag(creation_ann( k, m , v[j] )[2],M)], j] = -J*(creation_ann( k, m , v[j])[1]) \n",
    "        end      \n",
    "    end   \n",
    "end     \n",
    "\n",
    "\n",
    "Hkin = Symmetric(Hkin, :L) \n",
    "\n",
    "H=Hkin+Hint\n",
    "#spy(H, markersize = 1)"
   ]
  },
  {
   "cell_type": "code",
   "execution_count": 298,
   "id": "4a2b111b",
   "metadata": {},
   "outputs": [
    {
     "data": {
      "text/plain": [
       "0.0"
      ]
     },
     "execution_count": 298,
     "metadata": {},
     "output_type": "execute_result"
    }
   ],
   "source": [
    "H[3,1]"
   ]
  },
  {
   "cell_type": "code",
   "execution_count": 71,
   "id": "723ed1f8",
   "metadata": {},
   "outputs": [
    {
     "data": {
      "text/plain": [
       "([-1.5615528128088303], [-0.4351621464935992; -0.7882054380161093; -0.4351621464935992], 1, 1, 3, [0.0, 0.0, 0.0])"
      ]
     },
     "execution_count": 71,
     "metadata": {},
     "output_type": "execute_result"
    }
   ],
   "source": [
    "Eval, Evec = eigs(H,nev=1,which=:SR, v0 = ones(D))"
   ]
  },
  {
   "cell_type": "code",
   "execution_count": 403,
   "id": "f31d63e9",
   "metadata": {},
   "outputs": [],
   "source": [
    "#lowerbound = Vector{Float64}()\n",
    "#lowerboundminus = Vector{Float64}()  \n",
    "lowerboundplus = Vector{Float64}() \n",
    "U=1\n",
    "diagscomp = Vector{Int8}()\n",
    "for j in 1:D \n",
    "    sumsdeocup = Vector{Int8}() \n",
    "    for k in 1:M\n",
    "        push!(sumsdeocup, valdiags(k, v[j], M))\n",
    "    end  \n",
    "    push!(diagscomp, sum(sumsdeocup))    \n",
    "end    \n",
    "Vals = U*diagscomp\n",
    "Hint = spzeros(D,D)\n",
    "Hint[diagind(Hint)] = Vals; Hint\n",
    "for t in 0:0.05:0.50 \n",
    "    J=t\n",
    "    Hkin = spzeros(D, D)\n",
    "    for j in 1:D, k in 1:M, m in 1:M   \n",
    "        if creation_ann(k,m,v[j]) == 0 \n",
    "            continue     \n",
    "        elseif (abs(k-m)==(M-1) || abs(k-m)==1 ) ##Boundary condition 1->M, M->1            \n",
    "    #   if(DictOfInds[tag(creation_ann( k, m , v[j] )[2],M)] < j)   #### up  part \n",
    "    #       Hkin[DictOfInds[tag(creation_ann( k, m , v[j] )[2],M)], j] = -J*(creation_ann( k, m , v[j])[1]) \n",
    "    #   end\n",
    "            if(DictOfInds[tag(creation_ann( k, m , v[j] )[2],M)] > j) ### down  part \n",
    "                Hkin[DictOfInds[tag(creation_ann( k, m , v[j] )[2],M)], j] = -J*(creation_ann( k, m , v[j])[1]) \n",
    "            end      \n",
    "        end   \n",
    "    end     \n",
    "    Hkin = Symmetric(Hkin, :L)\n",
    "    H=Hkin+Hint\n",
    "    Eval, Evec = eigs(H,nev=1,which=:SR, v0 = ones(D))   \n",
    "    push!(lowerboundplus, Eval[1] )    \n",
    "    #push!(lowerbound, Eval[1] )    \n",
    "    #push!(lowerboundminus, Eval[1] )   \n",
    "end        \n",
    "#save(\"dataforeight.jld\", \"data\", fconde)   ###save data of fconde\n",
    "#t = 0:0.005:0.20\n",
    "#plot(t,lowerbound, xlabel =L\"J/U\", ylabel=L\"\\mu/U\", title = \"Mott lobes\", label = \"5 sites\", xlims=(0, 20), ylims=(0,1))\n",
    "#plot(t,variance, xlabel =L\"\\textrm{U/J}\", ylabel=L\"\\textrm{\\sigma_{i}}\", title= \"Variance\", labels = \"site 6\" )  \n",
    "#savefig(\"plot.png\")\n",
    "#plot(t, correlation, xlabel = \"U/J\", ylabel = \"ρ⁽¹⁾\")"
   ]
  },
  {
   "cell_type": "code",
   "execution_count": 404,
   "id": "a031c393",
   "metadata": {},
   "outputs": [
    {
     "data": {
      "image/svg+xml": [
       "<?xml version=\"1.0\" encoding=\"utf-8\"?>\n",
       "<svg xmlns=\"http://www.w3.org/2000/svg\" xmlns:xlink=\"http://www.w3.org/1999/xlink\" width=\"600\" height=\"400\" viewBox=\"0 0 2400 1600\">\n",
       "<defs>\n",
       "  <clipPath id=\"clip910\">\n",
       "    <rect x=\"0\" y=\"0\" width=\"2400\" height=\"1600\"/>\n",
       "  </clipPath>\n",
       "</defs>\n",
       "<path clip-path=\"url(#clip910)\" d=\"\n",
       "M0 1600 L2400 1600 L2400 0 L0 0  Z\n",
       "  \" fill=\"#ffffff\" fill-rule=\"evenodd\" fill-opacity=\"1\"/>\n",
       "<defs>\n",
       "  <clipPath id=\"clip911\">\n",
       "    <rect x=\"480\" y=\"0\" width=\"1681\" height=\"1600\"/>\n",
       "  </clipPath>\n",
       "</defs>\n",
       "<defs>\n",
       "  <clipPath id=\"clip912\">\n",
       "    <rect x=\"219\" y=\"123\" width=\"2134\" height=\"1301\"/>\n",
       "  </clipPath>\n",
       "</defs>\n",
       "<path clip-path=\"url(#clip910)\" d=\"\n",
       "M219.866 1423.18 L2352.76 1423.18 L2352.76 123.472 L219.866 123.472  Z\n",
       "  \" fill=\"#ffffff\" fill-rule=\"evenodd\" fill-opacity=\"1\"/>\n",
       "<polyline clip-path=\"url(#clip912)\" style=\"stroke:#000000; stroke-linecap:butt; stroke-linejoin:round; stroke-width:2; stroke-opacity:0.1; fill:none\" points=\"\n",
       "  219.866,1423.18 219.866,123.472 \n",
       "  \"/>\n",
       "<polyline clip-path=\"url(#clip912)\" style=\"stroke:#000000; stroke-linecap:butt; stroke-linejoin:round; stroke-width:2; stroke-opacity:0.1; fill:none\" points=\"\n",
       "  646.444,1423.18 646.444,123.472 \n",
       "  \"/>\n",
       "<polyline clip-path=\"url(#clip912)\" style=\"stroke:#000000; stroke-linecap:butt; stroke-linejoin:round; stroke-width:2; stroke-opacity:0.1; fill:none\" points=\"\n",
       "  1073.02,1423.18 1073.02,123.472 \n",
       "  \"/>\n",
       "<polyline clip-path=\"url(#clip912)\" style=\"stroke:#000000; stroke-linecap:butt; stroke-linejoin:round; stroke-width:2; stroke-opacity:0.1; fill:none\" points=\"\n",
       "  1499.6,1423.18 1499.6,123.472 \n",
       "  \"/>\n",
       "<polyline clip-path=\"url(#clip912)\" style=\"stroke:#000000; stroke-linecap:butt; stroke-linejoin:round; stroke-width:2; stroke-opacity:0.1; fill:none\" points=\"\n",
       "  1926.18,1423.18 1926.18,123.472 \n",
       "  \"/>\n",
       "<polyline clip-path=\"url(#clip912)\" style=\"stroke:#000000; stroke-linecap:butt; stroke-linejoin:round; stroke-width:2; stroke-opacity:0.1; fill:none\" points=\"\n",
       "  2352.76,1423.18 2352.76,123.472 \n",
       "  \"/>\n",
       "<polyline clip-path=\"url(#clip910)\" style=\"stroke:#000000; stroke-linecap:butt; stroke-linejoin:round; stroke-width:4; stroke-opacity:1; fill:none\" points=\"\n",
       "  219.866,1423.18 2352.76,1423.18 \n",
       "  \"/>\n",
       "<polyline clip-path=\"url(#clip910)\" style=\"stroke:#000000; stroke-linecap:butt; stroke-linejoin:round; stroke-width:4; stroke-opacity:1; fill:none\" points=\"\n",
       "  219.866,1423.18 219.866,1404.28 \n",
       "  \"/>\n",
       "<polyline clip-path=\"url(#clip910)\" style=\"stroke:#000000; stroke-linecap:butt; stroke-linejoin:round; stroke-width:4; stroke-opacity:1; fill:none\" points=\"\n",
       "  646.444,1423.18 646.444,1404.28 \n",
       "  \"/>\n",
       "<polyline clip-path=\"url(#clip910)\" style=\"stroke:#000000; stroke-linecap:butt; stroke-linejoin:round; stroke-width:4; stroke-opacity:1; fill:none\" points=\"\n",
       "  1073.02,1423.18 1073.02,1404.28 \n",
       "  \"/>\n",
       "<polyline clip-path=\"url(#clip910)\" style=\"stroke:#000000; stroke-linecap:butt; stroke-linejoin:round; stroke-width:4; stroke-opacity:1; fill:none\" points=\"\n",
       "  1499.6,1423.18 1499.6,1404.28 \n",
       "  \"/>\n",
       "<polyline clip-path=\"url(#clip910)\" style=\"stroke:#000000; stroke-linecap:butt; stroke-linejoin:round; stroke-width:4; stroke-opacity:1; fill:none\" points=\"\n",
       "  1926.18,1423.18 1926.18,1404.28 \n",
       "  \"/>\n",
       "<polyline clip-path=\"url(#clip910)\" style=\"stroke:#000000; stroke-linecap:butt; stroke-linejoin:round; stroke-width:4; stroke-opacity:1; fill:none\" points=\"\n",
       "  2352.76,1423.18 2352.76,1404.28 \n",
       "  \"/>\n",
       "<path clip-path=\"url(#clip910)\" d=\"M197.251 1454.1 Q193.64 1454.1 191.811 1457.66 Q190.005 1461.2 190.005 1468.33 Q190.005 1475.44 191.811 1479.01 Q193.64 1482.55 197.251 1482.55 Q200.885 1482.55 202.69 1479.01 Q204.519 1475.44 204.519 1468.33 Q204.519 1461.2 202.69 1457.66 Q200.885 1454.1 197.251 1454.1 M197.251 1450.39 Q203.061 1450.39 206.116 1455 Q209.195 1459.58 209.195 1468.33 Q209.195 1477.06 206.116 1481.67 Q203.061 1486.25 197.251 1486.25 Q191.44 1486.25 188.362 1481.67 Q185.306 1477.06 185.306 1468.33 Q185.306 1459.58 188.362 1455 Q191.44 1450.39 197.251 1450.39 Z\" fill=\"#000000\" fill-rule=\"evenodd\" fill-opacity=\"1\" /><path clip-path=\"url(#clip910)\" d=\"M217.413 1479.7 L222.297 1479.7 L222.297 1485.58 L217.413 1485.58 L217.413 1479.7 Z\" fill=\"#000000\" fill-rule=\"evenodd\" fill-opacity=\"1\" /><path clip-path=\"url(#clip910)\" d=\"M242.482 1454.1 Q238.871 1454.1 237.042 1457.66 Q235.237 1461.2 235.237 1468.33 Q235.237 1475.44 237.042 1479.01 Q238.871 1482.55 242.482 1482.55 Q246.116 1482.55 247.922 1479.01 Q249.75 1475.44 249.75 1468.33 Q249.75 1461.2 247.922 1457.66 Q246.116 1454.1 242.482 1454.1 M242.482 1450.39 Q248.292 1450.39 251.348 1455 Q254.426 1459.58 254.426 1468.33 Q254.426 1477.06 251.348 1481.67 Q248.292 1486.25 242.482 1486.25 Q236.672 1486.25 233.593 1481.67 Q230.538 1477.06 230.538 1468.33 Q230.538 1459.58 233.593 1455 Q236.672 1450.39 242.482 1450.39 Z\" fill=\"#000000\" fill-rule=\"evenodd\" fill-opacity=\"1\" /><path clip-path=\"url(#clip910)\" d=\"M624.442 1454.1 Q620.831 1454.1 619.002 1457.66 Q617.197 1461.2 617.197 1468.33 Q617.197 1475.44 619.002 1479.01 Q620.831 1482.55 624.442 1482.55 Q628.076 1482.55 629.882 1479.01 Q631.71 1475.44 631.71 1468.33 Q631.71 1461.2 629.882 1457.66 Q628.076 1454.1 624.442 1454.1 M624.442 1450.39 Q630.252 1450.39 633.308 1455 Q636.386 1459.58 636.386 1468.33 Q636.386 1477.06 633.308 1481.67 Q630.252 1486.25 624.442 1486.25 Q618.632 1486.25 615.553 1481.67 Q612.498 1477.06 612.498 1468.33 Q612.498 1459.58 615.553 1455 Q618.632 1450.39 624.442 1450.39 Z\" fill=\"#000000\" fill-rule=\"evenodd\" fill-opacity=\"1\" /><path clip-path=\"url(#clip910)\" d=\"M644.604 1479.7 L649.488 1479.7 L649.488 1485.58 L644.604 1485.58 L644.604 1479.7 Z\" fill=\"#000000\" fill-rule=\"evenodd\" fill-opacity=\"1\" /><path clip-path=\"url(#clip910)\" d=\"M660.483 1481.64 L668.122 1481.64 L668.122 1455.28 L659.812 1456.95 L659.812 1452.69 L668.076 1451.02 L672.752 1451.02 L672.752 1481.64 L680.391 1481.64 L680.391 1485.58 L660.483 1485.58 L660.483 1481.64 Z\" fill=\"#000000\" fill-rule=\"evenodd\" fill-opacity=\"1\" /><path clip-path=\"url(#clip910)\" d=\"M1051.21 1454.1 Q1047.59 1454.1 1045.77 1457.66 Q1043.96 1461.2 1043.96 1468.33 Q1043.96 1475.44 1045.77 1479.01 Q1047.59 1482.55 1051.21 1482.55 Q1054.84 1482.55 1056.64 1479.01 Q1058.47 1475.44 1058.47 1468.33 Q1058.47 1461.2 1056.64 1457.66 Q1054.84 1454.1 1051.21 1454.1 M1051.21 1450.39 Q1057.02 1450.39 1060.07 1455 Q1063.15 1459.58 1063.15 1468.33 Q1063.15 1477.06 1060.07 1481.67 Q1057.02 1486.25 1051.21 1486.25 Q1045.39 1486.25 1042.32 1481.67 Q1039.26 1477.06 1039.26 1468.33 Q1039.26 1459.58 1042.32 1455 Q1045.39 1450.39 1051.21 1450.39 Z\" fill=\"#000000\" fill-rule=\"evenodd\" fill-opacity=\"1\" /><path clip-path=\"url(#clip910)\" d=\"M1071.37 1479.7 L1076.25 1479.7 L1076.25 1485.58 L1071.37 1485.58 L1071.37 1479.7 Z\" fill=\"#000000\" fill-rule=\"evenodd\" fill-opacity=\"1\" /><path clip-path=\"url(#clip910)\" d=\"M1090.46 1481.64 L1106.78 1481.64 L1106.78 1485.58 L1084.84 1485.58 L1084.84 1481.64 Q1087.5 1478.89 1092.08 1474.26 Q1096.69 1469.61 1097.87 1468.27 Q1100.12 1465.74 1101 1464.01 Q1101.9 1462.25 1101.9 1460.56 Q1101.9 1457.8 1099.95 1456.07 Q1098.03 1454.33 1094.93 1454.33 Q1092.73 1454.33 1090.28 1455.09 Q1087.85 1455.86 1085.07 1457.41 L1085.07 1452.69 Q1087.89 1451.55 1090.35 1450.97 Q1092.8 1450.39 1094.84 1450.39 Q1100.21 1450.39 1103.4 1453.08 Q1106.6 1455.77 1106.6 1460.26 Q1106.6 1462.39 1105.79 1464.31 Q1105 1466.2 1102.89 1468.8 Q1102.32 1469.47 1099.21 1472.69 Q1096.11 1475.88 1090.46 1481.64 Z\" fill=\"#000000\" fill-rule=\"evenodd\" fill-opacity=\"1\" /><path clip-path=\"url(#clip910)\" d=\"M1477.31 1454.1 Q1473.7 1454.1 1471.87 1457.66 Q1470.06 1461.2 1470.06 1468.33 Q1470.06 1475.44 1471.87 1479.01 Q1473.7 1482.55 1477.31 1482.55 Q1480.94 1482.55 1482.75 1479.01 Q1484.58 1475.44 1484.58 1468.33 Q1484.58 1461.2 1482.75 1457.66 Q1480.94 1454.1 1477.31 1454.1 M1477.31 1450.39 Q1483.12 1450.39 1486.17 1455 Q1489.25 1459.58 1489.25 1468.33 Q1489.25 1477.06 1486.17 1481.67 Q1483.12 1486.25 1477.31 1486.25 Q1471.5 1486.25 1468.42 1481.67 Q1465.36 1477.06 1465.36 1468.33 Q1465.36 1459.58 1468.42 1455 Q1471.5 1450.39 1477.31 1450.39 Z\" fill=\"#000000\" fill-rule=\"evenodd\" fill-opacity=\"1\" /><path clip-path=\"url(#clip910)\" d=\"M1497.47 1479.7 L1502.35 1479.7 L1502.35 1485.58 L1497.47 1485.58 L1497.47 1479.7 Z\" fill=\"#000000\" fill-rule=\"evenodd\" fill-opacity=\"1\" /><path clip-path=\"url(#clip910)\" d=\"M1526.71 1466.95 Q1530.06 1467.66 1531.94 1469.93 Q1533.84 1472.2 1533.84 1475.53 Q1533.84 1480.65 1530.32 1483.45 Q1526.8 1486.25 1520.32 1486.25 Q1518.14 1486.25 1515.83 1485.81 Q1513.54 1485.39 1511.08 1484.54 L1511.08 1480.02 Q1513.03 1481.16 1515.34 1481.74 Q1517.66 1482.32 1520.18 1482.32 Q1524.58 1482.32 1526.87 1480.58 Q1529.18 1478.84 1529.18 1475.53 Q1529.18 1472.48 1527.03 1470.77 Q1524.9 1469.03 1521.08 1469.03 L1517.05 1469.03 L1517.05 1465.19 L1521.27 1465.19 Q1524.72 1465.19 1526.54 1463.82 Q1528.37 1462.43 1528.37 1459.84 Q1528.37 1457.18 1526.47 1455.77 Q1524.6 1454.33 1521.08 1454.33 Q1519.16 1454.33 1516.96 1454.75 Q1514.76 1455.16 1512.12 1456.04 L1512.12 1451.88 Q1514.79 1451.14 1517.1 1450.77 Q1519.44 1450.39 1521.5 1450.39 Q1526.82 1450.39 1529.92 1452.83 Q1533.03 1455.23 1533.03 1459.35 Q1533.03 1462.22 1531.38 1464.21 Q1529.74 1466.18 1526.71 1466.95 Z\" fill=\"#000000\" fill-rule=\"evenodd\" fill-opacity=\"1\" /><path clip-path=\"url(#clip910)\" d=\"M1903.32 1454.1 Q1899.71 1454.1 1897.88 1457.66 Q1896.07 1461.2 1896.07 1468.33 Q1896.07 1475.44 1897.88 1479.01 Q1899.71 1482.55 1903.32 1482.55 Q1906.95 1482.55 1908.76 1479.01 Q1910.59 1475.44 1910.59 1468.33 Q1910.59 1461.2 1908.76 1457.66 Q1906.95 1454.1 1903.32 1454.1 M1903.32 1450.39 Q1909.13 1450.39 1912.18 1455 Q1915.26 1459.58 1915.26 1468.33 Q1915.26 1477.06 1912.18 1481.67 Q1909.13 1486.25 1903.32 1486.25 Q1897.51 1486.25 1894.43 1481.67 Q1891.37 1477.06 1891.37 1468.33 Q1891.37 1459.58 1894.43 1455 Q1897.51 1450.39 1903.32 1450.39 Z\" fill=\"#000000\" fill-rule=\"evenodd\" fill-opacity=\"1\" /><path clip-path=\"url(#clip910)\" d=\"M1923.48 1479.7 L1928.37 1479.7 L1928.37 1485.58 L1923.48 1485.58 L1923.48 1479.7 Z\" fill=\"#000000\" fill-rule=\"evenodd\" fill-opacity=\"1\" /><path clip-path=\"url(#clip910)\" d=\"M1951.4 1455.09 L1939.59 1473.54 L1951.4 1473.54 L1951.4 1455.09 M1950.17 1451.02 L1956.05 1451.02 L1956.05 1473.54 L1960.98 1473.54 L1960.98 1477.43 L1956.05 1477.43 L1956.05 1485.58 L1951.4 1485.58 L1951.4 1477.43 L1935.8 1477.43 L1935.8 1472.92 L1950.17 1451.02 Z\" fill=\"#000000\" fill-rule=\"evenodd\" fill-opacity=\"1\" /><path clip-path=\"url(#clip910)\" d=\"M2330.64 1454.1 Q2327.03 1454.1 2325.2 1457.66 Q2323.39 1461.2 2323.39 1468.33 Q2323.39 1475.44 2325.2 1479.01 Q2327.03 1482.55 2330.64 1482.55 Q2334.27 1482.55 2336.08 1479.01 Q2337.91 1475.44 2337.91 1468.33 Q2337.91 1461.2 2336.08 1457.66 Q2334.27 1454.1 2330.64 1454.1 M2330.64 1450.39 Q2336.45 1450.39 2339.5 1455 Q2342.58 1459.58 2342.58 1468.33 Q2342.58 1477.06 2339.5 1481.67 Q2336.45 1486.25 2330.64 1486.25 Q2324.83 1486.25 2321.75 1481.67 Q2318.69 1477.06 2318.69 1468.33 Q2318.69 1459.58 2321.75 1455 Q2324.83 1450.39 2330.64 1450.39 Z\" fill=\"#000000\" fill-rule=\"evenodd\" fill-opacity=\"1\" /><path clip-path=\"url(#clip910)\" d=\"M2350.8 1479.7 L2355.68 1479.7 L2355.68 1485.58 L2350.8 1485.58 L2350.8 1479.7 Z\" fill=\"#000000\" fill-rule=\"evenodd\" fill-opacity=\"1\" /><path clip-path=\"url(#clip910)\" d=\"M2365.92 1451.02 L2384.27 1451.02 L2384.27 1454.96 L2370.2 1454.96 L2370.2 1463.43 Q2371.22 1463.08 2372.23 1462.92 Q2373.25 1462.73 2374.27 1462.73 Q2380.06 1462.73 2383.44 1465.9 Q2386.82 1469.08 2386.82 1474.49 Q2386.82 1480.07 2383.35 1483.17 Q2379.87 1486.25 2373.55 1486.25 Q2371.38 1486.25 2369.11 1485.88 Q2366.86 1485.51 2364.46 1484.77 L2364.46 1480.07 Q2366.54 1481.2 2368.76 1481.76 Q2370.98 1482.32 2373.46 1482.32 Q2377.47 1482.32 2379.8 1480.21 Q2382.14 1478.1 2382.14 1474.49 Q2382.14 1470.88 2379.8 1468.77 Q2377.47 1466.67 2373.46 1466.67 Q2371.59 1466.67 2369.71 1467.08 Q2367.86 1467.5 2365.92 1468.38 L2365.92 1451.02 Z\" fill=\"#000000\" fill-rule=\"evenodd\" fill-opacity=\"1\" /><path clip-path=\"url(#clip910)\" d=\"M1266.63 1511.62 Q1266.63 1512.23 1266.37 1512.52 Q1266.12 1512.78 1265.83 1512.84 Q1265.54 1512.87 1264.86 1512.87 Q1263.48 1512.87 1262.74 1512.97 Q1261.99 1513.07 1261.54 1513.48 Q1261.09 1513.87 1260.93 1514.26 Q1260.8 1514.64 1260.58 1515.64 L1252.85 1546.43 Q1251.66 1551.17 1247.34 1554.26 Q1243.03 1557.32 1238.29 1557.32 Q1234.43 1557.32 1231.98 1555.29 Q1229.56 1553.23 1229.56 1550.14 Q1229.56 1548.56 1230.08 1547.43 Q1230.59 1546.3 1231.37 1545.79 Q1232.14 1545.27 1232.78 1545.08 Q1233.46 1544.85 1234.01 1544.85 Q1235.07 1544.85 1235.97 1545.53 Q1236.91 1546.21 1236.91 1547.62 Q1236.91 1549.2 1235.68 1550.52 Q1234.46 1551.84 1232.62 1551.84 Q1232.01 1551.84 1231.82 1551.78 Q1232.3 1553.36 1233.56 1554.35 Q1234.81 1555.32 1235.91 1555.61 Q1237.04 1555.87 1238.1 1555.87 Q1240.87 1555.87 1243.67 1553.19 Q1246.47 1550.52 1247.6 1545.98 L1255.17 1515.71 Q1255.42 1514.68 1255.42 1514.32 Q1255.42 1513.65 1255.01 1513.42 Q1254.62 1513.16 1253.4 1513 Q1251.75 1512.87 1249.56 1512.87 Q1248.79 1512.87 1248.47 1512.87 Q1248.15 1512.84 1247.82 1512.78 Q1247.5 1512.71 1247.41 1512.58 Q1247.31 1512.42 1247.31 1512.13 Q1247.31 1511.52 1247.57 1511.23 Q1247.82 1510.91 1248.05 1510.88 Q1248.28 1510.81 1248.69 1510.81 L1258.39 1511.01 Q1259.23 1511.01 1262.06 1510.91 Q1264.89 1510.81 1265.73 1510.81 Q1266.63 1510.81 1266.63 1511.62 Z\" fill=\"#000000\" fill-rule=\"evenodd\" fill-opacity=\"1\" /><path clip-path=\"url(#clip910)\" d=\"M1265.8 1571.42 Q1265.8 1571.1 1266.06 1570.39 L1289.34 1508.17 Q1289.34 1508.11 1289.5 1507.75 Q1289.66 1507.4 1289.76 1507.17 Q1289.86 1506.91 1290.05 1506.72 Q1290.28 1506.53 1290.53 1506.53 Q1291.18 1506.53 1291.18 1507.33 Q1291.18 1507.4 1290.99 1508.17 L1267.64 1570.46 Q1267.25 1571.58 1266.99 1571.91 Q1266.77 1572.23 1266.38 1572.23 Q1265.8 1572.23 1265.8 1571.42 Z\" fill=\"#000000\" fill-rule=\"evenodd\" fill-opacity=\"1\" /><path clip-path=\"url(#clip910)\" d=\"M1344.16 1511.55 Q1344.16 1512.87 1343.07 1512.87 Q1341.14 1512.94 1339.82 1513.32 Q1338.5 1513.68 1337.72 1514.39 Q1336.98 1515.1 1336.56 1515.87 Q1336.18 1516.61 1335.92 1517.74 L1330.06 1541.15 Q1328.38 1547.75 1322.97 1552.55 Q1317.56 1557.32 1311.41 1557.32 Q1307.9 1557.32 1304.97 1555.87 Q1302.07 1554.42 1300.27 1551.49 Q1298.46 1548.56 1298.46 1544.66 Q1298.46 1542.79 1298.95 1540.83 L1302.94 1524.53 L1304.42 1518.73 Q1305.52 1514.45 1305.52 1514.06 Q1305.52 1513.45 1305.13 1513.29 Q1304.78 1513.1 1303.75 1513 L1301.23 1512.87 Q1300.46 1512.87 1300.14 1512.84 Q1299.85 1512.81 1299.62 1512.65 Q1299.4 1512.49 1299.4 1512.13 Q1299.4 1511.68 1299.5 1511.39 Q1299.62 1511.07 1299.85 1510.97 Q1300.07 1510.88 1300.24 1510.84 Q1300.4 1510.81 1300.65 1510.81 L1309.16 1511.01 L1317.59 1510.81 Q1318.53 1510.81 1318.53 1511.55 Q1318.53 1512.49 1318.11 1512.68 Q1317.69 1512.87 1316.27 1512.87 Q1313.86 1512.87 1312.76 1513.2 Q1311.7 1513.48 1311.38 1514 Q1311.09 1514.48 1310.73 1515.9 L1304.33 1541.57 Q1304 1542.86 1303.81 1544.14 Q1303.65 1545.4 1303.65 1546.04 L1303.62 1546.69 Q1303.62 1550.78 1305.87 1553.03 Q1308.16 1555.29 1311.67 1555.29 Q1316.82 1555.29 1321.62 1551.2 Q1326.45 1547.11 1328.09 1540.7 L1334.02 1517.16 Q1334.21 1516.58 1334.21 1515.77 Q1334.21 1514.48 1333.25 1513.71 Q1332.31 1512.91 1329.74 1512.87 Q1328.54 1512.87 1328.54 1512.13 Q1328.54 1511.52 1328.77 1511.23 Q1329.03 1510.91 1329.22 1510.88 Q1329.45 1510.81 1329.74 1510.81 Q1330.83 1510.81 1333.15 1510.91 Q1335.47 1511.01 1336.6 1511.01 Q1337.72 1511.01 1339.98 1510.91 Q1342.23 1510.81 1343.33 1510.81 Q1343.71 1510.81 1343.91 1511.01 Q1344.13 1511.17 1344.16 1511.36 L1344.16 1511.55 Z\" fill=\"#000000\" fill-rule=\"evenodd\" fill-opacity=\"1\" /><polyline clip-path=\"url(#clip912)\" style=\"stroke:#000000; stroke-linecap:butt; stroke-linejoin:round; stroke-width:2; stroke-opacity:0.1; fill:none\" points=\"\n",
       "  219.866,1423.18 2352.76,1423.18 \n",
       "  \"/>\n",
       "<polyline clip-path=\"url(#clip912)\" style=\"stroke:#000000; stroke-linecap:butt; stroke-linejoin:round; stroke-width:2; stroke-opacity:0.1; fill:none\" points=\"\n",
       "  219.866,1163.24 2352.76,1163.24 \n",
       "  \"/>\n",
       "<polyline clip-path=\"url(#clip912)\" style=\"stroke:#000000; stroke-linecap:butt; stroke-linejoin:round; stroke-width:2; stroke-opacity:0.1; fill:none\" points=\"\n",
       "  219.866,903.297 2352.76,903.297 \n",
       "  \"/>\n",
       "<polyline clip-path=\"url(#clip912)\" style=\"stroke:#000000; stroke-linecap:butt; stroke-linejoin:round; stroke-width:2; stroke-opacity:0.1; fill:none\" points=\"\n",
       "  219.866,643.355 2352.76,643.355 \n",
       "  \"/>\n",
       "<polyline clip-path=\"url(#clip912)\" style=\"stroke:#000000; stroke-linecap:butt; stroke-linejoin:round; stroke-width:2; stroke-opacity:0.1; fill:none\" points=\"\n",
       "  219.866,383.414 2352.76,383.414 \n",
       "  \"/>\n",
       "<polyline clip-path=\"url(#clip912)\" style=\"stroke:#000000; stroke-linecap:butt; stroke-linejoin:round; stroke-width:2; stroke-opacity:0.1; fill:none\" points=\"\n",
       "  219.866,123.472 2352.76,123.472 \n",
       "  \"/>\n",
       "<polyline clip-path=\"url(#clip910)\" style=\"stroke:#000000; stroke-linecap:butt; stroke-linejoin:round; stroke-width:4; stroke-opacity:1; fill:none\" points=\"\n",
       "  219.866,1423.18 219.866,123.472 \n",
       "  \"/>\n",
       "<polyline clip-path=\"url(#clip910)\" style=\"stroke:#000000; stroke-linecap:butt; stroke-linejoin:round; stroke-width:4; stroke-opacity:1; fill:none\" points=\"\n",
       "  219.866,1423.18 238.764,1423.18 \n",
       "  \"/>\n",
       "<polyline clip-path=\"url(#clip910)\" style=\"stroke:#000000; stroke-linecap:butt; stroke-linejoin:round; stroke-width:4; stroke-opacity:1; fill:none\" points=\"\n",
       "  219.866,1163.24 238.764,1163.24 \n",
       "  \"/>\n",
       "<polyline clip-path=\"url(#clip910)\" style=\"stroke:#000000; stroke-linecap:butt; stroke-linejoin:round; stroke-width:4; stroke-opacity:1; fill:none\" points=\"\n",
       "  219.866,903.297 238.764,903.297 \n",
       "  \"/>\n",
       "<polyline clip-path=\"url(#clip910)\" style=\"stroke:#000000; stroke-linecap:butt; stroke-linejoin:round; stroke-width:4; stroke-opacity:1; fill:none\" points=\"\n",
       "  219.866,643.355 238.764,643.355 \n",
       "  \"/>\n",
       "<polyline clip-path=\"url(#clip910)\" style=\"stroke:#000000; stroke-linecap:butt; stroke-linejoin:round; stroke-width:4; stroke-opacity:1; fill:none\" points=\"\n",
       "  219.866,383.414 238.764,383.414 \n",
       "  \"/>\n",
       "<polyline clip-path=\"url(#clip910)\" style=\"stroke:#000000; stroke-linecap:butt; stroke-linejoin:round; stroke-width:4; stroke-opacity:1; fill:none\" points=\"\n",
       "  219.866,123.472 238.764,123.472 \n",
       "  \"/>\n",
       "<path clip-path=\"url(#clip910)\" d=\"M126.691 1408.98 Q123.08 1408.98 121.251 1412.54 Q119.445 1416.08 119.445 1423.21 Q119.445 1430.32 121.251 1433.89 Q123.08 1437.43 126.691 1437.43 Q130.325 1437.43 132.13 1433.89 Q133.959 1430.32 133.959 1423.21 Q133.959 1416.08 132.13 1412.54 Q130.325 1408.98 126.691 1408.98 M126.691 1405.27 Q132.501 1405.27 135.556 1409.88 Q138.635 1414.46 138.635 1423.21 Q138.635 1431.94 135.556 1436.55 Q132.501 1441.13 126.691 1441.13 Q120.88 1441.13 117.802 1436.55 Q114.746 1431.94 114.746 1423.21 Q114.746 1414.46 117.802 1409.88 Q120.88 1405.27 126.691 1405.27 Z\" fill=\"#000000\" fill-rule=\"evenodd\" fill-opacity=\"1\" /><path clip-path=\"url(#clip910)\" d=\"M146.853 1434.58 L151.737 1434.58 L151.737 1440.46 L146.853 1440.46 L146.853 1434.58 Z\" fill=\"#000000\" fill-rule=\"evenodd\" fill-opacity=\"1\" /><path clip-path=\"url(#clip910)\" d=\"M171.922 1408.98 Q168.311 1408.98 166.482 1412.54 Q164.677 1416.08 164.677 1423.21 Q164.677 1430.32 166.482 1433.89 Q168.311 1437.43 171.922 1437.43 Q175.556 1437.43 177.362 1433.89 Q179.19 1430.32 179.19 1423.21 Q179.19 1416.08 177.362 1412.54 Q175.556 1408.98 171.922 1408.98 M171.922 1405.27 Q177.732 1405.27 180.788 1409.88 Q183.866 1414.46 183.866 1423.21 Q183.866 1431.94 180.788 1436.55 Q177.732 1441.13 171.922 1441.13 Q166.112 1441.13 163.033 1436.55 Q159.978 1431.94 159.978 1423.21 Q159.978 1414.46 163.033 1409.88 Q166.112 1405.27 171.922 1405.27 Z\" fill=\"#000000\" fill-rule=\"evenodd\" fill-opacity=\"1\" /><path clip-path=\"url(#clip910)\" d=\"M128.288 1149.04 Q124.677 1149.04 122.848 1152.6 Q121.043 1156.14 121.043 1163.27 Q121.043 1170.38 122.848 1173.94 Q124.677 1177.49 128.288 1177.49 Q131.922 1177.49 133.728 1173.94 Q135.556 1170.38 135.556 1163.27 Q135.556 1156.14 133.728 1152.6 Q131.922 1149.04 128.288 1149.04 M128.288 1145.33 Q134.098 1145.33 137.154 1149.94 Q140.232 1154.52 140.232 1163.27 Q140.232 1172 137.154 1176.61 Q134.098 1181.19 128.288 1181.19 Q122.478 1181.19 119.399 1176.61 Q116.343 1172 116.343 1163.27 Q116.343 1154.52 119.399 1149.94 Q122.478 1145.33 128.288 1145.33 Z\" fill=\"#000000\" fill-rule=\"evenodd\" fill-opacity=\"1\" /><path clip-path=\"url(#clip910)\" d=\"M148.45 1174.64 L153.334 1174.64 L153.334 1180.52 L148.45 1180.52 L148.45 1174.64 Z\" fill=\"#000000\" fill-rule=\"evenodd\" fill-opacity=\"1\" /><path clip-path=\"url(#clip910)\" d=\"M167.547 1176.58 L183.866 1176.58 L183.866 1180.52 L161.922 1180.52 L161.922 1176.58 Q164.584 1173.83 169.167 1169.2 Q173.774 1164.55 174.954 1163.2 Q177.2 1160.68 178.079 1158.94 Q178.982 1157.19 178.982 1155.5 Q178.982 1152.74 177.038 1151 Q175.116 1149.27 172.014 1149.27 Q169.815 1149.27 167.362 1150.03 Q164.931 1150.8 162.153 1152.35 L162.153 1147.62 Q164.977 1146.49 167.431 1145.91 Q169.885 1145.33 171.922 1145.33 Q177.292 1145.33 180.487 1148.02 Q183.681 1150.7 183.681 1155.19 Q183.681 1157.32 182.871 1159.25 Q182.084 1161.14 179.977 1163.74 Q179.399 1164.41 176.297 1167.62 Q173.195 1170.82 167.547 1176.58 Z\" fill=\"#000000\" fill-rule=\"evenodd\" fill-opacity=\"1\" /><path clip-path=\"url(#clip910)\" d=\"M126.205 889.095 Q122.593 889.095 120.765 892.66 Q118.959 896.202 118.959 903.331 Q118.959 910.438 120.765 914.003 Q122.593 917.544 126.205 917.544 Q129.839 917.544 131.644 914.003 Q133.473 910.438 133.473 903.331 Q133.473 896.202 131.644 892.66 Q129.839 889.095 126.205 889.095 M126.205 885.392 Q132.015 885.392 135.07 889.998 Q138.149 894.582 138.149 903.331 Q138.149 912.058 135.07 916.665 Q132.015 921.248 126.205 921.248 Q120.394 921.248 117.316 916.665 Q114.26 912.058 114.26 903.331 Q114.26 894.582 117.316 889.998 Q120.394 885.392 126.205 885.392 Z\" fill=\"#000000\" fill-rule=\"evenodd\" fill-opacity=\"1\" /><path clip-path=\"url(#clip910)\" d=\"M146.366 914.697 L151.251 914.697 L151.251 920.577 L146.366 920.577 L146.366 914.697 Z\" fill=\"#000000\" fill-rule=\"evenodd\" fill-opacity=\"1\" /><path clip-path=\"url(#clip910)\" d=\"M174.283 890.091 L162.477 908.54 L174.283 908.54 L174.283 890.091 M173.056 886.017 L178.936 886.017 L178.936 908.54 L183.866 908.54 L183.866 912.429 L178.936 912.429 L178.936 920.577 L174.283 920.577 L174.283 912.429 L158.681 912.429 L158.681 907.915 L173.056 886.017 Z\" fill=\"#000000\" fill-rule=\"evenodd\" fill-opacity=\"1\" /><path clip-path=\"url(#clip910)\" d=\"M126.529 629.154 Q122.918 629.154 121.089 632.719 Q119.283 636.26 119.283 643.39 Q119.283 650.496 121.089 654.061 Q122.918 657.603 126.529 657.603 Q130.163 657.603 131.968 654.061 Q133.797 650.496 133.797 643.39 Q133.797 636.26 131.968 632.719 Q130.163 629.154 126.529 629.154 M126.529 625.45 Q132.339 625.45 135.394 630.057 Q138.473 634.64 138.473 643.39 Q138.473 652.117 135.394 656.723 Q132.339 661.307 126.529 661.307 Q120.718 661.307 117.64 656.723 Q114.584 652.117 114.584 643.39 Q114.584 634.64 117.64 630.057 Q120.718 625.45 126.529 625.45 Z\" fill=\"#000000\" fill-rule=\"evenodd\" fill-opacity=\"1\" /><path clip-path=\"url(#clip910)\" d=\"M146.691 654.756 L151.575 654.756 L151.575 660.635 L146.691 660.635 L146.691 654.756 Z\" fill=\"#000000\" fill-rule=\"evenodd\" fill-opacity=\"1\" /><path clip-path=\"url(#clip910)\" d=\"M172.339 641.492 Q169.19 641.492 167.339 643.645 Q165.51 645.797 165.51 649.547 Q165.51 653.274 167.339 655.45 Q169.19 657.603 172.339 657.603 Q175.487 657.603 177.315 655.45 Q179.167 653.274 179.167 649.547 Q179.167 645.797 177.315 643.645 Q175.487 641.492 172.339 641.492 M181.621 626.839 L181.621 631.098 Q179.862 630.265 178.056 629.825 Q176.274 629.385 174.514 629.385 Q169.885 629.385 167.431 632.51 Q165.001 635.635 164.653 641.955 Q166.019 639.941 168.079 638.876 Q170.139 637.788 172.616 637.788 Q177.825 637.788 180.834 640.959 Q183.866 644.108 183.866 649.547 Q183.866 654.871 180.718 658.089 Q177.57 661.307 172.339 661.307 Q166.343 661.307 163.172 656.723 Q160.001 652.117 160.001 643.39 Q160.001 635.196 163.89 630.334 Q167.778 625.45 174.329 625.45 Q176.089 625.45 177.871 625.797 Q179.676 626.145 181.621 626.839 Z\" fill=\"#000000\" fill-rule=\"evenodd\" fill-opacity=\"1\" /><path clip-path=\"url(#clip910)\" d=\"M126.783 369.212 Q123.172 369.212 121.343 372.777 Q119.538 376.319 119.538 383.448 Q119.538 390.555 121.343 394.12 Q123.172 397.661 126.783 397.661 Q130.417 397.661 132.223 394.12 Q134.052 390.555 134.052 383.448 Q134.052 376.319 132.223 372.777 Q130.417 369.212 126.783 369.212 M126.783 365.509 Q132.593 365.509 135.649 370.115 Q138.728 374.698 138.728 383.448 Q138.728 392.175 135.649 396.782 Q132.593 401.365 126.783 401.365 Q120.973 401.365 117.894 396.782 Q114.839 392.175 114.839 383.448 Q114.839 374.698 117.894 370.115 Q120.973 365.509 126.783 365.509 Z\" fill=\"#000000\" fill-rule=\"evenodd\" fill-opacity=\"1\" /><path clip-path=\"url(#clip910)\" d=\"M146.945 394.814 L151.829 394.814 L151.829 400.694 L146.945 400.694 L146.945 394.814 Z\" fill=\"#000000\" fill-rule=\"evenodd\" fill-opacity=\"1\" /><path clip-path=\"url(#clip910)\" d=\"M172.014 384.282 Q168.681 384.282 166.76 386.064 Q164.862 387.847 164.862 390.971 Q164.862 394.096 166.76 395.879 Q168.681 397.661 172.014 397.661 Q175.348 397.661 177.269 395.879 Q179.19 394.073 179.19 390.971 Q179.19 387.847 177.269 386.064 Q175.371 384.282 172.014 384.282 M167.339 382.291 Q164.329 381.55 162.64 379.49 Q160.973 377.43 160.973 374.467 Q160.973 370.323 163.913 367.916 Q166.876 365.509 172.014 365.509 Q177.176 365.509 180.116 367.916 Q183.056 370.323 183.056 374.467 Q183.056 377.43 181.366 379.49 Q179.7 381.55 176.714 382.291 Q180.093 383.078 181.968 385.37 Q183.866 387.661 183.866 390.971 Q183.866 395.995 180.788 398.68 Q177.732 401.365 172.014 401.365 Q166.297 401.365 163.218 398.68 Q160.163 395.995 160.163 390.971 Q160.163 387.661 162.061 385.37 Q163.959 383.078 167.339 382.291 M165.626 374.907 Q165.626 377.592 167.292 379.097 Q168.982 380.601 172.014 380.601 Q175.024 380.601 176.714 379.097 Q178.426 377.592 178.426 374.907 Q178.426 372.222 176.714 370.717 Q175.024 369.212 172.014 369.212 Q168.982 369.212 167.292 370.717 Q165.626 372.222 165.626 374.907 Z\" fill=\"#000000\" fill-rule=\"evenodd\" fill-opacity=\"1\" /><path clip-path=\"url(#clip910)\" d=\"M117.501 136.817 L125.14 136.817 L125.14 110.451 L116.83 112.118 L116.83 107.859 L125.093 106.192 L129.769 106.192 L129.769 136.817 L137.408 136.817 L137.408 140.752 L117.501 140.752 L117.501 136.817 Z\" fill=\"#000000\" fill-rule=\"evenodd\" fill-opacity=\"1\" /><path clip-path=\"url(#clip910)\" d=\"M146.853 134.873 L151.737 134.873 L151.737 140.752 L146.853 140.752 L146.853 134.873 Z\" fill=\"#000000\" fill-rule=\"evenodd\" fill-opacity=\"1\" /><path clip-path=\"url(#clip910)\" d=\"M171.922 109.271 Q168.311 109.271 166.482 112.836 Q164.677 116.377 164.677 123.507 Q164.677 130.613 166.482 134.178 Q168.311 137.72 171.922 137.72 Q175.556 137.72 177.362 134.178 Q179.19 130.613 179.19 123.507 Q179.19 116.377 177.362 112.836 Q175.556 109.271 171.922 109.271 M171.922 105.567 Q177.732 105.567 180.788 110.174 Q183.866 114.757 183.866 123.507 Q183.866 132.234 180.788 136.84 Q177.732 141.423 171.922 141.423 Q166.112 141.423 163.033 136.84 Q159.978 132.234 159.978 123.507 Q159.978 114.757 163.033 110.174 Q166.112 105.567 171.922 105.567 Z\" fill=\"#000000\" fill-rule=\"evenodd\" fill-opacity=\"1\" /><path clip-path=\"url(#clip910)\" d=\"M56.6478 795.888 Q60.8023 796.725 63.1856 797.852 Q66.8248 799.656 66.8248 802.748 Q66.8248 804.938 65.5044 806.612 Q64.1839 808.255 61.994 808.674 Q62.9923 809.511 63.572 810.123 Q64.1517 810.703 65.0535 811.862 Q65.9231 812.989 66.3739 814.406 Q66.8248 815.823 66.8248 817.434 Q66.8248 821.363 64.7637 823.843 Q78.2579 827.192 78.9342 827.482 Q80.3191 828.416 80.3191 829.768 Q80.3191 830.606 79.8038 831.121 Q79.3207 831.636 78.5478 831.636 Q78.2901 831.604 77.485 831.411 L39.321 821.942 Q38.2904 821.685 37.7107 821.041 Q37.0988 820.364 37.0344 819.978 Q36.9378 819.591 36.9378 819.302 Q36.9378 818.432 37.4209 817.917 Q37.8718 817.369 38.7091 817.369 Q38.8379 817.369 39.5787 817.562 Q40.2872 817.724 41.3822 817.981 Q42.445 818.239 42.9281 818.368 L54.0069 821.137 Q57.8072 822.071 59.6107 822.071 Q62.3482 822.071 63.8619 820.847 Q65.3434 819.591 65.3434 817.176 Q65.3434 815.662 64.7314 814.245 Q64.0873 812.828 63.2178 811.862 Q62.3482 810.896 61.4142 810.123 Q60.4481 809.35 59.8362 808.996 Q59.192 808.641 59.031 808.609 L52.3 806.902 L39.9651 803.778 Q39.1922 803.585 38.6769 803.231 Q38.1294 802.844 37.9362 802.394 Q37.7429 801.943 37.7107 801.685 Q37.6463 801.427 37.6463 801.202 Q37.6463 800.397 38.1294 799.849 Q38.6125 799.302 39.4498 799.302 Q39.6109 799.302 40.3838 799.495 Q41.1246 799.656 42.2196 799.914 Q43.2823 800.171 43.8621 800.3 Q47.92 801.331 48.3387 801.427 L55.4562 803.263 Q55.8748 803.36 57.2275 803.682 Q58.5801 803.972 59.2887 804.133 Q59.965 804.294 60.899 804.455 Q61.8007 804.584 62.316 804.584 Q65.3434 804.584 65.3434 802.587 Q65.3434 801.814 64.8925 801.137 Q64.4094 800.461 63.7331 800.01 Q63.0567 799.527 61.8973 799.076 Q60.7057 798.593 59.7395 798.303 Q58.7412 798.014 57.1953 797.595 Q56.4545 797.434 56.2291 797.273 Q56.0037 797.112 56.0037 796.661 Q56.0037 795.888 56.6478 795.888 Z\" fill=\"#000000\" fill-rule=\"evenodd\" fill-opacity=\"1\" /><path clip-path=\"url(#clip910)\" d=\"M81.6395 792.274 Q81.3175 792.274 80.6089 792.016 L18.3872 768.731 Q18.3228 768.731 17.9685 768.57 Q17.6143 768.409 17.3888 768.313 Q17.1312 768.216 16.938 768.023 Q16.7447 767.797 16.7447 767.54 Q16.7447 766.895 17.5499 766.895 Q17.6143 766.895 18.3872 767.089 L80.6734 790.438 Q81.8006 790.824 82.1226 791.082 Q82.4447 791.308 82.4447 791.694 Q82.4447 792.274 81.6395 792.274 Z\" fill=\"#000000\" fill-rule=\"evenodd\" fill-opacity=\"1\" /><path clip-path=\"url(#clip910)\" d=\"M21.7688 713.91 Q23.0893 713.91 23.0893 715.005 Q23.1537 716.937 23.5402 718.257 Q23.8944 719.578 24.6029 720.351 Q25.3115 721.091 26.0844 721.51 Q26.8252 721.897 27.9524 722.154 L51.366 728.016 Q57.9682 729.69 62.7669 735.101 Q67.5334 740.512 67.5334 746.663 Q67.5334 750.173 66.0841 753.104 Q64.6348 756.003 61.7041 757.806 Q58.7734 759.61 54.8765 759.61 Q53.0085 759.61 51.044 759.127 L34.7478 755.133 L28.9507 753.652 Q24.6674 752.557 24.2809 752.557 Q23.669 752.557 23.5079 752.943 Q23.3147 753.297 23.2181 754.328 L23.0893 756.84 Q23.0893 757.613 23.0571 757.935 Q23.0249 758.225 22.8638 758.45 Q22.7028 758.676 22.3485 758.676 Q21.8977 758.676 21.6078 758.579 Q21.2857 758.45 21.1891 758.225 Q21.0925 757.999 21.0603 757.838 Q21.0281 757.677 21.0281 757.42 L21.2213 748.917 L21.0281 740.479 Q21.0281 739.545 21.7688 739.545 Q22.7028 739.545 22.896 739.964 Q23.0893 740.383 23.0893 741.8 Q23.0893 744.215 23.4113 745.31 Q23.7012 746.373 24.2165 746.695 Q24.6996 746.985 26.1166 747.339 L51.7847 753.748 Q53.0729 754.07 54.3612 754.263 Q55.6172 754.424 56.2613 754.424 L56.9054 754.457 Q60.9956 754.457 63.25 752.202 Q65.5044 749.916 65.5044 746.405 Q65.5044 741.252 61.4142 736.454 Q57.3241 731.623 50.9151 729.98 L27.3726 724.054 Q26.7929 723.861 25.9878 723.861 Q24.6996 723.861 23.9266 724.827 Q23.1215 725.761 23.0893 728.338 Q23.0893 729.529 22.3485 729.529 Q21.7366 729.529 21.4468 729.304 Q21.1247 729.046 21.0925 728.853 Q21.0281 728.628 21.0281 728.338 Q21.0281 727.243 21.1247 724.924 Q21.2213 722.605 21.2213 721.478 Q21.2213 720.351 21.1247 718.096 Q21.0281 715.842 21.0281 714.747 Q21.0281 714.36 21.2213 714.167 Q21.3824 713.942 21.5756 713.91 L21.7688 713.91 Z\" fill=\"#000000\" fill-rule=\"evenodd\" fill-opacity=\"1\" /><path clip-path=\"url(#clip910)\" d=\"M1176.43 26.4058 Q1176.43 27.5944 1175.9 27.8404 Q1175.41 28.0863 1173.77 28.0863 Q1171.84 28.0863 1170.65 28.2503 Q1169.46 28.3732 1168.73 28.5782 Q1167.99 28.7421 1167.54 29.316 Q1167.13 29.8898 1166.96 30.3817 Q1166.8 30.8326 1166.51 31.9393 L1155.36 76.6586 Q1154.95 78.1752 1154.95 78.7081 Q1154.95 79.2409 1155.28 79.5688 Q1155.65 79.8968 1156.55 80.0607 Q1157.46 80.1837 1158.15 80.2247 Q1158.89 80.2247 1160.41 80.2247 Q1162.29 80.2247 1162.58 80.5526 Q1162.74 80.7575 1162.74 81.1264 Q1162.74 81.9052 1162.41 82.3151 Q1162.09 82.684 1161.8 82.766 Q1161.55 82.807 1161.14 82.807 Q1159.42 82.807 1155.9 82.684 Q1152.37 82.5611 1150.65 82.5611 L1140.24 82.807 Q1139.01 82.807 1139.01 81.7823 Q1139.01 81.0035 1139.34 80.6756 Q1139.67 80.3067 1140.03 80.2657 Q1140.4 80.2247 1141.35 80.2247 Q1144.71 80.2247 1146.14 79.8558 Q1147.62 79.4869 1148.03 78.831 Q1148.48 78.1342 1148.97 76.2487 L1160.98 28.1683 L1160.9 28.1683 L1127 81.2904 L1126.75 81.6593 Q1126.51 81.9872 1126.43 82.1102 Q1126.34 82.1922 1126.1 82.4381 Q1125.89 82.643 1125.65 82.725 Q1125.44 82.807 1125.16 82.807 Q1124.66 82.807 1124.38 82.4791 Q1124.13 82.1512 1124.05 81.9052 Q1124.01 81.6183 1123.88 80.8805 L1116.67 28.8241 L1116.59 28.8241 L1105.15 74.5682 Q1104.82 75.8388 1104.82 76.4947 Q1104.82 78.1752 1106.01 79.1999 Q1107.24 80.1837 1110.52 80.2247 Q1112.04 80.2247 1112.04 81.1264 Q1112.04 82.807 1110.52 82.807 Q1109.13 82.807 1106.22 82.684 Q1103.31 82.5611 1101.87 82.5611 Q1100.48 82.5611 1097.65 82.684 Q1094.86 82.807 1093.51 82.807 Q1092.32 82.807 1092.32 81.7823 Q1092.32 80.2247 1093.84 80.2247 Q1096.3 80.1427 1097.98 79.6508 Q1099.66 79.159 1100.6 78.2162 Q1101.59 77.2734 1102.04 76.3307 Q1102.53 75.347 1102.9 73.9123 L1113.56 31.1605 Q1113.88 29.8079 1113.88 29.6029 Q1113.88 28.9061 1113.47 28.6602 Q1113.1 28.3732 1112.04 28.2503 Q1109.99 28.0863 1108.43 28.0863 Q1107.41 28.0863 1107 28.0453 Q1106.63 28.0043 1106.3 27.7994 Q1106.01 27.5535 1106.01 27.0616 Q1106.01 26.2828 1106.34 25.9549 Q1106.71 25.586 1107.12 25.545 Q1107.53 25.463 1108.51 25.463 L1120.03 25.463 Q1121.71 25.463 1122.08 25.7499 Q1122.45 25.9959 1122.61 27.3895 L1129.17 74.8961 L1159.83 27.0616 Q1160.61 25.8729 1161.02 25.6679 Q1161.43 25.463 1163.07 25.463 L1174.18 25.463 Q1175.08 25.463 1175.45 25.504 Q1175.82 25.545 1176.11 25.7499 Q1176.43 25.9549 1176.43 26.4058 Z\" fill=\"#000000\" fill-rule=\"evenodd\" fill-opacity=\"1\" /><path clip-path=\"url(#clip910)\" d=\"M1216.96 59.894 Q1216.96 64.3618 1214.99 68.7887 Q1213.02 73.1745 1209.87 76.4537 Q1206.75 79.6918 1202.65 81.7413 Q1198.55 83.7498 1194.46 83.7498 Q1188.59 83.7498 1184.78 79.7738 Q1181.01 75.7568 1181.01 69.5265 Q1181.01 63.706 1184.25 58.1724 Q1187.53 52.5979 1192.77 49.1548 Q1198.02 45.7117 1203.51 45.7117 Q1209.29 45.7117 1213.11 49.6057 Q1216.96 53.4997 1216.96 59.894 M1210.81 56.6149 Q1210.81 52.6389 1208.88 50.0976 Q1206.96 47.5562 1203.43 47.5562 Q1202.41 47.5562 1201.22 47.8841 Q1200.03 48.1711 1198.47 48.9499 Q1196.96 49.7287 1195.23 51.3682 Q1193.55 52.9668 1192.08 55.2622 Q1190.15 58.2954 1188.68 63.87 Q1187.24 69.4035 1187.24 72.7236 Q1187.24 77.3144 1189.37 79.6098 Q1191.5 81.8642 1194.54 81.8642 Q1197.49 81.8642 1200.6 79.8148 Q1203.76 77.7243 1205.93 74.1583 Q1208.1 70.4692 1209.46 65.0586 Q1210.81 59.6071 1210.81 56.6149 Z\" fill=\"#000000\" fill-rule=\"evenodd\" fill-opacity=\"1\" /><path clip-path=\"url(#clip910)\" d=\"M1243.8 47.5562 Q1243.8 48.7039 1243.27 48.9908 Q1242.73 49.2368 1241.26 49.2368 L1233.39 49.2368 L1227.16 73.9943 Q1226.67 76.1667 1226.67 78.0113 Q1226.67 80.0607 1227.28 80.9625 Q1227.94 81.8642 1229.29 81.8642 Q1231.95 81.8642 1234.82 79.4459 Q1237.73 77.0275 1240.19 71.1251 Q1240.52 70.3463 1240.68 70.1823 Q1240.89 69.9774 1241.42 69.9774 Q1242.45 69.9774 1242.45 70.7971 Q1242.45 71.0841 1241.87 72.3957 Q1241.34 73.7074 1240.15 75.6339 Q1239 77.5604 1237.49 79.3639 Q1236.01 81.1674 1233.76 82.4791 Q1231.5 83.7498 1229.08 83.7498 Q1225.68 83.7498 1223.51 81.5773 Q1221.38 79.4049 1221.38 76.0028 Q1221.38 74.8961 1222.24 71.371 Q1223.1 67.8049 1227.77 49.2368 L1220.35 49.2368 Q1219.33 49.2368 1218.92 49.1958 Q1218.55 49.1548 1218.26 48.9499 Q1218.02 48.7039 1218.02 48.212 Q1218.02 47.4333 1218.35 47.1053 Q1218.67 46.7364 1219.08 46.6954 Q1219.53 46.6135 1220.56 46.6135 L1228.43 46.6135 L1231.71 33.292 Q1232.04 31.9803 1232.86 31.2425 Q1233.72 30.4637 1234.21 30.3817 Q1234.7 30.2587 1235.07 30.2587 Q1236.18 30.2587 1236.83 30.8736 Q1237.49 31.4474 1237.49 32.5132 Q1237.49 33.087 1234.04 46.6135 L1241.42 46.6135 Q1242.37 46.6135 1242.73 46.6545 Q1243.14 46.6954 1243.47 46.9004 Q1243.8 47.1053 1243.8 47.5562 Z\" fill=\"#000000\" fill-rule=\"evenodd\" fill-opacity=\"1\" /><path clip-path=\"url(#clip910)\" d=\"M1272.79 47.5562 Q1272.79 48.7039 1272.26 48.9908 Q1271.73 49.2368 1270.25 49.2368 L1262.38 49.2368 L1256.15 73.9943 Q1255.66 76.1667 1255.66 78.0113 Q1255.66 80.0607 1256.27 80.9625 Q1256.93 81.8642 1258.28 81.8642 Q1260.95 81.8642 1263.82 79.4459 Q1266.73 77.0275 1269.19 71.1251 Q1269.51 70.3463 1269.68 70.1823 Q1269.88 69.9774 1270.41 69.9774 Q1271.44 69.9774 1271.44 70.7971 Q1271.44 71.0841 1270.87 72.3957 Q1270.33 73.7074 1269.14 75.6339 Q1268 77.5604 1266.48 79.3639 Q1265 81.1674 1262.75 82.4791 Q1260.5 83.7498 1258.08 83.7498 Q1254.67 83.7498 1252.5 81.5773 Q1250.37 79.4049 1250.37 76.0028 Q1250.37 74.8961 1251.23 71.371 Q1252.09 67.8049 1256.77 49.2368 L1249.35 49.2368 Q1248.32 49.2368 1247.91 49.1958 Q1247.54 49.1548 1247.26 48.9499 Q1247.01 48.7039 1247.01 48.212 Q1247.01 47.4333 1247.34 47.1053 Q1247.67 46.7364 1248.08 46.6954 Q1248.53 46.6135 1249.55 46.6135 L1257.42 46.6135 L1260.7 33.292 Q1261.03 31.9803 1261.85 31.2425 Q1262.71 30.4637 1263.2 30.3817 Q1263.69 30.2587 1264.06 30.2587 Q1265.17 30.2587 1265.82 30.8736 Q1266.48 31.4474 1266.48 32.5132 Q1266.48 33.087 1263.04 46.6135 L1270.41 46.6135 Q1271.36 46.6135 1271.73 46.6545 Q1272.14 46.6954 1272.46 46.9004 Q1272.79 47.1053 1272.79 47.5562 Z\" fill=\"#000000\" fill-rule=\"evenodd\" fill-opacity=\"1\" /><path clip-path=\"url(#clip910)\" d=\"M1317.14 25.463 L1305.05 73.9943 Q1304.56 75.9208 1304.56 78.0113 Q1304.56 81.8642 1307.1 81.8642 Q1308.29 81.8642 1309.28 81.0855 Q1310.26 80.2657 1311 78.6671 Q1311.78 77.0275 1312.27 75.4699 Q1312.8 73.9123 1313.46 71.494 Q1313.66 70.5512 1313.87 70.2643 Q1314.07 69.9774 1314.64 69.9774 Q1315.67 69.9774 1315.67 70.7971 Q1314.64 75.8388 1313.13 79.036 Q1310.91 83.7498 1306.82 83.7498 Q1303.74 83.7498 1301.45 81.6183 Q1299.19 79.4459 1299.19 76.0028 Q1299.19 74.6911 1299.6 73.1335 L1310.18 31.1605 L1310.46 29.5209 Q1310.46 29.0701 1310.3 28.8241 Q1310.14 28.5782 1309.15 28.3322 Q1308.21 28.0863 1306.32 28.0863 Q1305.55 28.0863 1305.18 28.0453 Q1304.85 28.0043 1304.52 27.7994 Q1304.23 27.5944 1304.23 27.1436 Q1304.23 26.4058 1304.52 25.9959 Q1304.85 25.586 1305.09 25.504 Q1305.34 25.422 1305.83 25.381 Q1306.53 25.34 1308.87 25.1351 Q1311.2 24.8892 1313.21 24.7252 Q1315.22 24.5612 1316.08 24.5612 Q1316.57 24.5612 1316.82 24.8072 Q1317.1 25.0121 1317.14 25.2581 L1317.14 25.463 Z\" fill=\"#000000\" fill-rule=\"evenodd\" fill-opacity=\"1\" /><path clip-path=\"url(#clip910)\" d=\"M1362.59 59.894 Q1362.59 64.3618 1360.62 68.7887 Q1358.66 73.1745 1355.5 76.4537 Q1352.38 79.6918 1348.29 81.7413 Q1344.19 83.7498 1340.09 83.7498 Q1334.23 83.7498 1330.41 79.7738 Q1326.64 75.7568 1326.64 69.5265 Q1326.64 63.706 1329.88 58.1724 Q1333.16 52.5979 1338.41 49.1548 Q1343.65 45.7117 1349.15 45.7117 Q1354.93 45.7117 1358.74 49.6057 Q1362.59 53.4997 1362.59 59.894 M1356.44 56.6149 Q1356.44 52.6389 1354.52 50.0976 Q1352.59 47.5562 1349.06 47.5562 Q1348.04 47.5562 1346.85 47.8841 Q1345.66 48.1711 1344.1 48.9499 Q1342.59 49.7287 1340.87 51.3682 Q1339.19 52.9668 1337.71 55.2622 Q1335.78 58.2954 1334.31 63.87 Q1332.87 69.4035 1332.87 72.7236 Q1332.87 77.3144 1335.01 79.6098 Q1337.14 81.8642 1340.17 81.8642 Q1343.12 81.8642 1346.24 79.8148 Q1349.39 77.7243 1351.56 74.1583 Q1353.74 70.4692 1355.09 65.0586 Q1356.44 59.6071 1356.44 56.6149 Z\" fill=\"#000000\" fill-rule=\"evenodd\" fill-opacity=\"1\" /><path clip-path=\"url(#clip910)\" d=\"M1397.86 59.1152 Q1397.86 65.0177 1394.87 70.7971 Q1391.92 76.5356 1387.16 80.1427 Q1382.45 83.7498 1377.61 83.7498 Q1372.9 83.7498 1369.91 80.1427 Q1366.96 76.4947 1366.96 70.5512 Q1366.96 68.4608 1367.2 66.9851 Q1367.45 65.5095 1368.31 62.0664 L1375.19 34.6856 Q1376.38 29.5619 1376.38 29.5209 Q1376.38 29.0291 1376.18 28.7831 Q1376.01 28.4962 1375.03 28.2913 Q1374.05 28.0863 1372.16 28.0863 Q1371.38 28.0863 1371.01 28.0453 Q1370.69 28.0043 1370.4 27.7994 Q1370.15 27.5535 1370.15 27.0616 Q1370.15 26.3648 1370.44 25.9959 Q1370.77 25.586 1371.01 25.504 Q1371.26 25.422 1371.75 25.381 Q1372.45 25.34 1374.78 25.1351 Q1377.12 24.8892 1379.13 24.7252 Q1381.14 24.5612 1382 24.5612 Q1382.49 24.5612 1382.74 24.8072 Q1383.02 25.0121 1383.02 25.2581 L1383.06 25.463 L1376.87 50.7534 Q1381.75 45.7117 1386.71 45.7117 Q1391.67 45.7117 1394.75 49.5237 Q1397.86 53.3357 1397.86 59.1152 M1391.79 55.4262 Q1391.79 51.5322 1390.32 49.5647 Q1388.88 47.5562 1386.51 47.5562 Q1384.5 47.5562 1381.88 49.0728 Q1379.25 50.5894 1376.46 54.2785 Q1375.93 54.9753 1375.73 55.3852 Q1375.56 55.7951 1375.19 57.1887 L1373.35 64.9357 Q1372 70.2233 1372 73.4205 Q1372 77.7653 1373.6 79.8148 Q1375.19 81.8642 1377.61 81.8642 Q1380.15 81.8642 1382.82 79.6098 Q1385.48 77.3554 1387.53 73.2565 Q1388.8 70.5512 1390.28 64.7307 Q1391.79 58.8693 1391.79 55.4262 Z\" fill=\"#000000\" fill-rule=\"evenodd\" fill-opacity=\"1\" /><path clip-path=\"url(#clip910)\" d=\"M1434.53 73.0925 Q1434.86 73.4614 1434.86 73.8303 Q1434.86 74.1993 1434.04 75.265 Q1433.26 76.3307 1431.58 77.7653 Q1429.9 79.1999 1427.72 80.5526 Q1425.55 81.9052 1422.36 82.807 Q1419.16 83.7498 1415.8 83.7498 Q1409.77 83.7498 1406.16 79.4459 Q1402.6 75.142 1402.6 68.5427 Q1402.6 64.3208 1403.99 60.5908 Q1405.39 56.8198 1407.64 54.1555 Q1409.94 51.4912 1412.8 49.5647 Q1415.71 47.5972 1418.75 46.6545 Q1421.78 45.7117 1424.61 45.7117 Q1428.75 45.7117 1431.17 47.8022 Q1433.59 49.8926 1433.59 52.8438 Q1433.59 53.5407 1433.38 54.4014 Q1433.22 55.2622 1432.64 56.6149 Q1432.11 57.9675 1430.72 59.3201 Q1429.32 60.6318 1427.27 61.4926 Q1422.72 63.4191 1414.44 63.4191 L1409.98 63.4191 Q1408.66 68.7067 1408.66 72.1498 Q1408.66 73.5024 1408.91 74.8961 Q1409.16 76.2487 1409.81 77.9703 Q1410.51 79.6918 1412.07 80.7985 Q1413.67 81.8642 1415.96 81.8642 Q1416.7 81.8642 1417.48 81.8233 Q1418.3 81.7823 1420.35 81.3314 Q1422.44 80.8805 1424.28 80.1017 Q1426.13 79.3229 1428.46 77.6424 Q1430.84 75.9208 1432.73 73.5844 Q1433.38 72.7236 1433.83 72.7236 Q1434.2 72.7236 1434.53 73.0925 M1430.8 52.8438 Q1430.8 50.5894 1429.12 49.0728 Q1427.48 47.5562 1424.61 47.5562 Q1423.71 47.5562 1422.6 47.7612 Q1421.49 47.9661 1419.65 48.8269 Q1417.85 49.6877 1416.25 51.1223 Q1414.65 52.5159 1413.05 55.2622 Q1411.45 57.9675 1410.51 61.5746 L1413.95 61.5746 Q1415.14 61.5746 1416 61.5746 Q1416.86 61.5336 1418.75 61.3696 Q1420.67 61.2057 1422.07 60.9187 Q1423.46 60.5908 1425.22 59.935 Q1426.99 59.2792 1428.09 58.4184 Q1429.24 57.5166 1430.02 56.082 Q1430.8 54.6474 1430.8 52.8438 Z\" fill=\"#000000\" fill-rule=\"evenodd\" fill-opacity=\"1\" /><path clip-path=\"url(#clip910)\" d=\"M1472.23 52.9258 Q1472.23 55.2212 1471.09 56.4509 Q1469.94 57.6396 1468.38 57.6396 Q1467.11 57.6396 1466.41 56.9018 Q1465.76 56.164 1465.76 55.1802 Q1465.76 53.7456 1466.9 52.5979 Q1468.09 51.4502 1469.81 51.4092 Q1469.24 49.8926 1467.72 48.9908 Q1466.21 48.0481 1464.85 47.8022 Q1463.54 47.5562 1462.23 47.5562 Q1459.65 47.5562 1457.68 48.376 Q1455.71 49.1958 1454.73 50.4665 Q1453.75 51.6961 1453.3 52.8848 Q1452.84 54.0735 1452.84 55.0982 Q1452.84 56 1453.05 56.7378 Q1453.3 57.4346 1453.87 57.9675 Q1454.44 58.4594 1454.85 58.7873 Q1455.3 59.1152 1456.29 59.4021 Q1457.27 59.689 1457.68 59.812 Q1458.09 59.894 1459.24 60.1399 Q1461.62 60.6318 1462.68 60.9187 Q1463.75 61.1647 1465.14 61.8615 Q1466.58 62.5583 1467.64 63.665 Q1470.22 66.2473 1470.22 69.8134 Q1470.22 71.1251 1469.77 72.7236 Q1469.36 74.3222 1468.17 76.3307 Q1466.99 78.3392 1465.18 79.9378 Q1463.38 81.5363 1460.26 82.643 Q1457.19 83.7498 1453.34 83.7498 Q1447.97 83.7498 1444.65 81.4953 Q1441.33 79.1999 1441.33 75.5929 Q1441.33 72.9696 1442.76 71.5349 Q1444.2 70.0593 1446.04 70.0593 Q1447.43 70.0593 1448.3 70.8381 Q1449.16 71.5759 1449.16 72.9696 Q1449.16 74.8551 1447.64 76.2897 Q1446.12 77.7243 1443.87 77.4374 Q1445.79 81.8642 1453.42 81.8642 Q1456.29 81.8642 1458.5 81.1264 Q1460.76 80.3476 1461.99 79.2819 Q1463.26 78.1752 1464.08 76.8226 Q1464.9 75.4699 1465.14 74.4452 Q1465.43 73.4205 1465.43 72.6417 Q1465.43 71.289 1464.9 70.2643 Q1464.36 69.2395 1463.63 68.6657 Q1462.93 68.0509 1461.58 67.559 Q1460.26 67.0261 1459.32 66.8212 Q1458.38 66.6162 1456.7 66.2883 Q1455.92 66.1244 1455.43 66.0424 Q1454.94 65.9194 1453.91 65.5915 Q1452.93 65.2226 1452.23 64.8537 Q1451.57 64.4848 1450.71 63.829 Q1449.85 63.1731 1449.32 62.3943 Q1448.79 61.6155 1448.42 60.4678 Q1448.05 59.3201 1448.05 57.9675 Q1448.05 56.7378 1448.42 55.2622 Q1448.83 53.7866 1449.85 52.065 Q1450.92 50.3435 1452.44 48.9499 Q1453.95 47.5562 1456.49 46.6545 Q1459.08 45.7117 1462.23 45.7117 Q1466.82 45.7117 1469.53 47.8431 Q1472.23 49.9336 1472.23 52.9258 Z\" fill=\"#000000\" fill-rule=\"evenodd\" fill-opacity=\"1\" /><polyline clip-path=\"url(#clip912)\" style=\"stroke:#009af9; stroke-linecap:butt; stroke-linejoin:round; stroke-width:4; stroke-opacity:1; fill:none\" points=\"\n",
       "  219.866,1423.18 433.155,1308.27 646.444,1241.67 859.733,1242.29 1073.02,1295.43 1286.31,1377.82 1499.6,1475.49 1712.89,1581.67 1926.18,1693.06 2139.47,1807.91 \n",
       "  2352.76,1925.2 \n",
       "  \"/>\n",
       "<polyline clip-path=\"url(#clip912)\" style=\"stroke:#e26f46; stroke-linecap:butt; stroke-linejoin:round; stroke-width:4; stroke-opacity:1; fill:none\" points=\"\n",
       "  219.866,123.472 433.155,377.561 646.444,601.562 859.733,776.604 1073.02,915.322 1286.31,1037.73 1499.6,1154.76 1712.89,1270.79 1926.18,1387.4 2139.47,1505.07 \n",
       "  2352.76,1623.88 \n",
       "  \"/>\n",
       "<polyline clip-path=\"url(#clip912)\" style=\"stroke:#3da44d; stroke-linecap:butt; stroke-linejoin:round; stroke-width:4; stroke-opacity:1; fill:none\" points=\"\n",
       "  219.866,1423.18 433.155,1306.41 646.444,1220.84 859.733,1189 1073.02,1224.09 1286.31,1301.53 1499.6,1398.22 1712.89,1504.08 1926.18,1615.06 2139.47,1729.33 \n",
       "  2352.76,1845.92 \n",
       "  \"/>\n",
       "<polyline clip-path=\"url(#clip912)\" style=\"stroke:#c271d2; stroke-linecap:butt; stroke-linejoin:round; stroke-width:4; stroke-opacity:1; fill:none\" points=\"\n",
       "  219.866,123.472 433.155,379.175 646.444,619.815 859.733,822.691 1073.02,974.646 1286.31,1098.03 1499.6,1212.84 1712.89,1326.55 1926.18,1441.24 2139.47,1557.39 \n",
       "  2352.76,1674.96 \n",
       "  \"/>\n",
       "<polyline clip-path=\"url(#clip912)\" style=\"stroke:#ac8d18; stroke-linecap:butt; stroke-linejoin:round; stroke-width:4; stroke-opacity:1; fill:none\" points=\"\n",
       "  219.866,1423.18 433.155,1306.38 646.444,1218.73 859.733,1176.92 1073.02,1203.6 1286.31,1279.34 1499.6,1376.21 1712.89,1482.33 1926.18,1593.43 2139.47,1707.7 \n",
       "  2352.76,1824.23 \n",
       "  \"/>\n",
       "<path clip-path=\"url(#clip910)\" d=\"\n",
       "M1787.16 477.836 L2281.66 477.836 L2281.66 166.796 L1787.16 166.796  Z\n",
       "  \" fill=\"#ffffff\" fill-rule=\"evenodd\" fill-opacity=\"1\"/>\n",
       "<polyline clip-path=\"url(#clip910)\" style=\"stroke:#000000; stroke-linecap:butt; stroke-linejoin:round; stroke-width:4; stroke-opacity:1; fill:none\" points=\"\n",
       "  1787.16,477.836 2281.66,477.836 2281.66,166.796 1787.16,166.796 1787.16,477.836 \n",
       "  \"/>\n",
       "<polyline clip-path=\"url(#clip910)\" style=\"stroke:#009af9; stroke-linecap:butt; stroke-linejoin:round; stroke-width:4; stroke-opacity:1; fill:none\" points=\"\n",
       "  1810.86,218.636 1953.05,218.636 \n",
       "  \"/>\n",
       "<path clip-path=\"url(#clip910)\" d=\"M1976.75 226.859 Q1976.75 225.431 1977.52 224.892 Q1978.29 224.33 1979.11 224.33 Q1980.21 224.33 1980.85 225.032 Q1981.5 225.712 1981.5 226.672 Q1981.5 227.632 1980.85 228.335 Q1980.21 229.014 1979.11 229.014 Q1978.58 229.014 1978.29 228.921 Q1978.93 231.122 1980.85 232.715 Q1982.79 234.308 1985.34 234.308 Q1988.55 234.308 1990.47 231.193 Q1991.62 229.178 1991.62 224.611 Q1991.62 220.582 1990.75 218.568 Q1989.42 215.5 1986.68 215.5 Q1982.79 215.5 1980.5 218.849 Q1980.21 219.271 1979.89 219.294 Q1979.42 219.294 1979.3 219.036 Q1979.21 218.755 1979.21 218.029 L1979.21 203.835 Q1979.21 202.687 1979.68 202.687 Q1979.86 202.687 1980.26 202.828 Q1983.28 204.163 1986.63 204.187 Q1990.08 204.187 1993.17 202.781 Q1993.4 202.641 1993.54 202.641 Q1994.01 202.641 1994.03 203.179 Q1994.03 203.367 1993.64 203.929 Q1993.26 204.468 1992.44 205.194 Q1991.62 205.896 1990.57 206.576 Q1989.51 207.255 1987.97 207.723 Q1986.45 208.168 1984.76 208.168 Q1982.74 208.168 1980.68 207.536 L1980.68 216.881 Q1983.17 214.446 1986.77 214.446 Q1990.61 214.446 1993.26 217.537 Q1995.91 220.629 1995.91 224.939 Q1995.91 229.459 1992.77 232.551 Q1989.65 235.643 1985.44 235.643 Q1981.6 235.643 1979.16 232.902 Q1976.75 230.162 1976.75 226.859 Z\" fill=\"#000000\" fill-rule=\"evenodd\" fill-opacity=\"1\" /><path clip-path=\"url(#clip910)\" d=\"M2030.83 217.514 Q2030.83 218.826 2030.17 219.528 Q2029.52 220.207 2028.63 220.207 Q2027.9 220.207 2027.5 219.786 Q2027.13 219.364 2027.13 218.802 Q2027.13 217.982 2027.78 217.326 Q2028.46 216.671 2029.45 216.647 Q2029.12 215.781 2028.25 215.265 Q2027.39 214.727 2026.61 214.586 Q2025.86 214.446 2025.11 214.446 Q2023.64 214.446 2022.51 214.914 Q2021.39 215.382 2020.83 216.109 Q2020.27 216.811 2020.01 217.49 Q2019.75 218.17 2019.75 218.755 Q2019.75 219.271 2019.87 219.692 Q2020.01 220.09 2020.34 220.395 Q2020.66 220.676 2020.9 220.863 Q2021.16 221.051 2021.72 221.215 Q2022.28 221.379 2022.51 221.449 Q2022.75 221.496 2023.4 221.636 Q2024.76 221.917 2025.37 222.081 Q2025.98 222.222 2026.78 222.62 Q2027.6 223.018 2028.21 223.651 Q2029.68 225.126 2029.68 227.164 Q2029.68 227.913 2029.42 228.827 Q2029.19 229.74 2028.51 230.888 Q2027.83 232.036 2026.8 232.949 Q2025.77 233.863 2023.99 234.495 Q2022.23 235.128 2020.03 235.128 Q2016.96 235.128 2015.07 233.839 Q2013.17 232.528 2013.17 230.466 Q2013.17 228.967 2013.99 228.148 Q2014.81 227.304 2015.86 227.304 Q2016.66 227.304 2017.15 227.749 Q2017.64 228.171 2017.64 228.967 Q2017.64 230.045 2016.78 230.865 Q2015.91 231.684 2014.62 231.521 Q2015.72 234.05 2020.08 234.05 Q2021.72 234.05 2022.98 233.629 Q2024.27 233.183 2024.97 232.575 Q2025.7 231.942 2026.17 231.169 Q2026.64 230.396 2026.78 229.811 Q2026.94 229.225 2026.94 228.78 Q2026.94 228.007 2026.64 227.422 Q2026.33 226.836 2025.91 226.508 Q2025.51 226.157 2024.74 225.876 Q2023.99 225.571 2023.45 225.454 Q2022.91 225.337 2021.95 225.15 Q2021.51 225.056 2021.23 225.009 Q2020.95 224.939 2020.36 224.751 Q2019.8 224.541 2019.4 224.33 Q2019.02 224.119 2018.53 223.744 Q2018.04 223.369 2017.74 222.924 Q2017.43 222.479 2017.22 221.824 Q2017.01 221.168 2017.01 220.395 Q2017.01 219.692 2017.22 218.849 Q2017.46 218.006 2018.04 217.022 Q2018.65 216.038 2019.52 215.242 Q2020.38 214.446 2021.84 213.93 Q2023.31 213.392 2025.11 213.392 Q2027.74 213.392 2029.28 214.609 Q2030.83 215.804 2030.83 217.514 Z\" fill=\"#000000\" fill-rule=\"evenodd\" fill-opacity=\"1\" /><path clip-path=\"url(#clip910)\" d=\"M2046.53 204.608 Q2046.53 205.639 2045.69 206.412 Q2044.87 207.161 2043.98 207.161 Q2043.16 207.161 2042.64 206.669 Q2042.15 206.154 2042.15 205.428 Q2042.15 204.468 2042.97 203.671 Q2043.79 202.875 2044.75 202.875 Q2045.55 202.875 2046.04 203.367 Q2046.53 203.859 2046.53 204.608 M2046.95 227.726 Q2046.95 227.913 2046.74 228.663 Q2046.53 229.389 2046.02 230.513 Q2045.53 231.614 2044.85 232.645 Q2044.17 233.675 2043.04 234.401 Q2041.94 235.128 2040.68 235.128 Q2038.97 235.128 2037.84 234.003 Q2036.74 232.879 2036.74 231.193 Q2036.74 230.279 2037.84 227.351 Q2041.03 218.826 2041.15 218.474 Q2041.68 217.139 2041.68 215.968 Q2041.68 215.429 2041.57 215.101 Q2041.45 214.75 2041.22 214.633 Q2040.98 214.492 2040.84 214.469 Q2040.72 214.446 2040.49 214.446 Q2039.11 214.446 2037.82 215.851 Q2036.53 217.256 2035.64 220.395 Q2035.45 220.98 2035.34 221.121 Q2035.22 221.261 2034.87 221.261 Q2034.28 221.238 2034.28 220.77 Q2034.28 220.629 2034.45 220.09 Q2034.61 219.528 2034.92 218.685 Q2035.22 217.818 2035.76 216.928 Q2036.3 216.015 2036.95 215.218 Q2037.63 214.422 2038.59 213.907 Q2039.55 213.392 2040.63 213.392 Q2042.39 213.392 2043.46 214.539 Q2044.57 215.664 2044.57 217.326 Q2044.57 218.24 2043.93 219.856 Q2043.16 221.964 2042.88 222.643 L2041.01 227.679 Q2040.33 229.506 2040.12 230.068 Q2039.93 230.607 2039.76 231.263 Q2039.62 231.895 2039.62 232.481 Q2039.62 233.301 2039.88 233.675 Q2040.16 234.05 2040.77 234.05 Q2042.46 234.05 2043.7 232.387 Q2044.94 230.701 2045.67 228.124 Q2045.69 228.054 2045.71 227.937 Q2045.9 227.351 2046.09 227.281 Q2046.18 227.258 2046.37 227.258 Q2046.95 227.258 2046.95 227.726 Z\" fill=\"#000000\" fill-rule=\"evenodd\" fill-opacity=\"1\" /><path clip-path=\"url(#clip910)\" d=\"M2065.77 214.446 Q2065.77 215.101 2065.47 215.265 Q2065.17 215.406 2064.32 215.406 L2059.82 215.406 L2056.26 229.553 Q2055.98 230.794 2055.98 231.848 Q2055.98 233.02 2056.33 233.535 Q2056.71 234.05 2057.48 234.05 Q2059.01 234.05 2060.64 232.668 Q2062.31 231.286 2063.71 227.913 Q2063.9 227.468 2063.99 227.375 Q2064.11 227.258 2064.42 227.258 Q2065 227.258 2065 227.726 Q2065 227.89 2064.67 228.64 Q2064.37 229.389 2063.69 230.49 Q2063.03 231.591 2062.17 232.621 Q2061.32 233.652 2060.04 234.401 Q2058.75 235.128 2057.37 235.128 Q2055.42 235.128 2054.18 233.886 Q2052.96 232.645 2052.96 230.701 Q2052.96 230.068 2053.45 228.054 Q2053.95 226.016 2056.62 215.406 L2052.38 215.406 Q2051.79 215.406 2051.56 215.382 Q2051.35 215.359 2051.18 215.242 Q2051.04 215.101 2051.04 214.82 Q2051.04 214.375 2051.23 214.188 Q2051.42 213.977 2051.65 213.954 Q2051.91 213.907 2052.49 213.907 L2056.99 213.907 L2058.86 206.295 Q2059.05 205.545 2059.52 205.123 Q2060.01 204.678 2060.29 204.632 Q2060.57 204.561 2060.79 204.561 Q2061.42 204.561 2061.79 204.913 Q2062.17 205.241 2062.17 205.85 Q2062.17 206.177 2060.2 213.907 L2064.42 213.907 Q2064.95 213.907 2065.17 213.93 Q2065.4 213.954 2065.59 214.071 Q2065.77 214.188 2065.77 214.446 Z\" fill=\"#000000\" fill-rule=\"evenodd\" fill-opacity=\"1\" /><path clip-path=\"url(#clip910)\" d=\"M2085.31 229.038 Q2085.5 229.249 2085.5 229.459 Q2085.5 229.67 2085.03 230.279 Q2084.59 230.888 2083.62 231.708 Q2082.66 232.528 2081.42 233.301 Q2080.18 234.074 2078.35 234.589 Q2076.53 235.128 2074.61 235.128 Q2071.16 235.128 2069.1 232.668 Q2067.07 230.209 2067.07 226.438 Q2067.07 224.025 2067.86 221.894 Q2068.66 219.739 2069.95 218.217 Q2071.26 216.694 2072.9 215.593 Q2074.56 214.469 2076.29 213.93 Q2078.03 213.392 2079.64 213.392 Q2082.01 213.392 2083.39 214.586 Q2084.77 215.781 2084.77 217.467 Q2084.77 217.865 2084.66 218.357 Q2084.56 218.849 2084.23 219.622 Q2083.93 220.395 2083.13 221.168 Q2082.34 221.917 2081.17 222.409 Q2078.57 223.51 2073.83 223.51 L2071.28 223.51 Q2070.53 226.532 2070.53 228.499 Q2070.53 229.272 2070.67 230.068 Q2070.81 230.841 2071.19 231.825 Q2071.59 232.809 2072.48 233.441 Q2073.39 234.05 2074.7 234.05 Q2075.12 234.05 2075.57 234.027 Q2076.04 234.003 2077.21 233.746 Q2078.4 233.488 2079.46 233.043 Q2080.51 232.598 2081.84 231.638 Q2083.2 230.654 2084.28 229.319 Q2084.66 228.827 2084.91 228.827 Q2085.12 228.827 2085.31 229.038 M2083.18 217.467 Q2083.18 216.179 2082.22 215.312 Q2081.28 214.446 2079.64 214.446 Q2079.13 214.446 2078.5 214.563 Q2077.86 214.68 2076.81 215.172 Q2075.78 215.664 2074.86 216.483 Q2073.95 217.28 2073.04 218.849 Q2072.12 220.395 2071.59 222.456 L2073.55 222.456 Q2074.23 222.456 2074.72 222.456 Q2075.22 222.433 2076.29 222.339 Q2077.39 222.245 2078.19 222.081 Q2078.99 221.894 2079.99 221.519 Q2081 221.144 2081.63 220.652 Q2082.29 220.137 2082.73 219.317 Q2083.18 218.498 2083.18 217.467 Z\" fill=\"#000000\" fill-rule=\"evenodd\" fill-opacity=\"1\" /><path clip-path=\"url(#clip910)\" d=\"M2106.85 217.514 Q2106.85 218.826 2106.2 219.528 Q2105.54 220.207 2104.65 220.207 Q2103.92 220.207 2103.53 219.786 Q2103.15 219.364 2103.15 218.802 Q2103.15 217.982 2103.81 217.326 Q2104.49 216.671 2105.47 216.647 Q2105.14 215.781 2104.28 215.265 Q2103.41 214.727 2102.64 214.586 Q2101.89 214.446 2101.14 214.446 Q2099.66 214.446 2098.54 214.914 Q2097.41 215.382 2096.85 216.109 Q2096.29 216.811 2096.03 217.49 Q2095.77 218.17 2095.77 218.755 Q2095.77 219.271 2095.89 219.692 Q2096.03 220.09 2096.36 220.395 Q2096.69 220.676 2096.92 220.863 Q2097.18 221.051 2097.74 221.215 Q2098.3 221.379 2098.54 221.449 Q2098.77 221.496 2099.43 221.636 Q2100.79 221.917 2101.39 222.081 Q2102 222.222 2102.8 222.62 Q2103.62 223.018 2104.23 223.651 Q2105.7 225.126 2105.7 227.164 Q2105.7 227.913 2105.45 228.827 Q2105.21 229.74 2104.53 230.888 Q2103.85 232.036 2102.82 232.949 Q2101.79 233.863 2100.01 234.495 Q2098.26 235.128 2096.05 235.128 Q2092.99 235.128 2091.09 233.839 Q2089.19 232.528 2089.19 230.466 Q2089.19 228.967 2090.01 228.148 Q2090.83 227.304 2091.89 227.304 Q2092.68 227.304 2093.17 227.749 Q2093.67 228.171 2093.67 228.967 Q2093.67 230.045 2092.8 230.865 Q2091.93 231.684 2090.64 231.521 Q2091.74 234.05 2096.1 234.05 Q2097.74 234.05 2099.01 233.629 Q2100.29 233.183 2101 232.575 Q2101.72 231.942 2102.19 231.169 Q2102.66 230.396 2102.8 229.811 Q2102.96 229.225 2102.96 228.78 Q2102.96 228.007 2102.66 227.422 Q2102.36 226.836 2101.93 226.508 Q2101.54 226.157 2100.76 225.876 Q2100.01 225.571 2099.47 225.454 Q2098.94 225.337 2097.98 225.15 Q2097.53 225.056 2097.25 225.009 Q2096.97 224.939 2096.38 224.751 Q2095.82 224.541 2095.42 224.33 Q2095.05 224.119 2094.56 223.744 Q2094.06 223.369 2093.76 222.924 Q2093.45 222.479 2093.24 221.824 Q2093.03 221.168 2093.03 220.395 Q2093.03 219.692 2093.24 218.849 Q2093.48 218.006 2094.06 217.022 Q2094.67 216.038 2095.54 215.242 Q2096.41 214.446 2097.86 213.93 Q2099.33 213.392 2101.14 213.392 Q2103.76 213.392 2105.31 214.609 Q2106.85 215.804 2106.85 217.514 Z\" fill=\"#000000\" fill-rule=\"evenodd\" fill-opacity=\"1\" /><path clip-path=\"url(#clip910)\" d=\"M2146.97 201.821 L2140.06 229.553 Q2139.77 230.794 2139.77 231.848 Q2139.77 234.05 2141.2 234.05 Q2141.91 234.05 2142.47 233.605 Q2143.03 233.16 2143.48 232.223 Q2143.92 231.286 2144.2 230.42 Q2144.48 229.53 2144.86 228.124 Q2144.97 227.562 2145.07 227.422 Q2145.19 227.258 2145.51 227.258 Q2146.1 227.258 2146.1 227.726 Q2145.47 230.748 2144.65 232.481 Q2143.33 235.128 2141.11 235.128 Q2139.42 235.128 2138.23 234.097 Q2137.03 233.066 2136.75 231.521 Q2133.68 235.128 2130.5 235.128 Q2127.69 235.128 2125.91 232.996 Q2124.13 230.841 2124.13 227.445 Q2124.13 224.025 2125.81 220.746 Q2127.52 217.467 2130.22 215.429 Q2132.91 213.392 2135.68 213.392 Q2138.6 213.392 2140.1 216.46 L2142.98 205.077 L2143.12 204.14 Q2143.12 203.859 2143.01 203.718 Q2142.91 203.554 2142.35 203.437 Q2141.81 203.32 2140.73 203.32 Q2140.29 203.32 2140.08 203.296 Q2139.89 203.273 2139.73 203.156 Q2139.56 203.015 2139.56 202.734 Q2139.56 201.915 2140.24 201.821 Q2144.74 201.306 2146.33 201.306 Q2146.61 201.306 2146.78 201.446 Q2146.94 201.563 2146.94 201.704 L2146.97 201.821 M2139.52 218.662 Q2139.52 218.451 2139.35 217.865 Q2139.19 217.28 2138.81 216.46 Q2138.44 215.64 2137.62 215.055 Q2136.82 214.446 2135.75 214.446 Q2134.29 214.446 2132.77 215.687 Q2131.27 216.928 2130.17 219.036 Q2129.33 220.723 2128.41 224.26 Q2127.52 227.796 2127.52 229.553 Q2127.52 230.63 2127.76 231.591 Q2128.02 232.528 2128.74 233.301 Q2129.47 234.05 2130.59 234.05 Q2133.33 234.05 2136.03 230.654 Q2136.54 230.068 2136.66 229.834 Q2136.8 229.576 2136.99 228.874 L2139.38 219.481 Q2139.52 218.779 2139.52 218.662 Z\" fill=\"#000000\" fill-rule=\"evenodd\" fill-opacity=\"1\" /><path clip-path=\"url(#clip910)\" d=\"M2169.35 221.496 Q2169.35 224.049 2168.22 226.578 Q2167.1 229.085 2165.3 230.958 Q2163.52 232.809 2161.17 233.98 Q2158.83 235.128 2156.49 235.128 Q2153.14 235.128 2150.96 232.856 Q2148.81 230.56 2148.81 227 Q2148.81 223.674 2150.66 220.512 Q2152.53 217.326 2155.53 215.359 Q2158.53 213.392 2161.67 213.392 Q2164.97 213.392 2167.15 215.617 Q2169.35 217.842 2169.35 221.496 M2165.83 219.622 Q2165.83 217.35 2164.73 215.898 Q2163.63 214.446 2161.62 214.446 Q2161.03 214.446 2160.35 214.633 Q2159.67 214.797 2158.78 215.242 Q2157.92 215.687 2156.93 216.624 Q2155.97 217.537 2155.13 218.849 Q2154.03 220.582 2153.19 223.768 Q2152.37 226.93 2152.37 228.827 Q2152.37 231.45 2153.58 232.762 Q2154.8 234.05 2156.54 234.05 Q2158.22 234.05 2160 232.879 Q2161.81 231.684 2163.05 229.647 Q2164.29 227.539 2165.06 224.447 Q2165.83 221.332 2165.83 219.622 Z\" fill=\"#000000\" fill-rule=\"evenodd\" fill-opacity=\"1\" /><path clip-path=\"url(#clip910)\" d=\"M2202.58 216.741 Q2202.58 218.544 2201.6 222.526 Q2200.61 226.508 2199.42 229.225 Q2196.86 235.128 2192.46 235.128 Q2191.92 235.128 2191.38 235.081 Q2190.87 235.034 2190.1 234.823 Q2189.32 234.612 2188.69 234.284 Q2188.06 233.933 2187.43 233.277 Q2186.82 232.621 2186.47 231.755 Q2184.52 235.128 2181.48 235.128 Q2178.53 235.128 2176.58 233.629 Q2174.66 232.129 2174.66 229.061 Q2174.66 227.679 2175.22 225.641 Q2175.78 223.604 2177.35 219.388 Q2178.22 217.209 2178.22 216.015 Q2178.22 215.476 2178.1 215.125 Q2177.99 214.773 2177.75 214.656 Q2177.54 214.516 2177.4 214.492 Q2177.26 214.446 2177.03 214.446 Q2175.62 214.446 2174.36 215.874 Q2173.09 217.28 2172.18 220.395 Q2171.99 220.98 2171.87 221.121 Q2171.76 221.261 2171.4 221.261 Q2170.82 221.238 2170.82 220.77 Q2170.82 220.582 2171.03 219.856 Q2171.24 219.107 2171.73 218.006 Q2172.25 216.881 2172.95 215.874 Q2173.65 214.844 2174.75 214.118 Q2175.88 213.392 2177.17 213.392 Q2178.9 213.392 2180 214.539 Q2181.1 215.687 2181.1 217.326 Q2181.1 217.795 2180.98 218.31 Q2180.87 218.802 2180.75 219.13 Q2180.66 219.435 2180.28 220.395 Q2178.74 224.447 2178.24 226.391 Q2177.78 228.335 2177.78 229.694 Q2177.78 230.139 2177.8 230.49 Q2177.82 230.841 2178.01 231.567 Q2178.22 232.293 2178.6 232.785 Q2178.97 233.254 2179.74 233.652 Q2180.54 234.05 2181.62 234.05 Q2184.31 234.05 2186.04 230.021 Q2186 229.787 2186 229.178 Q2186 227.82 2186.42 225.993 Q2186.54 225.571 2187.21 222.878 Q2187.89 220.161 2188.48 217.795 Q2189.09 215.406 2189.16 215.265 Q2189.39 214.609 2189.91 214.258 Q2190.42 213.907 2190.94 213.907 Q2191.52 213.907 2191.92 214.258 Q2192.32 214.609 2192.32 215.218 Q2192.32 215.336 2192.18 215.874 Q2192.06 216.39 2191.88 217.163 Q2191.69 217.935 2191.59 218.334 L2189.58 226.391 Q2189.07 228.265 2189.07 229.881 Q2189.07 231.919 2189.98 232.996 Q2190.89 234.05 2192.6 234.05 Q2195.81 234.05 2197.87 229.834 Q2198.81 228.007 2199.65 225.15 Q2200.52 222.292 2200.52 221.051 Q2200.52 218.708 2198.79 216.975 Q2198.41 216.647 2198.25 216.39 Q2198.08 216.109 2198.08 215.687 Q2198.08 214.891 2198.83 214.141 Q2199.58 213.392 2200.47 213.392 Q2201.27 213.392 2201.92 214.188 Q2202.58 214.961 2202.58 216.741 Z\" fill=\"#000000\" fill-rule=\"evenodd\" fill-opacity=\"1\" /><path clip-path=\"url(#clip910)\" d=\"M2231.78 227.726 Q2231.78 227.913 2231.57 228.64 Q2231.36 229.366 2230.84 230.49 Q2230.35 231.614 2229.67 232.645 Q2228.99 233.652 2227.87 234.401 Q2226.77 235.128 2225.5 235.128 Q2223.82 235.128 2222.69 234.003 Q2221.57 232.879 2221.57 231.193 Q2221.57 230.256 2222.06 228.967 Q2225.17 220.652 2225.17 217.795 Q2225.17 214.446 2222.57 214.446 Q2221.29 214.446 2220.07 214.937 Q2218.87 215.406 2218.05 216.062 Q2217.23 216.718 2216.48 217.631 Q2215.76 218.521 2215.38 219.13 Q2215.03 219.716 2214.75 220.301 L2214.14 222.69 Q2214 223.346 2213.32 225.899 L2212.27 230.232 Q2211.52 233.465 2211.36 233.769 Q2211.12 234.425 2210.61 234.776 Q2210.09 235.128 2209.58 235.128 Q2208.99 235.128 2208.59 234.776 Q2208.19 234.425 2208.19 233.816 Q2208.19 233.722 2208.26 233.371 Q2208.33 233.02 2208.45 232.528 Q2208.57 232.036 2208.61 231.755 L2211.4 220.676 Q2211.92 218.662 2212.03 218.029 Q2212.17 217.373 2212.17 216.647 Q2212.17 214.446 2210.68 214.446 Q2209.46 214.446 2208.66 215.898 Q2207.87 217.35 2207.19 220.161 Q2206.98 220.934 2206.83 221.098 Q2206.72 221.261 2206.37 221.261 Q2205.78 221.238 2205.78 220.77 Q2205.78 220.652 2205.97 219.88 Q2206.16 219.107 2206.51 218.006 Q2206.88 216.881 2207.23 216.132 Q2207.54 215.57 2207.7 215.312 Q2207.89 215.031 2208.33 214.492 Q2208.8 213.93 2209.41 213.673 Q2210.04 213.392 2210.82 213.392 Q2212.55 213.392 2213.81 214.516 Q2215.08 215.617 2215.24 217.561 Q2218.36 213.392 2222.72 213.392 Q2225.29 213.392 2226.77 214.75 Q2228.24 216.109 2228.24 218.521 Q2228.24 219.083 2228.13 219.809 Q2228.03 220.512 2227.8 221.402 Q2227.59 222.292 2227.4 222.971 Q2227.21 223.651 2226.84 224.751 Q2226.46 225.829 2226.3 226.297 Q2226.13 226.766 2225.74 227.867 Q2225.36 228.944 2225.31 229.061 Q2224.45 231.239 2224.45 232.481 Q2224.45 233.301 2224.71 233.675 Q2224.99 234.05 2225.6 234.05 Q2227.24 234.05 2228.45 232.434 Q2229.69 230.794 2230.49 228.124 Q2230.68 227.539 2230.77 227.398 Q2230.89 227.258 2231.22 227.258 Q2231.78 227.258 2231.78 227.726 Z\" fill=\"#000000\" fill-rule=\"evenodd\" fill-opacity=\"1\" /><polyline clip-path=\"url(#clip910)\" style=\"stroke:#e26f46; stroke-linecap:butt; stroke-linejoin:round; stroke-width:4; stroke-opacity:1; fill:none\" points=\"\n",
       "  1810.86,270.476 1953.05,270.476 \n",
       "  \"/>\n",
       "<path clip-path=\"url(#clip910)\" d=\"M1976.75 273.965 Q1976.75 272.536 1977.52 271.998 Q1978.29 271.435 1979.11 271.435 Q1980.21 271.435 1980.85 272.138 Q1981.5 272.817 1981.5 273.778 Q1981.5 274.738 1980.85 275.441 Q1980.21 276.12 1979.11 276.12 Q1978.58 276.12 1978.29 276.026 Q1978.93 278.228 1980.85 279.821 Q1982.79 281.413 1985.34 281.413 Q1988.55 281.413 1990.47 278.298 Q1991.62 276.284 1991.62 271.717 Q1991.62 267.688 1990.75 265.674 Q1989.42 262.605 1986.68 262.605 Q1982.79 262.605 1980.5 265.955 Q1980.21 266.376 1979.89 266.4 Q1979.42 266.4 1979.3 266.142 Q1979.21 265.861 1979.21 265.135 L1979.21 250.941 Q1979.21 249.793 1979.68 249.793 Q1979.86 249.793 1980.26 249.934 Q1983.28 251.269 1986.63 251.292 Q1990.08 251.292 1993.17 249.887 Q1993.4 249.746 1993.54 249.746 Q1994.01 249.746 1994.03 250.285 Q1994.03 250.472 1993.64 251.034 Q1993.26 251.573 1992.44 252.299 Q1991.62 253.002 1990.57 253.681 Q1989.51 254.36 1987.97 254.829 Q1986.45 255.274 1984.76 255.274 Q1982.74 255.274 1980.68 254.642 L1980.68 263.987 Q1983.17 261.551 1986.77 261.551 Q1990.61 261.551 1993.26 264.643 Q1995.91 267.735 1995.91 272.044 Q1995.91 276.565 1992.77 279.657 Q1989.65 282.748 1985.44 282.748 Q1981.6 282.748 1979.16 280.008 Q1976.75 277.268 1976.75 273.965 Z\" fill=\"#000000\" fill-rule=\"evenodd\" fill-opacity=\"1\" /><path clip-path=\"url(#clip910)\" d=\"M2030.83 264.62 Q2030.83 265.931 2030.17 266.634 Q2029.52 267.313 2028.63 267.313 Q2027.9 267.313 2027.5 266.891 Q2027.13 266.47 2027.13 265.908 Q2027.13 265.088 2027.78 264.432 Q2028.46 263.776 2029.45 263.753 Q2029.12 262.886 2028.25 262.371 Q2027.39 261.832 2026.61 261.692 Q2025.86 261.551 2025.11 261.551 Q2023.64 261.551 2022.51 262.02 Q2021.39 262.488 2020.83 263.214 Q2020.27 263.917 2020.01 264.596 Q2019.75 265.275 2019.75 265.861 Q2019.75 266.376 2019.87 266.798 Q2020.01 267.196 2020.34 267.5 Q2020.66 267.782 2020.9 267.969 Q2021.16 268.156 2021.72 268.32 Q2022.28 268.484 2022.51 268.554 Q2022.75 268.601 2023.4 268.742 Q2024.76 269.023 2025.37 269.187 Q2025.98 269.327 2026.78 269.726 Q2027.6 270.124 2028.21 270.756 Q2029.68 272.232 2029.68 274.27 Q2029.68 275.019 2029.42 275.933 Q2029.19 276.846 2028.51 277.994 Q2027.83 279.141 2026.8 280.055 Q2025.77 280.968 2023.99 281.601 Q2022.23 282.233 2020.03 282.233 Q2016.96 282.233 2015.07 280.945 Q2013.17 279.633 2013.17 277.572 Q2013.17 276.073 2013.99 275.253 Q2014.81 274.41 2015.86 274.41 Q2016.66 274.41 2017.15 274.855 Q2017.64 275.277 2017.64 276.073 Q2017.64 277.151 2016.78 277.97 Q2015.91 278.79 2014.62 278.626 Q2015.72 281.156 2020.08 281.156 Q2021.72 281.156 2022.98 280.734 Q2024.27 280.289 2024.97 279.68 Q2025.7 279.048 2026.17 278.275 Q2026.64 277.502 2026.78 276.916 Q2026.94 276.331 2026.94 275.886 Q2026.94 275.113 2026.64 274.527 Q2026.33 273.942 2025.91 273.614 Q2025.51 273.262 2024.74 272.981 Q2023.99 272.677 2023.45 272.56 Q2022.91 272.443 2021.95 272.255 Q2021.51 272.162 2021.23 272.115 Q2020.95 272.044 2020.36 271.857 Q2019.8 271.646 2019.4 271.435 Q2019.02 271.225 2018.53 270.85 Q2018.04 270.475 2017.74 270.03 Q2017.43 269.585 2017.22 268.929 Q2017.01 268.273 2017.01 267.5 Q2017.01 266.798 2017.22 265.955 Q2017.46 265.111 2018.04 264.128 Q2018.65 263.144 2019.52 262.348 Q2020.38 261.551 2021.84 261.036 Q2023.31 260.497 2025.11 260.497 Q2027.74 260.497 2029.28 261.715 Q2030.83 262.91 2030.83 264.62 Z\" fill=\"#000000\" fill-rule=\"evenodd\" fill-opacity=\"1\" /><path clip-path=\"url(#clip910)\" d=\"M2046.53 251.714 Q2046.53 252.744 2045.69 253.517 Q2044.87 254.267 2043.98 254.267 Q2043.16 254.267 2042.64 253.775 Q2042.15 253.26 2042.15 252.534 Q2042.15 251.573 2042.97 250.777 Q2043.79 249.98 2044.75 249.98 Q2045.55 249.98 2046.04 250.472 Q2046.53 250.964 2046.53 251.714 M2046.95 274.832 Q2046.95 275.019 2046.74 275.769 Q2046.53 276.495 2046.02 277.619 Q2045.53 278.72 2044.85 279.75 Q2044.17 280.781 2043.04 281.507 Q2041.94 282.233 2040.68 282.233 Q2038.97 282.233 2037.84 281.109 Q2036.74 279.985 2036.74 278.298 Q2036.74 277.385 2037.84 274.457 Q2041.03 265.931 2041.15 265.58 Q2041.68 264.245 2041.68 263.074 Q2041.68 262.535 2041.57 262.207 Q2041.45 261.856 2041.22 261.739 Q2040.98 261.598 2040.84 261.575 Q2040.72 261.551 2040.49 261.551 Q2039.11 261.551 2037.82 262.957 Q2036.53 264.362 2035.64 267.5 Q2035.45 268.086 2035.34 268.227 Q2035.22 268.367 2034.87 268.367 Q2034.28 268.344 2034.28 267.875 Q2034.28 267.735 2034.45 267.196 Q2034.61 266.634 2034.92 265.791 Q2035.22 264.924 2035.76 264.034 Q2036.3 263.12 2036.95 262.324 Q2037.63 261.528 2038.59 261.012 Q2039.55 260.497 2040.63 260.497 Q2042.39 260.497 2043.46 261.645 Q2044.57 262.769 2044.57 264.432 Q2044.57 265.346 2043.93 266.962 Q2043.16 269.07 2042.88 269.749 L2041.01 274.785 Q2040.33 276.612 2040.12 277.174 Q2039.93 277.713 2039.76 278.368 Q2039.62 279.001 2039.62 279.586 Q2039.62 280.406 2039.88 280.781 Q2040.16 281.156 2040.77 281.156 Q2042.46 281.156 2043.7 279.493 Q2044.94 277.806 2045.67 275.23 Q2045.69 275.16 2045.71 275.042 Q2045.9 274.457 2046.09 274.387 Q2046.18 274.363 2046.37 274.363 Q2046.95 274.363 2046.95 274.832 Z\" fill=\"#000000\" fill-rule=\"evenodd\" fill-opacity=\"1\" /><path clip-path=\"url(#clip910)\" d=\"M2065.77 261.551 Q2065.77 262.207 2065.47 262.371 Q2065.17 262.511 2064.32 262.511 L2059.82 262.511 L2056.26 276.659 Q2055.98 277.9 2055.98 278.954 Q2055.98 280.125 2056.33 280.64 Q2056.71 281.156 2057.48 281.156 Q2059.01 281.156 2060.64 279.774 Q2062.31 278.392 2063.71 275.019 Q2063.9 274.574 2063.99 274.48 Q2064.11 274.363 2064.42 274.363 Q2065 274.363 2065 274.832 Q2065 274.996 2064.67 275.745 Q2064.37 276.495 2063.69 277.596 Q2063.03 278.696 2062.17 279.727 Q2061.32 280.758 2060.04 281.507 Q2058.75 282.233 2057.37 282.233 Q2055.42 282.233 2054.18 280.992 Q2052.96 279.75 2052.96 277.806 Q2052.96 277.174 2053.45 275.16 Q2053.95 273.122 2056.62 262.511 L2052.38 262.511 Q2051.79 262.511 2051.56 262.488 Q2051.35 262.465 2051.18 262.348 Q2051.04 262.207 2051.04 261.926 Q2051.04 261.481 2051.23 261.294 Q2051.42 261.083 2051.65 261.059 Q2051.91 261.012 2052.49 261.012 L2056.99 261.012 L2058.86 253.4 Q2059.05 252.651 2059.52 252.229 Q2060.01 251.784 2060.29 251.737 Q2060.57 251.667 2060.79 251.667 Q2061.42 251.667 2061.79 252.018 Q2062.17 252.346 2062.17 252.955 Q2062.17 253.283 2060.2 261.012 L2064.42 261.012 Q2064.95 261.012 2065.17 261.036 Q2065.4 261.059 2065.59 261.176 Q2065.77 261.294 2065.77 261.551 Z\" fill=\"#000000\" fill-rule=\"evenodd\" fill-opacity=\"1\" /><path clip-path=\"url(#clip910)\" d=\"M2085.31 276.143 Q2085.5 276.354 2085.5 276.565 Q2085.5 276.776 2085.03 277.385 Q2084.59 277.994 2083.62 278.814 Q2082.66 279.633 2081.42 280.406 Q2080.18 281.179 2078.35 281.694 Q2076.53 282.233 2074.61 282.233 Q2071.16 282.233 2069.1 279.774 Q2067.07 277.314 2067.07 273.543 Q2067.07 271.131 2067.86 269 Q2068.66 266.845 2069.95 265.322 Q2071.26 263.8 2072.9 262.699 Q2074.56 261.575 2076.29 261.036 Q2078.03 260.497 2079.64 260.497 Q2082.01 260.497 2083.39 261.692 Q2084.77 262.886 2084.77 264.573 Q2084.77 264.971 2084.66 265.463 Q2084.56 265.955 2084.23 266.728 Q2083.93 267.5 2083.13 268.273 Q2082.34 269.023 2081.17 269.515 Q2078.57 270.616 2073.83 270.616 L2071.28 270.616 Q2070.53 273.637 2070.53 275.605 Q2070.53 276.378 2070.67 277.174 Q2070.81 277.947 2071.19 278.931 Q2071.59 279.914 2072.48 280.547 Q2073.39 281.156 2074.7 281.156 Q2075.12 281.156 2075.57 281.132 Q2076.04 281.109 2077.21 280.851 Q2078.4 280.594 2079.46 280.149 Q2080.51 279.704 2081.84 278.743 Q2083.2 277.759 2084.28 276.424 Q2084.66 275.933 2084.91 275.933 Q2085.12 275.933 2085.31 276.143 M2083.18 264.573 Q2083.18 263.284 2082.22 262.418 Q2081.28 261.551 2079.64 261.551 Q2079.13 261.551 2078.5 261.668 Q2077.86 261.785 2076.81 262.277 Q2075.78 262.769 2074.86 263.589 Q2073.95 264.385 2073.04 265.955 Q2072.12 267.5 2071.59 269.562 L2073.55 269.562 Q2074.23 269.562 2074.72 269.562 Q2075.22 269.538 2076.29 269.445 Q2077.39 269.351 2078.19 269.187 Q2078.99 269 2079.99 268.625 Q2081 268.25 2081.63 267.758 Q2082.29 267.243 2082.73 266.423 Q2083.18 265.603 2083.18 264.573 Z\" fill=\"#000000\" fill-rule=\"evenodd\" fill-opacity=\"1\" /><path clip-path=\"url(#clip910)\" d=\"M2106.85 264.62 Q2106.85 265.931 2106.2 266.634 Q2105.54 267.313 2104.65 267.313 Q2103.92 267.313 2103.53 266.891 Q2103.15 266.47 2103.15 265.908 Q2103.15 265.088 2103.81 264.432 Q2104.49 263.776 2105.47 263.753 Q2105.14 262.886 2104.28 262.371 Q2103.41 261.832 2102.64 261.692 Q2101.89 261.551 2101.14 261.551 Q2099.66 261.551 2098.54 262.02 Q2097.41 262.488 2096.85 263.214 Q2096.29 263.917 2096.03 264.596 Q2095.77 265.275 2095.77 265.861 Q2095.77 266.376 2095.89 266.798 Q2096.03 267.196 2096.36 267.5 Q2096.69 267.782 2096.92 267.969 Q2097.18 268.156 2097.74 268.32 Q2098.3 268.484 2098.54 268.554 Q2098.77 268.601 2099.43 268.742 Q2100.79 269.023 2101.39 269.187 Q2102 269.327 2102.8 269.726 Q2103.62 270.124 2104.23 270.756 Q2105.7 272.232 2105.7 274.27 Q2105.7 275.019 2105.45 275.933 Q2105.21 276.846 2104.53 277.994 Q2103.85 279.141 2102.82 280.055 Q2101.79 280.968 2100.01 281.601 Q2098.26 282.233 2096.05 282.233 Q2092.99 282.233 2091.09 280.945 Q2089.19 279.633 2089.19 277.572 Q2089.19 276.073 2090.01 275.253 Q2090.83 274.41 2091.89 274.41 Q2092.68 274.41 2093.17 274.855 Q2093.67 275.277 2093.67 276.073 Q2093.67 277.151 2092.8 277.97 Q2091.93 278.79 2090.64 278.626 Q2091.74 281.156 2096.1 281.156 Q2097.74 281.156 2099.01 280.734 Q2100.29 280.289 2101 279.68 Q2101.72 279.048 2102.19 278.275 Q2102.66 277.502 2102.8 276.916 Q2102.96 276.331 2102.96 275.886 Q2102.96 275.113 2102.66 274.527 Q2102.36 273.942 2101.93 273.614 Q2101.54 273.262 2100.76 272.981 Q2100.01 272.677 2099.47 272.56 Q2098.94 272.443 2097.98 272.255 Q2097.53 272.162 2097.25 272.115 Q2096.97 272.044 2096.38 271.857 Q2095.82 271.646 2095.42 271.435 Q2095.05 271.225 2094.56 270.85 Q2094.06 270.475 2093.76 270.03 Q2093.45 269.585 2093.24 268.929 Q2093.03 268.273 2093.03 267.5 Q2093.03 266.798 2093.24 265.955 Q2093.48 265.111 2094.06 264.128 Q2094.67 263.144 2095.54 262.348 Q2096.41 261.551 2097.86 261.036 Q2099.33 260.497 2101.14 260.497 Q2103.76 260.497 2105.31 261.715 Q2106.85 262.91 2106.85 264.62 Z\" fill=\"#000000\" fill-rule=\"evenodd\" fill-opacity=\"1\" /><path clip-path=\"url(#clip910)\" d=\"M2148.79 274.832 Q2148.18 277.853 2147.36 279.586 Q2146.03 282.233 2143.8 282.233 Q2142.26 282.233 2141.09 281.367 Q2139.94 280.476 2139.54 279.001 Q2139.1 279.586 2138.7 279.985 Q2138.32 280.383 2137.6 280.992 Q2136.87 281.577 2135.89 281.905 Q2134.93 282.233 2133.83 282.233 Q2132.98 282.233 2132.21 282.069 Q2131.44 281.929 2130.62 281.531 Q2129.82 281.109 2129.23 280.476 Q2128.67 279.844 2128.3 278.814 Q2127.92 277.783 2127.92 276.471 Q2127.92 274.832 2128.56 272.607 Q2129.21 270.381 2130.71 266.4 Q2131.53 264.292 2131.53 263.12 Q2131.53 262.582 2131.41 262.23 Q2131.3 261.879 2131.06 261.762 Q2130.85 261.621 2130.71 261.598 Q2130.57 261.551 2130.34 261.551 Q2128.88 261.551 2127.62 263.027 Q2126.35 264.502 2125.49 267.5 Q2125.3 268.086 2125.18 268.227 Q2125.07 268.367 2124.71 268.367 Q2124.13 268.344 2124.13 267.875 Q2124.13 267.688 2124.34 266.962 Q2124.55 266.212 2125.04 265.111 Q2125.56 263.987 2126.26 262.98 Q2126.96 261.949 2128.06 261.223 Q2129.19 260.497 2130.48 260.497 Q2132.23 260.497 2133.31 261.645 Q2134.41 262.769 2134.41 264.432 Q2134.41 265.463 2133.59 267.454 Q2130.99 274.363 2130.99 277.244 Q2130.99 281.156 2133.97 281.156 Q2134.95 281.156 2135.86 280.758 Q2136.8 280.359 2137.41 279.797 Q2138.02 279.235 2138.49 278.626 Q2138.98 278.017 2139.19 277.619 Q2139.42 277.221 2139.45 277.127 L2143.03 262.699 Q2143.17 262.137 2143.43 261.762 Q2143.71 261.364 2144.04 261.223 Q2144.37 261.083 2144.55 261.059 Q2144.74 261.012 2144.9 261.012 Q2145.49 261.012 2145.89 261.364 Q2146.31 261.715 2146.31 262.324 Q2146.31 262.441 2146.17 263.003 Q2146.05 263.542 2145.86 264.338 Q2145.68 265.111 2145.58 265.533 Q2144.83 268.484 2144.76 268.789 L2143.43 273.965 Q2143.36 274.27 2143.12 275.253 Q2142.91 276.237 2142.8 276.752 Q2142.68 277.244 2142.56 277.923 Q2142.47 278.579 2142.47 278.954 Q2142.47 280.125 2142.82 280.64 Q2143.17 281.156 2143.94 281.156 Q2144.67 281.156 2145.23 280.664 Q2145.82 280.149 2146.26 279.165 Q2146.71 278.158 2146.97 277.338 Q2147.22 276.518 2147.55 275.23 Q2147.67 274.668 2147.76 274.527 Q2147.88 274.363 2148.21 274.363 Q2148.79 274.363 2148.79 274.832 Z\" fill=\"#000000\" fill-rule=\"evenodd\" fill-opacity=\"1\" /><path clip-path=\"url(#clip910)\" d=\"M2173.09 268.156 Q2173.09 271.576 2171.35 274.879 Q2169.64 278.181 2166.95 280.219 Q2164.26 282.233 2161.52 282.233 Q2159.88 282.233 2158.77 281.343 Q2157.7 280.43 2157.11 279.141 Q2156.67 280.734 2155.71 284.552 Q2154.75 288.37 2154.75 288.745 Q2154.75 288.955 2154.79 289.049 Q2154.84 289.143 2155.05 289.26 Q2155.26 289.4 2155.78 289.447 Q2156.29 289.518 2157.16 289.518 Q2157.6 289.518 2157.77 289.518 Q2157.95 289.541 2158.12 289.658 Q2158.31 289.775 2158.31 290.033 Q2158.31 290.993 2157.44 290.993 Q2156.67 290.993 2155.07 290.923 Q2153.48 290.853 2152.68 290.853 Q2152.01 290.853 2150.65 290.923 Q2149.29 290.993 2148.66 290.993 Q2148.02 290.993 2148.02 290.431 Q2148.02 290.103 2148.12 289.892 Q2148.19 289.705 2148.38 289.611 Q2148.56 289.541 2148.73 289.518 Q2148.87 289.518 2149.15 289.518 Q2150.23 289.518 2150.69 289.33 Q2151.16 289.166 2151.33 288.815 Q2151.51 288.487 2151.72 287.55 L2157.11 266.189 Q2157.44 264.76 2157.44 263.753 Q2157.44 262.488 2157.04 262.02 Q2156.64 261.551 2155.94 261.551 Q2154.72 261.551 2153.93 263.003 Q2153.13 264.456 2152.45 267.266 Q2152.24 268.039 2152.1 268.203 Q2151.98 268.367 2151.63 268.367 Q2151.05 268.344 2151.05 267.875 Q2151.05 267.758 2151.23 267.009 Q2151.42 266.236 2151.77 265.111 Q2152.15 263.964 2152.54 263.238 Q2152.78 262.746 2152.99 262.418 Q2153.2 262.09 2153.62 261.575 Q2154.07 261.059 2154.7 260.778 Q2155.33 260.497 2156.1 260.497 Q2157.6 260.497 2158.84 261.387 Q2160.09 262.277 2160.41 264.081 Q2161.75 262.511 2163.39 261.504 Q2165.03 260.497 2166.69 260.497 Q2169.46 260.497 2171.26 262.652 Q2173.09 264.783 2173.09 268.156 M2169.62 266.048 Q2169.62 263.917 2168.8 262.746 Q2168 261.551 2166.55 261.551 Q2164.75 261.551 2162.66 263.378 Q2160.6 265.111 2160.18 266.728 L2157.81 276.12 L2157.67 276.893 Q2157.67 277.033 2157.74 277.455 Q2157.84 277.853 2158.1 278.509 Q2158.38 279.165 2158.75 279.75 Q2159.15 280.313 2159.85 280.734 Q2160.58 281.156 2161.47 281.156 Q2162.9 281.156 2164.44 279.891 Q2166.01 278.626 2167.18 276.237 Q2167.91 274.691 2168.75 271.365 Q2169.62 268.016 2169.62 266.048 Z\" fill=\"#000000\" fill-rule=\"evenodd\" fill-opacity=\"1\" /><polyline clip-path=\"url(#clip910)\" style=\"stroke:#3da44d; stroke-linecap:butt; stroke-linejoin:round; stroke-width:4; stroke-opacity:1; fill:none\" points=\"\n",
       "  1810.86,322.316 1953.05,322.316 \n",
       "  \"/>\n",
       "<path clip-path=\"url(#clip910)\" d=\"M1976.75 315.713 L1978.32 305.852 L1979.51 305.852 Q1979.65 306.438 1979.89 306.695 Q1980.14 306.953 1981.5 307.164 Q1982.88 307.375 1985.67 307.375 L1997.31 307.375 Q1997.31 308.475 1996.89 309.061 L1990.4 318.172 Q1988.34 321.053 1987.43 326.37 Q1986.89 329.93 1986.91 334.24 L1986.91 336.676 Q1986.91 339.323 1984.69 339.323 Q1982.49 339.323 1982.49 336.676 Q1982.49 327.518 1988.39 318.641 Q1989.02 317.727 1991.34 314.472 Q1993.68 311.216 1993.78 311.075 L1983.85 311.075 Q1979.49 311.075 1979.14 311.356 Q1978.67 311.778 1977.94 315.713 L1976.75 315.713 Z\" fill=\"#000000\" fill-rule=\"evenodd\" fill-opacity=\"1\" /><path clip-path=\"url(#clip910)\" d=\"M2030.83 321.194 Q2030.83 322.506 2030.17 323.208 Q2029.52 323.887 2028.63 323.887 Q2027.9 323.887 2027.5 323.466 Q2027.13 323.044 2027.13 322.482 Q2027.13 321.662 2027.78 321.006 Q2028.46 320.351 2029.45 320.327 Q2029.12 319.461 2028.25 318.945 Q2027.39 318.407 2026.61 318.266 Q2025.86 318.126 2025.11 318.126 Q2023.64 318.126 2022.51 318.594 Q2021.39 319.062 2020.83 319.789 Q2020.27 320.491 2020.01 321.17 Q2019.75 321.85 2019.75 322.435 Q2019.75 322.951 2019.87 323.372 Q2020.01 323.77 2020.34 324.075 Q2020.66 324.356 2020.9 324.543 Q2021.16 324.731 2021.72 324.895 Q2022.28 325.059 2022.51 325.129 Q2022.75 325.176 2023.4 325.316 Q2024.76 325.597 2025.37 325.761 Q2025.98 325.902 2026.78 326.3 Q2027.6 326.698 2028.21 327.331 Q2029.68 328.806 2029.68 330.844 Q2029.68 331.593 2029.42 332.507 Q2029.19 333.42 2028.51 334.568 Q2027.83 335.716 2026.8 336.629 Q2025.77 337.543 2023.99 338.175 Q2022.23 338.808 2020.03 338.808 Q2016.96 338.808 2015.07 337.519 Q2013.17 336.208 2013.17 334.146 Q2013.17 332.647 2013.99 331.828 Q2014.81 330.984 2015.86 330.984 Q2016.66 330.984 2017.15 331.429 Q2017.64 331.851 2017.64 332.647 Q2017.64 333.725 2016.78 334.545 Q2015.91 335.364 2014.62 335.201 Q2015.72 337.73 2020.08 337.73 Q2021.72 337.73 2022.98 337.309 Q2024.27 336.863 2024.97 336.255 Q2025.7 335.622 2026.17 334.849 Q2026.64 334.076 2026.78 333.491 Q2026.94 332.905 2026.94 332.46 Q2026.94 331.687 2026.64 331.102 Q2026.33 330.516 2025.91 330.188 Q2025.51 329.837 2024.74 329.556 Q2023.99 329.251 2023.45 329.134 Q2022.91 329.017 2021.95 328.83 Q2021.51 328.736 2021.23 328.689 Q2020.95 328.619 2020.36 328.431 Q2019.8 328.221 2019.4 328.01 Q2019.02 327.799 2018.53 327.424 Q2018.04 327.049 2017.74 326.604 Q2017.43 326.159 2017.22 325.504 Q2017.01 324.848 2017.01 324.075 Q2017.01 323.372 2017.22 322.529 Q2017.46 321.686 2018.04 320.702 Q2018.65 319.718 2019.52 318.922 Q2020.38 318.126 2021.84 317.61 Q2023.31 317.072 2025.11 317.072 Q2027.74 317.072 2029.28 318.289 Q2030.83 319.484 2030.83 321.194 Z\" fill=\"#000000\" fill-rule=\"evenodd\" fill-opacity=\"1\" /><path clip-path=\"url(#clip910)\" d=\"M2046.53 308.288 Q2046.53 309.319 2045.69 310.092 Q2044.87 310.841 2043.98 310.841 Q2043.16 310.841 2042.64 310.349 Q2042.15 309.834 2042.15 309.108 Q2042.15 308.148 2042.97 307.351 Q2043.79 306.555 2044.75 306.555 Q2045.55 306.555 2046.04 307.047 Q2046.53 307.539 2046.53 308.288 M2046.95 331.406 Q2046.95 331.593 2046.74 332.343 Q2046.53 333.069 2046.02 334.193 Q2045.53 335.294 2044.85 336.325 Q2044.17 337.355 2043.04 338.081 Q2041.94 338.808 2040.68 338.808 Q2038.97 338.808 2037.84 337.683 Q2036.74 336.559 2036.74 334.873 Q2036.74 333.959 2037.84 331.031 Q2041.03 322.506 2041.15 322.154 Q2041.68 320.819 2041.68 319.648 Q2041.68 319.109 2041.57 318.781 Q2041.45 318.43 2041.22 318.313 Q2040.98 318.172 2040.84 318.149 Q2040.72 318.126 2040.49 318.126 Q2039.11 318.126 2037.82 319.531 Q2036.53 320.936 2035.64 324.075 Q2035.45 324.66 2035.34 324.801 Q2035.22 324.941 2034.87 324.941 Q2034.28 324.918 2034.28 324.45 Q2034.28 324.309 2034.45 323.77 Q2034.61 323.208 2034.92 322.365 Q2035.22 321.498 2035.76 320.608 Q2036.3 319.695 2036.95 318.898 Q2037.63 318.102 2038.59 317.587 Q2039.55 317.072 2040.63 317.072 Q2042.39 317.072 2043.46 318.219 Q2044.57 319.344 2044.57 321.006 Q2044.57 321.92 2043.93 323.536 Q2043.16 325.644 2042.88 326.323 L2041.01 331.359 Q2040.33 333.186 2040.12 333.748 Q2039.93 334.287 2039.76 334.943 Q2039.62 335.575 2039.62 336.161 Q2039.62 336.981 2039.88 337.355 Q2040.16 337.73 2040.77 337.73 Q2042.46 337.73 2043.7 336.067 Q2044.94 334.381 2045.67 331.804 Q2045.69 331.734 2045.71 331.617 Q2045.9 331.031 2046.09 330.961 Q2046.18 330.938 2046.37 330.938 Q2046.95 330.938 2046.95 331.406 Z\" fill=\"#000000\" fill-rule=\"evenodd\" fill-opacity=\"1\" /><path clip-path=\"url(#clip910)\" d=\"M2065.77 318.126 Q2065.77 318.781 2065.47 318.945 Q2065.17 319.086 2064.32 319.086 L2059.82 319.086 L2056.26 333.233 Q2055.98 334.474 2055.98 335.528 Q2055.98 336.7 2056.33 337.215 Q2056.71 337.73 2057.48 337.73 Q2059.01 337.73 2060.64 336.348 Q2062.31 334.966 2063.71 331.593 Q2063.9 331.148 2063.99 331.055 Q2064.11 330.938 2064.42 330.938 Q2065 330.938 2065 331.406 Q2065 331.57 2064.67 332.32 Q2064.37 333.069 2063.69 334.17 Q2063.03 335.271 2062.17 336.301 Q2061.32 337.332 2060.04 338.081 Q2058.75 338.808 2057.37 338.808 Q2055.42 338.808 2054.18 337.566 Q2052.96 336.325 2052.96 334.381 Q2052.96 333.748 2053.45 331.734 Q2053.95 329.696 2056.62 319.086 L2052.38 319.086 Q2051.79 319.086 2051.56 319.062 Q2051.35 319.039 2051.18 318.922 Q2051.04 318.781 2051.04 318.5 Q2051.04 318.055 2051.23 317.868 Q2051.42 317.657 2051.65 317.634 Q2051.91 317.587 2052.49 317.587 L2056.99 317.587 L2058.86 309.975 Q2059.05 309.225 2059.52 308.803 Q2060.01 308.358 2060.29 308.312 Q2060.57 308.241 2060.79 308.241 Q2061.42 308.241 2061.79 308.593 Q2062.17 308.921 2062.17 309.53 Q2062.17 309.857 2060.2 317.587 L2064.42 317.587 Q2064.95 317.587 2065.17 317.61 Q2065.4 317.634 2065.59 317.751 Q2065.77 317.868 2065.77 318.126 Z\" fill=\"#000000\" fill-rule=\"evenodd\" fill-opacity=\"1\" /><path clip-path=\"url(#clip910)\" d=\"M2085.31 332.718 Q2085.5 332.929 2085.5 333.139 Q2085.5 333.35 2085.03 333.959 Q2084.59 334.568 2083.62 335.388 Q2082.66 336.208 2081.42 336.981 Q2080.18 337.754 2078.35 338.269 Q2076.53 338.808 2074.61 338.808 Q2071.16 338.808 2069.1 336.348 Q2067.07 333.889 2067.07 330.118 Q2067.07 327.705 2067.86 325.574 Q2068.66 323.419 2069.95 321.897 Q2071.26 320.374 2072.9 319.273 Q2074.56 318.149 2076.29 317.61 Q2078.03 317.072 2079.64 317.072 Q2082.01 317.072 2083.39 318.266 Q2084.77 319.461 2084.77 321.147 Q2084.77 321.545 2084.66 322.037 Q2084.56 322.529 2084.23 323.302 Q2083.93 324.075 2083.13 324.848 Q2082.34 325.597 2081.17 326.089 Q2078.57 327.19 2073.83 327.19 L2071.28 327.19 Q2070.53 330.212 2070.53 332.179 Q2070.53 332.952 2070.67 333.748 Q2070.81 334.521 2071.19 335.505 Q2071.59 336.489 2072.48 337.121 Q2073.39 337.73 2074.7 337.73 Q2075.12 337.73 2075.57 337.707 Q2076.04 337.683 2077.21 337.426 Q2078.4 337.168 2079.46 336.723 Q2080.51 336.278 2081.84 335.318 Q2083.2 334.334 2084.28 332.999 Q2084.66 332.507 2084.91 332.507 Q2085.12 332.507 2085.31 332.718 M2083.18 321.147 Q2083.18 319.859 2082.22 318.992 Q2081.28 318.126 2079.64 318.126 Q2079.13 318.126 2078.5 318.243 Q2077.86 318.36 2076.81 318.852 Q2075.78 319.344 2074.86 320.163 Q2073.95 320.96 2073.04 322.529 Q2072.12 324.075 2071.59 326.136 L2073.55 326.136 Q2074.23 326.136 2074.72 326.136 Q2075.22 326.113 2076.29 326.019 Q2077.39 325.925 2078.19 325.761 Q2078.99 325.574 2079.99 325.199 Q2081 324.824 2081.63 324.332 Q2082.29 323.817 2082.73 322.997 Q2083.18 322.178 2083.18 321.147 Z\" fill=\"#000000\" fill-rule=\"evenodd\" fill-opacity=\"1\" /><path clip-path=\"url(#clip910)\" d=\"M2106.85 321.194 Q2106.85 322.506 2106.2 323.208 Q2105.54 323.887 2104.65 323.887 Q2103.92 323.887 2103.53 323.466 Q2103.15 323.044 2103.15 322.482 Q2103.15 321.662 2103.81 321.006 Q2104.49 320.351 2105.47 320.327 Q2105.14 319.461 2104.28 318.945 Q2103.41 318.407 2102.64 318.266 Q2101.89 318.126 2101.14 318.126 Q2099.66 318.126 2098.54 318.594 Q2097.41 319.062 2096.85 319.789 Q2096.29 320.491 2096.03 321.17 Q2095.77 321.85 2095.77 322.435 Q2095.77 322.951 2095.89 323.372 Q2096.03 323.77 2096.36 324.075 Q2096.69 324.356 2096.92 324.543 Q2097.18 324.731 2097.74 324.895 Q2098.3 325.059 2098.54 325.129 Q2098.77 325.176 2099.43 325.316 Q2100.79 325.597 2101.39 325.761 Q2102 325.902 2102.8 326.3 Q2103.62 326.698 2104.23 327.331 Q2105.7 328.806 2105.7 330.844 Q2105.7 331.593 2105.45 332.507 Q2105.21 333.42 2104.53 334.568 Q2103.85 335.716 2102.82 336.629 Q2101.79 337.543 2100.01 338.175 Q2098.26 338.808 2096.05 338.808 Q2092.99 338.808 2091.09 337.519 Q2089.19 336.208 2089.19 334.146 Q2089.19 332.647 2090.01 331.828 Q2090.83 330.984 2091.89 330.984 Q2092.68 330.984 2093.17 331.429 Q2093.67 331.851 2093.67 332.647 Q2093.67 333.725 2092.8 334.545 Q2091.93 335.364 2090.64 335.201 Q2091.74 337.73 2096.1 337.73 Q2097.74 337.73 2099.01 337.309 Q2100.29 336.863 2101 336.255 Q2101.72 335.622 2102.19 334.849 Q2102.66 334.076 2102.8 333.491 Q2102.96 332.905 2102.96 332.46 Q2102.96 331.687 2102.66 331.102 Q2102.36 330.516 2101.93 330.188 Q2101.54 329.837 2100.76 329.556 Q2100.01 329.251 2099.47 329.134 Q2098.94 329.017 2097.98 328.83 Q2097.53 328.736 2097.25 328.689 Q2096.97 328.619 2096.38 328.431 Q2095.82 328.221 2095.42 328.01 Q2095.05 327.799 2094.56 327.424 Q2094.06 327.049 2093.76 326.604 Q2093.45 326.159 2093.24 325.504 Q2093.03 324.848 2093.03 324.075 Q2093.03 323.372 2093.24 322.529 Q2093.48 321.686 2094.06 320.702 Q2094.67 319.718 2095.54 318.922 Q2096.41 318.126 2097.86 317.61 Q2099.33 317.072 2101.14 317.072 Q2103.76 317.072 2105.31 318.289 Q2106.85 319.484 2106.85 321.194 Z\" fill=\"#000000\" fill-rule=\"evenodd\" fill-opacity=\"1\" /><path clip-path=\"url(#clip910)\" d=\"M2146.97 305.501 L2140.06 333.233 Q2139.77 334.474 2139.77 335.528 Q2139.77 337.73 2141.2 337.73 Q2141.91 337.73 2142.47 337.285 Q2143.03 336.84 2143.48 335.903 Q2143.92 334.966 2144.2 334.1 Q2144.48 333.21 2144.86 331.804 Q2144.97 331.242 2145.07 331.102 Q2145.19 330.938 2145.51 330.938 Q2146.1 330.938 2146.1 331.406 Q2145.47 334.428 2144.65 336.161 Q2143.33 338.808 2141.11 338.808 Q2139.42 338.808 2138.23 337.777 Q2137.03 336.746 2136.75 335.201 Q2133.68 338.808 2130.5 338.808 Q2127.69 338.808 2125.91 336.676 Q2124.13 334.521 2124.13 331.125 Q2124.13 327.705 2125.81 324.426 Q2127.52 321.147 2130.22 319.109 Q2132.91 317.072 2135.68 317.072 Q2138.6 317.072 2140.1 320.14 L2142.98 308.757 L2143.12 307.82 Q2143.12 307.539 2143.01 307.398 Q2142.91 307.234 2142.35 307.117 Q2141.81 307 2140.73 307 Q2140.29 307 2140.08 306.976 Q2139.89 306.953 2139.73 306.836 Q2139.56 306.695 2139.56 306.414 Q2139.56 305.595 2140.24 305.501 Q2144.74 304.986 2146.33 304.986 Q2146.61 304.986 2146.78 305.126 Q2146.94 305.243 2146.94 305.384 L2146.97 305.501 M2139.52 322.342 Q2139.52 322.131 2139.35 321.545 Q2139.19 320.96 2138.81 320.14 Q2138.44 319.32 2137.62 318.735 Q2136.82 318.126 2135.75 318.126 Q2134.29 318.126 2132.77 319.367 Q2131.27 320.608 2130.17 322.716 Q2129.33 324.403 2128.41 327.94 Q2127.52 331.476 2127.52 333.233 Q2127.52 334.31 2127.76 335.271 Q2128.02 336.208 2128.74 336.981 Q2129.47 337.73 2130.59 337.73 Q2133.33 337.73 2136.03 334.334 Q2136.54 333.748 2136.66 333.514 Q2136.8 333.256 2136.99 332.554 L2139.38 323.161 Q2139.52 322.459 2139.52 322.342 Z\" fill=\"#000000\" fill-rule=\"evenodd\" fill-opacity=\"1\" /><path clip-path=\"url(#clip910)\" d=\"M2169.35 325.176 Q2169.35 327.729 2168.22 330.258 Q2167.1 332.765 2165.3 334.638 Q2163.52 336.489 2161.17 337.66 Q2158.83 338.808 2156.49 338.808 Q2153.14 338.808 2150.96 336.536 Q2148.81 334.24 2148.81 330.68 Q2148.81 327.354 2150.66 324.192 Q2152.53 321.006 2155.53 319.039 Q2158.53 317.072 2161.67 317.072 Q2164.97 317.072 2167.15 319.297 Q2169.35 321.522 2169.35 325.176 M2165.83 323.302 Q2165.83 321.03 2164.73 319.578 Q2163.63 318.126 2161.62 318.126 Q2161.03 318.126 2160.35 318.313 Q2159.67 318.477 2158.78 318.922 Q2157.92 319.367 2156.93 320.304 Q2155.97 321.217 2155.13 322.529 Q2154.03 324.262 2153.19 327.448 Q2152.37 330.61 2152.37 332.507 Q2152.37 335.13 2153.58 336.442 Q2154.8 337.73 2156.54 337.73 Q2158.22 337.73 2160 336.559 Q2161.81 335.364 2163.05 333.327 Q2164.29 331.219 2165.06 328.127 Q2165.83 325.012 2165.83 323.302 Z\" fill=\"#000000\" fill-rule=\"evenodd\" fill-opacity=\"1\" /><path clip-path=\"url(#clip910)\" d=\"M2202.58 320.421 Q2202.58 322.224 2201.6 326.206 Q2200.61 330.188 2199.42 332.905 Q2196.86 338.808 2192.46 338.808 Q2191.92 338.808 2191.38 338.761 Q2190.87 338.714 2190.1 338.503 Q2189.32 338.292 2188.69 337.964 Q2188.06 337.613 2187.43 336.957 Q2186.82 336.301 2186.47 335.435 Q2184.52 338.808 2181.48 338.808 Q2178.53 338.808 2176.58 337.309 Q2174.66 335.809 2174.66 332.741 Q2174.66 331.359 2175.22 329.321 Q2175.78 327.284 2177.35 323.068 Q2178.22 320.889 2178.22 319.695 Q2178.22 319.156 2178.1 318.805 Q2177.99 318.453 2177.75 318.336 Q2177.54 318.196 2177.4 318.172 Q2177.26 318.126 2177.03 318.126 Q2175.62 318.126 2174.36 319.554 Q2173.09 320.96 2172.18 324.075 Q2171.99 324.66 2171.87 324.801 Q2171.76 324.941 2171.4 324.941 Q2170.82 324.918 2170.82 324.45 Q2170.82 324.262 2171.03 323.536 Q2171.24 322.787 2171.73 321.686 Q2172.25 320.561 2172.95 319.554 Q2173.65 318.524 2174.75 317.798 Q2175.88 317.072 2177.17 317.072 Q2178.9 317.072 2180 318.219 Q2181.1 319.367 2181.1 321.006 Q2181.1 321.475 2180.98 321.99 Q2180.87 322.482 2180.75 322.81 Q2180.66 323.115 2180.28 324.075 Q2178.74 328.127 2178.24 330.071 Q2177.78 332.015 2177.78 333.374 Q2177.78 333.819 2177.8 334.17 Q2177.82 334.521 2178.01 335.247 Q2178.22 335.973 2178.6 336.465 Q2178.97 336.934 2179.74 337.332 Q2180.54 337.73 2181.62 337.73 Q2184.31 337.73 2186.04 333.701 Q2186 333.467 2186 332.858 Q2186 331.5 2186.42 329.673 Q2186.54 329.251 2187.21 326.558 Q2187.89 323.841 2188.48 321.475 Q2189.09 319.086 2189.16 318.945 Q2189.39 318.289 2189.91 317.938 Q2190.42 317.587 2190.94 317.587 Q2191.52 317.587 2191.92 317.938 Q2192.32 318.289 2192.32 318.898 Q2192.32 319.016 2192.18 319.554 Q2192.06 320.07 2191.88 320.843 Q2191.69 321.615 2191.59 322.014 L2189.58 330.071 Q2189.07 331.945 2189.07 333.561 Q2189.07 335.599 2189.98 336.676 Q2190.89 337.73 2192.6 337.73 Q2195.81 337.73 2197.87 333.514 Q2198.81 331.687 2199.65 328.83 Q2200.52 325.972 2200.52 324.731 Q2200.52 322.388 2198.79 320.655 Q2198.41 320.327 2198.25 320.07 Q2198.08 319.789 2198.08 319.367 Q2198.08 318.571 2198.83 317.821 Q2199.58 317.072 2200.47 317.072 Q2201.27 317.072 2201.92 317.868 Q2202.58 318.641 2202.58 320.421 Z\" fill=\"#000000\" fill-rule=\"evenodd\" fill-opacity=\"1\" /><path clip-path=\"url(#clip910)\" d=\"M2231.78 331.406 Q2231.78 331.593 2231.57 332.32 Q2231.36 333.046 2230.84 334.17 Q2230.35 335.294 2229.67 336.325 Q2228.99 337.332 2227.87 338.081 Q2226.77 338.808 2225.5 338.808 Q2223.82 338.808 2222.69 337.683 Q2221.57 336.559 2221.57 334.873 Q2221.57 333.936 2222.06 332.647 Q2225.17 324.332 2225.17 321.475 Q2225.17 318.126 2222.57 318.126 Q2221.29 318.126 2220.07 318.617 Q2218.87 319.086 2218.05 319.742 Q2217.23 320.398 2216.48 321.311 Q2215.76 322.201 2215.38 322.81 Q2215.03 323.396 2214.75 323.981 L2214.14 326.37 Q2214 327.026 2213.32 329.579 L2212.27 333.912 Q2211.52 337.145 2211.36 337.449 Q2211.12 338.105 2210.61 338.456 Q2210.09 338.808 2209.58 338.808 Q2208.99 338.808 2208.59 338.456 Q2208.19 338.105 2208.19 337.496 Q2208.19 337.402 2208.26 337.051 Q2208.33 336.7 2208.45 336.208 Q2208.57 335.716 2208.61 335.435 L2211.4 324.356 Q2211.92 322.342 2212.03 321.709 Q2212.17 321.053 2212.17 320.327 Q2212.17 318.126 2210.68 318.126 Q2209.46 318.126 2208.66 319.578 Q2207.87 321.03 2207.19 323.841 Q2206.98 324.614 2206.83 324.778 Q2206.72 324.941 2206.37 324.941 Q2205.78 324.918 2205.78 324.45 Q2205.78 324.332 2205.97 323.56 Q2206.16 322.787 2206.51 321.686 Q2206.88 320.561 2207.23 319.812 Q2207.54 319.25 2207.7 318.992 Q2207.89 318.711 2208.33 318.172 Q2208.8 317.61 2209.41 317.353 Q2210.04 317.072 2210.82 317.072 Q2212.55 317.072 2213.81 318.196 Q2215.08 319.297 2215.24 321.241 Q2218.36 317.072 2222.72 317.072 Q2225.29 317.072 2226.77 318.43 Q2228.24 319.789 2228.24 322.201 Q2228.24 322.763 2228.13 323.489 Q2228.03 324.192 2227.8 325.082 Q2227.59 325.972 2227.4 326.651 Q2227.21 327.331 2226.84 328.431 Q2226.46 329.509 2226.3 329.977 Q2226.13 330.446 2225.74 331.547 Q2225.36 332.624 2225.31 332.741 Q2224.45 334.919 2224.45 336.161 Q2224.45 336.981 2224.71 337.355 Q2224.99 337.73 2225.6 337.73 Q2227.24 337.73 2228.45 336.114 Q2229.69 334.474 2230.49 331.804 Q2230.68 331.219 2230.77 331.078 Q2230.89 330.938 2231.22 330.938 Q2231.78 330.938 2231.78 331.406 Z\" fill=\"#000000\" fill-rule=\"evenodd\" fill-opacity=\"1\" /><polyline clip-path=\"url(#clip910)\" style=\"stroke:#c271d2; stroke-linecap:butt; stroke-linejoin:round; stroke-width:4; stroke-opacity:1; fill:none\" points=\"\n",
       "  1810.86,374.156 1953.05,374.156 \n",
       "  \"/>\n",
       "<path clip-path=\"url(#clip910)\" d=\"M1976.75 363.045 L1978.32 353.184 L1979.51 353.184 Q1979.65 353.77 1979.89 354.028 Q1980.14 354.285 1981.5 354.496 Q1982.88 354.707 1985.67 354.707 L1997.31 354.707 Q1997.31 355.808 1996.89 356.393 L1990.4 365.505 Q1988.34 368.386 1987.43 373.702 Q1986.89 377.263 1986.91 381.572 L1986.91 384.008 Q1986.91 386.655 1984.69 386.655 Q1982.49 386.655 1982.49 384.008 Q1982.49 374.85 1988.39 365.973 Q1989.02 365.06 1991.34 361.804 Q1993.68 358.548 1993.78 358.408 L1983.85 358.408 Q1979.49 358.408 1979.14 358.689 Q1978.67 359.11 1977.94 363.045 L1976.75 363.045 Z\" fill=\"#000000\" fill-rule=\"evenodd\" fill-opacity=\"1\" /><path clip-path=\"url(#clip910)\" d=\"M2030.83 368.526 Q2030.83 369.838 2030.17 370.54 Q2029.52 371.22 2028.63 371.22 Q2027.9 371.22 2027.5 370.798 Q2027.13 370.376 2027.13 369.814 Q2027.13 368.995 2027.78 368.339 Q2028.46 367.683 2029.45 367.659 Q2029.12 366.793 2028.25 366.278 Q2027.39 365.739 2026.61 365.598 Q2025.86 365.458 2025.11 365.458 Q2023.64 365.458 2022.51 365.926 Q2021.39 366.395 2020.83 367.121 Q2020.27 367.823 2020.01 368.503 Q2019.75 369.182 2019.75 369.767 Q2019.75 370.283 2019.87 370.704 Q2020.01 371.103 2020.34 371.407 Q2020.66 371.688 2020.9 371.875 Q2021.16 372.063 2021.72 372.227 Q2022.28 372.391 2022.51 372.461 Q2022.75 372.508 2023.4 372.648 Q2024.76 372.929 2025.37 373.093 Q2025.98 373.234 2026.78 373.632 Q2027.6 374.03 2028.21 374.663 Q2029.68 376.138 2029.68 378.176 Q2029.68 378.926 2029.42 379.839 Q2029.19 380.753 2028.51 381.9 Q2027.83 383.048 2026.8 383.961 Q2025.77 384.875 2023.99 385.507 Q2022.23 386.14 2020.03 386.14 Q2016.96 386.14 2015.07 384.852 Q2013.17 383.54 2013.17 381.479 Q2013.17 379.98 2013.99 379.16 Q2014.81 378.317 2015.86 378.317 Q2016.66 378.317 2017.15 378.762 Q2017.64 379.183 2017.64 379.98 Q2017.64 381.057 2016.78 381.877 Q2015.91 382.697 2014.62 382.533 Q2015.72 385.062 2020.08 385.062 Q2021.72 385.062 2022.98 384.641 Q2024.27 384.196 2024.97 383.587 Q2025.7 382.954 2026.17 382.181 Q2026.64 381.408 2026.78 380.823 Q2026.94 380.237 2026.94 379.792 Q2026.94 379.019 2026.64 378.434 Q2026.33 377.848 2025.91 377.52 Q2025.51 377.169 2024.74 376.888 Q2023.99 376.583 2023.45 376.466 Q2022.91 376.349 2021.95 376.162 Q2021.51 376.068 2021.23 376.021 Q2020.95 375.951 2020.36 375.764 Q2019.8 375.553 2019.4 375.342 Q2019.02 375.131 2018.53 374.756 Q2018.04 374.382 2017.74 373.937 Q2017.43 373.492 2017.22 372.836 Q2017.01 372.18 2017.01 371.407 Q2017.01 370.704 2017.22 369.861 Q2017.46 369.018 2018.04 368.034 Q2018.65 367.05 2019.52 366.254 Q2020.38 365.458 2021.84 364.942 Q2023.31 364.404 2025.11 364.404 Q2027.74 364.404 2029.28 365.622 Q2030.83 366.816 2030.83 368.526 Z\" fill=\"#000000\" fill-rule=\"evenodd\" fill-opacity=\"1\" /><path clip-path=\"url(#clip910)\" d=\"M2046.53 355.62 Q2046.53 356.651 2045.69 357.424 Q2044.87 358.173 2043.98 358.173 Q2043.16 358.173 2042.64 357.681 Q2042.15 357.166 2042.15 356.44 Q2042.15 355.48 2042.97 354.683 Q2043.79 353.887 2044.75 353.887 Q2045.55 353.887 2046.04 354.379 Q2046.53 354.871 2046.53 355.62 M2046.95 378.738 Q2046.95 378.926 2046.74 379.675 Q2046.53 380.401 2046.02 381.526 Q2045.53 382.626 2044.85 383.657 Q2044.17 384.688 2043.04 385.414 Q2041.94 386.14 2040.68 386.14 Q2038.97 386.14 2037.84 385.015 Q2036.74 383.891 2036.74 382.205 Q2036.74 381.291 2037.84 378.363 Q2041.03 369.838 2041.15 369.486 Q2041.68 368.151 2041.68 366.98 Q2041.68 366.441 2041.57 366.114 Q2041.45 365.762 2041.22 365.645 Q2040.98 365.505 2040.84 365.481 Q2040.72 365.458 2040.49 365.458 Q2039.11 365.458 2037.82 366.863 Q2036.53 368.268 2035.64 371.407 Q2035.45 371.993 2035.34 372.133 Q2035.22 372.274 2034.87 372.274 Q2034.28 372.25 2034.28 371.782 Q2034.28 371.641 2034.45 371.103 Q2034.61 370.54 2034.92 369.697 Q2035.22 368.831 2035.76 367.941 Q2036.3 367.027 2036.95 366.231 Q2037.63 365.434 2038.59 364.919 Q2039.55 364.404 2040.63 364.404 Q2042.39 364.404 2043.46 365.551 Q2044.57 366.676 2044.57 368.339 Q2044.57 369.252 2043.93 370.868 Q2043.16 372.976 2042.88 373.656 L2041.01 378.691 Q2040.33 380.518 2040.12 381.08 Q2039.93 381.619 2039.76 382.275 Q2039.62 382.907 2039.62 383.493 Q2039.62 384.313 2039.88 384.688 Q2040.16 385.062 2040.77 385.062 Q2042.46 385.062 2043.7 383.399 Q2044.94 381.713 2045.67 379.136 Q2045.69 379.066 2045.71 378.949 Q2045.9 378.363 2046.09 378.293 Q2046.18 378.27 2046.37 378.27 Q2046.95 378.27 2046.95 378.738 Z\" fill=\"#000000\" fill-rule=\"evenodd\" fill-opacity=\"1\" /><path clip-path=\"url(#clip910)\" d=\"M2065.77 365.458 Q2065.77 366.114 2065.47 366.278 Q2065.17 366.418 2064.32 366.418 L2059.82 366.418 L2056.26 380.565 Q2055.98 381.807 2055.98 382.861 Q2055.98 384.032 2056.33 384.547 Q2056.71 385.062 2057.48 385.062 Q2059.01 385.062 2060.64 383.68 Q2062.31 382.298 2063.71 378.926 Q2063.9 378.481 2063.99 378.387 Q2064.11 378.27 2064.42 378.27 Q2065 378.27 2065 378.738 Q2065 378.902 2064.67 379.652 Q2064.37 380.401 2063.69 381.502 Q2063.03 382.603 2062.17 383.634 Q2061.32 384.664 2060.04 385.414 Q2058.75 386.14 2057.37 386.14 Q2055.42 386.14 2054.18 384.898 Q2052.96 383.657 2052.96 381.713 Q2052.96 381.08 2053.45 379.066 Q2053.95 377.028 2056.62 366.418 L2052.38 366.418 Q2051.79 366.418 2051.56 366.395 Q2051.35 366.371 2051.18 366.254 Q2051.04 366.114 2051.04 365.832 Q2051.04 365.387 2051.23 365.2 Q2051.42 364.989 2051.65 364.966 Q2051.91 364.919 2052.49 364.919 L2056.99 364.919 L2058.86 357.307 Q2059.05 356.557 2059.52 356.136 Q2060.01 355.691 2060.29 355.644 Q2060.57 355.573 2060.79 355.573 Q2061.42 355.573 2061.79 355.925 Q2062.17 356.253 2062.17 356.862 Q2062.17 357.19 2060.2 364.919 L2064.42 364.919 Q2064.95 364.919 2065.17 364.942 Q2065.4 364.966 2065.59 365.083 Q2065.77 365.2 2065.77 365.458 Z\" fill=\"#000000\" fill-rule=\"evenodd\" fill-opacity=\"1\" /><path clip-path=\"url(#clip910)\" d=\"M2085.31 380.05 Q2085.5 380.261 2085.5 380.472 Q2085.5 380.682 2085.03 381.291 Q2084.59 381.9 2083.62 382.72 Q2082.66 383.54 2081.42 384.313 Q2080.18 385.086 2078.35 385.601 Q2076.53 386.14 2074.61 386.14 Q2071.16 386.14 2069.1 383.68 Q2067.07 381.221 2067.07 377.45 Q2067.07 375.038 2067.86 372.906 Q2068.66 370.751 2069.95 369.229 Q2071.26 367.706 2072.9 366.605 Q2074.56 365.481 2076.29 364.942 Q2078.03 364.404 2079.64 364.404 Q2082.01 364.404 2083.39 365.598 Q2084.77 366.793 2084.77 368.479 Q2084.77 368.877 2084.66 369.369 Q2084.56 369.861 2084.23 370.634 Q2083.93 371.407 2083.13 372.18 Q2082.34 372.929 2081.17 373.421 Q2078.57 374.522 2073.83 374.522 L2071.28 374.522 Q2070.53 377.544 2070.53 379.511 Q2070.53 380.284 2070.67 381.08 Q2070.81 381.853 2071.19 382.837 Q2071.59 383.821 2072.48 384.453 Q2073.39 385.062 2074.7 385.062 Q2075.12 385.062 2075.57 385.039 Q2076.04 385.015 2077.21 384.758 Q2078.4 384.5 2079.46 384.055 Q2080.51 383.61 2081.84 382.65 Q2083.2 381.666 2084.28 380.331 Q2084.66 379.839 2084.91 379.839 Q2085.12 379.839 2085.31 380.05 M2083.18 368.479 Q2083.18 367.191 2082.22 366.324 Q2081.28 365.458 2079.64 365.458 Q2079.13 365.458 2078.5 365.575 Q2077.86 365.692 2076.81 366.184 Q2075.78 366.676 2074.86 367.495 Q2073.95 368.292 2073.04 369.861 Q2072.12 371.407 2071.59 373.468 L2073.55 373.468 Q2074.23 373.468 2074.72 373.468 Q2075.22 373.445 2076.29 373.351 Q2077.39 373.257 2078.19 373.093 Q2078.99 372.906 2079.99 372.531 Q2081 372.157 2081.63 371.665 Q2082.29 371.149 2082.73 370.33 Q2083.18 369.51 2083.18 368.479 Z\" fill=\"#000000\" fill-rule=\"evenodd\" fill-opacity=\"1\" /><path clip-path=\"url(#clip910)\" d=\"M2106.85 368.526 Q2106.85 369.838 2106.2 370.54 Q2105.54 371.22 2104.65 371.22 Q2103.92 371.22 2103.53 370.798 Q2103.15 370.376 2103.15 369.814 Q2103.15 368.995 2103.81 368.339 Q2104.49 367.683 2105.47 367.659 Q2105.14 366.793 2104.28 366.278 Q2103.41 365.739 2102.64 365.598 Q2101.89 365.458 2101.14 365.458 Q2099.66 365.458 2098.54 365.926 Q2097.41 366.395 2096.85 367.121 Q2096.29 367.823 2096.03 368.503 Q2095.77 369.182 2095.77 369.767 Q2095.77 370.283 2095.89 370.704 Q2096.03 371.103 2096.36 371.407 Q2096.69 371.688 2096.92 371.875 Q2097.18 372.063 2097.74 372.227 Q2098.3 372.391 2098.54 372.461 Q2098.77 372.508 2099.43 372.648 Q2100.79 372.929 2101.39 373.093 Q2102 373.234 2102.8 373.632 Q2103.62 374.03 2104.23 374.663 Q2105.7 376.138 2105.7 378.176 Q2105.7 378.926 2105.45 379.839 Q2105.21 380.753 2104.53 381.9 Q2103.85 383.048 2102.82 383.961 Q2101.79 384.875 2100.01 385.507 Q2098.26 386.14 2096.05 386.14 Q2092.99 386.14 2091.09 384.852 Q2089.19 383.54 2089.19 381.479 Q2089.19 379.98 2090.01 379.16 Q2090.83 378.317 2091.89 378.317 Q2092.68 378.317 2093.17 378.762 Q2093.67 379.183 2093.67 379.98 Q2093.67 381.057 2092.8 381.877 Q2091.93 382.697 2090.64 382.533 Q2091.74 385.062 2096.1 385.062 Q2097.74 385.062 2099.01 384.641 Q2100.29 384.196 2101 383.587 Q2101.72 382.954 2102.19 382.181 Q2102.66 381.408 2102.8 380.823 Q2102.96 380.237 2102.96 379.792 Q2102.96 379.019 2102.66 378.434 Q2102.36 377.848 2101.93 377.52 Q2101.54 377.169 2100.76 376.888 Q2100.01 376.583 2099.47 376.466 Q2098.94 376.349 2097.98 376.162 Q2097.53 376.068 2097.25 376.021 Q2096.97 375.951 2096.38 375.764 Q2095.82 375.553 2095.42 375.342 Q2095.05 375.131 2094.56 374.756 Q2094.06 374.382 2093.76 373.937 Q2093.45 373.492 2093.24 372.836 Q2093.03 372.18 2093.03 371.407 Q2093.03 370.704 2093.24 369.861 Q2093.48 369.018 2094.06 368.034 Q2094.67 367.05 2095.54 366.254 Q2096.41 365.458 2097.86 364.942 Q2099.33 364.404 2101.14 364.404 Q2103.76 364.404 2105.31 365.622 Q2106.85 366.816 2106.85 368.526 Z\" fill=\"#000000\" fill-rule=\"evenodd\" fill-opacity=\"1\" /><path clip-path=\"url(#clip910)\" d=\"M2148.79 378.738 Q2148.18 381.76 2147.36 383.493 Q2146.03 386.14 2143.8 386.14 Q2142.26 386.14 2141.09 385.273 Q2139.94 384.383 2139.54 382.907 Q2139.1 383.493 2138.7 383.891 Q2138.32 384.289 2137.6 384.898 Q2136.87 385.484 2135.89 385.812 Q2134.93 386.14 2133.83 386.14 Q2132.98 386.14 2132.21 385.976 Q2131.44 385.835 2130.62 385.437 Q2129.82 385.015 2129.23 384.383 Q2128.67 383.751 2128.3 382.72 Q2127.92 381.689 2127.92 380.378 Q2127.92 378.738 2128.56 376.513 Q2129.21 374.288 2130.71 370.306 Q2131.53 368.198 2131.53 367.027 Q2131.53 366.488 2131.41 366.137 Q2131.3 365.786 2131.06 365.669 Q2130.85 365.528 2130.71 365.505 Q2130.57 365.458 2130.34 365.458 Q2128.88 365.458 2127.62 366.933 Q2126.35 368.409 2125.49 371.407 Q2125.3 371.993 2125.18 372.133 Q2125.07 372.274 2124.71 372.274 Q2124.13 372.25 2124.13 371.782 Q2124.13 371.594 2124.34 370.868 Q2124.55 370.119 2125.04 369.018 Q2125.56 367.894 2126.26 366.886 Q2126.96 365.856 2128.06 365.13 Q2129.19 364.404 2130.48 364.404 Q2132.23 364.404 2133.31 365.551 Q2134.41 366.676 2134.41 368.339 Q2134.41 369.369 2133.59 371.36 Q2130.99 378.27 2130.99 381.151 Q2130.99 385.062 2133.97 385.062 Q2134.95 385.062 2135.86 384.664 Q2136.8 384.266 2137.41 383.704 Q2138.02 383.142 2138.49 382.533 Q2138.98 381.924 2139.19 381.526 Q2139.42 381.127 2139.45 381.034 L2143.03 366.605 Q2143.17 366.043 2143.43 365.669 Q2143.71 365.27 2144.04 365.13 Q2144.37 364.989 2144.55 364.966 Q2144.74 364.919 2144.9 364.919 Q2145.49 364.919 2145.89 365.27 Q2146.31 365.622 2146.31 366.231 Q2146.31 366.348 2146.17 366.91 Q2146.05 367.449 2145.86 368.245 Q2145.68 369.018 2145.58 369.44 Q2144.83 372.391 2144.76 372.695 L2143.43 377.872 Q2143.36 378.176 2143.12 379.16 Q2142.91 380.144 2142.8 380.659 Q2142.68 381.151 2142.56 381.83 Q2142.47 382.486 2142.47 382.861 Q2142.47 384.032 2142.82 384.547 Q2143.17 385.062 2143.94 385.062 Q2144.67 385.062 2145.23 384.57 Q2145.82 384.055 2146.26 383.071 Q2146.71 382.064 2146.97 381.244 Q2147.22 380.425 2147.55 379.136 Q2147.67 378.574 2147.76 378.434 Q2147.88 378.27 2148.21 378.27 Q2148.79 378.27 2148.79 378.738 Z\" fill=\"#000000\" fill-rule=\"evenodd\" fill-opacity=\"1\" /><path clip-path=\"url(#clip910)\" d=\"M2173.09 372.063 Q2173.09 375.483 2171.35 378.785 Q2169.64 382.088 2166.95 384.125 Q2164.26 386.14 2161.52 386.14 Q2159.88 386.14 2158.77 385.25 Q2157.7 384.336 2157.11 383.048 Q2156.67 384.641 2155.71 388.459 Q2154.75 392.276 2154.75 392.651 Q2154.75 392.862 2154.79 392.956 Q2154.84 393.049 2155.05 393.166 Q2155.26 393.307 2155.78 393.354 Q2156.29 393.424 2157.16 393.424 Q2157.6 393.424 2157.77 393.424 Q2157.95 393.448 2158.12 393.565 Q2158.31 393.682 2158.31 393.939 Q2158.31 394.9 2157.44 394.9 Q2156.67 394.9 2155.07 394.829 Q2153.48 394.759 2152.68 394.759 Q2152.01 394.759 2150.65 394.829 Q2149.29 394.9 2148.66 394.9 Q2148.02 394.9 2148.02 394.338 Q2148.02 394.01 2148.12 393.799 Q2148.19 393.612 2148.38 393.518 Q2148.56 393.448 2148.73 393.424 Q2148.87 393.424 2149.15 393.424 Q2150.23 393.424 2150.69 393.237 Q2151.16 393.073 2151.33 392.721 Q2151.51 392.394 2151.72 391.457 L2157.11 370.095 Q2157.44 368.667 2157.44 367.659 Q2157.44 366.395 2157.04 365.926 Q2156.64 365.458 2155.94 365.458 Q2154.72 365.458 2153.93 366.91 Q2153.13 368.362 2152.45 371.173 Q2152.24 371.946 2152.1 372.11 Q2151.98 372.274 2151.63 372.274 Q2151.05 372.25 2151.05 371.782 Q2151.05 371.665 2151.23 370.915 Q2151.42 370.142 2151.77 369.018 Q2152.15 367.87 2152.54 367.144 Q2152.78 366.652 2152.99 366.324 Q2153.2 365.996 2153.62 365.481 Q2154.07 364.966 2154.7 364.685 Q2155.33 364.404 2156.1 364.404 Q2157.6 364.404 2158.84 365.294 Q2160.09 366.184 2160.41 367.987 Q2161.75 366.418 2163.39 365.411 Q2165.03 364.404 2166.69 364.404 Q2169.46 364.404 2171.26 366.559 Q2173.09 368.69 2173.09 372.063 M2169.62 369.955 Q2169.62 367.823 2168.8 366.652 Q2168 365.458 2166.55 365.458 Q2164.75 365.458 2162.66 367.285 Q2160.6 369.018 2160.18 370.634 L2157.81 380.026 L2157.67 380.799 Q2157.67 380.94 2157.74 381.362 Q2157.84 381.76 2158.1 382.416 Q2158.38 383.071 2158.75 383.657 Q2159.15 384.219 2159.85 384.641 Q2160.58 385.062 2161.47 385.062 Q2162.9 385.062 2164.44 383.798 Q2166.01 382.533 2167.18 380.144 Q2167.91 378.598 2168.75 375.272 Q2169.62 371.922 2169.62 369.955 Z\" fill=\"#000000\" fill-rule=\"evenodd\" fill-opacity=\"1\" /><polyline clip-path=\"url(#clip910)\" style=\"stroke:#ac8d18; stroke-linecap:butt; stroke-linejoin:round; stroke-width:4; stroke-opacity:1; fill:none\" points=\"\n",
       "  1810.86,425.996 1953.05,425.996 \n",
       "  \"/>\n",
       "<path clip-path=\"url(#clip910)\" d=\"M1976.75 420.798 Q1976.75 418.245 1977.5 416.512 Q1978.25 414.755 1979.82 413.022 Q1982.7 410.001 1986.87 410.001 Q1988.65 410.001 1990.22 410.75 Q1991.81 411.5 1993.31 413.21 Q1994.83 414.896 1995.74 418.245 Q1996.66 421.571 1996.66 426.162 Q1996.66 433.587 1993.05 438.295 Q1989.47 443.003 1984.62 443.003 Q1981.55 443.003 1979.75 441.621 Q1977.94 440.216 1977.94 437.826 Q1977.94 436.585 1978.65 436.07 Q1979.35 435.531 1980.14 435.531 Q1981.01 435.531 1981.69 436.117 Q1982.37 436.679 1982.37 437.733 Q1982.37 438.599 1981.81 439.279 Q1981.27 439.935 1979.86 439.935 Q1981.25 441.668 1984.57 441.668 Q1985.77 441.668 1986.96 441.129 Q1988.15 440.567 1989.44 439.232 Q1990.75 437.873 1991.55 435.039 Q1992.35 432.205 1992.35 428.223 L1992.35 426.701 Q1990.43 431.502 1986.35 431.502 Q1982.32 431.502 1979.54 428.411 Q1976.75 425.319 1976.75 420.798 M1981.06 420.845 Q1981.06 425.6 1981.92 427.357 Q1983.4 430.378 1986.4 430.378 Q1989.33 430.378 1990.78 427.778 Q1992.25 425.155 1992.25 421.759 Q1992.25 417.051 1991.48 414.99 Q1990.05 411.195 1986.87 411.195 Q1983.7 411.195 1982.07 414.217 Q1981.06 415.997 1981.06 420.845 Z\" fill=\"#000000\" fill-rule=\"evenodd\" fill-opacity=\"1\" /><path clip-path=\"url(#clip910)\" d=\"M2030.83 424.874 Q2030.83 426.186 2030.17 426.888 Q2029.52 427.567 2028.63 427.567 Q2027.9 427.567 2027.5 427.146 Q2027.13 426.724 2027.13 426.162 Q2027.13 425.342 2027.78 424.686 Q2028.46 424.031 2029.45 424.007 Q2029.12 423.141 2028.25 422.625 Q2027.39 422.087 2026.61 421.946 Q2025.86 421.806 2025.11 421.806 Q2023.64 421.806 2022.51 422.274 Q2021.39 422.742 2020.83 423.469 Q2020.27 424.171 2020.01 424.85 Q2019.75 425.53 2019.75 426.115 Q2019.75 426.631 2019.87 427.052 Q2020.01 427.45 2020.34 427.755 Q2020.66 428.036 2020.9 428.223 Q2021.16 428.411 2021.72 428.575 Q2022.28 428.739 2022.51 428.809 Q2022.75 428.856 2023.4 428.996 Q2024.76 429.277 2025.37 429.441 Q2025.98 429.582 2026.78 429.98 Q2027.6 430.378 2028.21 431.011 Q2029.68 432.486 2029.68 434.524 Q2029.68 435.273 2029.42 436.187 Q2029.19 437.1 2028.51 438.248 Q2027.83 439.396 2026.8 440.309 Q2025.77 441.223 2023.99 441.855 Q2022.23 442.488 2020.03 442.488 Q2016.96 442.488 2015.07 441.199 Q2013.17 439.888 2013.17 437.826 Q2013.17 436.327 2013.99 435.508 Q2014.81 434.664 2015.86 434.664 Q2016.66 434.664 2017.15 435.109 Q2017.64 435.531 2017.64 436.327 Q2017.64 437.405 2016.78 438.225 Q2015.91 439.044 2014.62 438.881 Q2015.72 441.41 2020.08 441.41 Q2021.72 441.41 2022.98 440.989 Q2024.27 440.543 2024.97 439.935 Q2025.7 439.302 2026.17 438.529 Q2026.64 437.756 2026.78 437.171 Q2026.94 436.585 2026.94 436.14 Q2026.94 435.367 2026.64 434.782 Q2026.33 434.196 2025.91 433.868 Q2025.51 433.517 2024.74 433.236 Q2023.99 432.931 2023.45 432.814 Q2022.91 432.697 2021.95 432.51 Q2021.51 432.416 2021.23 432.369 Q2020.95 432.299 2020.36 432.111 Q2019.8 431.901 2019.4 431.69 Q2019.02 431.479 2018.53 431.104 Q2018.04 430.729 2017.74 430.284 Q2017.43 429.839 2017.22 429.184 Q2017.01 428.528 2017.01 427.755 Q2017.01 427.052 2017.22 426.209 Q2017.46 425.366 2018.04 424.382 Q2018.65 423.398 2019.52 422.602 Q2020.38 421.806 2021.84 421.29 Q2023.31 420.752 2025.11 420.752 Q2027.74 420.752 2029.28 421.969 Q2030.83 423.164 2030.83 424.874 Z\" fill=\"#000000\" fill-rule=\"evenodd\" fill-opacity=\"1\" /><path clip-path=\"url(#clip910)\" d=\"M2046.53 411.968 Q2046.53 412.999 2045.69 413.772 Q2044.87 414.521 2043.98 414.521 Q2043.16 414.521 2042.64 414.029 Q2042.15 413.514 2042.15 412.788 Q2042.15 411.828 2042.97 411.031 Q2043.79 410.235 2044.75 410.235 Q2045.55 410.235 2046.04 410.727 Q2046.53 411.219 2046.53 411.968 M2046.95 435.086 Q2046.95 435.273 2046.74 436.023 Q2046.53 436.749 2046.02 437.873 Q2045.53 438.974 2044.85 440.005 Q2044.17 441.035 2043.04 441.761 Q2041.94 442.488 2040.68 442.488 Q2038.97 442.488 2037.84 441.363 Q2036.74 440.239 2036.74 438.553 Q2036.74 437.639 2037.84 434.711 Q2041.03 426.186 2041.15 425.834 Q2041.68 424.499 2041.68 423.328 Q2041.68 422.789 2041.57 422.461 Q2041.45 422.11 2041.22 421.993 Q2040.98 421.852 2040.84 421.829 Q2040.72 421.806 2040.49 421.806 Q2039.11 421.806 2037.82 423.211 Q2036.53 424.616 2035.64 427.755 Q2035.45 428.34 2035.34 428.481 Q2035.22 428.621 2034.87 428.621 Q2034.28 428.598 2034.28 428.13 Q2034.28 427.989 2034.45 427.45 Q2034.61 426.888 2034.92 426.045 Q2035.22 425.178 2035.76 424.288 Q2036.3 423.375 2036.95 422.578 Q2037.63 421.782 2038.59 421.267 Q2039.55 420.752 2040.63 420.752 Q2042.39 420.752 2043.46 421.899 Q2044.57 423.024 2044.57 424.686 Q2044.57 425.6 2043.93 427.216 Q2043.16 429.324 2042.88 430.003 L2041.01 435.039 Q2040.33 436.866 2040.12 437.428 Q2039.93 437.967 2039.76 438.623 Q2039.62 439.255 2039.62 439.841 Q2039.62 440.661 2039.88 441.035 Q2040.16 441.41 2040.77 441.41 Q2042.46 441.41 2043.7 439.747 Q2044.94 438.061 2045.67 435.484 Q2045.69 435.414 2045.71 435.297 Q2045.9 434.711 2046.09 434.641 Q2046.18 434.618 2046.37 434.618 Q2046.95 434.618 2046.95 435.086 Z\" fill=\"#000000\" fill-rule=\"evenodd\" fill-opacity=\"1\" /><path clip-path=\"url(#clip910)\" d=\"M2065.77 421.806 Q2065.77 422.461 2065.47 422.625 Q2065.17 422.766 2064.32 422.766 L2059.82 422.766 L2056.26 436.913 Q2055.98 438.154 2055.98 439.208 Q2055.98 440.38 2056.33 440.895 Q2056.71 441.41 2057.48 441.41 Q2059.01 441.41 2060.64 440.028 Q2062.31 438.646 2063.71 435.273 Q2063.9 434.828 2063.99 434.735 Q2064.11 434.618 2064.42 434.618 Q2065 434.618 2065 435.086 Q2065 435.25 2064.67 436 Q2064.37 436.749 2063.69 437.85 Q2063.03 438.951 2062.17 439.981 Q2061.32 441.012 2060.04 441.761 Q2058.75 442.488 2057.37 442.488 Q2055.42 442.488 2054.18 441.246 Q2052.96 440.005 2052.96 438.061 Q2052.96 437.428 2053.45 435.414 Q2053.95 433.376 2056.62 422.766 L2052.38 422.766 Q2051.79 422.766 2051.56 422.742 Q2051.35 422.719 2051.18 422.602 Q2051.04 422.461 2051.04 422.18 Q2051.04 421.735 2051.23 421.548 Q2051.42 421.337 2051.65 421.314 Q2051.91 421.267 2052.49 421.267 L2056.99 421.267 L2058.86 413.655 Q2059.05 412.905 2059.52 412.483 Q2060.01 412.038 2060.29 411.992 Q2060.57 411.921 2060.79 411.921 Q2061.42 411.921 2061.79 412.273 Q2062.17 412.601 2062.17 413.21 Q2062.17 413.537 2060.2 421.267 L2064.42 421.267 Q2064.95 421.267 2065.17 421.29 Q2065.4 421.314 2065.59 421.431 Q2065.77 421.548 2065.77 421.806 Z\" fill=\"#000000\" fill-rule=\"evenodd\" fill-opacity=\"1\" /><path clip-path=\"url(#clip910)\" d=\"M2085.31 436.398 Q2085.5 436.609 2085.5 436.819 Q2085.5 437.03 2085.03 437.639 Q2084.59 438.248 2083.62 439.068 Q2082.66 439.888 2081.42 440.661 Q2080.18 441.434 2078.35 441.949 Q2076.53 442.488 2074.61 442.488 Q2071.16 442.488 2069.1 440.028 Q2067.07 437.569 2067.07 433.798 Q2067.07 431.385 2067.86 429.254 Q2068.66 427.099 2069.95 425.577 Q2071.26 424.054 2072.9 422.953 Q2074.56 421.829 2076.29 421.29 Q2078.03 420.752 2079.64 420.752 Q2082.01 420.752 2083.39 421.946 Q2084.77 423.141 2084.77 424.827 Q2084.77 425.225 2084.66 425.717 Q2084.56 426.209 2084.23 426.982 Q2083.93 427.755 2083.13 428.528 Q2082.34 429.277 2081.17 429.769 Q2078.57 430.87 2073.83 430.87 L2071.28 430.87 Q2070.53 433.892 2070.53 435.859 Q2070.53 436.632 2070.67 437.428 Q2070.81 438.201 2071.19 439.185 Q2071.59 440.169 2072.48 440.801 Q2073.39 441.41 2074.7 441.41 Q2075.12 441.41 2075.57 441.387 Q2076.04 441.363 2077.21 441.106 Q2078.4 440.848 2079.46 440.403 Q2080.51 439.958 2081.84 438.998 Q2083.2 438.014 2084.28 436.679 Q2084.66 436.187 2084.91 436.187 Q2085.12 436.187 2085.31 436.398 M2083.18 424.827 Q2083.18 423.539 2082.22 422.672 Q2081.28 421.806 2079.64 421.806 Q2079.13 421.806 2078.5 421.923 Q2077.86 422.04 2076.81 422.532 Q2075.78 423.024 2074.86 423.843 Q2073.95 424.64 2073.04 426.209 Q2072.12 427.755 2071.59 429.816 L2073.55 429.816 Q2074.23 429.816 2074.72 429.816 Q2075.22 429.793 2076.29 429.699 Q2077.39 429.605 2078.19 429.441 Q2078.99 429.254 2079.99 428.879 Q2081 428.504 2081.63 428.012 Q2082.29 427.497 2082.73 426.677 Q2083.18 425.858 2083.18 424.827 Z\" fill=\"#000000\" fill-rule=\"evenodd\" fill-opacity=\"1\" /><path clip-path=\"url(#clip910)\" d=\"M2106.85 424.874 Q2106.85 426.186 2106.2 426.888 Q2105.54 427.567 2104.65 427.567 Q2103.92 427.567 2103.53 427.146 Q2103.15 426.724 2103.15 426.162 Q2103.15 425.342 2103.81 424.686 Q2104.49 424.031 2105.47 424.007 Q2105.14 423.141 2104.28 422.625 Q2103.41 422.087 2102.64 421.946 Q2101.89 421.806 2101.14 421.806 Q2099.66 421.806 2098.54 422.274 Q2097.41 422.742 2096.85 423.469 Q2096.29 424.171 2096.03 424.85 Q2095.77 425.53 2095.77 426.115 Q2095.77 426.631 2095.89 427.052 Q2096.03 427.45 2096.36 427.755 Q2096.69 428.036 2096.92 428.223 Q2097.18 428.411 2097.74 428.575 Q2098.3 428.739 2098.54 428.809 Q2098.77 428.856 2099.43 428.996 Q2100.79 429.277 2101.39 429.441 Q2102 429.582 2102.8 429.98 Q2103.62 430.378 2104.23 431.011 Q2105.7 432.486 2105.7 434.524 Q2105.7 435.273 2105.45 436.187 Q2105.21 437.1 2104.53 438.248 Q2103.85 439.396 2102.82 440.309 Q2101.79 441.223 2100.01 441.855 Q2098.26 442.488 2096.05 442.488 Q2092.99 442.488 2091.09 441.199 Q2089.19 439.888 2089.19 437.826 Q2089.19 436.327 2090.01 435.508 Q2090.83 434.664 2091.89 434.664 Q2092.68 434.664 2093.17 435.109 Q2093.67 435.531 2093.67 436.327 Q2093.67 437.405 2092.8 438.225 Q2091.93 439.044 2090.64 438.881 Q2091.74 441.41 2096.1 441.41 Q2097.74 441.41 2099.01 440.989 Q2100.29 440.543 2101 439.935 Q2101.72 439.302 2102.19 438.529 Q2102.66 437.756 2102.8 437.171 Q2102.96 436.585 2102.96 436.14 Q2102.96 435.367 2102.66 434.782 Q2102.36 434.196 2101.93 433.868 Q2101.54 433.517 2100.76 433.236 Q2100.01 432.931 2099.47 432.814 Q2098.94 432.697 2097.98 432.51 Q2097.53 432.416 2097.25 432.369 Q2096.97 432.299 2096.38 432.111 Q2095.82 431.901 2095.42 431.69 Q2095.05 431.479 2094.56 431.104 Q2094.06 430.729 2093.76 430.284 Q2093.45 429.839 2093.24 429.184 Q2093.03 428.528 2093.03 427.755 Q2093.03 427.052 2093.24 426.209 Q2093.48 425.366 2094.06 424.382 Q2094.67 423.398 2095.54 422.602 Q2096.41 421.806 2097.86 421.29 Q2099.33 420.752 2101.14 420.752 Q2103.76 420.752 2105.31 421.969 Q2106.85 423.164 2106.85 424.874 Z\" fill=\"#000000\" fill-rule=\"evenodd\" fill-opacity=\"1\" /><path clip-path=\"url(#clip910)\" d=\"M2146.97 409.181 L2140.06 436.913 Q2139.77 438.154 2139.77 439.208 Q2139.77 441.41 2141.2 441.41 Q2141.91 441.41 2142.47 440.965 Q2143.03 440.52 2143.48 439.583 Q2143.92 438.646 2144.2 437.78 Q2144.48 436.89 2144.86 435.484 Q2144.97 434.922 2145.07 434.782 Q2145.19 434.618 2145.51 434.618 Q2146.1 434.618 2146.1 435.086 Q2145.47 438.108 2144.65 439.841 Q2143.33 442.488 2141.11 442.488 Q2139.42 442.488 2138.23 441.457 Q2137.03 440.426 2136.75 438.881 Q2133.68 442.488 2130.5 442.488 Q2127.69 442.488 2125.91 440.356 Q2124.13 438.201 2124.13 434.805 Q2124.13 431.385 2125.81 428.106 Q2127.52 424.827 2130.22 422.789 Q2132.91 420.752 2135.68 420.752 Q2138.6 420.752 2140.1 423.82 L2142.98 412.437 L2143.12 411.5 Q2143.12 411.219 2143.01 411.078 Q2142.91 410.914 2142.35 410.797 Q2141.81 410.68 2140.73 410.68 Q2140.29 410.68 2140.08 410.656 Q2139.89 410.633 2139.73 410.516 Q2139.56 410.375 2139.56 410.094 Q2139.56 409.275 2140.24 409.181 Q2144.74 408.666 2146.33 408.666 Q2146.61 408.666 2146.78 408.806 Q2146.94 408.923 2146.94 409.064 L2146.97 409.181 M2139.52 426.022 Q2139.52 425.811 2139.35 425.225 Q2139.19 424.64 2138.81 423.82 Q2138.44 423 2137.62 422.415 Q2136.82 421.806 2135.75 421.806 Q2134.29 421.806 2132.77 423.047 Q2131.27 424.288 2130.17 426.396 Q2129.33 428.083 2128.41 431.62 Q2127.52 435.156 2127.52 436.913 Q2127.52 437.99 2127.76 438.951 Q2128.02 439.888 2128.74 440.661 Q2129.47 441.41 2130.59 441.41 Q2133.33 441.41 2136.03 438.014 Q2136.54 437.428 2136.66 437.194 Q2136.8 436.936 2136.99 436.234 L2139.38 426.841 Q2139.52 426.139 2139.52 426.022 Z\" fill=\"#000000\" fill-rule=\"evenodd\" fill-opacity=\"1\" /><path clip-path=\"url(#clip910)\" d=\"M2169.35 428.856 Q2169.35 431.409 2168.22 433.938 Q2167.1 436.445 2165.3 438.318 Q2163.52 440.169 2161.17 441.34 Q2158.83 442.488 2156.49 442.488 Q2153.14 442.488 2150.96 440.216 Q2148.81 437.92 2148.81 434.36 Q2148.81 431.034 2150.66 427.872 Q2152.53 424.686 2155.53 422.719 Q2158.53 420.752 2161.67 420.752 Q2164.97 420.752 2167.15 422.977 Q2169.35 425.202 2169.35 428.856 M2165.83 426.982 Q2165.83 424.71 2164.73 423.258 Q2163.63 421.806 2161.62 421.806 Q2161.03 421.806 2160.35 421.993 Q2159.67 422.157 2158.78 422.602 Q2157.92 423.047 2156.93 423.984 Q2155.97 424.897 2155.13 426.209 Q2154.03 427.942 2153.19 431.128 Q2152.37 434.29 2152.37 436.187 Q2152.37 438.81 2153.58 440.122 Q2154.8 441.41 2156.54 441.41 Q2158.22 441.41 2160 440.239 Q2161.81 439.044 2163.05 437.007 Q2164.29 434.899 2165.06 431.807 Q2165.83 428.692 2165.83 426.982 Z\" fill=\"#000000\" fill-rule=\"evenodd\" fill-opacity=\"1\" /><path clip-path=\"url(#clip910)\" d=\"M2202.58 424.101 Q2202.58 425.904 2201.6 429.886 Q2200.61 433.868 2199.42 436.585 Q2196.86 442.488 2192.46 442.488 Q2191.92 442.488 2191.38 442.441 Q2190.87 442.394 2190.1 442.183 Q2189.32 441.972 2188.69 441.644 Q2188.06 441.293 2187.43 440.637 Q2186.82 439.981 2186.47 439.115 Q2184.52 442.488 2181.48 442.488 Q2178.53 442.488 2176.58 440.989 Q2174.66 439.489 2174.66 436.421 Q2174.66 435.039 2175.22 433.001 Q2175.78 430.964 2177.35 426.748 Q2178.22 424.569 2178.22 423.375 Q2178.22 422.836 2178.1 422.485 Q2177.99 422.133 2177.75 422.016 Q2177.54 421.876 2177.4 421.852 Q2177.26 421.806 2177.03 421.806 Q2175.62 421.806 2174.36 423.234 Q2173.09 424.64 2172.18 427.755 Q2171.99 428.34 2171.87 428.481 Q2171.76 428.621 2171.4 428.621 Q2170.82 428.598 2170.82 428.13 Q2170.82 427.942 2171.03 427.216 Q2171.24 426.467 2171.73 425.366 Q2172.25 424.241 2172.95 423.234 Q2173.65 422.204 2174.75 421.478 Q2175.88 420.752 2177.17 420.752 Q2178.9 420.752 2180 421.899 Q2181.1 423.047 2181.1 424.686 Q2181.1 425.155 2180.98 425.67 Q2180.87 426.162 2180.75 426.49 Q2180.66 426.795 2180.28 427.755 Q2178.74 431.807 2178.24 433.751 Q2177.78 435.695 2177.78 437.054 Q2177.78 437.499 2177.8 437.85 Q2177.82 438.201 2178.01 438.927 Q2178.22 439.653 2178.6 440.145 Q2178.97 440.614 2179.74 441.012 Q2180.54 441.41 2181.62 441.41 Q2184.31 441.41 2186.04 437.381 Q2186 437.147 2186 436.538 Q2186 435.18 2186.42 433.353 Q2186.54 432.931 2187.21 430.238 Q2187.89 427.521 2188.48 425.155 Q2189.09 422.766 2189.16 422.625 Q2189.39 421.969 2189.91 421.618 Q2190.42 421.267 2190.94 421.267 Q2191.52 421.267 2191.92 421.618 Q2192.32 421.969 2192.32 422.578 Q2192.32 422.696 2192.18 423.234 Q2192.06 423.75 2191.88 424.523 Q2191.69 425.295 2191.59 425.694 L2189.58 433.751 Q2189.07 435.625 2189.07 437.241 Q2189.07 439.279 2189.98 440.356 Q2190.89 441.41 2192.6 441.41 Q2195.81 441.41 2197.87 437.194 Q2198.81 435.367 2199.65 432.51 Q2200.52 429.652 2200.52 428.411 Q2200.52 426.068 2198.79 424.335 Q2198.41 424.007 2198.25 423.75 Q2198.08 423.469 2198.08 423.047 Q2198.08 422.251 2198.83 421.501 Q2199.58 420.752 2200.47 420.752 Q2201.27 420.752 2201.92 421.548 Q2202.58 422.321 2202.58 424.101 Z\" fill=\"#000000\" fill-rule=\"evenodd\" fill-opacity=\"1\" /><path clip-path=\"url(#clip910)\" d=\"M2231.78 435.086 Q2231.78 435.273 2231.57 436 Q2231.36 436.726 2230.84 437.85 Q2230.35 438.974 2229.67 440.005 Q2228.99 441.012 2227.87 441.761 Q2226.77 442.488 2225.5 442.488 Q2223.82 442.488 2222.69 441.363 Q2221.57 440.239 2221.57 438.553 Q2221.57 437.616 2222.06 436.327 Q2225.17 428.012 2225.17 425.155 Q2225.17 421.806 2222.57 421.806 Q2221.29 421.806 2220.07 422.297 Q2218.87 422.766 2218.05 423.422 Q2217.23 424.078 2216.48 424.991 Q2215.76 425.881 2215.38 426.49 Q2215.03 427.076 2214.75 427.661 L2214.14 430.05 Q2214 430.706 2213.32 433.259 L2212.27 437.592 Q2211.52 440.825 2211.36 441.129 Q2211.12 441.785 2210.61 442.136 Q2210.09 442.488 2209.58 442.488 Q2208.99 442.488 2208.59 442.136 Q2208.19 441.785 2208.19 441.176 Q2208.19 441.082 2208.26 440.731 Q2208.33 440.38 2208.45 439.888 Q2208.57 439.396 2208.61 439.115 L2211.4 428.036 Q2211.92 426.022 2212.03 425.389 Q2212.17 424.733 2212.17 424.007 Q2212.17 421.806 2210.68 421.806 Q2209.46 421.806 2208.66 423.258 Q2207.87 424.71 2207.19 427.521 Q2206.98 428.294 2206.83 428.458 Q2206.72 428.621 2206.37 428.621 Q2205.78 428.598 2205.78 428.13 Q2205.78 428.012 2205.97 427.24 Q2206.16 426.467 2206.51 425.366 Q2206.88 424.241 2207.23 423.492 Q2207.54 422.93 2207.7 422.672 Q2207.89 422.391 2208.33 421.852 Q2208.8 421.29 2209.41 421.033 Q2210.04 420.752 2210.82 420.752 Q2212.55 420.752 2213.81 421.876 Q2215.08 422.977 2215.24 424.921 Q2218.36 420.752 2222.72 420.752 Q2225.29 420.752 2226.77 422.11 Q2228.24 423.469 2228.24 425.881 Q2228.24 426.443 2228.13 427.169 Q2228.03 427.872 2227.8 428.762 Q2227.59 429.652 2227.4 430.331 Q2227.21 431.011 2226.84 432.111 Q2226.46 433.189 2226.3 433.657 Q2226.13 434.126 2225.74 435.227 Q2225.36 436.304 2225.31 436.421 Q2224.45 438.599 2224.45 439.841 Q2224.45 440.661 2224.71 441.035 Q2224.99 441.41 2225.6 441.41 Q2227.24 441.41 2228.45 439.794 Q2229.69 438.154 2230.49 435.484 Q2230.68 434.899 2230.77 434.758 Q2230.89 434.618 2231.22 434.618 Q2231.78 434.618 2231.78 435.086 Z\" fill=\"#000000\" fill-rule=\"evenodd\" fill-opacity=\"1\" /></svg>\n"
      ]
     },
     "execution_count": 404,
     "metadata": {},
     "output_type": "execute_result"
    }
   ],
   "source": [
    "t = 0:0.05:0.50\n",
    "plot!(t,(lowerbound-lowerboundminus) , xlabel =L\"J/U\", ylabel=L\"\\mu/U\", title =L\"Mott~lobes\", label =L\"9~sites~down\", xlims=(0, 0.5), ylims=(0,1))\n",
    "#savefig(\"plotofchemsBH.png\")"
   ]
  },
  {
   "cell_type": "code",
   "execution_count": 405,
   "id": "5d20bac6",
   "metadata": {},
   "outputs": [],
   "source": [
    "plot!(t,(lowerboundplus-lowerbound) , xlabel =L\"J/U\", ylabel=L\"\\mu/U\", title =L\"Mott~lobes\", label =L\"9~sites~up\", xlims=(0, 0.50), ylims=(0,1))\n",
    "savefig(\"plotofchems1BHexact.png\")"
   ]
  },
  {
   "cell_type": "code",
   "execution_count": 66,
   "id": "ee2420a3",
   "metadata": {},
   "outputs": [
    {
     "data": {
      "text/plain": [
       "11-element Vector{Float64}:\n",
       "  0.9999999999999991\n",
       "  0.6059842937448173\n",
       "  0.36619682725496205\n",
       "  0.19100253618831786\n",
       "  0.016290966134201224\n",
       " -0.1633305767585198\n",
       " -0.3470428434628259\n",
       " -0.5337997743476306\n",
       " -0.7228270185778864\n",
       " -0.9135811492959611\n",
       " -1.1056774634090605"
      ]
     },
     "execution_count": 66,
     "metadata": {},
     "output_type": "execute_result"
    }
   ],
   "source": [
    "lowerboundplus-lowerbound"
   ]
  },
  {
   "cell_type": "code",
   "execution_count": 62,
   "id": "c14b991d",
   "metadata": {},
   "outputs": [
    {
     "data": {
      "text/plain": [
       "11-element Vector{Float64}:\n",
       "  1.1513820495981375e-15\n",
       " -0.1606331975152811\n",
       " -0.7627104228027402\n",
       " -1.5862471366038133\n",
       " -2.4830649439283627\n",
       " -3.413308990775874\n",
       " -4.362305423767726\n",
       " -5.323106573015003\n",
       " -6.291905963031886\n",
       " -7.26641205970059\n",
       " -8.245150431831433"
      ]
     },
     "execution_count": 62,
     "metadata": {},
     "output_type": "execute_result"
    }
   ],
   "source": [
    "lowerboundminus"
   ]
  },
  {
   "cell_type": "code",
   "execution_count": 24,
   "id": "a9c8c1c8",
   "metadata": {},
   "outputs": [
    {
     "data": {
      "text/plain": [
       "11-element Vector{Float64}:\n",
       "  -3.4498723916297116e-16\n",
       "  -1.0288422832543223\n",
       "  -3.0583381842117983\n",
       "  -5.32088541231896\n",
       "  -7.660092989594746\n",
       " -10.035674409147804\n",
       " -12.43180986171004\n",
       " -14.840833856222462\n",
       " -17.25852638228468\n",
       " -19.682353055392028\n",
       " -22.11069182001052"
      ]
     },
     "execution_count": 24,
     "metadata": {},
     "output_type": "execute_result"
    }
   ],
   "source": [
    "lowerboundminus"
   ]
  },
  {
   "cell_type": "code",
   "execution_count": 7,
   "id": "5148f88f",
   "metadata": {},
   "outputs": [
    {
     "ename": "LoadError",
     "evalue": "UndefVarError: D not defined",
     "output_type": "error",
     "traceback": [
      "UndefVarError: D not defined",
      "",
      "Stacktrace:",
      " [1] top-level scope",
      "   @ ./In[7]:7",
      " [2] eval",
      "   @ ./boot.jl:360 [inlined]",
      " [3] include_string(mapexpr::typeof(REPL.softscope), mod::Module, code::String, filename::String)",
      "   @ Base ./loading.jl:1116"
     ]
    }
   ],
   "source": [
    "#variance = Vector{Float64}()  \n",
    "ChemTunRelation = Vector{Float64}()\n",
    "for t in 0:0.005:0.20, μ in 0:0.01:1\n",
    "    J=t\n",
    "    U=1\n",
    "    diagscomp = [];\n",
    "    for j in 1:D \n",
    "        sumsdeocup = []; \n",
    "        for k in 1:M\n",
    "        push!(sumsdeocup, valdiags(k, v[j], M))\n",
    "        end  \n",
    "        push!(diagscomp, sum(sumsdeocup))    \n",
    "    end    \n",
    "    Vals = U*diagscomp\n",
    "    Hint = spzeros(D,D)\n",
    "    Hint[diagind(Hint)] = Vals; Hint  \n",
    "    Hkin = spzeros(D, D)\n",
    "    for j in 1:D\n",
    "        for k in 1:M  \n",
    "            for m in 1:M   \n",
    "                if k == m \n",
    "                    continue \n",
    "                elseif creation_ann(k,m,v[j]) == 0 \n",
    "                    continue  \n",
    "                elseif abs(k-m)==2 \n",
    "                    continue  \n",
    "                #elseif(DictOfInds[tag(creation_ann( k, m , v[j] )[2],M)] < j)   #### up  part\n",
    "                #     Hkin[DictOfInds[tag(creation_ann( k, m , v[j] )[2],M)], j] = -J*(creation_ann( k, m , v[j])[1]) \n",
    "                elseif(DictOfInds[tag(creation_ann( k, m , v[j] )[2],M)] > j) ### down  part\n",
    "                     Hkin[DictOfInds[tag(creation_ann( k, m , v[j] )[2],M)], j] = -J*(creation_ann( k, m , v[j])[1]) \n",
    "                end   \n",
    "            end   \n",
    "        end   \n",
    "    end   \n",
    "    Hkin = Symmetric(Hkin, :L) \n",
    "    #Chemical potential \n",
    "    diagscomps = []\n",
    "    for p in 1:D \n",
    "        sumsdeocups = [] \n",
    "        for l in 1:M\n",
    "        push!(sumsdeocups, occupation(l, v[p]))\n",
    "        end  \n",
    "        push!(diagscomps, sum(sumsdeocups))    \n",
    "    end    \n",
    "    Vchem = -μ.*diagscomps\n",
    "    Hch = spzeros(D, D)\n",
    "    Hch[diagind(Hch)] = Vchem; Hch \n",
    "    H=Hkin+Hint+Hch\n",
    "    Eval, Evec = eigs(H,nev=1,which=:SR, v0 = ones(D)) \n",
    "    push!(ChemTunRelation, Eval[1])\n",
    "    #println(t, μ) \n",
    "    #Variance\n",
    "    #v1 = matrixoccupation(3,D)\n",
    "    #v2 = matrixoccupation(3,D)^2\n",
    "    #push!(variance, sqrt(dot(G, v2*G) - (dot(G, v1*G))^2)) \n",
    "end        \n",
    "#save(\"dataforeight.jld\", \"data\", fconde)   ###save data of fconde\n",
    "t = 0:0.005:0.20\n",
    "μ = 0:0.01:1\n",
    "xdat = repeat(t, inner=length(μ))\n",
    "ydat = repeat(μ, outer=length(t)) \n",
    "zdat = ChemTunRelation  \n",
    "#zData = [(ChemTunRelation) for i=0:0.5:20, j= 0:0.01:1]\n",
    "#scatter(t , μ , color = zData)  \n",
    "scatter(xdat, ydat, zdat)\n",
    "#scatter(xdat, ydat, marker_z=zdat)#plot(t,fconde, xlabel =L\"U/J\", ylabel=L\"f_c\", title = \"Fraction of condensate\", label = \"8 sites\", xlims=(0, 20), ylims=(0,1))\n",
    "#plot(t,variance, xlabel =L\"\\textrm{U/J}\", ylabel=L\"\\textrm{\\sigma_{i}}\", title= \"Variance\", labels = \"site 6\" )  \n",
    "#savefig(\"plot.png\")\n",
    "#plot(t, correlation, xlabel = \"U/J\", ylabel = \"ρ⁽¹⁾\")"
   ]
  },
  {
   "cell_type": "code",
   "execution_count": 257,
   "id": "9dca1aff",
   "metadata": {},
   "outputs": [
    {
     "name": "stdout",
     "output_type": "stream",
     "text": [
      "12\n",
      "16\n",
      "21\n",
      "23\n",
      "32\n",
      "34\n",
      "43\n",
      "45\n",
      "54\n",
      "56\n",
      "61\n",
      "65\n"
     ]
    }
   ],
   "source": [
    "MM = 6\n",
    "for j in 1:MM, k in 1:MM \n",
    "    if(abs(j-k)==(MM-1) || abs(j-k)==1 ) \n",
    "        println(j,k)  \n",
    "    else \n",
    "        continue\n",
    "    end  \n",
    "end"
   ]
  },
  {
   "cell_type": "code",
   "execution_count": 219,
   "id": "9cdf38e3",
   "metadata": {},
   "outputs": [],
   "source": [
    "#load(\"dataforeight.jld\")[\"data\"]"
   ]
  },
  {
   "cell_type": "code",
   "execution_count": 231,
   "id": "614ff457",
   "metadata": {},
   "outputs": [
    {
     "data": {
      "text/plain": [
       "4"
      ]
     },
     "execution_count": 231,
     "metadata": {},
     "output_type": "execute_result"
    }
   ],
   "source": [
    "N"
   ]
  },
  {
   "cell_type": "code",
   "execution_count": null,
   "id": "a5933ae0",
   "metadata": {},
   "outputs": [],
   "source": []
  },
  {
   "cell_type": "code",
   "execution_count": 117,
   "id": "53373b97",
   "metadata": {},
   "outputs": [
    {
     "data": {
      "text/plain": [
       "3×3 Diagonal{Int64, Vector{Int64}}:\n",
       " 2  ⋅  ⋅\n",
       " ⋅  3  ⋅\n",
       " ⋅  ⋅  3"
      ]
     },
     "execution_count": 117,
     "metadata": {},
     "output_type": "execute_result"
    }
   ],
   "source": [
    "X = Diagonal(rand(1:3, 3))"
   ]
  },
  {
   "cell_type": "code",
   "execution_count": 120,
   "id": "c2c74583",
   "metadata": {},
   "outputs": [
    {
     "data": {
      "text/plain": [
       "3×3 Diagonal{Int64, Vector{Int64}}:\n",
       " 8   ⋅   ⋅\n",
       " ⋅  12   ⋅\n",
       " ⋅   ⋅  12"
      ]
     },
     "execution_count": 120,
     "metadata": {},
     "output_type": "execute_result"
    }
   ],
   "source": [
    "4 .*X"
   ]
  },
  {
   "cell_type": "code",
   "execution_count": null,
   "id": "74fdb67d",
   "metadata": {},
   "outputs": [],
   "source": []
  }
 ],
 "metadata": {
  "kernelspec": {
   "display_name": "Julia 1.6.6",
   "language": "julia",
   "name": "julia-1.6"
  },
  "language_info": {
   "file_extension": ".jl",
   "mimetype": "application/julia",
   "name": "julia",
   "version": "1.6.6"
  }
 },
 "nbformat": 4,
 "nbformat_minor": 5
}
