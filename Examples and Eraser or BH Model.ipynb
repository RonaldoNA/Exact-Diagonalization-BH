{
 "cells": [
  {
   "cell_type": "code",
   "execution_count": 1,
   "id": "94312142",
   "metadata": {},
   "outputs": [
    {
     "name": "stdout",
     "output_type": "stream",
     "text": [
      "M ≈ U * S * V = true\n"
     ]
    }
   ],
   "source": [
    "using ITensors\n",
    "let\n",
    "  i = Index(10)           # index of dimension 10\n",
    "  j = Index(20)           # index of dimension 20\n",
    "  M = randomITensor(i,j)  # random matrix, indices i,j\n",
    "  U,S,V = svd(M,i)        # compute SVD with i as row index\n",
    "  @show M ≈ U*S*V         # = true\n",
    "\n",
    "  nothing\n",
    "end"
   ]
  },
  {
   "cell_type": "code",
   "execution_count": 3,
   "id": "61414b96",
   "metadata": {},
   "outputs": [
    {
     "name": "stdout",
     "output_type": "stream",
     "text": [
      "sweeps = Sweeps\n",
      "1 cutoff=1.0E-10, maxdim=10, mindim=1, noise=0.0E+00\n",
      "2 cutoff=1.0E-10, maxdim=20, mindim=1, noise=0.0E+00\n",
      "3 cutoff=1.0E-10, maxdim=100, mindim=1, noise=0.0E+00\n",
      "4 cutoff=1.0E-10, maxdim=100, mindim=1, noise=0.0E+00\n",
      "5 cutoff=1.0E-10, maxdim=200, mindim=1, noise=0.0E+00\n",
      "\n",
      "After sweep 1 energy=-137.86165111731052  maxlinkdim=9 maxerr=4.41E-16 time=0.758\n",
      "After sweep 2 energy=-138.93566164765937  maxlinkdim=20 maxerr=5.09E-06 time=2.416\n",
      "After sweep 3 energy=-138.94008238950093  maxlinkdim=93 maxerr=1.00E-10 time=10.889\n",
      "After sweep 4 energy=-138.94008602651684  maxlinkdim=100 maxerr=1.05E-10 time=24.192\n",
      "After sweep 5 energy=-138.940086059292  maxlinkdim=96 maxerr=9.99E-11 time=26.538\n",
      "Final energy = -138.940086059292\n"
     ]
    }
   ],
   "source": [
    "using ITensors\n",
    "let\n",
    "  # Create 100 spin-one indices\n",
    "  N = 100\n",
    "  sites = siteinds(\"S=1\",N)\n",
    "\n",
    "  # Input operator terms which define\n",
    "  # a Hamiltonian matrix, and convert\n",
    "  # these terms to an MPO tensor network\n",
    "  # (here we make the 1D Heisenberg model)\n",
    "  ampo = OpSum()\n",
    "  for j=1:N-1\n",
    "    ampo += \"Sz\",j,\"Sz\",j+1\n",
    "    ampo += 0.5,\"S+\",j,\"S-\",j+1\n",
    "    ampo += 0.5,\"S-\",j,\"S+\",j+1\n",
    "  end\n",
    "  H = MPO(ampo,sites)\n",
    "\n",
    "  # Create an initial random matrix product state\n",
    "  psi0 = randomMPS(sites)\n",
    "\n",
    "  # Plan to do 5 passes or 'sweeps' of DMRG,\n",
    "  # setting maximum MPS internal dimensions\n",
    "  # for each sweep and maximum truncation cutoff\n",
    "  # used when adapting internal dimensions:\n",
    "  sweeps = Sweeps(5)\n",
    "  setmaxdim!(sweeps, 10,20,100,100,200)\n",
    "  setcutoff!(sweeps, 1E-10)\n",
    "  @show sweeps\n",
    "\n",
    "  # Run the DMRG algorithm, returning energy\n",
    "  # (dominant eigenvalue) and optimized MPS\n",
    "  energy, psi = dmrg(H,psi0, sweeps)\n",
    "  println(\"Final energy = $energy\")\n",
    "\n",
    "  nothing\n",
    "end"
   ]
  },
  {
   "cell_type": "code",
   "execution_count": 55,
   "id": "88fc82fa",
   "metadata": {},
   "outputs": [
    {
     "name": "stdout",
     "output_type": "stream",
     "text": [
      "sweeps = Sweeps\n",
      "1 cutoff=1.0E-16, maxdim=40, mindim=1, noise=0.0E+00\n",
      "2 cutoff=1.0E-16, maxdim=80, mindim=1, noise=0.0E+00\n",
      "3 cutoff=1.0E-16, maxdim=400, mindim=1, noise=0.0E+00\n",
      "4 cutoff=1.0E-16, maxdim=800, mindim=1, noise=0.0E+00\n",
      "5 cutoff=1.0E-16, maxdim=1000, mindim=1, noise=0.0E+00\n",
      "\n",
      "After sweep 1 energy=-1.6859424725260628  maxlinkdim=2 maxerr=3.38E-32 time=0.040\n",
      "After sweep 2 energy=-1.686140641705149  maxlinkdim=2 maxerr=1.02E-32 time=0.006\n",
      "After sweep 3 energy=-1.6861406616226806  maxlinkdim=2 maxerr=2.55E-33 time=0.008\n",
      "After sweep 4 energy=-1.6861406616344996  maxlinkdim=2 maxerr=4.64E-44 time=0.013\n",
      "After sweep 5 energy=-1.6861406616345072  maxlinkdim=2 maxerr=2.55E-33 time=0.034\n",
      "Final energy = -1.6861406616345072\n",
      "MPS\n",
      "[1] ((dim=2|id=986|\"Qudit,Site,n=1\"), (dim=2|id=633|\"Link,l=1\"))\n",
      "[2] ((dim=2|id=742|\"Link,l=2\"), (dim=2|id=765|\"Qudit,Site,n=2\"), (dim=2|id=633|\"Link,l=1\"))\n",
      "[3] ((dim=2|id=708|\"Qudit,Site,n=3\"), (dim=1|id=633|\"Link,l=3\"), (dim=2|id=742|\"Link,l=2\"))\n",
      "[4] ((dim=2|id=946|\"Qudit,Site,n=4\"), (dim=1|id=633|\"Link,l=3\"))\n",
      "\n"
     ]
    }
   ],
   "source": [
    "using ITensors\n",
    "N = 4\n",
    "#Qudit == Bosons\n",
    "sites = siteinds(\"Qudit\", N; conserve_qns= true , conserve_number = false) \n",
    " \n",
    "U = 1.0\n",
    "J = 1.0\n",
    "\n",
    "ampo = OpSum()\n",
    "#Hamiltonian\n",
    "for i in 1:(L-1) \n",
    "    ampo += U / 2, \"N\", i, \"N\", i\n",
    "    ampo += -J, \"A\", i, \"Adag\", i + 1\n",
    "    ampo += -J, \"Adag\", i, \"A\", i + 1\n",
    "end \n",
    "#Periodic terms\n",
    "ampo += -J, \"A\", 1, \"Adag\", L\n",
    "ampo += -J, \"Adag\", 1, \"A\", L\n",
    "\n",
    "H = MPO(ampo,sites)\n",
    "\n",
    "\n",
    "# Plan to do 8 passes or 'sweeps' of DMRG,\n",
    "# setting maximum MPS internal dimensions\n",
    "# for each sweep and maximum truncation cutoff\n",
    "# used when adapting internal dimensions: \n",
    "\n",
    "sweeps = Sweeps(5)\n",
    "setmaxdim!(sweeps, 40, 80, 400, 800, 1000)\n",
    "setcutoff!(sweeps, 1E-16)\n",
    "@show sweeps\n",
    "\n",
    "\n",
    "#state = InitState(sites) \n",
    "psi0 = randomMPS(sites)\n",
    "\n",
    "energy, psi = dmrg(H,psi0, sweeps)\n",
    "println(\"Final energy = $energy\")\n",
    "println(\"$psi\")"
   ]
  }
 ],
 "metadata": {
  "kernelspec": {
   "display_name": "Julia 1.6.6",
   "language": "julia",
   "name": "julia-1.6"
  },
  "language_info": {
   "file_extension": ".jl",
   "mimetype": "application/julia",
   "name": "julia",
   "version": "1.6.6"
  }
 },
 "nbformat": 4,
 "nbformat_minor": 5
}
