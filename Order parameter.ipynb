{
 "cells": [
  {
   "cell_type": "code",
   "execution_count": 1,
   "id": "6301d95b",
   "metadata": {},
   "outputs": [
    {
     "data": {
      "text/plain": [
       "generate_basis (generic function with 1 method)"
      ]
     },
     "execution_count": 1,
     "metadata": {},
     "output_type": "execute_result"
    }
   ],
   "source": [
    "using LinearAlgebra \n",
    "using Plots #Graph\n",
    "using SparseArrays #Sparse matrices \n",
    "using LaTeXStrings #Titles and labels \n",
    "using JLD #Save data \n",
    "#definition of N,M,D\n",
    "global N=3\n",
    "global M=3\n",
    "global D=Int((factorial(M+N-1))/(factorial(M-1)*factorial(N)))  \n",
    "\n",
    "#i-prime number function(suggested form) \n",
    "p(i)=100i+3 \n",
    "\n",
    "#Generate a basis for N = M\n",
    "function generate_basis(N, M)\n",
    "    D = prod(max(N, M):N+M-1) ÷ prod(1:min(N, M))\n",
    "    basis = [zeros(Int, M) for _ in 1:D]\n",
    "    basis[1][1] = N\n",
    "    for t = 2:D\n",
    "        if basis[t-1][M] != 0\n",
    "            k = M - 1\n",
    "        else\n",
    "            k = M\n",
    "        end\n",
    "        while k > 0 && basis[t-1][k] == 0\n",
    "            k -= 1\n",
    "        end\n",
    "        @views basis[t][1:k-1] .= basis[t-1][1:k-1]\n",
    "        basis[t][k] = basis[t-1][k] - 1\n",
    "        basis[t][k+1] = N - sum(@view(basis[t][1:k])) \n",
    "        end \n",
    "    return basis  \n",
    "end"
   ]
  },
  {
   "cell_type": "code",
   "execution_count": 2,
   "id": "ef00aa55",
   "metadata": {},
   "outputs": [
    {
     "data": {
      "text/plain": [
       "10-element Vector{Vector{Int64}}:\n",
       " [3, 0, 0]\n",
       " [2, 1, 0]\n",
       " [2, 0, 1]\n",
       " [1, 2, 0]\n",
       " [1, 1, 1]\n",
       " [1, 0, 2]\n",
       " [0, 3, 0]\n",
       " [0, 2, 1]\n",
       " [0, 1, 2]\n",
       " [0, 0, 3]"
      ]
     },
     "execution_count": 2,
     "metadata": {},
     "output_type": "execute_result"
    }
   ],
   "source": [
    "v=generate_basis(N,M)"
   ]
  },
  {
   "cell_type": "code",
   "execution_count": 3,
   "id": "6b15cd62",
   "metadata": {},
   "outputs": [
    {
     "data": {
      "text/plain": [
       "occupation (generic function with 1 method)"
      ]
     },
     "execution_count": 3,
     "metadata": {},
     "output_type": "execute_result"
    }
   ],
   "source": [
    "function occupation(i, v) \n",
    "     if(v[i] >= 1)  \n",
    "        return  v[i]  \n",
    "    else \n",
    "        return 0;\n",
    "    end  \n",
    "end "
   ]
  },
  {
   "cell_type": "code",
   "execution_count": 4,
   "id": "09b65c06",
   "metadata": {},
   "outputs": [
    {
     "data": {
      "text/plain": [
       "matrixoccupation (generic function with 1 method)"
      ]
     },
     "execution_count": 4,
     "metadata": {},
     "output_type": "execute_result"
    }
   ],
   "source": [
    "function matrixoccupation(k, D) \n",
    "    mat = spzeros(Complex{Float64}, D,D)\n",
    "    for j in 1:D \n",
    "        mat[j,j] = occupation(k, v[j]) \n",
    "    end   \n",
    "    return mat \n",
    "end"
   ]
  },
  {
   "cell_type": "code",
   "execution_count": 5,
   "id": "d4a94438",
   "metadata": {},
   "outputs": [],
   "source": [
    "#sum( matrixoccupation(i,D) for i in 2:(N-1) ) == matrixoccupation(2,D)"
   ]
  },
  {
   "cell_type": "code",
   "execution_count": 6,
   "id": "189a386d",
   "metadata": {},
   "outputs": [
    {
     "data": {
      "text/plain": [
       "10×10 Matrix{Float64}:\n",
       " -0.135335   0.0       0.0        0.0       …  0.0        0.0       0.0\n",
       "  0.0       -0.135335  0.0        0.0          0.0        0.0       0.0\n",
       "  0.0        0.0       0.135335   0.0          0.0        0.0       0.0\n",
       "  0.0        0.0       0.0       -0.135335     0.0        0.0       0.0\n",
       "  0.0        0.0       0.0        0.0          0.0        0.0       0.0\n",
       "  0.0        0.0       0.0        0.0       …  0.0        0.0       0.0\n",
       "  0.0        0.0       0.0        0.0          0.0        0.0       0.0\n",
       "  0.0        0.0       0.0        0.0          0.135335   0.0       0.0\n",
       "  0.0        0.0       0.0        0.0          0.0       -0.135335  0.0\n",
       "  0.0        0.0       0.0        0.0          0.0        0.0       0.135335"
      ]
     },
     "execution_count": 6,
     "metadata": {},
     "output_type": "execute_result"
    }
   ],
   "source": [
    "#Parity order parameter \n",
    "theta = pi\n",
    "Op = exp(1im*theta*Matrix(sum(matrixoccupation(i,D) for i in 1:(N-1))) - (N-1)*I) \n",
    "Op = real(Op)"
   ]
  },
  {
   "cell_type": "code",
   "execution_count": 7,
   "id": "521da21d",
   "metadata": {},
   "outputs": [
    {
     "data": {
      "text/plain": [
       "10×10 Matrix{Float64}:\n",
       " 0.270671  0.0       0.0  0.0  0.0  0.0   0.0       0.0  0.0        0.0\n",
       " 0.0       0.135335  0.0  0.0  0.0  0.0   0.0       0.0  0.0        0.0\n",
       " 0.0       0.0       0.0  0.0  0.0  0.0   0.0       0.0  0.0        0.0\n",
       " 0.0       0.0       0.0  0.0  0.0  0.0   0.0       0.0  0.0        0.0\n",
       " 0.0       0.0       0.0  0.0  0.0  0.0   0.0       0.0  0.0        0.0\n",
       " 0.0       0.0       0.0  0.0  0.0  0.0   0.0       0.0  0.0        0.0\n",
       " 0.0       0.0       0.0  0.0  0.0  0.0  -0.135335  0.0  0.0        0.0\n",
       " 0.0       0.0       0.0  0.0  0.0  0.0   0.0       0.0  0.0        0.0\n",
       " 0.0       0.0       0.0  0.0  0.0  0.0   0.0       0.0  0.135335   0.0\n",
       " 0.0       0.0       0.0  0.0  0.0  0.0   0.0       0.0  0.0       -0.270671"
      ]
     },
     "execution_count": 7,
     "metadata": {},
     "output_type": "execute_result"
    }
   ],
   "source": [
    "#String Order parameter (we fix the parameters i =1, j = N, and i<=k<j )\n",
    "Os = (Matrix(matrixoccupation(1,D)) - I)*(exp(1im*theta*Matrix(sum(matrixoccupation(i,D) for i in 1:(N-1))) - (N-1)*I))*(Matrix(matrixoccupation(N,D)) - I) \n",
    "Os = real(Os)"
   ]
  },
  {
   "cell_type": "code",
   "execution_count": 8,
   "id": "4b85ada1",
   "metadata": {},
   "outputs": [],
   "source": [
    "#Optim Example for \n",
    "#f(x) = (1.0 - x[1])^2 + 100.0 * (x[2] - x[1]^2)^2  \n",
    "#x0 = [0.0, 0.0]  \n",
    "#optimize(f, x0)  \n",
    "# optimize(f, zeros(2) )  \n",
    "##optimize(x->dot(x, Os*x), zeros(D)) ###NO CONSTRAINTS! so we will use JuMP package \n",
    "using JuMP\n",
    "import Ipopt"
   ]
  },
  {
   "cell_type": "code",
   "execution_count": 12,
   "id": "84336635",
   "metadata": {},
   "outputs": [
    {
     "data": {
      "text/plain": [
       "ParityOrder (generic function with 1 method)"
      ]
     },
     "execution_count": 12,
     "metadata": {},
     "output_type": "execute_result"
    }
   ],
   "source": [
    "function ParityOrder(; verbose = true)\n",
    "    model = Model(Ipopt.Optimizer)\n",
    "    set_silent(model)\n",
    "    @variable(model, z)\n",
    "    @variable(model, x[1:D] >= 0)\n",
    "    @objective(model, Min, z)  \n",
    "    @constraint(model, dot(x, Op*x) == z)\n",
    "    @constraint(model, sum(x.^2) == 1)\n",
    "    optimize!(model)\n",
    "    if verbose\n",
    "        print(model)\n",
    "        println(\"Objective value: \", objective_value(model))\n",
    "        println(\"Op = \", value(z))\n",
    "        for i in 1:D \n",
    "            println(\"x_$i = \", value(x[i]) ) \n",
    "        end\n",
    "    end\n",
    "    return\n",
    "end\n",
    "\n",
    "#ParityOrder()"
   ]
  },
  {
   "cell_type": "code",
   "execution_count": 13,
   "id": "1c0dee19",
   "metadata": {},
   "outputs": [
    {
     "data": {
      "text/plain": [
       "StringOrder (generic function with 1 method)"
      ]
     },
     "execution_count": 13,
     "metadata": {},
     "output_type": "execute_result"
    }
   ],
   "source": [
    "function StringOrder(; verbose = true)\n",
    "    model = Model(Ipopt.Optimizer)\n",
    "    set_silent(model)\n",
    "    @variable(model, z)\n",
    "    @variable(model, 0 <= x[1:D] <= 1 )\n",
    "    @objective(model, Max, z)   \n",
    "    @constraint(model, dot(x,Op*x) == 0)\n",
    "    @constraint(model, dot(x, Os*x) == z)\n",
    "    @constraint(model, sum(x.^2) == 1)\n",
    "    optimize!(model)\n",
    "    if verbose\n",
    "        print(model)\n",
    "        println(\"Objective value: \", objective_value(model))\n",
    "        println(\"Os = \", value(z))\n",
    "        for i in 1:D \n",
    "            println(\"x_$i = \", value(x[i]) ) \n",
    "        end\n",
    "    end\n",
    "    return\n",
    "end\n",
    "\n",
    "#StringOrder() \n",
    "#println(\"square root of the probability amplitude \")"
   ]
  },
  {
   "cell_type": "code",
   "execution_count": 14,
   "id": "3f0d1686",
   "metadata": {},
   "outputs": [
    {
     "data": {
      "text/latex": [
       "$$ \\begin{aligned}\n",
       "\\max\\quad & z\\\\\n",
       "\\text{Subject to} \\quad & -0.13533528323661262 x_{1} - 0.13533528323661262 x_{2} + 0.13533528323661273 x_{3} - 0.13533528323661262 x_{4} + 0.13533528323661273 x_{5} - 0.1353352832366127 x_{6} - 0.13533528323661262 x_{7} + 0.13533528323661273 x_{8} - 0.1353352832366127 x_{9} + 0.13533528323661265 x_{10} = 0.0\\\\\n",
       " & -z + 0.27067056647322524 x_{1} + 0.13533528323661262 x_{2} - 0.13533528323661262 x_{7} + 0.1353352832366127 x_{9} - 0.2706705664732253 x_{10} = 0.0\\\\\n",
       " & x_{1} + x_{2} + x_{3} + x_{4} + x_{5} + x_{6} + x_{7} + x_{8} + x_{9} + x_{10} = 1.0\\\\\n",
       " & x_{1} \\geq 0.0\\\\\n",
       " & x_{2} \\geq 0.0\\\\\n",
       " & x_{3} \\geq 0.0\\\\\n",
       " & x_{4} \\geq 0.0\\\\\n",
       " & x_{5} \\geq 0.0\\\\\n",
       " & x_{6} \\geq 0.0\\\\\n",
       " & x_{7} \\geq 0.0\\\\\n",
       " & x_{8} \\geq 0.0\\\\\n",
       " & x_{9} \\geq 0.0\\\\\n",
       " & x_{10} \\geq 0.0\\\\\n",
       " & x_{1} \\leq 1.0\\\\\n",
       " & x_{2} \\leq 1.0\\\\\n",
       " & x_{3} \\leq 1.0\\\\\n",
       " & x_{4} \\leq 1.0\\\\\n",
       " & x_{5} \\leq 1.0\\\\\n",
       " & x_{6} \\leq 1.0\\\\\n",
       " & x_{7} \\leq 1.0\\\\\n",
       " & x_{8} \\leq 1.0\\\\\n",
       " & x_{9} \\leq 1.0\\\\\n",
       " & x_{10} \\leq 1.0\\\\\n",
       "\\end{aligned} $$"
      ]
     },
     "metadata": {},
     "output_type": "display_data"
    },
    {
     "name": "stdout",
     "output_type": "stream",
     "text": [
      "Objective value: 0.13533528316666457\n",
      "Os = 0.13533528316666457\n",
      "x_1 = 0.4999999888391388\n",
      "x_2 = 8.517896108385685e-9\n",
      "x_3 = 0.1666666668027952\n",
      "x_4 = -9.613113511150828e-10\n",
      "x_5 = 0.1666666668027952\n",
      "x_6 = -9.613113511150828e-10\n",
      "x_7 = -3.95230827066693e-9\n",
      "x_8 = 0.1666666668027952\n",
      "x_9 = 8.517896108385685e-9\n",
      "x_10 = -4.0838599013181143e-10\n",
      "The largest probability amplitude is 0.4999999888391388 corresponding to the basis vector [3, 0, 0]\n"
     ]
    }
   ],
   "source": [
    "coefficients = Vector{Float64}()\n",
    "function StringOrder(; verbose = true)\n",
    "    model = Model(Ipopt.Optimizer)\n",
    "    set_silent(model)\n",
    "    @variable(model, z)\n",
    "    @variable(model, 0 <= x[1:D] <= 1 )\n",
    "    @objective(model, Max, z)   \n",
    "    @constraint(model, sum(Op*x) == 0)\n",
    "    @constraint(model, sum(Os*x) == z)\n",
    "    @constraint(model, sum(x) == 1)\n",
    "    optimize!(model)\n",
    "    if verbose\n",
    "        print(model)\n",
    "        println(\"Objective value: \", objective_value(model)) \n",
    "        #L\"Objective~value:\"\n",
    "        println(\"Os = \", value(z))\n",
    "        for i in 1:D \n",
    "            println(\"x_$i = \", value(x[i]) )  \n",
    "            push!(coefficients, value(x[i]))\n",
    "        end\n",
    "    end\n",
    "    return\n",
    "end\n",
    "\n",
    "StringOrder() \n",
    "DictOfBasis = Dict(coefficients .=> v) \n",
    "println(\"The largest probability amplitude is \", maximum(coefficients) ,\" corresponding to the basis vector \" , \n",
    "DictOfBasis[maximum(coefficients)] )"
   ]
  },
  {
   "cell_type": "code",
   "execution_count": null,
   "id": "ae0c2a79",
   "metadata": {},
   "outputs": [],
   "source": []
  }
 ],
 "metadata": {
  "kernelspec": {
   "display_name": "Julia 1.6.6",
   "language": "julia",
   "name": "julia-1.6"
  },
  "language_info": {
   "file_extension": ".jl",
   "mimetype": "application/julia",
   "name": "julia",
   "version": "1.6.6"
  }
 },
 "nbformat": 4,
 "nbformat_minor": 5
}
