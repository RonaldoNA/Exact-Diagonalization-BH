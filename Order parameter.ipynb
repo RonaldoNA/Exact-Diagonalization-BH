{
 "cells": [
  {
   "cell_type": "code",
   "execution_count": 195,
   "id": "6301d95b",
   "metadata": {},
   "outputs": [
    {
     "data": {
      "text/plain": [
       "generate_basis (generic function with 1 method)"
      ]
     },
     "execution_count": 195,
     "metadata": {},
     "output_type": "execute_result"
    }
   ],
   "source": [
    "using LinearAlgebra \n",
    "using Plots #Graph\n",
    "using StaticArrays \n",
    "using SparseArrays  \n",
    "using Optim\n",
    "using Arpack  #Eigenvalues and eigenvectors\n",
    "using LaTeXStrings #Titles and labels \n",
    "using JLD #Save data\n",
    "#definition of N,M,D\n",
    "global N=3\n",
    "global M=3\n",
    "global D=Int((factorial(M+N-1))/(factorial(M-1)*factorial(N)))  \n",
    "\n",
    "#i-prime number function(suggested form) \n",
    "p(i)=100i+3 \n",
    "\n",
    "#Generate a basis for N = M\n",
    "function generate_basis(N, M)\n",
    "    D = prod(max(N, M):N+M-1) ÷ prod(1:min(N, M))\n",
    "    basis = [zeros(Int, M) for _ in 1:D]\n",
    "    basis[1][1] = N\n",
    "    for t = 2:D\n",
    "        if basis[t-1][M] != 0\n",
    "            k = M - 1\n",
    "        else\n",
    "            k = M\n",
    "        end\n",
    "        while k > 0 && basis[t-1][k] == 0\n",
    "            k -= 1\n",
    "        end\n",
    "        @views basis[t][1:k-1] .= basis[t-1][1:k-1]\n",
    "        basis[t][k] = basis[t-1][k] - 1\n",
    "        basis[t][k+1] = N - sum(@view(basis[t][1:k])) \n",
    "        end \n",
    "    return basis  \n",
    "end"
   ]
  },
  {
   "cell_type": "code",
   "execution_count": 2,
   "id": "ef00aa55",
   "metadata": {},
   "outputs": [
    {
     "data": {
      "text/plain": [
       "10-element Vector{Vector{Int64}}:\n",
       " [3, 0, 0]\n",
       " [2, 1, 0]\n",
       " [2, 0, 1]\n",
       " [1, 2, 0]\n",
       " [1, 1, 1]\n",
       " [1, 0, 2]\n",
       " [0, 3, 0]\n",
       " [0, 2, 1]\n",
       " [0, 1, 2]\n",
       " [0, 0, 3]"
      ]
     },
     "execution_count": 2,
     "metadata": {},
     "output_type": "execute_result"
    }
   ],
   "source": [
    "v=generate_basis(N,M)"
   ]
  },
  {
   "cell_type": "code",
   "execution_count": 3,
   "id": "6b15cd62",
   "metadata": {},
   "outputs": [
    {
     "data": {
      "text/plain": [
       "occupation (generic function with 1 method)"
      ]
     },
     "execution_count": 3,
     "metadata": {},
     "output_type": "execute_result"
    }
   ],
   "source": [
    "function occupation(i, v) \n",
    "     if(v[i] >= 1)  \n",
    "        return  v[i]  \n",
    "    else \n",
    "        return 0;\n",
    "    end  \n",
    "end "
   ]
  },
  {
   "cell_type": "code",
   "execution_count": 4,
   "id": "09b65c06",
   "metadata": {},
   "outputs": [
    {
     "data": {
      "text/plain": [
       "matrixoccupation (generic function with 1 method)"
      ]
     },
     "execution_count": 4,
     "metadata": {},
     "output_type": "execute_result"
    }
   ],
   "source": [
    "function matrixoccupation(k, D) \n",
    "    mat = spzeros(D,D)\n",
    "    for j in 1:D \n",
    "        mat[j,j] = occupation(k, v[j]) \n",
    "    end   \n",
    "    return mat \n",
    "end"
   ]
  },
  {
   "cell_type": "code",
   "execution_count": 177,
   "id": "189a386d",
   "metadata": {},
   "outputs": [
    {
     "data": {
      "text/plain": [
       "10×10 Matrix{Float64}:\n",
       " 0.367879   0.0       0.0       0.0       …  0.0        0.0       0.0\n",
       " 0.0       -0.367879  0.0       0.0          0.0        0.0       0.0\n",
       " 0.0        0.0       0.367879  0.0          0.0        0.0       0.0\n",
       " 0.0        0.0       0.0       0.367879     0.0        0.0       0.0\n",
       " 0.0        0.0       0.0       0.0          0.0        0.0       0.0\n",
       " 0.0        0.0       0.0       0.0       …  0.0        0.0       0.0\n",
       " 0.0        0.0       0.0       0.0          0.0        0.0       0.0\n",
       " 0.0        0.0       0.0       0.0          0.367879   0.0       0.0\n",
       " 0.0        0.0       0.0       0.0          0.0       -0.367879  0.0\n",
       " 0.0        0.0       0.0       0.0          0.0        0.0       0.367879"
      ]
     },
     "execution_count": 177,
     "metadata": {},
     "output_type": "execute_result"
    }
   ],
   "source": [
    "#Parity order parameter\n",
    "Op =exp(1im*(pi)*Matrix(matrixoccupation(2,D)) - I) \n",
    "Op = real(Op)"
   ]
  },
  {
   "cell_type": "code",
   "execution_count": 210,
   "id": "521da21d",
   "metadata": {},
   "outputs": [
    {
     "data": {
      "text/plain": [
       "10×10 Matrix{Float64}:\n",
       " 1.0  0.0  0.0        0.0  0.0  0.0        0.0   0.0       0.0   0.0\n",
       " 0.0  0.0  0.0        0.0  0.0  0.0        0.0   0.0       0.0   0.0\n",
       " 0.0  0.0  0.632121   0.0  0.0  0.0        0.0   0.0       0.0   0.0\n",
       " 0.0  0.0  0.0       -1.0  0.0  0.0        0.0   0.0       0.0   0.0\n",
       " 0.0  0.0  0.0        0.0  0.0  0.0        0.0   0.0       0.0   0.0\n",
       " 0.0  0.0  0.0        0.0  0.0  0.264241   0.0   0.0       0.0   0.0\n",
       " 0.0  0.0  0.0        0.0  0.0  0.0       -2.0   0.0       0.0   0.0\n",
       " 0.0  0.0  0.0        0.0  0.0  0.0        0.0  -0.632121  0.0   0.0\n",
       " 0.0  0.0  0.0        0.0  0.0  0.0        0.0   0.0       0.0   0.0\n",
       " 0.0  0.0  0.0        0.0  0.0  0.0        0.0   0.0       0.0  -0.103638"
      ]
     },
     "execution_count": 210,
     "metadata": {},
     "output_type": "execute_result"
    }
   ],
   "source": [
    "#String Order parameter \n",
    "Os = (Matrix(matrixoccupation(2,D)) - I)*(exp(1im*pi*Matrix(matrixoccupation(2,D)) - I)*Matrix(matrixoccupation(3,D)) - I) \n",
    "Os = real(Os)"
   ]
  },
  {
   "cell_type": "code",
   "execution_count": 212,
   "id": "34a5a155",
   "metadata": {},
   "outputs": [],
   "source": [
    "#Optim Example for \n",
    "#f(x) = (1.0 - x[1])^2 + 100.0 * (x[2] - x[1]^2)^2  \n",
    "#x0 = [0.0, 0.0]  \n",
    "#optimize(f, x0)  \n",
    "# optimize(f, zeros(2) )  \n",
    "##optimize(x->dot(x, Os*x), zeros(D)) ###NO CONSTRAINTS! so we will use JuMP package\n",
    "using JuMP\n",
    "import Ipopt"
   ]
  },
  {
   "cell_type": "code",
   "execution_count": 213,
   "id": "621e0dbd",
   "metadata": {},
   "outputs": [
    {
     "data": {
      "text/latex": [
       "$$ \\begin{aligned}\n",
       "\\max\\quad & z\\\\\n",
       "\\text{Subject to} \\quad & 0.36787944117144233 x_{1}^2 - 0.36787944117144245 x_{2}^2 + 0.36787944117144233 x_{3}^2 + 0.36787944117144233 x_{4}^2 - 0.36787944117144245 x_{5}^2 + 0.36787944117144233 x_{6}^2 - 0.36787944117144233 x_{7}^2 + 0.36787944117144233 x_{8}^2 - 0.36787944117144245 x_{9}^2 + 0.36787944117144233 x_{10}^2 - z = 0.0\\\\\n",
       " & x_{1}^2 + x_{2}^2 + x_{3}^2 + x_{4}^2 + x_{5}^2 + x_{6}^2 + x_{7}^2 + x_{8}^2 + x_{9}^2 + x_{10}^2 = 1.0\\\\\n",
       " & x_{1} \\geq 0.0\\\\\n",
       " & x_{2} \\geq 0.0\\\\\n",
       " & x_{3} \\geq 0.0\\\\\n",
       " & x_{4} \\geq 0.0\\\\\n",
       " & x_{5} \\geq 0.0\\\\\n",
       " & x_{6} \\geq 0.0\\\\\n",
       " & x_{7} \\geq 0.0\\\\\n",
       " & x_{8} \\geq 0.0\\\\\n",
       " & x_{9} \\geq 0.0\\\\\n",
       " & x_{10} \\geq 0.0\\\\\n",
       "\\end{aligned} $$"
      ]
     },
     "metadata": {},
     "output_type": "display_data"
    },
    {
     "name": "stdout",
     "output_type": "stream",
     "text": [
      "Objective value: 0.36787943935442524\n",
      "Op = 0.36787943935442524\n",
      "x_1 = 0.408248289771318\n",
      "x_2 = 3.957948802575254e-5\n",
      "x_3 = 0.4082482899917525\n",
      "x_4 = 0.4082482899917525\n",
      "x_5 = 3.957948802575254e-5\n",
      "x_6 = 0.4082482899917525\n",
      "x_7 = 3.957948802575255e-5\n",
      "x_8 = 0.40824829002024177\n",
      "x_9 = 3.957948802575254e-5\n",
      "x_10 = 0.4082482899917525\n"
     ]
    }
   ],
   "source": [
    "\n",
    "function ParityOrder(; verbose = true)\n",
    "    model = Model(Ipopt.Optimizer)\n",
    "    set_silent(model)\n",
    "    @variable(model, z)\n",
    "    @variable(model, x[1:D] >= 0)\n",
    "    @objective(model, Max, z) \n",
    "    @constraint(model, dot(x, Op*x) == z)\n",
    "    @constraint(model, sum(x.^2) == 1)\n",
    "    optimize!(model)\n",
    "    if verbose\n",
    "        print(model)\n",
    "        println(\"Objective value: \", objective_value(model))\n",
    "        println(\"Op = \", value(z))\n",
    "        for i in 1:D \n",
    "            println(\"x_$i = \", value(x[i]) ) \n",
    "        end\n",
    "    end\n",
    "    return\n",
    "end\n",
    "\n",
    "ParityOrder()"
   ]
  },
  {
   "cell_type": "code",
   "execution_count": 211,
   "id": "bddc0bee",
   "metadata": {},
   "outputs": [
    {
     "data": {
      "text/latex": [
       "$$ \\begin{aligned}\n",
       "\\max\\quad & z\\\\\n",
       "\\text{Subject to} \\quad & 0.36787944117144233 x_{1}^2 - 0.36787944117144245 x_{2}^2 + 0.36787944117144233 x_{3}^2 + 0.36787944117144233 x_{4}^2 - 0.36787944117144245 x_{5}^2 + 0.36787944117144233 x_{6}^2 - 0.36787944117144233 x_{7}^2 + 0.36787944117144233 x_{8}^2 - 0.36787944117144245 x_{9}^2 + 0.36787944117144233 x_{10}^2 - z = 0.0\\\\\n",
       " & x_{1}^2 + x_{2}^2 + x_{3}^2 + x_{4}^2 + x_{5}^2 + x_{6}^2 + x_{7}^2 + x_{8}^2 + x_{9}^2 + x_{10}^2 = 1.0\\\\\n",
       " & x_{1} \\geq 0.0\\\\\n",
       " & x_{2} \\geq 0.0\\\\\n",
       " & x_{3} \\geq 0.0\\\\\n",
       " & x_{4} \\geq 0.0\\\\\n",
       " & x_{5} \\geq 0.0\\\\\n",
       " & x_{6} \\geq 0.0\\\\\n",
       " & x_{7} \\geq 0.0\\\\\n",
       " & x_{8} \\geq 0.0\\\\\n",
       " & x_{9} \\geq 0.0\\\\\n",
       " & x_{10} \\geq 0.0\\\\\n",
       "\\end{aligned} $$"
      ]
     },
     "metadata": {},
     "output_type": "display_data"
    },
    {
     "name": "stdout",
     "output_type": "stream",
     "text": [
      "Objective value: 0.36787943935442524\n",
      "Op = 0.36787943935442524\n",
      "x_1 = 0.408248289771318\n",
      "x_2 = 3.957948802575254e-5\n",
      "x_3 = 0.4082482899917525\n",
      "x_4 = 0.4082482899917525\n",
      "x_5 = 3.957948802575254e-5\n",
      "x_6 = 0.4082482899917525\n",
      "x_7 = 3.957948802575255e-5\n",
      "x_8 = 0.40824829002024177\n",
      "x_9 = 3.957948802575254e-5\n",
      "x_10 = 0.4082482899917525\n"
     ]
    }
   ],
   "source": [
    "function StringOrder(; verbose = true)\n",
    "    model = Model(Ipopt.Optimizer)\n",
    "    set_silent(model)\n",
    "    @variable(model, z)\n",
    "    @variable(model, x[1:D] >= 0)\n",
    "    @objective(model, Max, z) \n",
    "    @constraint(model, dot(x, Op*x) == z)\n",
    "    @constraint(model, sum(x.^2) == 1)\n",
    "    optimize!(model)\n",
    "    if verbose\n",
    "        print(model)\n",
    "        println(\"Objective value: \", objective_value(model))\n",
    "        println(\"Os = \", value(z))\n",
    "        for i in 1:D \n",
    "            println(\"x_$i = \", value(x[i]) ) \n",
    "        end\n",
    "    end\n",
    "    return\n",
    "end\n",
    "\n",
    "StringOrder()"
   ]
  },
  {
   "cell_type": "code",
   "execution_count": null,
   "id": "329af7ea",
   "metadata": {},
   "outputs": [],
   "source": []
  }
 ],
 "metadata": {
  "kernelspec": {
   "display_name": "Julia 1.6.6",
   "language": "julia",
   "name": "julia-1.6"
  },
  "language_info": {
   "file_extension": ".jl",
   "mimetype": "application/julia",
   "name": "julia",
   "version": "1.6.6"
  }
 },
 "nbformat": 4,
 "nbformat_minor": 5
}
