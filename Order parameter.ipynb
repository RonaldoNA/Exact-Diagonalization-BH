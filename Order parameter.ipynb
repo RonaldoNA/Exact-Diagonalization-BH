{
 "cells": [
  {
   "cell_type": "code",
   "execution_count": 42,
   "id": "6301d95b",
   "metadata": {},
   "outputs": [
    {
     "data": {
      "text/plain": [
       "generate_basis (generic function with 1 method)"
      ]
     },
     "execution_count": 42,
     "metadata": {},
     "output_type": "execute_result"
    }
   ],
   "source": [
    "using LinearAlgebra \n",
    "using Plots #Graph\n",
    "using SparseArrays #Sparse matrices \n",
    "using LaTeXStrings #Titles and labels \n",
    "using JLD #Save data \n",
    "#definition of N,M,D\n",
    "global N=7\n",
    "global M=7\n",
    "global D=Int((factorial(M+N-1))/(factorial(M-1)*factorial(N)))  \n",
    "\n",
    "#i-prime number function(suggested form) \n",
    "p(i)=100i+3 \n",
    "\n",
    "#Generate a basis for N = M\n",
    "function generate_basis(N, M)\n",
    "    D = prod(max(N, M):N+M-1) ÷ prod(1:min(N, M))\n",
    "    basis = [zeros(Int, M) for _ in 1:D]\n",
    "    basis[1][1] = N\n",
    "    for t = 2:D\n",
    "        if basis[t-1][M] != 0\n",
    "            k = M - 1\n",
    "        else\n",
    "            k = M\n",
    "        end\n",
    "        while k > 0 && basis[t-1][k] == 0\n",
    "            k -= 1\n",
    "        end\n",
    "        @views basis[t][1:k-1] .= basis[t-1][1:k-1]\n",
    "        basis[t][k] = basis[t-1][k] - 1\n",
    "        basis[t][k+1] = N - sum(@view(basis[t][1:k])) \n",
    "        end \n",
    "    return basis  \n",
    "end"
   ]
  },
  {
   "cell_type": "code",
   "execution_count": 43,
   "id": "ef00aa55",
   "metadata": {},
   "outputs": [],
   "source": [
    "v=generate_basis(N,M);"
   ]
  },
  {
   "cell_type": "code",
   "execution_count": 44,
   "id": "6b15cd62",
   "metadata": {},
   "outputs": [
    {
     "data": {
      "text/plain": [
       "occupation (generic function with 1 method)"
      ]
     },
     "execution_count": 44,
     "metadata": {},
     "output_type": "execute_result"
    }
   ],
   "source": [
    "function occupation(i, v) \n",
    "     if(v[i] >= 1)  \n",
    "        return  v[i]  \n",
    "    else \n",
    "        return 0;\n",
    "    end  \n",
    "end "
   ]
  },
  {
   "cell_type": "code",
   "execution_count": 45,
   "id": "09b65c06",
   "metadata": {},
   "outputs": [
    {
     "data": {
      "text/plain": [
       "matrixoccupation (generic function with 1 method)"
      ]
     },
     "execution_count": 45,
     "metadata": {},
     "output_type": "execute_result"
    }
   ],
   "source": [
    "function matrixoccupation(k, D) \n",
    "    mat = spzeros(Complex{Float64}, D,D)\n",
    "    for j in 1:D \n",
    "        mat[j,j] = occupation(k, v[j]) \n",
    "    end   \n",
    "    return mat \n",
    "end"
   ]
  },
  {
   "cell_type": "code",
   "execution_count": 46,
   "id": "d4a94438",
   "metadata": {},
   "outputs": [],
   "source": [
    "#sum( matrixoccupation(i,D) for i in 2:(N-1) ) == matrixoccupation(2,D)"
   ]
  },
  {
   "cell_type": "code",
   "execution_count": 52,
   "id": "189a386d",
   "metadata": {},
   "outputs": [],
   "source": [
    "#Parity order parameter \n",
    "theta = pi\n",
    "Op = exp(1im*theta*Matrix(sum(matrixoccupation(i,D) for i in 1:(N-1))) - (N-1)*I) \n",
    "Op = real(Op);"
   ]
  },
  {
   "cell_type": "code",
   "execution_count": 48,
   "id": "d28b375b",
   "metadata": {},
   "outputs": [],
   "source": [
    "#Sum until N\n",
    "theta = pi\n",
    "Op = exp(1im*theta*Matrix(sum(matrixoccupation(i,D) for i in 1:(N))) - (N)*I) \n",
    "Op = real(Op);"
   ]
  },
  {
   "cell_type": "code",
   "execution_count": 53,
   "id": "521da21d",
   "metadata": {},
   "outputs": [],
   "source": [
    "#String Order parameter (we fix the parameters i =1, j = N, and i<=k<j )\n",
    "Os = (Matrix(matrixoccupation(1,D)) - I)*(exp(1im*theta*Matrix(sum(matrixoccupation(i,D) for i in 1:(N-1))) - (N-1)*I))*(Matrix(matrixoccupation(N,D)) - I) \n",
    "Os = real(Os);"
   ]
  },
  {
   "cell_type": "code",
   "execution_count": 50,
   "id": "2c551364",
   "metadata": {},
   "outputs": [],
   "source": [
    "#Sum until N \n",
    "Os = (Matrix(matrixoccupation(1,D)) - I)*(exp(1im*theta*Matrix(sum(matrixoccupation(i,D) for i in 1:(N))) - (N)*I))*(Matrix(matrixoccupation(N,D)) - I) \n",
    "Os = real(Os);"
   ]
  },
  {
   "cell_type": "code",
   "execution_count": 37,
   "id": "4b85ada1",
   "metadata": {},
   "outputs": [],
   "source": [
    "#Optim Example for \n",
    "#f(x) = (1.0 - x[1])^2 + 100.0 * (x[2] - x[1]^2)^2  \n",
    "#x0 = [0.0, 0.0]  \n",
    "#optimize(f, x0)  \n",
    "# optimize(f, zeros(2) )  \n",
    "##optimize(x->dot(x, Os*x), zeros(D)) ###NO CONSTRAINTS! so we will use JuMP package \n",
    "using JuMP\n",
    "import Ipopt"
   ]
  },
  {
   "cell_type": "code",
   "execution_count": 21,
   "id": "84336635",
   "metadata": {},
   "outputs": [
    {
     "data": {
      "text/plain": [
       "ParityOrder (generic function with 1 method)"
      ]
     },
     "execution_count": 21,
     "metadata": {},
     "output_type": "execute_result"
    }
   ],
   "source": [
    "function ParityOrder(; verbose = true)\n",
    "    model = Model(Ipopt.Optimizer)\n",
    "    set_silent(model)\n",
    "    @variable(model, z)\n",
    "    @variable(model, x[1:D] >= 0)\n",
    "    @objective(model, Min, z)  \n",
    "    @constraint(model, dot(x, Op*x) == z)\n",
    "    @constraint(model, sum(x.^2) == 1)\n",
    "    optimize!(model)\n",
    "    if verbose\n",
    "        print(model)\n",
    "        println(\"Objective value: \", objective_value(model))\n",
    "        println(\"Op = \", value(z))\n",
    "        for i in 1:D \n",
    "            println(\"x_$i = \", value(x[i]) ) \n",
    "        end\n",
    "    end\n",
    "    return\n",
    "end\n",
    "\n",
    "#ParityOrder()"
   ]
  },
  {
   "cell_type": "code",
   "execution_count": 22,
   "id": "1c0dee19",
   "metadata": {},
   "outputs": [
    {
     "data": {
      "text/plain": [
       "StringOrder (generic function with 1 method)"
      ]
     },
     "execution_count": 22,
     "metadata": {},
     "output_type": "execute_result"
    }
   ],
   "source": [
    "function StringOrder(; verbose = true)\n",
    "    model = Model(Ipopt.Optimizer)\n",
    "    set_silent(model)\n",
    "    @variable(model, z)\n",
    "    @variable(model, 0 <= x[1:D] <= 1 )\n",
    "    @objective(model, Max, z)   \n",
    "    @constraint(model, dot(x,Op*x) == 0)\n",
    "    @constraint(model, dot(x, Os*x) == z)\n",
    "    @constraint(model, sum(x.^2) == 1)\n",
    "    optimize!(model)\n",
    "    if verbose\n",
    "        print(model)\n",
    "        println(\"Objective value: \", objective_value(model))\n",
    "        println(\"Os = \", value(z))\n",
    "        for i in 1:D \n",
    "            println(\"x_$i = \", value(x[i]) ) \n",
    "        end\n",
    "    end\n",
    "    return\n",
    "end\n",
    "\n",
    "#StringOrder() \n",
    "#println(\"square root of the probability amplitude \")"
   ]
  },
  {
   "cell_type": "code",
   "execution_count": 51,
   "id": "3f0d1686",
   "metadata": {},
   "outputs": [
    {
     "name": "stdout",
     "output_type": "stream",
     "text": [
      "Os = 0.0013038442708021819\n",
      "The largest probability amplitude is 0.10291073175667771 corresponding to the basis vector [7, 0, 0, 0, 0, 0, 0]\n"
     ]
    }
   ],
   "source": [
    "#Until N\n",
    "coefficients = Vector{Float64}()\n",
    "function StringOrder(; verbose = true)\n",
    "    model = Model(Ipopt.Optimizer)\n",
    "    set_silent(model)\n",
    "    @variable(model, z)\n",
    "    @variable(model, 0 <= x[1:D] <= 1 )\n",
    "    @objective(model, Max, z)   \n",
    "    @constraint(model, sum(Op*x) == 0)\n",
    "    @constraint(model, sum(Os*x) == z)\n",
    "    @constraint(model, sum(x) == 1)\n",
    "    optimize!(model)\n",
    "    if verbose\n",
    "        #print(model)\n",
    "        #println(\"Objective value: \", objective_value(model)) \n",
    "        #L\"Objective~value:\"\n",
    "        println(\"Os = \", value(z))\n",
    "        for i in 1:D \n",
    "            #println(\"x_$i = \", value(x[i]) )  \n",
    "            push!(coefficients, value(x[i]))\n",
    "        end\n",
    "    end\n",
    "    return\n",
    "end\n",
    "\n",
    "StringOrder()\n",
    "DictOfBasis = Dict(coefficients .=> v) \n",
    "println(\"The largest probability amplitude is \", maximum(coefficients) ,\" corresponding to the basis vector \" , \n",
    "DictOfBasis[maximum(coefficients)] )"
   ]
  },
  {
   "cell_type": "code",
   "execution_count": 54,
   "id": "ae0c2a79",
   "metadata": {},
   "outputs": [
    {
     "name": "stdout",
     "output_type": "stream",
     "text": [
      "Os = 0.014868470005176038\n",
      "The largest probability amplitude is 0.4999042362124672 corresponding to the basis vector [4, 0, 0, 0, 0, 0, 3]\n"
     ]
    }
   ],
   "source": [
    "#Until N-1 \n",
    "coefficients = Vector{Float64}()\n",
    "function StringOrder(; verbose = true)\n",
    "    model = Model(Ipopt.Optimizer)\n",
    "    set_silent(model)\n",
    "    @variable(model, z)\n",
    "    @variable(model, 0 <= x[1:D] <= 1 )\n",
    "    @objective(model, Max, z)   \n",
    "    @constraint(model, sum(Op*x) == 0)\n",
    "    @constraint(model, sum(Os*x) == z)\n",
    "    @constraint(model, sum(x) == 1)\n",
    "    optimize!(model)\n",
    "    if verbose\n",
    "        #print(model)\n",
    "        #println(\"Objective value: \", objective_value(model)) \n",
    "        #L\"Objective~value:\"\n",
    "        println(\"Os = \", value(z))\n",
    "        for i in 1:D \n",
    "            #println(\"x_$i = \", value(x[i]) )  \n",
    "            push!(coefficients, value(x[i]))\n",
    "        end\n",
    "    end\n",
    "    return\n",
    "end\n",
    "\n",
    "StringOrder()\n",
    "DictOfBasis = Dict(coefficients .=> v) \n",
    "println(\"The largest probability amplitude is \", maximum(coefficients) ,\" corresponding to the basis vector \" , \n",
    "DictOfBasis[maximum(coefficients)] )"
   ]
  },
  {
   "cell_type": "code",
   "execution_count": null,
   "id": "f2175647",
   "metadata": {},
   "outputs": [],
   "source": []
  }
 ],
 "metadata": {
  "kernelspec": {
   "display_name": "Julia 1.6.6",
   "language": "julia",
   "name": "julia-1.6"
  },
  "language_info": {
   "file_extension": ".jl",
   "mimetype": "application/julia",
   "name": "julia",
   "version": "1.6.6"
  }
 },
 "nbformat": 4,
 "nbformat_minor": 5
}
