{
 "cells": [
  {
   "cell_type": "markdown",
   "id": "1106a717",
   "metadata": {},
   "source": [
    "# Order parameters \n",
    "## Parity order parameter \n",
    "\n",
    "\\begin{equation} \n",
    "\\mathscr{O}_P = \\lim_{|i-j| \\to \\infty} \\langle  e^{i\\theta \\sum_{i \\le k < j} \\delta \\hat{n}_k}\\rangle\n",
    "\\end{equation}"
   ]
  },
  {
   "cell_type": "markdown",
   "id": "723c17b9",
   "metadata": {},
   "source": [
    "## String Order Parameter \n",
    "\\begin{equation} \n",
    "\\mathscr{O}_S = \\lim_{|i-j| \\to \\infty} \\langle \\delta \\hat{n}_i e^{i\\theta \\sum_{i \\le k < j} \\delta \\hat{n}_k} \\delta \\hat{n}_j \\rangle\n",
    "\\end{equation}"
   ]
  },
  {
   "cell_type": "code",
   "execution_count": 18,
   "id": "6301d95b",
   "metadata": {},
   "outputs": [
    {
     "data": {
      "text/plain": [
       "generate_basis (generic function with 1 method)"
      ]
     },
     "execution_count": 18,
     "metadata": {},
     "output_type": "execute_result"
    }
   ],
   "source": [
    "using LinearAlgebra \n",
    "using Plots #Graph\n",
    "using SparseArrays #Sparse matrices \n",
    "using LaTeXStrings #Titles and labels \n",
    "using JLD #Save data \n",
    "#definition of N,M,D\n",
    "global N=7\n",
    "global M=7\n",
    "global D=Int((factorial(M+N-1))/(factorial(M-1)*factorial(N)))  \n",
    "\n",
    "#i-prime number function(suggested form) \n",
    "p(i)=100i+3 \n",
    "\n",
    "#Generate a basis for N = M\n",
    "function generate_basis(N, M)\n",
    "    D = prod(max(N, M):N+M-1) ÷ prod(1:min(N, M))\n",
    "    basis = [zeros(Int, M) for _ in 1:D]\n",
    "    basis[1][1] = N\n",
    "    for t = 2:D\n",
    "        if basis[t-1][M] != 0\n",
    "            k = M - 1\n",
    "        else\n",
    "            k = M\n",
    "        end\n",
    "        while k > 0 && basis[t-1][k] == 0\n",
    "            k -= 1\n",
    "        end\n",
    "        @views basis[t][1:k-1] .= basis[t-1][1:k-1]\n",
    "        basis[t][k] = basis[t-1][k] - 1\n",
    "        basis[t][k+1] = N - sum(@view(basis[t][1:k])) \n",
    "        end \n",
    "    return basis  \n",
    "end"
   ]
  },
  {
   "cell_type": "code",
   "execution_count": 19,
   "id": "ef00aa55",
   "metadata": {},
   "outputs": [],
   "source": [
    "v=generate_basis(N,M);"
   ]
  },
  {
   "cell_type": "code",
   "execution_count": 20,
   "id": "6b15cd62",
   "metadata": {},
   "outputs": [
    {
     "data": {
      "text/plain": [
       "occupation (generic function with 1 method)"
      ]
     },
     "execution_count": 20,
     "metadata": {},
     "output_type": "execute_result"
    }
   ],
   "source": [
    "function occupation(i, v) \n",
    "     if(v[i] >= 1)  \n",
    "        return  v[i]  \n",
    "    else \n",
    "        return 0;\n",
    "    end  \n",
    "end "
   ]
  },
  {
   "cell_type": "code",
   "execution_count": 21,
   "id": "09b65c06",
   "metadata": {},
   "outputs": [
    {
     "data": {
      "text/plain": [
       "matrixoccupation (generic function with 1 method)"
      ]
     },
     "execution_count": 21,
     "metadata": {},
     "output_type": "execute_result"
    }
   ],
   "source": [
    "function matrixoccupation(k, D) \n",
    "    mat = spzeros(D,D)\n",
    "    for j in 1:D \n",
    "        mat[j,j] = occupation(k, v[j]) \n",
    "    end   \n",
    "    return mat \n",
    "end"
   ]
  },
  {
   "cell_type": "code",
   "execution_count": 5,
   "id": "15e5e607",
   "metadata": {},
   "outputs": [
    {
     "data": {
      "text/plain": [
       "true"
      ]
     },
     "execution_count": 5,
     "metadata": {},
     "output_type": "execute_result"
    }
   ],
   "source": [
    "Matrix(sum(matrixoccupation(i,D) for i in 1:(N-1))) - (N-1)*I == matrixoccupation(1, D) + matrixoccupation(2, D)  - 2*I #matrixoccupation(4, D) - 4*I"
   ]
  },
  {
   "cell_type": "code",
   "execution_count": 6,
   "id": "2e38b4cd",
   "metadata": {},
   "outputs": [
    {
     "data": {
      "text/plain": [
       "10×10 Matrix{ComplexF64}:\n",
       " -1.0+0.0im   0.0+0.0im  0.0+0.0im  …   0.0+0.0im  0.0+0.0im\n",
       "  0.0+0.0im  -1.0+0.0im  0.0+0.0im      0.0+0.0im  0.0+0.0im\n",
       "  0.0+0.0im   0.0+0.0im  1.0+0.0im      0.0+0.0im  0.0+0.0im\n",
       "  0.0+0.0im   0.0+0.0im  0.0+0.0im      0.0+0.0im  0.0+0.0im\n",
       "  0.0+0.0im   0.0+0.0im  0.0+0.0im      0.0+0.0im  0.0+0.0im\n",
       "  0.0+0.0im   0.0+0.0im  0.0+0.0im  …   0.0+0.0im  0.0+0.0im\n",
       "  0.0+0.0im   0.0+0.0im  0.0+0.0im      0.0+0.0im  0.0+0.0im\n",
       "  0.0+0.0im   0.0+0.0im  0.0+0.0im      0.0+0.0im  0.0+0.0im\n",
       "  0.0+0.0im   0.0+0.0im  0.0+0.0im     -1.0+0.0im  0.0+0.0im\n",
       "  0.0+0.0im   0.0+0.0im  0.0+0.0im      0.0+0.0im  1.0+4.70255e-16im"
      ]
     },
     "execution_count": 6,
     "metadata": {},
     "output_type": "execute_result"
    }
   ],
   "source": [
    "exp(1im*pi*Matrix((matrixoccupation(1, D) + matrixoccupation(2, D) - 2*I ))) #matrixoccupation(3, D) + matrixoccupation(4, D) - 4*I)))"
   ]
  },
  {
   "cell_type": "code",
   "execution_count": 7,
   "id": "5b5dca5f",
   "metadata": {},
   "outputs": [
    {
     "data": {
      "text/plain": [
       "-1.0 + 1.2246467991473532e-16im"
      ]
     },
     "execution_count": 7,
     "metadata": {},
     "output_type": "execute_result"
    }
   ],
   "source": [
    "exp(1im*pi)"
   ]
  },
  {
   "cell_type": "code",
   "execution_count": 8,
   "id": "d4a94438",
   "metadata": {},
   "outputs": [],
   "source": [
    "#sum( matrixoccupation(i,D) for i in 2:(N-1) ) == matrixoccupation(2,D)"
   ]
  },
  {
   "cell_type": "code",
   "execution_count": 22,
   "id": "189a386d",
   "metadata": {},
   "outputs": [],
   "source": [
    "#Parity order parameter \n",
    "theta = pi\n",
    "Op = exp(Matrix(sum(1im*theta*matrixoccupation(i,D) for i in 1:(N-1))) - 1im*theta*(N-1)*I)\n",
    "Op = real(Op);"
   ]
  },
  {
   "cell_type": "code",
   "execution_count": 23,
   "id": "f56c5aa7",
   "metadata": {},
   "outputs": [],
   "source": [
    "#Ops == Opx"
   ]
  },
  {
   "cell_type": "code",
   "execution_count": 24,
   "id": "793b9a47",
   "metadata": {},
   "outputs": [],
   "source": [
    "#Op"
   ]
  },
  {
   "cell_type": "code",
   "execution_count": 25,
   "id": "521da21d",
   "metadata": {},
   "outputs": [],
   "source": [
    "#String Order parameter (we fix the parameters i =1, j = N, and i<=k<j ) \n",
    "Ots = (exp(Matrix(sum(1im*theta*matrixoccupation(i,D) for i in 1:(N-1))) - 1im*theta*(N-1)*I))*(Matrix(matrixoccupation(N,D)) - I)\n",
    "Os = (Matrix(matrixoccupation(1,D)) - I)*Ots \n",
    "Os = real(Os);"
   ]
  },
  {
   "cell_type": "code",
   "execution_count": 13,
   "id": "30f34cb0",
   "metadata": {},
   "outputs": [],
   "source": [
    "#Os"
   ]
  },
  {
   "cell_type": "code",
   "execution_count": 14,
   "id": "4b85ada1",
   "metadata": {},
   "outputs": [],
   "source": [
    "#Optim Example for \n",
    "#f(x) = (1.0 - x[1])^2 + 100.0 * (x[2] - x[1]^2)^2  \n",
    "#x0 = [0.0, 0.0]  \n",
    "#optimize(f, x0)  \n",
    "# optimize(f, zeros(2) )  \n",
    "##optimize(x->dot(x, Os*x), zeros(D)) ###NO CONSTRAINTS! so we will use JuMP package \n",
    "using JuMP\n",
    "import Ipopt"
   ]
  },
  {
   "cell_type": "code",
   "execution_count": 21,
   "id": "84336635",
   "metadata": {},
   "outputs": [
    {
     "data": {
      "text/plain": [
       "ParityOrder (generic function with 1 method)"
      ]
     },
     "execution_count": 21,
     "metadata": {},
     "output_type": "execute_result"
    }
   ],
   "source": [
    "function ParityOrder(; verbose = true)\n",
    "    model = Model(Ipopt.Optimizer)\n",
    "    set_silent(model)\n",
    "    @variable(model, z)\n",
    "    @variable(model, x[1:D] >= 0)\n",
    "    @objective(model, Min, z)  \n",
    "    @constraint(model, dot(x, Op*x) == z)\n",
    "    @constraint(model, sum(x.^2) == 1)\n",
    "    optimize!(model)\n",
    "    if verbose\n",
    "        print(model)\n",
    "        println(\"Objective value: \", objective_value(model))\n",
    "        println(\"Op = \", value(z))\n",
    "        for i in 1:D \n",
    "            println(\"x_$i = \", value(x[i]) ) \n",
    "        end\n",
    "    end\n",
    "    return\n",
    "end\n",
    "\n",
    "#ParityOrder()"
   ]
  },
  {
   "cell_type": "code",
   "execution_count": 15,
   "id": "1c0dee19",
   "metadata": {},
   "outputs": [
    {
     "data": {
      "text/plain": [
       "StringOrder (generic function with 1 method)"
      ]
     },
     "execution_count": 15,
     "metadata": {},
     "output_type": "execute_result"
    }
   ],
   "source": [
    "function StringOrder(; verbose = true)\n",
    "    model = Model(Ipopt.Optimizer)\n",
    "    set_silent(model)\n",
    "    @variable(model, z)\n",
    "    @variable(model, 0 <= x[1:D] <= 1 )\n",
    "    @objective(model, Max, z)   \n",
    "    @constraint(model, dot(x,Op*x) == 0)\n",
    "    @constraint(model, dot(x, Os*x) == z)\n",
    "    @constraint(model, sum(x.^2) == 1)\n",
    "    optimize!(model)\n",
    "    if verbose\n",
    "        print(model)\n",
    "        println(\"Objective value: \", objective_value(model))\n",
    "        println(\"Os = \", value(z))\n",
    "        for i in 1:D \n",
    "            println(\"x_$i = \", value(x[i]) ) \n",
    "        end\n",
    "    end\n",
    "    return\n",
    "end\n",
    "\n",
    "#StringOrder() \n",
    "#println(\"square root of the probability amplitude \")"
   ]
  },
  {
   "cell_type": "code",
   "execution_count": 27,
   "id": "3f0d1686",
   "metadata": {},
   "outputs": [
    {
     "name": "stdout",
     "output_type": "stream",
     "text": [
      "Os = 6.000100031818417\n",
      "The largest probability amplitude is 0.5000108560191395 corresponding to the basis vector [7, 0, 0, 0, 0, 0, 0]\n"
     ]
    }
   ],
   "source": [
    "coefficients = Vector{Float64}()\n",
    "function StringOrder(; verbose = true)\n",
    "    model = Model(Ipopt.Optimizer)\n",
    "    set_silent(model)\n",
    "    @variable(model, z)\n",
    "    @variable(model, 0 <= x[1:D] <= 1 )\n",
    "    @objective(model, Max, z)   \n",
    "    @constraint(model, sum(Op*x) == 0)\n",
    "    @constraint(model, sum(Os*x) == z)\n",
    "    @constraint(model, sum(x) == 1)\n",
    "    optimize!(model)\n",
    "    if verbose\n",
    "        #print(model)\n",
    "        #println(\"Objective value: \", objective_value(model)) \n",
    "        #L\"Objective~value:\"\n",
    "        println(\"Os = \", value(z))\n",
    "        for i in 1:D \n",
    "            #println(\"x_$i = \", value(x[i]) )  \n",
    "            push!(coefficients, value(x[i]))\n",
    "        end\n",
    "    end\n",
    "    return\n",
    "end\n",
    "\n",
    "StringOrder()\n",
    "DictOfBasis = Dict(coefficients .=> v) \n",
    "println(\"The largest probability amplitude is \", maximum(coefficients) ,\" corresponding to the basis vector \" , \n",
    "DictOfBasis[maximum(coefficients)] )"
   ]
  },
  {
   "cell_type": "code",
   "execution_count": null,
   "id": "101443d7",
   "metadata": {},
   "outputs": [],
   "source": []
  }
 ],
 "metadata": {
  "kernelspec": {
   "display_name": "Julia 1.6.6",
   "language": "julia",
   "name": "julia-1.6"
  },
  "language_info": {
   "file_extension": ".jl",
   "mimetype": "application/julia",
   "name": "julia",
   "version": "1.6.6"
  }
 },
 "nbformat": 4,
 "nbformat_minor": 5
}
