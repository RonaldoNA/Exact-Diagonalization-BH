{
 "cells": [
  {
   "cell_type": "code",
   "execution_count": 105,
   "id": "dcb25c26",
   "metadata": {},
   "outputs": [],
   "source": [
    "using LinearAlgebra #Manipulacion de Matrices\n",
    "#using Gadfly  \n",
    "using Plots #Graficacion\n",
    "using StaticArrays \n",
    "using SparseArrays \n",
    "using Arpack  #Obtencion de Eigenvalores\n",
    "#using JeszenszkiBasis #Generar una base\n",
    "#Variables globales N,M,D\n",
    "global N=4\n",
    "global M=4\n",
    "global D=Int((factorial(M+N-1))/(factorial(M-1)*factorial(N))) \n",
    "#funcion primos \n",
    "p(i)=100i+3\n",
    "#Generamos la base en orden lexicografico para N=M=3 \n",
    "v = []\n",
    "for n1 in 0:N  \n",
    "    for n2 in 0:(N-n1)  \n",
    "        for n3 in 0:(N-n1-n2)  \n",
    "            for n4 in 0:(N-n1-n2-n3)\n",
    "            if n1+n2+n3+n4 != N\n",
    "                continue \n",
    "            end\n",
    "            pushfirst!(v, [n1,n2,n3,n4])  \n",
    "            end\n",
    "        end\n",
    "    end\n",
    "end    \n",
    "#v = Szbasis(M, N)  "
   ]
  },
  {
   "cell_type": "code",
   "execution_count": 106,
   "id": "08088a6c",
   "metadata": {},
   "outputs": [
    {
     "data": {
      "text/plain": [
       "35-element Vector{Any}:\n",
       " [4, 0, 0, 0]\n",
       " [3, 1, 0, 0]\n",
       " [3, 0, 1, 0]\n",
       " [3, 0, 0, 1]\n",
       " [2, 2, 0, 0]\n",
       " [2, 1, 1, 0]\n",
       " [2, 1, 0, 1]\n",
       " [2, 0, 2, 0]\n",
       " [2, 0, 1, 1]\n",
       " [2, 0, 0, 2]\n",
       " [1, 3, 0, 0]\n",
       " [1, 2, 1, 0]\n",
       " [1, 2, 0, 1]\n",
       " ⋮\n",
       " [0, 2, 2, 0]\n",
       " [0, 2, 1, 1]\n",
       " [0, 2, 0, 2]\n",
       " [0, 1, 3, 0]\n",
       " [0, 1, 2, 1]\n",
       " [0, 1, 1, 2]\n",
       " [0, 1, 0, 3]\n",
       " [0, 0, 4, 0]\n",
       " [0, 0, 3, 1]\n",
       " [0, 0, 2, 2]\n",
       " [0, 0, 1, 3]\n",
       " [0, 0, 0, 4]"
      ]
     },
     "execution_count": 106,
     "metadata": {},
     "output_type": "execute_result"
    }
   ],
   "source": [
    "v"
   ]
  },
  {
   "cell_type": "code",
   "execution_count": 111,
   "id": "29186e7e",
   "metadata": {},
   "outputs": [
    {
     "data": {
      "text/plain": [
       "tag (generic function with 1 method)"
      ]
     },
     "execution_count": 111,
     "metadata": {},
     "output_type": "execute_result"
    }
   ],
   "source": [
    "function tag(b,M)\n",
    "    tag=0;\n",
    "    for i in 1:M\n",
    "        tag += (√p(i))*b[i] \n",
    "    end\n",
    "    return tag \n",
    "end"
   ]
  },
  {
   "cell_type": "code",
   "execution_count": 112,
   "id": "4eb7f985",
   "metadata": {},
   "outputs": [
    {
     "data": {
      "text/plain": [
       "creation_ann (generic function with 1 method)"
      ]
     },
     "execution_count": 112,
     "metadata": {},
     "output_type": "execute_result"
    }
   ],
   "source": [
    "function creation_ann(k,j,v)     \n",
    "    if(v[j] >= 1) \n",
    "        b = copy(v)\n",
    "        value = sqrt(((b[k])+1)*b[j])\n",
    "        b[j] -= 1; \n",
    "        b[k] += 1;    \n",
    "        return [value , b]   \n",
    "    else \n",
    "        return 0; \n",
    "    end \n",
    "end   "
   ]
  },
  {
   "cell_type": "code",
   "execution_count": 113,
   "id": "60027f10",
   "metadata": {},
   "outputs": [
    {
     "data": {
      "text/plain": [
       "matrixofcreationann (generic function with 1 method)"
      ]
     },
     "execution_count": 113,
     "metadata": {},
     "output_type": "execute_result"
    }
   ],
   "source": [
    "function matrixofcreationann(i,k)\n",
    "    mat = spzeros(D,D)\n",
    "    for j in 1:D \n",
    "        if creation_ann(i,k,v[j]) == 0 \n",
    "           continue      \n",
    "        end\n",
    "        mat[DictOfInds[tag(creation_ann( i, k , v[j] )[2],M)], j] = creation_ann(i, k , v[j])[1] \n",
    "    end   \n",
    "    #return rot180(mat)  \n",
    "    return mat\n",
    "end"
   ]
  },
  {
   "cell_type": "code",
   "execution_count": 114,
   "id": "7b4e2d8c",
   "metadata": {},
   "outputs": [
    {
     "data": {
      "text/plain": [
       "valdiags (generic function with 1 method)"
      ]
     },
     "execution_count": 114,
     "metadata": {},
     "output_type": "execute_result"
    }
   ],
   "source": [
    "#Valores de la diagonal de los numeros de ocupacion\n",
    "function valdiags(k, v, M)  \n",
    "    if(v[k] >= 1)  \n",
    "        return  (v[k]*(v[k]-1))/2  \n",
    "    else \n",
    "        return 0;\n",
    "    end  \n",
    "end       "
   ]
  },
  {
   "cell_type": "code",
   "execution_count": 115,
   "id": "c1a00338",
   "metadata": {},
   "outputs": [
    {
     "data": {
      "text/plain": [
       "occupation (generic function with 1 method)"
      ]
     },
     "execution_count": 115,
     "metadata": {},
     "output_type": "execute_result"
    }
   ],
   "source": [
    "function occupation(i, v) \n",
    "     if(v[i] >= 1)  \n",
    "        return  v[i]  \n",
    "    else \n",
    "        return 0;\n",
    "    end  \n",
    "end       "
   ]
  },
  {
   "cell_type": "code",
   "execution_count": 116,
   "id": "5db136e0",
   "metadata": {},
   "outputs": [
    {
     "data": {
      "text/plain": [
       "matrixoccupation (generic function with 1 method)"
      ]
     },
     "execution_count": 116,
     "metadata": {},
     "output_type": "execute_result"
    }
   ],
   "source": [
    "function matrixoccupation(k, D) \n",
    "    mat = spzeros(D,D)\n",
    "    for j in 1:D \n",
    "        mat[j,j] = occupation(k, v[j]) \n",
    "    end   \n",
    "    return mat \n",
    "end"
   ]
  },
  {
   "cell_type": "code",
   "execution_count": 117,
   "id": "6c66ac84",
   "metadata": {},
   "outputs": [
    {
     "name": "stdout",
     "output_type": "stream",
     "text": [
      "[3, 1, 0, 0]\n"
     ]
    }
   ],
   "source": [
    "println(v[2])"
   ]
  },
  {
   "cell_type": "code",
   "execution_count": 118,
   "id": "3c365aa9",
   "metadata": {},
   "outputs": [
    {
     "data": {
      "text/plain": [
       "35×35 SparseMatrixCSC{Float64, Int64} with 20 stored entries:\n",
       "⠑⢄⠀⠀⠀⠀⠀⠀⠀⠀⠀⠀⠀⠀⠀⠀⠀⠀\n",
       "⠀⠀⠑⢄⠀⠀⠀⠀⠀⠀⠀⠀⠀⠀⠀⠀⠀⠀\n",
       "⠀⠀⠀⠀⠑⢄⠀⠀⠀⠀⠀⠀⠀⠀⠀⠀⠀⠀\n",
       "⠀⠀⠀⠀⠀⠀⠑⢄⠀⠀⠀⠀⠀⠀⠀⠀⠀⠀\n",
       "⠀⠀⠀⠀⠀⠀⠀⠀⠑⢄⠀⠀⠀⠀⠀⠀⠀⠀\n",
       "⠀⠀⠀⠀⠀⠀⠀⠀⠀⠀⠀⠀⠀⠀⠀⠀⠀⠀\n",
       "⠀⠀⠀⠀⠀⠀⠀⠀⠀⠀⠀⠀⠀⠀⠀⠀⠀⠀\n",
       "⠀⠀⠀⠀⠀⠀⠀⠀⠀⠀⠀⠀⠀⠀⠀⠀⠀⠀\n",
       "⠀⠀⠀⠀⠀⠀⠀⠀⠀⠀⠀⠀⠀⠀⠀⠀⠀⠀"
      ]
     },
     "execution_count": 118,
     "metadata": {},
     "output_type": "execute_result"
    }
   ],
   "source": [
    "matrixoccupation(1,D)"
   ]
  },
  {
   "cell_type": "code",
   "execution_count": 119,
   "id": "161a407f",
   "metadata": {},
   "outputs": [],
   "source": [
    "#Array de tags \n",
    "T = []\n",
    "for i in 1:length(v) \n",
    "     push!(T,  tag( v[i] , M )) \n",
    "end"
   ]
  },
  {
   "cell_type": "code",
   "execution_count": 120,
   "id": "94e4174a",
   "metadata": {},
   "outputs": [
    {
     "data": {
      "text/plain": [
       "Dict{Float64, Int64} with 35 entries:\n",
       "  52.8923 => 11\n",
       "  57.7795 => 9\n",
       "  56.0514 => 12\n",
       "  60.1503 => 22\n",
       "  56.9912 => 21\n",
       "  72.2955 => 32\n",
       "  74.9635 => 33\n",
       "  61.8785 => 15\n",
       "  74.4724 => 30\n",
       "  65.9774 => 25\n",
       "  40.5956 => 1\n",
       "  67.7055 => 19\n",
       "  48.7934 => 5\n",
       "  71.8044 => 29\n",
       "  62.8183 => 23\n",
       "  80.2994 => 35\n",
       "  77.6315 => 34\n",
       "  50.5215 => 4\n",
       "  66.4685 => 27\n",
       "  44.6945 => 2\n",
       "  47.8536 => 3\n",
       "  63.3094 => 24\n",
       "  59.2105 => 14\n",
       "  69.6276 => 31\n",
       "  62.3696 => 17\n",
       "  ⋮       => ⋮"
      ]
     },
     "execution_count": 120,
     "metadata": {},
     "output_type": "execute_result"
    }
   ],
   "source": [
    "#Ordenamos y hacemos un diccionario Tsorted => indices\n",
    "inds = sortperm(T);\n",
    "Tsorted = T[inds];\n",
    "#DictOfInds = Dict(zip(Tsorted, inds)) \n",
    "DictOfInds = Dict(Tsorted .=> inds)"
   ]
  },
  {
   "cell_type": "code",
   "execution_count": 157,
   "id": "06ff77c8",
   "metadata": {},
   "outputs": [
    {
     "name": "stdout",
     "output_type": "stream",
     "text": [
      "Any[6.0, 3.0, 3.0, 3.0, 2.0, 1.0, 1.0, 2.0, 1.0, 2.0, 3.0, 1.0, 1.0, 1.0, 0.0, 1.0, 3.0, 1.0, 1.0, 3.0, 6.0, 3.0, 3.0, 2.0, 1.0, 2.0, 3.0, 1.0, 1.0, 3.0, 6.0, 3.0, 2.0, 3.0, 6.0]\n"
     ]
    },
    {
     "data": {
      "image/svg+xml": [
       "<?xml version=\"1.0\" encoding=\"utf-8\"?>\n",
       "<svg xmlns=\"http://www.w3.org/2000/svg\" xmlns:xlink=\"http://www.w3.org/1999/xlink\" width=\"600\" height=\"400\" viewBox=\"0 0 2400 1600\">\n",
       "<defs>\n",
       "  <clipPath id=\"clip560\">\n",
       "    <rect x=\"0\" y=\"0\" width=\"2400\" height=\"1600\"/>\n",
       "  </clipPath>\n",
       "</defs>\n",
       "<path clip-path=\"url(#clip560)\" d=\"\n",
       "M0 1600 L2400 1600 L2400 0 L0 0  Z\n",
       "  \" fill=\"#ffffff\" fill-rule=\"evenodd\" fill-opacity=\"1\"/>\n",
       "<defs>\n",
       "  <clipPath id=\"clip561\">\n",
       "    <rect x=\"480\" y=\"0\" width=\"1681\" height=\"1600\"/>\n",
       "  </clipPath>\n",
       "</defs>\n",
       "<path clip-path=\"url(#clip560)\" d=\"\n",
       "M407.124 1486.45 L1846.33 1486.45 L1846.33 47.2441 L407.124 47.2441  Z\n",
       "  \" fill=\"#ffffff\" fill-rule=\"evenodd\" fill-opacity=\"1\"/>\n",
       "<defs>\n",
       "  <clipPath id=\"clip562\">\n",
       "    <rect x=\"407\" y=\"47\" width=\"1440\" height=\"1440\"/>\n",
       "  </clipPath>\n",
       "</defs>\n",
       "<polyline clip-path=\"url(#clip560)\" style=\"stroke:#000000; stroke-linecap:butt; stroke-linejoin:round; stroke-width:4; stroke-opacity:1; fill:none\" points=\"\n",
       "  407.124,1486.45 1846.33,1486.45 \n",
       "  \"/>\n",
       "<polyline clip-path=\"url(#clip560)\" style=\"stroke:#000000; stroke-linecap:butt; stroke-linejoin:round; stroke-width:4; stroke-opacity:1; fill:none\" points=\"\n",
       "  407.923,1486.45 407.923,1467.55 \n",
       "  \"/>\n",
       "<polyline clip-path=\"url(#clip560)\" style=\"stroke:#000000; stroke-linecap:butt; stroke-linejoin:round; stroke-width:4; stroke-opacity:1; fill:none\" points=\"\n",
       "  807.258,1486.45 807.258,1467.55 \n",
       "  \"/>\n",
       "<polyline clip-path=\"url(#clip560)\" style=\"stroke:#000000; stroke-linecap:butt; stroke-linejoin:round; stroke-width:4; stroke-opacity:1; fill:none\" points=\"\n",
       "  1206.59,1486.45 1206.59,1467.55 \n",
       "  \"/>\n",
       "<polyline clip-path=\"url(#clip560)\" style=\"stroke:#000000; stroke-linecap:butt; stroke-linejoin:round; stroke-width:4; stroke-opacity:1; fill:none\" points=\"\n",
       "  1605.93,1486.45 1605.93,1467.55 \n",
       "  \"/>\n",
       "<path clip-path=\"url(#clip560)\" d=\"M407.923 1517.37 Q404.311 1517.37 402.483 1520.93 Q400.677 1524.47 400.677 1531.6 Q400.677 1538.71 402.483 1542.27 Q404.311 1545.82 407.923 1545.82 Q411.557 1545.82 413.362 1542.27 Q415.191 1538.71 415.191 1531.6 Q415.191 1524.47 413.362 1520.93 Q411.557 1517.37 407.923 1517.37 M407.923 1513.66 Q413.733 1513.66 416.788 1518.27 Q419.867 1522.85 419.867 1531.6 Q419.867 1540.33 416.788 1544.94 Q413.733 1549.52 407.923 1549.52 Q402.112 1549.52 399.034 1544.94 Q395.978 1540.33 395.978 1531.6 Q395.978 1522.85 399.034 1518.27 Q402.112 1513.66 407.923 1513.66 Z\" fill=\"#000000\" fill-rule=\"evenodd\" fill-opacity=\"1\" /><path clip-path=\"url(#clip560)\" d=\"M781.945 1544.91 L789.584 1544.91 L789.584 1518.55 L781.274 1520.21 L781.274 1515.95 L789.538 1514.29 L794.214 1514.29 L794.214 1544.91 L801.853 1544.91 L801.853 1548.85 L781.945 1548.85 L781.945 1544.91 Z\" fill=\"#000000\" fill-rule=\"evenodd\" fill-opacity=\"1\" /><path clip-path=\"url(#clip560)\" d=\"M821.297 1517.37 Q817.686 1517.37 815.857 1520.93 Q814.052 1524.47 814.052 1531.6 Q814.052 1538.71 815.857 1542.27 Q817.686 1545.82 821.297 1545.82 Q824.931 1545.82 826.737 1542.27 Q828.565 1538.71 828.565 1531.6 Q828.565 1524.47 826.737 1520.93 Q824.931 1517.37 821.297 1517.37 M821.297 1513.66 Q827.107 1513.66 830.163 1518.27 Q833.241 1522.85 833.241 1531.6 Q833.241 1540.33 830.163 1544.94 Q827.107 1549.52 821.297 1549.52 Q815.487 1549.52 812.408 1544.94 Q809.353 1540.33 809.353 1531.6 Q809.353 1522.85 812.408 1518.27 Q815.487 1513.66 821.297 1513.66 Z\" fill=\"#000000\" fill-rule=\"evenodd\" fill-opacity=\"1\" /><path clip-path=\"url(#clip560)\" d=\"M1185.37 1544.91 L1201.69 1544.91 L1201.69 1548.85 L1179.74 1548.85 L1179.74 1544.91 Q1182.4 1542.16 1186.99 1537.53 Q1191.59 1532.88 1192.77 1531.53 Q1195.02 1529.01 1195.9 1527.27 Q1196.8 1525.51 1196.8 1523.82 Q1196.8 1521.07 1194.86 1519.33 Q1192.94 1517.6 1189.83 1517.6 Q1187.63 1517.6 1185.18 1518.36 Q1182.75 1519.13 1179.97 1520.68 L1179.97 1515.95 Q1182.8 1514.82 1185.25 1514.24 Q1187.7 1513.66 1189.74 1513.66 Q1195.11 1513.66 1198.31 1516.35 Q1201.5 1519.03 1201.5 1523.52 Q1201.5 1525.65 1200.69 1527.57 Q1199.9 1529.47 1197.8 1532.07 Q1197.22 1532.74 1194.12 1535.95 Q1191.01 1539.15 1185.37 1544.91 Z\" fill=\"#000000\" fill-rule=\"evenodd\" fill-opacity=\"1\" /><path clip-path=\"url(#clip560)\" d=\"M1221.5 1517.37 Q1217.89 1517.37 1216.06 1520.93 Q1214.25 1524.47 1214.25 1531.6 Q1214.25 1538.71 1216.06 1542.27 Q1217.89 1545.82 1221.5 1545.82 Q1225.13 1545.82 1226.94 1542.27 Q1228.77 1538.71 1228.77 1531.6 Q1228.77 1524.47 1226.94 1520.93 Q1225.13 1517.37 1221.5 1517.37 M1221.5 1513.66 Q1227.31 1513.66 1230.37 1518.27 Q1233.44 1522.85 1233.44 1531.6 Q1233.44 1540.33 1230.37 1544.94 Q1227.31 1549.52 1221.5 1549.52 Q1215.69 1549.52 1212.61 1544.94 Q1209.56 1540.33 1209.56 1531.6 Q1209.56 1522.85 1212.61 1518.27 Q1215.69 1513.66 1221.5 1513.66 Z\" fill=\"#000000\" fill-rule=\"evenodd\" fill-opacity=\"1\" /><path clip-path=\"url(#clip560)\" d=\"M1594.77 1530.21 Q1598.13 1530.93 1600 1533.2 Q1601.9 1535.47 1601.9 1538.8 Q1601.9 1543.92 1598.38 1546.72 Q1594.86 1549.52 1588.38 1549.52 Q1586.21 1549.52 1583.89 1549.08 Q1581.6 1548.66 1579.15 1547.81 L1579.15 1543.29 Q1581.09 1544.43 1583.4 1545.01 Q1585.72 1545.58 1588.24 1545.58 Q1592.64 1545.58 1594.93 1543.85 Q1597.25 1542.11 1597.25 1538.8 Q1597.25 1535.75 1595.09 1534.03 Q1592.96 1532.3 1589.15 1532.3 L1585.12 1532.3 L1585.12 1528.45 L1589.33 1528.45 Q1592.78 1528.45 1594.61 1527.09 Q1596.44 1525.7 1596.44 1523.11 Q1596.44 1520.45 1594.54 1519.03 Q1592.66 1517.6 1589.15 1517.6 Q1587.22 1517.6 1585.03 1518.01 Q1582.83 1518.43 1580.19 1519.31 L1580.19 1515.14 Q1582.85 1514.4 1585.16 1514.03 Q1587.5 1513.66 1589.56 1513.66 Q1594.89 1513.66 1597.99 1516.09 Q1601.09 1518.5 1601.09 1522.62 Q1601.09 1525.49 1599.45 1527.48 Q1597.8 1529.45 1594.77 1530.21 Z\" fill=\"#000000\" fill-rule=\"evenodd\" fill-opacity=\"1\" /><path clip-path=\"url(#clip560)\" d=\"M1620.77 1517.37 Q1617.15 1517.37 1615.33 1520.93 Q1613.52 1524.47 1613.52 1531.6 Q1613.52 1538.71 1615.33 1542.27 Q1617.15 1545.82 1620.77 1545.82 Q1624.4 1545.82 1626.21 1542.27 Q1628.03 1538.71 1628.03 1531.6 Q1628.03 1524.47 1626.21 1520.93 Q1624.4 1517.37 1620.77 1517.37 M1620.77 1513.66 Q1626.58 1513.66 1629.63 1518.27 Q1632.71 1522.85 1632.71 1531.6 Q1632.71 1540.33 1629.63 1544.94 Q1626.58 1549.52 1620.77 1549.52 Q1614.96 1549.52 1611.88 1544.94 Q1608.82 1540.33 1608.82 1531.6 Q1608.82 1522.85 1611.88 1518.27 Q1614.96 1513.66 1620.77 1513.66 Z\" fill=\"#000000\" fill-rule=\"evenodd\" fill-opacity=\"1\" /><polyline clip-path=\"url(#clip560)\" style=\"stroke:#000000; stroke-linecap:butt; stroke-linejoin:round; stroke-width:4; stroke-opacity:1; fill:none\" points=\"\n",
       "  407.124,47.2441 407.124,1486.45 \n",
       "  \"/>\n",
       "<polyline clip-path=\"url(#clip560)\" style=\"stroke:#000000; stroke-linecap:butt; stroke-linejoin:round; stroke-width:4; stroke-opacity:1; fill:none\" points=\"\n",
       "  407.124,48.0428 419.419,48.0428 \n",
       "  \"/>\n",
       "<polyline clip-path=\"url(#clip560)\" style=\"stroke:#000000; stroke-linecap:butt; stroke-linejoin:round; stroke-width:4; stroke-opacity:1; fill:none\" points=\"\n",
       "  407.124,447.378 419.419,447.378 \n",
       "  \"/>\n",
       "<polyline clip-path=\"url(#clip560)\" style=\"stroke:#000000; stroke-linecap:butt; stroke-linejoin:round; stroke-width:4; stroke-opacity:1; fill:none\" points=\"\n",
       "  407.124,846.713 419.419,846.713 \n",
       "  \"/>\n",
       "<polyline clip-path=\"url(#clip560)\" style=\"stroke:#000000; stroke-linecap:butt; stroke-linejoin:round; stroke-width:4; stroke-opacity:1; fill:none\" points=\"\n",
       "  407.124,1246.05 419.419,1246.05 \n",
       "  \"/>\n",
       "<path clip-path=\"url(#clip560)\" d=\"M359.179 33.8415 Q355.568 33.8415 353.74 37.4062 Q351.934 40.9479 351.934 48.0775 Q351.934 55.1839 353.74 58.7487 Q355.568 62.2904 359.179 62.2904 Q362.814 62.2904 364.619 58.7487 Q366.448 55.1839 366.448 48.0775 Q366.448 40.9479 364.619 37.4062 Q362.814 33.8415 359.179 33.8415 M359.179 30.1378 Q364.99 30.1378 368.045 34.7442 Q371.124 39.3275 371.124 48.0775 Q371.124 56.8043 368.045 61.4107 Q364.99 65.9941 359.179 65.9941 Q353.369 65.9941 350.291 61.4107 Q347.235 56.8043 347.235 48.0775 Q347.235 39.3275 350.291 34.7442 Q353.369 30.1378 359.179 30.1378 Z\" fill=\"#000000\" fill-rule=\"evenodd\" fill-opacity=\"1\" /><path clip-path=\"url(#clip560)\" d=\"M319.828 460.723 L327.467 460.723 L327.467 434.357 L319.157 436.024 L319.157 431.765 L327.42 430.098 L332.096 430.098 L332.096 460.723 L339.735 460.723 L339.735 464.658 L319.828 464.658 L319.828 460.723 Z\" fill=\"#000000\" fill-rule=\"evenodd\" fill-opacity=\"1\" /><path clip-path=\"url(#clip560)\" d=\"M359.179 433.177 Q355.568 433.177 353.74 436.741 Q351.934 440.283 351.934 447.413 Q351.934 454.519 353.74 458.084 Q355.568 461.625 359.179 461.625 Q362.814 461.625 364.619 458.084 Q366.448 454.519 366.448 447.413 Q366.448 440.283 364.619 436.741 Q362.814 433.177 359.179 433.177 M359.179 429.473 Q364.99 429.473 368.045 434.079 Q371.124 438.663 371.124 447.413 Q371.124 456.139 368.045 460.746 Q364.99 465.329 359.179 465.329 Q353.369 465.329 350.291 460.746 Q347.235 456.139 347.235 447.413 Q347.235 438.663 350.291 434.079 Q353.369 429.473 359.179 429.473 Z\" fill=\"#000000\" fill-rule=\"evenodd\" fill-opacity=\"1\" /><path clip-path=\"url(#clip560)\" d=\"M323.045 860.058 L339.365 860.058 L339.365 863.993 L317.42 863.993 L317.42 860.058 Q320.082 857.303 324.666 852.674 Q329.272 848.021 330.453 846.678 Q332.698 844.155 333.578 842.419 Q334.481 840.66 334.481 838.97 Q334.481 836.215 332.536 834.479 Q330.615 832.743 327.513 832.743 Q325.314 832.743 322.86 833.507 Q320.43 834.271 317.652 835.822 L317.652 831.1 Q320.476 829.965 322.93 829.387 Q325.383 828.808 327.42 828.808 Q332.791 828.808 335.985 831.493 Q339.18 834.178 339.18 838.669 Q339.18 840.799 338.369 842.72 Q337.582 844.618 335.476 847.211 Q334.897 847.882 331.795 851.1 Q328.694 854.294 323.045 860.058 Z\" fill=\"#000000\" fill-rule=\"evenodd\" fill-opacity=\"1\" /><path clip-path=\"url(#clip560)\" d=\"M359.179 832.512 Q355.568 832.512 353.74 836.076 Q351.934 839.618 351.934 846.748 Q351.934 853.854 353.74 857.419 Q355.568 860.961 359.179 860.961 Q362.814 860.961 364.619 857.419 Q366.448 853.854 366.448 846.748 Q366.448 839.618 364.619 836.076 Q362.814 832.512 359.179 832.512 M359.179 828.808 Q364.99 828.808 368.045 833.414 Q371.124 837.998 371.124 846.748 Q371.124 855.475 368.045 860.081 Q364.99 864.664 359.179 864.664 Q353.369 864.664 350.291 860.081 Q347.235 855.475 347.235 846.748 Q347.235 837.998 350.291 833.414 Q353.369 828.808 359.179 828.808 Z\" fill=\"#000000\" fill-rule=\"evenodd\" fill-opacity=\"1\" /><path clip-path=\"url(#clip560)\" d=\"M333.184 1244.69 Q336.541 1245.41 338.416 1247.68 Q340.314 1249.95 340.314 1253.28 Q340.314 1258.4 336.795 1261.2 Q333.277 1264 326.795 1264 Q324.619 1264 322.305 1263.56 Q320.013 1263.14 317.559 1262.29 L317.559 1257.77 Q319.504 1258.91 321.819 1259.49 Q324.133 1260.06 326.656 1260.06 Q331.055 1260.06 333.346 1258.33 Q335.661 1256.59 335.661 1253.28 Q335.661 1250.23 333.508 1248.51 Q331.379 1246.78 327.559 1246.78 L323.531 1246.78 L323.531 1242.93 L327.744 1242.93 Q331.193 1242.93 333.022 1241.57 Q334.851 1240.18 334.851 1237.59 Q334.851 1234.93 332.953 1233.51 Q331.078 1232.08 327.559 1232.08 Q325.638 1232.08 323.439 1232.49 Q321.24 1232.91 318.601 1233.79 L318.601 1229.62 Q321.263 1228.88 323.578 1228.51 Q325.916 1228.14 327.976 1228.14 Q333.3 1228.14 336.402 1230.57 Q339.504 1232.98 339.504 1237.1 Q339.504 1239.97 337.86 1241.96 Q336.217 1243.93 333.184 1244.69 Z\" fill=\"#000000\" fill-rule=\"evenodd\" fill-opacity=\"1\" /><path clip-path=\"url(#clip560)\" d=\"M359.179 1231.85 Q355.568 1231.85 353.74 1235.41 Q351.934 1238.95 351.934 1246.08 Q351.934 1253.19 353.74 1256.75 Q355.568 1260.3 359.179 1260.3 Q362.814 1260.3 364.619 1256.75 Q366.448 1253.19 366.448 1246.08 Q366.448 1238.95 364.619 1235.41 Q362.814 1231.85 359.179 1231.85 M359.179 1228.14 Q364.99 1228.14 368.045 1232.75 Q371.124 1237.33 371.124 1246.08 Q371.124 1254.81 368.045 1259.42 Q364.99 1264 359.179 1264 Q353.369 1264 350.291 1259.42 Q347.235 1254.81 347.235 1246.08 Q347.235 1237.33 350.291 1232.75 Q353.369 1228.14 359.179 1228.14 Z\" fill=\"#000000\" fill-rule=\"evenodd\" fill-opacity=\"1\" /><circle clip-path=\"url(#clip562)\" cx=\"447.856\" cy=\"87.9763\" r=\"18\" fill=\"#fcfea4\" fill-rule=\"evenodd\" fill-opacity=\"1\" stroke=\"#000000\" stroke-opacity=\"1\" stroke-width=\"0\"/>\n",
       "<circle clip-path=\"url(#clip562)\" cx=\"447.856\" cy=\"127.91\" r=\"18\" fill=\"#31095d\" fill-rule=\"evenodd\" fill-opacity=\"1\" stroke=\"#000000\" stroke-opacity=\"1\" stroke-width=\"0\"/>\n",
       "<circle clip-path=\"url(#clip562)\" cx=\"447.856\" cy=\"167.843\" r=\"18\" fill=\"#31095d\" fill-rule=\"evenodd\" fill-opacity=\"1\" stroke=\"#000000\" stroke-opacity=\"1\" stroke-width=\"0\"/>\n",
       "<circle clip-path=\"url(#clip562)\" cx=\"447.856\" cy=\"207.777\" r=\"18\" fill=\"#31095d\" fill-rule=\"evenodd\" fill-opacity=\"1\" stroke=\"#000000\" stroke-opacity=\"1\" stroke-width=\"0\"/>\n",
       "<circle clip-path=\"url(#clip562)\" cx=\"487.79\" cy=\"87.9763\" r=\"18\" fill=\"#31095d\" fill-rule=\"evenodd\" fill-opacity=\"1\" stroke=\"#000000\" stroke-opacity=\"1\" stroke-width=\"0\"/>\n",
       "<circle clip-path=\"url(#clip562)\" cx=\"487.79\" cy=\"127.91\" r=\"18\" fill=\"#f1eb6d\" fill-rule=\"evenodd\" fill-opacity=\"1\" stroke=\"#000000\" stroke-opacity=\"1\" stroke-width=\"0\"/>\n",
       "<circle clip-path=\"url(#clip562)\" cx=\"487.79\" cy=\"167.843\" r=\"18\" fill=\"#c43c4d\" fill-rule=\"evenodd\" fill-opacity=\"1\" stroke=\"#000000\" stroke-opacity=\"1\" stroke-width=\"0\"/>\n",
       "<circle clip-path=\"url(#clip562)\" cx=\"487.79\" cy=\"207.777\" r=\"18\" fill=\"#c43c4d\" fill-rule=\"evenodd\" fill-opacity=\"1\" stroke=\"#000000\" stroke-opacity=\"1\" stroke-width=\"0\"/>\n",
       "<circle clip-path=\"url(#clip562)\" cx=\"487.79\" cy=\"247.71\" r=\"18\" fill=\"#000003\" fill-rule=\"evenodd\" fill-opacity=\"1\" stroke=\"#000000\" stroke-opacity=\"1\" stroke-width=\"0\"/>\n",
       "<circle clip-path=\"url(#clip562)\" cx=\"487.79\" cy=\"287.644\" r=\"18\" fill=\"#5b116d\" fill-rule=\"evenodd\" fill-opacity=\"1\" stroke=\"#000000\" stroke-opacity=\"1\" stroke-width=\"0\"/>\n",
       "<circle clip-path=\"url(#clip562)\" cx=\"487.79\" cy=\"327.577\" r=\"18\" fill=\"#5b116d\" fill-rule=\"evenodd\" fill-opacity=\"1\" stroke=\"#000000\" stroke-opacity=\"1\" stroke-width=\"0\"/>\n",
       "<circle clip-path=\"url(#clip562)\" cx=\"527.723\" cy=\"87.9763\" r=\"18\" fill=\"#31095d\" fill-rule=\"evenodd\" fill-opacity=\"1\" stroke=\"#000000\" stroke-opacity=\"1\" stroke-width=\"0\"/>\n",
       "<circle clip-path=\"url(#clip562)\" cx=\"527.723\" cy=\"127.91\" r=\"18\" fill=\"#c43c4d\" fill-rule=\"evenodd\" fill-opacity=\"1\" stroke=\"#000000\" stroke-opacity=\"1\" stroke-width=\"0\"/>\n",
       "<circle clip-path=\"url(#clip562)\" cx=\"527.723\" cy=\"167.843\" r=\"18\" fill=\"#f1eb6d\" fill-rule=\"evenodd\" fill-opacity=\"1\" stroke=\"#000000\" stroke-opacity=\"1\" stroke-width=\"0\"/>\n",
       "<circle clip-path=\"url(#clip562)\" cx=\"527.723\" cy=\"207.777\" r=\"18\" fill=\"#c43c4d\" fill-rule=\"evenodd\" fill-opacity=\"1\" stroke=\"#000000\" stroke-opacity=\"1\" stroke-width=\"0\"/>\n",
       "<circle clip-path=\"url(#clip562)\" cx=\"527.723\" cy=\"287.644\" r=\"18\" fill=\"#5b116d\" fill-rule=\"evenodd\" fill-opacity=\"1\" stroke=\"#000000\" stroke-opacity=\"1\" stroke-width=\"0\"/>\n",
       "<circle clip-path=\"url(#clip562)\" cx=\"527.723\" cy=\"367.511\" r=\"18\" fill=\"#000003\" fill-rule=\"evenodd\" fill-opacity=\"1\" stroke=\"#000000\" stroke-opacity=\"1\" stroke-width=\"0\"/>\n",
       "<circle clip-path=\"url(#clip562)\" cx=\"527.723\" cy=\"407.444\" r=\"18\" fill=\"#5b116d\" fill-rule=\"evenodd\" fill-opacity=\"1\" stroke=\"#000000\" stroke-opacity=\"1\" stroke-width=\"0\"/>\n",
       "<circle clip-path=\"url(#clip562)\" cx=\"567.657\" cy=\"87.9763\" r=\"18\" fill=\"#31095d\" fill-rule=\"evenodd\" fill-opacity=\"1\" stroke=\"#000000\" stroke-opacity=\"1\" stroke-width=\"0\"/>\n",
       "<circle clip-path=\"url(#clip562)\" cx=\"567.657\" cy=\"127.91\" r=\"18\" fill=\"#c43c4d\" fill-rule=\"evenodd\" fill-opacity=\"1\" stroke=\"#000000\" stroke-opacity=\"1\" stroke-width=\"0\"/>\n",
       "<circle clip-path=\"url(#clip562)\" cx=\"567.657\" cy=\"167.843\" r=\"18\" fill=\"#c43c4d\" fill-rule=\"evenodd\" fill-opacity=\"1\" stroke=\"#000000\" stroke-opacity=\"1\" stroke-width=\"0\"/>\n",
       "<circle clip-path=\"url(#clip562)\" cx=\"567.657\" cy=\"207.777\" r=\"18\" fill=\"#f1eb6d\" fill-rule=\"evenodd\" fill-opacity=\"1\" stroke=\"#000000\" stroke-opacity=\"1\" stroke-width=\"0\"/>\n",
       "<circle clip-path=\"url(#clip562)\" cx=\"567.657\" cy=\"327.577\" r=\"18\" fill=\"#5b116d\" fill-rule=\"evenodd\" fill-opacity=\"1\" stroke=\"#000000\" stroke-opacity=\"1\" stroke-width=\"0\"/>\n",
       "<circle clip-path=\"url(#clip562)\" cx=\"567.657\" cy=\"407.444\" r=\"18\" fill=\"#5b116d\" fill-rule=\"evenodd\" fill-opacity=\"1\" stroke=\"#000000\" stroke-opacity=\"1\" stroke-width=\"0\"/>\n",
       "<circle clip-path=\"url(#clip562)\" cx=\"567.657\" cy=\"447.378\" r=\"18\" fill=\"#000003\" fill-rule=\"evenodd\" fill-opacity=\"1\" stroke=\"#000000\" stroke-opacity=\"1\" stroke-width=\"0\"/>\n",
       "<circle clip-path=\"url(#clip562)\" cx=\"607.59\" cy=\"127.91\" r=\"18\" fill=\"#000003\" fill-rule=\"evenodd\" fill-opacity=\"1\" stroke=\"#000000\" stroke-opacity=\"1\" stroke-width=\"0\"/>\n",
       "<circle clip-path=\"url(#clip562)\" cx=\"607.59\" cy=\"247.71\" r=\"18\" fill=\"#f2e35b\" fill-rule=\"evenodd\" fill-opacity=\"1\" stroke=\"#000000\" stroke-opacity=\"1\" stroke-width=\"0\"/>\n",
       "<circle clip-path=\"url(#clip562)\" cx=\"607.59\" cy=\"287.644\" r=\"18\" fill=\"#892269\" fill-rule=\"evenodd\" fill-opacity=\"1\" stroke=\"#000000\" stroke-opacity=\"1\" stroke-width=\"0\"/>\n",
       "<circle clip-path=\"url(#clip562)\" cx=\"607.59\" cy=\"327.577\" r=\"18\" fill=\"#892269\" fill-rule=\"evenodd\" fill-opacity=\"1\" stroke=\"#000000\" stroke-opacity=\"1\" stroke-width=\"0\"/>\n",
       "<circle clip-path=\"url(#clip562)\" cx=\"607.59\" cy=\"487.311\" r=\"18\" fill=\"#000003\" fill-rule=\"evenodd\" fill-opacity=\"1\" stroke=\"#000000\" stroke-opacity=\"1\" stroke-width=\"0\"/>\n",
       "<circle clip-path=\"url(#clip562)\" cx=\"607.59\" cy=\"527.245\" r=\"18\" fill=\"#892269\" fill-rule=\"evenodd\" fill-opacity=\"1\" stroke=\"#000000\" stroke-opacity=\"1\" stroke-width=\"0\"/>\n",
       "<circle clip-path=\"url(#clip562)\" cx=\"607.59\" cy=\"567.178\" r=\"18\" fill=\"#892269\" fill-rule=\"evenodd\" fill-opacity=\"1\" stroke=\"#000000\" stroke-opacity=\"1\" stroke-width=\"0\"/>\n",
       "<circle clip-path=\"url(#clip562)\" cx=\"647.524\" cy=\"127.91\" r=\"18\" fill=\"#5b116d\" fill-rule=\"evenodd\" fill-opacity=\"1\" stroke=\"#000000\" stroke-opacity=\"1\" stroke-width=\"0\"/>\n",
       "<circle clip-path=\"url(#clip562)\" cx=\"647.524\" cy=\"167.843\" r=\"18\" fill=\"#5b116d\" fill-rule=\"evenodd\" fill-opacity=\"1\" stroke=\"#000000\" stroke-opacity=\"1\" stroke-width=\"0\"/>\n",
       "<circle clip-path=\"url(#clip562)\" cx=\"647.524\" cy=\"247.71\" r=\"18\" fill=\"#892269\" fill-rule=\"evenodd\" fill-opacity=\"1\" stroke=\"#000000\" stroke-opacity=\"1\" stroke-width=\"0\"/>\n",
       "<circle clip-path=\"url(#clip562)\" cx=\"647.524\" cy=\"287.644\" r=\"18\" fill=\"#f5da4b\" fill-rule=\"evenodd\" fill-opacity=\"1\" stroke=\"#000000\" stroke-opacity=\"1\" stroke-width=\"0\"/>\n",
       "<circle clip-path=\"url(#clip562)\" cx=\"647.524\" cy=\"327.577\" r=\"18\" fill=\"#c43c4d\" fill-rule=\"evenodd\" fill-opacity=\"1\" stroke=\"#000000\" stroke-opacity=\"1\" stroke-width=\"0\"/>\n",
       "<circle clip-path=\"url(#clip562)\" cx=\"647.524\" cy=\"367.511\" r=\"18\" fill=\"#892269\" fill-rule=\"evenodd\" fill-opacity=\"1\" stroke=\"#000000\" stroke-opacity=\"1\" stroke-width=\"0\"/>\n",
       "<circle clip-path=\"url(#clip562)\" cx=\"647.524\" cy=\"407.444\" r=\"18\" fill=\"#c43c4d\" fill-rule=\"evenodd\" fill-opacity=\"1\" stroke=\"#000000\" stroke-opacity=\"1\" stroke-width=\"0\"/>\n",
       "<circle clip-path=\"url(#clip562)\" cx=\"647.524\" cy=\"527.245\" r=\"18\" fill=\"#31095d\" fill-rule=\"evenodd\" fill-opacity=\"1\" stroke=\"#000000\" stroke-opacity=\"1\" stroke-width=\"0\"/>\n",
       "<circle clip-path=\"url(#clip562)\" cx=\"647.524\" cy=\"607.112\" r=\"18\" fill=\"#31095d\" fill-rule=\"evenodd\" fill-opacity=\"1\" stroke=\"#000000\" stroke-opacity=\"1\" stroke-width=\"0\"/>\n",
       "<circle clip-path=\"url(#clip562)\" cx=\"647.524\" cy=\"647.045\" r=\"18\" fill=\"#892269\" fill-rule=\"evenodd\" fill-opacity=\"1\" stroke=\"#000000\" stroke-opacity=\"1\" stroke-width=\"0\"/>\n",
       "<circle clip-path=\"url(#clip562)\" cx=\"687.457\" cy=\"127.91\" r=\"18\" fill=\"#5b116d\" fill-rule=\"evenodd\" fill-opacity=\"1\" stroke=\"#000000\" stroke-opacity=\"1\" stroke-width=\"0\"/>\n",
       "<circle clip-path=\"url(#clip562)\" cx=\"687.457\" cy=\"207.777\" r=\"18\" fill=\"#5b116d\" fill-rule=\"evenodd\" fill-opacity=\"1\" stroke=\"#000000\" stroke-opacity=\"1\" stroke-width=\"0\"/>\n",
       "<circle clip-path=\"url(#clip562)\" cx=\"687.457\" cy=\"247.71\" r=\"18\" fill=\"#892269\" fill-rule=\"evenodd\" fill-opacity=\"1\" stroke=\"#000000\" stroke-opacity=\"1\" stroke-width=\"0\"/>\n",
       "<circle clip-path=\"url(#clip562)\" cx=\"687.457\" cy=\"287.644\" r=\"18\" fill=\"#c43c4d\" fill-rule=\"evenodd\" fill-opacity=\"1\" stroke=\"#000000\" stroke-opacity=\"1\" stroke-width=\"0\"/>\n",
       "<circle clip-path=\"url(#clip562)\" cx=\"687.457\" cy=\"327.577\" r=\"18\" fill=\"#f5da4b\" fill-rule=\"evenodd\" fill-opacity=\"1\" stroke=\"#000000\" stroke-opacity=\"1\" stroke-width=\"0\"/>\n",
       "<circle clip-path=\"url(#clip562)\" cx=\"687.457\" cy=\"407.444\" r=\"18\" fill=\"#c43c4d\" fill-rule=\"evenodd\" fill-opacity=\"1\" stroke=\"#000000\" stroke-opacity=\"1\" stroke-width=\"0\"/>\n",
       "<circle clip-path=\"url(#clip562)\" cx=\"687.457\" cy=\"447.378\" r=\"18\" fill=\"#892269\" fill-rule=\"evenodd\" fill-opacity=\"1\" stroke=\"#000000\" stroke-opacity=\"1\" stroke-width=\"0\"/>\n",
       "<circle clip-path=\"url(#clip562)\" cx=\"687.457\" cy=\"567.178\" r=\"18\" fill=\"#31095d\" fill-rule=\"evenodd\" fill-opacity=\"1\" stroke=\"#000000\" stroke-opacity=\"1\" stroke-width=\"0\"/>\n",
       "<circle clip-path=\"url(#clip562)\" cx=\"687.457\" cy=\"647.045\" r=\"18\" fill=\"#892269\" fill-rule=\"evenodd\" fill-opacity=\"1\" stroke=\"#000000\" stroke-opacity=\"1\" stroke-width=\"0\"/>\n",
       "<circle clip-path=\"url(#clip562)\" cx=\"687.457\" cy=\"686.979\" r=\"18\" fill=\"#31095d\" fill-rule=\"evenodd\" fill-opacity=\"1\" stroke=\"#000000\" stroke-opacity=\"1\" stroke-width=\"0\"/>\n",
       "<circle clip-path=\"url(#clip562)\" cx=\"727.391\" cy=\"167.843\" r=\"18\" fill=\"#000003\" fill-rule=\"evenodd\" fill-opacity=\"1\" stroke=\"#000000\" stroke-opacity=\"1\" stroke-width=\"0\"/>\n",
       "<circle clip-path=\"url(#clip562)\" cx=\"727.391\" cy=\"287.644\" r=\"18\" fill=\"#892269\" fill-rule=\"evenodd\" fill-opacity=\"1\" stroke=\"#000000\" stroke-opacity=\"1\" stroke-width=\"0\"/>\n",
       "<circle clip-path=\"url(#clip562)\" cx=\"727.391\" cy=\"367.511\" r=\"18\" fill=\"#f2e35b\" fill-rule=\"evenodd\" fill-opacity=\"1\" stroke=\"#000000\" stroke-opacity=\"1\" stroke-width=\"0\"/>\n",
       "<circle clip-path=\"url(#clip562)\" cx=\"727.391\" cy=\"407.444\" r=\"18\" fill=\"#892269\" fill-rule=\"evenodd\" fill-opacity=\"1\" stroke=\"#000000\" stroke-opacity=\"1\" stroke-width=\"0\"/>\n",
       "<circle clip-path=\"url(#clip562)\" cx=\"727.391\" cy=\"607.112\" r=\"18\" fill=\"#892269\" fill-rule=\"evenodd\" fill-opacity=\"1\" stroke=\"#000000\" stroke-opacity=\"1\" stroke-width=\"0\"/>\n",
       "<circle clip-path=\"url(#clip562)\" cx=\"727.391\" cy=\"726.912\" r=\"18\" fill=\"#000003\" fill-rule=\"evenodd\" fill-opacity=\"1\" stroke=\"#000000\" stroke-opacity=\"1\" stroke-width=\"0\"/>\n",
       "<circle clip-path=\"url(#clip562)\" cx=\"727.391\" cy=\"766.846\" r=\"18\" fill=\"#892269\" fill-rule=\"evenodd\" fill-opacity=\"1\" stroke=\"#000000\" stroke-opacity=\"1\" stroke-width=\"0\"/>\n",
       "<circle clip-path=\"url(#clip562)\" cx=\"767.324\" cy=\"167.843\" r=\"18\" fill=\"#5b116d\" fill-rule=\"evenodd\" fill-opacity=\"1\" stroke=\"#000000\" stroke-opacity=\"1\" stroke-width=\"0\"/>\n",
       "<circle clip-path=\"url(#clip562)\" cx=\"767.324\" cy=\"207.777\" r=\"18\" fill=\"#5b116d\" fill-rule=\"evenodd\" fill-opacity=\"1\" stroke=\"#000000\" stroke-opacity=\"1\" stroke-width=\"0\"/>\n",
       "<circle clip-path=\"url(#clip562)\" cx=\"767.324\" cy=\"287.644\" r=\"18\" fill=\"#c43c4d\" fill-rule=\"evenodd\" fill-opacity=\"1\" stroke=\"#000000\" stroke-opacity=\"1\" stroke-width=\"0\"/>\n",
       "<circle clip-path=\"url(#clip562)\" cx=\"767.324\" cy=\"327.577\" r=\"18\" fill=\"#c43c4d\" fill-rule=\"evenodd\" fill-opacity=\"1\" stroke=\"#000000\" stroke-opacity=\"1\" stroke-width=\"0\"/>\n",
       "<circle clip-path=\"url(#clip562)\" cx=\"767.324\" cy=\"367.511\" r=\"18\" fill=\"#892269\" fill-rule=\"evenodd\" fill-opacity=\"1\" stroke=\"#000000\" stroke-opacity=\"1\" stroke-width=\"0\"/>\n",
       "<circle clip-path=\"url(#clip562)\" cx=\"767.324\" cy=\"407.444\" r=\"18\" fill=\"#f5da4b\" fill-rule=\"evenodd\" fill-opacity=\"1\" stroke=\"#000000\" stroke-opacity=\"1\" stroke-width=\"0\"/>\n",
       "<circle clip-path=\"url(#clip562)\" cx=\"767.324\" cy=\"447.378\" r=\"18\" fill=\"#892269\" fill-rule=\"evenodd\" fill-opacity=\"1\" stroke=\"#000000\" stroke-opacity=\"1\" stroke-width=\"0\"/>\n",
       "<circle clip-path=\"url(#clip562)\" cx=\"767.324\" cy=\"647.045\" r=\"18\" fill=\"#892269\" fill-rule=\"evenodd\" fill-opacity=\"1\" stroke=\"#000000\" stroke-opacity=\"1\" stroke-width=\"0\"/>\n",
       "<circle clip-path=\"url(#clip562)\" cx=\"767.324\" cy=\"766.846\" r=\"18\" fill=\"#31095d\" fill-rule=\"evenodd\" fill-opacity=\"1\" stroke=\"#000000\" stroke-opacity=\"1\" stroke-width=\"0\"/>\n",
       "<circle clip-path=\"url(#clip562)\" cx=\"767.324\" cy=\"806.779\" r=\"18\" fill=\"#31095d\" fill-rule=\"evenodd\" fill-opacity=\"1\" stroke=\"#000000\" stroke-opacity=\"1\" stroke-width=\"0\"/>\n",
       "<circle clip-path=\"url(#clip562)\" cx=\"807.258\" cy=\"207.777\" r=\"18\" fill=\"#000003\" fill-rule=\"evenodd\" fill-opacity=\"1\" stroke=\"#000000\" stroke-opacity=\"1\" stroke-width=\"0\"/>\n",
       "<circle clip-path=\"url(#clip562)\" cx=\"807.258\" cy=\"327.577\" r=\"18\" fill=\"#892269\" fill-rule=\"evenodd\" fill-opacity=\"1\" stroke=\"#000000\" stroke-opacity=\"1\" stroke-width=\"0\"/>\n",
       "<circle clip-path=\"url(#clip562)\" cx=\"807.258\" cy=\"407.444\" r=\"18\" fill=\"#892269\" fill-rule=\"evenodd\" fill-opacity=\"1\" stroke=\"#000000\" stroke-opacity=\"1\" stroke-width=\"0\"/>\n",
       "<circle clip-path=\"url(#clip562)\" cx=\"807.258\" cy=\"447.378\" r=\"18\" fill=\"#f2e35b\" fill-rule=\"evenodd\" fill-opacity=\"1\" stroke=\"#000000\" stroke-opacity=\"1\" stroke-width=\"0\"/>\n",
       "<circle clip-path=\"url(#clip562)\" cx=\"807.258\" cy=\"686.979\" r=\"18\" fill=\"#892269\" fill-rule=\"evenodd\" fill-opacity=\"1\" stroke=\"#000000\" stroke-opacity=\"1\" stroke-width=\"0\"/>\n",
       "<circle clip-path=\"url(#clip562)\" cx=\"807.258\" cy=\"806.779\" r=\"18\" fill=\"#892269\" fill-rule=\"evenodd\" fill-opacity=\"1\" stroke=\"#000000\" stroke-opacity=\"1\" stroke-width=\"0\"/>\n",
       "<circle clip-path=\"url(#clip562)\" cx=\"807.258\" cy=\"846.713\" r=\"18\" fill=\"#000003\" fill-rule=\"evenodd\" fill-opacity=\"1\" stroke=\"#000000\" stroke-opacity=\"1\" stroke-width=\"0\"/>\n",
       "<circle clip-path=\"url(#clip562)\" cx=\"847.191\" cy=\"247.71\" r=\"18\" fill=\"#000003\" fill-rule=\"evenodd\" fill-opacity=\"1\" stroke=\"#000000\" stroke-opacity=\"1\" stroke-width=\"0\"/>\n",
       "<circle clip-path=\"url(#clip562)\" cx=\"847.191\" cy=\"487.311\" r=\"18\" fill=\"#f1eb6d\" fill-rule=\"evenodd\" fill-opacity=\"1\" stroke=\"#000000\" stroke-opacity=\"1\" stroke-width=\"0\"/>\n",
       "<circle clip-path=\"url(#clip562)\" cx=\"847.191\" cy=\"527.245\" r=\"18\" fill=\"#5b116d\" fill-rule=\"evenodd\" fill-opacity=\"1\" stroke=\"#000000\" stroke-opacity=\"1\" stroke-width=\"0\"/>\n",
       "<circle clip-path=\"url(#clip562)\" cx=\"847.191\" cy=\"567.178\" r=\"18\" fill=\"#5b116d\" fill-rule=\"evenodd\" fill-opacity=\"1\" stroke=\"#000000\" stroke-opacity=\"1\" stroke-width=\"0\"/>\n",
       "<circle clip-path=\"url(#clip562)\" cx=\"847.191\" cy=\"886.647\" r=\"18\" fill=\"#31095d\" fill-rule=\"evenodd\" fill-opacity=\"1\" stroke=\"#000000\" stroke-opacity=\"1\" stroke-width=\"0\"/>\n",
       "<circle clip-path=\"url(#clip562)\" cx=\"847.191\" cy=\"926.58\" r=\"18\" fill=\"#c43c4d\" fill-rule=\"evenodd\" fill-opacity=\"1\" stroke=\"#000000\" stroke-opacity=\"1\" stroke-width=\"0\"/>\n",
       "<circle clip-path=\"url(#clip562)\" cx=\"847.191\" cy=\"966.514\" r=\"18\" fill=\"#c43c4d\" fill-rule=\"evenodd\" fill-opacity=\"1\" stroke=\"#000000\" stroke-opacity=\"1\" stroke-width=\"0\"/>\n",
       "<circle clip-path=\"url(#clip562)\" cx=\"887.125\" cy=\"247.71\" r=\"18\" fill=\"#892269\" fill-rule=\"evenodd\" fill-opacity=\"1\" stroke=\"#000000\" stroke-opacity=\"1\" stroke-width=\"0\"/>\n",
       "<circle clip-path=\"url(#clip562)\" cx=\"887.125\" cy=\"287.644\" r=\"18\" fill=\"#31095d\" fill-rule=\"evenodd\" fill-opacity=\"1\" stroke=\"#000000\" stroke-opacity=\"1\" stroke-width=\"0\"/>\n",
       "<circle clip-path=\"url(#clip562)\" cx=\"887.125\" cy=\"487.311\" r=\"18\" fill=\"#5b116d\" fill-rule=\"evenodd\" fill-opacity=\"1\" stroke=\"#000000\" stroke-opacity=\"1\" stroke-width=\"0\"/>\n",
       "<circle clip-path=\"url(#clip562)\" cx=\"887.125\" cy=\"527.245\" r=\"18\" fill=\"#f5da4b\" fill-rule=\"evenodd\" fill-opacity=\"1\" stroke=\"#000000\" stroke-opacity=\"1\" stroke-width=\"0\"/>\n",
       "<circle clip-path=\"url(#clip562)\" cx=\"887.125\" cy=\"567.178\" r=\"18\" fill=\"#c43c4d\" fill-rule=\"evenodd\" fill-opacity=\"1\" stroke=\"#000000\" stroke-opacity=\"1\" stroke-width=\"0\"/>\n",
       "<circle clip-path=\"url(#clip562)\" cx=\"887.125\" cy=\"607.112\" r=\"18\" fill=\"#31095d\" fill-rule=\"evenodd\" fill-opacity=\"1\" stroke=\"#000000\" stroke-opacity=\"1\" stroke-width=\"0\"/>\n",
       "<circle clip-path=\"url(#clip562)\" cx=\"887.125\" cy=\"647.045\" r=\"18\" fill=\"#892269\" fill-rule=\"evenodd\" fill-opacity=\"1\" stroke=\"#000000\" stroke-opacity=\"1\" stroke-width=\"0\"/>\n",
       "<circle clip-path=\"url(#clip562)\" cx=\"887.125\" cy=\"926.58\" r=\"18\" fill=\"#5b116d\" fill-rule=\"evenodd\" fill-opacity=\"1\" stroke=\"#000000\" stroke-opacity=\"1\" stroke-width=\"0\"/>\n",
       "<circle clip-path=\"url(#clip562)\" cx=\"887.125\" cy=\"1006.45\" r=\"18\" fill=\"#892269\" fill-rule=\"evenodd\" fill-opacity=\"1\" stroke=\"#000000\" stroke-opacity=\"1\" stroke-width=\"0\"/>\n",
       "<circle clip-path=\"url(#clip562)\" cx=\"887.125\" cy=\"1046.38\" r=\"18\" fill=\"#c43c4d\" fill-rule=\"evenodd\" fill-opacity=\"1\" stroke=\"#000000\" stroke-opacity=\"1\" stroke-width=\"0\"/>\n",
       "<circle clip-path=\"url(#clip562)\" cx=\"927.058\" cy=\"247.71\" r=\"18\" fill=\"#892269\" fill-rule=\"evenodd\" fill-opacity=\"1\" stroke=\"#000000\" stroke-opacity=\"1\" stroke-width=\"0\"/>\n",
       "<circle clip-path=\"url(#clip562)\" cx=\"927.058\" cy=\"327.577\" r=\"18\" fill=\"#31095d\" fill-rule=\"evenodd\" fill-opacity=\"1\" stroke=\"#000000\" stroke-opacity=\"1\" stroke-width=\"0\"/>\n",
       "<circle clip-path=\"url(#clip562)\" cx=\"927.058\" cy=\"487.311\" r=\"18\" fill=\"#5b116d\" fill-rule=\"evenodd\" fill-opacity=\"1\" stroke=\"#000000\" stroke-opacity=\"1\" stroke-width=\"0\"/>\n",
       "<circle clip-path=\"url(#clip562)\" cx=\"927.058\" cy=\"527.245\" r=\"18\" fill=\"#c43c4d\" fill-rule=\"evenodd\" fill-opacity=\"1\" stroke=\"#000000\" stroke-opacity=\"1\" stroke-width=\"0\"/>\n",
       "<circle clip-path=\"url(#clip562)\" cx=\"927.058\" cy=\"567.178\" r=\"18\" fill=\"#f5da4b\" fill-rule=\"evenodd\" fill-opacity=\"1\" stroke=\"#000000\" stroke-opacity=\"1\" stroke-width=\"0\"/>\n",
       "<circle clip-path=\"url(#clip562)\" cx=\"927.058\" cy=\"647.045\" r=\"18\" fill=\"#892269\" fill-rule=\"evenodd\" fill-opacity=\"1\" stroke=\"#000000\" stroke-opacity=\"1\" stroke-width=\"0\"/>\n",
       "<circle clip-path=\"url(#clip562)\" cx=\"927.058\" cy=\"686.979\" r=\"18\" fill=\"#31095d\" fill-rule=\"evenodd\" fill-opacity=\"1\" stroke=\"#000000\" stroke-opacity=\"1\" stroke-width=\"0\"/>\n",
       "<circle clip-path=\"url(#clip562)\" cx=\"927.058\" cy=\"966.514\" r=\"18\" fill=\"#5b116d\" fill-rule=\"evenodd\" fill-opacity=\"1\" stroke=\"#000000\" stroke-opacity=\"1\" stroke-width=\"0\"/>\n",
       "<circle clip-path=\"url(#clip562)\" cx=\"927.058\" cy=\"1046.38\" r=\"18\" fill=\"#c43c4d\" fill-rule=\"evenodd\" fill-opacity=\"1\" stroke=\"#000000\" stroke-opacity=\"1\" stroke-width=\"0\"/>\n",
       "<circle clip-path=\"url(#clip562)\" cx=\"927.058\" cy=\"1086.31\" r=\"18\" fill=\"#892269\" fill-rule=\"evenodd\" fill-opacity=\"1\" stroke=\"#000000\" stroke-opacity=\"1\" stroke-width=\"0\"/>\n",
       "<circle clip-path=\"url(#clip562)\" cx=\"966.992\" cy=\"287.644\" r=\"18\" fill=\"#31095d\" fill-rule=\"evenodd\" fill-opacity=\"1\" stroke=\"#000000\" stroke-opacity=\"1\" stroke-width=\"0\"/>\n",
       "<circle clip-path=\"url(#clip562)\" cx=\"966.992\" cy=\"367.511\" r=\"18\" fill=\"#892269\" fill-rule=\"evenodd\" fill-opacity=\"1\" stroke=\"#000000\" stroke-opacity=\"1\" stroke-width=\"0\"/>\n",
       "<circle clip-path=\"url(#clip562)\" cx=\"966.992\" cy=\"527.245\" r=\"18\" fill=\"#31095d\" fill-rule=\"evenodd\" fill-opacity=\"1\" stroke=\"#000000\" stroke-opacity=\"1\" stroke-width=\"0\"/>\n",
       "<circle clip-path=\"url(#clip562)\" cx=\"966.992\" cy=\"607.112\" r=\"18\" fill=\"#f5da4b\" fill-rule=\"evenodd\" fill-opacity=\"1\" stroke=\"#000000\" stroke-opacity=\"1\" stroke-width=\"0\"/>\n",
       "<circle clip-path=\"url(#clip562)\" cx=\"966.992\" cy=\"647.045\" r=\"18\" fill=\"#892269\" fill-rule=\"evenodd\" fill-opacity=\"1\" stroke=\"#000000\" stroke-opacity=\"1\" stroke-width=\"0\"/>\n",
       "<circle clip-path=\"url(#clip562)\" cx=\"966.992\" cy=\"726.912\" r=\"18\" fill=\"#5b116d\" fill-rule=\"evenodd\" fill-opacity=\"1\" stroke=\"#000000\" stroke-opacity=\"1\" stroke-width=\"0\"/>\n",
       "<circle clip-path=\"url(#clip562)\" cx=\"966.992\" cy=\"766.846\" r=\"18\" fill=\"#c43c4d\" fill-rule=\"evenodd\" fill-opacity=\"1\" stroke=\"#000000\" stroke-opacity=\"1\" stroke-width=\"0\"/>\n",
       "<circle clip-path=\"url(#clip562)\" cx=\"966.992\" cy=\"1006.45\" r=\"18\" fill=\"#892269\" fill-rule=\"evenodd\" fill-opacity=\"1\" stroke=\"#000000\" stroke-opacity=\"1\" stroke-width=\"0\"/>\n",
       "<circle clip-path=\"url(#clip562)\" cx=\"966.992\" cy=\"1126.25\" r=\"18\" fill=\"#5b116d\" fill-rule=\"evenodd\" fill-opacity=\"1\" stroke=\"#000000\" stroke-opacity=\"1\" stroke-width=\"0\"/>\n",
       "<circle clip-path=\"url(#clip562)\" cx=\"966.992\" cy=\"1166.18\" r=\"18\" fill=\"#c43c4d\" fill-rule=\"evenodd\" fill-opacity=\"1\" stroke=\"#000000\" stroke-opacity=\"1\" stroke-width=\"0\"/>\n",
       "<circle clip-path=\"url(#clip562)\" cx=\"1006.93\" cy=\"287.644\" r=\"18\" fill=\"#892269\" fill-rule=\"evenodd\" fill-opacity=\"1\" stroke=\"#000000\" stroke-opacity=\"1\" stroke-width=\"0\"/>\n",
       "<circle clip-path=\"url(#clip562)\" cx=\"1006.93\" cy=\"327.577\" r=\"18\" fill=\"#892269\" fill-rule=\"evenodd\" fill-opacity=\"1\" stroke=\"#000000\" stroke-opacity=\"1\" stroke-width=\"0\"/>\n",
       "<circle clip-path=\"url(#clip562)\" cx=\"1006.93\" cy=\"407.444\" r=\"18\" fill=\"#892269\" fill-rule=\"evenodd\" fill-opacity=\"1\" stroke=\"#000000\" stroke-opacity=\"1\" stroke-width=\"0\"/>\n",
       "<circle clip-path=\"url(#clip562)\" cx=\"1006.93\" cy=\"527.245\" r=\"18\" fill=\"#892269\" fill-rule=\"evenodd\" fill-opacity=\"1\" stroke=\"#000000\" stroke-opacity=\"1\" stroke-width=\"0\"/>\n",
       "<circle clip-path=\"url(#clip562)\" cx=\"1006.93\" cy=\"567.178\" r=\"18\" fill=\"#892269\" fill-rule=\"evenodd\" fill-opacity=\"1\" stroke=\"#000000\" stroke-opacity=\"1\" stroke-width=\"0\"/>\n",
       "<circle clip-path=\"url(#clip562)\" cx=\"1006.93\" cy=\"607.112\" r=\"18\" fill=\"#892269\" fill-rule=\"evenodd\" fill-opacity=\"1\" stroke=\"#000000\" stroke-opacity=\"1\" stroke-width=\"0\"/>\n",
       "<circle clip-path=\"url(#clip562)\" cx=\"1006.93\" cy=\"686.979\" r=\"18\" fill=\"#892269\" fill-rule=\"evenodd\" fill-opacity=\"1\" stroke=\"#000000\" stroke-opacity=\"1\" stroke-width=\"0\"/>\n",
       "<circle clip-path=\"url(#clip562)\" cx=\"1006.93\" cy=\"766.846\" r=\"18\" fill=\"#892269\" fill-rule=\"evenodd\" fill-opacity=\"1\" stroke=\"#000000\" stroke-opacity=\"1\" stroke-width=\"0\"/>\n",
       "<circle clip-path=\"url(#clip562)\" cx=\"1006.93\" cy=\"806.779\" r=\"18\" fill=\"#892269\" fill-rule=\"evenodd\" fill-opacity=\"1\" stroke=\"#000000\" stroke-opacity=\"1\" stroke-width=\"0\"/>\n",
       "<circle clip-path=\"url(#clip562)\" cx=\"1006.93\" cy=\"1046.38\" r=\"18\" fill=\"#892269\" fill-rule=\"evenodd\" fill-opacity=\"1\" stroke=\"#000000\" stroke-opacity=\"1\" stroke-width=\"0\"/>\n",
       "<circle clip-path=\"url(#clip562)\" cx=\"1006.93\" cy=\"1166.18\" r=\"18\" fill=\"#892269\" fill-rule=\"evenodd\" fill-opacity=\"1\" stroke=\"#000000\" stroke-opacity=\"1\" stroke-width=\"0\"/>\n",
       "<circle clip-path=\"url(#clip562)\" cx=\"1006.93\" cy=\"1206.11\" r=\"18\" fill=\"#892269\" fill-rule=\"evenodd\" fill-opacity=\"1\" stroke=\"#000000\" stroke-opacity=\"1\" stroke-width=\"0\"/>\n",
       "<circle clip-path=\"url(#clip562)\" cx=\"1046.86\" cy=\"327.577\" r=\"18\" fill=\"#31095d\" fill-rule=\"evenodd\" fill-opacity=\"1\" stroke=\"#000000\" stroke-opacity=\"1\" stroke-width=\"0\"/>\n",
       "<circle clip-path=\"url(#clip562)\" cx=\"1046.86\" cy=\"447.378\" r=\"18\" fill=\"#892269\" fill-rule=\"evenodd\" fill-opacity=\"1\" stroke=\"#000000\" stroke-opacity=\"1\" stroke-width=\"0\"/>\n",
       "<circle clip-path=\"url(#clip562)\" cx=\"1046.86\" cy=\"567.178\" r=\"18\" fill=\"#31095d\" fill-rule=\"evenodd\" fill-opacity=\"1\" stroke=\"#000000\" stroke-opacity=\"1\" stroke-width=\"0\"/>\n",
       "<circle clip-path=\"url(#clip562)\" cx=\"1046.86\" cy=\"647.045\" r=\"18\" fill=\"#892269\" fill-rule=\"evenodd\" fill-opacity=\"1\" stroke=\"#000000\" stroke-opacity=\"1\" stroke-width=\"0\"/>\n",
       "<circle clip-path=\"url(#clip562)\" cx=\"1046.86\" cy=\"686.979\" r=\"18\" fill=\"#f5da4b\" fill-rule=\"evenodd\" fill-opacity=\"1\" stroke=\"#000000\" stroke-opacity=\"1\" stroke-width=\"0\"/>\n",
       "<circle clip-path=\"url(#clip562)\" cx=\"1046.86\" cy=\"806.779\" r=\"18\" fill=\"#c43c4d\" fill-rule=\"evenodd\" fill-opacity=\"1\" stroke=\"#000000\" stroke-opacity=\"1\" stroke-width=\"0\"/>\n",
       "<circle clip-path=\"url(#clip562)\" cx=\"1046.86\" cy=\"846.713\" r=\"18\" fill=\"#5b116d\" fill-rule=\"evenodd\" fill-opacity=\"1\" stroke=\"#000000\" stroke-opacity=\"1\" stroke-width=\"0\"/>\n",
       "<circle clip-path=\"url(#clip562)\" cx=\"1046.86\" cy=\"1086.31\" r=\"18\" fill=\"#892269\" fill-rule=\"evenodd\" fill-opacity=\"1\" stroke=\"#000000\" stroke-opacity=\"1\" stroke-width=\"0\"/>\n",
       "<circle clip-path=\"url(#clip562)\" cx=\"1046.86\" cy=\"1206.11\" r=\"18\" fill=\"#c43c4d\" fill-rule=\"evenodd\" fill-opacity=\"1\" stroke=\"#000000\" stroke-opacity=\"1\" stroke-width=\"0\"/>\n",
       "<circle clip-path=\"url(#clip562)\" cx=\"1046.86\" cy=\"1246.05\" r=\"18\" fill=\"#5b116d\" fill-rule=\"evenodd\" fill-opacity=\"1\" stroke=\"#000000\" stroke-opacity=\"1\" stroke-width=\"0\"/>\n",
       "<circle clip-path=\"url(#clip562)\" cx=\"1086.79\" cy=\"367.511\" r=\"18\" fill=\"#000003\" fill-rule=\"evenodd\" fill-opacity=\"1\" stroke=\"#000000\" stroke-opacity=\"1\" stroke-width=\"0\"/>\n",
       "<circle clip-path=\"url(#clip562)\" cx=\"1086.79\" cy=\"607.112\" r=\"18\" fill=\"#5b116d\" fill-rule=\"evenodd\" fill-opacity=\"1\" stroke=\"#000000\" stroke-opacity=\"1\" stroke-width=\"0\"/>\n",
       "<circle clip-path=\"url(#clip562)\" cx=\"1086.79\" cy=\"726.912\" r=\"18\" fill=\"#f1eb6d\" fill-rule=\"evenodd\" fill-opacity=\"1\" stroke=\"#000000\" stroke-opacity=\"1\" stroke-width=\"0\"/>\n",
       "<circle clip-path=\"url(#clip562)\" cx=\"1086.79\" cy=\"766.846\" r=\"18\" fill=\"#5b116d\" fill-rule=\"evenodd\" fill-opacity=\"1\" stroke=\"#000000\" stroke-opacity=\"1\" stroke-width=\"0\"/>\n",
       "<circle clip-path=\"url(#clip562)\" cx=\"1086.79\" cy=\"1126.25\" r=\"18\" fill=\"#c43c4d\" fill-rule=\"evenodd\" fill-opacity=\"1\" stroke=\"#000000\" stroke-opacity=\"1\" stroke-width=\"0\"/>\n",
       "<circle clip-path=\"url(#clip562)\" cx=\"1086.79\" cy=\"1285.98\" r=\"18\" fill=\"#31095d\" fill-rule=\"evenodd\" fill-opacity=\"1\" stroke=\"#000000\" stroke-opacity=\"1\" stroke-width=\"0\"/>\n",
       "<circle clip-path=\"url(#clip562)\" cx=\"1086.79\" cy=\"1325.92\" r=\"18\" fill=\"#c43c4d\" fill-rule=\"evenodd\" fill-opacity=\"1\" stroke=\"#000000\" stroke-opacity=\"1\" stroke-width=\"0\"/>\n",
       "<circle clip-path=\"url(#clip562)\" cx=\"1126.73\" cy=\"367.511\" r=\"18\" fill=\"#892269\" fill-rule=\"evenodd\" fill-opacity=\"1\" stroke=\"#000000\" stroke-opacity=\"1\" stroke-width=\"0\"/>\n",
       "<circle clip-path=\"url(#clip562)\" cx=\"1126.73\" cy=\"407.444\" r=\"18\" fill=\"#31095d\" fill-rule=\"evenodd\" fill-opacity=\"1\" stroke=\"#000000\" stroke-opacity=\"1\" stroke-width=\"0\"/>\n",
       "<circle clip-path=\"url(#clip562)\" cx=\"1126.73\" cy=\"607.112\" r=\"18\" fill=\"#c43c4d\" fill-rule=\"evenodd\" fill-opacity=\"1\" stroke=\"#000000\" stroke-opacity=\"1\" stroke-width=\"0\"/>\n",
       "<circle clip-path=\"url(#clip562)\" cx=\"1126.73\" cy=\"647.045\" r=\"18\" fill=\"#892269\" fill-rule=\"evenodd\" fill-opacity=\"1\" stroke=\"#000000\" stroke-opacity=\"1\" stroke-width=\"0\"/>\n",
       "<circle clip-path=\"url(#clip562)\" cx=\"1126.73\" cy=\"726.912\" r=\"18\" fill=\"#5b116d\" fill-rule=\"evenodd\" fill-opacity=\"1\" stroke=\"#000000\" stroke-opacity=\"1\" stroke-width=\"0\"/>\n",
       "<circle clip-path=\"url(#clip562)\" cx=\"1126.73\" cy=\"766.846\" r=\"18\" fill=\"#f5da4b\" fill-rule=\"evenodd\" fill-opacity=\"1\" stroke=\"#000000\" stroke-opacity=\"1\" stroke-width=\"0\"/>\n",
       "<circle clip-path=\"url(#clip562)\" cx=\"1126.73\" cy=\"806.779\" r=\"18\" fill=\"#31095d\" fill-rule=\"evenodd\" fill-opacity=\"1\" stroke=\"#000000\" stroke-opacity=\"1\" stroke-width=\"0\"/>\n",
       "<circle clip-path=\"url(#clip562)\" cx=\"1126.73\" cy=\"1166.18\" r=\"18\" fill=\"#c43c4d\" fill-rule=\"evenodd\" fill-opacity=\"1\" stroke=\"#000000\" stroke-opacity=\"1\" stroke-width=\"0\"/>\n",
       "<circle clip-path=\"url(#clip562)\" cx=\"1126.73\" cy=\"1325.92\" r=\"18\" fill=\"#5b116d\" fill-rule=\"evenodd\" fill-opacity=\"1\" stroke=\"#000000\" stroke-opacity=\"1\" stroke-width=\"0\"/>\n",
       "<circle clip-path=\"url(#clip562)\" cx=\"1126.73\" cy=\"1365.85\" r=\"18\" fill=\"#892269\" fill-rule=\"evenodd\" fill-opacity=\"1\" stroke=\"#000000\" stroke-opacity=\"1\" stroke-width=\"0\"/>\n",
       "<circle clip-path=\"url(#clip562)\" cx=\"1166.66\" cy=\"407.444\" r=\"18\" fill=\"#31095d\" fill-rule=\"evenodd\" fill-opacity=\"1\" stroke=\"#000000\" stroke-opacity=\"1\" stroke-width=\"0\"/>\n",
       "<circle clip-path=\"url(#clip562)\" cx=\"1166.66\" cy=\"447.378\" r=\"18\" fill=\"#892269\" fill-rule=\"evenodd\" fill-opacity=\"1\" stroke=\"#000000\" stroke-opacity=\"1\" stroke-width=\"0\"/>\n",
       "<circle clip-path=\"url(#clip562)\" cx=\"1166.66\" cy=\"647.045\" r=\"18\" fill=\"#892269\" fill-rule=\"evenodd\" fill-opacity=\"1\" stroke=\"#000000\" stroke-opacity=\"1\" stroke-width=\"0\"/>\n",
       "<circle clip-path=\"url(#clip562)\" cx=\"1166.66\" cy=\"686.979\" r=\"18\" fill=\"#c43c4d\" fill-rule=\"evenodd\" fill-opacity=\"1\" stroke=\"#000000\" stroke-opacity=\"1\" stroke-width=\"0\"/>\n",
       "<circle clip-path=\"url(#clip562)\" cx=\"1166.66\" cy=\"766.846\" r=\"18\" fill=\"#31095d\" fill-rule=\"evenodd\" fill-opacity=\"1\" stroke=\"#000000\" stroke-opacity=\"1\" stroke-width=\"0\"/>\n",
       "<circle clip-path=\"url(#clip562)\" cx=\"1166.66\" cy=\"806.779\" r=\"18\" fill=\"#f5da4b\" fill-rule=\"evenodd\" fill-opacity=\"1\" stroke=\"#000000\" stroke-opacity=\"1\" stroke-width=\"0\"/>\n",
       "<circle clip-path=\"url(#clip562)\" cx=\"1166.66\" cy=\"846.713\" r=\"18\" fill=\"#5b116d\" fill-rule=\"evenodd\" fill-opacity=\"1\" stroke=\"#000000\" stroke-opacity=\"1\" stroke-width=\"0\"/>\n",
       "<circle clip-path=\"url(#clip562)\" cx=\"1166.66\" cy=\"1206.11\" r=\"18\" fill=\"#c43c4d\" fill-rule=\"evenodd\" fill-opacity=\"1\" stroke=\"#000000\" stroke-opacity=\"1\" stroke-width=\"0\"/>\n",
       "<circle clip-path=\"url(#clip562)\" cx=\"1166.66\" cy=\"1365.85\" r=\"18\" fill=\"#892269\" fill-rule=\"evenodd\" fill-opacity=\"1\" stroke=\"#000000\" stroke-opacity=\"1\" stroke-width=\"0\"/>\n",
       "<circle clip-path=\"url(#clip562)\" cx=\"1166.66\" cy=\"1405.78\" r=\"18\" fill=\"#5b116d\" fill-rule=\"evenodd\" fill-opacity=\"1\" stroke=\"#000000\" stroke-opacity=\"1\" stroke-width=\"0\"/>\n",
       "<circle clip-path=\"url(#clip562)\" cx=\"1206.59\" cy=\"447.378\" r=\"18\" fill=\"#000003\" fill-rule=\"evenodd\" fill-opacity=\"1\" stroke=\"#000000\" stroke-opacity=\"1\" stroke-width=\"0\"/>\n",
       "<circle clip-path=\"url(#clip562)\" cx=\"1206.59\" cy=\"686.979\" r=\"18\" fill=\"#5b116d\" fill-rule=\"evenodd\" fill-opacity=\"1\" stroke=\"#000000\" stroke-opacity=\"1\" stroke-width=\"0\"/>\n",
       "<circle clip-path=\"url(#clip562)\" cx=\"1206.59\" cy=\"806.779\" r=\"18\" fill=\"#5b116d\" fill-rule=\"evenodd\" fill-opacity=\"1\" stroke=\"#000000\" stroke-opacity=\"1\" stroke-width=\"0\"/>\n",
       "<circle clip-path=\"url(#clip562)\" cx=\"1206.59\" cy=\"846.713\" r=\"18\" fill=\"#f1eb6d\" fill-rule=\"evenodd\" fill-opacity=\"1\" stroke=\"#000000\" stroke-opacity=\"1\" stroke-width=\"0\"/>\n",
       "<circle clip-path=\"url(#clip562)\" cx=\"1206.59\" cy=\"1246.05\" r=\"18\" fill=\"#c43c4d\" fill-rule=\"evenodd\" fill-opacity=\"1\" stroke=\"#000000\" stroke-opacity=\"1\" stroke-width=\"0\"/>\n",
       "<circle clip-path=\"url(#clip562)\" cx=\"1206.59\" cy=\"1405.78\" r=\"18\" fill=\"#c43c4d\" fill-rule=\"evenodd\" fill-opacity=\"1\" stroke=\"#000000\" stroke-opacity=\"1\" stroke-width=\"0\"/>\n",
       "<circle clip-path=\"url(#clip562)\" cx=\"1206.59\" cy=\"1445.72\" r=\"18\" fill=\"#31095d\" fill-rule=\"evenodd\" fill-opacity=\"1\" stroke=\"#000000\" stroke-opacity=\"1\" stroke-width=\"0\"/>\n",
       "<circle clip-path=\"url(#clip562)\" cx=\"1246.53\" cy=\"487.311\" r=\"18\" fill=\"#31095d\" fill-rule=\"evenodd\" fill-opacity=\"1\" stroke=\"#000000\" stroke-opacity=\"1\" stroke-width=\"0\"/>\n",
       "<circle clip-path=\"url(#clip562)\" cx=\"1246.53\" cy=\"886.647\" r=\"18\" fill=\"#fcfea4\" fill-rule=\"evenodd\" fill-opacity=\"1\" stroke=\"#000000\" stroke-opacity=\"1\" stroke-width=\"0\"/>\n",
       "<circle clip-path=\"url(#clip562)\" cx=\"1246.53\" cy=\"926.58\" r=\"18\" fill=\"#31095d\" fill-rule=\"evenodd\" fill-opacity=\"1\" stroke=\"#000000\" stroke-opacity=\"1\" stroke-width=\"0\"/>\n",
       "<circle clip-path=\"url(#clip562)\" cx=\"1246.53\" cy=\"966.514\" r=\"18\" fill=\"#31095d\" fill-rule=\"evenodd\" fill-opacity=\"1\" stroke=\"#000000\" stroke-opacity=\"1\" stroke-width=\"0\"/>\n",
       "<circle clip-path=\"url(#clip562)\" cx=\"1286.46\" cy=\"487.311\" r=\"18\" fill=\"#c43c4d\" fill-rule=\"evenodd\" fill-opacity=\"1\" stroke=\"#000000\" stroke-opacity=\"1\" stroke-width=\"0\"/>\n",
       "<circle clip-path=\"url(#clip562)\" cx=\"1286.46\" cy=\"527.245\" r=\"18\" fill=\"#5b116d\" fill-rule=\"evenodd\" fill-opacity=\"1\" stroke=\"#000000\" stroke-opacity=\"1\" stroke-width=\"0\"/>\n",
       "<circle clip-path=\"url(#clip562)\" cx=\"1286.46\" cy=\"886.647\" r=\"18\" fill=\"#31095d\" fill-rule=\"evenodd\" fill-opacity=\"1\" stroke=\"#000000\" stroke-opacity=\"1\" stroke-width=\"0\"/>\n",
       "<circle clip-path=\"url(#clip562)\" cx=\"1286.46\" cy=\"926.58\" r=\"18\" fill=\"#f1eb6d\" fill-rule=\"evenodd\" fill-opacity=\"1\" stroke=\"#000000\" stroke-opacity=\"1\" stroke-width=\"0\"/>\n",
       "<circle clip-path=\"url(#clip562)\" cx=\"1286.46\" cy=\"966.514\" r=\"18\" fill=\"#c43c4d\" fill-rule=\"evenodd\" fill-opacity=\"1\" stroke=\"#000000\" stroke-opacity=\"1\" stroke-width=\"0\"/>\n",
       "<circle clip-path=\"url(#clip562)\" cx=\"1286.46\" cy=\"1006.45\" r=\"18\" fill=\"#000003\" fill-rule=\"evenodd\" fill-opacity=\"1\" stroke=\"#000000\" stroke-opacity=\"1\" stroke-width=\"0\"/>\n",
       "<circle clip-path=\"url(#clip562)\" cx=\"1286.46\" cy=\"1046.38\" r=\"18\" fill=\"#5b116d\" fill-rule=\"evenodd\" fill-opacity=\"1\" stroke=\"#000000\" stroke-opacity=\"1\" stroke-width=\"0\"/>\n",
       "<circle clip-path=\"url(#clip562)\" cx=\"1326.39\" cy=\"487.311\" r=\"18\" fill=\"#c43c4d\" fill-rule=\"evenodd\" fill-opacity=\"1\" stroke=\"#000000\" stroke-opacity=\"1\" stroke-width=\"0\"/>\n",
       "<circle clip-path=\"url(#clip562)\" cx=\"1326.39\" cy=\"567.178\" r=\"18\" fill=\"#5b116d\" fill-rule=\"evenodd\" fill-opacity=\"1\" stroke=\"#000000\" stroke-opacity=\"1\" stroke-width=\"0\"/>\n",
       "<circle clip-path=\"url(#clip562)\" cx=\"1326.39\" cy=\"886.647\" r=\"18\" fill=\"#31095d\" fill-rule=\"evenodd\" fill-opacity=\"1\" stroke=\"#000000\" stroke-opacity=\"1\" stroke-width=\"0\"/>\n",
       "<circle clip-path=\"url(#clip562)\" cx=\"1326.39\" cy=\"926.58\" r=\"18\" fill=\"#c43c4d\" fill-rule=\"evenodd\" fill-opacity=\"1\" stroke=\"#000000\" stroke-opacity=\"1\" stroke-width=\"0\"/>\n",
       "<circle clip-path=\"url(#clip562)\" cx=\"1326.39\" cy=\"966.514\" r=\"18\" fill=\"#f1eb6d\" fill-rule=\"evenodd\" fill-opacity=\"1\" stroke=\"#000000\" stroke-opacity=\"1\" stroke-width=\"0\"/>\n",
       "<circle clip-path=\"url(#clip562)\" cx=\"1326.39\" cy=\"1046.38\" r=\"18\" fill=\"#5b116d\" fill-rule=\"evenodd\" fill-opacity=\"1\" stroke=\"#000000\" stroke-opacity=\"1\" stroke-width=\"0\"/>\n",
       "<circle clip-path=\"url(#clip562)\" cx=\"1326.39\" cy=\"1086.31\" r=\"18\" fill=\"#000003\" fill-rule=\"evenodd\" fill-opacity=\"1\" stroke=\"#000000\" stroke-opacity=\"1\" stroke-width=\"0\"/>\n",
       "<circle clip-path=\"url(#clip562)\" cx=\"1366.33\" cy=\"527.245\" r=\"18\" fill=\"#892269\" fill-rule=\"evenodd\" fill-opacity=\"1\" stroke=\"#000000\" stroke-opacity=\"1\" stroke-width=\"0\"/>\n",
       "<circle clip-path=\"url(#clip562)\" cx=\"1366.33\" cy=\"607.112\" r=\"18\" fill=\"#892269\" fill-rule=\"evenodd\" fill-opacity=\"1\" stroke=\"#000000\" stroke-opacity=\"1\" stroke-width=\"0\"/>\n",
       "<circle clip-path=\"url(#clip562)\" cx=\"1366.33\" cy=\"926.58\" r=\"18\" fill=\"#000003\" fill-rule=\"evenodd\" fill-opacity=\"1\" stroke=\"#000000\" stroke-opacity=\"1\" stroke-width=\"0\"/>\n",
       "<circle clip-path=\"url(#clip562)\" cx=\"1366.33\" cy=\"1006.45\" r=\"18\" fill=\"#f2e35b\" fill-rule=\"evenodd\" fill-opacity=\"1\" stroke=\"#000000\" stroke-opacity=\"1\" stroke-width=\"0\"/>\n",
       "<circle clip-path=\"url(#clip562)\" cx=\"1366.33\" cy=\"1046.38\" r=\"18\" fill=\"#892269\" fill-rule=\"evenodd\" fill-opacity=\"1\" stroke=\"#000000\" stroke-opacity=\"1\" stroke-width=\"0\"/>\n",
       "<circle clip-path=\"url(#clip562)\" cx=\"1366.33\" cy=\"1126.25\" r=\"18\" fill=\"#000003\" fill-rule=\"evenodd\" fill-opacity=\"1\" stroke=\"#000000\" stroke-opacity=\"1\" stroke-width=\"0\"/>\n",
       "<circle clip-path=\"url(#clip562)\" cx=\"1366.33\" cy=\"1166.18\" r=\"18\" fill=\"#892269\" fill-rule=\"evenodd\" fill-opacity=\"1\" stroke=\"#000000\" stroke-opacity=\"1\" stroke-width=\"0\"/>\n",
       "<circle clip-path=\"url(#clip562)\" cx=\"1406.26\" cy=\"527.245\" r=\"18\" fill=\"#c43c4d\" fill-rule=\"evenodd\" fill-opacity=\"1\" stroke=\"#000000\" stroke-opacity=\"1\" stroke-width=\"0\"/>\n",
       "<circle clip-path=\"url(#clip562)\" cx=\"1406.26\" cy=\"567.178\" r=\"18\" fill=\"#c43c4d\" fill-rule=\"evenodd\" fill-opacity=\"1\" stroke=\"#000000\" stroke-opacity=\"1\" stroke-width=\"0\"/>\n",
       "<circle clip-path=\"url(#clip562)\" cx=\"1406.26\" cy=\"647.045\" r=\"18\" fill=\"#892269\" fill-rule=\"evenodd\" fill-opacity=\"1\" stroke=\"#000000\" stroke-opacity=\"1\" stroke-width=\"0\"/>\n",
       "<circle clip-path=\"url(#clip562)\" cx=\"1406.26\" cy=\"926.58\" r=\"18\" fill=\"#5b116d\" fill-rule=\"evenodd\" fill-opacity=\"1\" stroke=\"#000000\" stroke-opacity=\"1\" stroke-width=\"0\"/>\n",
       "<circle clip-path=\"url(#clip562)\" cx=\"1406.26\" cy=\"966.514\" r=\"18\" fill=\"#5b116d\" fill-rule=\"evenodd\" fill-opacity=\"1\" stroke=\"#000000\" stroke-opacity=\"1\" stroke-width=\"0\"/>\n",
       "<circle clip-path=\"url(#clip562)\" cx=\"1406.26\" cy=\"1006.45\" r=\"18\" fill=\"#892269\" fill-rule=\"evenodd\" fill-opacity=\"1\" stroke=\"#000000\" stroke-opacity=\"1\" stroke-width=\"0\"/>\n",
       "<circle clip-path=\"url(#clip562)\" cx=\"1406.26\" cy=\"1046.38\" r=\"18\" fill=\"#f5da4b\" fill-rule=\"evenodd\" fill-opacity=\"1\" stroke=\"#000000\" stroke-opacity=\"1\" stroke-width=\"0\"/>\n",
       "<circle clip-path=\"url(#clip562)\" cx=\"1406.26\" cy=\"1086.31\" r=\"18\" fill=\"#892269\" fill-rule=\"evenodd\" fill-opacity=\"1\" stroke=\"#000000\" stroke-opacity=\"1\" stroke-width=\"0\"/>\n",
       "<circle clip-path=\"url(#clip562)\" cx=\"1406.26\" cy=\"1166.18\" r=\"18\" fill=\"#31095d\" fill-rule=\"evenodd\" fill-opacity=\"1\" stroke=\"#000000\" stroke-opacity=\"1\" stroke-width=\"0\"/>\n",
       "<circle clip-path=\"url(#clip562)\" cx=\"1406.26\" cy=\"1206.11\" r=\"18\" fill=\"#31095d\" fill-rule=\"evenodd\" fill-opacity=\"1\" stroke=\"#000000\" stroke-opacity=\"1\" stroke-width=\"0\"/>\n",
       "<circle clip-path=\"url(#clip562)\" cx=\"1446.19\" cy=\"567.178\" r=\"18\" fill=\"#892269\" fill-rule=\"evenodd\" fill-opacity=\"1\" stroke=\"#000000\" stroke-opacity=\"1\" stroke-width=\"0\"/>\n",
       "<circle clip-path=\"url(#clip562)\" cx=\"1446.19\" cy=\"686.979\" r=\"18\" fill=\"#892269\" fill-rule=\"evenodd\" fill-opacity=\"1\" stroke=\"#000000\" stroke-opacity=\"1\" stroke-width=\"0\"/>\n",
       "<circle clip-path=\"url(#clip562)\" cx=\"1446.19\" cy=\"966.514\" r=\"18\" fill=\"#000003\" fill-rule=\"evenodd\" fill-opacity=\"1\" stroke=\"#000000\" stroke-opacity=\"1\" stroke-width=\"0\"/>\n",
       "<circle clip-path=\"url(#clip562)\" cx=\"1446.19\" cy=\"1046.38\" r=\"18\" fill=\"#892269\" fill-rule=\"evenodd\" fill-opacity=\"1\" stroke=\"#000000\" stroke-opacity=\"1\" stroke-width=\"0\"/>\n",
       "<circle clip-path=\"url(#clip562)\" cx=\"1446.19\" cy=\"1086.31\" r=\"18\" fill=\"#f2e35b\" fill-rule=\"evenodd\" fill-opacity=\"1\" stroke=\"#000000\" stroke-opacity=\"1\" stroke-width=\"0\"/>\n",
       "<circle clip-path=\"url(#clip562)\" cx=\"1446.19\" cy=\"1206.11\" r=\"18\" fill=\"#892269\" fill-rule=\"evenodd\" fill-opacity=\"1\" stroke=\"#000000\" stroke-opacity=\"1\" stroke-width=\"0\"/>\n",
       "<circle clip-path=\"url(#clip562)\" cx=\"1446.19\" cy=\"1246.05\" r=\"18\" fill=\"#000003\" fill-rule=\"evenodd\" fill-opacity=\"1\" stroke=\"#000000\" stroke-opacity=\"1\" stroke-width=\"0\"/>\n",
       "<circle clip-path=\"url(#clip562)\" cx=\"1486.13\" cy=\"607.112\" r=\"18\" fill=\"#5b116d\" fill-rule=\"evenodd\" fill-opacity=\"1\" stroke=\"#000000\" stroke-opacity=\"1\" stroke-width=\"0\"/>\n",
       "<circle clip-path=\"url(#clip562)\" cx=\"1486.13\" cy=\"726.912\" r=\"18\" fill=\"#c43c4d\" fill-rule=\"evenodd\" fill-opacity=\"1\" stroke=\"#000000\" stroke-opacity=\"1\" stroke-width=\"0\"/>\n",
       "<circle clip-path=\"url(#clip562)\" cx=\"1486.13\" cy=\"1006.45\" r=\"18\" fill=\"#000003\" fill-rule=\"evenodd\" fill-opacity=\"1\" stroke=\"#000000\" stroke-opacity=\"1\" stroke-width=\"0\"/>\n",
       "<circle clip-path=\"url(#clip562)\" cx=\"1486.13\" cy=\"1126.25\" r=\"18\" fill=\"#f1eb6d\" fill-rule=\"evenodd\" fill-opacity=\"1\" stroke=\"#000000\" stroke-opacity=\"1\" stroke-width=\"0\"/>\n",
       "<circle clip-path=\"url(#clip562)\" cx=\"1486.13\" cy=\"1166.18\" r=\"18\" fill=\"#5b116d\" fill-rule=\"evenodd\" fill-opacity=\"1\" stroke=\"#000000\" stroke-opacity=\"1\" stroke-width=\"0\"/>\n",
       "<circle clip-path=\"url(#clip562)\" cx=\"1486.13\" cy=\"1285.98\" r=\"18\" fill=\"#31095d\" fill-rule=\"evenodd\" fill-opacity=\"1\" stroke=\"#000000\" stroke-opacity=\"1\" stroke-width=\"0\"/>\n",
       "<circle clip-path=\"url(#clip562)\" cx=\"1486.13\" cy=\"1325.92\" r=\"18\" fill=\"#c43c4d\" fill-rule=\"evenodd\" fill-opacity=\"1\" stroke=\"#000000\" stroke-opacity=\"1\" stroke-width=\"0\"/>\n",
       "<circle clip-path=\"url(#clip562)\" cx=\"1526.06\" cy=\"607.112\" r=\"18\" fill=\"#c43c4d\" fill-rule=\"evenodd\" fill-opacity=\"1\" stroke=\"#000000\" stroke-opacity=\"1\" stroke-width=\"0\"/>\n",
       "<circle clip-path=\"url(#clip562)\" cx=\"1526.06\" cy=\"647.045\" r=\"18\" fill=\"#892269\" fill-rule=\"evenodd\" fill-opacity=\"1\" stroke=\"#000000\" stroke-opacity=\"1\" stroke-width=\"0\"/>\n",
       "<circle clip-path=\"url(#clip562)\" cx=\"1526.06\" cy=\"766.846\" r=\"18\" fill=\"#c43c4d\" fill-rule=\"evenodd\" fill-opacity=\"1\" stroke=\"#000000\" stroke-opacity=\"1\" stroke-width=\"0\"/>\n",
       "<circle clip-path=\"url(#clip562)\" cx=\"1526.06\" cy=\"1006.45\" r=\"18\" fill=\"#892269\" fill-rule=\"evenodd\" fill-opacity=\"1\" stroke=\"#000000\" stroke-opacity=\"1\" stroke-width=\"0\"/>\n",
       "<circle clip-path=\"url(#clip562)\" cx=\"1526.06\" cy=\"1046.38\" r=\"18\" fill=\"#31095d\" fill-rule=\"evenodd\" fill-opacity=\"1\" stroke=\"#000000\" stroke-opacity=\"1\" stroke-width=\"0\"/>\n",
       "<circle clip-path=\"url(#clip562)\" cx=\"1526.06\" cy=\"1126.25\" r=\"18\" fill=\"#5b116d\" fill-rule=\"evenodd\" fill-opacity=\"1\" stroke=\"#000000\" stroke-opacity=\"1\" stroke-width=\"0\"/>\n",
       "<circle clip-path=\"url(#clip562)\" cx=\"1526.06\" cy=\"1166.18\" r=\"18\" fill=\"#f5da4b\" fill-rule=\"evenodd\" fill-opacity=\"1\" stroke=\"#000000\" stroke-opacity=\"1\" stroke-width=\"0\"/>\n",
       "<circle clip-path=\"url(#clip562)\" cx=\"1526.06\" cy=\"1206.11\" r=\"18\" fill=\"#31095d\" fill-rule=\"evenodd\" fill-opacity=\"1\" stroke=\"#000000\" stroke-opacity=\"1\" stroke-width=\"0\"/>\n",
       "<circle clip-path=\"url(#clip562)\" cx=\"1526.06\" cy=\"1325.92\" r=\"18\" fill=\"#5b116d\" fill-rule=\"evenodd\" fill-opacity=\"1\" stroke=\"#000000\" stroke-opacity=\"1\" stroke-width=\"0\"/>\n",
       "<circle clip-path=\"url(#clip562)\" cx=\"1526.06\" cy=\"1365.85\" r=\"18\" fill=\"#892269\" fill-rule=\"evenodd\" fill-opacity=\"1\" stroke=\"#000000\" stroke-opacity=\"1\" stroke-width=\"0\"/>\n",
       "<circle clip-path=\"url(#clip562)\" cx=\"1565.99\" cy=\"647.045\" r=\"18\" fill=\"#892269\" fill-rule=\"evenodd\" fill-opacity=\"1\" stroke=\"#000000\" stroke-opacity=\"1\" stroke-width=\"0\"/>\n",
       "<circle clip-path=\"url(#clip562)\" cx=\"1565.99\" cy=\"686.979\" r=\"18\" fill=\"#c43c4d\" fill-rule=\"evenodd\" fill-opacity=\"1\" stroke=\"#000000\" stroke-opacity=\"1\" stroke-width=\"0\"/>\n",
       "<circle clip-path=\"url(#clip562)\" cx=\"1565.99\" cy=\"806.779\" r=\"18\" fill=\"#c43c4d\" fill-rule=\"evenodd\" fill-opacity=\"1\" stroke=\"#000000\" stroke-opacity=\"1\" stroke-width=\"0\"/>\n",
       "<circle clip-path=\"url(#clip562)\" cx=\"1565.99\" cy=\"1046.38\" r=\"18\" fill=\"#31095d\" fill-rule=\"evenodd\" fill-opacity=\"1\" stroke=\"#000000\" stroke-opacity=\"1\" stroke-width=\"0\"/>\n",
       "<circle clip-path=\"url(#clip562)\" cx=\"1565.99\" cy=\"1086.31\" r=\"18\" fill=\"#892269\" fill-rule=\"evenodd\" fill-opacity=\"1\" stroke=\"#000000\" stroke-opacity=\"1\" stroke-width=\"0\"/>\n",
       "<circle clip-path=\"url(#clip562)\" cx=\"1565.99\" cy=\"1166.18\" r=\"18\" fill=\"#31095d\" fill-rule=\"evenodd\" fill-opacity=\"1\" stroke=\"#000000\" stroke-opacity=\"1\" stroke-width=\"0\"/>\n",
       "<circle clip-path=\"url(#clip562)\" cx=\"1565.99\" cy=\"1206.11\" r=\"18\" fill=\"#f5da4b\" fill-rule=\"evenodd\" fill-opacity=\"1\" stroke=\"#000000\" stroke-opacity=\"1\" stroke-width=\"0\"/>\n",
       "<circle clip-path=\"url(#clip562)\" cx=\"1565.99\" cy=\"1246.05\" r=\"18\" fill=\"#5b116d\" fill-rule=\"evenodd\" fill-opacity=\"1\" stroke=\"#000000\" stroke-opacity=\"1\" stroke-width=\"0\"/>\n",
       "<circle clip-path=\"url(#clip562)\" cx=\"1565.99\" cy=\"1365.85\" r=\"18\" fill=\"#892269\" fill-rule=\"evenodd\" fill-opacity=\"1\" stroke=\"#000000\" stroke-opacity=\"1\" stroke-width=\"0\"/>\n",
       "<circle clip-path=\"url(#clip562)\" cx=\"1565.99\" cy=\"1405.78\" r=\"18\" fill=\"#5b116d\" fill-rule=\"evenodd\" fill-opacity=\"1\" stroke=\"#000000\" stroke-opacity=\"1\" stroke-width=\"0\"/>\n",
       "<circle clip-path=\"url(#clip562)\" cx=\"1605.93\" cy=\"686.979\" r=\"18\" fill=\"#5b116d\" fill-rule=\"evenodd\" fill-opacity=\"1\" stroke=\"#000000\" stroke-opacity=\"1\" stroke-width=\"0\"/>\n",
       "<circle clip-path=\"url(#clip562)\" cx=\"1605.93\" cy=\"846.713\" r=\"18\" fill=\"#c43c4d\" fill-rule=\"evenodd\" fill-opacity=\"1\" stroke=\"#000000\" stroke-opacity=\"1\" stroke-width=\"0\"/>\n",
       "<circle clip-path=\"url(#clip562)\" cx=\"1605.93\" cy=\"1086.31\" r=\"18\" fill=\"#000003\" fill-rule=\"evenodd\" fill-opacity=\"1\" stroke=\"#000000\" stroke-opacity=\"1\" stroke-width=\"0\"/>\n",
       "<circle clip-path=\"url(#clip562)\" cx=\"1605.93\" cy=\"1206.11\" r=\"18\" fill=\"#5b116d\" fill-rule=\"evenodd\" fill-opacity=\"1\" stroke=\"#000000\" stroke-opacity=\"1\" stroke-width=\"0\"/>\n",
       "<circle clip-path=\"url(#clip562)\" cx=\"1605.93\" cy=\"1246.05\" r=\"18\" fill=\"#f1eb6d\" fill-rule=\"evenodd\" fill-opacity=\"1\" stroke=\"#000000\" stroke-opacity=\"1\" stroke-width=\"0\"/>\n",
       "<circle clip-path=\"url(#clip562)\" cx=\"1605.93\" cy=\"1405.78\" r=\"18\" fill=\"#c43c4d\" fill-rule=\"evenodd\" fill-opacity=\"1\" stroke=\"#000000\" stroke-opacity=\"1\" stroke-width=\"0\"/>\n",
       "<circle clip-path=\"url(#clip562)\" cx=\"1605.93\" cy=\"1445.72\" r=\"18\" fill=\"#31095d\" fill-rule=\"evenodd\" fill-opacity=\"1\" stroke=\"#000000\" stroke-opacity=\"1\" stroke-width=\"0\"/>\n",
       "<circle clip-path=\"url(#clip562)\" cx=\"1645.86\" cy=\"726.912\" r=\"18\" fill=\"#31095d\" fill-rule=\"evenodd\" fill-opacity=\"1\" stroke=\"#000000\" stroke-opacity=\"1\" stroke-width=\"0\"/>\n",
       "<circle clip-path=\"url(#clip562)\" cx=\"1645.86\" cy=\"1126.25\" r=\"18\" fill=\"#31095d\" fill-rule=\"evenodd\" fill-opacity=\"1\" stroke=\"#000000\" stroke-opacity=\"1\" stroke-width=\"0\"/>\n",
       "<circle clip-path=\"url(#clip562)\" cx=\"1645.86\" cy=\"1285.98\" r=\"18\" fill=\"#fcfea4\" fill-rule=\"evenodd\" fill-opacity=\"1\" stroke=\"#000000\" stroke-opacity=\"1\" stroke-width=\"0\"/>\n",
       "<circle clip-path=\"url(#clip562)\" cx=\"1645.86\" cy=\"1325.92\" r=\"18\" fill=\"#31095d\" fill-rule=\"evenodd\" fill-opacity=\"1\" stroke=\"#000000\" stroke-opacity=\"1\" stroke-width=\"0\"/>\n",
       "<circle clip-path=\"url(#clip562)\" cx=\"1685.79\" cy=\"726.912\" r=\"18\" fill=\"#c43c4d\" fill-rule=\"evenodd\" fill-opacity=\"1\" stroke=\"#000000\" stroke-opacity=\"1\" stroke-width=\"0\"/>\n",
       "<circle clip-path=\"url(#clip562)\" cx=\"1685.79\" cy=\"766.846\" r=\"18\" fill=\"#5b116d\" fill-rule=\"evenodd\" fill-opacity=\"1\" stroke=\"#000000\" stroke-opacity=\"1\" stroke-width=\"0\"/>\n",
       "<circle clip-path=\"url(#clip562)\" cx=\"1685.79\" cy=\"1126.25\" r=\"18\" fill=\"#c43c4d\" fill-rule=\"evenodd\" fill-opacity=\"1\" stroke=\"#000000\" stroke-opacity=\"1\" stroke-width=\"0\"/>\n",
       "<circle clip-path=\"url(#clip562)\" cx=\"1685.79\" cy=\"1166.18\" r=\"18\" fill=\"#5b116d\" fill-rule=\"evenodd\" fill-opacity=\"1\" stroke=\"#000000\" stroke-opacity=\"1\" stroke-width=\"0\"/>\n",
       "<circle clip-path=\"url(#clip562)\" cx=\"1685.79\" cy=\"1285.98\" r=\"18\" fill=\"#31095d\" fill-rule=\"evenodd\" fill-opacity=\"1\" stroke=\"#000000\" stroke-opacity=\"1\" stroke-width=\"0\"/>\n",
       "<circle clip-path=\"url(#clip562)\" cx=\"1685.79\" cy=\"1325.92\" r=\"18\" fill=\"#f1eb6d\" fill-rule=\"evenodd\" fill-opacity=\"1\" stroke=\"#000000\" stroke-opacity=\"1\" stroke-width=\"0\"/>\n",
       "<circle clip-path=\"url(#clip562)\" cx=\"1685.79\" cy=\"1365.85\" r=\"18\" fill=\"#000003\" fill-rule=\"evenodd\" fill-opacity=\"1\" stroke=\"#000000\" stroke-opacity=\"1\" stroke-width=\"0\"/>\n",
       "<circle clip-path=\"url(#clip562)\" cx=\"1725.73\" cy=\"766.846\" r=\"18\" fill=\"#892269\" fill-rule=\"evenodd\" fill-opacity=\"1\" stroke=\"#000000\" stroke-opacity=\"1\" stroke-width=\"0\"/>\n",
       "<circle clip-path=\"url(#clip562)\" cx=\"1725.73\" cy=\"806.779\" r=\"18\" fill=\"#892269\" fill-rule=\"evenodd\" fill-opacity=\"1\" stroke=\"#000000\" stroke-opacity=\"1\" stroke-width=\"0\"/>\n",
       "<circle clip-path=\"url(#clip562)\" cx=\"1725.73\" cy=\"1166.18\" r=\"18\" fill=\"#892269\" fill-rule=\"evenodd\" fill-opacity=\"1\" stroke=\"#000000\" stroke-opacity=\"1\" stroke-width=\"0\"/>\n",
       "<circle clip-path=\"url(#clip562)\" cx=\"1725.73\" cy=\"1206.11\" r=\"18\" fill=\"#892269\" fill-rule=\"evenodd\" fill-opacity=\"1\" stroke=\"#000000\" stroke-opacity=\"1\" stroke-width=\"0\"/>\n",
       "<circle clip-path=\"url(#clip562)\" cx=\"1725.73\" cy=\"1325.92\" r=\"18\" fill=\"#000003\" fill-rule=\"evenodd\" fill-opacity=\"1\" stroke=\"#000000\" stroke-opacity=\"1\" stroke-width=\"0\"/>\n",
       "<circle clip-path=\"url(#clip562)\" cx=\"1725.73\" cy=\"1365.85\" r=\"18\" fill=\"#f2e35b\" fill-rule=\"evenodd\" fill-opacity=\"1\" stroke=\"#000000\" stroke-opacity=\"1\" stroke-width=\"0\"/>\n",
       "<circle clip-path=\"url(#clip562)\" cx=\"1725.73\" cy=\"1405.78\" r=\"18\" fill=\"#000003\" fill-rule=\"evenodd\" fill-opacity=\"1\" stroke=\"#000000\" stroke-opacity=\"1\" stroke-width=\"0\"/>\n",
       "<circle clip-path=\"url(#clip562)\" cx=\"1765.66\" cy=\"806.779\" r=\"18\" fill=\"#5b116d\" fill-rule=\"evenodd\" fill-opacity=\"1\" stroke=\"#000000\" stroke-opacity=\"1\" stroke-width=\"0\"/>\n",
       "<circle clip-path=\"url(#clip562)\" cx=\"1765.66\" cy=\"846.713\" r=\"18\" fill=\"#c43c4d\" fill-rule=\"evenodd\" fill-opacity=\"1\" stroke=\"#000000\" stroke-opacity=\"1\" stroke-width=\"0\"/>\n",
       "<circle clip-path=\"url(#clip562)\" cx=\"1765.66\" cy=\"1206.11\" r=\"18\" fill=\"#5b116d\" fill-rule=\"evenodd\" fill-opacity=\"1\" stroke=\"#000000\" stroke-opacity=\"1\" stroke-width=\"0\"/>\n",
       "<circle clip-path=\"url(#clip562)\" cx=\"1765.66\" cy=\"1246.05\" r=\"18\" fill=\"#c43c4d\" fill-rule=\"evenodd\" fill-opacity=\"1\" stroke=\"#000000\" stroke-opacity=\"1\" stroke-width=\"0\"/>\n",
       "<circle clip-path=\"url(#clip562)\" cx=\"1765.66\" cy=\"1365.85\" r=\"18\" fill=\"#000003\" fill-rule=\"evenodd\" fill-opacity=\"1\" stroke=\"#000000\" stroke-opacity=\"1\" stroke-width=\"0\"/>\n",
       "<circle clip-path=\"url(#clip562)\" cx=\"1765.66\" cy=\"1405.78\" r=\"18\" fill=\"#f1eb6d\" fill-rule=\"evenodd\" fill-opacity=\"1\" stroke=\"#000000\" stroke-opacity=\"1\" stroke-width=\"0\"/>\n",
       "<circle clip-path=\"url(#clip562)\" cx=\"1765.66\" cy=\"1445.72\" r=\"18\" fill=\"#31095d\" fill-rule=\"evenodd\" fill-opacity=\"1\" stroke=\"#000000\" stroke-opacity=\"1\" stroke-width=\"0\"/>\n",
       "<circle clip-path=\"url(#clip562)\" cx=\"1805.6\" cy=\"846.713\" r=\"18\" fill=\"#31095d\" fill-rule=\"evenodd\" fill-opacity=\"1\" stroke=\"#000000\" stroke-opacity=\"1\" stroke-width=\"0\"/>\n",
       "<circle clip-path=\"url(#clip562)\" cx=\"1805.6\" cy=\"1246.05\" r=\"18\" fill=\"#31095d\" fill-rule=\"evenodd\" fill-opacity=\"1\" stroke=\"#000000\" stroke-opacity=\"1\" stroke-width=\"0\"/>\n",
       "<circle clip-path=\"url(#clip562)\" cx=\"1805.6\" cy=\"1405.78\" r=\"18\" fill=\"#31095d\" fill-rule=\"evenodd\" fill-opacity=\"1\" stroke=\"#000000\" stroke-opacity=\"1\" stroke-width=\"0\"/>\n",
       "<circle clip-path=\"url(#clip562)\" cx=\"1805.6\" cy=\"1445.72\" r=\"18\" fill=\"#fcfea4\" fill-rule=\"evenodd\" fill-opacity=\"1\" stroke=\"#000000\" stroke-opacity=\"1\" stroke-width=\"0\"/>\n",
       "<defs>\n",
       "  <clipPath id=\"clip563\">\n",
       "    <rect x=\"1894\" y=\"47\" width=\"73\" height=\"1440\"/>\n",
       "  </clipPath>\n",
       "</defs>\n",
       "<g clip-path=\"url(#clip563)\">\n",
       "<image width=\"72\" height=\"1439\" xlink:href=\"data:image/png;base64,\n",
       "iVBORw0KGgoAAAANSUhEUgAAAEgAAAWfCAYAAAAI7rB3AAAMWUlEQVR4nO3dwY0rRxAFwaZQ/lsh\n",
       "L6XfLQtUeSQPERYsEg8c9MyQ+/n3/v0O/+uvb/8Bv06gIFAQKAgU5r5/v/03/DQLCgIFgYJAQaAw\n",
       "7/359t/w0ywoCBQECgIFR41gQUGgIFAQKAgU5rmKrSwoCBQECgIFgcK86yq2saAgUBAoCBQcNYIF\n",
       "BYGCQEGgIFBwFQsWFAQKAgWBgvtBwYKCQEGgIFAQKMxx1FhZUBAoCBQECgIFN8yCBQWBgkBBoDDH\n",
       "DbOVBQWBgkBBoCBQmHP/+fbf8NMsKAgUBAoCBYGCxz7BgoJAQaAgUHDDLFhQECgIFAQKAgVXsWBB\n",
       "QaAgUBAouB8ULCgIFAQKAgWBwnwcNVYWFAQKAgWBgkBhzvWfWTYWFAQKAgWBgqNGsKAgUBAoCBQE\n",
       "Co4awYKCQEGgIFAQKHjDLFhQECgIFAQK83HUWFlQECgIFAQKAgXvSQcLCgIFgYJAwVEjWFAQKAgU\n",
       "BAoCBc/mgwUFgYJAQaAgUHAWCxYUBAoCBYGCo0awoCBQECgIFAQKjhrBgoJAQaAgUBAozLn323/D\n",
       "T7OgIFAQKAgUHDWCBQWBgkBBoCBQ8NgnWFAQKAgUBAo+pIMFBYGCQEGgIFCYj6caKwsKAgWBgkBB\n",
       "oOAsFiwoCBQECgIFL1AFCwoCBYGCQEGg4IZZsKAgUBAoCBTcDwoWFAQKAgWBgkDBDbNgQUGgIFAQ\n",
       "KAgUXMWCBQWBgkBBoOB788GCgkBBoCBQECg4agQLCgIFgYJAQaDgKhYsKAgUBAoCBR/SwYKCQEGg\n",
       "IFAQKLiKBQsKAgWBgkBhzvMhvbGgIFAQKAgUBAqOGsGCgkBBoCBQECi4igULCgIFgYJAwYd0sKAg\n",
       "UBAoCBQECnPu+/bf8NMsKAgUBAoCBYGCs1iwoCBQECgIFBw1ggUFgYJAQaAgUHDUCBYUBAoCBYGC\n",
       "o0awoCBQECgIFAQKc5w0VhYUBAoCBYGCQGHOcxbbWFAQKAgUBAqOGsGCgkBBoCBQECi4igULCgIF\n",
       "gYJAQaAwfohzZ0FBoCBQECg4agQLCgIFgYJAQaDgKhYsKAgUBAoChTn38+2/4adZUBAoCBQECgKF\n",
       "ec9VbGNBQaAgUBAoCBTcMAsWFAQKAgWBghtmwYKCQEGgIFAQKMy7Gm3UCQIFgYJAwVEjWFAQKAgU\n",
       "BAoChTmeza8sKAgUBAoCBYHCPGexlQUFgYJAQaAwx1ONlTpBoCBQECgIFBw1ggUFgYJAQaAgUPDY\n",
       "J1hQECgIFAQKXgMO6gSBgkBBoCBQ8J50sKAgUBAoCBQ81QgWFAQKAgWBgkBh3tNoo04QKAgUBAoC\n",
       "BTfMggUFgYJAQaDghlmwoCBQECgIFAQKc9wwW6kTBAoCBYGCQMFZLFhQECgIFAQKPqSDBQWBgkBB\n",
       "oCBQ8L35YEFBoCBQECj43nxQJwgUBAoCBYHCPEeNlQUFgYJAQaAgUPDYJ1hQECgIFAQK/jNLUCcI\n",
       "FAQKAgWBghtmwYKCQEGgIFAQKLhhFiwoCBQECgIFR41gQUGgIFAQKAgUvCcd1AkCBYGCQMFRI1hQ\n",
       "ECgIFAQKAgVPNYIFBYGCQEGgIFBwFgsWFAQKAgWBgn+fFSwoCBQECgIFgYJ/ZRzUCQIFgYJAQaDg\n",
       "hlmwoCBQECgIFDybDxYUBAoCBYGCQMFRI1hQECgIFAQKc31IrywoCBQECgIFgYLvzQd1gkBBoCBQ\n",
       "ECi4YRYsKAgUBAoCBR/SwYKCQEGgIFAQKHjDLFhQECgIFAQKjhrBgoJAQaAgUBAouIoFCwoCBYGC\n",
       "QEGg4NdfgjpBoCBQECjM9VRjZUFBoCBQECgIFNwwCxYUBAoCBYGCQMFVLFhQECgIFAQKPqSDBQWB\n",
       "gkBBoCBQ8BtmwYKCQEGgIFBw1AgWFAQKAgWBgkDBVSxYUBAoCBQECgIFX2YJ6gSBgkBBoODLLMGC\n",
       "gkBBoCBQECi4YRYsKAgUBAoCBYGCq1iwoCBQECgIFLwGHCwoCBQECgIFgYKjRrCgIFAQKAgU5h0f\n",
       "0hsLCgIFgYJAQaDghlmwoCBQECgIFAQKbpgFCwoCBYGCQMFRI1hQECgIFAQKAgVHjWBBQaAgUBAo\n",
       "CBScxYIFBYGCQEGg4KgRLCgIFAQKAgWBgqtYsKAgUBAoCBTm+jLLyoKCQEGgIFAQKDhqBAsKAgWB\n",
       "gkBBoODZfLCgIFAQKAgU5r1v/wm/zYKCQEGgIFAQKDhqBAsKAgWBgkDBD00GCwoCBYGCQEGg4KgR\n",
       "LCgIFAQKAgWBgjfMggUFgYJAQaDgyyzBgoJAQaAgUBAoeMMsWFAQKAgUBAoCBY99ggUFgYJAQaDg\n",
       "qUawoCBQECgIFAQKHvsECwoCBYGCQMH9oGBBQaAgUBAoCBQ8mw8WFAQKAgWBgkDBDbNgQUGgIFAQ\n",
       "KHg2HywoCBQECgIFgcLcb/8FP86CgkBBoCBQECg4iwULCgIFgYJAwRtmwYKCQEGgIFAQKLhhFiwo\n",
       "CBQECgIF94OCBQWBgkBBoCBQcNQIFhQECgIFgYJAwVksWFAQKAgUBAqezQcLCgIFgYJAQaAwfvxl\n",
       "Z0FBoCBQECgIFJzFggUFgYJAQaDg2XywoCBQECgIFAQKns0HCwoCBYGCQMFRI1hQECgIFAQKAgVH\n",
       "jWBBQaAgUBAoCBTmesVsZUFBoCBQECi4YRYsKAgUBAoCBYGCG2bBgoJAQaAgUHDUCBYUBAoCBYGC\n",
       "QGGepxorCwoCBYGCQEGgMPe4YbaxoCBQECgIFLxAFSwoCBQECgIFgYIfmgwWFAQKAgWBgkDBD00G\n",
       "CwoCBYGCQMGz+WBBQaAgUBAoCBS8Jx0sKAgUBAoCBd84DBYUBAoCBYGCQMFRI1hQECgIFAQKAgXv\n",
       "SQcLCgIFgYJAwWvAwYKCQEGgIFAQKDhqBAsKAgWBgkBBoOA96WBBQaAgUBAo+ImuYEFBoCBQECgI\n",
       "FNwwCxYUBAoCBYGCZ/PBgoJAQaAgUBAoOGoECwoCBYGCQEGg4CwWLCgIFAQKAgVHjWBBQaAgUBAo\n",
       "CBRcxYIFBYGCQEGgIFBwwyxYUBAoCBQECo4awYKCQEGgIFAQKDhqBAsKAgWBgkDBUSNYUBAoCBQE\n",
       "CgIFP9EVLCgIFAQKAgWBgv8vFiwoCBQECgIFN8yCBQWBgkBBoCBQmHdcxjYWFAQKAgWBgkDBWSxY\n",
       "UBAoCBQECp7NBwsKAgWBgkBBoODZfLCgIFAQKAgU3A8KFhQECgIFgYJAwbP5YEFBoCBQECgIFJzF\n",
       "ggUFgYJAQaDgJ7qCBQWBgkBBoCBQmOsVs5UFBYGCQEGg4AWqYEFBoCBQECgIFOY5aqwsKAgUBAoC\n",
       "BYGCs1iwoCBQECgIFDzVCBYUBAoCBYGCQMEbZsGCgkBBoCBQECjM9ZXMlQUFgYJAQaDghlmwoCBQ\n",
       "ECgIFAQKfv0lWFAQKAgUBApeoAoWFAQKAgWBgkDBU41gQUGgIFAQKAgU3DALFhQECgIFgcLc45bZ\n",
       "xoKCQEGgIFAQKLhhFiwoCBQECgIFgYKrWLCgIFAQKAgUPNUIFhQECgIFgYJAwWOfYEFBoCBQECjM\n",
       "/ThqbCwoCBQECgIFgYKjRrCgIFAQKAgUBArzXMVWFhQECgIFgYKjRrCgIFAQKAgUBApzP65iGwsK\n",
       "AgWBgkBBoOAsFiwoCBQECgIFTzWCBQWBgkBBoCBQcNQIFhQECgIFgYIP6WBBQaAgUBAoCBQ8mw8W\n",
       "FAQKAgWBgkBh3vnz7b/hp1lQECgIFAQKbpgFCwoCBYGCQEGg4A2zYEFBoCBQECjMfe4HbSwoCBQE\n",
       "CgIFgYKjRrCgIFAQKAgUBApzPZtfWVAQKAgUBAqOGsGCgkBBoCBQECg4agQLCgIFgYJAQaAw7zmL\n",
       "bSwoCBQECgIFN8yCBQWBgkBBoCBQ8J50sKAgUBAoCBQcNYIFBYGCQEGgIFCY56ixsqAgUBAoCBQE\n",
       "Cs5iwYKCQEGgIFCY6wWqlQUFgYJAQaAgUPCb9sGCgkBBoCBQECj4MkuwoCBQECgIFDzVCBYUBAoC\n",
       "BYGCQMFRI1hQECgIFAQKPqSDBQWBgkBBoCBQ8Gw+WFAQKAgUBAoCBWexYEFBoCBQECjM8Wx+ZUFB\n",
       "oCBQECgIFBw1ggUFgYJAQaAgUPCedLCgIFAQKAgU5jhqrCwoCBQECgIFgYI3zIIFBYGCQEGg4Nl8\n",
       "sKAgUBAoCBQECm6YBQsKAgWBgkBBoDDvvG//DT/NgoJAQaAgUHDDLFhQECgIFAQKAoU5jhorCwoC\n",
       "BYGCQOE/LrLuTX/wFc8AAAAASUVORK5CYII=\n",
       "\" transform=\"translate(1894, 47)\"/>\n",
       "</g>\n",
       "<path clip-path=\"url(#clip560)\" d=\"M2002.33 1247.99 L2032 1247.99 L2032 1251.92 L2002.33 1251.92 L2002.33 1247.99 Z\" fill=\"#000000\" fill-rule=\"evenodd\" fill-opacity=\"1\" /><path clip-path=\"url(#clip560)\" d=\"M2054.94 1234.33 L2043.14 1252.78 L2054.94 1252.78 L2054.94 1234.33 M2053.72 1230.26 L2059.6 1230.26 L2059.6 1252.78 L2064.53 1252.78 L2064.53 1256.67 L2059.6 1256.67 L2059.6 1264.82 L2054.94 1264.82 L2054.94 1256.67 L2039.34 1256.67 L2039.34 1252.15 L2053.72 1230.26 Z\" fill=\"#000000\" fill-rule=\"evenodd\" fill-opacity=\"1\" /><path clip-path=\"url(#clip560)\" d=\"M2082.26 1233.34 Q2078.65 1233.34 2076.82 1236.9 Q2075.01 1240.44 2075.01 1247.57 Q2075.01 1254.68 2076.82 1258.24 Q2078.65 1261.78 2082.26 1261.78 Q2085.89 1261.78 2087.7 1258.24 Q2089.53 1254.68 2089.53 1247.57 Q2089.53 1240.44 2087.7 1236.9 Q2085.89 1233.34 2082.26 1233.34 M2082.26 1229.63 Q2088.07 1229.63 2091.12 1234.24 Q2094.2 1238.82 2094.2 1247.57 Q2094.2 1256.3 2091.12 1260.9 Q2088.07 1265.49 2082.26 1265.49 Q2076.45 1265.49 2073.37 1260.9 Q2070.31 1256.3 2070.31 1247.57 Q2070.31 1238.82 2073.37 1234.24 Q2076.45 1229.63 2082.26 1229.63 Z\" fill=\"#000000\" fill-rule=\"evenodd\" fill-opacity=\"1\" /><path clip-path=\"url(#clip560)\" d=\"M2002.33 986.266 L2032 986.266 L2032 990.201 L2002.33 990.201 L2002.33 986.266 Z\" fill=\"#000000\" fill-rule=\"evenodd\" fill-opacity=\"1\" /><path clip-path=\"url(#clip560)\" d=\"M2056.26 984.46 Q2059.62 985.178 2061.49 987.446 Q2063.39 989.715 2063.39 993.048 Q2063.39 998.164 2059.87 1000.96 Q2056.36 1003.77 2049.87 1003.77 Q2047.7 1003.77 2045.38 1003.33 Q2043.09 1002.91 2040.64 1002.05 L2040.64 997.539 Q2042.58 998.673 2044.9 999.252 Q2047.21 999.831 2049.73 999.831 Q2054.13 999.831 2056.42 998.094 Q2058.74 996.358 2058.74 993.048 Q2058.74 989.993 2056.59 988.28 Q2054.46 986.544 2050.64 986.544 L2046.61 986.544 L2046.61 982.701 L2050.82 982.701 Q2054.27 982.701 2056.1 981.335 Q2057.93 979.946 2057.93 977.354 Q2057.93 974.692 2056.03 973.28 Q2054.16 971.845 2050.64 971.845 Q2048.72 971.845 2046.52 972.261 Q2044.32 972.678 2041.68 973.558 L2041.68 969.391 Q2044.34 968.65 2046.66 968.28 Q2048.99 967.909 2051.05 967.909 Q2056.38 967.909 2059.48 970.34 Q2062.58 972.747 2062.58 976.868 Q2062.58 979.738 2060.94 981.729 Q2059.29 983.696 2056.26 984.46 Z\" fill=\"#000000\" fill-rule=\"evenodd\" fill-opacity=\"1\" /><path clip-path=\"url(#clip560)\" d=\"M2082.26 971.613 Q2078.65 971.613 2076.82 975.178 Q2075.01 978.72 2075.01 985.849 Q2075.01 992.956 2076.82 996.52 Q2078.65 1000.06 2082.26 1000.06 Q2085.89 1000.06 2087.7 996.52 Q2089.53 992.956 2089.53 985.849 Q2089.53 978.72 2087.7 975.178 Q2085.89 971.613 2082.26 971.613 M2082.26 967.909 Q2088.07 967.909 2091.12 972.516 Q2094.2 977.099 2094.2 985.849 Q2094.2 994.576 2091.12 999.182 Q2088.07 1003.77 2082.26 1003.77 Q2076.45 1003.77 2073.37 999.182 Q2070.31 994.576 2070.31 985.849 Q2070.31 977.099 2073.37 972.516 Q2076.45 967.909 2082.26 967.909 Z\" fill=\"#000000\" fill-rule=\"evenodd\" fill-opacity=\"1\" /><path clip-path=\"url(#clip560)\" d=\"M2002.33 724.544 L2032 724.544 L2032 728.479 L2002.33 728.479 L2002.33 724.544 Z\" fill=\"#000000\" fill-rule=\"evenodd\" fill-opacity=\"1\" /><path clip-path=\"url(#clip560)\" d=\"M2046.12 737.437 L2062.44 737.437 L2062.44 741.372 L2040.5 741.372 L2040.5 737.437 Q2043.16 734.683 2047.74 730.053 Q2052.35 725.4 2053.53 724.058 Q2055.78 721.535 2056.66 719.798 Q2057.56 718.039 2057.56 716.349 Q2057.56 713.595 2055.61 711.859 Q2053.69 710.123 2050.59 710.123 Q2048.39 710.123 2045.94 710.886 Q2043.51 711.65 2040.73 713.201 L2040.73 708.479 Q2043.55 707.345 2046.01 706.766 Q2048.46 706.187 2050.5 706.187 Q2055.87 706.187 2059.06 708.873 Q2062.26 711.558 2062.26 716.048 Q2062.26 718.178 2061.45 720.099 Q2060.66 721.998 2058.55 724.59 Q2057.98 725.261 2054.87 728.479 Q2051.77 731.673 2046.12 737.437 Z\" fill=\"#000000\" fill-rule=\"evenodd\" fill-opacity=\"1\" /><path clip-path=\"url(#clip560)\" d=\"M2082.26 709.891 Q2078.65 709.891 2076.82 713.456 Q2075.01 716.998 2075.01 724.127 Q2075.01 731.234 2076.82 734.798 Q2078.65 738.34 2082.26 738.34 Q2085.89 738.34 2087.7 734.798 Q2089.53 731.234 2089.53 724.127 Q2089.53 716.998 2087.7 713.456 Q2085.89 709.891 2082.26 709.891 M2082.26 706.187 Q2088.07 706.187 2091.12 710.794 Q2094.2 715.377 2094.2 724.127 Q2094.2 732.854 2091.12 737.46 Q2088.07 742.044 2082.26 742.044 Q2076.45 742.044 2073.37 737.46 Q2070.31 732.854 2070.31 724.127 Q2070.31 715.377 2073.37 710.794 Q2076.45 706.187 2082.26 706.187 Z\" fill=\"#000000\" fill-rule=\"evenodd\" fill-opacity=\"1\" /><path clip-path=\"url(#clip560)\" d=\"M2002.33 462.822 L2032 462.822 L2032 466.757 L2002.33 466.757 L2002.33 462.822 Z\" fill=\"#000000\" fill-rule=\"evenodd\" fill-opacity=\"1\" /><path clip-path=\"url(#clip560)\" d=\"M2042.91 475.715 L2050.54 475.715 L2050.54 449.35 L2042.23 451.016 L2042.23 446.757 L2050.5 445.09 L2055.17 445.09 L2055.17 475.715 L2062.81 475.715 L2062.81 479.65 L2042.91 479.65 L2042.91 475.715 Z\" fill=\"#000000\" fill-rule=\"evenodd\" fill-opacity=\"1\" /><path clip-path=\"url(#clip560)\" d=\"M2082.26 448.169 Q2078.65 448.169 2076.82 451.734 Q2075.01 455.276 2075.01 462.405 Q2075.01 469.512 2076.82 473.076 Q2078.65 476.618 2082.26 476.618 Q2085.89 476.618 2087.7 473.076 Q2089.53 469.512 2089.53 462.405 Q2089.53 455.276 2087.7 451.734 Q2085.89 448.169 2082.26 448.169 M2082.26 444.465 Q2088.07 444.465 2091.12 449.072 Q2094.2 453.655 2094.2 462.405 Q2094.2 471.132 2091.12 475.738 Q2088.07 480.322 2082.26 480.322 Q2076.45 480.322 2073.37 475.738 Q2070.31 471.132 2070.31 462.405 Q2070.31 453.655 2073.37 449.072 Q2076.45 444.465 2082.26 444.465 Z\" fill=\"#000000\" fill-rule=\"evenodd\" fill-opacity=\"1\" /><path clip-path=\"url(#clip560)\" d=\"M2014.27 186.447 Q2010.66 186.447 2008.83 190.012 Q2007.03 193.554 2007.03 200.683 Q2007.03 207.79 2008.83 211.354 Q2010.66 214.896 2014.27 214.896 Q2017.91 214.896 2019.71 211.354 Q2021.54 207.79 2021.54 200.683 Q2021.54 193.554 2019.71 190.012 Q2017.91 186.447 2014.27 186.447 M2014.27 182.743 Q2020.08 182.743 2023.14 187.35 Q2026.22 191.933 2026.22 200.683 Q2026.22 209.41 2023.14 214.016 Q2020.08 218.6 2014.27 218.6 Q2008.46 218.6 2005.38 214.016 Q2002.33 209.41 2002.33 200.683 Q2002.33 191.933 2005.38 187.35 Q2008.46 182.743 2014.27 182.743 Z\" fill=\"#000000\" fill-rule=\"evenodd\" fill-opacity=\"1\" /><polyline clip-path=\"url(#clip560)\" style=\"stroke:#000000; stroke-linecap:butt; stroke-linejoin:round; stroke-width:4; stroke-opacity:1; fill:none\" points=\"\n",
       "  1966.33,1486.45 1966.33,1251.17 1990.33,1251.17 1966.33,1251.17 1966.33,989.443 1990.33,989.443 1966.33,989.443 1966.33,727.721 1990.33,727.721 1966.33,727.721 \n",
       "  1966.33,465.999 1990.33,465.999 1966.33,465.999 1966.33,204.277 1990.33,204.277 1966.33,204.277 1966.33,47.2441 \n",
       "  \"/>\n",
       "</svg>\n"
      ]
     },
     "execution_count": 157,
     "metadata": {},
     "output_type": "execute_result"
    }
   ],
   "source": [
    "#for t in 1:10\n",
    "#    J=10\n",
    "#    U=t*J*0.1 \n",
    "#obtener H_int \n",
    "diagscomp = [];\n",
    "for j in 1:D \n",
    "    sumsdeocup = []; \n",
    "    for k in 1:M\n",
    "        push!(sumsdeocup, valdiags(k, v[j], M))\n",
    "    end  \n",
    "    push!(diagscomp, sum(sumsdeocup))    \n",
    "end   \n",
    "#Mostramos la parte  \n",
    "println(diagscomp)\n",
    "Hint = spzeros(D,D)\n",
    "Hint[diagind(Hint)] = diagscomp; Hint \n",
    "#println(Hint)\n",
    "#Hint=diagm(diagscomp) \n",
    "#spy(Hint) \n",
    "J = 20\n",
    "Hkin = spzeros(D,D)\n",
    "for j in 1:D\n",
    "        for k in 1:M \n",
    "            for h in 1:M   \n",
    "                if k == h \n",
    "                    break \n",
    "                elseif creation_ann(k,h,v[j]) == 0 \n",
    "                    continue \n",
    "                else \n",
    "                     Hkin[DictOfInds[tag(creation_ann( k, h , v[j] )[2],M)], j] = -J*(creation_ann( k, h , v[j])[1])     \n",
    "                end\n",
    "            end \n",
    "        end  \n",
    "    end  \n",
    "Hkin = Symmetric(Hkin, :L)\n",
    "#println(Hkin)  \n",
    "#spy(Hkin)\n",
    "\n",
    "H=Hkin+Hint\n",
    "spy(H, markersize = 5)"
   ]
  },
  {
   "cell_type": "code",
   "execution_count": 150,
   "id": "55b3c0ec",
   "metadata": {},
   "outputs": [
    {
     "data": {
      "text/plain": [
       "([-238.5069662617429, -157.76502856415712], [0.06077550945174073 -0.02878631248349961; 0.12383362865880838 -0.005375329065615747; … ; 0.12383362865880844 0.11527196876462718; 0.06077550945174073 0.1366573044112528], 2, 2, 37, [-0.011956082453750174, 0.024165336839095254, 0.00544572403820019, -0.024684762314525793, 0.05026054034020689, 0.007636372422274416, 0.04003393683573034, -0.00287361840426972, -0.027093554801799025, -0.027769213108914368  …  -0.07679048763924388, -0.03438750292569513, 0.016344027357138996, 0.02038754132827707, -0.051979942877350624, 0.0009070506240221832, 0.03614460156470621, 0.07704296772880045, 0.0645107118459715, 0.016059845938994014])"
      ]
     },
     "execution_count": 150,
     "metadata": {},
     "output_type": "execute_result"
    }
   ],
   "source": [
    "Eval, Evec = eigs(H , nev=2 , which=:SR)"
   ]
  },
  {
   "cell_type": "code",
   "execution_count": 151,
   "id": "94703d65",
   "metadata": {},
   "outputs": [
    {
     "data": {
      "text/plain": [
       "35×35 SparseMatrixCSC{Float64, Int64} with 274 stored entries:\n",
       "⣿⣿⠲⡢⣄⠀⠀⠀⠀⠀⠀⠀⠀⠀⠀⠀⠀⠀\n",
       "⠸⡢⢿⢗⡦⠙⢕⠦⣀⠀⠀⠀⠀⠀⠀⠀⠀⠀\n",
       "⠀⠙⣌⠋⠛⣤⣄⡑⠈⠓⢤⢄⡀⠀⠀⠀⠀⠀\n",
       "⠀⠀⠱⡕⢄⠹⡵⣫⠲⣄⠀⠑⢍⠲⣄⠀⠀⠀\n",
       "⠀⠀⠀⠘⢦⠀⠘⢦⠻⣦⠀⠀⠀⠑⢄⠙⢦⡀\n",
       "⠀⠀⠀⠀⠀⢗⢄⠀⠀⠀⢿⢗⡦⣀⠀⠀⠀⠀\n",
       "⠀⠀⠀⠀⠀⠈⢣⡑⢄⠀⠈⢫⡛⣬⡓⢤⡀⠀\n",
       "⠀⠀⠀⠀⠀⠀⠀⠙⣄⠑⠀⠀⠙⣌⠛⣤⡙⠂\n",
       "⠀⠀⠀⠀⠀⠀⠀⠀⠈⠳⠀⠀⠀⠈⠳⠈⠻⠆"
      ]
     },
     "execution_count": 151,
     "metadata": {},
     "output_type": "execute_result"
    }
   ],
   "source": [
    "H"
   ]
  },
  {
   "cell_type": "code",
   "execution_count": 152,
   "id": "72ac9bae",
   "metadata": {},
   "outputs": [
    {
     "data": {
      "text/plain": [
       "35-element Vector{Float64}:\n",
       " 0.06077550945174073\n",
       " 0.12383362865880838\n",
       " 0.1238336286588084\n",
       " 0.12383362865880843\n",
       " 0.15260810310521833\n",
       " 0.2171714409872346\n",
       " 0.21717144098723465\n",
       " 0.15260810310521836\n",
       " 0.2171714409872346\n",
       " 0.15260810310521825\n",
       " 0.12383362865880836\n",
       " 0.2171714409872347\n",
       " 0.21717144098723465\n",
       " ⋮\n",
       " 0.15260810310521838\n",
       " 0.21717144098723462\n",
       " 0.15260810310521852\n",
       " 0.1238336286588084\n",
       " 0.21717144098723457\n",
       " 0.21717144098723462\n",
       " 0.12383362865880845\n",
       " 0.0607755094517407\n",
       " 0.12383362865880844\n",
       " 0.15260810310521844\n",
       " 0.12383362865880844\n",
       " 0.06077550945174073"
      ]
     },
     "execution_count": 152,
     "metadata": {},
     "output_type": "execute_result"
    }
   ],
   "source": [
    "G = Evec[:,1] "
   ]
  },
  {
   "cell_type": "code",
   "execution_count": 153,
   "id": "fd68b846",
   "metadata": {},
   "outputs": [
    {
     "data": {
      "text/plain": [
       "4×4 Symmetric{Float64, SparseMatrixCSC{Float64, Int64}}:\n",
       " 1.0       0.999971  0.999971  0.999971\n",
       " 0.999971  1.0       0.999971  0.999971\n",
       " 0.999971  0.999971  1.0       0.999971\n",
       " 0.999971  0.999971  0.999971  1.0"
      ]
     },
     "execution_count": 153,
     "metadata": {},
     "output_type": "execute_result"
    }
   ],
   "source": [
    "SPDM = spzeros(M,M) \n",
    "for k in 1:M \n",
    "    for h in 1:M   \n",
    "        if k == h \n",
    "            SPDM[k , k] = dot(G, matrixoccupation(k,D)*G) \n",
    "        else  \n",
    "            t = matrixofcreationann(k,h)*G\n",
    "            SPDM[k , h] = dot(G,t)  \n",
    "        end\n",
    "    end  \n",
    "end   \n",
    "SPDM = Symmetric(SPDM, :L)"
   ]
  },
  {
   "cell_type": "code",
   "execution_count": 154,
   "id": "a7b1c6ef",
   "metadata": {},
   "outputs": [
    {
     "data": {
      "text/plain": [
       "([3.999913722637661], [-0.4999999999999999; -0.4999999999999999; -0.4999999999999999; -0.5], 1, 1, 4, [0.0, 0.0, 0.0, 0.0])"
      ]
     },
     "execution_count": 154,
     "metadata": {},
     "output_type": "execute_result"
    }
   ],
   "source": [
    "EvalSPDM, EvecSPDM = eigs(SPDM , nev=1)"
   ]
  },
  {
   "cell_type": "code",
   "execution_count": 156,
   "id": "ba89e610",
   "metadata": {},
   "outputs": [
    {
     "data": {
      "text/plain": [
       "1-element Vector{Float64}:\n",
       " 3.999913722637661"
      ]
     },
     "execution_count": 156,
     "metadata": {},
     "output_type": "execute_result"
    }
   ],
   "source": [
    "EvalSPDM"
   ]
  },
  {
   "cell_type": "code",
   "execution_count": 148,
   "id": "afff97d4",
   "metadata": {},
   "outputs": [
    {
     "data": {
      "image/svg+xml": [
       "<?xml version=\"1.0\" encoding=\"utf-8\"?>\n",
       "<svg xmlns=\"http://www.w3.org/2000/svg\" xmlns:xlink=\"http://www.w3.org/1999/xlink\" width=\"600\" height=\"400\" viewBox=\"0 0 2400 1600\">\n",
       "<defs>\n",
       "  <clipPath id=\"clip480\">\n",
       "    <rect x=\"0\" y=\"0\" width=\"2400\" height=\"1600\"/>\n",
       "  </clipPath>\n",
       "</defs>\n",
       "<path clip-path=\"url(#clip480)\" d=\"\n",
       "M0 1600 L2400 1600 L2400 0 L0 0  Z\n",
       "  \" fill=\"#ffffff\" fill-rule=\"evenodd\" fill-opacity=\"1\"/>\n",
       "<defs>\n",
       "  <clipPath id=\"clip481\">\n",
       "    <rect x=\"480\" y=\"0\" width=\"1681\" height=\"1600\"/>\n",
       "  </clipPath>\n",
       "</defs>\n",
       "<path clip-path=\"url(#clip480)\" d=\"\n",
       "M219.866 1423.18 L2352.76 1423.18 L2352.76 47.2441 L219.866 47.2441  Z\n",
       "  \" fill=\"#ffffff\" fill-rule=\"evenodd\" fill-opacity=\"1\"/>\n",
       "<defs>\n",
       "  <clipPath id=\"clip482\">\n",
       "    <rect x=\"219\" y=\"47\" width=\"2134\" height=\"1377\"/>\n",
       "  </clipPath>\n",
       "</defs>\n",
       "<polyline clip-path=\"url(#clip482)\" style=\"stroke:#000000; stroke-linecap:butt; stroke-linejoin:round; stroke-width:2; stroke-opacity:0.1; fill:none\" points=\"\n",
       "  703.844,1423.18 703.844,47.2441 \n",
       "  \"/>\n",
       "<polyline clip-path=\"url(#clip482)\" style=\"stroke:#000000; stroke-linecap:butt; stroke-linejoin:round; stroke-width:2; stroke-opacity:0.1; fill:none\" points=\"\n",
       "  1233.36,1423.18 1233.36,47.2441 \n",
       "  \"/>\n",
       "<polyline clip-path=\"url(#clip482)\" style=\"stroke:#000000; stroke-linecap:butt; stroke-linejoin:round; stroke-width:2; stroke-opacity:0.1; fill:none\" points=\"\n",
       "  1762.88,1423.18 1762.88,47.2441 \n",
       "  \"/>\n",
       "<polyline clip-path=\"url(#clip482)\" style=\"stroke:#000000; stroke-linecap:butt; stroke-linejoin:round; stroke-width:2; stroke-opacity:0.1; fill:none\" points=\"\n",
       "  2292.39,1423.18 2292.39,47.2441 \n",
       "  \"/>\n",
       "<polyline clip-path=\"url(#clip480)\" style=\"stroke:#000000; stroke-linecap:butt; stroke-linejoin:round; stroke-width:4; stroke-opacity:1; fill:none\" points=\"\n",
       "  219.866,1423.18 2352.76,1423.18 \n",
       "  \"/>\n",
       "<polyline clip-path=\"url(#clip480)\" style=\"stroke:#000000; stroke-linecap:butt; stroke-linejoin:round; stroke-width:4; stroke-opacity:1; fill:none\" points=\"\n",
       "  703.844,1423.18 703.844,1404.28 \n",
       "  \"/>\n",
       "<polyline clip-path=\"url(#clip480)\" style=\"stroke:#000000; stroke-linecap:butt; stroke-linejoin:round; stroke-width:4; stroke-opacity:1; fill:none\" points=\"\n",
       "  1233.36,1423.18 1233.36,1404.28 \n",
       "  \"/>\n",
       "<polyline clip-path=\"url(#clip480)\" style=\"stroke:#000000; stroke-linecap:butt; stroke-linejoin:round; stroke-width:4; stroke-opacity:1; fill:none\" points=\"\n",
       "  1762.88,1423.18 1762.88,1404.28 \n",
       "  \"/>\n",
       "<polyline clip-path=\"url(#clip480)\" style=\"stroke:#000000; stroke-linecap:butt; stroke-linejoin:round; stroke-width:4; stroke-opacity:1; fill:none\" points=\"\n",
       "  2292.39,1423.18 2292.39,1404.28 \n",
       "  \"/>\n",
       "<path clip-path=\"url(#clip480)\" d=\"M694.122 1451.02 L712.478 1451.02 L712.478 1454.96 L698.404 1454.96 L698.404 1463.43 Q699.422 1463.08 700.441 1462.92 Q701.459 1462.73 702.478 1462.73 Q708.265 1462.73 711.645 1465.9 Q715.024 1469.08 715.024 1474.49 Q715.024 1480.07 711.552 1483.17 Q708.08 1486.25 701.76 1486.25 Q699.584 1486.25 697.316 1485.88 Q695.071 1485.51 692.663 1484.77 L692.663 1480.07 Q694.747 1481.2 696.969 1481.76 Q699.191 1482.32 701.668 1482.32 Q705.672 1482.32 708.01 1480.21 Q710.348 1478.1 710.348 1474.49 Q710.348 1470.88 708.01 1468.77 Q705.672 1466.67 701.668 1466.67 Q699.793 1466.67 697.918 1467.08 Q696.066 1467.5 694.122 1468.38 L694.122 1451.02 Z\" fill=\"#000000\" fill-rule=\"evenodd\" fill-opacity=\"1\" /><path clip-path=\"url(#clip480)\" d=\"M1208.05 1481.64 L1215.69 1481.64 L1215.69 1455.28 L1207.38 1456.95 L1207.38 1452.69 L1215.64 1451.02 L1220.32 1451.02 L1220.32 1481.64 L1227.95 1481.64 L1227.95 1485.58 L1208.05 1485.58 L1208.05 1481.64 Z\" fill=\"#000000\" fill-rule=\"evenodd\" fill-opacity=\"1\" /><path clip-path=\"url(#clip480)\" d=\"M1247.4 1454.1 Q1243.79 1454.1 1241.96 1457.66 Q1240.15 1461.2 1240.15 1468.33 Q1240.15 1475.44 1241.96 1479.01 Q1243.79 1482.55 1247.4 1482.55 Q1251.03 1482.55 1252.84 1479.01 Q1254.67 1475.44 1254.67 1468.33 Q1254.67 1461.2 1252.84 1457.66 Q1251.03 1454.1 1247.4 1454.1 M1247.4 1450.39 Q1253.21 1450.39 1256.26 1455 Q1259.34 1459.58 1259.34 1468.33 Q1259.34 1477.06 1256.26 1481.67 Q1253.21 1486.25 1247.4 1486.25 Q1241.59 1486.25 1238.51 1481.67 Q1235.45 1477.06 1235.45 1468.33 Q1235.45 1459.58 1238.51 1455 Q1241.59 1450.39 1247.4 1450.39 Z\" fill=\"#000000\" fill-rule=\"evenodd\" fill-opacity=\"1\" /><path clip-path=\"url(#clip480)\" d=\"M1738.06 1481.64 L1745.7 1481.64 L1745.7 1455.28 L1737.39 1456.95 L1737.39 1452.69 L1745.65 1451.02 L1750.33 1451.02 L1750.33 1481.64 L1757.97 1481.64 L1757.97 1485.58 L1738.06 1485.58 L1738.06 1481.64 Z\" fill=\"#000000\" fill-rule=\"evenodd\" fill-opacity=\"1\" /><path clip-path=\"url(#clip480)\" d=\"M1767.46 1451.02 L1785.81 1451.02 L1785.81 1454.96 L1771.74 1454.96 L1771.74 1463.43 Q1772.76 1463.08 1773.78 1462.92 Q1774.8 1462.73 1775.82 1462.73 Q1781.6 1462.73 1784.98 1465.9 Q1788.36 1469.08 1788.36 1474.49 Q1788.36 1480.07 1784.89 1483.17 Q1781.42 1486.25 1775.1 1486.25 Q1772.92 1486.25 1770.65 1485.88 Q1768.41 1485.51 1766 1484.77 L1766 1480.07 Q1768.08 1481.2 1770.31 1481.76 Q1772.53 1482.32 1775 1482.32 Q1779.01 1482.32 1781.35 1480.21 Q1783.69 1478.1 1783.69 1474.49 Q1783.69 1470.88 1781.35 1468.77 Q1779.01 1466.67 1775 1466.67 Q1773.13 1466.67 1771.25 1467.08 Q1769.4 1467.5 1767.46 1468.38 L1767.46 1451.02 Z\" fill=\"#000000\" fill-rule=\"evenodd\" fill-opacity=\"1\" /><path clip-path=\"url(#clip480)\" d=\"M2271.16 1481.64 L2287.48 1481.64 L2287.48 1485.58 L2265.54 1485.58 L2265.54 1481.64 Q2268.2 1478.89 2272.78 1474.26 Q2277.39 1469.61 2278.57 1468.27 Q2280.82 1465.74 2281.7 1464.01 Q2282.6 1462.25 2282.6 1460.56 Q2282.6 1457.8 2280.66 1456.07 Q2278.73 1454.33 2275.63 1454.33 Q2273.43 1454.33 2270.98 1455.09 Q2268.55 1455.86 2265.77 1457.41 L2265.77 1452.69 Q2268.59 1451.55 2271.05 1450.97 Q2273.5 1450.39 2275.54 1450.39 Q2280.91 1450.39 2284.1 1453.08 Q2287.3 1455.77 2287.3 1460.26 Q2287.3 1462.39 2286.49 1464.31 Q2285.7 1466.2 2283.59 1468.8 Q2283.02 1469.47 2279.91 1472.69 Q2276.81 1475.88 2271.16 1481.64 Z\" fill=\"#000000\" fill-rule=\"evenodd\" fill-opacity=\"1\" /><path clip-path=\"url(#clip480)\" d=\"M2307.3 1454.1 Q2303.69 1454.1 2301.86 1457.66 Q2300.05 1461.2 2300.05 1468.33 Q2300.05 1475.44 2301.86 1479.01 Q2303.69 1482.55 2307.3 1482.55 Q2310.93 1482.55 2312.74 1479.01 Q2314.57 1475.44 2314.57 1468.33 Q2314.57 1461.2 2312.74 1457.66 Q2310.93 1454.1 2307.3 1454.1 M2307.3 1450.39 Q2313.11 1450.39 2316.16 1455 Q2319.24 1459.58 2319.24 1468.33 Q2319.24 1477.06 2316.16 1481.67 Q2313.11 1486.25 2307.3 1486.25 Q2301.49 1486.25 2298.41 1481.67 Q2295.35 1477.06 2295.35 1468.33 Q2295.35 1459.58 2298.41 1455 Q2301.49 1450.39 2307.3 1450.39 Z\" fill=\"#000000\" fill-rule=\"evenodd\" fill-opacity=\"1\" /><path clip-path=\"url(#clip480)\" d=\"M1247.89 1520.52 L1254.36 1520.52 L1254.36 1549.39 Q1254.36 1557.03 1257.12 1560.4 Q1259.89 1563.75 1266.1 1563.75 Q1272.27 1563.75 1275.04 1560.4 Q1277.81 1557.03 1277.81 1549.39 L1277.81 1520.52 L1284.27 1520.52 L1284.27 1550.19 Q1284.27 1559.48 1279.66 1564.22 Q1275.08 1568.97 1266.1 1568.97 Q1257.09 1568.97 1252.48 1564.22 Q1247.89 1559.48 1247.89 1550.19 L1247.89 1520.52 Z\" fill=\"#000000\" fill-rule=\"evenodd\" fill-opacity=\"1\" /><path clip-path=\"url(#clip480)\" d=\"M1306.49 1520.52 L1311.9 1520.52 L1295.35 1574.09 L1289.94 1574.09 L1306.49 1520.52 Z\" fill=\"#000000\" fill-rule=\"evenodd\" fill-opacity=\"1\" /><path clip-path=\"url(#clip480)\" d=\"M1318.3 1520.52 L1324.73 1520.52 L1324.73 1564.73 Q1324.73 1573.33 1321.45 1577.21 Q1318.2 1581.09 1310.98 1581.09 L1308.53 1581.09 L1308.53 1575.68 L1310.53 1575.68 Q1314.8 1575.68 1316.55 1573.3 Q1318.3 1570.91 1318.3 1564.73 L1318.3 1520.52 Z\" fill=\"#000000\" fill-rule=\"evenodd\" fill-opacity=\"1\" /><polyline clip-path=\"url(#clip482)\" style=\"stroke:#000000; stroke-linecap:butt; stroke-linejoin:round; stroke-width:2; stroke-opacity:0.1; fill:none\" points=\"\n",
       "  219.866,1211.24 2352.76,1211.24 \n",
       "  \"/>\n",
       "<polyline clip-path=\"url(#clip482)\" style=\"stroke:#000000; stroke-linecap:butt; stroke-linejoin:round; stroke-width:2; stroke-opacity:0.1; fill:none\" points=\"\n",
       "  219.866,985.691 2352.76,985.691 \n",
       "  \"/>\n",
       "<polyline clip-path=\"url(#clip482)\" style=\"stroke:#000000; stroke-linecap:butt; stroke-linejoin:round; stroke-width:2; stroke-opacity:0.1; fill:none\" points=\"\n",
       "  219.866,760.137 2352.76,760.137 \n",
       "  \"/>\n",
       "<polyline clip-path=\"url(#clip482)\" style=\"stroke:#000000; stroke-linecap:butt; stroke-linejoin:round; stroke-width:2; stroke-opacity:0.1; fill:none\" points=\"\n",
       "  219.866,534.584 2352.76,534.584 \n",
       "  \"/>\n",
       "<polyline clip-path=\"url(#clip482)\" style=\"stroke:#000000; stroke-linecap:butt; stroke-linejoin:round; stroke-width:2; stroke-opacity:0.1; fill:none\" points=\"\n",
       "  219.866,309.03 2352.76,309.03 \n",
       "  \"/>\n",
       "<polyline clip-path=\"url(#clip482)\" style=\"stroke:#000000; stroke-linecap:butt; stroke-linejoin:round; stroke-width:2; stroke-opacity:0.1; fill:none\" points=\"\n",
       "  219.866,83.4768 2352.76,83.4768 \n",
       "  \"/>\n",
       "<polyline clip-path=\"url(#clip480)\" style=\"stroke:#000000; stroke-linecap:butt; stroke-linejoin:round; stroke-width:4; stroke-opacity:1; fill:none\" points=\"\n",
       "  219.866,1423.18 219.866,47.2441 \n",
       "  \"/>\n",
       "<polyline clip-path=\"url(#clip480)\" style=\"stroke:#000000; stroke-linecap:butt; stroke-linejoin:round; stroke-width:4; stroke-opacity:1; fill:none\" points=\"\n",
       "  219.866,1211.24 238.764,1211.24 \n",
       "  \"/>\n",
       "<polyline clip-path=\"url(#clip480)\" style=\"stroke:#000000; stroke-linecap:butt; stroke-linejoin:round; stroke-width:4; stroke-opacity:1; fill:none\" points=\"\n",
       "  219.866,985.691 238.764,985.691 \n",
       "  \"/>\n",
       "<polyline clip-path=\"url(#clip480)\" style=\"stroke:#000000; stroke-linecap:butt; stroke-linejoin:round; stroke-width:4; stroke-opacity:1; fill:none\" points=\"\n",
       "  219.866,760.137 238.764,760.137 \n",
       "  \"/>\n",
       "<polyline clip-path=\"url(#clip480)\" style=\"stroke:#000000; stroke-linecap:butt; stroke-linejoin:round; stroke-width:4; stroke-opacity:1; fill:none\" points=\"\n",
       "  219.866,534.584 238.764,534.584 \n",
       "  \"/>\n",
       "<polyline clip-path=\"url(#clip480)\" style=\"stroke:#000000; stroke-linecap:butt; stroke-linejoin:round; stroke-width:4; stroke-opacity:1; fill:none\" points=\"\n",
       "  219.866,309.03 238.764,309.03 \n",
       "  \"/>\n",
       "<polyline clip-path=\"url(#clip480)\" style=\"stroke:#000000; stroke-linecap:butt; stroke-linejoin:round; stroke-width:4; stroke-opacity:1; fill:none\" points=\"\n",
       "  219.866,83.4768 238.764,83.4768 \n",
       "  \"/>\n",
       "<path clip-path=\"url(#clip480)\" d=\"M127.339 1197.04 Q123.728 1197.04 121.899 1200.61 Q120.093 1204.15 120.093 1211.28 Q120.093 1218.39 121.899 1221.95 Q123.728 1225.49 127.339 1225.49 Q130.973 1225.49 132.779 1221.95 Q134.607 1218.39 134.607 1211.28 Q134.607 1204.15 132.779 1200.61 Q130.973 1197.04 127.339 1197.04 M127.339 1193.34 Q133.149 1193.34 136.204 1197.95 Q139.283 1202.53 139.283 1211.28 Q139.283 1220.01 136.204 1224.61 Q133.149 1229.2 127.339 1229.2 Q121.529 1229.2 118.45 1224.61 Q115.394 1220.01 115.394 1211.28 Q115.394 1202.53 118.45 1197.95 Q121.529 1193.34 127.339 1193.34 Z\" fill=\"#000000\" fill-rule=\"evenodd\" fill-opacity=\"1\" /><path clip-path=\"url(#clip480)\" d=\"M147.501 1222.64 L152.385 1222.64 L152.385 1228.52 L147.501 1228.52 L147.501 1222.64 Z\" fill=\"#000000\" fill-rule=\"evenodd\" fill-opacity=\"1\" /><path clip-path=\"url(#clip480)\" d=\"M176.737 1209.89 Q180.093 1210.61 181.968 1212.88 Q183.866 1215.14 183.866 1218.48 Q183.866 1223.59 180.348 1226.39 Q176.829 1229.2 170.348 1229.2 Q168.172 1229.2 165.857 1228.76 Q163.565 1228.34 161.112 1227.48 L161.112 1222.97 Q163.056 1224.1 165.371 1224.68 Q167.686 1225.26 170.209 1225.26 Q174.607 1225.26 176.899 1223.52 Q179.214 1221.79 179.214 1218.48 Q179.214 1215.42 177.061 1213.71 Q174.931 1211.97 171.112 1211.97 L167.084 1211.97 L167.084 1208.13 L171.297 1208.13 Q174.746 1208.13 176.575 1206.77 Q178.403 1205.38 178.403 1202.78 Q178.403 1200.12 176.505 1198.71 Q174.63 1197.27 171.112 1197.27 Q169.19 1197.27 166.991 1197.69 Q164.792 1198.11 162.153 1198.99 L162.153 1194.82 Q164.815 1194.08 167.13 1193.71 Q169.468 1193.34 171.528 1193.34 Q176.852 1193.34 179.954 1195.77 Q183.056 1198.18 183.056 1202.3 Q183.056 1205.17 181.413 1207.16 Q179.769 1209.13 176.737 1209.89 Z\" fill=\"#000000\" fill-rule=\"evenodd\" fill-opacity=\"1\" /><path clip-path=\"url(#clip480)\" d=\"M126.205 971.489 Q122.593 971.489 120.765 975.054 Q118.959 978.596 118.959 985.725 Q118.959 992.832 120.765 996.397 Q122.593 999.938 126.205 999.938 Q129.839 999.938 131.644 996.397 Q133.473 992.832 133.473 985.725 Q133.473 978.596 131.644 975.054 Q129.839 971.489 126.205 971.489 M126.205 967.786 Q132.015 967.786 135.07 972.392 Q138.149 976.976 138.149 985.725 Q138.149 994.452 135.07 999.059 Q132.015 1003.64 126.205 1003.64 Q120.394 1003.64 117.316 999.059 Q114.26 994.452 114.26 985.725 Q114.26 976.976 117.316 972.392 Q120.394 967.786 126.205 967.786 Z\" fill=\"#000000\" fill-rule=\"evenodd\" fill-opacity=\"1\" /><path clip-path=\"url(#clip480)\" d=\"M146.366 997.091 L151.251 997.091 L151.251 1002.97 L146.366 1002.97 L146.366 997.091 Z\" fill=\"#000000\" fill-rule=\"evenodd\" fill-opacity=\"1\" /><path clip-path=\"url(#clip480)\" d=\"M174.283 972.485 L162.477 990.934 L174.283 990.934 L174.283 972.485 M173.056 968.411 L178.936 968.411 L178.936 990.934 L183.866 990.934 L183.866 994.823 L178.936 994.823 L178.936 1002.97 L174.283 1002.97 L174.283 994.823 L158.681 994.823 L158.681 990.309 L173.056 968.411 Z\" fill=\"#000000\" fill-rule=\"evenodd\" fill-opacity=\"1\" /><path clip-path=\"url(#clip480)\" d=\"M127.686 745.936 Q124.075 745.936 122.246 749.501 Q120.441 753.042 120.441 760.172 Q120.441 767.278 122.246 770.843 Q124.075 774.385 127.686 774.385 Q131.32 774.385 133.126 770.843 Q134.954 767.278 134.954 760.172 Q134.954 753.042 133.126 749.501 Q131.32 745.936 127.686 745.936 M127.686 742.232 Q133.496 742.232 136.552 746.839 Q139.63 751.422 139.63 760.172 Q139.63 768.899 136.552 773.505 Q133.496 778.089 127.686 778.089 Q121.876 778.089 118.797 773.505 Q115.742 768.899 115.742 760.172 Q115.742 751.422 118.797 746.839 Q121.876 742.232 127.686 742.232 Z\" fill=\"#000000\" fill-rule=\"evenodd\" fill-opacity=\"1\" /><path clip-path=\"url(#clip480)\" d=\"M147.848 771.538 L152.732 771.538 L152.732 777.417 L147.848 777.417 L147.848 771.538 Z\" fill=\"#000000\" fill-rule=\"evenodd\" fill-opacity=\"1\" /><path clip-path=\"url(#clip480)\" d=\"M162.964 742.857 L181.32 742.857 L181.32 746.792 L167.246 746.792 L167.246 755.265 Q168.264 754.917 169.283 754.755 Q170.302 754.57 171.32 754.57 Q177.107 754.57 180.487 757.741 Q183.866 760.913 183.866 766.329 Q183.866 771.908 180.394 775.01 Q176.922 778.089 170.602 778.089 Q168.427 778.089 166.158 777.718 Q163.913 777.348 161.505 776.607 L161.505 771.908 Q163.589 773.042 165.811 773.598 Q168.033 774.153 170.51 774.153 Q174.514 774.153 176.852 772.047 Q179.19 769.94 179.19 766.329 Q179.19 762.718 176.852 760.612 Q174.514 758.505 170.51 758.505 Q168.635 758.505 166.76 758.922 Q164.908 759.339 162.964 760.218 L162.964 742.857 Z\" fill=\"#000000\" fill-rule=\"evenodd\" fill-opacity=\"1\" /><path clip-path=\"url(#clip480)\" d=\"M126.529 520.382 Q122.918 520.382 121.089 523.947 Q119.283 527.489 119.283 534.618 Q119.283 541.725 121.089 545.29 Q122.918 548.831 126.529 548.831 Q130.163 548.831 131.968 545.29 Q133.797 541.725 133.797 534.618 Q133.797 527.489 131.968 523.947 Q130.163 520.382 126.529 520.382 M126.529 516.679 Q132.339 516.679 135.394 521.285 Q138.473 525.869 138.473 534.618 Q138.473 543.345 135.394 547.952 Q132.339 552.535 126.529 552.535 Q120.718 552.535 117.64 547.952 Q114.584 543.345 114.584 534.618 Q114.584 525.869 117.64 521.285 Q120.718 516.679 126.529 516.679 Z\" fill=\"#000000\" fill-rule=\"evenodd\" fill-opacity=\"1\" /><path clip-path=\"url(#clip480)\" d=\"M146.691 545.984 L151.575 545.984 L151.575 551.864 L146.691 551.864 L146.691 545.984 Z\" fill=\"#000000\" fill-rule=\"evenodd\" fill-opacity=\"1\" /><path clip-path=\"url(#clip480)\" d=\"M172.339 532.72 Q169.19 532.72 167.339 534.873 Q165.51 537.026 165.51 540.776 Q165.51 544.503 167.339 546.679 Q169.19 548.831 172.339 548.831 Q175.487 548.831 177.315 546.679 Q179.167 544.503 179.167 540.776 Q179.167 537.026 177.315 534.873 Q175.487 532.72 172.339 532.72 M181.621 518.068 L181.621 522.327 Q179.862 521.494 178.056 521.054 Q176.274 520.614 174.514 520.614 Q169.885 520.614 167.431 523.739 Q165.001 526.864 164.653 533.183 Q166.019 531.169 168.079 530.105 Q170.139 529.017 172.616 529.017 Q177.825 529.017 180.834 532.188 Q183.866 535.336 183.866 540.776 Q183.866 546.1 180.718 549.317 Q177.57 552.535 172.339 552.535 Q166.343 552.535 163.172 547.952 Q160.001 543.345 160.001 534.618 Q160.001 526.424 163.89 521.563 Q167.778 516.679 174.329 516.679 Q176.089 516.679 177.871 517.026 Q179.676 517.373 181.621 518.068 Z\" fill=\"#000000\" fill-rule=\"evenodd\" fill-opacity=\"1\" /><path clip-path=\"url(#clip480)\" d=\"M127.593 294.829 Q123.982 294.829 122.154 298.394 Q120.348 301.935 120.348 309.065 Q120.348 316.171 122.154 319.736 Q123.982 323.278 127.593 323.278 Q131.228 323.278 133.033 319.736 Q134.862 316.171 134.862 309.065 Q134.862 301.935 133.033 298.394 Q131.228 294.829 127.593 294.829 M127.593 291.125 Q133.404 291.125 136.459 295.732 Q139.538 300.315 139.538 309.065 Q139.538 317.792 136.459 322.398 Q133.404 326.982 127.593 326.982 Q121.783 326.982 118.705 322.398 Q115.649 317.792 115.649 309.065 Q115.649 300.315 118.705 295.732 Q121.783 291.125 127.593 291.125 Z\" fill=\"#000000\" fill-rule=\"evenodd\" fill-opacity=\"1\" /><path clip-path=\"url(#clip480)\" d=\"M147.755 320.431 L152.64 320.431 L152.64 326.31 L147.755 326.31 L147.755 320.431 Z\" fill=\"#000000\" fill-rule=\"evenodd\" fill-opacity=\"1\" /><path clip-path=\"url(#clip480)\" d=\"M161.644 291.75 L183.866 291.75 L183.866 293.741 L171.32 326.31 L166.436 326.31 L178.241 295.685 L161.644 295.685 L161.644 291.75 Z\" fill=\"#000000\" fill-rule=\"evenodd\" fill-opacity=\"1\" /><path clip-path=\"url(#clip480)\" d=\"M126.783 69.2755 Q123.172 69.2755 121.343 72.8403 Q119.538 76.3819 119.538 83.5115 Q119.538 90.6179 121.343 94.1827 Q123.172 97.7244 126.783 97.7244 Q130.417 97.7244 132.223 94.1827 Q134.052 90.6179 134.052 83.5115 Q134.052 76.3819 132.223 72.8403 Q130.417 69.2755 126.783 69.2755 M126.783 65.5718 Q132.593 65.5718 135.649 70.1782 Q138.728 74.7615 138.728 83.5115 Q138.728 92.2383 135.649 96.8448 Q132.593 101.428 126.783 101.428 Q120.973 101.428 117.894 96.8448 Q114.839 92.2383 114.839 83.5115 Q114.839 74.7615 117.894 70.1782 Q120.973 65.5718 126.783 65.5718 Z\" fill=\"#000000\" fill-rule=\"evenodd\" fill-opacity=\"1\" /><path clip-path=\"url(#clip480)\" d=\"M146.945 94.8772 L151.829 94.8772 L151.829 100.757 L146.945 100.757 L146.945 94.8772 Z\" fill=\"#000000\" fill-rule=\"evenodd\" fill-opacity=\"1\" /><path clip-path=\"url(#clip480)\" d=\"M172.014 84.3448 Q168.681 84.3448 166.76 86.1272 Q164.862 87.9096 164.862 91.0346 Q164.862 94.1596 166.76 95.942 Q168.681 97.7244 172.014 97.7244 Q175.348 97.7244 177.269 95.942 Q179.19 94.1364 179.19 91.0346 Q179.19 87.9096 177.269 86.1272 Q175.371 84.3448 172.014 84.3448 M167.339 82.3541 Q164.329 81.6134 162.64 79.5532 Q160.973 77.493 160.973 74.5301 Q160.973 70.3866 163.913 67.9792 Q166.876 65.5718 172.014 65.5718 Q177.176 65.5718 180.116 67.9792 Q183.056 70.3866 183.056 74.5301 Q183.056 77.493 181.366 79.5532 Q179.7 81.6134 176.714 82.3541 Q180.093 83.1411 181.968 85.4328 Q183.866 87.7244 183.866 91.0346 Q183.866 96.0577 180.788 98.7429 Q177.732 101.428 172.014 101.428 Q166.297 101.428 163.218 98.7429 Q160.163 96.0577 160.163 91.0346 Q160.163 87.7244 162.061 85.4328 Q163.959 83.1411 167.339 82.3541 M165.626 74.9699 Q165.626 77.6551 167.292 79.1597 Q168.982 80.6643 172.014 80.6643 Q175.024 80.6643 176.714 79.1597 Q178.426 77.6551 178.426 74.9699 Q178.426 72.2847 176.714 70.7801 Q175.024 69.2755 172.014 69.2755 Q168.982 69.2755 167.292 70.7801 Q165.626 72.2847 165.626 74.9699 Z\" fill=\"#000000\" fill-rule=\"evenodd\" fill-opacity=\"1\" /><path clip-path=\"url(#clip480)\" d=\"M33.0032 741.498 Q33.0032 746.336 36.5043 748.946 Q40.1646 751.683 46.212 751.683 Q52.6095 751.683 56.3017 748.978 Q59.9619 746.241 59.9619 741.498 Q59.9619 736.819 56.2698 734.082 Q52.5777 731.345 46.212 731.345 Q40.3874 731.345 36.5043 734.082 Q33.0032 736.597 33.0032 741.498 M28.3562 741.498 L28.3562 722.051 L34.2127 722.051 L34.2127 728.608 Q39.1779 725.138 46.212 725.138 Q54.9649 725.138 59.9301 729.499 Q64.9272 733.859 64.9272 741.498 Q64.9272 749.169 59.9301 753.497 Q54.9649 757.858 46.212 757.858 Q37.3955 757.858 32.4621 753.497 Q28.3562 749.901 28.3562 741.498 Z\" fill=\"#000000\" fill-rule=\"evenodd\" fill-opacity=\"1\" /><path clip-path=\"url(#clip480)\" d=\"M44.0477 716.258 L44.0477 712.566 L64.0042 712.566 L64.0042 716.258 L44.0477 716.258 M36.2815 716.258 L36.2815 712.566 L40.4192 712.566 L40.4192 716.258 L36.2815 716.258 Z\" fill=\"#000000\" fill-rule=\"evenodd\" fill-opacity=\"1\" /><polyline clip-path=\"url(#clip482)\" style=\"stroke:#009af9; stroke-linecap:butt; stroke-linejoin:round; stroke-width:4; stroke-opacity:1; fill:none\" points=\"\n",
       "  280.231,86.1857 333.183,146.63 386.134,201.08 439.086,251.281 492.037,298.456 544.989,343.506 597.941,387.112 650.892,429.786 703.844,471.906 756.795,513.734 \n",
       "  809.747,555.428 862.698,597.055 915.65,638.608 968.602,680.014 1021.55,721.155 1074.5,761.877 1127.46,802.013 1180.41,841.39 1233.36,879.845 1286.31,917.231 \n",
       "  1339.26,953.425 1392.21,988.331 1445.17,1021.88 1498.12,1054.02 1551.07,1084.74 1604.02,1114.04 1656.97,1141.94 1709.92,1168.46 1762.88,1193.64 1815.83,1217.54 \n",
       "  1868.78,1240.21 1921.73,1261.71 1974.68,1282.1 2027.63,1301.43 2080.58,1319.76 2133.54,1337.15 2186.49,1353.66 2239.44,1369.34 2292.39,1384.24 \n",
       "  \"/>\n",
       "<path clip-path=\"url(#clip480)\" d=\"\n",
       "M1992.24 196.789 L2281.66 196.789 L2281.66 93.1086 L1992.24 93.1086  Z\n",
       "  \" fill=\"#ffffff\" fill-rule=\"evenodd\" fill-opacity=\"1\"/>\n",
       "<polyline clip-path=\"url(#clip480)\" style=\"stroke:#000000; stroke-linecap:butt; stroke-linejoin:round; stroke-width:4; stroke-opacity:1; fill:none\" points=\"\n",
       "  1992.24,196.789 2281.66,196.789 2281.66,93.1086 1992.24,93.1086 1992.24,196.789 \n",
       "  \"/>\n",
       "<polyline clip-path=\"url(#clip480)\" style=\"stroke:#009af9; stroke-linecap:butt; stroke-linejoin:round; stroke-width:4; stroke-opacity:1; fill:none\" points=\"\n",
       "  2015.94,144.949 2158.13,144.949 \n",
       "  \"/>\n",
       "<path clip-path=\"url(#clip480)\" d=\"M2195.67 164.636 Q2193.87 169.266 2192.16 170.678 Q2190.44 172.09 2187.57 172.09 L2184.17 172.09 L2184.17 168.525 L2186.67 168.525 Q2188.43 168.525 2189.4 167.692 Q2190.37 166.858 2191.55 163.756 L2192.32 161.812 L2181.83 136.303 L2186.35 136.303 L2194.45 156.581 L2202.55 136.303 L2207.06 136.303 L2195.67 164.636 Z\" fill=\"#000000\" fill-rule=\"evenodd\" fill-opacity=\"1\" /><path clip-path=\"url(#clip480)\" d=\"M2214.35 158.293 L2221.99 158.293 L2221.99 131.928 L2213.68 133.595 L2213.68 129.335 L2221.95 127.669 L2226.62 127.669 L2226.62 158.293 L2234.26 158.293 L2234.26 162.229 L2214.35 162.229 L2214.35 158.293 Z\" fill=\"#000000\" fill-rule=\"evenodd\" fill-opacity=\"1\" /></svg>\n"
      ]
     },
     "execution_count": 148,
     "metadata": {},
     "output_type": "execute_result"
    }
   ],
   "source": [
    "fconde = Vector{Float64}() \n",
    "variance = Vector{Float64}()  \n",
    "correlation = Vector{Float64}() \n",
    "for t in 1:0.5:20\n",
    "    J=10\n",
    "    U=t*J\n",
    "    diagscomp = [];\n",
    "    for j in 1:D \n",
    "        sumsdeocup = []; \n",
    "        for k in 1:M\n",
    "        push!(sumsdeocup, valdiags(k, v[j], M))\n",
    "        end  \n",
    "        push!(diagscomp, sum(sumsdeocup))    \n",
    "    end    \n",
    "    Vals = U*diagscomp\n",
    "    Hint = spzeros(D,D)\n",
    "    Hint[diagind(Hint)] = Vals; Hint \n",
    "    Hkin = spzeros(D,D)\n",
    "    firstcolumn = [] \n",
    "    for j in 1:D\n",
    "        for k in 1:M \n",
    "            for h in 1:M   \n",
    "                if k == h \n",
    "                    break \n",
    "                elseif creation_ann(k,h,v[j]) == 0 \n",
    "                    continue \n",
    "                else \n",
    "                     Hkin[DictOfInds[tag(creation_ann( k, h , v[j] )[2],M)], j] = -J*(creation_ann( k, h , v[j])[1])     \n",
    "                end\n",
    "            end \n",
    "        end  \n",
    "    end  \n",
    "    Hkin = Symmetric(Hkin, :L)  \n",
    "    H=Hkin+Hint  \n",
    "    Eval, Evec = eigs(H,nev=2,which=:SR, v0 = ones(D))   \n",
    "    G = Evec[:,1]\n",
    "    SPDM = spzeros(M,M) \n",
    "    for k in 1:M \n",
    "        for h in 1:M   \n",
    "            if k == h \n",
    "                SPDM[k , k] = dot(G, matrixoccupation(k,D)*G) \n",
    "            else  \n",
    "                t = matrixofcreationann(k,h)*G\n",
    "                SPDM[k , h] = dot(G,t)  \n",
    "            end\n",
    "        end  \n",
    "    end   \n",
    "    SPDM = Symmetric(SPDM, :L)\n",
    "    EvalSPDM, EvecSPDM = eigs(SPDM , nev=1, which =:LR, v0=ones(M))    \n",
    "    push!(fconde, real(EvalSPDM[1])/N)   \n",
    "    #Correlacion  \n",
    "    #push!(correlation, dot(G, matrixofcreationann(1 ,floor(M/2) )*G )) \n",
    "    #Varianza \n",
    "    v1 = matrixoccupation(4,D)\n",
    "    v2 = matrixoccupation(4,D)^2\n",
    "    push!(variance, sqrt(dot(G, v2*G) - (dot(G, v1*G))^2)) \n",
    "end       \n",
    "t = 1:0.5:20\n",
    "#plot(t,fconde, xlabel = \"U/J\", ylabel= \"f_c\")\n",
    "plot(t,variance, xlabel = \"U/J\", ylabel= \"σᵢ\") \n",
    "#plot(t, correlation, xlabel = \"U/J\", ylabel = \"ρ⁽¹⁾\")"
   ]
  },
  {
   "cell_type": "code",
   "execution_count": 110,
   "id": "80fc4d20",
   "metadata": {},
   "outputs": [
    {
     "ename": "LoadError",
     "evalue": "KeyError: key 44.69448154405166 not found",
     "output_type": "error",
     "traceback": [
      "KeyError: key 44.69448154405166 not found",
      "",
      "Stacktrace:",
      " [1] getindex(h::Dict{Float64, Int64}, key::Float64)",
      "   @ Base ./dict.jl:482",
      " [2] top-level scope",
      "   @ ./In[110]:28",
      " [3] eval",
      "   @ ./boot.jl:360 [inlined]",
      " [4] include_string(mapexpr::typeof(REPL.softscope), mod::Module, code::String, filename::String)",
      "   @ Base ./loading.jl:1116"
     ]
    }
   ],
   "source": [
    "fconde = Vector{Float64}() \n",
    "variance = Vector{Float64}()  \n",
    "correlation = Vector{Float64}() \n",
    "for t in 1:0.5:20\n",
    "    J=10\n",
    "    U=t*J\n",
    "    diagscomp = [];\n",
    "    for j in 1:D \n",
    "        sumsdeocup = []; \n",
    "        for k in 1:M\n",
    "        push!(sumsdeocup, valdiags(k, v[j], M))\n",
    "        end  \n",
    "        push!(diagscomp, sum(sumsdeocup))    \n",
    "    end    \n",
    "    Vals = U*diagscomp\n",
    "    Hint = spzeros(D,D)\n",
    "    Hint[diagind(Hint)] = Vals; Hint \n",
    "    Hkin = spzeros(D,D)\n",
    "    firstcolumn = [] \n",
    "    for j in 1:D\n",
    "        for k in 1:M \n",
    "            for h in 1:M   \n",
    "                if k == h \n",
    "                    break \n",
    "                elseif creation_ann(k,h,v[j]) == 0 \n",
    "                    continue \n",
    "                else \n",
    "                     Hkin[DictOfInds[tag(creation_ann( k, h , v[j] )[2],M)], j] = -J*(creation_ann( k, h , v[j])[1])     \n",
    "                end\n",
    "            end \n",
    "        end  \n",
    "    end  \n",
    "    Hkin = Symmetric(Hkin, :L)  \n",
    "    H=Hkin+Hint  \n",
    "    Eval, Evec = eigs(H,nev=2,which=:SR, v0 = ones(D))   \n",
    "    G = Evec[:,1]\n",
    "    SPDM = spzeros(M,M) \n",
    "    for k in 1:M \n",
    "        for h in 1:M   \n",
    "            if k == h \n",
    "                SPDM[k , k] = dot(G, matrixoccupation(k,D)*G) \n",
    "            else  \n",
    "                t = matrixofcreationann(k,h)*G\n",
    "                SPDM[k , h] = dot(G,t)  \n",
    "            end\n",
    "        end  \n",
    "    end   \n",
    "    SPDM = Symmetric(SPDM, :L)\n",
    "    EvalSPDM, EvecSPDM = eigs(SPDM , nev=1)    \n",
    "    push!(fconde, real(EvalSPDM[1])/N)   \n",
    "    #Correlacion  \n",
    "#   push!(correlation, dot(G, matrixofcreationann(1 ,floor(M/2) )*G )) \n",
    "    #Varianza \n",
    "    v1 = matrixoccupation(3,D)\n",
    "    v2 = matrixoccupation(3,D)^2\n",
    "    push!(variance, sqrt(dot(G, v2*G) - (dot(G, v1*G))^2)) \n",
    "end       \n",
    "t = 1:0.5:20\n",
    "#plot(t,fconde, xlabel = \"U/J\", ylabel= \"f_c\")\n",
    "plot(t,variance, xlabel = \"U/J\", ylabel= \"σ\") \n",
    "#plot(t, correlation, xlabel = \"U/J\", ylabel = \"ρ⁽¹⁾\")"
   ]
  },
  {
   "cell_type": "code",
   "execution_count": 33,
   "id": "8fa28126",
   "metadata": {},
   "outputs": [
    {
     "data": {
      "text/plain": [
       "10×10 SparseMatrixCSC{Float64, Int64} with 6 stored entries:\n",
       "  ⋅    ⋅    ⋅        ⋅    ⋅        ⋅        ⋅    ⋅        ⋅        ⋅ \n",
       "  ⋅    ⋅    ⋅        ⋅    ⋅        ⋅        ⋅    ⋅        ⋅        ⋅ \n",
       "  ⋅    ⋅   1.41421   ⋅    ⋅        ⋅        ⋅    ⋅        ⋅        ⋅ \n",
       "  ⋅    ⋅    ⋅        ⋅    ⋅        ⋅        ⋅    ⋅        ⋅        ⋅ \n",
       "  ⋅    ⋅    ⋅        ⋅   1.41421   ⋅        ⋅    ⋅        ⋅        ⋅ \n",
       "  ⋅    ⋅    ⋅        ⋅    ⋅       2.44949   ⋅    ⋅        ⋅        ⋅ \n",
       "  ⋅    ⋅    ⋅        ⋅    ⋅        ⋅        ⋅    ⋅        ⋅        ⋅ \n",
       "  ⋅    ⋅    ⋅        ⋅    ⋅        ⋅        ⋅   1.41421   ⋅        ⋅ \n",
       "  ⋅    ⋅    ⋅        ⋅    ⋅        ⋅        ⋅    ⋅       2.44949   ⋅ \n",
       "  ⋅    ⋅    ⋅        ⋅    ⋅        ⋅        ⋅    ⋅        ⋅       3.4641"
      ]
     },
     "execution_count": 33,
     "metadata": {},
     "output_type": "execute_result"
    }
   ],
   "source": [
    "matrixofcreationann(3,3)"
   ]
  },
  {
   "cell_type": "code",
   "execution_count": 282,
   "id": "bc8b81fa",
   "metadata": {},
   "outputs": [
    {
     "data": {
      "text/plain": [
       "2-element Vector{Any}:\n",
       " 1.7320508075688772\n",
       "  [0, 1, 2]"
      ]
     },
     "execution_count": 282,
     "metadata": {},
     "output_type": "execute_result"
    }
   ],
   "source": [
    "creation_ann(2,3,v[10])"
   ]
  },
  {
   "cell_type": "code",
   "execution_count": 298,
   "id": "e8d49a04",
   "metadata": {},
   "outputs": [
    {
     "data": {
      "text/plain": [
       "3-element Vector{Int64}:\n",
       " 0\n",
       " 2\n",
       " 1"
      ]
     },
     "execution_count": 298,
     "metadata": {},
     "output_type": "execute_result"
    }
   ],
   "source": [
    "v[8]"
   ]
  },
  {
   "cell_type": "code",
   "execution_count": 293,
   "id": "0178844c",
   "metadata": {},
   "outputs": [
    {
     "data": {
      "text/plain": [
       "Szbasis(3, 3, 10, [3 2 … 0 0; 0 1 … 1 0; 0 0 … 2 3])"
      ]
     },
     "execution_count": 293,
     "metadata": {},
     "output_type": "execute_result"
    }
   ],
   "source": [
    "v3 = Szbasis(M, N)  "
   ]
  },
  {
   "cell_type": "code",
   "execution_count": 303,
   "id": "d1937990",
   "metadata": {},
   "outputs": [
    {
     "data": {
      "text/plain": [
       "\"2 0 1\""
      ]
     },
     "execution_count": 303,
     "metadata": {},
     "output_type": "execute_result"
    }
   ],
   "source": [
    "to_str(v3[5])"
   ]
  },
  {
   "cell_type": "code",
   "execution_count": null,
   "id": "3b7f4acb",
   "metadata": {},
   "outputs": [],
   "source": []
  }
 ],
 "metadata": {
  "kernelspec": {
   "display_name": "Julia 1.6.6",
   "language": "julia",
   "name": "julia-1.6"
  },
  "language_info": {
   "file_extension": ".jl",
   "mimetype": "application/julia",
   "name": "julia",
   "version": "1.6.6"
  }
 },
 "nbformat": 4,
 "nbformat_minor": 5
}
