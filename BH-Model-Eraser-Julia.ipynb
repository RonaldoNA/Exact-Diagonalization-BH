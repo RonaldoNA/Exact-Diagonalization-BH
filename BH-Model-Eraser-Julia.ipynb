{
 "cells": [
  {
   "cell_type": "markdown",
   "id": "b323389b",
   "metadata": {},
   "source": [
    "# Bose–Hubbard Model "
   ]
  },
  {
   "cell_type": "markdown",
   "id": "1e79dca2",
   "metadata": {},
   "source": [
    "The Hamiltonian of the one dimensional Bose–Hubbard model can be written as:"
   ]
  },
  {
   "cell_type": "markdown",
   "id": "bf9b7348",
   "metadata": {},
   "source": [
    "\n",
    "$$\\hat{H} = -J \\sum_{<i,j>} \\left(\\hat{a}_i^\\dagger\\hat{a}_j + \\hat{a}_j^\\dagger\\hat{a}_i\\right)\n",
    "          + \\frac{U}{2} \\sum_{i=1}^M  \\,\\hat{n}_i \\left(\\hat{n}_i - 1\\right)$$"
   ]
  },
  {
   "cell_type": "markdown",
   "id": "8606269b",
   "metadata": {},
   "source": [
    "where $\\hat{a}_i^\\dagger$ and $\\hat{a}_i$ are creation and annihilation operators, and \n",
    "$\\hat{n}_i=\\hat{a}_i^\\dagger\\hat{a}_i$ is the particle number operator, $M$ is the total numbers of the sites. \n",
    "The kinetic part, $\\hat{a}_i^\\dagger\\hat{a}_j$ means that one boson is annihilated at site $j$ and then created at site $i$, so the net effect is this boson hop from $j$-site to $i$-site. That’s why we call it <strong>hopping term</strong>. Summation indices $<ij>$ means that only neighboring lattice sites are considered, since the do not consider a long interaction between bosons.\n",
    "\n",
    "The second part is the <strong>interaction term</strong>, which describes the on-site interaction of the boson. It has the same form as the electrostatic energy of $N$ electric charges. In the following article, we assume $U>0$ so that the interaction is repulsive, that is the reason of minus sign.\n",
    "\n",
    "We can also consider a <strong>chemical potential</strong> $\\mu$ term. If the chemical potential is fixed, then it will become a constant and we can simply ignore it.\n",
    "\n",
    "To start, we can choose the occupation basis:\n",
    "\n",
    "$|n_1,\\, n_2, \\, \\ldots,\\, n_i,\\, \\ldots,\\, n_N>.$\n",
    "\n",
    "Here, $N$ is the number of sites, while $M=\\sum_{i=1}^N n_i$ is the total number of particles. Apply the operators on it, we have:\n",
    "\n",
    " \n",
    "\\begin{aligned}\n",
    "   \\vphantom{\\hat{a}_i^\\dagger}\n",
    "   \\hat{a}_i         \\, |\\ldots,\\, n_i  ,\\, \\ldots>\n",
    "   = \\sqrt{n_i}        \\, |\\ldots,\\, n_i-1,\\, \\ldots> \\\\\n",
    "   \\hat{a}_i^\\dagger \\, |\\ldots,\\, n_i  ,\\, \\ldots>\n",
    "   = \\sqrt{n_i+1}      \\, |\\ldots,\\, n_i+1,\\, \\ldots> \\\\\n",
    "   \\vphantom{\\hat{a}_i^\\dagger}\n",
    "   \\hat{n}_i         \\, |\\ldots,\\, n_i  ,\\, \\ldots>\n",
    "    = n_i               \\, |\\ldots,\\, n_i  ,\\, \\ldots>\n",
    "\\end{aligned}\n"
   ]
  },
  {
   "cell_type": "markdown",
   "id": "c4776f72",
   "metadata": {},
   "source": [
    "## An analytical case for 2 sites and 2 particles"
   ]
  },
  {
   "cell_type": "markdown",
   "id": "c9657100",
   "metadata": {},
   "source": [
    "We start from a small lattice to illustrate the problem, and then we can find the ground state by hand, All the possible configurations are: \n",
    "\\begin{aligned}\n",
    "|2,0> \\\\\n",
    "|1,1>  \\\\ \n",
    "|0,2>   \n",
    "\\end{aligned}\n",
    "Writing the Hamiltonian for this case, we have:  \n",
    "\\begin{aligned}\n",
    "\\hat{H} = -J \\left(\\hat{a}_1^\\dagger\\hat{a}_2 + \\hat{a}_2^\\dagger\\hat{a}_1\\right)\n",
    "          + \\frac{U}{2} \\left[  \\hat{n}_1 \\left(\\hat{n}_1-1\\right)\n",
    "                              + \\hat{n}_2 \\left(\\hat{n}_2-1\\right) \\right] \n",
    "\\end{aligned}"
   ]
  },
  {
   "cell_type": "markdown",
   "id": "f74de0f9",
   "metadata": {},
   "source": [
    "\\begin{aligned}\n",
    "\\hat{H} \\, |2,\\,0 > = -J \\left(0 + \\sqrt{2} \\, \\hat{a}_2^\\dagger \\, |1,\\,0 > \\right)\n",
    "                        + \\frac{U}{2} \\Bigl[2\\times(2-1) + 0\\Bigr] \\, |2,\\,0 > \\\\\n",
    "                       = U \\, |2,\\,0 > - \\sqrt{2} \\, t \\, |1,\\,1 >\n",
    "\\end{aligned}\n",
    "\n",
    "and operating in the other basis:\n",
    "\n",
    "\\begin{aligned}\n",
    "\\hat{H} \\, |1,\\,1 > = -\\sqrt{2} \\, J \\, |2,\\,0 > - \\sqrt{2} \\, J \\, |0,\\,2 > \\\\\n",
    "\\hat{H} \\, |0,\\,2 > = -\\sqrt{2} \\, J \\, |1,\\,1 > + U \\, |0,\\,2 >\n",
    "\\end{aligned}"
   ]
  },
  {
   "cell_type": "markdown",
   "id": "1e3bff28",
   "metadata": {},
   "source": [
    "Rewriting the above basis as vectors, where we can see the Hilbert space is 3-dimensional:\n",
    "\\begin{aligned}\n",
    "\\begin{bmatrix} 1 \\\\ 0 \\\\ 0 \\end{bmatrix} := |2,\\,0> \n",
    "\\begin{bmatrix} 0 \\\\ 1 \\\\ 0 \\end{bmatrix} := |1,\\,1> \n",
    "\\begin{bmatrix} 0 \\\\ 0 \\\\ 1 \\end{bmatrix} := |0,\\,2>\n",
    "\\end{aligned}\n",
    "And writing the Hamiltonian as a matrix:\n",
    "\\begin{aligned}\n",
    "H =\n",
    "  \\begin{bmatrix}\n",
    "    U            & -\\sqrt{2}\\,J & 0            \\\\\n",
    "    -\\sqrt{2}\\,J & 0            & -\\sqrt{2}\\,J \\\\\n",
    "    0            & -\\sqrt{2}\\,J & U\n",
    "  \\end{bmatrix}\n",
    "\\end{aligned}"
   ]
  },
  {
   "cell_type": "markdown",
   "id": "871fe85d",
   "metadata": {},
   "source": [
    "Finding the eigenvalues and eigenvectors of this matrix, we have:\n",
    "\n",
    "\\begin{aligned}\n",
    "E_1    &= \\frac{U - \\sqrt{16J^2 + U^2}}{2}, &\n",
    "\\psi_1 &= \\begin{bmatrix} 2\\sqrt{2}\\,J \\\\ U + \\sqrt{16J^2+U^2} \\\\ 2\\sqrt{2}\\,J \\end{bmatrix} \\\\\n",
    "E_2    &= U, &\n",
    "\\psi_2 &= \\begin{bmatrix} 1 \\\\ 0 \\\\ -1 \\end{bmatrix} \\\\\n",
    "E_3    &= \\frac{U + \\sqrt{16J^2 + U^2}}{2}, &\n",
    "\\psi_3 &= \\begin{bmatrix} 2\\sqrt{2}\\,J \\\\ U - \\sqrt{16J^2+U^2} \\\\ 2\\sqrt{2}\\,J \\end{bmatrix}\n",
    "\\end{aligned}\n",
    "\n",
    "Clearly, $E_1$ is the ground state energy and the state can be written as\n",
    "\\begin{aligned}\n",
    "|\\psi_\\text{ground}> = C \\left( 2 \\sqrt{2}\\,J \\Bigl( |2,\\,0> + |0,\\,2 \\Bigr> +\n",
    "  \\left(U + \\sqrt{16J^2+U^2}\\right) |1,\\,1> \\right)\n",
    "\\end{aligned}\n",
    "where $C$ is a normalization constant.\n"
   ]
  },
  {
   "cell_type": "markdown",
   "id": "c20e16bc",
   "metadata": {},
   "source": [
    "## Symmetries of the Hamiltonian"
   ]
  },
  {
   "cell_type": "markdown",
   "id": "040aa218",
   "metadata": {},
   "source": [
    "Before present an extent solution, we will check some symmetries of our Hamiltonian, which help us to undestand the structure of our matrices. "
   ]
  },
  {
   "cell_type": "markdown",
   "id": "a686e76a",
   "metadata": {},
   "source": [
    "The Hamiltonian of Bose–Hubbard model possesses a <strong>global <em>U</em>(1) symmetry</strong>. With</p>\n",
    "\\begin{aligned}\n",
    "\\hat{a}_i \\to e^{i \\theta}\\hat{a}_i, \n",
    "\\hat{a}_i^\\dagger \\to e^{-i \\theta}\\hat{a}_i^\\dagger \\quad \\text{and hence } \n",
    "\\hat{n}_i \\to \\hat{n}_i \n",
    "\\end{aligned}\n",
    "So we have for our Hamiltonian:\n",
    "\n",
    "\\begin{aligned}\n",
    "\\hat{H} &= -t \\sum_{<ij>}\n",
    "              \\left(\\hat{a}_i^\\dagger\\hat{a}_j + \\hat{a}_j^\\dagger\\hat{a}_i\\right)\n",
    "           + \\frac{U}{2} \\sum_{i=1}^M  \\,\\hat{n}_i \\left(\\hat{n}_i - 1\\right) \\\\\n",
    "        & \\to -t \\sum_{<ij>}\n",
    "              \\left(e^{-i \\theta}\\hat{a}_i^\\dagger \\cdot e^{i \\theta}\\hat{a}_j +\n",
    "                    e^{-i \\theta}\\hat{a}_j^\\dagger \\cdot e^{i \\theta}\\hat{a}_i\\right)\n",
    "           + \\frac{U}{2} \\sum_{i=1}^M  \\,\\hat{n}_i \\left(\\hat{n}_i - 1\\right)\n",
    "        = \\hat{H}.\n",
    "\\end{aligned}\n"
   ]
  },
  {
   "cell_type": "markdown",
   "id": "dfac04de",
   "metadata": {},
   "source": [
    "If we use the periodic boundary condition, there will be a <strong>translation symmetry</strong>. Take $i \\to i+1$, the summations will be invariant:</p>\n",
    "\n",
    "\\begin{aligned}\n",
    "\\sum_{i=1}^M f[i] \\to \\sum_{i=1}^M f[i+1] = \\sum_{i=0}^{M-1} f[i]\n",
    "  &= f[0] + \\sum_{i=1}^{M-1} f[i] \\\\\n",
    "  &= f[M] + \\sum_{i=1}^{M-1} f[i] = \\sum_{i=1}^M f[i], \\\\\n",
    "\\sum_{<ij>}^M g[i,\\,j] \\to \\sum_{<ij>}^M g[i+1,\\,j+1]\n",
    "  &= \\sum_{i=1}^M \\underbrace{\\sum_{|j-i|=1} g[i+1,\\,j+1]}_{f[i+1]} \\\\\n",
    "  &= \\sum_{i=1}^M \\sum_{|j-i|=1} g[i,\\,j] = \\sum_{<ij>}^M g[i,\\,j],\n",
    "\\end{aligned}\n",
    "\n",
    "<p>and so is the Hamiltonian. We can imagine the one-dimensional boson chain as a circle, with the $N$ sites placed equidistantly. Obviously the system will be invariant if rotate the circle by one unit. This circle, or more precisely, a regular $N$-sided polygon, has another <strong>reflection symmetry</strong>, which means it’s invariant under $i \\to N-i$. This can be easily proved with the same procedure as above.</p>\n",
    "<p>The translation and reflection symmetry make up a <strong>dihedral group</strong> $D_N$. Therefore, the total symmetry group of the one dimensional Bose–Hubbard model is $U(1) \\otimes D_N$.</p>\n"
   ]
  },
  {
   "cell_type": "markdown",
   "id": "b2bf8512",
   "metadata": {},
   "source": [
    "## Simulation"
   ]
  },
  {
   "cell_type": "code",
   "execution_count": 102,
   "id": "dcb25c26",
   "metadata": {},
   "outputs": [
    {
     "data": {
      "text/plain": [
       "6435-element Vector{Vector{Int64}}:\n",
       " [8, 0, 0, 0, 0, 0, 0, 0]\n",
       " [7, 1, 0, 0, 0, 0, 0, 0]\n",
       " [7, 0, 1, 0, 0, 0, 0, 0]\n",
       " [7, 0, 0, 1, 0, 0, 0, 0]\n",
       " [7, 0, 0, 0, 1, 0, 0, 0]\n",
       " [7, 0, 0, 0, 0, 1, 0, 0]\n",
       " [7, 0, 0, 0, 0, 0, 1, 0]\n",
       " [7, 0, 0, 0, 0, 0, 0, 1]\n",
       " [6, 2, 0, 0, 0, 0, 0, 0]\n",
       " [6, 1, 1, 0, 0, 0, 0, 0]\n",
       " [6, 1, 0, 1, 0, 0, 0, 0]\n",
       " [6, 1, 0, 0, 1, 0, 0, 0]\n",
       " [6, 1, 0, 0, 0, 1, 0, 0]\n",
       " ⋮\n",
       " [0, 0, 0, 0, 0, 1, 2, 5]\n",
       " [0, 0, 0, 0, 0, 1, 1, 6]\n",
       " [0, 0, 0, 0, 0, 1, 0, 7]\n",
       " [0, 0, 0, 0, 0, 0, 8, 0]\n",
       " [0, 0, 0, 0, 0, 0, 7, 1]\n",
       " [0, 0, 0, 0, 0, 0, 6, 2]\n",
       " [0, 0, 0, 0, 0, 0, 5, 3]\n",
       " [0, 0, 0, 0, 0, 0, 4, 4]\n",
       " [0, 0, 0, 0, 0, 0, 3, 5]\n",
       " [0, 0, 0, 0, 0, 0, 2, 6]\n",
       " [0, 0, 0, 0, 0, 0, 1, 7]\n",
       " [0, 0, 0, 0, 0, 0, 0, 8]"
      ]
     },
     "execution_count": 102,
     "metadata": {},
     "output_type": "execute_result"
    }
   ],
   "source": [
    "using LinearAlgebra \n",
    "using Plots #Graph\n",
    "using StaticArrays \n",
    "using SparseArrays \n",
    "using Arpack  #Eigenvalues and eigenvectors\n",
    "using LaTeXStrings #Titles and labels \n",
    "using JLD #Save data\n",
    "#definition of N,M,D\n",
    "global N=8\n",
    "global M=8\n",
    "global D=Int((factorial(M+N-1))/(factorial(M-1)*factorial(N)))  \n",
    "\n",
    "#i-prime number function(suggested form) \n",
    "p(i)=100i+3 \n",
    "\n",
    "#Generate a basis for N = M\n",
    "function generate_basis(N, M)\n",
    "    D = prod(max(N, M):N+M-1) ÷ prod(1:min(N, M))\n",
    "    basis = [zeros(Int, M) for _ in 1:D]\n",
    "    basis[1][1] = N\n",
    "    for t = 2:D\n",
    "        if basis[t-1][M] != 0\n",
    "            k = M - 1\n",
    "        else\n",
    "            k = M\n",
    "        end\n",
    "        while k > 0 && basis[t-1][k] == 0\n",
    "            k -= 1\n",
    "        end\n",
    "        @views basis[t][1:k-1] .= basis[t-1][1:k-1]\n",
    "        basis[t][k] = basis[t-1][k] - 1\n",
    "        basis[t][k+1] = N - sum(@view(basis[t][1:k])) \n",
    "        end \n",
    "    return basis \n",
    "end \n",
    "#if you are struggling with the lexicographic order, you can think this algorithm as a game of balls on different \n",
    "#sites, for example for 3 balls and 3 sites, you start with 3 in the first site, then 1 ball fall from \n",
    "#the first site and going to the second site and finally the ball which fallen moves to the third site\n",
    "#and now you repeat the process of drop a ball on the first place and then move it on each site until the last.\n",
    "v = generate_basis(N,M)"
   ]
  },
  {
   "cell_type": "code",
   "execution_count": 87,
   "id": "29186e7e",
   "metadata": {},
   "outputs": [
    {
     "data": {
      "text/plain": [
       "tag (generic function with 1 method)"
      ]
     },
     "execution_count": 87,
     "metadata": {},
     "output_type": "execute_result"
    }
   ],
   "source": [
    "#tag function\n",
    "function tag(b,M)\n",
    "    tag=0;\n",
    "    for i in 1:M\n",
    "        tag += (√p(i))*b[i] \n",
    "    end\n",
    "    return tag \n",
    "end"
   ]
  },
  {
   "cell_type": "code",
   "execution_count": 88,
   "id": "4eb7f985",
   "metadata": {},
   "outputs": [
    {
     "data": {
      "text/plain": [
       "creation_ann (generic function with 1 method)"
      ]
     },
     "execution_count": 88,
     "metadata": {},
     "output_type": "execute_result"
    }
   ],
   "source": [
    "function creation_ann(k,j,v)     \n",
    "    if(v[j] >= 1) \n",
    "        b = copy(v)\n",
    "        value = sqrt(((b[k])+1)*b[j])\n",
    "        b[j] -= 1; \n",
    "        b[k] += 1;    \n",
    "        return [value , b]   \n",
    "    else \n",
    "        return 0; \n",
    "    end \n",
    "end   "
   ]
  },
  {
   "cell_type": "code",
   "execution_count": 89,
   "id": "60027f10",
   "metadata": {},
   "outputs": [
    {
     "data": {
      "text/plain": [
       "matrixofcreationann (generic function with 1 method)"
      ]
     },
     "execution_count": 89,
     "metadata": {},
     "output_type": "execute_result"
    }
   ],
   "source": [
    "function matrixofcreationann(i,k)\n",
    "    mat = spzeros(D,D)\n",
    "    for j in 1:D \n",
    "        if creation_ann(i,k,v[j]) == 0 \n",
    "           continue      \n",
    "        end\n",
    "        mat[DictOfInds[tag(creation_ann( i, k , v[j] )[2],M)], j] = creation_ann(i, k , v[j])[1] \n",
    "    end    \n",
    "    return mat\n",
    "end"
   ]
  },
  {
   "cell_type": "code",
   "execution_count": 90,
   "id": "7b4e2d8c",
   "metadata": {},
   "outputs": [
    {
     "data": {
      "text/plain": [
       "valdiags (generic function with 1 method)"
      ]
     },
     "execution_count": 90,
     "metadata": {},
     "output_type": "execute_result"
    }
   ],
   "source": [
    "#Diagonal values of the occupation number\n",
    "function valdiags(k, v, M)  \n",
    "    if(v[k] >= 1)  \n",
    "        return  (v[k]*(v[k]-1))/2  \n",
    "    else \n",
    "        return 0;\n",
    "    end  \n",
    "end       "
   ]
  },
  {
   "cell_type": "code",
   "execution_count": 91,
   "id": "c1a00338",
   "metadata": {},
   "outputs": [
    {
     "data": {
      "text/plain": [
       "occupation (generic function with 1 method)"
      ]
     },
     "execution_count": 91,
     "metadata": {},
     "output_type": "execute_result"
    }
   ],
   "source": [
    "function occupation(i, v) \n",
    "     if(v[i] >= 1)  \n",
    "        return  v[i]  \n",
    "    else \n",
    "        return 0;\n",
    "    end  \n",
    "end       "
   ]
  },
  {
   "cell_type": "code",
   "execution_count": 92,
   "id": "5db136e0",
   "metadata": {},
   "outputs": [
    {
     "data": {
      "text/plain": [
       "matrixoccupation (generic function with 1 method)"
      ]
     },
     "execution_count": 92,
     "metadata": {},
     "output_type": "execute_result"
    }
   ],
   "source": [
    "function matrixoccupation(k, D) \n",
    "    mat = spzeros(D,D)\n",
    "    for j in 1:D \n",
    "        mat[j,j] = occupation(k, v[j]) \n",
    "    end   \n",
    "    return mat \n",
    "end"
   ]
  },
  {
   "cell_type": "code",
   "execution_count": 93,
   "id": "161a407f",
   "metadata": {},
   "outputs": [],
   "source": [
    "#Array of tags \n",
    "T = []\n",
    "for i in 1:length(v) \n",
    "     push!(T,  tag( v[i] , M )) \n",
    "end"
   ]
  },
  {
   "cell_type": "code",
   "execution_count": 94,
   "id": "94e4174a",
   "metadata": {},
   "outputs": [
    {
     "data": {
      "text/plain": [
       "Dict{Float64, Int64} with 6435 entries:\n",
       "  180.949 => 4792\n",
       "  138.82  => 316\n",
       "  153.087 => 3618\n",
       "  127.365 => 1766\n",
       "  194.348 => 6055\n",
       "  185.536 => 3012\n",
       "  128.041 => 357\n",
       "  195.748 => 6237\n",
       "  187.54  => 6172\n",
       "  155.643 => 3929\n",
       "  129.782 => 388\n",
       "  170.179 => 5317\n",
       "  159.403 => 2332\n",
       "  168.182 => 1493\n",
       "  180.609 => 4761\n",
       "  149.203 => 3920\n",
       "  150.208 => 1962\n",
       "  145.022 => 2698\n",
       "  156.591 => 1180\n",
       "  95.216  => 11\n",
       "  170.3   => 4107\n",
       "  163.249 => 4626\n",
       "  161.668 => 2036\n",
       "  163.595 => 5244\n",
       "  160.854 => 1588\n",
       "  ⋮       => ⋮"
      ]
     },
     "execution_count": 94,
     "metadata": {},
     "output_type": "execute_result"
    }
   ],
   "source": [
    "#Order and we made a dictionary to Tsorted => indices\n",
    "inds = sortperm(T);\n",
    "Tsorted = T[inds];\n",
    "#DictOfInds = Dict(zip(Tsorted, inds)) \n",
    "DictOfInds = Dict(Tsorted .=> inds)"
   ]
  },
  {
   "cell_type": "code",
   "execution_count": 107,
   "id": "06ff77c8",
   "metadata": {},
   "outputs": [
    {
     "data": {
      "text/plain": [
       "6435×6435 SparseMatrixCSC{Float64, Int64} with 61346 stored entries:\n",
       "⢿⣷⣦⣤⣀⠀⠀⠀⠀⠀⠀⠀⠀⠀⠀⠀⠀⠀⠀⠀⠀⠀⠀⠀⠀⠀⠀⠀⠀⠀⠀⠀⠀⠀⠀⠀⠀⠀⠀⠀\n",
       "⠈⣿⣿⣿⡌⠻⣶⢤⣀⠀⠀⠀⠀⠀⠀⠀⠀⠀⠀⠀⠀⠀⠀⠀⠀⠀⠀⠀⠀⠀⠀⠀⠀⠀⠀⠀⠀⠀⠀⠀\n",
       "⠀⠘⣦⡉⠻⣦⣈⠳⠈⠙⠲⣤⣀⠀⠀⠀⠀⠀⠀⠀⠀⠀⠀⠀⠀⠀⠀⠀⠀⠀⠀⠀⠀⠀⠀⠀⠀⠀⠀⠀\n",
       "⠀⠀⠘⣟⢦⡘⡿⣯⡳⡄⠀⠈⠻⣝⠲⢤⣀⠀⠀⠀⠀⠀⠀⠀⠀⠀⠀⠀⠀⠀⠀⠀⠀⠀⠀⠀⠀⠀⠀⠀\n",
       "⠀⠀⠀⠘⣆⠀⠙⠮⢻⣶⡄⠀⠀⠈⠳⣄⠈⠙⠲⣄⡀⠀⠀⠀⠀⠀⠀⠀⠀⠀⠀⠀⠀⠀⠀⠀⠀⠀⠀⠀\n",
       "⠀⠀⠀⠀⠘⣦⡀⠀⠀⠉⠻⣦⣄⠀⠀⠈⠃⠀⠀⠀⠙⠲⣦⣄⡀⠀⠀⠀⠀⠀⠀⠀⠀⠀⠀⠀⠀⠀⠀⠀\n",
       "⠀⠀⠀⠀⠀⠘⣟⢦⡀⠀⠀⠙⡻⣮⡳⡄⣀⠀⠀⠀⠀⠀⠈⠳⣍⠓⢦⣀⠀⠀⠀⠀⠀⠀⠀⠀⠀⠀⠀⠀\n",
       "⠀⠀⠀⠀⠀⠀⠘⣆⠙⢦⡀⠀⠙⠮⢿⣷⡈⠳⣄⠀⠀⠀⠀⠀⠈⠳⣄⠈⠙⠲⣄⡀⠀⠀⠀⠀⠀⠀⠀⠀\n",
       "⠀⠀⠀⠀⠀⠀⠀⠘⣆⠀⠉⠀⠀⠘⢦⡈⠻⣦⣌⠁⠀⠀⠀⠀⠀⠀⠈⠳⣄⠀⠀⠉⠓⢦⣀⠀⠀⠀⠀⠀\n",
       "⠀⠀⠀⠀⠀⠀⠀⠀⠘⢦⠀⠀⠀⠀⠀⠙⠆⠙⣿⣿⡦⠀⠀⠀⠀⠀⠀⠀⠈⠳⣄⠀⠀⠀⠈⠙⠦⣄⠀⠀\n",
       "⠀⠀⠀⠀⠀⠀⠀⠀⠀⠈⢳⡀⠀⠀⠀⠀⠀⠀⠈⠋⠿⣧⣀⠀⠀⠀⠀⠀⠀⠀⠈⠳⠀⠀⠀⠀⠀⠈⠙⠦\n",
       "⠀⠀⠀⠀⠀⠀⠀⠀⠀⠀⠈⢿⢦⡀⠀⠀⠀⠀⠀⠀⠀⠘⠿⣧⡲⣄⠀⠀⠀⠀⠀⠀⠀⠀⠀⠀⠀⠀⠀⠀\n",
       "⠀⠀⠀⠀⠀⠀⠀⠀⠀⠀⠀⠈⢧⠙⢦⡀⠀⠀⠀⠀⠀⠀⠘⢮⣻⣾⡌⠳⣄⠀⠀⠀⠀⠀⠀⠀⠀⠀⠀⠀\n",
       "⠀⠀⠀⠀⠀⠀⠀⠀⠀⠀⠀⠀⠈⢳⡀⠙⢦⡀⠀⠀⠀⠀⠀⠀⢦⡉⠻⣦⣈⠓⠀⠰⣄⠀⠀⠀⠀⠀⠀⠀\n",
       "⠀⠀⠀⠀⠀⠀⠀⠀⠀⠀⠀⠀⠀⠀⢳⡀⠀⠙⢦⡀⠀⠀⠀⠀⠀⠙⢦⠘⢿⣷⣦⡀⠈⠳⣄⠀⠀⠀⠀⠀\n",
       "⠀⠀⠀⠀⠀⠀⠀⠀⠀⠀⠀⠀⠀⠀⠀⠹⡄⠀⠀⠙⢦⡀⠀⠀⠀⠀⢀⡀⠈⠻⢻⣶⡀⠀⠈⠳⣄⠀⠀⠀\n",
       "⠀⠀⠀⠀⠀⠀⠀⠀⠀⠀⠀⠀⠀⠀⠀⠀⠹⣄⠀⠀⠀⠀⠀⠀⠀⠀⠀⠙⢦⡀⠀⠈⢻⣶⣤⡀⠀⠀⠀⠀\n",
       "⠀⠀⠀⠀⠀⠀⠀⠀⠀⠀⠀⠀⠀⠀⠀⠀⠀⠘⣆⠀⠀⠀⠀⠀⠀⠀⠀⠀⠀⠙⢦⡀⠀⠻⣿⣿⡔⢦⡀⠀\n",
       "⠀⠀⠀⠀⠀⠀⠀⠀⠀⠀⠀⠀⠀⠀⠀⠀⠀⠀⠈⢧⡀⠀⠀⠀⠀⠀⠀⠀⠀⠀⠀⠙⠀⠀⠰⣍⠻⣦⣝⠀\n",
       "⠀⠀⠀⠀⠀⠀⠀⠀⠀⠀⠀⠀⠀⠀⠀⠀⠀⠀⠀⠀⠳⡄⠀⠀⠀⠀⠀⠀⠀⠀⠀⠀⠀⠀⠀⠈⠓⠙⠿⣧"
      ]
     },
     "execution_count": 107,
     "metadata": {},
     "output_type": "execute_result"
    }
   ],
   "source": [
    "diagscomp = [];\n",
    "for j in 1:D \n",
    "    sumsdeocup = []; \n",
    "    for k in 1:M\n",
    "        push!(sumsdeocup, valdiags(k, v[j], M))\n",
    "    end  \n",
    "    push!(diagscomp, sum(sumsdeocup))    \n",
    "end   \n",
    "#Mostramos la parte  \n",
    "U=500\n",
    "Vals = U*diagscomp\n",
    "Hint = spzeros(D,D)\n",
    "Hint[diagind(Hint)] = Vals; Hint  \n",
    "J = 1 \n",
    "Hkin = spzeros(D,D)\n",
    "for j in 1:D\n",
    "    for k in 1:M  \n",
    "        for h in 1:M   \n",
    "            if k == h \n",
    "                break \n",
    "            elseif creation_ann(k,h,v[j]) == 0 \n",
    "                continue  \n",
    "            elseif abs(k-h)>=2 \n",
    "                continue \n",
    "            else \n",
    "                 Hkin[DictOfInds[tag(creation_ann( k, h , v[j] )[2],M)], j] = -J*(creation_ann( k, h , v[j])[1])     \n",
    "            end  \n",
    "        end   \n",
    "        m=k+1 \n",
    "        if(m>M) \n",
    "            m=1 \n",
    "        end\n",
    "        if creation_ann(k,m,v[j]) == 0 \n",
    "            continue \n",
    "        end\n",
    "        Hkin[DictOfInds[tag(creation_ann( k, m , v[j] )[2],M)], j] = -J*(creation_ann( k, m , v[j])[1])  \n",
    "    end   \n",
    "end   \n",
    "Hkin = Symmetric(Hkin, :L) \n",
    "\n",
    "\n",
    "H=Hkin+Hint\n",
    "#spy(H, markersize = 1)"
   ]
  },
  {
   "cell_type": "code",
   "execution_count": 96,
   "id": "55b3c0ec",
   "metadata": {},
   "outputs": [
    {
     "data": {
      "text/plain": [
       "([-0.06399974399209332, 494.40808206218304], [1.6359960005867954e-17 -1.1158618933768363e-17; 2.804776399209439e-17 -4.455567314461217e-17; … ; 3.650119104789918e-17 -1.7614555470948258e-18; -2.9550854320550103e-17 1.3132304780697756e-17], 2, 103, 1759, [-0.507868945230627, -153.07249381288665, 245.606775632528, -909.6884678548568, 347.0758825873624, -593.1579581705525, 245.45911892126168, -469.60286049651666, 0.7908654733719639, -1.3596789022533513  …  387.79635935583667, 0.12018915408118064, 604.5761553745118, -0.7040083288850862, 0.6240464412893203, 0.030873368225789448, 0.4332282032101703, 1.0261796415544893, -617.2173974703467, 0.19934530023368655])"
      ]
     },
     "execution_count": 96,
     "metadata": {},
     "output_type": "execute_result"
    }
   ],
   "source": [
    "Eval, Evec = eigs(H , nev=2 , which=:SR)"
   ]
  },
  {
   "cell_type": "code",
   "execution_count": 98,
   "id": "72ac9bae",
   "metadata": {},
   "outputs": [
    {
     "data": {
      "text/plain": [
       "6435-element Vector{Float64}:\n",
       "  1.6359960005867954e-17\n",
       "  2.804776399209439e-17\n",
       " -9.108057568526122e-17\n",
       "  7.709359438520358e-17\n",
       " -7.971820649279861e-17\n",
       "  2.7982663558947277e-17\n",
       " -8.843171675679999e-18\n",
       " -8.773831645599584e-18\n",
       " -2.069151830853321e-17\n",
       "  8.862751629415078e-18\n",
       " -1.6210801657102557e-17\n",
       " -1.6248940614619048e-17\n",
       "  5.985844368627457e-18\n",
       "  ⋮\n",
       " -8.68279480390678e-19\n",
       "  1.7747671275871062e-17\n",
       " -1.4342706038798451e-18\n",
       " -6.190308282362891e-18\n",
       " -2.4445792335571883e-17\n",
       " -1.0824054403758591e-17\n",
       "  8.206363669637865e-18\n",
       " -1.544264527042501e-17\n",
       "  5.035030340944066e-19\n",
       "  7.257787788146637e-18\n",
       "  3.650119104789918e-17\n",
       " -2.9550854320550103e-17"
      ]
     },
     "execution_count": 98,
     "metadata": {},
     "output_type": "execute_result"
    }
   ],
   "source": [
    "G = Evec[:,1] "
   ]
  },
  {
   "cell_type": "code",
   "execution_count": 99,
   "id": "fd68b846",
   "metadata": {},
   "outputs": [
    {
     "data": {
      "text/plain": [
       "8×8 Symmetric{Float64, SparseMatrixCSC{Float64, Int64}}:\n",
       " 1.0         0.00799994  7.19983e-5  …  7.04046e-7  7.19983e-5  0.00799994\n",
       " 0.00799994  1.0         0.00799994     1.43991e-8  7.04046e-7  7.19983e-5\n",
       " 7.19983e-5  0.00799994  1.0            7.04046e-7  1.43991e-8  7.04046e-7\n",
       " 7.04046e-7  7.19983e-5  0.00799994     7.19983e-5  7.04046e-7  1.43991e-8\n",
       " 1.43991e-8  7.04046e-7  7.19983e-5     0.00799994  7.19983e-5  7.04046e-7\n",
       " 7.04046e-7  1.43991e-8  7.04046e-7  …  1.0         0.00799994  7.19983e-5\n",
       " 7.19983e-5  7.04046e-7  1.43991e-8     0.00799994  1.0         0.00799994\n",
       " 0.00799994  7.19983e-5  7.04046e-7     7.19983e-5  0.00799994  1.0"
      ]
     },
     "execution_count": 99,
     "metadata": {},
     "output_type": "execute_result"
    }
   ],
   "source": [
    "SPDM = spzeros(M,M) \n",
    "for k in 1:M \n",
    "    for h in 1:M   \n",
    "        if k == h \n",
    "            SPDM[k , k] = dot(G, matrixoccupation(k,D)*G) \n",
    "        else  \n",
    "            t = matrixofcreationann(k,h)*G\n",
    "            SPDM[k , h] = dot(G,t)  \n",
    "        end\n",
    "    end  \n",
    "end   \n",
    "SPDM = Symmetric(SPDM, :L)"
   ]
  },
  {
   "cell_type": "code",
   "execution_count": 100,
   "id": "a7b1c6ef",
   "metadata": {},
   "outputs": [
    {
     "data": {
      "text/plain": [
       "([1.0161452910736801], [-0.3535533905932629; -0.35355339059326907; … ; -0.3535533905932797; -0.35355339059327817], 1, 1, 8, [0.0, 0.0, 0.0, 0.0, 0.0, 0.0, 0.0, 0.0])"
      ]
     },
     "execution_count": 100,
     "metadata": {},
     "output_type": "execute_result"
    }
   ],
   "source": [
    "EvalSPDM, EvecSPDM = eigs(SPDM , nev=1)"
   ]
  },
  {
   "cell_type": "code",
   "execution_count": 101,
   "id": "ba89e610",
   "metadata": {},
   "outputs": [
    {
     "data": {
      "text/plain": [
       "0.12701816138421002"
      ]
     },
     "execution_count": 101,
     "metadata": {},
     "output_type": "execute_result"
    }
   ],
   "source": [
    "EvalSPDM[1]/N \n",
    "#This when U->∞ the fraction of condensate must tend to 1/N \n",
    "#for 6 sites must be tend to 0.1666666"
   ]
  },
  {
   "cell_type": "code",
   "execution_count": 105,
   "id": "afff97d4",
   "metadata": {},
   "outputs": [
    {
     "data": {
      "image/svg+xml": [
       "<?xml version=\"1.0\" encoding=\"utf-8\"?>\n",
       "<svg xmlns=\"http://www.w3.org/2000/svg\" xmlns:xlink=\"http://www.w3.org/1999/xlink\" width=\"600\" height=\"400\" viewBox=\"0 0 2400 1600\">\n",
       "<defs>\n",
       "  <clipPath id=\"clip830\">\n",
       "    <rect x=\"0\" y=\"0\" width=\"2400\" height=\"1600\"/>\n",
       "  </clipPath>\n",
       "</defs>\n",
       "<path clip-path=\"url(#clip830)\" d=\"\n",
       "M0 1600 L2400 1600 L2400 0 L0 0  Z\n",
       "  \" fill=\"#ffffff\" fill-rule=\"evenodd\" fill-opacity=\"1\"/>\n",
       "<defs>\n",
       "  <clipPath id=\"clip831\">\n",
       "    <rect x=\"480\" y=\"0\" width=\"1681\" height=\"1600\"/>\n",
       "  </clipPath>\n",
       "</defs>\n",
       "<defs>\n",
       "  <clipPath id=\"clip832\">\n",
       "    <rect x=\"220\" y=\"123\" width=\"2133\" height=\"1301\"/>\n",
       "  </clipPath>\n",
       "</defs>\n",
       "<path clip-path=\"url(#clip830)\" d=\"\n",
       "M220.409 1423.18 L2352.76 1423.18 L2352.76 123.472 L220.409 123.472  Z\n",
       "  \" fill=\"#ffffff\" fill-rule=\"evenodd\" fill-opacity=\"1\"/>\n",
       "<polyline clip-path=\"url(#clip832)\" style=\"stroke:#000000; stroke-linecap:butt; stroke-linejoin:round; stroke-width:2; stroke-opacity:0.1; fill:none\" points=\"\n",
       "  220.409,1423.18 220.409,123.472 \n",
       "  \"/>\n",
       "<polyline clip-path=\"url(#clip832)\" style=\"stroke:#000000; stroke-linecap:butt; stroke-linejoin:round; stroke-width:2; stroke-opacity:0.1; fill:none\" points=\"\n",
       "  753.496,1423.18 753.496,123.472 \n",
       "  \"/>\n",
       "<polyline clip-path=\"url(#clip832)\" style=\"stroke:#000000; stroke-linecap:butt; stroke-linejoin:round; stroke-width:2; stroke-opacity:0.1; fill:none\" points=\"\n",
       "  1286.58,1423.18 1286.58,123.472 \n",
       "  \"/>\n",
       "<polyline clip-path=\"url(#clip832)\" style=\"stroke:#000000; stroke-linecap:butt; stroke-linejoin:round; stroke-width:2; stroke-opacity:0.1; fill:none\" points=\"\n",
       "  1819.67,1423.18 1819.67,123.472 \n",
       "  \"/>\n",
       "<polyline clip-path=\"url(#clip832)\" style=\"stroke:#000000; stroke-linecap:butt; stroke-linejoin:round; stroke-width:2; stroke-opacity:0.1; fill:none\" points=\"\n",
       "  2352.76,1423.18 2352.76,123.472 \n",
       "  \"/>\n",
       "<polyline clip-path=\"url(#clip830)\" style=\"stroke:#000000; stroke-linecap:butt; stroke-linejoin:round; stroke-width:4; stroke-opacity:1; fill:none\" points=\"\n",
       "  220.409,1423.18 2352.76,1423.18 \n",
       "  \"/>\n",
       "<polyline clip-path=\"url(#clip830)\" style=\"stroke:#000000; stroke-linecap:butt; stroke-linejoin:round; stroke-width:4; stroke-opacity:1; fill:none\" points=\"\n",
       "  220.409,1423.18 220.409,1404.28 \n",
       "  \"/>\n",
       "<polyline clip-path=\"url(#clip830)\" style=\"stroke:#000000; stroke-linecap:butt; stroke-linejoin:round; stroke-width:4; stroke-opacity:1; fill:none\" points=\"\n",
       "  753.496,1423.18 753.496,1404.28 \n",
       "  \"/>\n",
       "<polyline clip-path=\"url(#clip830)\" style=\"stroke:#000000; stroke-linecap:butt; stroke-linejoin:round; stroke-width:4; stroke-opacity:1; fill:none\" points=\"\n",
       "  1286.58,1423.18 1286.58,1404.28 \n",
       "  \"/>\n",
       "<polyline clip-path=\"url(#clip830)\" style=\"stroke:#000000; stroke-linecap:butt; stroke-linejoin:round; stroke-width:4; stroke-opacity:1; fill:none\" points=\"\n",
       "  1819.67,1423.18 1819.67,1404.28 \n",
       "  \"/>\n",
       "<polyline clip-path=\"url(#clip830)\" style=\"stroke:#000000; stroke-linecap:butt; stroke-linejoin:round; stroke-width:4; stroke-opacity:1; fill:none\" points=\"\n",
       "  2352.76,1423.18 2352.76,1404.28 \n",
       "  \"/>\n",
       "<path clip-path=\"url(#clip830)\" d=\"M220.409 1454.1 Q216.798 1454.1 214.97 1457.66 Q213.164 1461.2 213.164 1468.33 Q213.164 1475.44 214.97 1479.01 Q216.798 1482.55 220.409 1482.55 Q224.044 1482.55 225.849 1479.01 Q227.678 1475.44 227.678 1468.33 Q227.678 1461.2 225.849 1457.66 Q224.044 1454.1 220.409 1454.1 M220.409 1450.39 Q226.22 1450.39 229.275 1455 Q232.354 1459.58 232.354 1468.33 Q232.354 1477.06 229.275 1481.67 Q226.22 1486.25 220.409 1486.25 Q214.599 1486.25 211.521 1481.67 Q208.465 1477.06 208.465 1468.33 Q208.465 1459.58 211.521 1455 Q214.599 1450.39 220.409 1450.39 Z\" fill=\"#000000\" fill-rule=\"evenodd\" fill-opacity=\"1\" /><path clip-path=\"url(#clip830)\" d=\"M743.774 1451.02 L762.13 1451.02 L762.13 1454.96 L748.056 1454.96 L748.056 1463.43 Q749.075 1463.08 750.093 1462.92 Q751.112 1462.73 752.13 1462.73 Q757.917 1462.73 761.297 1465.9 Q764.677 1469.08 764.677 1474.49 Q764.677 1480.07 761.204 1483.17 Q757.732 1486.25 751.413 1486.25 Q749.237 1486.25 746.968 1485.88 Q744.723 1485.51 742.316 1484.77 L742.316 1480.07 Q744.399 1481.2 746.621 1481.76 Q748.843 1482.32 751.32 1482.32 Q755.325 1482.32 757.663 1480.21 Q760.001 1478.1 760.001 1474.49 Q760.001 1470.88 757.663 1468.77 Q755.325 1466.67 751.32 1466.67 Q749.445 1466.67 747.57 1467.08 Q745.718 1467.5 743.774 1468.38 L743.774 1451.02 Z\" fill=\"#000000\" fill-rule=\"evenodd\" fill-opacity=\"1\" /><path clip-path=\"url(#clip830)\" d=\"M1261.27 1481.64 L1268.91 1481.64 L1268.91 1455.28 L1260.6 1456.95 L1260.6 1452.69 L1268.86 1451.02 L1273.54 1451.02 L1273.54 1481.64 L1281.18 1481.64 L1281.18 1485.58 L1261.27 1485.58 L1261.27 1481.64 Z\" fill=\"#000000\" fill-rule=\"evenodd\" fill-opacity=\"1\" /><path clip-path=\"url(#clip830)\" d=\"M1300.62 1454.1 Q1297.01 1454.1 1295.18 1457.66 Q1293.38 1461.2 1293.38 1468.33 Q1293.38 1475.44 1295.18 1479.01 Q1297.01 1482.55 1300.62 1482.55 Q1304.26 1482.55 1306.06 1479.01 Q1307.89 1475.44 1307.89 1468.33 Q1307.89 1461.2 1306.06 1457.66 Q1304.26 1454.1 1300.62 1454.1 M1300.62 1450.39 Q1306.43 1450.39 1309.49 1455 Q1312.57 1459.58 1312.57 1468.33 Q1312.57 1477.06 1309.49 1481.67 Q1306.43 1486.25 1300.62 1486.25 Q1294.81 1486.25 1291.73 1481.67 Q1288.68 1477.06 1288.68 1468.33 Q1288.68 1459.58 1291.73 1455 Q1294.81 1450.39 1300.62 1450.39 Z\" fill=\"#000000\" fill-rule=\"evenodd\" fill-opacity=\"1\" /><path clip-path=\"url(#clip830)\" d=\"M1794.85 1481.64 L1802.49 1481.64 L1802.49 1455.28 L1794.18 1456.95 L1794.18 1452.69 L1802.45 1451.02 L1807.12 1451.02 L1807.12 1481.64 L1814.76 1481.64 L1814.76 1485.58 L1794.85 1485.58 L1794.85 1481.64 Z\" fill=\"#000000\" fill-rule=\"evenodd\" fill-opacity=\"1\" /><path clip-path=\"url(#clip830)\" d=\"M1824.25 1451.02 L1842.61 1451.02 L1842.61 1454.96 L1828.53 1454.96 L1828.53 1463.43 Q1829.55 1463.08 1830.57 1462.92 Q1831.59 1462.73 1832.61 1462.73 Q1838.4 1462.73 1841.78 1465.9 Q1845.16 1469.08 1845.16 1474.49 Q1845.16 1480.07 1841.68 1483.17 Q1838.21 1486.25 1831.89 1486.25 Q1829.72 1486.25 1827.45 1485.88 Q1825.2 1485.51 1822.79 1484.77 L1822.79 1480.07 Q1824.88 1481.2 1827.1 1481.76 Q1829.32 1482.32 1831.8 1482.32 Q1835.8 1482.32 1838.14 1480.21 Q1840.48 1478.1 1840.48 1474.49 Q1840.48 1470.88 1838.14 1468.77 Q1835.8 1466.67 1831.8 1466.67 Q1829.92 1466.67 1828.05 1467.08 Q1826.2 1467.5 1824.25 1468.38 L1824.25 1451.02 Z\" fill=\"#000000\" fill-rule=\"evenodd\" fill-opacity=\"1\" /><path clip-path=\"url(#clip830)\" d=\"M2331.53 1481.64 L2347.85 1481.64 L2347.85 1485.58 L2325.9 1485.58 L2325.9 1481.64 Q2328.57 1478.89 2333.15 1474.26 Q2337.76 1469.61 2338.94 1468.27 Q2341.18 1465.74 2342.06 1464.01 Q2342.96 1462.25 2342.96 1460.56 Q2342.96 1457.8 2341.02 1456.07 Q2339.1 1454.33 2336 1454.33 Q2333.8 1454.33 2331.34 1455.09 Q2328.91 1455.86 2326.14 1457.41 L2326.14 1452.69 Q2328.96 1451.55 2331.41 1450.97 Q2333.87 1450.39 2335.9 1450.39 Q2341.27 1450.39 2344.47 1453.08 Q2347.66 1455.77 2347.66 1460.26 Q2347.66 1462.39 2346.85 1464.31 Q2346.07 1466.2 2343.96 1468.8 Q2343.38 1469.47 2340.28 1472.69 Q2337.18 1475.88 2331.53 1481.64 Z\" fill=\"#000000\" fill-rule=\"evenodd\" fill-opacity=\"1\" /><path clip-path=\"url(#clip830)\" d=\"M2367.66 1454.1 Q2364.05 1454.1 2362.22 1457.66 Q2360.42 1461.2 2360.42 1468.33 Q2360.42 1475.44 2362.22 1479.01 Q2364.05 1482.55 2367.66 1482.55 Q2371.3 1482.55 2373.1 1479.01 Q2374.93 1475.44 2374.93 1468.33 Q2374.93 1461.2 2373.1 1457.66 Q2371.3 1454.1 2367.66 1454.1 M2367.66 1450.39 Q2373.47 1450.39 2376.53 1455 Q2379.61 1459.58 2379.61 1468.33 Q2379.61 1477.06 2376.53 1481.67 Q2373.47 1486.25 2367.66 1486.25 Q2361.85 1486.25 2358.77 1481.67 Q2355.72 1477.06 2355.72 1468.33 Q2355.72 1459.58 2358.77 1455 Q2361.85 1450.39 2367.66 1450.39 Z\" fill=\"#000000\" fill-rule=\"evenodd\" fill-opacity=\"1\" /><path clip-path=\"url(#clip830)\" d=\"M1275.54 1511.55 Q1275.54 1512.87 1274.44 1512.87 Q1272.51 1512.94 1271.19 1513.32 Q1269.87 1513.68 1269.09 1514.39 Q1268.35 1515.1 1267.93 1515.87 Q1267.55 1516.61 1267.29 1517.74 L1261.43 1541.15 Q1259.75 1547.75 1254.34 1552.55 Q1248.93 1557.32 1242.78 1557.32 Q1239.27 1557.32 1236.34 1555.87 Q1233.44 1554.42 1231.64 1551.49 Q1229.84 1548.56 1229.84 1544.66 Q1229.84 1542.79 1230.32 1540.83 L1234.31 1524.53 L1235.79 1518.73 Q1236.89 1514.45 1236.89 1514.06 Q1236.89 1513.45 1236.5 1513.29 Q1236.15 1513.1 1235.12 1513 L1232.6 1512.87 Q1231.83 1512.87 1231.51 1512.84 Q1231.22 1512.81 1230.99 1512.65 Q1230.77 1512.49 1230.77 1512.13 Q1230.77 1511.68 1230.87 1511.39 Q1230.99 1511.07 1231.22 1510.97 Q1231.45 1510.88 1231.61 1510.84 Q1231.77 1510.81 1232.03 1510.81 L1240.53 1511.01 L1248.97 1510.81 Q1249.9 1510.81 1249.9 1511.55 Q1249.9 1512.49 1249.48 1512.68 Q1249.06 1512.87 1247.65 1512.87 Q1245.23 1512.87 1244.13 1513.2 Q1243.07 1513.48 1242.75 1514 Q1242.46 1514.48 1242.11 1515.9 L1235.7 1541.57 Q1235.37 1542.86 1235.18 1544.14 Q1235.02 1545.4 1235.02 1546.04 L1234.99 1546.69 Q1234.99 1550.78 1237.24 1553.03 Q1239.53 1555.29 1243.04 1555.29 Q1248.19 1555.29 1252.99 1551.2 Q1257.82 1547.11 1259.46 1540.7 L1265.39 1517.16 Q1265.58 1516.58 1265.58 1515.77 Q1265.58 1514.48 1264.62 1513.71 Q1263.68 1512.91 1261.11 1512.87 Q1259.92 1512.87 1259.92 1512.13 Q1259.92 1511.52 1260.14 1511.23 Q1260.4 1510.91 1260.59 1510.88 Q1260.82 1510.81 1261.11 1510.81 Q1262.2 1510.81 1264.52 1510.91 Q1266.84 1511.01 1267.97 1511.01 Q1269.09 1511.01 1271.35 1510.91 Q1273.6 1510.81 1274.7 1510.81 Q1275.08 1510.81 1275.28 1511.01 Q1275.5 1511.17 1275.54 1511.36 L1275.54 1511.55 Z\" fill=\"#000000\" fill-rule=\"evenodd\" fill-opacity=\"1\" /><path clip-path=\"url(#clip830)\" d=\"M1274.43 1571.42 Q1274.43 1571.1 1274.69 1570.39 L1297.97 1508.17 Q1297.97 1508.11 1298.13 1507.75 Q1298.29 1507.4 1298.39 1507.17 Q1298.49 1506.91 1298.68 1506.72 Q1298.91 1506.53 1299.16 1506.53 Q1299.81 1506.53 1299.81 1507.33 Q1299.81 1507.4 1299.61 1508.17 L1276.27 1570.46 Q1275.88 1571.58 1275.62 1571.91 Q1275.4 1572.23 1275.01 1572.23 Q1274.43 1572.23 1274.43 1571.42 Z\" fill=\"#000000\" fill-rule=\"evenodd\" fill-opacity=\"1\" /><path clip-path=\"url(#clip830)\" d=\"M1344.16 1511.62 Q1344.16 1512.23 1343.9 1512.52 Q1343.65 1512.78 1343.36 1512.84 Q1343.07 1512.87 1342.39 1512.87 Q1341.01 1512.87 1340.27 1512.97 Q1339.52 1513.07 1339.07 1513.48 Q1338.62 1513.87 1338.46 1514.26 Q1338.33 1514.64 1338.11 1515.64 L1330.38 1546.43 Q1329.19 1551.17 1324.87 1554.26 Q1320.56 1557.32 1315.82 1557.32 Q1311.96 1557.32 1309.51 1555.29 Q1307.09 1553.23 1307.09 1550.14 Q1307.09 1548.56 1307.61 1547.43 Q1308.12 1546.3 1308.9 1545.79 Q1309.67 1545.27 1310.31 1545.08 Q1310.99 1544.85 1311.54 1544.85 Q1312.6 1544.85 1313.5 1545.53 Q1314.44 1546.21 1314.44 1547.62 Q1314.44 1549.2 1313.21 1550.52 Q1311.99 1551.84 1310.15 1551.84 Q1309.54 1551.84 1309.35 1551.78 Q1309.83 1553.36 1311.09 1554.35 Q1312.34 1555.32 1313.44 1555.61 Q1314.57 1555.87 1315.63 1555.87 Q1318.4 1555.87 1321.2 1553.19 Q1324 1550.52 1325.13 1545.98 L1332.7 1515.71 Q1332.95 1514.68 1332.95 1514.32 Q1332.95 1513.65 1332.54 1513.42 Q1332.15 1513.16 1330.93 1513 Q1329.28 1512.87 1327.09 1512.87 Q1326.32 1512.87 1326 1512.87 Q1325.68 1512.84 1325.35 1512.78 Q1325.03 1512.71 1324.94 1512.58 Q1324.84 1512.42 1324.84 1512.13 Q1324.84 1511.52 1325.1 1511.23 Q1325.35 1510.91 1325.58 1510.88 Q1325.8 1510.81 1326.22 1510.81 L1335.92 1511.01 Q1336.75 1511.01 1339.59 1510.91 Q1342.42 1510.81 1343.26 1510.81 Q1344.16 1510.81 1344.16 1511.62 Z\" fill=\"#000000\" fill-rule=\"evenodd\" fill-opacity=\"1\" /><polyline clip-path=\"url(#clip832)\" style=\"stroke:#000000; stroke-linecap:butt; stroke-linejoin:round; stroke-width:2; stroke-opacity:0.1; fill:none\" points=\"\n",
       "  220.409,1423.18 2352.76,1423.18 \n",
       "  \"/>\n",
       "<polyline clip-path=\"url(#clip832)\" style=\"stroke:#000000; stroke-linecap:butt; stroke-linejoin:round; stroke-width:2; stroke-opacity:0.1; fill:none\" points=\"\n",
       "  220.409,1163.24 2352.76,1163.24 \n",
       "  \"/>\n",
       "<polyline clip-path=\"url(#clip832)\" style=\"stroke:#000000; stroke-linecap:butt; stroke-linejoin:round; stroke-width:2; stroke-opacity:0.1; fill:none\" points=\"\n",
       "  220.409,903.297 2352.76,903.297 \n",
       "  \"/>\n",
       "<polyline clip-path=\"url(#clip832)\" style=\"stroke:#000000; stroke-linecap:butt; stroke-linejoin:round; stroke-width:2; stroke-opacity:0.1; fill:none\" points=\"\n",
       "  220.409,643.355 2352.76,643.355 \n",
       "  \"/>\n",
       "<polyline clip-path=\"url(#clip832)\" style=\"stroke:#000000; stroke-linecap:butt; stroke-linejoin:round; stroke-width:2; stroke-opacity:0.1; fill:none\" points=\"\n",
       "  220.409,383.414 2352.76,383.414 \n",
       "  \"/>\n",
       "<polyline clip-path=\"url(#clip832)\" style=\"stroke:#000000; stroke-linecap:butt; stroke-linejoin:round; stroke-width:2; stroke-opacity:0.1; fill:none\" points=\"\n",
       "  220.409,123.472 2352.76,123.472 \n",
       "  \"/>\n",
       "<polyline clip-path=\"url(#clip830)\" style=\"stroke:#000000; stroke-linecap:butt; stroke-linejoin:round; stroke-width:4; stroke-opacity:1; fill:none\" points=\"\n",
       "  220.409,1423.18 220.409,123.472 \n",
       "  \"/>\n",
       "<polyline clip-path=\"url(#clip830)\" style=\"stroke:#000000; stroke-linecap:butt; stroke-linejoin:round; stroke-width:4; stroke-opacity:1; fill:none\" points=\"\n",
       "  220.409,1423.18 239.307,1423.18 \n",
       "  \"/>\n",
       "<polyline clip-path=\"url(#clip830)\" style=\"stroke:#000000; stroke-linecap:butt; stroke-linejoin:round; stroke-width:4; stroke-opacity:1; fill:none\" points=\"\n",
       "  220.409,1163.24 239.307,1163.24 \n",
       "  \"/>\n",
       "<polyline clip-path=\"url(#clip830)\" style=\"stroke:#000000; stroke-linecap:butt; stroke-linejoin:round; stroke-width:4; stroke-opacity:1; fill:none\" points=\"\n",
       "  220.409,903.297 239.307,903.297 \n",
       "  \"/>\n",
       "<polyline clip-path=\"url(#clip830)\" style=\"stroke:#000000; stroke-linecap:butt; stroke-linejoin:round; stroke-width:4; stroke-opacity:1; fill:none\" points=\"\n",
       "  220.409,643.355 239.307,643.355 \n",
       "  \"/>\n",
       "<polyline clip-path=\"url(#clip830)\" style=\"stroke:#000000; stroke-linecap:butt; stroke-linejoin:round; stroke-width:4; stroke-opacity:1; fill:none\" points=\"\n",
       "  220.409,383.414 239.307,383.414 \n",
       "  \"/>\n",
       "<polyline clip-path=\"url(#clip830)\" style=\"stroke:#000000; stroke-linecap:butt; stroke-linejoin:round; stroke-width:4; stroke-opacity:1; fill:none\" points=\"\n",
       "  220.409,123.472 239.307,123.472 \n",
       "  \"/>\n",
       "<path clip-path=\"url(#clip830)\" d=\"M127.234 1408.98 Q123.623 1408.98 121.794 1412.54 Q119.988 1416.08 119.988 1423.21 Q119.988 1430.32 121.794 1433.89 Q123.623 1437.43 127.234 1437.43 Q130.868 1437.43 132.674 1433.89 Q134.502 1430.32 134.502 1423.21 Q134.502 1416.08 132.674 1412.54 Q130.868 1408.98 127.234 1408.98 M127.234 1405.27 Q133.044 1405.27 136.099 1409.88 Q139.178 1414.46 139.178 1423.21 Q139.178 1431.94 136.099 1436.55 Q133.044 1441.13 127.234 1441.13 Q121.424 1441.13 118.345 1436.55 Q115.289 1431.94 115.289 1423.21 Q115.289 1414.46 118.345 1409.88 Q121.424 1405.27 127.234 1405.27 Z\" fill=\"#000000\" fill-rule=\"evenodd\" fill-opacity=\"1\" /><path clip-path=\"url(#clip830)\" d=\"M147.396 1434.58 L152.28 1434.58 L152.28 1440.46 L147.396 1440.46 L147.396 1434.58 Z\" fill=\"#000000\" fill-rule=\"evenodd\" fill-opacity=\"1\" /><path clip-path=\"url(#clip830)\" d=\"M172.465 1408.98 Q168.854 1408.98 167.025 1412.54 Q165.22 1416.08 165.22 1423.21 Q165.22 1430.32 167.025 1433.89 Q168.854 1437.43 172.465 1437.43 Q176.099 1437.43 177.905 1433.89 Q179.733 1430.32 179.733 1423.21 Q179.733 1416.08 177.905 1412.54 Q176.099 1408.98 172.465 1408.98 M172.465 1405.27 Q178.275 1405.27 181.331 1409.88 Q184.409 1414.46 184.409 1423.21 Q184.409 1431.94 181.331 1436.55 Q178.275 1441.13 172.465 1441.13 Q166.655 1441.13 163.576 1436.55 Q160.521 1431.94 160.521 1423.21 Q160.521 1414.46 163.576 1409.88 Q166.655 1405.27 172.465 1405.27 Z\" fill=\"#000000\" fill-rule=\"evenodd\" fill-opacity=\"1\" /><path clip-path=\"url(#clip830)\" d=\"M128.831 1149.04 Q125.22 1149.04 123.391 1152.6 Q121.586 1156.14 121.586 1163.27 Q121.586 1170.38 123.391 1173.94 Q125.22 1177.49 128.831 1177.49 Q132.465 1177.49 134.271 1173.94 Q136.099 1170.38 136.099 1163.27 Q136.099 1156.14 134.271 1152.6 Q132.465 1149.04 128.831 1149.04 M128.831 1145.33 Q134.641 1145.33 137.697 1149.94 Q140.775 1154.52 140.775 1163.27 Q140.775 1172 137.697 1176.61 Q134.641 1181.19 128.831 1181.19 Q123.021 1181.19 119.942 1176.61 Q116.887 1172 116.887 1163.27 Q116.887 1154.52 119.942 1149.94 Q123.021 1145.33 128.831 1145.33 Z\" fill=\"#000000\" fill-rule=\"evenodd\" fill-opacity=\"1\" /><path clip-path=\"url(#clip830)\" d=\"M148.993 1174.64 L153.877 1174.64 L153.877 1180.52 L148.993 1180.52 L148.993 1174.64 Z\" fill=\"#000000\" fill-rule=\"evenodd\" fill-opacity=\"1\" /><path clip-path=\"url(#clip830)\" d=\"M168.09 1176.58 L184.409 1176.58 L184.409 1180.52 L162.465 1180.52 L162.465 1176.58 Q165.127 1173.83 169.71 1169.2 Q174.317 1164.55 175.497 1163.2 Q177.743 1160.68 178.622 1158.94 Q179.525 1157.19 179.525 1155.5 Q179.525 1152.74 177.581 1151 Q175.659 1149.27 172.558 1149.27 Q170.359 1149.27 167.905 1150.03 Q165.474 1150.8 162.697 1152.35 L162.697 1147.62 Q165.521 1146.49 167.974 1145.91 Q170.428 1145.33 172.465 1145.33 Q177.835 1145.33 181.03 1148.02 Q184.224 1150.7 184.224 1155.19 Q184.224 1157.32 183.414 1159.25 Q182.627 1161.14 180.521 1163.74 Q179.942 1164.41 176.84 1167.62 Q173.738 1170.82 168.09 1176.58 Z\" fill=\"#000000\" fill-rule=\"evenodd\" fill-opacity=\"1\" /><path clip-path=\"url(#clip830)\" d=\"M126.748 889.095 Q123.137 889.095 121.308 892.66 Q119.502 896.202 119.502 903.331 Q119.502 910.438 121.308 914.003 Q123.137 917.544 126.748 917.544 Q130.382 917.544 132.187 914.003 Q134.016 910.438 134.016 903.331 Q134.016 896.202 132.187 892.66 Q130.382 889.095 126.748 889.095 M126.748 885.392 Q132.558 885.392 135.613 889.998 Q138.692 894.582 138.692 903.331 Q138.692 912.058 135.613 916.665 Q132.558 921.248 126.748 921.248 Q120.938 921.248 117.859 916.665 Q114.803 912.058 114.803 903.331 Q114.803 894.582 117.859 889.998 Q120.938 885.392 126.748 885.392 Z\" fill=\"#000000\" fill-rule=\"evenodd\" fill-opacity=\"1\" /><path clip-path=\"url(#clip830)\" d=\"M146.91 914.697 L151.794 914.697 L151.794 920.577 L146.91 920.577 L146.91 914.697 Z\" fill=\"#000000\" fill-rule=\"evenodd\" fill-opacity=\"1\" /><path clip-path=\"url(#clip830)\" d=\"M174.826 890.091 L163.021 908.54 L174.826 908.54 L174.826 890.091 M173.599 886.017 L179.479 886.017 L179.479 908.54 L184.409 908.54 L184.409 912.429 L179.479 912.429 L179.479 920.577 L174.826 920.577 L174.826 912.429 L159.224 912.429 L159.224 907.915 L173.599 886.017 Z\" fill=\"#000000\" fill-rule=\"evenodd\" fill-opacity=\"1\" /><path clip-path=\"url(#clip830)\" d=\"M127.072 629.154 Q123.461 629.154 121.632 632.719 Q119.826 636.26 119.826 643.39 Q119.826 650.496 121.632 654.061 Q123.461 657.603 127.072 657.603 Q130.706 657.603 132.512 654.061 Q134.34 650.496 134.34 643.39 Q134.34 636.26 132.512 632.719 Q130.706 629.154 127.072 629.154 M127.072 625.45 Q132.882 625.45 135.937 630.057 Q139.016 634.64 139.016 643.39 Q139.016 652.117 135.937 656.723 Q132.882 661.307 127.072 661.307 Q121.262 661.307 118.183 656.723 Q115.127 652.117 115.127 643.39 Q115.127 634.64 118.183 630.057 Q121.262 625.45 127.072 625.45 Z\" fill=\"#000000\" fill-rule=\"evenodd\" fill-opacity=\"1\" /><path clip-path=\"url(#clip830)\" d=\"M147.234 654.756 L152.118 654.756 L152.118 660.635 L147.234 660.635 L147.234 654.756 Z\" fill=\"#000000\" fill-rule=\"evenodd\" fill-opacity=\"1\" /><path clip-path=\"url(#clip830)\" d=\"M172.882 641.492 Q169.734 641.492 167.882 643.645 Q166.053 645.797 166.053 649.547 Q166.053 653.274 167.882 655.45 Q169.734 657.603 172.882 657.603 Q176.03 657.603 177.859 655.45 Q179.71 653.274 179.71 649.547 Q179.71 645.797 177.859 643.645 Q176.03 641.492 172.882 641.492 M182.164 626.839 L182.164 631.098 Q180.405 630.265 178.599 629.825 Q176.817 629.385 175.058 629.385 Q170.428 629.385 167.974 632.51 Q165.544 635.635 165.197 641.955 Q166.562 639.941 168.622 638.876 Q170.683 637.788 173.159 637.788 Q178.368 637.788 181.377 640.959 Q184.409 644.108 184.409 649.547 Q184.409 654.871 181.261 658.089 Q178.113 661.307 172.882 661.307 Q166.886 661.307 163.715 656.723 Q160.544 652.117 160.544 643.39 Q160.544 635.196 164.433 630.334 Q168.322 625.45 174.872 625.45 Q176.632 625.45 178.414 625.797 Q180.22 626.145 182.164 626.839 Z\" fill=\"#000000\" fill-rule=\"evenodd\" fill-opacity=\"1\" /><path clip-path=\"url(#clip830)\" d=\"M127.326 369.212 Q123.715 369.212 121.887 372.777 Q120.081 376.319 120.081 383.448 Q120.081 390.555 121.887 394.12 Q123.715 397.661 127.326 397.661 Q130.961 397.661 132.766 394.12 Q134.595 390.555 134.595 383.448 Q134.595 376.319 132.766 372.777 Q130.961 369.212 127.326 369.212 M127.326 365.509 Q133.137 365.509 136.192 370.115 Q139.271 374.698 139.271 383.448 Q139.271 392.175 136.192 396.782 Q133.137 401.365 127.326 401.365 Q121.516 401.365 118.438 396.782 Q115.382 392.175 115.382 383.448 Q115.382 374.698 118.438 370.115 Q121.516 365.509 127.326 365.509 Z\" fill=\"#000000\" fill-rule=\"evenodd\" fill-opacity=\"1\" /><path clip-path=\"url(#clip830)\" d=\"M147.488 394.814 L152.373 394.814 L152.373 400.694 L147.488 400.694 L147.488 394.814 Z\" fill=\"#000000\" fill-rule=\"evenodd\" fill-opacity=\"1\" /><path clip-path=\"url(#clip830)\" d=\"M172.558 384.282 Q169.224 384.282 167.303 386.064 Q165.405 387.847 165.405 390.971 Q165.405 394.096 167.303 395.879 Q169.224 397.661 172.558 397.661 Q175.891 397.661 177.812 395.879 Q179.733 394.073 179.733 390.971 Q179.733 387.847 177.812 386.064 Q175.914 384.282 172.558 384.282 M167.882 382.291 Q164.872 381.55 163.183 379.49 Q161.516 377.43 161.516 374.467 Q161.516 370.323 164.456 367.916 Q167.419 365.509 172.558 365.509 Q177.72 365.509 180.659 367.916 Q183.599 370.323 183.599 374.467 Q183.599 377.43 181.909 379.49 Q180.243 381.55 177.257 382.291 Q180.636 383.078 182.511 385.37 Q184.409 387.661 184.409 390.971 Q184.409 395.995 181.331 398.68 Q178.275 401.365 172.558 401.365 Q166.84 401.365 163.761 398.68 Q160.706 395.995 160.706 390.971 Q160.706 387.661 162.604 385.37 Q164.502 383.078 167.882 382.291 M166.169 374.907 Q166.169 377.592 167.835 379.097 Q169.525 380.601 172.558 380.601 Q175.567 380.601 177.257 379.097 Q178.97 377.592 178.97 374.907 Q178.97 372.222 177.257 370.717 Q175.567 369.212 172.558 369.212 Q169.525 369.212 167.835 370.717 Q166.169 372.222 166.169 374.907 Z\" fill=\"#000000\" fill-rule=\"evenodd\" fill-opacity=\"1\" /><path clip-path=\"url(#clip830)\" d=\"M118.044 136.817 L125.683 136.817 L125.683 110.451 L117.373 112.118 L117.373 107.859 L125.637 106.192 L130.312 106.192 L130.312 136.817 L137.951 136.817 L137.951 140.752 L118.044 140.752 L118.044 136.817 Z\" fill=\"#000000\" fill-rule=\"evenodd\" fill-opacity=\"1\" /><path clip-path=\"url(#clip830)\" d=\"M147.396 134.873 L152.28 134.873 L152.28 140.752 L147.396 140.752 L147.396 134.873 Z\" fill=\"#000000\" fill-rule=\"evenodd\" fill-opacity=\"1\" /><path clip-path=\"url(#clip830)\" d=\"M172.465 109.271 Q168.854 109.271 167.025 112.836 Q165.22 116.377 165.22 123.507 Q165.22 130.613 167.025 134.178 Q168.854 137.72 172.465 137.72 Q176.099 137.72 177.905 134.178 Q179.733 130.613 179.733 123.507 Q179.733 116.377 177.905 112.836 Q176.099 109.271 172.465 109.271 M172.465 105.567 Q178.275 105.567 181.331 110.174 Q184.409 114.757 184.409 123.507 Q184.409 132.234 181.331 136.84 Q178.275 141.423 172.465 141.423 Q166.655 141.423 163.576 136.84 Q160.521 132.234 160.521 123.507 Q160.521 114.757 163.576 110.174 Q166.655 105.567 172.465 105.567 Z\" fill=\"#000000\" fill-rule=\"evenodd\" fill-opacity=\"1\" /><path clip-path=\"url(#clip830)\" d=\"M18.0163 772.663 Q19.7876 772.663 20.8826 773.79 Q21.9776 774.885 21.9776 776.27 Q21.9776 777.268 21.3657 778.009 Q20.7538 778.717 19.691 778.717 Q18.596 778.717 17.4366 777.88 Q16.2772 777.043 16.1162 775.143 Q14.9246 776.399 14.9246 778.395 Q14.9246 779.394 15.5687 780.231 Q16.1806 781.036 17.179 781.487 Q18.2096 781.97 24.0388 783.065 Q25.939 783.419 27.7747 783.742 Q29.6104 784.064 31.5428 784.45 L31.5428 778.975 Q31.5428 778.267 31.575 777.977 Q31.6072 777.687 31.7682 777.461 Q31.9293 777.204 32.2835 777.204 Q33.1853 777.204 33.4107 777.622 Q33.604 778.009 33.604 779.168 L33.604 784.837 L54.5056 788.798 Q55.1175 788.894 57.0498 789.313 Q58.95 789.7 62.0739 790.634 Q65.2301 791.568 67.0981 792.502 Q68.1609 793.017 69.1592 793.693 Q70.1898 794.337 71.2204 795.271 Q72.251 796.205 72.8629 797.429 Q73.507 798.653 73.507 799.941 Q73.507 802.131 72.2832 803.838 Q71.0594 805.545 68.966 805.545 Q67.1947 805.545 66.0997 804.45 Q65.0047 803.323 65.0047 801.938 Q65.0047 800.939 65.6166 800.231 Q66.2285 799.49 67.2913 799.49 Q67.7422 799.49 68.2575 799.651 Q68.7728 799.812 69.3525 800.167 Q69.9644 800.521 70.3831 801.294 Q70.8017 802.067 70.8661 803.129 Q72.0578 801.873 72.0578 799.941 Q72.0578 799.329 71.8001 798.782 Q71.5747 798.234 70.995 797.783 Q70.4153 797.3 69.8356 796.946 Q69.2881 796.592 68.2253 796.237 Q67.1947 795.883 66.4217 795.658 Q65.6488 795.432 64.2639 795.142 Q62.8791 794.82 62.0417 794.659 Q61.2366 794.498 59.6585 794.208 L33.604 789.281 L33.604 793.629 Q33.604 794.402 33.5718 794.724 Q33.5396 795.014 33.3785 795.239 Q33.1853 795.464 32.7988 795.464 Q32.1869 795.464 31.9293 795.207 Q31.6394 794.917 31.6072 794.595 Q31.5428 794.273 31.5428 793.5 L31.5428 788.927 Q23.3947 787.381 21.2047 786.769 Q18.8859 786.06 17.2756 784.965 Q15.6331 783.87 14.8602 782.647 Q14.0872 781.423 13.7974 780.424 Q13.4753 779.394 13.4753 778.395 Q13.4753 776.141 14.6991 774.402 Q15.8907 772.663 18.0163 772.663 Z\" fill=\"#000000\" fill-rule=\"evenodd\" fill-opacity=\"1\" /><path clip-path=\"url(#clip830)\" d=\"M80.1557 748.155 Q80.3586 747.975 80.5615 747.975 Q80.7644 747.975 81.3506 748.426 Q81.9367 748.854 82.7258 749.778 Q83.5148 750.703 84.2588 751.897 Q85.0027 753.092 85.4987 754.851 Q86.0172 756.609 86.0172 758.458 Q86.0172 761.907 83.7402 763.936 Q81.4633 765.942 78.1944 765.942 Q75.0157 765.942 71.9722 764.161 Q68.9062 762.38 67.0125 759.495 Q65.0963 756.609 65.0963 753.566 Q65.0963 751.153 66.2235 749.643 Q67.3507 748.133 69.064 748.133 Q70.3941 748.133 71.2057 748.899 Q72.0173 749.666 72.0173 750.703 Q72.0173 751.424 71.6115 751.92 Q71.1832 752.416 70.3941 752.416 Q69.3797 752.416 68.5906 751.582 Q68.275 751.266 68.1397 750.905 Q67.9819 750.522 67.9819 750.297 Q67.9594 750.071 67.9594 749.553 Q67.0802 750.026 66.6067 751.153 Q66.1108 752.258 66.1108 753.521 Q66.1108 755.392 67.4183 757.173 Q68.7033 758.954 70.7323 760.036 Q72.7162 761.118 75.5342 761.817 Q78.3297 762.516 79.9528 762.516 Q82.1847 762.516 83.5824 761.479 Q84.9802 760.442 84.9802 758.368 Q84.9802 757.962 84.9576 757.533 Q84.9351 757.083 84.6871 755.955 Q84.4391 754.806 84.0108 753.791 Q83.5824 752.777 82.6581 751.492 Q81.7113 750.184 80.4263 749.147 Q79.9528 748.786 79.9528 748.538 Q79.9528 748.335 80.1557 748.155 Z\" fill=\"#000000\" fill-rule=\"evenodd\" fill-opacity=\"1\" /><path clip-path=\"url(#clip830)\" d=\"M819.493 12.096 L854.25 12.096 L854.25 18.9825 L827.676 18.9825 L827.676 36.8065 L851.657 36.8065 L851.657 43.6931 L827.676 43.6931 L827.676 72.576 L819.493 72.576 L819.493 12.096 Z\" fill=\"#000000\" fill-rule=\"evenodd\" fill-opacity=\"1\" /><path clip-path=\"url(#clip830)\" d=\"M887.143 34.1734 Q885.887 33.4443 884.389 33.1202 Q882.93 32.7556 881.148 32.7556 Q874.828 32.7556 871.426 36.8875 Q868.063 40.9789 868.063 48.6757 L868.063 72.576 L860.569 72.576 L860.569 27.2059 L868.063 27.2059 L868.063 34.2544 Q870.413 30.1225 874.18 28.1376 Q877.948 26.1121 883.335 26.1121 Q884.105 26.1121 885.037 26.2337 Q885.968 26.3147 887.103 26.5172 L887.143 34.1734 Z\" fill=\"#000000\" fill-rule=\"evenodd\" fill-opacity=\"1\" /><path clip-path=\"url(#clip830)\" d=\"M915.581 49.7694 Q906.547 49.7694 903.063 51.8354 Q899.58 53.9013 899.58 58.8839 Q899.58 62.8538 902.172 65.2034 Q904.805 67.5124 909.302 67.5124 Q915.5 67.5124 919.226 63.1374 Q922.994 58.7219 922.994 51.4303 L922.994 49.7694 L915.581 49.7694 M930.447 46.6907 L930.447 72.576 L922.994 72.576 L922.994 65.6895 Q920.442 69.8214 916.634 71.8063 Q912.826 73.7508 907.317 73.7508 Q900.349 73.7508 896.217 69.8619 Q892.126 65.9325 892.126 59.3701 Q892.126 51.7138 897.23 47.825 Q902.375 43.9361 912.542 43.9361 L922.994 43.9361 L922.994 43.2069 Q922.994 38.0623 919.591 35.2672 Q916.229 32.4315 910.112 32.4315 Q906.223 32.4315 902.537 33.3632 Q898.85 34.295 895.448 36.1584 L895.448 29.2718 Q899.539 27.692 903.387 26.9223 Q907.236 26.1121 910.882 26.1121 Q920.725 26.1121 925.586 31.2163 Q930.447 36.3204 930.447 46.6907 Z\" fill=\"#000000\" fill-rule=\"evenodd\" fill-opacity=\"1\" /><path clip-path=\"url(#clip830)\" d=\"M978.451 28.9478 L978.451 35.9153 Q975.291 34.1734 972.091 33.3227 Q968.931 32.4315 965.69 32.4315 Q958.439 32.4315 954.429 37.0496 Q950.418 41.6271 950.418 49.9314 Q950.418 58.2358 954.429 62.8538 Q958.439 67.4314 965.69 67.4314 Q968.931 67.4314 972.091 66.5807 Q975.291 65.6895 978.451 63.9476 L978.451 70.8341 Q975.331 72.2924 971.969 73.0216 Q968.647 73.7508 964.88 73.7508 Q954.631 73.7508 948.595 67.3098 Q942.56 60.8689 942.56 49.9314 Q942.56 38.832 948.636 32.472 Q954.753 26.1121 965.366 26.1121 Q968.809 26.1121 972.091 26.8413 Q975.372 27.5299 978.451 28.9478 Z\" fill=\"#000000\" fill-rule=\"evenodd\" fill-opacity=\"1\" /><path clip-path=\"url(#clip830)\" d=\"M998.786 14.324 L998.786 27.2059 L1014.14 27.2059 L1014.14 32.9987 L998.786 32.9987 L998.786 57.6282 Q998.786 63.1779 1000.28 64.7578 Q1001.82 66.3376 1006.48 66.3376 L1014.14 66.3376 L1014.14 72.576 L1006.48 72.576 Q997.854 72.576 994.573 69.3758 Q991.292 66.1351 991.292 57.6282 L991.292 32.9987 L985.823 32.9987 L985.823 27.2059 L991.292 27.2059 L991.292 14.324 L998.786 14.324 Z\" fill=\"#000000\" fill-rule=\"evenodd\" fill-opacity=\"1\" /><path clip-path=\"url(#clip830)\" d=\"M1023.94 27.2059 L1031.4 27.2059 L1031.4 72.576 L1023.94 72.576 L1023.94 27.2059 M1023.94 9.54393 L1031.4 9.54393 L1031.4 18.9825 L1023.94 18.9825 L1023.94 9.54393 Z\" fill=\"#000000\" fill-rule=\"evenodd\" fill-opacity=\"1\" /><path clip-path=\"url(#clip830)\" d=\"M1064.57 32.4315 Q1058.58 32.4315 1055.09 37.1306 Q1051.61 41.7891 1051.61 49.9314 Q1051.61 58.0738 1055.05 62.7728 Q1058.54 67.4314 1064.57 67.4314 Q1070.53 67.4314 1074.01 62.7323 Q1077.5 58.0333 1077.5 49.9314 Q1077.5 41.8701 1074.01 37.1711 Q1070.53 32.4315 1064.57 32.4315 M1064.57 26.1121 Q1074.3 26.1121 1079.84 32.4315 Q1085.39 38.7509 1085.39 49.9314 Q1085.39 61.0714 1079.84 67.4314 Q1074.3 73.7508 1064.57 73.7508 Q1054.81 73.7508 1049.26 67.4314 Q1043.75 61.0714 1043.75 49.9314 Q1043.75 38.7509 1049.26 32.4315 Q1054.81 26.1121 1064.57 26.1121 Z\" fill=\"#000000\" fill-rule=\"evenodd\" fill-opacity=\"1\" /><path clip-path=\"url(#clip830)\" d=\"M1135.46 45.1919 L1135.46 72.576 L1128.01 72.576 L1128.01 45.4349 Q1128.01 38.994 1125.5 35.7938 Q1122.99 32.5936 1117.96 32.5936 Q1111.93 32.5936 1108.44 36.4419 Q1104.96 40.2903 1104.96 46.9338 L1104.96 72.576 L1097.47 72.576 L1097.47 27.2059 L1104.96 27.2059 L1104.96 34.2544 Q1107.63 30.163 1111.24 28.1376 Q1114.89 26.1121 1119.62 26.1121 Q1127.44 26.1121 1131.45 30.9732 Q1135.46 35.7938 1135.46 45.1919 Z\" fill=\"#000000\" fill-rule=\"evenodd\" fill-opacity=\"1\" /><path clip-path=\"url(#clip830)\" d=\"M1194.28 32.4315 Q1188.29 32.4315 1184.8 37.1306 Q1181.32 41.7891 1181.32 49.9314 Q1181.32 58.0738 1184.76 62.7728 Q1188.25 67.4314 1194.28 67.4314 Q1200.24 67.4314 1203.72 62.7323 Q1207.21 58.0333 1207.21 49.9314 Q1207.21 41.8701 1203.72 37.1711 Q1200.24 32.4315 1194.28 32.4315 M1194.28 26.1121 Q1204 26.1121 1209.55 32.4315 Q1215.1 38.7509 1215.1 49.9314 Q1215.1 61.0714 1209.55 67.4314 Q1204 73.7508 1194.28 73.7508 Q1184.52 73.7508 1178.97 67.4314 Q1173.46 61.0714 1173.46 49.9314 Q1173.46 38.7509 1178.97 32.4315 Q1184.52 26.1121 1194.28 26.1121 Z\" fill=\"#000000\" fill-rule=\"evenodd\" fill-opacity=\"1\" /><path clip-path=\"url(#clip830)\" d=\"M1250.43 9.54393 L1250.43 15.7418 L1243.3 15.7418 Q1239.29 15.7418 1237.71 17.3622 Q1236.17 18.9825 1236.17 23.1955 L1236.17 27.2059 L1248.44 27.2059 L1248.44 32.9987 L1236.17 32.9987 L1236.17 72.576 L1228.67 72.576 L1228.67 32.9987 L1221.55 32.9987 L1221.55 27.2059 L1228.67 27.2059 L1228.67 24.0462 Q1228.67 16.471 1232.2 13.0277 Q1235.72 9.54393 1243.38 9.54393 L1250.43 9.54393 Z\" fill=\"#000000\" fill-rule=\"evenodd\" fill-opacity=\"1\" /><path clip-path=\"url(#clip830)\" d=\"M1315.69 28.9478 L1315.69 35.9153 Q1312.53 34.1734 1309.33 33.3227 Q1306.17 32.4315 1302.93 32.4315 Q1295.68 32.4315 1291.67 37.0496 Q1287.66 41.6271 1287.66 49.9314 Q1287.66 58.2358 1291.67 62.8538 Q1295.68 67.4314 1302.93 67.4314 Q1306.17 67.4314 1309.33 66.5807 Q1312.53 65.6895 1315.69 63.9476 L1315.69 70.8341 Q1312.57 72.2924 1309.21 73.0216 Q1305.89 73.7508 1302.12 73.7508 Q1291.87 73.7508 1285.83 67.3098 Q1279.8 60.8689 1279.8 49.9314 Q1279.8 38.832 1285.87 32.472 Q1291.99 26.1121 1302.6 26.1121 Q1306.05 26.1121 1309.33 26.8413 Q1312.61 27.5299 1315.69 28.9478 Z\" fill=\"#000000\" fill-rule=\"evenodd\" fill-opacity=\"1\" /><path clip-path=\"url(#clip830)\" d=\"M1346.23 32.4315 Q1340.24 32.4315 1336.75 37.1306 Q1333.27 41.7891 1333.27 49.9314 Q1333.27 58.0738 1336.71 62.7728 Q1340.2 67.4314 1346.23 67.4314 Q1352.19 67.4314 1355.67 62.7323 Q1359.15 58.0333 1359.15 49.9314 Q1359.15 41.8701 1355.67 37.1711 Q1352.19 32.4315 1346.23 32.4315 M1346.23 26.1121 Q1355.95 26.1121 1361.5 32.4315 Q1367.05 38.7509 1367.05 49.9314 Q1367.05 61.0714 1361.5 67.4314 Q1355.95 73.7508 1346.23 73.7508 Q1336.47 73.7508 1330.92 67.4314 Q1325.41 61.0714 1325.41 49.9314 Q1325.41 38.7509 1330.92 32.4315 Q1336.47 26.1121 1346.23 26.1121 Z\" fill=\"#000000\" fill-rule=\"evenodd\" fill-opacity=\"1\" /><path clip-path=\"url(#clip830)\" d=\"M1417.12 45.1919 L1417.12 72.576 L1409.67 72.576 L1409.67 45.4349 Q1409.67 38.994 1407.16 35.7938 Q1404.65 32.5936 1399.62 32.5936 Q1393.59 32.5936 1390.1 36.4419 Q1386.62 40.2903 1386.62 46.9338 L1386.62 72.576 L1379.13 72.576 L1379.13 27.2059 L1386.62 27.2059 L1386.62 34.2544 Q1389.29 30.163 1392.9 28.1376 Q1396.54 26.1121 1401.28 26.1121 Q1409.1 26.1121 1413.11 30.9732 Q1417.12 35.7938 1417.12 45.1919 Z\" fill=\"#000000\" fill-rule=\"evenodd\" fill-opacity=\"1\" /><path clip-path=\"url(#clip830)\" d=\"M1461.85 34.0924 L1461.85 9.54393 L1469.3 9.54393 L1469.3 72.576 L1461.85 72.576 L1461.85 65.7705 Q1459.5 69.8214 1455.89 71.8063 Q1452.33 73.7508 1447.3 73.7508 Q1439.08 73.7508 1433.89 67.1883 Q1428.75 60.6258 1428.75 49.9314 Q1428.75 39.2371 1433.89 32.6746 Q1439.08 26.1121 1447.3 26.1121 Q1452.33 26.1121 1455.89 28.0971 Q1459.5 30.0415 1461.85 34.0924 M1436.45 49.9314 Q1436.45 58.1548 1439.81 62.8538 Q1443.21 67.5124 1449.13 67.5124 Q1455.04 67.5124 1458.44 62.8538 Q1461.85 58.1548 1461.85 49.9314 Q1461.85 41.7081 1458.44 37.0496 Q1455.04 32.3505 1449.13 32.3505 Q1443.21 32.3505 1439.81 37.0496 Q1436.45 41.7081 1436.45 49.9314 Z\" fill=\"#000000\" fill-rule=\"evenodd\" fill-opacity=\"1\" /><path clip-path=\"url(#clip830)\" d=\"M1523.46 48.0275 L1523.46 51.6733 L1489.19 51.6733 Q1489.67 59.3701 1493.81 63.421 Q1497.98 67.4314 1505.39 67.4314 Q1509.69 67.4314 1513.7 66.3781 Q1517.75 65.3249 1521.72 63.2184 L1521.72 70.267 Q1517.71 71.9684 1513.49 72.8596 Q1509.28 73.7508 1504.95 73.7508 Q1494.09 73.7508 1487.73 67.4314 Q1481.41 61.1119 1481.41 50.3365 Q1481.41 39.1965 1487.41 32.6746 Q1493.44 26.1121 1503.65 26.1121 Q1512.81 26.1121 1518.11 32.0264 Q1523.46 37.9003 1523.46 48.0275 M1516.01 45.84 Q1515.92 39.7232 1512.56 36.0774 Q1509.24 32.4315 1503.73 32.4315 Q1497.49 32.4315 1493.73 35.9558 Q1490 39.4801 1489.43 45.8805 L1516.01 45.84 Z\" fill=\"#000000\" fill-rule=\"evenodd\" fill-opacity=\"1\" /><path clip-path=\"url(#clip830)\" d=\"M1573.41 45.1919 L1573.41 72.576 L1565.95 72.576 L1565.95 45.4349 Q1565.95 38.994 1563.44 35.7938 Q1560.93 32.5936 1555.91 32.5936 Q1549.87 32.5936 1546.39 36.4419 Q1542.9 40.2903 1542.9 46.9338 L1542.9 72.576 L1535.41 72.576 L1535.41 27.2059 L1542.9 27.2059 L1542.9 34.2544 Q1545.58 30.163 1549.18 28.1376 Q1552.83 26.1121 1557.57 26.1121 Q1565.39 26.1121 1569.4 30.9732 Q1573.41 35.7938 1573.41 45.1919 Z\" fill=\"#000000\" fill-rule=\"evenodd\" fill-opacity=\"1\" /><path clip-path=\"url(#clip830)\" d=\"M1617.2 28.5427 L1617.2 35.5912 Q1614.04 33.9709 1610.63 33.1607 Q1607.23 32.3505 1603.59 32.3505 Q1598.04 32.3505 1595.24 34.0519 Q1592.49 35.7533 1592.49 39.156 Q1592.49 41.7486 1594.47 43.2475 Q1596.46 44.7058 1602.45 46.0426 L1605 46.6097 Q1612.94 48.3111 1616.27 51.4303 Q1619.63 54.509 1619.63 60.0587 Q1619.63 66.3781 1614.6 70.0644 Q1609.62 73.7508 1600.87 73.7508 Q1597.23 73.7508 1593.26 73.0216 Q1589.33 72.3329 1584.95 70.9151 L1584.95 63.2184 Q1589.08 65.3654 1593.09 66.4591 Q1597.1 67.5124 1601.03 67.5124 Q1606.3 67.5124 1609.14 65.73 Q1611.97 63.9071 1611.97 60.6258 Q1611.97 57.5877 1609.91 55.9673 Q1607.88 54.3469 1600.95 52.8481 L1598.36 52.2405 Q1591.43 50.7821 1588.35 47.7845 Q1585.28 44.7463 1585.28 39.4801 Q1585.28 33.0797 1589.81 29.5959 Q1594.35 26.1121 1602.69 26.1121 Q1606.83 26.1121 1610.47 26.7198 Q1614.12 27.3274 1617.2 28.5427 Z\" fill=\"#000000\" fill-rule=\"evenodd\" fill-opacity=\"1\" /><path clip-path=\"url(#clip830)\" d=\"M1652.12 49.7694 Q1643.08 49.7694 1639.6 51.8354 Q1636.11 53.9013 1636.11 58.8839 Q1636.11 62.8538 1638.71 65.2034 Q1641.34 67.5124 1645.84 67.5124 Q1652.03 67.5124 1655.76 63.1374 Q1659.53 58.7219 1659.53 51.4303 L1659.53 49.7694 L1652.12 49.7694 M1666.98 46.6907 L1666.98 72.576 L1659.53 72.576 L1659.53 65.6895 Q1656.98 69.8214 1653.17 71.8063 Q1649.36 73.7508 1643.85 73.7508 Q1636.88 73.7508 1632.75 69.8619 Q1628.66 65.9325 1628.66 59.3701 Q1628.66 51.7138 1633.77 47.825 Q1638.91 43.9361 1649.08 43.9361 L1659.53 43.9361 L1659.53 43.2069 Q1659.53 38.0623 1656.13 35.2672 Q1652.76 32.4315 1646.65 32.4315 Q1642.76 32.4315 1639.07 33.3632 Q1635.39 34.295 1631.98 36.1584 L1631.98 29.2718 Q1636.07 27.692 1639.92 26.9223 Q1643.77 26.1121 1647.42 26.1121 Q1657.26 26.1121 1662.12 31.2163 Q1666.98 36.3204 1666.98 46.6907 Z\" fill=\"#000000\" fill-rule=\"evenodd\" fill-opacity=\"1\" /><path clip-path=\"url(#clip830)\" d=\"M1689.71 14.324 L1689.71 27.2059 L1705.06 27.2059 L1705.06 32.9987 L1689.71 32.9987 L1689.71 57.6282 Q1689.71 63.1779 1691.21 64.7578 Q1692.75 66.3376 1697.41 66.3376 L1705.06 66.3376 L1705.06 72.576 L1697.41 72.576 Q1688.78 72.576 1685.5 69.3758 Q1682.21 66.1351 1682.21 57.6282 L1682.21 32.9987 L1676.75 32.9987 L1676.75 27.2059 L1682.21 27.2059 L1682.21 14.324 L1689.71 14.324 Z\" fill=\"#000000\" fill-rule=\"evenodd\" fill-opacity=\"1\" /><path clip-path=\"url(#clip830)\" d=\"M1753.67 48.0275 L1753.67 51.6733 L1719.4 51.6733 Q1719.89 59.3701 1724.02 63.421 Q1728.19 67.4314 1735.61 67.4314 Q1739.9 67.4314 1743.91 66.3781 Q1747.96 65.3249 1751.93 63.2184 L1751.93 70.267 Q1747.92 71.9684 1743.71 72.8596 Q1739.49 73.7508 1735.16 73.7508 Q1724.3 73.7508 1717.94 67.4314 Q1711.62 61.1119 1711.62 50.3365 Q1711.62 39.1965 1717.62 32.6746 Q1723.65 26.1121 1733.86 26.1121 Q1743.02 26.1121 1748.32 32.0264 Q1753.67 37.9003 1753.67 48.0275 M1746.22 45.84 Q1746.14 39.7232 1742.78 36.0774 Q1739.45 32.4315 1733.94 32.4315 Q1727.71 32.4315 1723.94 35.9558 Q1720.21 39.4801 1719.64 45.8805 L1746.22 45.84 Z\" fill=\"#000000\" fill-rule=\"evenodd\" fill-opacity=\"1\" /><polyline clip-path=\"url(#clip832)\" style=\"stroke:#009af9; stroke-linecap:butt; stroke-linejoin:round; stroke-width:4; stroke-opacity:1; fill:none\" points=\"\n",
       "  220.409,123.472 273.718,147.167 327.027,182.217 380.335,219.189 433.644,257.523 486.953,297.911 540.261,341.599 593.57,390.143 646.879,444.979 700.187,506.667 \n",
       "  753.496,574.055 806.805,644.072 860.113,712.622 913.422,776.086 966.731,832.322 1020.04,880.721 1073.35,921.712 1126.66,956.213 1179.97,985.258 1233.27,1009.81 \n",
       "  1286.58,1030.7 1339.89,1048.61 1393.2,1064.07 1446.51,1077.53 1499.82,1089.33 1553.13,1099.74 1606.43,1108.99 1659.74,1117.25 1713.05,1124.68 1766.36,1131.39 \n",
       "  1819.67,1137.47 1872.98,1143.01 1926.29,1148.08 1979.6,1152.74 2032.9,1157.02 2086.21,1160.99 2139.52,1164.66 2192.83,1168.07 2246.14,1171.25 2299.45,1174.22 \n",
       "  2352.76,1177 \n",
       "  \"/>\n",
       "<path clip-path=\"url(#clip830)\" d=\"\n",
       "M1894.73 270.476 L2281.68 270.476 L2281.68 166.796 L1894.73 166.796  Z\n",
       "  \" fill=\"#ffffff\" fill-rule=\"evenodd\" fill-opacity=\"1\"/>\n",
       "<polyline clip-path=\"url(#clip830)\" style=\"stroke:#000000; stroke-linecap:butt; stroke-linejoin:round; stroke-width:4; stroke-opacity:1; fill:none\" points=\"\n",
       "  1894.73,270.476 2281.68,270.476 2281.68,166.796 1894.73,166.796 1894.73,270.476 \n",
       "  \"/>\n",
       "<polyline clip-path=\"url(#clip830)\" style=\"stroke:#009af9; stroke-linecap:butt; stroke-linejoin:round; stroke-width:4; stroke-opacity:1; fill:none\" points=\"\n",
       "  1918.42,218.636 2060.58,218.636 \n",
       "  \"/>\n",
       "<path clip-path=\"url(#clip830)\" d=\"M2096.12 219.504 Q2092.79 219.504 2090.87 221.286 Q2088.97 223.069 2088.97 226.194 Q2088.97 229.319 2090.87 231.101 Q2092.79 232.883 2096.12 232.883 Q2099.45 232.883 2101.38 231.101 Q2103.3 229.295 2103.3 226.194 Q2103.3 223.069 2101.38 221.286 Q2099.48 219.504 2096.12 219.504 M2091.45 217.513 Q2088.44 216.772 2086.75 214.712 Q2085.08 212.652 2085.08 209.689 Q2085.08 205.546 2088.02 203.138 Q2090.98 200.731 2096.12 200.731 Q2101.28 200.731 2104.22 203.138 Q2107.16 205.546 2107.16 209.689 Q2107.16 212.652 2105.47 214.712 Q2103.81 216.772 2100.82 217.513 Q2104.2 218.3 2106.08 220.592 Q2107.97 222.883 2107.97 226.194 Q2107.97 231.217 2104.89 233.902 Q2101.84 236.587 2096.12 236.587 Q2090.4 236.587 2087.33 233.902 Q2084.27 231.217 2084.27 226.194 Q2084.27 222.883 2086.17 220.592 Q2088.07 218.3 2091.45 217.513 M2089.73 210.129 Q2089.73 212.814 2091.4 214.319 Q2093.09 215.823 2096.12 215.823 Q2099.13 215.823 2100.82 214.319 Q2102.53 212.814 2102.53 210.129 Q2102.53 207.444 2100.82 205.939 Q2099.13 204.434 2096.12 204.434 Q2093.09 204.434 2091.4 205.939 Q2089.73 207.444 2089.73 210.129 Z\" fill=\"#000000\" fill-rule=\"evenodd\" fill-opacity=\"1\" /><path clip-path=\"url(#clip830)\" d=\"M2147.28 210.754 L2147.28 214.782 Q2145.47 213.856 2143.53 213.393 Q2141.58 212.93 2139.5 212.93 Q2136.33 212.93 2134.73 213.902 Q2133.16 214.874 2133.16 216.819 Q2133.16 218.3 2134.29 219.157 Q2135.43 219.99 2138.85 220.754 L2140.31 221.078 Q2144.85 222.05 2146.75 223.832 Q2148.67 225.592 2148.67 228.763 Q2148.67 232.374 2145.8 234.481 Q2142.95 236.587 2137.95 236.587 Q2135.87 236.587 2133.6 236.17 Q2131.35 235.777 2128.85 234.967 L2128.85 230.569 Q2131.21 231.795 2133.51 232.42 Q2135.8 233.022 2138.04 233.022 Q2141.05 233.022 2142.67 232.004 Q2144.29 230.962 2144.29 229.087 Q2144.29 227.351 2143.11 226.425 Q2141.95 225.499 2138 224.643 L2136.51 224.295 Q2132.56 223.462 2130.8 221.749 Q2129.04 220.013 2129.04 217.004 Q2129.04 213.346 2131.63 211.356 Q2134.22 209.365 2138.99 209.365 Q2141.35 209.365 2143.44 209.712 Q2145.52 210.059 2147.28 210.754 Z\" fill=\"#000000\" fill-rule=\"evenodd\" fill-opacity=\"1\" /><path clip-path=\"url(#clip830)\" d=\"M2155.45 209.99 L2159.71 209.99 L2159.71 235.916 L2155.45 235.916 L2155.45 209.99 M2155.45 199.897 L2159.71 199.897 L2159.71 205.291 L2155.45 205.291 L2155.45 199.897 Z\" fill=\"#000000\" fill-rule=\"evenodd\" fill-opacity=\"1\" /><path clip-path=\"url(#clip830)\" d=\"M2172.83 202.629 L2172.83 209.99 L2181.61 209.99 L2181.61 213.3 L2172.83 213.3 L2172.83 227.374 Q2172.83 230.545 2173.69 231.448 Q2174.57 232.351 2177.23 232.351 L2181.61 232.351 L2181.61 235.916 L2177.23 235.916 Q2172.3 235.916 2170.43 234.087 Q2168.55 232.235 2168.55 227.374 L2168.55 213.3 L2165.43 213.3 L2165.43 209.99 L2168.55 209.99 L2168.55 202.629 L2172.83 202.629 Z\" fill=\"#000000\" fill-rule=\"evenodd\" fill-opacity=\"1\" /><path clip-path=\"url(#clip830)\" d=\"M2209.38 221.888 L2209.38 223.971 L2189.8 223.971 Q2190.08 228.369 2192.44 230.684 Q2194.82 232.976 2199.06 232.976 Q2201.51 232.976 2203.81 232.374 Q2206.12 231.772 2208.39 230.569 L2208.39 234.596 Q2206.1 235.568 2203.69 236.078 Q2201.28 236.587 2198.81 236.587 Q2192.6 236.587 2188.97 232.976 Q2185.36 229.365 2185.36 223.207 Q2185.36 216.842 2188.78 213.115 Q2192.23 209.365 2198.07 209.365 Q2203.3 209.365 2206.33 212.745 Q2209.38 216.101 2209.38 221.888 M2205.13 220.638 Q2205.08 217.143 2203.16 215.059 Q2201.26 212.976 2198.11 212.976 Q2194.55 212.976 2192.39 214.99 Q2190.26 217.004 2189.94 220.661 L2205.13 220.638 Z\" fill=\"#000000\" fill-rule=\"evenodd\" fill-opacity=\"1\" /><path clip-path=\"url(#clip830)\" d=\"M2232.9 210.754 L2232.9 214.782 Q2231.1 213.856 2229.15 213.393 Q2227.21 212.93 2225.13 212.93 Q2221.95 212.93 2220.36 213.902 Q2218.78 214.874 2218.78 216.819 Q2218.78 218.3 2219.92 219.157 Q2221.05 219.99 2224.48 220.754 L2225.94 221.078 Q2230.47 222.05 2232.37 223.832 Q2234.29 225.592 2234.29 228.763 Q2234.29 232.374 2231.42 234.481 Q2228.57 236.587 2223.57 236.587 Q2221.49 236.587 2219.22 236.17 Q2216.98 235.777 2214.48 234.967 L2214.48 230.569 Q2216.84 231.795 2219.13 232.42 Q2221.42 233.022 2223.67 233.022 Q2226.68 233.022 2228.3 232.004 Q2229.92 230.962 2229.92 229.087 Q2229.92 227.351 2228.74 226.425 Q2227.58 225.499 2223.62 224.643 L2222.14 224.295 Q2218.18 223.462 2216.42 221.749 Q2214.66 220.013 2214.66 217.004 Q2214.66 213.346 2217.26 211.356 Q2219.85 209.365 2224.62 209.365 Q2226.98 209.365 2229.06 209.712 Q2231.14 210.059 2232.9 210.754 Z\" fill=\"#000000\" fill-rule=\"evenodd\" fill-opacity=\"1\" /></svg>\n"
      ]
     },
     "execution_count": 105,
     "metadata": {},
     "output_type": "execute_result"
    }
   ],
   "source": [
    "fconde = Vector{Float64}() \n",
    "variance = Vector{Float64}()  \n",
    "correlation = Vector{Float64}() \n",
    "for t in 0:0.5:20\n",
    "    J=1\n",
    "    U=t\n",
    "    diagscomp = [];\n",
    "    for j in 1:D \n",
    "        sumsdeocup = []; \n",
    "        for k in 1:M\n",
    "        push!(sumsdeocup, valdiags(k, v[j], M))\n",
    "        end  \n",
    "        push!(diagscomp, sum(sumsdeocup))    \n",
    "    end    \n",
    "    Vals = U*diagscomp\n",
    "    Hint = spzeros(D,D)\n",
    "    Hint[diagind(Hint)] = Vals; Hint  \n",
    "    Hkin = spzeros(D,D)\n",
    "    for j in 1:D\n",
    "        for k in 1:M  \n",
    "            for h in 1:M   \n",
    "                if k == h \n",
    "                    break \n",
    "                elseif creation_ann(k,h,v[j]) == 0 \n",
    "                    continue  \n",
    "                elseif abs(k-h)>=2 \n",
    "                    continue \n",
    "                else \n",
    "                    Hkin[DictOfInds[tag(creation_ann( k, h , v[j] )[2],M)], j] = -J*(creation_ann( k, h , v[j])[1])     \n",
    "                end  \n",
    "            end    \n",
    "            m=k+1 \n",
    "            if(m>M) \n",
    "                m=1 \n",
    "            end\n",
    "            if creation_ann(k,m,v[j]) == 0 \n",
    "                continue \n",
    "            end\n",
    "            Hkin[DictOfInds[tag(creation_ann( k, m , v[j] )[2],M)], j] = -J*(creation_ann( k, m , v[j])[1])  \n",
    "        end    \n",
    "    end    \n",
    "    Hkin = Symmetric(Hkin, :L) \n",
    "    H=Hkin+Hint\n",
    "    Eval, Evec = eigs(H,nev=1,which=:SR, v0 = ones(D))   \n",
    "    G = Evec[:,1]\n",
    "    SPDM = spzeros(M,M) \n",
    "    for k in 1:M \n",
    "        for h in 1:M   \n",
    "            if k == h \n",
    "                SPDM[k , k] = dot(G, matrixoccupation(k,D)*G) \n",
    "            else  \n",
    "                t = matrixofcreationann(k,h)*G\n",
    "                SPDM[k , h] = dot(G,t)  \n",
    "            end\n",
    "        end  \n",
    "    end   \n",
    "    SPDM = Symmetric(SPDM, :L) \n",
    "    \n",
    "    EvalSPDM, EvecSPDM = eigs(SPDM , nev=1, which =:LR, v0=ones(M))    \n",
    "    push!(fconde, real(EvalSPDM[1])/N)   \n",
    "    #Correlacion  \n",
    "    push!(correlation, dot(G, matrixofcreationann( 1 ,Int(floor(M/2)) )*G ) ) \n",
    "    #Varianza \n",
    "    v1 = matrixoccupation(6,D)\n",
    "    v2 = matrixoccupation(6,D)^2\n",
    "    push!(variance, sqrt(dot(G, v2*G) - (dot(G, v1*G))^2))  \n",
    "end        \n",
    "#save(\"dataforeight.jld\", \"data\", fconde)   ###save data of fconde\n",
    "t = 0:0.5:20\n",
    "plot(t,fconde, xlabel =L\"U/J\", ylabel=L\"f_c\", title = \"Fraction of condensate\", label = \"8 sites\", xlims=(0, 20), ylims=(0,1))\n",
    "#plot(t,variance, xlabel =L\"\\textrm{U/J}\", ylabel=L\"\\textrm{\\sigma_{i}}\", title= \"Variance\", labels = \"site 6\" )  \n",
    "#savefig(\"plot.png\")\n",
    "#plot(t, correlation, xlabel = \"U/J\", ylabel = \"ρ⁽¹⁾\")"
   ]
  },
  {
   "cell_type": "code",
   "execution_count": 106,
   "id": "9cdf38e3",
   "metadata": {},
   "outputs": [],
   "source": [
    "#load(\"dataforeight.jld\")[\"data\"]"
   ]
  },
  {
   "cell_type": "code",
   "execution_count": null,
   "id": "b4d6ca17",
   "metadata": {},
   "outputs": [],
   "source": []
  }
 ],
 "metadata": {
  "kernelspec": {
   "display_name": "Julia 1.6.6",
   "language": "julia",
   "name": "julia-1.6"
  },
  "language_info": {
   "file_extension": ".jl",
   "mimetype": "application/julia",
   "name": "julia",
   "version": "1.6.6"
  }
 },
 "nbformat": 4,
 "nbformat_minor": 5
}
