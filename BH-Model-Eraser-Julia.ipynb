{
 "cells": [
  {
   "cell_type": "markdown",
   "id": "b323389b",
   "metadata": {},
   "source": [
    "# Bose–Hubbard Model "
   ]
  },
  {
   "cell_type": "markdown",
   "id": "1e79dca2",
   "metadata": {},
   "source": [
    "The Hamiltonian of the one dimensional Bose–Hubbard model can be written as:"
   ]
  },
  {
   "cell_type": "markdown",
   "id": "bf9b7348",
   "metadata": {},
   "source": [
    "\n",
    "$$\\hat{H} = -t \\sum_{<i,j>} \\left(\\hat{a}_i^\\dagger\\hat{a}_j + \\hat{a}_j^\\dagger\\hat{a}_i\\right)\n",
    "          + \\frac{U}{2} \\sum_{i=1}^M  \\,\\hat{n}_i \\left(\\hat{n}_i - 1\\right)$$"
   ]
  },
  {
   "cell_type": "markdown",
   "id": "8606269b",
   "metadata": {},
   "source": [
    "where $\\hat{a}_i^\\dagger$ and $\\hat{a}_i$ are creation and annihilation operators, and \n",
    "$\\hat{n}_i=\\hat{a}_i^\\dagger\\hat{a}_i$ is the particle number operator, $M$ is the total numbers of the sites.\n"
   ]
  },
  {
   "cell_type": "code",
   "execution_count": 1,
   "id": "dcb25c26",
   "metadata": {},
   "outputs": [],
   "source": [
    "using LinearAlgebra \n",
    "using Plots #Graph\n",
    "using StaticArrays \n",
    "using SparseArrays \n",
    "using Arpack  #Eigenvalues and eigenvectors\n",
    "\n",
    "#definition of N,M,D\n",
    "global N=4\n",
    "global M=4\n",
    "global D=Int((factorial(M+N-1))/(factorial(M-1)*factorial(N)))  \n",
    "\n",
    "#primes function \n",
    "p(i)=100i+3 \n",
    "\n",
    "#Generate a basis for N=M=4 \n",
    "v = []\n",
    "for n1 in 0:N  \n",
    "    for n2 in 0:(N-n1)  \n",
    "        for n3 in 0:(N-n1-n2)  \n",
    "            for n4 in 0:(N-n1-n2-n3)\n",
    "            if n1+n2+n3+n4 != N\n",
    "                continue \n",
    "            end\n",
    "            pushfirst!(v, [n1,n2,n3,n4])  \n",
    "            end\n",
    "        end\n",
    "    end\n",
    "end    "
   ]
  },
  {
   "cell_type": "code",
   "execution_count": 25,
   "id": "29186e7e",
   "metadata": {},
   "outputs": [
    {
     "data": {
      "text/plain": [
       "tag (generic function with 1 method)"
      ]
     },
     "execution_count": 25,
     "metadata": {},
     "output_type": "execute_result"
    }
   ],
   "source": [
    "#tag function\n",
    "function tag(b,M)\n",
    "    tag=0;\n",
    "    for i in 1:M\n",
    "        tag += (√p(i))*b[i] \n",
    "    end\n",
    "    return tag \n",
    "end"
   ]
  },
  {
   "cell_type": "code",
   "execution_count": 26,
   "id": "4eb7f985",
   "metadata": {},
   "outputs": [
    {
     "data": {
      "text/plain": [
       "creation_ann (generic function with 1 method)"
      ]
     },
     "execution_count": 26,
     "metadata": {},
     "output_type": "execute_result"
    }
   ],
   "source": [
    "function creation_ann(k,j,v)     \n",
    "    if(v[j] >= 1) \n",
    "        b = copy(v)\n",
    "        value = sqrt(((b[k])+1)*b[j])\n",
    "        b[j] -= 1; \n",
    "        b[k] += 1;    \n",
    "        return [value , b]   \n",
    "    else \n",
    "        return 0; \n",
    "    end \n",
    "end   "
   ]
  },
  {
   "cell_type": "code",
   "execution_count": 27,
   "id": "60027f10",
   "metadata": {},
   "outputs": [
    {
     "data": {
      "text/plain": [
       "matrixofcreationann (generic function with 1 method)"
      ]
     },
     "execution_count": 27,
     "metadata": {},
     "output_type": "execute_result"
    }
   ],
   "source": [
    "function matrixofcreationann(i,k)\n",
    "    mat = spzeros(D,D)\n",
    "    for j in 1:D \n",
    "        if creation_ann(i,k,v[j]) == 0 \n",
    "           continue      \n",
    "        end\n",
    "        mat[DictOfInds[tag(creation_ann( i, k , v[j] )[2],M)], j] = creation_ann(i, k , v[j])[1] \n",
    "    end    \n",
    "    return mat\n",
    "end"
   ]
  },
  {
   "cell_type": "code",
   "execution_count": 28,
   "id": "7b4e2d8c",
   "metadata": {},
   "outputs": [
    {
     "data": {
      "text/plain": [
       "valdiags (generic function with 1 method)"
      ]
     },
     "execution_count": 28,
     "metadata": {},
     "output_type": "execute_result"
    }
   ],
   "source": [
    "#Valores de la diagonal de los numeros de ocupacion\n",
    "function valdiags(k, v, M)  \n",
    "    if(v[k] >= 1)  \n",
    "        return  (v[k]*(v[k]-1))/2  \n",
    "    else \n",
    "        return 0;\n",
    "    end  \n",
    "end       "
   ]
  },
  {
   "cell_type": "code",
   "execution_count": 29,
   "id": "c1a00338",
   "metadata": {},
   "outputs": [
    {
     "data": {
      "text/plain": [
       "occupation (generic function with 1 method)"
      ]
     },
     "execution_count": 29,
     "metadata": {},
     "output_type": "execute_result"
    }
   ],
   "source": [
    "function occupation(i, v) \n",
    "     if(v[i] >= 1)  \n",
    "        return  v[i]  \n",
    "    else \n",
    "        return 0;\n",
    "    end  \n",
    "end       "
   ]
  },
  {
   "cell_type": "code",
   "execution_count": 30,
   "id": "5db136e0",
   "metadata": {},
   "outputs": [
    {
     "data": {
      "text/plain": [
       "matrixoccupation (generic function with 1 method)"
      ]
     },
     "execution_count": 30,
     "metadata": {},
     "output_type": "execute_result"
    }
   ],
   "source": [
    "function matrixoccupation(k, D) \n",
    "    mat = spzeros(D,D)\n",
    "    for j in 1:D \n",
    "        mat[j,j] = occupation(k, v[j]) \n",
    "    end   \n",
    "    return mat \n",
    "end"
   ]
  },
  {
   "cell_type": "code",
   "execution_count": 31,
   "id": "6c66ac84",
   "metadata": {},
   "outputs": [
    {
     "name": "stdout",
     "output_type": "stream",
     "text": [
      "[3, 1, 0, 0]\n"
     ]
    }
   ],
   "source": [
    "println(v[2])"
   ]
  },
  {
   "cell_type": "code",
   "execution_count": 48,
   "id": "3c365aa9",
   "metadata": {},
   "outputs": [
    {
     "data": {
      "text/plain": [
       "35×35 SparseMatrixCSC{Float64, Int64} with 20 stored entries:\n",
       "⠑⢄⠀⠀⠀⠀⠀⠀⠀⠀⠀⠀⠀⠀⠀⠀⠀⠀\n",
       "⠀⠀⠑⢄⠀⠀⠀⠀⠀⠀⠀⠀⠀⠀⠀⠀⠀⠀\n",
       "⠀⠀⠀⠀⠑⢄⠀⠀⠀⠀⠀⠀⠀⠀⠀⠀⠀⠀\n",
       "⠀⠀⠀⠀⠀⠀⠑⢄⠀⠀⠀⠀⠀⠀⠀⠀⠀⠀\n",
       "⠀⠀⠀⠀⠀⠀⠀⠀⠑⢄⠀⠀⠀⠀⠀⠀⠀⠀\n",
       "⠀⠀⠀⠀⠀⠀⠀⠀⠀⠀⠀⠀⠀⠀⠀⠀⠀⠀\n",
       "⠀⠀⠀⠀⠀⠀⠀⠀⠀⠀⠀⠀⠀⠀⠀⠀⠀⠀\n",
       "⠀⠀⠀⠀⠀⠀⠀⠀⠀⠀⠀⠀⠀⠀⠀⠀⠀⠀\n",
       "⠀⠀⠀⠀⠀⠀⠀⠀⠀⠀⠀⠀⠀⠀⠀⠀⠀⠀"
      ]
     },
     "execution_count": 48,
     "metadata": {},
     "output_type": "execute_result"
    }
   ],
   "source": [
    "matrixoccupation(1,D)"
   ]
  },
  {
   "cell_type": "code",
   "execution_count": 49,
   "id": "161a407f",
   "metadata": {},
   "outputs": [],
   "source": [
    "#Array de tags \n",
    "T = []\n",
    "for i in 1:length(v) \n",
    "     push!(T,  tag( v[i] , M )) \n",
    "end"
   ]
  },
  {
   "cell_type": "code",
   "execution_count": 50,
   "id": "94e4174a",
   "metadata": {},
   "outputs": [
    {
     "data": {
      "text/plain": [
       "Dict{Float64, Int64} with 35 entries:\n",
       "  52.8923 => 11\n",
       "  57.7795 => 9\n",
       "  56.0514 => 12\n",
       "  60.1503 => 22\n",
       "  56.9912 => 21\n",
       "  72.2955 => 32\n",
       "  74.9635 => 33\n",
       "  61.8785 => 15\n",
       "  74.4724 => 30\n",
       "  65.9774 => 25\n",
       "  40.5956 => 1\n",
       "  67.7055 => 19\n",
       "  48.7934 => 5\n",
       "  71.8044 => 29\n",
       "  62.8183 => 23\n",
       "  80.2994 => 35\n",
       "  77.6315 => 34\n",
       "  50.5215 => 4\n",
       "  66.4685 => 27\n",
       "  44.6945 => 2\n",
       "  47.8536 => 3\n",
       "  63.3094 => 24\n",
       "  59.2105 => 14\n",
       "  69.6276 => 31\n",
       "  62.3696 => 17\n",
       "  ⋮       => ⋮"
      ]
     },
     "execution_count": 50,
     "metadata": {},
     "output_type": "execute_result"
    }
   ],
   "source": [
    "#Ordenamos y hacemos un diccionario Tsorted => indices\n",
    "inds = sortperm(T);\n",
    "Tsorted = T[inds];\n",
    "#DictOfInds = Dict(zip(Tsorted, inds)) \n",
    "DictOfInds = Dict(Tsorted .=> inds)"
   ]
  },
  {
   "cell_type": "code",
   "execution_count": 52,
   "id": "06ff77c8",
   "metadata": {},
   "outputs": [
    {
     "name": "stdout",
     "output_type": "stream",
     "text": [
      "Any[6.0, 3.0, 3.0, 3.0, 2.0, 1.0, 1.0, 2.0, 1.0, 2.0, 3.0, 1.0, 1.0, 1.0, 0.0, 1.0, 3.0, 1.0, 1.0, 3.0, 6.0, 3.0, 3.0, 2.0, 1.0, 2.0, 3.0, 1.0, 1.0, 3.0, 6.0, 3.0, 2.0, 3.0, 6.0]\n"
     ]
    },
    {
     "data": {
      "image/svg+xml": [
       "<?xml version=\"1.0\" encoding=\"utf-8\"?>\n",
       "<svg xmlns=\"http://www.w3.org/2000/svg\" xmlns:xlink=\"http://www.w3.org/1999/xlink\" width=\"600\" height=\"400\" viewBox=\"0 0 2400 1600\">\n",
       "<defs>\n",
       "  <clipPath id=\"clip330\">\n",
       "    <rect x=\"0\" y=\"0\" width=\"2400\" height=\"1600\"/>\n",
       "  </clipPath>\n",
       "</defs>\n",
       "<path clip-path=\"url(#clip330)\" d=\"\n",
       "M0 1600 L2400 1600 L2400 0 L0 0  Z\n",
       "  \" fill=\"#ffffff\" fill-rule=\"evenodd\" fill-opacity=\"1\"/>\n",
       "<defs>\n",
       "  <clipPath id=\"clip331\">\n",
       "    <rect x=\"480\" y=\"0\" width=\"1681\" height=\"1600\"/>\n",
       "  </clipPath>\n",
       "</defs>\n",
       "<path clip-path=\"url(#clip330)\" d=\"\n",
       "M407.124 1486.45 L1846.33 1486.45 L1846.33 47.2441 L407.124 47.2441  Z\n",
       "  \" fill=\"#ffffff\" fill-rule=\"evenodd\" fill-opacity=\"1\"/>\n",
       "<defs>\n",
       "  <clipPath id=\"clip332\">\n",
       "    <rect x=\"407\" y=\"47\" width=\"1440\" height=\"1440\"/>\n",
       "  </clipPath>\n",
       "</defs>\n",
       "<polyline clip-path=\"url(#clip330)\" style=\"stroke:#000000; stroke-linecap:butt; stroke-linejoin:round; stroke-width:4; stroke-opacity:1; fill:none\" points=\"\n",
       "  407.124,1486.45 1846.33,1486.45 \n",
       "  \"/>\n",
       "<polyline clip-path=\"url(#clip330)\" style=\"stroke:#000000; stroke-linecap:butt; stroke-linejoin:round; stroke-width:4; stroke-opacity:1; fill:none\" points=\"\n",
       "  407.923,1486.45 407.923,1467.55 \n",
       "  \"/>\n",
       "<polyline clip-path=\"url(#clip330)\" style=\"stroke:#000000; stroke-linecap:butt; stroke-linejoin:round; stroke-width:4; stroke-opacity:1; fill:none\" points=\"\n",
       "  807.258,1486.45 807.258,1467.55 \n",
       "  \"/>\n",
       "<polyline clip-path=\"url(#clip330)\" style=\"stroke:#000000; stroke-linecap:butt; stroke-linejoin:round; stroke-width:4; stroke-opacity:1; fill:none\" points=\"\n",
       "  1206.59,1486.45 1206.59,1467.55 \n",
       "  \"/>\n",
       "<polyline clip-path=\"url(#clip330)\" style=\"stroke:#000000; stroke-linecap:butt; stroke-linejoin:round; stroke-width:4; stroke-opacity:1; fill:none\" points=\"\n",
       "  1605.93,1486.45 1605.93,1467.55 \n",
       "  \"/>\n",
       "<path clip-path=\"url(#clip330)\" d=\"M407.923 1517.37 Q404.311 1517.37 402.483 1520.93 Q400.677 1524.47 400.677 1531.6 Q400.677 1538.71 402.483 1542.27 Q404.311 1545.82 407.923 1545.82 Q411.557 1545.82 413.362 1542.27 Q415.191 1538.71 415.191 1531.6 Q415.191 1524.47 413.362 1520.93 Q411.557 1517.37 407.923 1517.37 M407.923 1513.66 Q413.733 1513.66 416.788 1518.27 Q419.867 1522.85 419.867 1531.6 Q419.867 1540.33 416.788 1544.94 Q413.733 1549.52 407.923 1549.52 Q402.112 1549.52 399.034 1544.94 Q395.978 1540.33 395.978 1531.6 Q395.978 1522.85 399.034 1518.27 Q402.112 1513.66 407.923 1513.66 Z\" fill=\"#000000\" fill-rule=\"evenodd\" fill-opacity=\"1\" /><path clip-path=\"url(#clip330)\" d=\"M781.945 1544.91 L789.584 1544.91 L789.584 1518.55 L781.274 1520.21 L781.274 1515.95 L789.538 1514.29 L794.214 1514.29 L794.214 1544.91 L801.853 1544.91 L801.853 1548.85 L781.945 1548.85 L781.945 1544.91 Z\" fill=\"#000000\" fill-rule=\"evenodd\" fill-opacity=\"1\" /><path clip-path=\"url(#clip330)\" d=\"M821.297 1517.37 Q817.686 1517.37 815.857 1520.93 Q814.052 1524.47 814.052 1531.6 Q814.052 1538.71 815.857 1542.27 Q817.686 1545.82 821.297 1545.82 Q824.931 1545.82 826.737 1542.27 Q828.565 1538.71 828.565 1531.6 Q828.565 1524.47 826.737 1520.93 Q824.931 1517.37 821.297 1517.37 M821.297 1513.66 Q827.107 1513.66 830.163 1518.27 Q833.241 1522.85 833.241 1531.6 Q833.241 1540.33 830.163 1544.94 Q827.107 1549.52 821.297 1549.52 Q815.487 1549.52 812.408 1544.94 Q809.353 1540.33 809.353 1531.6 Q809.353 1522.85 812.408 1518.27 Q815.487 1513.66 821.297 1513.66 Z\" fill=\"#000000\" fill-rule=\"evenodd\" fill-opacity=\"1\" /><path clip-path=\"url(#clip330)\" d=\"M1185.37 1544.91 L1201.69 1544.91 L1201.69 1548.85 L1179.74 1548.85 L1179.74 1544.91 Q1182.4 1542.16 1186.99 1537.53 Q1191.59 1532.88 1192.77 1531.53 Q1195.02 1529.01 1195.9 1527.27 Q1196.8 1525.51 1196.8 1523.82 Q1196.8 1521.07 1194.86 1519.33 Q1192.94 1517.6 1189.83 1517.6 Q1187.63 1517.6 1185.18 1518.36 Q1182.75 1519.13 1179.97 1520.68 L1179.97 1515.95 Q1182.8 1514.82 1185.25 1514.24 Q1187.7 1513.66 1189.74 1513.66 Q1195.11 1513.66 1198.31 1516.35 Q1201.5 1519.03 1201.5 1523.52 Q1201.5 1525.65 1200.69 1527.57 Q1199.9 1529.47 1197.8 1532.07 Q1197.22 1532.74 1194.12 1535.95 Q1191.01 1539.15 1185.37 1544.91 Z\" fill=\"#000000\" fill-rule=\"evenodd\" fill-opacity=\"1\" /><path clip-path=\"url(#clip330)\" d=\"M1221.5 1517.37 Q1217.89 1517.37 1216.06 1520.93 Q1214.25 1524.47 1214.25 1531.6 Q1214.25 1538.71 1216.06 1542.27 Q1217.89 1545.82 1221.5 1545.82 Q1225.13 1545.82 1226.94 1542.27 Q1228.77 1538.71 1228.77 1531.6 Q1228.77 1524.47 1226.94 1520.93 Q1225.13 1517.37 1221.5 1517.37 M1221.5 1513.66 Q1227.31 1513.66 1230.37 1518.27 Q1233.44 1522.85 1233.44 1531.6 Q1233.44 1540.33 1230.37 1544.94 Q1227.31 1549.52 1221.5 1549.52 Q1215.69 1549.52 1212.61 1544.94 Q1209.56 1540.33 1209.56 1531.6 Q1209.56 1522.85 1212.61 1518.27 Q1215.69 1513.66 1221.5 1513.66 Z\" fill=\"#000000\" fill-rule=\"evenodd\" fill-opacity=\"1\" /><path clip-path=\"url(#clip330)\" d=\"M1594.77 1530.21 Q1598.13 1530.93 1600 1533.2 Q1601.9 1535.47 1601.9 1538.8 Q1601.9 1543.92 1598.38 1546.72 Q1594.86 1549.52 1588.38 1549.52 Q1586.21 1549.52 1583.89 1549.08 Q1581.6 1548.66 1579.15 1547.81 L1579.15 1543.29 Q1581.09 1544.43 1583.4 1545.01 Q1585.72 1545.58 1588.24 1545.58 Q1592.64 1545.58 1594.93 1543.85 Q1597.25 1542.11 1597.25 1538.8 Q1597.25 1535.75 1595.09 1534.03 Q1592.96 1532.3 1589.15 1532.3 L1585.12 1532.3 L1585.12 1528.45 L1589.33 1528.45 Q1592.78 1528.45 1594.61 1527.09 Q1596.44 1525.7 1596.44 1523.11 Q1596.44 1520.45 1594.54 1519.03 Q1592.66 1517.6 1589.15 1517.6 Q1587.22 1517.6 1585.03 1518.01 Q1582.83 1518.43 1580.19 1519.31 L1580.19 1515.14 Q1582.85 1514.4 1585.16 1514.03 Q1587.5 1513.66 1589.56 1513.66 Q1594.89 1513.66 1597.99 1516.09 Q1601.09 1518.5 1601.09 1522.62 Q1601.09 1525.49 1599.45 1527.48 Q1597.8 1529.45 1594.77 1530.21 Z\" fill=\"#000000\" fill-rule=\"evenodd\" fill-opacity=\"1\" /><path clip-path=\"url(#clip330)\" d=\"M1620.77 1517.37 Q1617.15 1517.37 1615.33 1520.93 Q1613.52 1524.47 1613.52 1531.6 Q1613.52 1538.71 1615.33 1542.27 Q1617.15 1545.82 1620.77 1545.82 Q1624.4 1545.82 1626.21 1542.27 Q1628.03 1538.71 1628.03 1531.6 Q1628.03 1524.47 1626.21 1520.93 Q1624.4 1517.37 1620.77 1517.37 M1620.77 1513.66 Q1626.58 1513.66 1629.63 1518.27 Q1632.71 1522.85 1632.71 1531.6 Q1632.71 1540.33 1629.63 1544.94 Q1626.58 1549.52 1620.77 1549.52 Q1614.96 1549.52 1611.88 1544.94 Q1608.82 1540.33 1608.82 1531.6 Q1608.82 1522.85 1611.88 1518.27 Q1614.96 1513.66 1620.77 1513.66 Z\" fill=\"#000000\" fill-rule=\"evenodd\" fill-opacity=\"1\" /><polyline clip-path=\"url(#clip330)\" style=\"stroke:#000000; stroke-linecap:butt; stroke-linejoin:round; stroke-width:4; stroke-opacity:1; fill:none\" points=\"\n",
       "  407.124,47.2441 407.124,1486.45 \n",
       "  \"/>\n",
       "<polyline clip-path=\"url(#clip330)\" style=\"stroke:#000000; stroke-linecap:butt; stroke-linejoin:round; stroke-width:4; stroke-opacity:1; fill:none\" points=\"\n",
       "  407.124,48.0428 419.419,48.0428 \n",
       "  \"/>\n",
       "<polyline clip-path=\"url(#clip330)\" style=\"stroke:#000000; stroke-linecap:butt; stroke-linejoin:round; stroke-width:4; stroke-opacity:1; fill:none\" points=\"\n",
       "  407.124,447.378 419.419,447.378 \n",
       "  \"/>\n",
       "<polyline clip-path=\"url(#clip330)\" style=\"stroke:#000000; stroke-linecap:butt; stroke-linejoin:round; stroke-width:4; stroke-opacity:1; fill:none\" points=\"\n",
       "  407.124,846.713 419.419,846.713 \n",
       "  \"/>\n",
       "<polyline clip-path=\"url(#clip330)\" style=\"stroke:#000000; stroke-linecap:butt; stroke-linejoin:round; stroke-width:4; stroke-opacity:1; fill:none\" points=\"\n",
       "  407.124,1246.05 419.419,1246.05 \n",
       "  \"/>\n",
       "<path clip-path=\"url(#clip330)\" d=\"M359.179 33.8415 Q355.568 33.8415 353.74 37.4062 Q351.934 40.9479 351.934 48.0775 Q351.934 55.1839 353.74 58.7487 Q355.568 62.2904 359.179 62.2904 Q362.814 62.2904 364.619 58.7487 Q366.448 55.1839 366.448 48.0775 Q366.448 40.9479 364.619 37.4062 Q362.814 33.8415 359.179 33.8415 M359.179 30.1378 Q364.99 30.1378 368.045 34.7442 Q371.124 39.3275 371.124 48.0775 Q371.124 56.8043 368.045 61.4107 Q364.99 65.9941 359.179 65.9941 Q353.369 65.9941 350.291 61.4107 Q347.235 56.8043 347.235 48.0775 Q347.235 39.3275 350.291 34.7442 Q353.369 30.1378 359.179 30.1378 Z\" fill=\"#000000\" fill-rule=\"evenodd\" fill-opacity=\"1\" /><path clip-path=\"url(#clip330)\" d=\"M319.828 460.723 L327.467 460.723 L327.467 434.357 L319.157 436.024 L319.157 431.765 L327.42 430.098 L332.096 430.098 L332.096 460.723 L339.735 460.723 L339.735 464.658 L319.828 464.658 L319.828 460.723 Z\" fill=\"#000000\" fill-rule=\"evenodd\" fill-opacity=\"1\" /><path clip-path=\"url(#clip330)\" d=\"M359.179 433.177 Q355.568 433.177 353.74 436.741 Q351.934 440.283 351.934 447.413 Q351.934 454.519 353.74 458.084 Q355.568 461.625 359.179 461.625 Q362.814 461.625 364.619 458.084 Q366.448 454.519 366.448 447.413 Q366.448 440.283 364.619 436.741 Q362.814 433.177 359.179 433.177 M359.179 429.473 Q364.99 429.473 368.045 434.079 Q371.124 438.663 371.124 447.413 Q371.124 456.139 368.045 460.746 Q364.99 465.329 359.179 465.329 Q353.369 465.329 350.291 460.746 Q347.235 456.139 347.235 447.413 Q347.235 438.663 350.291 434.079 Q353.369 429.473 359.179 429.473 Z\" fill=\"#000000\" fill-rule=\"evenodd\" fill-opacity=\"1\" /><path clip-path=\"url(#clip330)\" d=\"M323.045 860.058 L339.365 860.058 L339.365 863.993 L317.42 863.993 L317.42 860.058 Q320.082 857.303 324.666 852.674 Q329.272 848.021 330.453 846.678 Q332.698 844.155 333.578 842.419 Q334.481 840.66 334.481 838.97 Q334.481 836.215 332.536 834.479 Q330.615 832.743 327.513 832.743 Q325.314 832.743 322.86 833.507 Q320.43 834.271 317.652 835.822 L317.652 831.1 Q320.476 829.965 322.93 829.387 Q325.383 828.808 327.42 828.808 Q332.791 828.808 335.985 831.493 Q339.18 834.178 339.18 838.669 Q339.18 840.799 338.369 842.72 Q337.582 844.618 335.476 847.211 Q334.897 847.882 331.795 851.1 Q328.694 854.294 323.045 860.058 Z\" fill=\"#000000\" fill-rule=\"evenodd\" fill-opacity=\"1\" /><path clip-path=\"url(#clip330)\" d=\"M359.179 832.512 Q355.568 832.512 353.74 836.076 Q351.934 839.618 351.934 846.748 Q351.934 853.854 353.74 857.419 Q355.568 860.961 359.179 860.961 Q362.814 860.961 364.619 857.419 Q366.448 853.854 366.448 846.748 Q366.448 839.618 364.619 836.076 Q362.814 832.512 359.179 832.512 M359.179 828.808 Q364.99 828.808 368.045 833.414 Q371.124 837.998 371.124 846.748 Q371.124 855.475 368.045 860.081 Q364.99 864.664 359.179 864.664 Q353.369 864.664 350.291 860.081 Q347.235 855.475 347.235 846.748 Q347.235 837.998 350.291 833.414 Q353.369 828.808 359.179 828.808 Z\" fill=\"#000000\" fill-rule=\"evenodd\" fill-opacity=\"1\" /><path clip-path=\"url(#clip330)\" d=\"M333.184 1244.69 Q336.541 1245.41 338.416 1247.68 Q340.314 1249.95 340.314 1253.28 Q340.314 1258.4 336.795 1261.2 Q333.277 1264 326.795 1264 Q324.619 1264 322.305 1263.56 Q320.013 1263.14 317.559 1262.29 L317.559 1257.77 Q319.504 1258.91 321.819 1259.49 Q324.133 1260.06 326.656 1260.06 Q331.055 1260.06 333.346 1258.33 Q335.661 1256.59 335.661 1253.28 Q335.661 1250.23 333.508 1248.51 Q331.379 1246.78 327.559 1246.78 L323.531 1246.78 L323.531 1242.93 L327.744 1242.93 Q331.193 1242.93 333.022 1241.57 Q334.851 1240.18 334.851 1237.59 Q334.851 1234.93 332.953 1233.51 Q331.078 1232.08 327.559 1232.08 Q325.638 1232.08 323.439 1232.49 Q321.24 1232.91 318.601 1233.79 L318.601 1229.62 Q321.263 1228.88 323.578 1228.51 Q325.916 1228.14 327.976 1228.14 Q333.3 1228.14 336.402 1230.57 Q339.504 1232.98 339.504 1237.1 Q339.504 1239.97 337.86 1241.96 Q336.217 1243.93 333.184 1244.69 Z\" fill=\"#000000\" fill-rule=\"evenodd\" fill-opacity=\"1\" /><path clip-path=\"url(#clip330)\" d=\"M359.179 1231.85 Q355.568 1231.85 353.74 1235.41 Q351.934 1238.95 351.934 1246.08 Q351.934 1253.19 353.74 1256.75 Q355.568 1260.3 359.179 1260.3 Q362.814 1260.3 364.619 1256.75 Q366.448 1253.19 366.448 1246.08 Q366.448 1238.95 364.619 1235.41 Q362.814 1231.85 359.179 1231.85 M359.179 1228.14 Q364.99 1228.14 368.045 1232.75 Q371.124 1237.33 371.124 1246.08 Q371.124 1254.81 368.045 1259.42 Q364.99 1264 359.179 1264 Q353.369 1264 350.291 1259.42 Q347.235 1254.81 347.235 1246.08 Q347.235 1237.33 350.291 1232.75 Q353.369 1228.14 359.179 1228.14 Z\" fill=\"#000000\" fill-rule=\"evenodd\" fill-opacity=\"1\" /><circle clip-path=\"url(#clip332)\" cx=\"447.856\" cy=\"87.9763\" r=\"18\" fill=\"#fcfea4\" fill-rule=\"evenodd\" fill-opacity=\"1\" stroke=\"#000000\" stroke-opacity=\"1\" stroke-width=\"0\"/>\n",
       "<circle clip-path=\"url(#clip332)\" cx=\"447.856\" cy=\"127.91\" r=\"18\" fill=\"#31095d\" fill-rule=\"evenodd\" fill-opacity=\"1\" stroke=\"#000000\" stroke-opacity=\"1\" stroke-width=\"0\"/>\n",
       "<circle clip-path=\"url(#clip332)\" cx=\"487.79\" cy=\"87.9763\" r=\"18\" fill=\"#31095d\" fill-rule=\"evenodd\" fill-opacity=\"1\" stroke=\"#000000\" stroke-opacity=\"1\" stroke-width=\"0\"/>\n",
       "<circle clip-path=\"url(#clip332)\" cx=\"487.79\" cy=\"127.91\" r=\"18\" fill=\"#f1eb6d\" fill-rule=\"evenodd\" fill-opacity=\"1\" stroke=\"#000000\" stroke-opacity=\"1\" stroke-width=\"0\"/>\n",
       "<circle clip-path=\"url(#clip332)\" cx=\"487.79\" cy=\"167.843\" r=\"18\" fill=\"#c43c4d\" fill-rule=\"evenodd\" fill-opacity=\"1\" stroke=\"#000000\" stroke-opacity=\"1\" stroke-width=\"0\"/>\n",
       "<circle clip-path=\"url(#clip332)\" cx=\"487.79\" cy=\"247.71\" r=\"18\" fill=\"#000003\" fill-rule=\"evenodd\" fill-opacity=\"1\" stroke=\"#000000\" stroke-opacity=\"1\" stroke-width=\"0\"/>\n",
       "<circle clip-path=\"url(#clip332)\" cx=\"527.723\" cy=\"127.91\" r=\"18\" fill=\"#c43c4d\" fill-rule=\"evenodd\" fill-opacity=\"1\" stroke=\"#000000\" stroke-opacity=\"1\" stroke-width=\"0\"/>\n",
       "<circle clip-path=\"url(#clip332)\" cx=\"527.723\" cy=\"167.843\" r=\"18\" fill=\"#f1eb6d\" fill-rule=\"evenodd\" fill-opacity=\"1\" stroke=\"#000000\" stroke-opacity=\"1\" stroke-width=\"0\"/>\n",
       "<circle clip-path=\"url(#clip332)\" cx=\"527.723\" cy=\"207.777\" r=\"18\" fill=\"#c43c4d\" fill-rule=\"evenodd\" fill-opacity=\"1\" stroke=\"#000000\" stroke-opacity=\"1\" stroke-width=\"0\"/>\n",
       "<circle clip-path=\"url(#clip332)\" cx=\"527.723\" cy=\"287.644\" r=\"18\" fill=\"#5b116d\" fill-rule=\"evenodd\" fill-opacity=\"1\" stroke=\"#000000\" stroke-opacity=\"1\" stroke-width=\"0\"/>\n",
       "<circle clip-path=\"url(#clip332)\" cx=\"567.657\" cy=\"167.843\" r=\"18\" fill=\"#c43c4d\" fill-rule=\"evenodd\" fill-opacity=\"1\" stroke=\"#000000\" stroke-opacity=\"1\" stroke-width=\"0\"/>\n",
       "<circle clip-path=\"url(#clip332)\" cx=\"567.657\" cy=\"207.777\" r=\"18\" fill=\"#f1eb6d\" fill-rule=\"evenodd\" fill-opacity=\"1\" stroke=\"#000000\" stroke-opacity=\"1\" stroke-width=\"0\"/>\n",
       "<circle clip-path=\"url(#clip332)\" cx=\"567.657\" cy=\"327.577\" r=\"18\" fill=\"#5b116d\" fill-rule=\"evenodd\" fill-opacity=\"1\" stroke=\"#000000\" stroke-opacity=\"1\" stroke-width=\"0\"/>\n",
       "<circle clip-path=\"url(#clip332)\" cx=\"607.59\" cy=\"127.91\" r=\"18\" fill=\"#000003\" fill-rule=\"evenodd\" fill-opacity=\"1\" stroke=\"#000000\" stroke-opacity=\"1\" stroke-width=\"0\"/>\n",
       "<circle clip-path=\"url(#clip332)\" cx=\"607.59\" cy=\"247.71\" r=\"18\" fill=\"#f2e35b\" fill-rule=\"evenodd\" fill-opacity=\"1\" stroke=\"#000000\" stroke-opacity=\"1\" stroke-width=\"0\"/>\n",
       "<circle clip-path=\"url(#clip332)\" cx=\"607.59\" cy=\"287.644\" r=\"18\" fill=\"#892269\" fill-rule=\"evenodd\" fill-opacity=\"1\" stroke=\"#000000\" stroke-opacity=\"1\" stroke-width=\"0\"/>\n",
       "<circle clip-path=\"url(#clip332)\" cx=\"607.59\" cy=\"487.311\" r=\"18\" fill=\"#000003\" fill-rule=\"evenodd\" fill-opacity=\"1\" stroke=\"#000000\" stroke-opacity=\"1\" stroke-width=\"0\"/>\n",
       "<circle clip-path=\"url(#clip332)\" cx=\"647.524\" cy=\"167.843\" r=\"18\" fill=\"#5b116d\" fill-rule=\"evenodd\" fill-opacity=\"1\" stroke=\"#000000\" stroke-opacity=\"1\" stroke-width=\"0\"/>\n",
       "<circle clip-path=\"url(#clip332)\" cx=\"647.524\" cy=\"247.71\" r=\"18\" fill=\"#892269\" fill-rule=\"evenodd\" fill-opacity=\"1\" stroke=\"#000000\" stroke-opacity=\"1\" stroke-width=\"0\"/>\n",
       "<circle clip-path=\"url(#clip332)\" cx=\"647.524\" cy=\"287.644\" r=\"18\" fill=\"#f5da4b\" fill-rule=\"evenodd\" fill-opacity=\"1\" stroke=\"#000000\" stroke-opacity=\"1\" stroke-width=\"0\"/>\n",
       "<circle clip-path=\"url(#clip332)\" cx=\"647.524\" cy=\"327.577\" r=\"18\" fill=\"#c43c4d\" fill-rule=\"evenodd\" fill-opacity=\"1\" stroke=\"#000000\" stroke-opacity=\"1\" stroke-width=\"0\"/>\n",
       "<circle clip-path=\"url(#clip332)\" cx=\"647.524\" cy=\"367.511\" r=\"18\" fill=\"#892269\" fill-rule=\"evenodd\" fill-opacity=\"1\" stroke=\"#000000\" stroke-opacity=\"1\" stroke-width=\"0\"/>\n",
       "<circle clip-path=\"url(#clip332)\" cx=\"647.524\" cy=\"527.245\" r=\"18\" fill=\"#31095d\" fill-rule=\"evenodd\" fill-opacity=\"1\" stroke=\"#000000\" stroke-opacity=\"1\" stroke-width=\"0\"/>\n",
       "<circle clip-path=\"url(#clip332)\" cx=\"687.457\" cy=\"207.777\" r=\"18\" fill=\"#5b116d\" fill-rule=\"evenodd\" fill-opacity=\"1\" stroke=\"#000000\" stroke-opacity=\"1\" stroke-width=\"0\"/>\n",
       "<circle clip-path=\"url(#clip332)\" cx=\"687.457\" cy=\"287.644\" r=\"18\" fill=\"#c43c4d\" fill-rule=\"evenodd\" fill-opacity=\"1\" stroke=\"#000000\" stroke-opacity=\"1\" stroke-width=\"0\"/>\n",
       "<circle clip-path=\"url(#clip332)\" cx=\"687.457\" cy=\"327.577\" r=\"18\" fill=\"#f5da4b\" fill-rule=\"evenodd\" fill-opacity=\"1\" stroke=\"#000000\" stroke-opacity=\"1\" stroke-width=\"0\"/>\n",
       "<circle clip-path=\"url(#clip332)\" cx=\"687.457\" cy=\"407.444\" r=\"18\" fill=\"#c43c4d\" fill-rule=\"evenodd\" fill-opacity=\"1\" stroke=\"#000000\" stroke-opacity=\"1\" stroke-width=\"0\"/>\n",
       "<circle clip-path=\"url(#clip332)\" cx=\"687.457\" cy=\"567.178\" r=\"18\" fill=\"#31095d\" fill-rule=\"evenodd\" fill-opacity=\"1\" stroke=\"#000000\" stroke-opacity=\"1\" stroke-width=\"0\"/>\n",
       "<circle clip-path=\"url(#clip332)\" cx=\"727.391\" cy=\"287.644\" r=\"18\" fill=\"#892269\" fill-rule=\"evenodd\" fill-opacity=\"1\" stroke=\"#000000\" stroke-opacity=\"1\" stroke-width=\"0\"/>\n",
       "<circle clip-path=\"url(#clip332)\" cx=\"727.391\" cy=\"367.511\" r=\"18\" fill=\"#f2e35b\" fill-rule=\"evenodd\" fill-opacity=\"1\" stroke=\"#000000\" stroke-opacity=\"1\" stroke-width=\"0\"/>\n",
       "<circle clip-path=\"url(#clip332)\" cx=\"727.391\" cy=\"407.444\" r=\"18\" fill=\"#892269\" fill-rule=\"evenodd\" fill-opacity=\"1\" stroke=\"#000000\" stroke-opacity=\"1\" stroke-width=\"0\"/>\n",
       "<circle clip-path=\"url(#clip332)\" cx=\"727.391\" cy=\"607.112\" r=\"18\" fill=\"#892269\" fill-rule=\"evenodd\" fill-opacity=\"1\" stroke=\"#000000\" stroke-opacity=\"1\" stroke-width=\"0\"/>\n",
       "<circle clip-path=\"url(#clip332)\" cx=\"767.324\" cy=\"327.577\" r=\"18\" fill=\"#c43c4d\" fill-rule=\"evenodd\" fill-opacity=\"1\" stroke=\"#000000\" stroke-opacity=\"1\" stroke-width=\"0\"/>\n",
       "<circle clip-path=\"url(#clip332)\" cx=\"767.324\" cy=\"367.511\" r=\"18\" fill=\"#892269\" fill-rule=\"evenodd\" fill-opacity=\"1\" stroke=\"#000000\" stroke-opacity=\"1\" stroke-width=\"0\"/>\n",
       "<circle clip-path=\"url(#clip332)\" cx=\"767.324\" cy=\"407.444\" r=\"18\" fill=\"#f5da4b\" fill-rule=\"evenodd\" fill-opacity=\"1\" stroke=\"#000000\" stroke-opacity=\"1\" stroke-width=\"0\"/>\n",
       "<circle clip-path=\"url(#clip332)\" cx=\"767.324\" cy=\"447.378\" r=\"18\" fill=\"#892269\" fill-rule=\"evenodd\" fill-opacity=\"1\" stroke=\"#000000\" stroke-opacity=\"1\" stroke-width=\"0\"/>\n",
       "<circle clip-path=\"url(#clip332)\" cx=\"767.324\" cy=\"647.045\" r=\"18\" fill=\"#892269\" fill-rule=\"evenodd\" fill-opacity=\"1\" stroke=\"#000000\" stroke-opacity=\"1\" stroke-width=\"0\"/>\n",
       "<circle clip-path=\"url(#clip332)\" cx=\"807.258\" cy=\"407.444\" r=\"18\" fill=\"#892269\" fill-rule=\"evenodd\" fill-opacity=\"1\" stroke=\"#000000\" stroke-opacity=\"1\" stroke-width=\"0\"/>\n",
       "<circle clip-path=\"url(#clip332)\" cx=\"807.258\" cy=\"447.378\" r=\"18\" fill=\"#f2e35b\" fill-rule=\"evenodd\" fill-opacity=\"1\" stroke=\"#000000\" stroke-opacity=\"1\" stroke-width=\"0\"/>\n",
       "<circle clip-path=\"url(#clip332)\" cx=\"807.258\" cy=\"686.979\" r=\"18\" fill=\"#892269\" fill-rule=\"evenodd\" fill-opacity=\"1\" stroke=\"#000000\" stroke-opacity=\"1\" stroke-width=\"0\"/>\n",
       "<circle clip-path=\"url(#clip332)\" cx=\"847.191\" cy=\"247.71\" r=\"18\" fill=\"#000003\" fill-rule=\"evenodd\" fill-opacity=\"1\" stroke=\"#000000\" stroke-opacity=\"1\" stroke-width=\"0\"/>\n",
       "<circle clip-path=\"url(#clip332)\" cx=\"847.191\" cy=\"487.311\" r=\"18\" fill=\"#f1eb6d\" fill-rule=\"evenodd\" fill-opacity=\"1\" stroke=\"#000000\" stroke-opacity=\"1\" stroke-width=\"0\"/>\n",
       "<circle clip-path=\"url(#clip332)\" cx=\"847.191\" cy=\"527.245\" r=\"18\" fill=\"#5b116d\" fill-rule=\"evenodd\" fill-opacity=\"1\" stroke=\"#000000\" stroke-opacity=\"1\" stroke-width=\"0\"/>\n",
       "<circle clip-path=\"url(#clip332)\" cx=\"847.191\" cy=\"886.647\" r=\"18\" fill=\"#31095d\" fill-rule=\"evenodd\" fill-opacity=\"1\" stroke=\"#000000\" stroke-opacity=\"1\" stroke-width=\"0\"/>\n",
       "<circle clip-path=\"url(#clip332)\" cx=\"887.125\" cy=\"287.644\" r=\"18\" fill=\"#31095d\" fill-rule=\"evenodd\" fill-opacity=\"1\" stroke=\"#000000\" stroke-opacity=\"1\" stroke-width=\"0\"/>\n",
       "<circle clip-path=\"url(#clip332)\" cx=\"887.125\" cy=\"487.311\" r=\"18\" fill=\"#5b116d\" fill-rule=\"evenodd\" fill-opacity=\"1\" stroke=\"#000000\" stroke-opacity=\"1\" stroke-width=\"0\"/>\n",
       "<circle clip-path=\"url(#clip332)\" cx=\"887.125\" cy=\"527.245\" r=\"18\" fill=\"#f5da4b\" fill-rule=\"evenodd\" fill-opacity=\"1\" stroke=\"#000000\" stroke-opacity=\"1\" stroke-width=\"0\"/>\n",
       "<circle clip-path=\"url(#clip332)\" cx=\"887.125\" cy=\"567.178\" r=\"18\" fill=\"#c43c4d\" fill-rule=\"evenodd\" fill-opacity=\"1\" stroke=\"#000000\" stroke-opacity=\"1\" stroke-width=\"0\"/>\n",
       "<circle clip-path=\"url(#clip332)\" cx=\"887.125\" cy=\"607.112\" r=\"18\" fill=\"#31095d\" fill-rule=\"evenodd\" fill-opacity=\"1\" stroke=\"#000000\" stroke-opacity=\"1\" stroke-width=\"0\"/>\n",
       "<circle clip-path=\"url(#clip332)\" cx=\"887.125\" cy=\"926.58\" r=\"18\" fill=\"#5b116d\" fill-rule=\"evenodd\" fill-opacity=\"1\" stroke=\"#000000\" stroke-opacity=\"1\" stroke-width=\"0\"/>\n",
       "<circle clip-path=\"url(#clip332)\" cx=\"927.058\" cy=\"327.577\" r=\"18\" fill=\"#31095d\" fill-rule=\"evenodd\" fill-opacity=\"1\" stroke=\"#000000\" stroke-opacity=\"1\" stroke-width=\"0\"/>\n",
       "<circle clip-path=\"url(#clip332)\" cx=\"927.058\" cy=\"527.245\" r=\"18\" fill=\"#c43c4d\" fill-rule=\"evenodd\" fill-opacity=\"1\" stroke=\"#000000\" stroke-opacity=\"1\" stroke-width=\"0\"/>\n",
       "<circle clip-path=\"url(#clip332)\" cx=\"927.058\" cy=\"567.178\" r=\"18\" fill=\"#f5da4b\" fill-rule=\"evenodd\" fill-opacity=\"1\" stroke=\"#000000\" stroke-opacity=\"1\" stroke-width=\"0\"/>\n",
       "<circle clip-path=\"url(#clip332)\" cx=\"927.058\" cy=\"647.045\" r=\"18\" fill=\"#892269\" fill-rule=\"evenodd\" fill-opacity=\"1\" stroke=\"#000000\" stroke-opacity=\"1\" stroke-width=\"0\"/>\n",
       "<circle clip-path=\"url(#clip332)\" cx=\"927.058\" cy=\"966.514\" r=\"18\" fill=\"#5b116d\" fill-rule=\"evenodd\" fill-opacity=\"1\" stroke=\"#000000\" stroke-opacity=\"1\" stroke-width=\"0\"/>\n",
       "<circle clip-path=\"url(#clip332)\" cx=\"966.992\" cy=\"367.511\" r=\"18\" fill=\"#892269\" fill-rule=\"evenodd\" fill-opacity=\"1\" stroke=\"#000000\" stroke-opacity=\"1\" stroke-width=\"0\"/>\n",
       "<circle clip-path=\"url(#clip332)\" cx=\"966.992\" cy=\"527.245\" r=\"18\" fill=\"#31095d\" fill-rule=\"evenodd\" fill-opacity=\"1\" stroke=\"#000000\" stroke-opacity=\"1\" stroke-width=\"0\"/>\n",
       "<circle clip-path=\"url(#clip332)\" cx=\"966.992\" cy=\"607.112\" r=\"18\" fill=\"#f5da4b\" fill-rule=\"evenodd\" fill-opacity=\"1\" stroke=\"#000000\" stroke-opacity=\"1\" stroke-width=\"0\"/>\n",
       "<circle clip-path=\"url(#clip332)\" cx=\"966.992\" cy=\"647.045\" r=\"18\" fill=\"#892269\" fill-rule=\"evenodd\" fill-opacity=\"1\" stroke=\"#000000\" stroke-opacity=\"1\" stroke-width=\"0\"/>\n",
       "<circle clip-path=\"url(#clip332)\" cx=\"966.992\" cy=\"726.912\" r=\"18\" fill=\"#5b116d\" fill-rule=\"evenodd\" fill-opacity=\"1\" stroke=\"#000000\" stroke-opacity=\"1\" stroke-width=\"0\"/>\n",
       "<circle clip-path=\"url(#clip332)\" cx=\"966.992\" cy=\"1006.45\" r=\"18\" fill=\"#892269\" fill-rule=\"evenodd\" fill-opacity=\"1\" stroke=\"#000000\" stroke-opacity=\"1\" stroke-width=\"0\"/>\n",
       "<circle clip-path=\"url(#clip332)\" cx=\"1006.93\" cy=\"407.444\" r=\"18\" fill=\"#892269\" fill-rule=\"evenodd\" fill-opacity=\"1\" stroke=\"#000000\" stroke-opacity=\"1\" stroke-width=\"0\"/>\n",
       "<circle clip-path=\"url(#clip332)\" cx=\"1006.93\" cy=\"567.178\" r=\"18\" fill=\"#892269\" fill-rule=\"evenodd\" fill-opacity=\"1\" stroke=\"#000000\" stroke-opacity=\"1\" stroke-width=\"0\"/>\n",
       "<circle clip-path=\"url(#clip332)\" cx=\"1006.93\" cy=\"607.112\" r=\"18\" fill=\"#892269\" fill-rule=\"evenodd\" fill-opacity=\"1\" stroke=\"#000000\" stroke-opacity=\"1\" stroke-width=\"0\"/>\n",
       "<circle clip-path=\"url(#clip332)\" cx=\"1006.93\" cy=\"686.979\" r=\"18\" fill=\"#892269\" fill-rule=\"evenodd\" fill-opacity=\"1\" stroke=\"#000000\" stroke-opacity=\"1\" stroke-width=\"0\"/>\n",
       "<circle clip-path=\"url(#clip332)\" cx=\"1006.93\" cy=\"766.846\" r=\"18\" fill=\"#892269\" fill-rule=\"evenodd\" fill-opacity=\"1\" stroke=\"#000000\" stroke-opacity=\"1\" stroke-width=\"0\"/>\n",
       "<circle clip-path=\"url(#clip332)\" cx=\"1006.93\" cy=\"1046.38\" r=\"18\" fill=\"#892269\" fill-rule=\"evenodd\" fill-opacity=\"1\" stroke=\"#000000\" stroke-opacity=\"1\" stroke-width=\"0\"/>\n",
       "<circle clip-path=\"url(#clip332)\" cx=\"1046.86\" cy=\"447.378\" r=\"18\" fill=\"#892269\" fill-rule=\"evenodd\" fill-opacity=\"1\" stroke=\"#000000\" stroke-opacity=\"1\" stroke-width=\"0\"/>\n",
       "<circle clip-path=\"url(#clip332)\" cx=\"1046.86\" cy=\"647.045\" r=\"18\" fill=\"#892269\" fill-rule=\"evenodd\" fill-opacity=\"1\" stroke=\"#000000\" stroke-opacity=\"1\" stroke-width=\"0\"/>\n",
       "<circle clip-path=\"url(#clip332)\" cx=\"1046.86\" cy=\"686.979\" r=\"18\" fill=\"#f5da4b\" fill-rule=\"evenodd\" fill-opacity=\"1\" stroke=\"#000000\" stroke-opacity=\"1\" stroke-width=\"0\"/>\n",
       "<circle clip-path=\"url(#clip332)\" cx=\"1046.86\" cy=\"806.779\" r=\"18\" fill=\"#c43c4d\" fill-rule=\"evenodd\" fill-opacity=\"1\" stroke=\"#000000\" stroke-opacity=\"1\" stroke-width=\"0\"/>\n",
       "<circle clip-path=\"url(#clip332)\" cx=\"1046.86\" cy=\"1086.31\" r=\"18\" fill=\"#892269\" fill-rule=\"evenodd\" fill-opacity=\"1\" stroke=\"#000000\" stroke-opacity=\"1\" stroke-width=\"0\"/>\n",
       "<circle clip-path=\"url(#clip332)\" cx=\"1086.79\" cy=\"607.112\" r=\"18\" fill=\"#5b116d\" fill-rule=\"evenodd\" fill-opacity=\"1\" stroke=\"#000000\" stroke-opacity=\"1\" stroke-width=\"0\"/>\n",
       "<circle clip-path=\"url(#clip332)\" cx=\"1086.79\" cy=\"726.912\" r=\"18\" fill=\"#f1eb6d\" fill-rule=\"evenodd\" fill-opacity=\"1\" stroke=\"#000000\" stroke-opacity=\"1\" stroke-width=\"0\"/>\n",
       "<circle clip-path=\"url(#clip332)\" cx=\"1086.79\" cy=\"766.846\" r=\"18\" fill=\"#5b116d\" fill-rule=\"evenodd\" fill-opacity=\"1\" stroke=\"#000000\" stroke-opacity=\"1\" stroke-width=\"0\"/>\n",
       "<circle clip-path=\"url(#clip332)\" cx=\"1086.79\" cy=\"1126.25\" r=\"18\" fill=\"#c43c4d\" fill-rule=\"evenodd\" fill-opacity=\"1\" stroke=\"#000000\" stroke-opacity=\"1\" stroke-width=\"0\"/>\n",
       "<circle clip-path=\"url(#clip332)\" cx=\"1126.73\" cy=\"647.045\" r=\"18\" fill=\"#892269\" fill-rule=\"evenodd\" fill-opacity=\"1\" stroke=\"#000000\" stroke-opacity=\"1\" stroke-width=\"0\"/>\n",
       "<circle clip-path=\"url(#clip332)\" cx=\"1126.73\" cy=\"726.912\" r=\"18\" fill=\"#5b116d\" fill-rule=\"evenodd\" fill-opacity=\"1\" stroke=\"#000000\" stroke-opacity=\"1\" stroke-width=\"0\"/>\n",
       "<circle clip-path=\"url(#clip332)\" cx=\"1126.73\" cy=\"766.846\" r=\"18\" fill=\"#f5da4b\" fill-rule=\"evenodd\" fill-opacity=\"1\" stroke=\"#000000\" stroke-opacity=\"1\" stroke-width=\"0\"/>\n",
       "<circle clip-path=\"url(#clip332)\" cx=\"1126.73\" cy=\"806.779\" r=\"18\" fill=\"#31095d\" fill-rule=\"evenodd\" fill-opacity=\"1\" stroke=\"#000000\" stroke-opacity=\"1\" stroke-width=\"0\"/>\n",
       "<circle clip-path=\"url(#clip332)\" cx=\"1126.73\" cy=\"1166.18\" r=\"18\" fill=\"#c43c4d\" fill-rule=\"evenodd\" fill-opacity=\"1\" stroke=\"#000000\" stroke-opacity=\"1\" stroke-width=\"0\"/>\n",
       "<circle clip-path=\"url(#clip332)\" cx=\"1166.66\" cy=\"686.979\" r=\"18\" fill=\"#c43c4d\" fill-rule=\"evenodd\" fill-opacity=\"1\" stroke=\"#000000\" stroke-opacity=\"1\" stroke-width=\"0\"/>\n",
       "<circle clip-path=\"url(#clip332)\" cx=\"1166.66\" cy=\"766.846\" r=\"18\" fill=\"#31095d\" fill-rule=\"evenodd\" fill-opacity=\"1\" stroke=\"#000000\" stroke-opacity=\"1\" stroke-width=\"0\"/>\n",
       "<circle clip-path=\"url(#clip332)\" cx=\"1166.66\" cy=\"806.779\" r=\"18\" fill=\"#f5da4b\" fill-rule=\"evenodd\" fill-opacity=\"1\" stroke=\"#000000\" stroke-opacity=\"1\" stroke-width=\"0\"/>\n",
       "<circle clip-path=\"url(#clip332)\" cx=\"1166.66\" cy=\"846.713\" r=\"18\" fill=\"#5b116d\" fill-rule=\"evenodd\" fill-opacity=\"1\" stroke=\"#000000\" stroke-opacity=\"1\" stroke-width=\"0\"/>\n",
       "<circle clip-path=\"url(#clip332)\" cx=\"1166.66\" cy=\"1206.11\" r=\"18\" fill=\"#c43c4d\" fill-rule=\"evenodd\" fill-opacity=\"1\" stroke=\"#000000\" stroke-opacity=\"1\" stroke-width=\"0\"/>\n",
       "<circle clip-path=\"url(#clip332)\" cx=\"1206.59\" cy=\"806.779\" r=\"18\" fill=\"#5b116d\" fill-rule=\"evenodd\" fill-opacity=\"1\" stroke=\"#000000\" stroke-opacity=\"1\" stroke-width=\"0\"/>\n",
       "<circle clip-path=\"url(#clip332)\" cx=\"1206.59\" cy=\"846.713\" r=\"18\" fill=\"#f1eb6d\" fill-rule=\"evenodd\" fill-opacity=\"1\" stroke=\"#000000\" stroke-opacity=\"1\" stroke-width=\"0\"/>\n",
       "<circle clip-path=\"url(#clip332)\" cx=\"1206.59\" cy=\"1246.05\" r=\"18\" fill=\"#c43c4d\" fill-rule=\"evenodd\" fill-opacity=\"1\" stroke=\"#000000\" stroke-opacity=\"1\" stroke-width=\"0\"/>\n",
       "<circle clip-path=\"url(#clip332)\" cx=\"1246.53\" cy=\"487.311\" r=\"18\" fill=\"#31095d\" fill-rule=\"evenodd\" fill-opacity=\"1\" stroke=\"#000000\" stroke-opacity=\"1\" stroke-width=\"0\"/>\n",
       "<circle clip-path=\"url(#clip332)\" cx=\"1246.53\" cy=\"886.647\" r=\"18\" fill=\"#fcfea4\" fill-rule=\"evenodd\" fill-opacity=\"1\" stroke=\"#000000\" stroke-opacity=\"1\" stroke-width=\"0\"/>\n",
       "<circle clip-path=\"url(#clip332)\" cx=\"1246.53\" cy=\"926.58\" r=\"18\" fill=\"#31095d\" fill-rule=\"evenodd\" fill-opacity=\"1\" stroke=\"#000000\" stroke-opacity=\"1\" stroke-width=\"0\"/>\n",
       "<circle clip-path=\"url(#clip332)\" cx=\"1286.46\" cy=\"527.245\" r=\"18\" fill=\"#5b116d\" fill-rule=\"evenodd\" fill-opacity=\"1\" stroke=\"#000000\" stroke-opacity=\"1\" stroke-width=\"0\"/>\n",
       "<circle clip-path=\"url(#clip332)\" cx=\"1286.46\" cy=\"886.647\" r=\"18\" fill=\"#31095d\" fill-rule=\"evenodd\" fill-opacity=\"1\" stroke=\"#000000\" stroke-opacity=\"1\" stroke-width=\"0\"/>\n",
       "<circle clip-path=\"url(#clip332)\" cx=\"1286.46\" cy=\"926.58\" r=\"18\" fill=\"#f1eb6d\" fill-rule=\"evenodd\" fill-opacity=\"1\" stroke=\"#000000\" stroke-opacity=\"1\" stroke-width=\"0\"/>\n",
       "<circle clip-path=\"url(#clip332)\" cx=\"1286.46\" cy=\"966.514\" r=\"18\" fill=\"#c43c4d\" fill-rule=\"evenodd\" fill-opacity=\"1\" stroke=\"#000000\" stroke-opacity=\"1\" stroke-width=\"0\"/>\n",
       "<circle clip-path=\"url(#clip332)\" cx=\"1286.46\" cy=\"1006.45\" r=\"18\" fill=\"#000003\" fill-rule=\"evenodd\" fill-opacity=\"1\" stroke=\"#000000\" stroke-opacity=\"1\" stroke-width=\"0\"/>\n",
       "<circle clip-path=\"url(#clip332)\" cx=\"1326.39\" cy=\"567.178\" r=\"18\" fill=\"#5b116d\" fill-rule=\"evenodd\" fill-opacity=\"1\" stroke=\"#000000\" stroke-opacity=\"1\" stroke-width=\"0\"/>\n",
       "<circle clip-path=\"url(#clip332)\" cx=\"1326.39\" cy=\"926.58\" r=\"18\" fill=\"#c43c4d\" fill-rule=\"evenodd\" fill-opacity=\"1\" stroke=\"#000000\" stroke-opacity=\"1\" stroke-width=\"0\"/>\n",
       "<circle clip-path=\"url(#clip332)\" cx=\"1326.39\" cy=\"966.514\" r=\"18\" fill=\"#f1eb6d\" fill-rule=\"evenodd\" fill-opacity=\"1\" stroke=\"#000000\" stroke-opacity=\"1\" stroke-width=\"0\"/>\n",
       "<circle clip-path=\"url(#clip332)\" cx=\"1326.39\" cy=\"1046.38\" r=\"18\" fill=\"#5b116d\" fill-rule=\"evenodd\" fill-opacity=\"1\" stroke=\"#000000\" stroke-opacity=\"1\" stroke-width=\"0\"/>\n",
       "<circle clip-path=\"url(#clip332)\" cx=\"1366.33\" cy=\"607.112\" r=\"18\" fill=\"#892269\" fill-rule=\"evenodd\" fill-opacity=\"1\" stroke=\"#000000\" stroke-opacity=\"1\" stroke-width=\"0\"/>\n",
       "<circle clip-path=\"url(#clip332)\" cx=\"1366.33\" cy=\"926.58\" r=\"18\" fill=\"#000003\" fill-rule=\"evenodd\" fill-opacity=\"1\" stroke=\"#000000\" stroke-opacity=\"1\" stroke-width=\"0\"/>\n",
       "<circle clip-path=\"url(#clip332)\" cx=\"1366.33\" cy=\"1006.45\" r=\"18\" fill=\"#f2e35b\" fill-rule=\"evenodd\" fill-opacity=\"1\" stroke=\"#000000\" stroke-opacity=\"1\" stroke-width=\"0\"/>\n",
       "<circle clip-path=\"url(#clip332)\" cx=\"1366.33\" cy=\"1046.38\" r=\"18\" fill=\"#892269\" fill-rule=\"evenodd\" fill-opacity=\"1\" stroke=\"#000000\" stroke-opacity=\"1\" stroke-width=\"0\"/>\n",
       "<circle clip-path=\"url(#clip332)\" cx=\"1366.33\" cy=\"1126.25\" r=\"18\" fill=\"#000003\" fill-rule=\"evenodd\" fill-opacity=\"1\" stroke=\"#000000\" stroke-opacity=\"1\" stroke-width=\"0\"/>\n",
       "<circle clip-path=\"url(#clip332)\" cx=\"1406.26\" cy=\"647.045\" r=\"18\" fill=\"#892269\" fill-rule=\"evenodd\" fill-opacity=\"1\" stroke=\"#000000\" stroke-opacity=\"1\" stroke-width=\"0\"/>\n",
       "<circle clip-path=\"url(#clip332)\" cx=\"1406.26\" cy=\"966.514\" r=\"18\" fill=\"#5b116d\" fill-rule=\"evenodd\" fill-opacity=\"1\" stroke=\"#000000\" stroke-opacity=\"1\" stroke-width=\"0\"/>\n",
       "<circle clip-path=\"url(#clip332)\" cx=\"1406.26\" cy=\"1006.45\" r=\"18\" fill=\"#892269\" fill-rule=\"evenodd\" fill-opacity=\"1\" stroke=\"#000000\" stroke-opacity=\"1\" stroke-width=\"0\"/>\n",
       "<circle clip-path=\"url(#clip332)\" cx=\"1406.26\" cy=\"1046.38\" r=\"18\" fill=\"#f5da4b\" fill-rule=\"evenodd\" fill-opacity=\"1\" stroke=\"#000000\" stroke-opacity=\"1\" stroke-width=\"0\"/>\n",
       "<circle clip-path=\"url(#clip332)\" cx=\"1406.26\" cy=\"1086.31\" r=\"18\" fill=\"#892269\" fill-rule=\"evenodd\" fill-opacity=\"1\" stroke=\"#000000\" stroke-opacity=\"1\" stroke-width=\"0\"/>\n",
       "<circle clip-path=\"url(#clip332)\" cx=\"1406.26\" cy=\"1166.18\" r=\"18\" fill=\"#31095d\" fill-rule=\"evenodd\" fill-opacity=\"1\" stroke=\"#000000\" stroke-opacity=\"1\" stroke-width=\"0\"/>\n",
       "<circle clip-path=\"url(#clip332)\" cx=\"1446.19\" cy=\"686.979\" r=\"18\" fill=\"#892269\" fill-rule=\"evenodd\" fill-opacity=\"1\" stroke=\"#000000\" stroke-opacity=\"1\" stroke-width=\"0\"/>\n",
       "<circle clip-path=\"url(#clip332)\" cx=\"1446.19\" cy=\"1046.38\" r=\"18\" fill=\"#892269\" fill-rule=\"evenodd\" fill-opacity=\"1\" stroke=\"#000000\" stroke-opacity=\"1\" stroke-width=\"0\"/>\n",
       "<circle clip-path=\"url(#clip332)\" cx=\"1446.19\" cy=\"1086.31\" r=\"18\" fill=\"#f2e35b\" fill-rule=\"evenodd\" fill-opacity=\"1\" stroke=\"#000000\" stroke-opacity=\"1\" stroke-width=\"0\"/>\n",
       "<circle clip-path=\"url(#clip332)\" cx=\"1446.19\" cy=\"1206.11\" r=\"18\" fill=\"#892269\" fill-rule=\"evenodd\" fill-opacity=\"1\" stroke=\"#000000\" stroke-opacity=\"1\" stroke-width=\"0\"/>\n",
       "<circle clip-path=\"url(#clip332)\" cx=\"1486.13\" cy=\"726.912\" r=\"18\" fill=\"#c43c4d\" fill-rule=\"evenodd\" fill-opacity=\"1\" stroke=\"#000000\" stroke-opacity=\"1\" stroke-width=\"0\"/>\n",
       "<circle clip-path=\"url(#clip332)\" cx=\"1486.13\" cy=\"1006.45\" r=\"18\" fill=\"#000003\" fill-rule=\"evenodd\" fill-opacity=\"1\" stroke=\"#000000\" stroke-opacity=\"1\" stroke-width=\"0\"/>\n",
       "<circle clip-path=\"url(#clip332)\" cx=\"1486.13\" cy=\"1126.25\" r=\"18\" fill=\"#f1eb6d\" fill-rule=\"evenodd\" fill-opacity=\"1\" stroke=\"#000000\" stroke-opacity=\"1\" stroke-width=\"0\"/>\n",
       "<circle clip-path=\"url(#clip332)\" cx=\"1486.13\" cy=\"1166.18\" r=\"18\" fill=\"#5b116d\" fill-rule=\"evenodd\" fill-opacity=\"1\" stroke=\"#000000\" stroke-opacity=\"1\" stroke-width=\"0\"/>\n",
       "<circle clip-path=\"url(#clip332)\" cx=\"1486.13\" cy=\"1285.98\" r=\"18\" fill=\"#31095d\" fill-rule=\"evenodd\" fill-opacity=\"1\" stroke=\"#000000\" stroke-opacity=\"1\" stroke-width=\"0\"/>\n",
       "<circle clip-path=\"url(#clip332)\" cx=\"1526.06\" cy=\"766.846\" r=\"18\" fill=\"#c43c4d\" fill-rule=\"evenodd\" fill-opacity=\"1\" stroke=\"#000000\" stroke-opacity=\"1\" stroke-width=\"0\"/>\n",
       "<circle clip-path=\"url(#clip332)\" cx=\"1526.06\" cy=\"1046.38\" r=\"18\" fill=\"#31095d\" fill-rule=\"evenodd\" fill-opacity=\"1\" stroke=\"#000000\" stroke-opacity=\"1\" stroke-width=\"0\"/>\n",
       "<circle clip-path=\"url(#clip332)\" cx=\"1526.06\" cy=\"1126.25\" r=\"18\" fill=\"#5b116d\" fill-rule=\"evenodd\" fill-opacity=\"1\" stroke=\"#000000\" stroke-opacity=\"1\" stroke-width=\"0\"/>\n",
       "<circle clip-path=\"url(#clip332)\" cx=\"1526.06\" cy=\"1166.18\" r=\"18\" fill=\"#f5da4b\" fill-rule=\"evenodd\" fill-opacity=\"1\" stroke=\"#000000\" stroke-opacity=\"1\" stroke-width=\"0\"/>\n",
       "<circle clip-path=\"url(#clip332)\" cx=\"1526.06\" cy=\"1206.11\" r=\"18\" fill=\"#31095d\" fill-rule=\"evenodd\" fill-opacity=\"1\" stroke=\"#000000\" stroke-opacity=\"1\" stroke-width=\"0\"/>\n",
       "<circle clip-path=\"url(#clip332)\" cx=\"1526.06\" cy=\"1325.92\" r=\"18\" fill=\"#5b116d\" fill-rule=\"evenodd\" fill-opacity=\"1\" stroke=\"#000000\" stroke-opacity=\"1\" stroke-width=\"0\"/>\n",
       "<circle clip-path=\"url(#clip332)\" cx=\"1565.99\" cy=\"806.779\" r=\"18\" fill=\"#c43c4d\" fill-rule=\"evenodd\" fill-opacity=\"1\" stroke=\"#000000\" stroke-opacity=\"1\" stroke-width=\"0\"/>\n",
       "<circle clip-path=\"url(#clip332)\" cx=\"1565.99\" cy=\"1086.31\" r=\"18\" fill=\"#892269\" fill-rule=\"evenodd\" fill-opacity=\"1\" stroke=\"#000000\" stroke-opacity=\"1\" stroke-width=\"0\"/>\n",
       "<circle clip-path=\"url(#clip332)\" cx=\"1565.99\" cy=\"1166.18\" r=\"18\" fill=\"#31095d\" fill-rule=\"evenodd\" fill-opacity=\"1\" stroke=\"#000000\" stroke-opacity=\"1\" stroke-width=\"0\"/>\n",
       "<circle clip-path=\"url(#clip332)\" cx=\"1565.99\" cy=\"1206.11\" r=\"18\" fill=\"#f5da4b\" fill-rule=\"evenodd\" fill-opacity=\"1\" stroke=\"#000000\" stroke-opacity=\"1\" stroke-width=\"0\"/>\n",
       "<circle clip-path=\"url(#clip332)\" cx=\"1565.99\" cy=\"1246.05\" r=\"18\" fill=\"#5b116d\" fill-rule=\"evenodd\" fill-opacity=\"1\" stroke=\"#000000\" stroke-opacity=\"1\" stroke-width=\"0\"/>\n",
       "<circle clip-path=\"url(#clip332)\" cx=\"1565.99\" cy=\"1365.85\" r=\"18\" fill=\"#892269\" fill-rule=\"evenodd\" fill-opacity=\"1\" stroke=\"#000000\" stroke-opacity=\"1\" stroke-width=\"0\"/>\n",
       "<circle clip-path=\"url(#clip332)\" cx=\"1605.93\" cy=\"846.713\" r=\"18\" fill=\"#c43c4d\" fill-rule=\"evenodd\" fill-opacity=\"1\" stroke=\"#000000\" stroke-opacity=\"1\" stroke-width=\"0\"/>\n",
       "<circle clip-path=\"url(#clip332)\" cx=\"1605.93\" cy=\"1206.11\" r=\"18\" fill=\"#5b116d\" fill-rule=\"evenodd\" fill-opacity=\"1\" stroke=\"#000000\" stroke-opacity=\"1\" stroke-width=\"0\"/>\n",
       "<circle clip-path=\"url(#clip332)\" cx=\"1605.93\" cy=\"1246.05\" r=\"18\" fill=\"#f1eb6d\" fill-rule=\"evenodd\" fill-opacity=\"1\" stroke=\"#000000\" stroke-opacity=\"1\" stroke-width=\"0\"/>\n",
       "<circle clip-path=\"url(#clip332)\" cx=\"1605.93\" cy=\"1405.78\" r=\"18\" fill=\"#c43c4d\" fill-rule=\"evenodd\" fill-opacity=\"1\" stroke=\"#000000\" stroke-opacity=\"1\" stroke-width=\"0\"/>\n",
       "<circle clip-path=\"url(#clip332)\" cx=\"1645.86\" cy=\"1126.25\" r=\"18\" fill=\"#31095d\" fill-rule=\"evenodd\" fill-opacity=\"1\" stroke=\"#000000\" stroke-opacity=\"1\" stroke-width=\"0\"/>\n",
       "<circle clip-path=\"url(#clip332)\" cx=\"1645.86\" cy=\"1285.98\" r=\"18\" fill=\"#fcfea4\" fill-rule=\"evenodd\" fill-opacity=\"1\" stroke=\"#000000\" stroke-opacity=\"1\" stroke-width=\"0\"/>\n",
       "<circle clip-path=\"url(#clip332)\" cx=\"1645.86\" cy=\"1325.92\" r=\"18\" fill=\"#31095d\" fill-rule=\"evenodd\" fill-opacity=\"1\" stroke=\"#000000\" stroke-opacity=\"1\" stroke-width=\"0\"/>\n",
       "<circle clip-path=\"url(#clip332)\" cx=\"1685.79\" cy=\"1166.18\" r=\"18\" fill=\"#5b116d\" fill-rule=\"evenodd\" fill-opacity=\"1\" stroke=\"#000000\" stroke-opacity=\"1\" stroke-width=\"0\"/>\n",
       "<circle clip-path=\"url(#clip332)\" cx=\"1685.79\" cy=\"1285.98\" r=\"18\" fill=\"#31095d\" fill-rule=\"evenodd\" fill-opacity=\"1\" stroke=\"#000000\" stroke-opacity=\"1\" stroke-width=\"0\"/>\n",
       "<circle clip-path=\"url(#clip332)\" cx=\"1685.79\" cy=\"1325.92\" r=\"18\" fill=\"#f1eb6d\" fill-rule=\"evenodd\" fill-opacity=\"1\" stroke=\"#000000\" stroke-opacity=\"1\" stroke-width=\"0\"/>\n",
       "<circle clip-path=\"url(#clip332)\" cx=\"1685.79\" cy=\"1365.85\" r=\"18\" fill=\"#000003\" fill-rule=\"evenodd\" fill-opacity=\"1\" stroke=\"#000000\" stroke-opacity=\"1\" stroke-width=\"0\"/>\n",
       "<circle clip-path=\"url(#clip332)\" cx=\"1725.73\" cy=\"1206.11\" r=\"18\" fill=\"#892269\" fill-rule=\"evenodd\" fill-opacity=\"1\" stroke=\"#000000\" stroke-opacity=\"1\" stroke-width=\"0\"/>\n",
       "<circle clip-path=\"url(#clip332)\" cx=\"1725.73\" cy=\"1325.92\" r=\"18\" fill=\"#000003\" fill-rule=\"evenodd\" fill-opacity=\"1\" stroke=\"#000000\" stroke-opacity=\"1\" stroke-width=\"0\"/>\n",
       "<circle clip-path=\"url(#clip332)\" cx=\"1725.73\" cy=\"1365.85\" r=\"18\" fill=\"#f2e35b\" fill-rule=\"evenodd\" fill-opacity=\"1\" stroke=\"#000000\" stroke-opacity=\"1\" stroke-width=\"0\"/>\n",
       "<circle clip-path=\"url(#clip332)\" cx=\"1725.73\" cy=\"1405.78\" r=\"18\" fill=\"#000003\" fill-rule=\"evenodd\" fill-opacity=\"1\" stroke=\"#000000\" stroke-opacity=\"1\" stroke-width=\"0\"/>\n",
       "<circle clip-path=\"url(#clip332)\" cx=\"1765.66\" cy=\"1246.05\" r=\"18\" fill=\"#c43c4d\" fill-rule=\"evenodd\" fill-opacity=\"1\" stroke=\"#000000\" stroke-opacity=\"1\" stroke-width=\"0\"/>\n",
       "<circle clip-path=\"url(#clip332)\" cx=\"1765.66\" cy=\"1365.85\" r=\"18\" fill=\"#000003\" fill-rule=\"evenodd\" fill-opacity=\"1\" stroke=\"#000000\" stroke-opacity=\"1\" stroke-width=\"0\"/>\n",
       "<circle clip-path=\"url(#clip332)\" cx=\"1765.66\" cy=\"1405.78\" r=\"18\" fill=\"#f1eb6d\" fill-rule=\"evenodd\" fill-opacity=\"1\" stroke=\"#000000\" stroke-opacity=\"1\" stroke-width=\"0\"/>\n",
       "<circle clip-path=\"url(#clip332)\" cx=\"1765.66\" cy=\"1445.72\" r=\"18\" fill=\"#31095d\" fill-rule=\"evenodd\" fill-opacity=\"1\" stroke=\"#000000\" stroke-opacity=\"1\" stroke-width=\"0\"/>\n",
       "<circle clip-path=\"url(#clip332)\" cx=\"1805.6\" cy=\"1405.78\" r=\"18\" fill=\"#31095d\" fill-rule=\"evenodd\" fill-opacity=\"1\" stroke=\"#000000\" stroke-opacity=\"1\" stroke-width=\"0\"/>\n",
       "<circle clip-path=\"url(#clip332)\" cx=\"1805.6\" cy=\"1445.72\" r=\"18\" fill=\"#fcfea4\" fill-rule=\"evenodd\" fill-opacity=\"1\" stroke=\"#000000\" stroke-opacity=\"1\" stroke-width=\"0\"/>\n",
       "<defs>\n",
       "  <clipPath id=\"clip333\">\n",
       "    <rect x=\"1894\" y=\"47\" width=\"73\" height=\"1440\"/>\n",
       "  </clipPath>\n",
       "</defs>\n",
       "<g clip-path=\"url(#clip333)\">\n",
       "<image width=\"72\" height=\"1439\" xlink:href=\"data:image/png;base64,\n",
       "iVBORw0KGgoAAAANSUhEUgAAAEgAAAWfCAYAAAAI7rB3AAAMWUlEQVR4nO3dwY0rRxAFwaZQ/lsh\n",
       "L6XfLQtUeSQPERYsEg8c9MyQ+/n3/v0O/+uvb/8Bv06gIFAQKAgU5r5/v/03/DQLCgIFgYJAQaAw\n",
       "7/359t/w0ywoCBQECgIFR41gQUGgIFAQKAgU5rmKrSwoCBQECgIFgcK86yq2saAgUBAoCBQcNYIF\n",
       "BYGCQEGgIFBwFQsWFAQKAgWBgvtBwYKCQEGgIFAQKMxx1FhZUBAoCBQECgIFN8yCBQWBgkBBoDDH\n",
       "DbOVBQWBgkBBoCBQmHP/+fbf8NMsKAgUBAoCBYGCxz7BgoJAQaAgUHDDLFhQECgIFAQKAgVXsWBB\n",
       "QaAgUBAouB8ULCgIFAQKAgWBwnwcNVYWFAQKAgWBgkBhzvWfWTYWFAQKAgWBgqNGsKAgUBAoCBQE\n",
       "Co4awYKCQEGgIFAQKHjDLFhQECgIFAQK83HUWFlQECgIFAQKAgXvSQcLCgIFgYJAwVEjWFAQKAgU\n",
       "BAoCBc/mgwUFgYJAQaAgUHAWCxYUBAoCBYGCo0awoCBQECgIFAQKjhrBgoJAQaAgUBAozLn323/D\n",
       "T7OgIFAQKAgUHDWCBQWBgkBBoCBQ8NgnWFAQKAgUBAo+pIMFBYGCQEGgIFCYj6caKwsKAgWBgkBB\n",
       "oOAsFiwoCBQECgIFL1AFCwoCBYGCQEGg4IZZsKAgUBAoCBTcDwoWFAQKAgWBgkDBDbNgQUGgIFAQ\n",
       "KAgUXMWCBQWBgkBBoOB788GCgkBBoCBQECg4agQLCgIFgYJAQaDgKhYsKAgUBAoCBR/SwYKCQEGg\n",
       "IFAQKLiKBQsKAgWBgkBhzvMhvbGgIFAQKAgUBAqOGsGCgkBBoCBQECi4igULCgIFgYJAwYd0sKAg\n",
       "UBAoCBQECnPu+/bf8NMsKAgUBAoCBYGCs1iwoCBQECgIFBw1ggUFgYJAQaAgUHDUCBYUBAoCBYGC\n",
       "o0awoCBQECgIFAQKc5w0VhYUBAoCBYGCQGHOcxbbWFAQKAgUBAqOGsGCgkBBoCBQECi4igULCgIF\n",
       "gYJAQaAwfohzZ0FBoCBQECg4agQLCgIFgYJAQaDgKhYsKAgUBAoChTn38+2/4adZUBAoCBQECgKF\n",
       "ec9VbGNBQaAgUBAoCBTcMAsWFAQKAgWBghtmwYKCQEGgIFAQKMy7Gm3UCQIFgYJAwVEjWFAQKAgU\n",
       "BAoChTmeza8sKAgUBAoCBYHCPGexlQUFgYJAQaAwx1ONlTpBoCBQECgIFBw1ggUFgYJAQaAgUPDY\n",
       "J1hQECgIFAQKXgMO6gSBgkBBoCBQ8J50sKAgUBAoCBQ81QgWFAQKAgWBgkBh3tNoo04QKAgUBAoC\n",
       "BTfMggUFgYJAQaDghlmwoCBQECgIFAQKc9wwW6kTBAoCBYGCQMFZLFhQECgIFAQKPqSDBQWBgkBB\n",
       "oCBQ8L35YEFBoCBQECj43nxQJwgUBAoCBYHCPEeNlQUFgYJAQaAgUPDYJ1hQECgIFAQK/jNLUCcI\n",
       "FAQKAgWBghtmwYKCQEGgIFAQKLhhFiwoCBQECgIFR41gQUGgIFAQKAgUvCcd1AkCBYGCQMFRI1hQ\n",
       "ECgIFAQKAgVPNYIFBYGCQEGgIFBwFgsWFAQKAgWBgn+fFSwoCBQECgIFgYJ/ZRzUCQIFgYJAQaDg\n",
       "hlmwoCBQECgIFDybDxYUBAoCBYGCQMFRI1hQECgIFAQKc31IrywoCBQECgIFgYLvzQd1gkBBoCBQ\n",
       "ECi4YRYsKAgUBAoCBR/SwYKCQEGgIFAQKHjDLFhQECgIFAQKjhrBgoJAQaAgUBAouIoFCwoCBYGC\n",
       "QEGg4NdfgjpBoCBQECjM9VRjZUFBoCBQECgIFNwwCxYUBAoCBYGCQMFVLFhQECgIFAQKPqSDBQWB\n",
       "gkBBoCBQ8BtmwYKCQEGgIFBw1AgWFAQKAgWBgkDBVSxYUBAoCBQECgIFX2YJ6gSBgkBBoODLLMGC\n",
       "gkBBoCBQECi4YRYsKAgUBAoCBYGCq1iwoCBQECgIFLwGHCwoCBQECgIFgYKjRrCgIFAQKAgU5h0f\n",
       "0hsLCgIFgYJAQaDghlmwoCBQECgIFAQKbpgFCwoCBYGCQMFRI1hQECgIFAQKAgVHjWBBQaAgUBAo\n",
       "CBScxYIFBYGCQEGg4KgRLCgIFAQKAgWBgqtYsKAgUBAoCBTm+jLLyoKCQEGgIFAQKDhqBAsKAgWB\n",
       "gkBBoODZfLCgIFAQKAgU5r1v/wm/zYKCQEGgIFAQKDhqBAsKAgWBgkDBD00GCwoCBYGCQEGg4KgR\n",
       "LCgIFAQKAgWBgjfMggUFgYJAQaDgyyzBgoJAQaAgUBAoeMMsWFAQKAgUBAoCBY99ggUFgYJAQaDg\n",
       "qUawoCBQECgIFAQKHvsECwoCBYGCQMH9oGBBQaAgUBAoCBQ8mw8WFAQKAgWBgkDBDbNgQUGgIFAQ\n",
       "KHg2HywoCBQECgIFgcLcb/8FP86CgkBBoCBQECg4iwULCgIFgYJAwRtmwYKCQEGgIFAQKLhhFiwo\n",
       "CBQECgIF94OCBQWBgkBBoCBQcNQIFhQECgIFgYJAwVksWFAQKAgUBAqezQcLCgIFgYJAQaAwfvxl\n",
       "Z0FBoCBQECgIFJzFggUFgYJAQaDg2XywoCBQECgIFAQKns0HCwoCBYGCQMFRI1hQECgIFAQKAgVH\n",
       "jWBBQaAgUBAoCBTmesVsZUFBoCBQECi4YRYsKAgUBAoCBYGCG2bBgoJAQaAgUHDUCBYUBAoCBYGC\n",
       "QGGepxorCwoCBYGCQEGgMPe4YbaxoCBQECgIFLxAFSwoCBQECgIFgYIfmgwWFAQKAgWBgkDBD00G\n",
       "CwoCBYGCQMGz+WBBQaAgUBAoCBS8Jx0sKAgUBAoCBd84DBYUBAoCBYGCQMFRI1hQECgIFAQKAgXv\n",
       "SQcLCgIFgYJAwWvAwYKCQEGgIFAQKDhqBAsKAgWBgkBBoOA96WBBQaAgUBAo+ImuYEFBoCBQECgI\n",
       "FNwwCxYUBAoCBYGCZ/PBgoJAQaAgUBAoOGoECwoCBYGCQEGg4CwWLCgIFAQKAgVHjWBBQaAgUBAo\n",
       "CBRcxYIFBYGCQEGgIFBwwyxYUBAoCBQECo4awYKCQEGgIFAQKDhqBAsKAgWBgkDBUSNYUBAoCBQE\n",
       "CgIFP9EVLCgIFAQKAgWBgv8vFiwoCBQECgIFN8yCBQWBgkBBoCBQmHdcxjYWFAQKAgWBgkDBWSxY\n",
       "UBAoCBQECp7NBwsKAgWBgkBBoODZfLCgIFAQKAgU3A8KFhQECgIFgYJAwbP5YEFBoCBQECgIFJzF\n",
       "ggUFgYJAQaDgJ7qCBQWBgkBBoCBQmOsVs5UFBYGCQEGg4AWqYEFBoCBQECgIFOY5aqwsKAgUBAoC\n",
       "BYGCs1iwoCBQECgIFDzVCBYUBAoCBYGCQMEbZsGCgkBBoCBQECjM9ZXMlQUFgYJAQaDghlmwoCBQ\n",
       "ECgIFAQKfv0lWFAQKAgUBApeoAoWFAQKAgWBgkDBU41gQUGgIFAQKAgU3DALFhQECgIFgcLc45bZ\n",
       "xoKCQEGgIFAQKLhhFiwoCBQECgIFgYKrWLCgIFAQKAgUPNUIFhQECgIFgYJAwWOfYEFBoCBQECjM\n",
       "/ThqbCwoCBQECgIFgYKjRrCgIFAQKAgUBArzXMVWFhQECgIFgYKjRrCgIFAQKAgUBApzP65iGwsK\n",
       "AgWBgkBBoOAsFiwoCBQECgIFTzWCBQWBgkBBoCBQcNQIFhQECgIFgYIP6WBBQaAgUBAoCBQ8mw8W\n",
       "FAQKAgWBgkBh3vnz7b/hp1lQECgIFAQKbpgFCwoCBYGCQEGg4A2zYEFBoCBQECjMfe4HbSwoCBQE\n",
       "CgIFgYKjRrCgIFAQKAgUBApzPZtfWVAQKAgUBAqOGsGCgkBBoCBQECg4agQLCgIFgYJAQaAw7zmL\n",
       "bSwoCBQECgIFN8yCBQWBgkBBoCBQ8J50sKAgUBAoCBQcNYIFBYGCQEGgIFCY56ixsqAgUBAoCBQE\n",
       "Cs5iwYKCQEGgIFCY6wWqlQUFgYJAQaAgUPCb9sGCgkBBoCBQECj4MkuwoCBQECgIFDzVCBYUBAoC\n",
       "BYGCQMFRI1hQECgIFAQKPqSDBQWBgkBBoCBQ8Gw+WFAQKAgUBAoCBWexYEFBoCBQECjM8Wx+ZUFB\n",
       "oCBQECgIFBw1ggUFgYJAQaAgUPCedLCgIFAQKAgU5jhqrCwoCBQECgIFgYI3zIIFBYGCQEGg4Nl8\n",
       "sKAgUBAoCBQECm6YBQsKAgWBgkBBoDDvvG//DT/NgoJAQaAgUHDDLFhQECgIFAQKAoU5jhorCwoC\n",
       "BYGCQOE/LrLuTX/wFc8AAAAASUVORK5CYII=\n",
       "\" transform=\"translate(1894, 47)\"/>\n",
       "</g>\n",
       "<path clip-path=\"url(#clip330)\" d=\"M2002.33 1247.99 L2032 1247.99 L2032 1251.92 L2002.33 1251.92 L2002.33 1247.99 Z\" fill=\"#000000\" fill-rule=\"evenodd\" fill-opacity=\"1\" /><path clip-path=\"url(#clip330)\" d=\"M2054.94 1234.33 L2043.14 1252.78 L2054.94 1252.78 L2054.94 1234.33 M2053.72 1230.26 L2059.6 1230.26 L2059.6 1252.78 L2064.53 1252.78 L2064.53 1256.67 L2059.6 1256.67 L2059.6 1264.82 L2054.94 1264.82 L2054.94 1256.67 L2039.34 1256.67 L2039.34 1252.15 L2053.72 1230.26 Z\" fill=\"#000000\" fill-rule=\"evenodd\" fill-opacity=\"1\" /><path clip-path=\"url(#clip330)\" d=\"M2082.26 1233.34 Q2078.65 1233.34 2076.82 1236.9 Q2075.01 1240.44 2075.01 1247.57 Q2075.01 1254.68 2076.82 1258.24 Q2078.65 1261.78 2082.26 1261.78 Q2085.89 1261.78 2087.7 1258.24 Q2089.53 1254.68 2089.53 1247.57 Q2089.53 1240.44 2087.7 1236.9 Q2085.89 1233.34 2082.26 1233.34 M2082.26 1229.63 Q2088.07 1229.63 2091.12 1234.24 Q2094.2 1238.82 2094.2 1247.57 Q2094.2 1256.3 2091.12 1260.9 Q2088.07 1265.49 2082.26 1265.49 Q2076.45 1265.49 2073.37 1260.9 Q2070.31 1256.3 2070.31 1247.57 Q2070.31 1238.82 2073.37 1234.24 Q2076.45 1229.63 2082.26 1229.63 Z\" fill=\"#000000\" fill-rule=\"evenodd\" fill-opacity=\"1\" /><path clip-path=\"url(#clip330)\" d=\"M2002.33 986.266 L2032 986.266 L2032 990.201 L2002.33 990.201 L2002.33 986.266 Z\" fill=\"#000000\" fill-rule=\"evenodd\" fill-opacity=\"1\" /><path clip-path=\"url(#clip330)\" d=\"M2056.26 984.46 Q2059.62 985.178 2061.49 987.446 Q2063.39 989.715 2063.39 993.048 Q2063.39 998.164 2059.87 1000.96 Q2056.36 1003.77 2049.87 1003.77 Q2047.7 1003.77 2045.38 1003.33 Q2043.09 1002.91 2040.64 1002.05 L2040.64 997.539 Q2042.58 998.673 2044.9 999.252 Q2047.21 999.831 2049.73 999.831 Q2054.13 999.831 2056.42 998.094 Q2058.74 996.358 2058.74 993.048 Q2058.74 989.993 2056.59 988.28 Q2054.46 986.544 2050.64 986.544 L2046.61 986.544 L2046.61 982.701 L2050.82 982.701 Q2054.27 982.701 2056.1 981.335 Q2057.93 979.946 2057.93 977.354 Q2057.93 974.692 2056.03 973.28 Q2054.16 971.845 2050.64 971.845 Q2048.72 971.845 2046.52 972.261 Q2044.32 972.678 2041.68 973.558 L2041.68 969.391 Q2044.34 968.65 2046.66 968.28 Q2048.99 967.909 2051.05 967.909 Q2056.38 967.909 2059.48 970.34 Q2062.58 972.747 2062.58 976.868 Q2062.58 979.738 2060.94 981.729 Q2059.29 983.696 2056.26 984.46 Z\" fill=\"#000000\" fill-rule=\"evenodd\" fill-opacity=\"1\" /><path clip-path=\"url(#clip330)\" d=\"M2082.26 971.613 Q2078.65 971.613 2076.82 975.178 Q2075.01 978.72 2075.01 985.849 Q2075.01 992.956 2076.82 996.52 Q2078.65 1000.06 2082.26 1000.06 Q2085.89 1000.06 2087.7 996.52 Q2089.53 992.956 2089.53 985.849 Q2089.53 978.72 2087.7 975.178 Q2085.89 971.613 2082.26 971.613 M2082.26 967.909 Q2088.07 967.909 2091.12 972.516 Q2094.2 977.099 2094.2 985.849 Q2094.2 994.576 2091.12 999.182 Q2088.07 1003.77 2082.26 1003.77 Q2076.45 1003.77 2073.37 999.182 Q2070.31 994.576 2070.31 985.849 Q2070.31 977.099 2073.37 972.516 Q2076.45 967.909 2082.26 967.909 Z\" fill=\"#000000\" fill-rule=\"evenodd\" fill-opacity=\"1\" /><path clip-path=\"url(#clip330)\" d=\"M2002.33 724.544 L2032 724.544 L2032 728.479 L2002.33 728.479 L2002.33 724.544 Z\" fill=\"#000000\" fill-rule=\"evenodd\" fill-opacity=\"1\" /><path clip-path=\"url(#clip330)\" d=\"M2046.12 737.437 L2062.44 737.437 L2062.44 741.372 L2040.5 741.372 L2040.5 737.437 Q2043.16 734.683 2047.74 730.053 Q2052.35 725.4 2053.53 724.058 Q2055.78 721.535 2056.66 719.798 Q2057.56 718.039 2057.56 716.349 Q2057.56 713.595 2055.61 711.859 Q2053.69 710.123 2050.59 710.123 Q2048.39 710.123 2045.94 710.886 Q2043.51 711.65 2040.73 713.201 L2040.73 708.479 Q2043.55 707.345 2046.01 706.766 Q2048.46 706.187 2050.5 706.187 Q2055.87 706.187 2059.06 708.873 Q2062.26 711.558 2062.26 716.048 Q2062.26 718.178 2061.45 720.099 Q2060.66 721.998 2058.55 724.59 Q2057.98 725.261 2054.87 728.479 Q2051.77 731.673 2046.12 737.437 Z\" fill=\"#000000\" fill-rule=\"evenodd\" fill-opacity=\"1\" /><path clip-path=\"url(#clip330)\" d=\"M2082.26 709.891 Q2078.65 709.891 2076.82 713.456 Q2075.01 716.998 2075.01 724.127 Q2075.01 731.234 2076.82 734.798 Q2078.65 738.34 2082.26 738.34 Q2085.89 738.34 2087.7 734.798 Q2089.53 731.234 2089.53 724.127 Q2089.53 716.998 2087.7 713.456 Q2085.89 709.891 2082.26 709.891 M2082.26 706.187 Q2088.07 706.187 2091.12 710.794 Q2094.2 715.377 2094.2 724.127 Q2094.2 732.854 2091.12 737.46 Q2088.07 742.044 2082.26 742.044 Q2076.45 742.044 2073.37 737.46 Q2070.31 732.854 2070.31 724.127 Q2070.31 715.377 2073.37 710.794 Q2076.45 706.187 2082.26 706.187 Z\" fill=\"#000000\" fill-rule=\"evenodd\" fill-opacity=\"1\" /><path clip-path=\"url(#clip330)\" d=\"M2002.33 462.822 L2032 462.822 L2032 466.757 L2002.33 466.757 L2002.33 462.822 Z\" fill=\"#000000\" fill-rule=\"evenodd\" fill-opacity=\"1\" /><path clip-path=\"url(#clip330)\" d=\"M2042.91 475.715 L2050.54 475.715 L2050.54 449.35 L2042.23 451.016 L2042.23 446.757 L2050.5 445.09 L2055.17 445.09 L2055.17 475.715 L2062.81 475.715 L2062.81 479.65 L2042.91 479.65 L2042.91 475.715 Z\" fill=\"#000000\" fill-rule=\"evenodd\" fill-opacity=\"1\" /><path clip-path=\"url(#clip330)\" d=\"M2082.26 448.169 Q2078.65 448.169 2076.82 451.734 Q2075.01 455.276 2075.01 462.405 Q2075.01 469.512 2076.82 473.076 Q2078.65 476.618 2082.26 476.618 Q2085.89 476.618 2087.7 473.076 Q2089.53 469.512 2089.53 462.405 Q2089.53 455.276 2087.7 451.734 Q2085.89 448.169 2082.26 448.169 M2082.26 444.465 Q2088.07 444.465 2091.12 449.072 Q2094.2 453.655 2094.2 462.405 Q2094.2 471.132 2091.12 475.738 Q2088.07 480.322 2082.26 480.322 Q2076.45 480.322 2073.37 475.738 Q2070.31 471.132 2070.31 462.405 Q2070.31 453.655 2073.37 449.072 Q2076.45 444.465 2082.26 444.465 Z\" fill=\"#000000\" fill-rule=\"evenodd\" fill-opacity=\"1\" /><path clip-path=\"url(#clip330)\" d=\"M2014.27 186.447 Q2010.66 186.447 2008.83 190.012 Q2007.03 193.554 2007.03 200.683 Q2007.03 207.79 2008.83 211.354 Q2010.66 214.896 2014.27 214.896 Q2017.91 214.896 2019.71 211.354 Q2021.54 207.79 2021.54 200.683 Q2021.54 193.554 2019.71 190.012 Q2017.91 186.447 2014.27 186.447 M2014.27 182.743 Q2020.08 182.743 2023.14 187.35 Q2026.22 191.933 2026.22 200.683 Q2026.22 209.41 2023.14 214.016 Q2020.08 218.6 2014.27 218.6 Q2008.46 218.6 2005.38 214.016 Q2002.33 209.41 2002.33 200.683 Q2002.33 191.933 2005.38 187.35 Q2008.46 182.743 2014.27 182.743 Z\" fill=\"#000000\" fill-rule=\"evenodd\" fill-opacity=\"1\" /><polyline clip-path=\"url(#clip330)\" style=\"stroke:#000000; stroke-linecap:butt; stroke-linejoin:round; stroke-width:4; stroke-opacity:1; fill:none\" points=\"\n",
       "  1966.33,1486.45 1966.33,1251.17 1990.33,1251.17 1966.33,1251.17 1966.33,989.443 1990.33,989.443 1966.33,989.443 1966.33,727.721 1990.33,727.721 1966.33,727.721 \n",
       "  1966.33,465.999 1990.33,465.999 1966.33,465.999 1966.33,204.277 1990.33,204.277 1966.33,204.277 1966.33,47.2441 \n",
       "  \"/>\n",
       "</svg>\n"
      ]
     },
     "execution_count": 52,
     "metadata": {},
     "output_type": "execute_result"
    }
   ],
   "source": [
    "#for t in 1:10\n",
    "#    J=10\n",
    "#    U=t*J*0.1 \n",
    "#obtener H_int \n",
    "diagscomp = [];\n",
    "for j in 1:D \n",
    "    sumsdeocup = []; \n",
    "    for k in 1:M\n",
    "        push!(sumsdeocup, valdiags(k, v[j], M))\n",
    "    end  \n",
    "    push!(diagscomp, sum(sumsdeocup))    \n",
    "end   \n",
    "#Mostramos la parte  \n",
    "println(diagscomp)\n",
    "Hint = spzeros(D,D)\n",
    "Hint[diagind(Hint)] = diagscomp; Hint \n",
    "#println(Hint)\n",
    "#Hint=diagm(diagscomp) \n",
    "#spy(Hint) \n",
    "J = 20\n",
    "Hkin = spzeros(D,D)\n",
    "for j in 1:D\n",
    "        for k in 1:M \n",
    "            for h in 1:M   \n",
    "                if k == h \n",
    "                    break \n",
    "                elseif creation_ann(k,h,v[j]) == 0 \n",
    "                    continue  \n",
    "                elseif abs(k-h)>=2 \n",
    "                    continue \n",
    "                else \n",
    "                     Hkin[DictOfInds[tag(creation_ann( k, h , v[j] )[2],M)], j] = -J*(creation_ann( k, h , v[j])[1])     \n",
    "                end\n",
    "            end \n",
    "        end  \n",
    "    end  \n",
    "Hkin = Symmetric(Hkin, :L)\n",
    "#println(Hkin)  \n",
    "#spy(Hkin)\n",
    "\n",
    "H=Hkin+Hint\n",
    "spy(H, markersize = 5)"
   ]
  },
  {
   "cell_type": "code",
   "execution_count": 53,
   "id": "55b3c0ec",
   "metadata": {},
   "outputs": [
    {
     "data": {
      "text/plain": [
       "([-127.66465040309969, -107.36940118051575], [-0.01796460694436666 -0.058338665958863625; -0.06003082267119661 -0.16534549063566256; … ; -0.06003082267119596 0.16534549063566317; -0.017964606944366444 0.058338665958863875], 2, 3, 56, [0.3917924269687118, 3.980833071720017, -4.385959761825144, -11.020529091520993, 8.720244432445128, -4.523437517575637, -1.9793066868587368, 0.1286823425425473, -0.7216794189098403, -2.861813693969899  …  2.385419867533177, 1.9213085139504646, -3.5555556497867986, 3.8139053371008207, 6.807334668733083, 1.292529801743125, 2.5291367229327935, -4.594953072019245, -9.820582434414604, 0.09429464175970409])"
      ]
     },
     "execution_count": 53,
     "metadata": {},
     "output_type": "execute_result"
    }
   ],
   "source": [
    "Eval, Evec = eigs(H , nev=2 , which=:SR)"
   ]
  },
  {
   "cell_type": "code",
   "execution_count": 43,
   "id": "abde84cb",
   "metadata": {},
   "outputs": [
    {
     "data": {
      "text/plain": [
       "35×35 SparseMatrixCSC{Float64, Int64} with 234 stored entries:\n",
       "⢿⣷⠲⡠⡀⠀⠀⠀⠀⠀⠀⠀⠀⠀⠀⠀⠀⠀\n",
       "⠘⡢⢿⢗⡦⠙⢔⠄⡀⠀⠀⠀⠀⠀⠀⠀⠀⠀\n",
       "⠀⠈⣌⠋⠛⣤⣄⡑⠈⠂⢤⢀⠀⠀⠀⠀⠀⠀\n",
       "⠀⠀⠐⠕⢄⠹⡵⣫⠲⣄⠀⠑⢅⠢⡀⠀⠀⠀\n",
       "⠀⠀⠀⠈⠢⠀⠘⢦⠻⣦⠀⠀⠀⠑⢄⠑⢄⠀\n",
       "⠀⠀⠀⠀⠀⢓⢄⠀⠀⠀⢿⢗⡦⣀⠀⠀⠀⠀\n",
       "⠀⠀⠀⠀⠀⠀⠡⡑⢄⠀⠈⢫⡛⣬⡓⢤⡀⠀\n",
       "⠀⠀⠀⠀⠀⠀⠀⠈⢄⠑⠀⠀⠙⣌⠛⣤⡙⠂\n",
       "⠀⠀⠀⠀⠀⠀⠀⠀⠀⠑⠀⠀⠀⠈⠳⠈⠻⠆"
      ]
     },
     "execution_count": 43,
     "metadata": {},
     "output_type": "execute_result"
    }
   ],
   "source": [
    "H"
   ]
  },
  {
   "cell_type": "code",
   "execution_count": 151,
   "id": "94703d65",
   "metadata": {},
   "outputs": [
    {
     "data": {
      "text/plain": [
       "35×35 SparseMatrixCSC{Float64, Int64} with 274 stored entries:\n",
       "⣿⣿⠲⡢⣄⠀⠀⠀⠀⠀⠀⠀⠀⠀⠀⠀⠀⠀\n",
       "⠸⡢⢿⢗⡦⠙⢕⠦⣀⠀⠀⠀⠀⠀⠀⠀⠀⠀\n",
       "⠀⠙⣌⠋⠛⣤⣄⡑⠈⠓⢤⢄⡀⠀⠀⠀⠀⠀\n",
       "⠀⠀⠱⡕⢄⠹⡵⣫⠲⣄⠀⠑⢍⠲⣄⠀⠀⠀\n",
       "⠀⠀⠀⠘⢦⠀⠘⢦⠻⣦⠀⠀⠀⠑⢄⠙⢦⡀\n",
       "⠀⠀⠀⠀⠀⢗⢄⠀⠀⠀⢿⢗⡦⣀⠀⠀⠀⠀\n",
       "⠀⠀⠀⠀⠀⠈⢣⡑⢄⠀⠈⢫⡛⣬⡓⢤⡀⠀\n",
       "⠀⠀⠀⠀⠀⠀⠀⠙⣄⠑⠀⠀⠙⣌⠛⣤⡙⠂\n",
       "⠀⠀⠀⠀⠀⠀⠀⠀⠈⠳⠀⠀⠀⠈⠳⠈⠻⠆"
      ]
     },
     "execution_count": 151,
     "metadata": {},
     "output_type": "execute_result"
    }
   ],
   "source": [
    "H"
   ]
  },
  {
   "cell_type": "code",
   "execution_count": 54,
   "id": "72ac9bae",
   "metadata": {},
   "outputs": [
    {
     "data": {
      "text/plain": [
       "35-element Vector{Float64}:\n",
       " -0.01796460694436666\n",
       " -0.06003082267119661\n",
       " -0.061423520067626296\n",
       " -0.03848670615546478\n",
       " -0.1203689828869221\n",
       " -0.17480815727716847\n",
       " -0.10970756709361176\n",
       " -0.12409293414043178\n",
       " -0.11054960020507305\n",
       " -0.04822925706857101\n",
       " -0.15763248414871936\n",
       " -0.2813819695047868\n",
       " -0.1768778001871143\n",
       "  ⋮\n",
       " -0.3172313844704809\n",
       " -0.28352615619673777\n",
       " -0.12409293414043114\n",
       " -0.25612512996793513\n",
       " -0.28138196950478495\n",
       " -0.17480815727716728\n",
       " -0.06142352006762572\n",
       " -0.12381960761319068\n",
       " -0.1576324841487181\n",
       " -0.1203689828869209\n",
       " -0.06003082267119596\n",
       " -0.017964606944366444"
      ]
     },
     "execution_count": 54,
     "metadata": {},
     "output_type": "execute_result"
    }
   ],
   "source": [
    "G = Evec[:,1] "
   ]
  },
  {
   "cell_type": "code",
   "execution_count": 55,
   "id": "fd68b846",
   "metadata": {},
   "outputs": [
    {
     "data": {
      "text/plain": [
       "4×4 Symmetric{Float64, SparseMatrixCSC{Float64, Int64}}:\n",
       " 0.564652  0.900204  0.900058  0.564495\n",
       " 0.900204  1.43535   1.43512   0.900058\n",
       " 0.900058  1.43512   1.43535   0.900204\n",
       " 0.564495  0.900058  0.900204  0.564652"
      ]
     },
     "execution_count": 55,
     "metadata": {},
     "output_type": "execute_result"
    }
   ],
   "source": [
    "SPDM = spzeros(M,M) \n",
    "for k in 1:M \n",
    "    for h in 1:M   \n",
    "        if k == h \n",
    "            SPDM[k , k] = dot(G, matrixoccupation(k,D)*G) \n",
    "        else  \n",
    "            t = matrixofcreationann(k,h)*G\n",
    "            SPDM[k , h] = dot(G,t)  \n",
    "        end\n",
    "    end  \n",
    "end   \n",
    "SPDM = Symmetric(SPDM, :L)"
   ]
  },
  {
   "cell_type": "code",
   "execution_count": 56,
   "id": "a7b1c6ef",
   "metadata": {},
   "outputs": [
    {
     "data": {
      "text/plain": [
       "([3.9995561432941065], [-0.37570419732653604; -0.5990378586627261; -0.5990378586627252; -0.3757041973265345], 1, 1, 4, [0.0, 0.0, 0.0, 0.0])"
      ]
     },
     "execution_count": 56,
     "metadata": {},
     "output_type": "execute_result"
    }
   ],
   "source": [
    "EvalSPDM, EvecSPDM = eigs(SPDM , nev=1)"
   ]
  },
  {
   "cell_type": "code",
   "execution_count": 57,
   "id": "ba89e610",
   "metadata": {},
   "outputs": [
    {
     "data": {
      "text/plain": [
       "1-element Vector{Float64}:\n",
       " 3.9995561432941065"
      ]
     },
     "execution_count": 57,
     "metadata": {},
     "output_type": "execute_result"
    }
   ],
   "source": [
    "EvalSPDM"
   ]
  },
  {
   "cell_type": "code",
   "execution_count": 58,
   "id": "afff97d4",
   "metadata": {},
   "outputs": [
    {
     "data": {
      "image/svg+xml": [
       "<?xml version=\"1.0\" encoding=\"utf-8\"?>\n",
       "<svg xmlns=\"http://www.w3.org/2000/svg\" xmlns:xlink=\"http://www.w3.org/1999/xlink\" width=\"600\" height=\"400\" viewBox=\"0 0 2400 1600\">\n",
       "<defs>\n",
       "  <clipPath id=\"clip370\">\n",
       "    <rect x=\"0\" y=\"0\" width=\"2400\" height=\"1600\"/>\n",
       "  </clipPath>\n",
       "</defs>\n",
       "<path clip-path=\"url(#clip370)\" d=\"\n",
       "M0 1600 L2400 1600 L2400 0 L0 0  Z\n",
       "  \" fill=\"#ffffff\" fill-rule=\"evenodd\" fill-opacity=\"1\"/>\n",
       "<defs>\n",
       "  <clipPath id=\"clip371\">\n",
       "    <rect x=\"480\" y=\"0\" width=\"1681\" height=\"1600\"/>\n",
       "  </clipPath>\n",
       "</defs>\n",
       "<path clip-path=\"url(#clip370)\" d=\"\n",
       "M219.542 1423.18 L2352.76 1423.18 L2352.76 47.2441 L219.542 47.2441  Z\n",
       "  \" fill=\"#ffffff\" fill-rule=\"evenodd\" fill-opacity=\"1\"/>\n",
       "<defs>\n",
       "  <clipPath id=\"clip372\">\n",
       "    <rect x=\"219\" y=\"47\" width=\"2134\" height=\"1377\"/>\n",
       "  </clipPath>\n",
       "</defs>\n",
       "<polyline clip-path=\"url(#clip372)\" style=\"stroke:#000000; stroke-linecap:butt; stroke-linejoin:round; stroke-width:2; stroke-opacity:0.1; fill:none\" points=\"\n",
       "  703.593,1423.18 703.593,47.2441 \n",
       "  \"/>\n",
       "<polyline clip-path=\"url(#clip372)\" style=\"stroke:#000000; stroke-linecap:butt; stroke-linejoin:round; stroke-width:2; stroke-opacity:0.1; fill:none\" points=\"\n",
       "  1233.19,1423.18 1233.19,47.2441 \n",
       "  \"/>\n",
       "<polyline clip-path=\"url(#clip372)\" style=\"stroke:#000000; stroke-linecap:butt; stroke-linejoin:round; stroke-width:2; stroke-opacity:0.1; fill:none\" points=\"\n",
       "  1762.79,1423.18 1762.79,47.2441 \n",
       "  \"/>\n",
       "<polyline clip-path=\"url(#clip372)\" style=\"stroke:#000000; stroke-linecap:butt; stroke-linejoin:round; stroke-width:2; stroke-opacity:0.1; fill:none\" points=\"\n",
       "  2292.38,1423.18 2292.38,47.2441 \n",
       "  \"/>\n",
       "<polyline clip-path=\"url(#clip370)\" style=\"stroke:#000000; stroke-linecap:butt; stroke-linejoin:round; stroke-width:4; stroke-opacity:1; fill:none\" points=\"\n",
       "  219.542,1423.18 2352.76,1423.18 \n",
       "  \"/>\n",
       "<polyline clip-path=\"url(#clip370)\" style=\"stroke:#000000; stroke-linecap:butt; stroke-linejoin:round; stroke-width:4; stroke-opacity:1; fill:none\" points=\"\n",
       "  703.593,1423.18 703.593,1404.28 \n",
       "  \"/>\n",
       "<polyline clip-path=\"url(#clip370)\" style=\"stroke:#000000; stroke-linecap:butt; stroke-linejoin:round; stroke-width:4; stroke-opacity:1; fill:none\" points=\"\n",
       "  1233.19,1423.18 1233.19,1404.28 \n",
       "  \"/>\n",
       "<polyline clip-path=\"url(#clip370)\" style=\"stroke:#000000; stroke-linecap:butt; stroke-linejoin:round; stroke-width:4; stroke-opacity:1; fill:none\" points=\"\n",
       "  1762.79,1423.18 1762.79,1404.28 \n",
       "  \"/>\n",
       "<polyline clip-path=\"url(#clip370)\" style=\"stroke:#000000; stroke-linecap:butt; stroke-linejoin:round; stroke-width:4; stroke-opacity:1; fill:none\" points=\"\n",
       "  2292.38,1423.18 2292.38,1404.28 \n",
       "  \"/>\n",
       "<path clip-path=\"url(#clip370)\" d=\"M693.871 1451.02 L712.227 1451.02 L712.227 1454.96 L698.153 1454.96 L698.153 1463.43 Q699.172 1463.08 700.19 1462.92 Q701.209 1462.73 702.227 1462.73 Q708.014 1462.73 711.394 1465.9 Q714.774 1469.08 714.774 1474.49 Q714.774 1480.07 711.301 1483.17 Q707.829 1486.25 701.51 1486.25 Q699.334 1486.25 697.065 1485.88 Q694.82 1485.51 692.413 1484.77 L692.413 1480.07 Q694.496 1481.2 696.718 1481.76 Q698.94 1482.32 701.417 1482.32 Q705.422 1482.32 707.76 1480.21 Q710.098 1478.1 710.098 1474.49 Q710.098 1470.88 707.76 1468.77 Q705.422 1466.67 701.417 1466.67 Q699.542 1466.67 697.667 1467.08 Q695.815 1467.5 693.871 1468.38 L693.871 1451.02 Z\" fill=\"#000000\" fill-rule=\"evenodd\" fill-opacity=\"1\" /><path clip-path=\"url(#clip370)\" d=\"M1207.88 1481.64 L1215.52 1481.64 L1215.52 1455.28 L1207.21 1456.95 L1207.21 1452.69 L1215.47 1451.02 L1220.15 1451.02 L1220.15 1481.64 L1227.78 1481.64 L1227.78 1485.58 L1207.88 1485.58 L1207.88 1481.64 Z\" fill=\"#000000\" fill-rule=\"evenodd\" fill-opacity=\"1\" /><path clip-path=\"url(#clip370)\" d=\"M1247.23 1454.1 Q1243.62 1454.1 1241.79 1457.66 Q1239.98 1461.2 1239.98 1468.33 Q1239.98 1475.44 1241.79 1479.01 Q1243.62 1482.55 1247.23 1482.55 Q1250.86 1482.55 1252.67 1479.01 Q1254.5 1475.44 1254.5 1468.33 Q1254.5 1461.2 1252.67 1457.66 Q1250.86 1454.1 1247.23 1454.1 M1247.23 1450.39 Q1253.04 1450.39 1256.09 1455 Q1259.17 1459.58 1259.17 1468.33 Q1259.17 1477.06 1256.09 1481.67 Q1253.04 1486.25 1247.23 1486.25 Q1241.42 1486.25 1238.34 1481.67 Q1235.28 1477.06 1235.28 1468.33 Q1235.28 1459.58 1238.34 1455 Q1241.42 1450.39 1247.23 1450.39 Z\" fill=\"#000000\" fill-rule=\"evenodd\" fill-opacity=\"1\" /><path clip-path=\"url(#clip370)\" d=\"M1737.97 1481.64 L1745.61 1481.64 L1745.61 1455.28 L1737.3 1456.95 L1737.3 1452.69 L1745.56 1451.02 L1750.24 1451.02 L1750.24 1481.64 L1757.88 1481.64 L1757.88 1485.58 L1737.97 1485.58 L1737.97 1481.64 Z\" fill=\"#000000\" fill-rule=\"evenodd\" fill-opacity=\"1\" /><path clip-path=\"url(#clip370)\" d=\"M1767.37 1451.02 L1785.73 1451.02 L1785.73 1454.96 L1771.65 1454.96 L1771.65 1463.43 Q1772.67 1463.08 1773.69 1462.92 Q1774.71 1462.73 1775.73 1462.73 Q1781.51 1462.73 1784.89 1465.9 Q1788.27 1469.08 1788.27 1474.49 Q1788.27 1480.07 1784.8 1483.17 Q1781.33 1486.25 1775.01 1486.25 Q1772.83 1486.25 1770.56 1485.88 Q1768.32 1485.51 1765.91 1484.77 L1765.91 1480.07 Q1767.99 1481.2 1770.22 1481.76 Q1772.44 1482.32 1774.92 1482.32 Q1778.92 1482.32 1781.26 1480.21 Q1783.6 1478.1 1783.6 1474.49 Q1783.6 1470.88 1781.26 1468.77 Q1778.92 1466.67 1774.92 1466.67 Q1773.04 1466.67 1771.17 1467.08 Q1769.31 1467.5 1767.37 1468.38 L1767.37 1451.02 Z\" fill=\"#000000\" fill-rule=\"evenodd\" fill-opacity=\"1\" /><path clip-path=\"url(#clip370)\" d=\"M2271.16 1481.64 L2287.47 1481.64 L2287.47 1485.58 L2265.53 1485.58 L2265.53 1481.64 Q2268.19 1478.89 2272.78 1474.26 Q2277.38 1469.61 2278.56 1468.27 Q2280.81 1465.74 2281.69 1464.01 Q2282.59 1462.25 2282.59 1460.56 Q2282.59 1457.8 2280.65 1456.07 Q2278.72 1454.33 2275.62 1454.33 Q2273.42 1454.33 2270.97 1455.09 Q2268.54 1455.86 2265.76 1457.41 L2265.76 1452.69 Q2268.59 1451.55 2271.04 1450.97 Q2273.49 1450.39 2275.53 1450.39 Q2280.9 1450.39 2284.09 1453.08 Q2287.29 1455.77 2287.29 1460.26 Q2287.29 1462.39 2286.48 1464.31 Q2285.69 1466.2 2283.59 1468.8 Q2283.01 1469.47 2279.91 1472.69 Q2276.8 1475.88 2271.16 1481.64 Z\" fill=\"#000000\" fill-rule=\"evenodd\" fill-opacity=\"1\" /><path clip-path=\"url(#clip370)\" d=\"M2307.29 1454.1 Q2303.68 1454.1 2301.85 1457.66 Q2300.04 1461.2 2300.04 1468.33 Q2300.04 1475.44 2301.85 1479.01 Q2303.68 1482.55 2307.29 1482.55 Q2310.92 1482.55 2312.73 1479.01 Q2314.56 1475.44 2314.56 1468.33 Q2314.56 1461.2 2312.73 1457.66 Q2310.92 1454.1 2307.29 1454.1 M2307.29 1450.39 Q2313.1 1450.39 2316.15 1455 Q2319.23 1459.58 2319.23 1468.33 Q2319.23 1477.06 2316.15 1481.67 Q2313.1 1486.25 2307.29 1486.25 Q2301.48 1486.25 2298.4 1481.67 Q2295.34 1477.06 2295.34 1468.33 Q2295.34 1459.58 2298.4 1455 Q2301.48 1450.39 2307.29 1450.39 Z\" fill=\"#000000\" fill-rule=\"evenodd\" fill-opacity=\"1\" /><path clip-path=\"url(#clip370)\" d=\"M1247.73 1520.52 L1254.19 1520.52 L1254.19 1549.39 Q1254.19 1557.03 1256.96 1560.4 Q1259.73 1563.75 1265.94 1563.75 Q1272.11 1563.75 1274.88 1560.4 Q1277.65 1557.03 1277.65 1549.39 L1277.65 1520.52 L1284.11 1520.52 L1284.11 1550.19 Q1284.11 1559.48 1279.5 1564.22 Q1274.91 1568.97 1265.94 1568.97 Q1256.93 1568.97 1252.32 1564.22 Q1247.73 1559.48 1247.73 1550.19 L1247.73 1520.52 Z\" fill=\"#000000\" fill-rule=\"evenodd\" fill-opacity=\"1\" /><path clip-path=\"url(#clip370)\" d=\"M1306.33 1520.52 L1311.74 1520.52 L1295.19 1574.09 L1289.78 1574.09 L1306.33 1520.52 Z\" fill=\"#000000\" fill-rule=\"evenodd\" fill-opacity=\"1\" /><path clip-path=\"url(#clip370)\" d=\"M1318.14 1520.52 L1324.57 1520.52 L1324.57 1564.73 Q1324.57 1573.33 1321.29 1577.21 Q1318.04 1581.09 1310.82 1581.09 L1308.37 1581.09 L1308.37 1575.68 L1310.37 1575.68 Q1314.64 1575.68 1316.39 1573.3 Q1318.14 1570.91 1318.14 1564.73 L1318.14 1520.52 Z\" fill=\"#000000\" fill-rule=\"evenodd\" fill-opacity=\"1\" /><polyline clip-path=\"url(#clip372)\" style=\"stroke:#000000; stroke-linecap:butt; stroke-linejoin:round; stroke-width:2; stroke-opacity:0.1; fill:none\" points=\"\n",
       "  219.542,1214.14 2352.76,1214.14 \n",
       "  \"/>\n",
       "<polyline clip-path=\"url(#clip372)\" style=\"stroke:#000000; stroke-linecap:butt; stroke-linejoin:round; stroke-width:2; stroke-opacity:0.1; fill:none\" points=\"\n",
       "  219.542,984.428 2352.76,984.428 \n",
       "  \"/>\n",
       "<polyline clip-path=\"url(#clip372)\" style=\"stroke:#000000; stroke-linecap:butt; stroke-linejoin:round; stroke-width:2; stroke-opacity:0.1; fill:none\" points=\"\n",
       "  219.542,754.716 2352.76,754.716 \n",
       "  \"/>\n",
       "<polyline clip-path=\"url(#clip372)\" style=\"stroke:#000000; stroke-linecap:butt; stroke-linejoin:round; stroke-width:2; stroke-opacity:0.1; fill:none\" points=\"\n",
       "  219.542,525.004 2352.76,525.004 \n",
       "  \"/>\n",
       "<polyline clip-path=\"url(#clip372)\" style=\"stroke:#000000; stroke-linecap:butt; stroke-linejoin:round; stroke-width:2; stroke-opacity:0.1; fill:none\" points=\"\n",
       "  219.542,295.292 2352.76,295.292 \n",
       "  \"/>\n",
       "<polyline clip-path=\"url(#clip372)\" style=\"stroke:#000000; stroke-linecap:butt; stroke-linejoin:round; stroke-width:2; stroke-opacity:0.1; fill:none\" points=\"\n",
       "  219.542,65.5802 2352.76,65.5802 \n",
       "  \"/>\n",
       "<polyline clip-path=\"url(#clip370)\" style=\"stroke:#000000; stroke-linecap:butt; stroke-linejoin:round; stroke-width:4; stroke-opacity:1; fill:none\" points=\"\n",
       "  219.542,1423.18 219.542,47.2441 \n",
       "  \"/>\n",
       "<polyline clip-path=\"url(#clip370)\" style=\"stroke:#000000; stroke-linecap:butt; stroke-linejoin:round; stroke-width:4; stroke-opacity:1; fill:none\" points=\"\n",
       "  219.542,1214.14 238.44,1214.14 \n",
       "  \"/>\n",
       "<polyline clip-path=\"url(#clip370)\" style=\"stroke:#000000; stroke-linecap:butt; stroke-linejoin:round; stroke-width:4; stroke-opacity:1; fill:none\" points=\"\n",
       "  219.542,984.428 238.44,984.428 \n",
       "  \"/>\n",
       "<polyline clip-path=\"url(#clip370)\" style=\"stroke:#000000; stroke-linecap:butt; stroke-linejoin:round; stroke-width:4; stroke-opacity:1; fill:none\" points=\"\n",
       "  219.542,754.716 238.44,754.716 \n",
       "  \"/>\n",
       "<polyline clip-path=\"url(#clip370)\" style=\"stroke:#000000; stroke-linecap:butt; stroke-linejoin:round; stroke-width:4; stroke-opacity:1; fill:none\" points=\"\n",
       "  219.542,525.004 238.44,525.004 \n",
       "  \"/>\n",
       "<polyline clip-path=\"url(#clip370)\" style=\"stroke:#000000; stroke-linecap:butt; stroke-linejoin:round; stroke-width:4; stroke-opacity:1; fill:none\" points=\"\n",
       "  219.542,295.292 238.44,295.292 \n",
       "  \"/>\n",
       "<polyline clip-path=\"url(#clip370)\" style=\"stroke:#000000; stroke-linecap:butt; stroke-linejoin:round; stroke-width:4; stroke-opacity:1; fill:none\" points=\"\n",
       "  219.542,65.5802 238.44,65.5802 \n",
       "  \"/>\n",
       "<path clip-path=\"url(#clip370)\" d=\"M127.362 1199.94 Q123.751 1199.94 121.922 1203.5 Q120.117 1207.04 120.117 1214.17 Q120.117 1221.28 121.922 1224.85 Q123.751 1228.39 127.362 1228.39 Q130.996 1228.39 132.802 1224.85 Q134.63 1221.28 134.63 1214.17 Q134.63 1207.04 132.802 1203.5 Q130.996 1199.94 127.362 1199.94 M127.362 1196.23 Q133.172 1196.23 136.228 1200.84 Q139.306 1205.42 139.306 1214.17 Q139.306 1222.9 136.228 1227.51 Q133.172 1232.09 127.362 1232.09 Q121.552 1232.09 118.473 1227.51 Q115.418 1222.9 115.418 1214.17 Q115.418 1205.42 118.473 1200.84 Q121.552 1196.23 127.362 1196.23 Z\" fill=\"#000000\" fill-rule=\"evenodd\" fill-opacity=\"1\" /><path clip-path=\"url(#clip370)\" d=\"M147.524 1225.54 L152.408 1225.54 L152.408 1231.42 L147.524 1231.42 L147.524 1225.54 Z\" fill=\"#000000\" fill-rule=\"evenodd\" fill-opacity=\"1\" /><path clip-path=\"url(#clip370)\" d=\"M162.64 1196.86 L180.996 1196.86 L180.996 1200.79 L166.922 1200.79 L166.922 1209.27 Q167.94 1208.92 168.959 1208.76 Q169.977 1208.57 170.996 1208.57 Q176.783 1208.57 180.163 1211.74 Q183.542 1214.92 183.542 1220.33 Q183.542 1225.91 180.07 1229.01 Q176.598 1232.09 170.278 1232.09 Q168.102 1232.09 165.834 1231.72 Q163.589 1231.35 161.181 1230.61 L161.181 1225.91 Q163.265 1227.04 165.487 1227.6 Q167.709 1228.16 170.186 1228.16 Q174.19 1228.16 176.528 1226.05 Q178.866 1223.94 178.866 1220.33 Q178.866 1216.72 176.528 1214.61 Q174.19 1212.51 170.186 1212.51 Q168.311 1212.51 166.436 1212.92 Q164.584 1213.34 162.64 1214.22 L162.64 1196.86 Z\" fill=\"#000000\" fill-rule=\"evenodd\" fill-opacity=\"1\" /><path clip-path=\"url(#clip370)\" d=\"M126.205 970.226 Q122.593 970.226 120.765 973.791 Q118.959 977.333 118.959 984.462 Q118.959 991.569 120.765 995.134 Q122.593 998.675 126.205 998.675 Q129.839 998.675 131.644 995.134 Q133.473 991.569 133.473 984.462 Q133.473 977.333 131.644 973.791 Q129.839 970.226 126.205 970.226 M126.205 966.523 Q132.015 966.523 135.07 971.129 Q138.149 975.713 138.149 984.462 Q138.149 993.189 135.07 997.796 Q132.015 1002.38 126.205 1002.38 Q120.394 1002.38 117.316 997.796 Q114.26 993.189 114.26 984.462 Q114.26 975.713 117.316 971.129 Q120.394 966.523 126.205 966.523 Z\" fill=\"#000000\" fill-rule=\"evenodd\" fill-opacity=\"1\" /><path clip-path=\"url(#clip370)\" d=\"M146.366 995.828 L151.251 995.828 L151.251 1001.71 L146.366 1001.71 L146.366 995.828 Z\" fill=\"#000000\" fill-rule=\"evenodd\" fill-opacity=\"1\" /><path clip-path=\"url(#clip370)\" d=\"M172.014 982.564 Q168.866 982.564 167.015 984.717 Q165.186 986.87 165.186 990.62 Q165.186 994.347 167.015 996.523 Q168.866 998.675 172.014 998.675 Q175.163 998.675 176.991 996.523 Q178.843 994.347 178.843 990.62 Q178.843 986.87 176.991 984.717 Q175.163 982.564 172.014 982.564 M181.297 967.912 L181.297 972.171 Q179.538 971.338 177.732 970.898 Q175.95 970.458 174.19 970.458 Q169.561 970.458 167.107 973.583 Q164.677 976.708 164.329 983.027 Q165.695 981.013 167.755 979.949 Q169.815 978.861 172.292 978.861 Q177.501 978.861 180.51 982.032 Q183.542 985.18 183.542 990.62 Q183.542 995.944 180.394 999.161 Q177.246 1002.38 172.014 1002.38 Q166.019 1002.38 162.848 997.796 Q159.677 993.189 159.677 984.462 Q159.677 976.268 163.565 971.407 Q167.454 966.523 174.005 966.523 Q175.764 966.523 177.547 966.87 Q179.352 967.217 181.297 967.912 Z\" fill=\"#000000\" fill-rule=\"evenodd\" fill-opacity=\"1\" /><path clip-path=\"url(#clip370)\" d=\"M127.269 740.515 Q123.658 740.515 121.83 744.079 Q120.024 747.621 120.024 754.751 Q120.024 761.857 121.83 765.422 Q123.658 768.963 127.269 768.963 Q130.904 768.963 132.709 765.422 Q134.538 761.857 134.538 754.751 Q134.538 747.621 132.709 744.079 Q130.904 740.515 127.269 740.515 M127.269 736.811 Q133.08 736.811 136.135 741.417 Q139.214 746.001 139.214 754.751 Q139.214 763.477 136.135 768.084 Q133.08 772.667 127.269 772.667 Q121.459 772.667 118.381 768.084 Q115.325 763.477 115.325 754.751 Q115.325 746.001 118.381 741.417 Q121.459 736.811 127.269 736.811 Z\" fill=\"#000000\" fill-rule=\"evenodd\" fill-opacity=\"1\" /><path clip-path=\"url(#clip370)\" d=\"M147.431 766.116 L152.316 766.116 L152.316 771.996 L147.431 771.996 L147.431 766.116 Z\" fill=\"#000000\" fill-rule=\"evenodd\" fill-opacity=\"1\" /><path clip-path=\"url(#clip370)\" d=\"M161.32 737.436 L183.542 737.436 L183.542 739.427 L170.996 771.996 L166.112 771.996 L177.917 741.371 L161.32 741.371 L161.32 737.436 Z\" fill=\"#000000\" fill-rule=\"evenodd\" fill-opacity=\"1\" /><path clip-path=\"url(#clip370)\" d=\"M126.459 510.803 Q122.848 510.803 121.019 514.367 Q119.214 517.909 119.214 525.039 Q119.214 532.145 121.019 535.71 Q122.848 539.252 126.459 539.252 Q130.093 539.252 131.899 535.71 Q133.728 532.145 133.728 525.039 Q133.728 517.909 131.899 514.367 Q130.093 510.803 126.459 510.803 M126.459 507.099 Q132.269 507.099 135.325 511.705 Q138.404 516.289 138.404 525.039 Q138.404 533.765 135.325 538.372 Q132.269 542.955 126.459 542.955 Q120.649 542.955 117.57 538.372 Q114.515 533.765 114.515 525.039 Q114.515 516.289 117.57 511.705 Q120.649 507.099 126.459 507.099 Z\" fill=\"#000000\" fill-rule=\"evenodd\" fill-opacity=\"1\" /><path clip-path=\"url(#clip370)\" d=\"M146.621 536.404 L151.505 536.404 L151.505 542.284 L146.621 542.284 L146.621 536.404 Z\" fill=\"#000000\" fill-rule=\"evenodd\" fill-opacity=\"1\" /><path clip-path=\"url(#clip370)\" d=\"M171.69 525.872 Q168.357 525.872 166.436 527.654 Q164.538 529.437 164.538 532.562 Q164.538 535.687 166.436 537.469 Q168.357 539.252 171.69 539.252 Q175.024 539.252 176.945 537.469 Q178.866 535.664 178.866 532.562 Q178.866 529.437 176.945 527.654 Q175.047 525.872 171.69 525.872 M167.015 523.881 Q164.005 523.141 162.315 521.08 Q160.649 519.02 160.649 516.057 Q160.649 511.914 163.589 509.506 Q166.552 507.099 171.69 507.099 Q176.852 507.099 179.792 509.506 Q182.732 511.914 182.732 516.057 Q182.732 519.02 181.042 521.08 Q179.376 523.141 176.389 523.881 Q179.769 524.668 181.644 526.96 Q183.542 529.252 183.542 532.562 Q183.542 537.585 180.464 540.27 Q177.408 542.955 171.69 542.955 Q165.973 542.955 162.894 540.27 Q159.839 537.585 159.839 532.562 Q159.839 529.252 161.737 526.96 Q163.635 524.668 167.015 523.881 M165.302 516.497 Q165.302 519.182 166.968 520.687 Q168.658 522.191 171.69 522.191 Q174.7 522.191 176.389 520.687 Q178.102 519.182 178.102 516.497 Q178.102 513.812 176.389 512.307 Q174.7 510.803 171.69 510.803 Q168.658 510.803 166.968 512.307 Q165.302 513.812 165.302 516.497 Z\" fill=\"#000000\" fill-rule=\"evenodd\" fill-opacity=\"1\" /><path clip-path=\"url(#clip370)\" d=\"M126.552 281.091 Q122.941 281.091 121.112 284.656 Q119.306 288.197 119.306 295.327 Q119.306 302.433 121.112 305.998 Q122.941 309.54 126.552 309.54 Q130.186 309.54 131.992 305.998 Q133.82 302.433 133.82 295.327 Q133.82 288.197 131.992 284.656 Q130.186 281.091 126.552 281.091 M126.552 277.387 Q132.362 277.387 135.417 281.994 Q138.496 286.577 138.496 295.327 Q138.496 304.054 135.417 308.66 Q132.362 313.243 126.552 313.243 Q120.742 313.243 117.663 308.66 Q114.607 304.054 114.607 295.327 Q114.607 286.577 117.663 281.994 Q120.742 277.387 126.552 277.387 Z\" fill=\"#000000\" fill-rule=\"evenodd\" fill-opacity=\"1\" /><path clip-path=\"url(#clip370)\" d=\"M146.714 306.692 L151.598 306.692 L151.598 312.572 L146.714 312.572 L146.714 306.692 Z\" fill=\"#000000\" fill-rule=\"evenodd\" fill-opacity=\"1\" /><path clip-path=\"url(#clip370)\" d=\"M161.922 311.854 L161.922 307.595 Q163.681 308.429 165.487 308.868 Q167.292 309.308 169.028 309.308 Q173.658 309.308 176.089 306.206 Q178.542 303.081 178.889 296.739 Q177.547 298.73 175.487 299.794 Q173.427 300.859 170.927 300.859 Q165.741 300.859 162.709 297.734 Q159.7 294.586 159.7 289.146 Q159.7 283.822 162.848 280.605 Q165.996 277.387 171.227 277.387 Q177.223 277.387 180.371 281.994 Q183.542 286.577 183.542 295.327 Q183.542 303.498 179.653 308.382 Q175.788 313.243 169.237 313.243 Q167.477 313.243 165.672 312.896 Q163.866 312.549 161.922 311.854 M171.227 297.202 Q174.376 297.202 176.204 295.049 Q178.056 292.896 178.056 289.146 Q178.056 285.419 176.204 283.267 Q174.376 281.091 171.227 281.091 Q168.079 281.091 166.227 283.267 Q164.399 285.419 164.399 289.146 Q164.399 292.896 166.227 295.049 Q168.079 297.202 171.227 297.202 Z\" fill=\"#000000\" fill-rule=\"evenodd\" fill-opacity=\"1\" /><path clip-path=\"url(#clip370)\" d=\"M117.177 78.925 L124.816 78.925 L124.816 52.5594 L116.506 54.2261 L116.506 49.9668 L124.769 48.3002 L129.445 48.3002 L129.445 78.925 L137.084 78.925 L137.084 82.8602 L117.177 82.8602 L117.177 78.925 Z\" fill=\"#000000\" fill-rule=\"evenodd\" fill-opacity=\"1\" /><path clip-path=\"url(#clip370)\" d=\"M146.529 76.9806 L151.413 76.9806 L151.413 82.8602 L146.529 82.8602 L146.529 76.9806 Z\" fill=\"#000000\" fill-rule=\"evenodd\" fill-opacity=\"1\" /><path clip-path=\"url(#clip370)\" d=\"M171.598 51.3789 Q167.987 51.3789 166.158 54.9437 Q164.352 58.4853 164.352 65.6149 Q164.352 72.7213 166.158 76.2861 Q167.987 79.8278 171.598 79.8278 Q175.232 79.8278 177.038 76.2861 Q178.866 72.7213 178.866 65.6149 Q178.866 58.4853 177.038 54.9437 Q175.232 51.3789 171.598 51.3789 M171.598 47.6752 Q177.408 47.6752 180.464 52.2816 Q183.542 56.8649 183.542 65.6149 Q183.542 74.3417 180.464 78.9482 Q177.408 83.5315 171.598 83.5315 Q165.788 83.5315 162.709 78.9482 Q159.653 74.3417 159.653 65.6149 Q159.653 56.8649 162.709 52.2816 Q165.788 47.6752 171.598 47.6752 Z\" fill=\"#000000\" fill-rule=\"evenodd\" fill-opacity=\"1\" /><path clip-path=\"url(#clip370)\" d=\"M14.479 755.439 L19.3487 755.439 L19.3487 761.041 Q19.3487 764.192 20.6219 765.433 Q21.895 766.643 25.2052 766.643 L28.3562 766.643 L28.3562 756.999 L32.9077 756.999 L32.9077 766.643 L64.0042 766.643 L64.0042 772.531 L32.9077 772.531 L32.9077 778.133 L28.3562 778.133 L28.3562 772.531 L25.8736 772.531 Q19.9216 772.531 17.2162 769.762 Q14.479 766.993 14.479 760.977 L14.479 755.439 Z\" fill=\"#000000\" fill-rule=\"evenodd\" fill-opacity=\"1\" /><path clip-path=\"url(#clip370)\" d=\"M74.8259 723.451 L79.3773 723.451 L79.3773 757.317 L74.8259 757.317 L74.8259 723.451 Z\" fill=\"#000000\" fill-rule=\"evenodd\" fill-opacity=\"1\" /><path clip-path=\"url(#clip370)\" d=\"M29.7248 692.291 L35.1993 692.291 Q33.8307 694.774 33.1623 697.288 Q32.4621 699.771 32.4621 702.317 Q32.4621 708.014 36.0905 711.166 Q39.6872 714.317 46.212 714.317 Q52.7369 714.317 56.3653 711.166 Q59.9619 708.014 59.9619 702.317 Q59.9619 699.771 59.2935 697.288 Q58.5933 694.774 57.2247 692.291 L62.6355 692.291 Q63.7814 694.742 64.3543 697.384 Q64.9272 699.994 64.9272 702.954 Q64.9272 711.006 59.8664 715.749 Q54.8057 720.491 46.212 720.491 Q37.491 720.491 32.4939 715.717 Q27.4968 710.911 27.4968 702.572 Q27.4968 699.866 28.0697 697.288 Q28.6108 694.71 29.7248 692.291 Z\" fill=\"#000000\" fill-rule=\"evenodd\" fill-opacity=\"1\" /><polyline clip-path=\"url(#clip372)\" style=\"stroke:#009af9; stroke-linecap:butt; stroke-linejoin:round; stroke-width:4; stroke-opacity:1; fill:none\" points=\"\n",
       "  279.916,86.1857 332.876,107.095 385.835,132.912 438.795,162.933 491.755,196.772 544.714,234.203 597.674,275.048 650.634,319.098 703.593,366.057 756.553,415.514 \n",
       "  809.512,466.945 862.472,519.736 915.432,573.222 968.391,626.738 1021.35,679.655 1074.31,731.424 1127.27,781.59 1180.23,829.805 1233.19,875.825 1286.15,919.498 \n",
       "  1339.11,960.755 1392.07,999.587 1445.03,1036.04 1497.99,1070.19 1550.95,1102.14 1603.91,1132.01 1656.87,1159.92 1709.83,1186 1762.79,1210.38 1815.75,1233.18 \n",
       "  1868.7,1254.51 1921.66,1274.49 1974.62,1293.22 2027.58,1310.8 2080.54,1327.31 2133.5,1342.84 2186.46,1357.46 2239.42,1371.24 2292.38,1384.24 \n",
       "  \"/>\n",
       "<path clip-path=\"url(#clip370)\" d=\"\n",
       "M1992.19 196.789 L2281.65 196.789 L2281.65 93.1086 L1992.19 93.1086  Z\n",
       "  \" fill=\"#ffffff\" fill-rule=\"evenodd\" fill-opacity=\"1\"/>\n",
       "<polyline clip-path=\"url(#clip370)\" style=\"stroke:#000000; stroke-linecap:butt; stroke-linejoin:round; stroke-width:4; stroke-opacity:1; fill:none\" points=\"\n",
       "  1992.19,196.789 2281.65,196.789 2281.65,93.1086 1992.19,93.1086 1992.19,196.789 \n",
       "  \"/>\n",
       "<polyline clip-path=\"url(#clip370)\" style=\"stroke:#009af9; stroke-linecap:butt; stroke-linejoin:round; stroke-width:4; stroke-opacity:1; fill:none\" points=\"\n",
       "  2015.9,144.949 2158.11,144.949 \n",
       "  \"/>\n",
       "<path clip-path=\"url(#clip370)\" d=\"M2195.66 164.636 Q2193.85 169.266 2192.14 170.678 Q2190.42 172.09 2187.55 172.09 L2184.15 172.09 L2184.15 168.525 L2186.65 168.525 Q2188.41 168.525 2189.38 167.692 Q2190.36 166.858 2191.54 163.756 L2192.3 161.812 L2181.81 136.303 L2186.33 136.303 L2194.43 156.581 L2202.53 136.303 L2207.05 136.303 L2195.66 164.636 Z\" fill=\"#000000\" fill-rule=\"evenodd\" fill-opacity=\"1\" /><path clip-path=\"url(#clip370)\" d=\"M2214.34 158.293 L2221.98 158.293 L2221.98 131.928 L2213.67 133.595 L2213.67 129.335 L2221.93 127.669 L2226.61 127.669 L2226.61 158.293 L2234.24 158.293 L2234.24 162.229 L2214.34 162.229 L2214.34 158.293 Z\" fill=\"#000000\" fill-rule=\"evenodd\" fill-opacity=\"1\" /></svg>\n"
      ]
     },
     "execution_count": 58,
     "metadata": {},
     "output_type": "execute_result"
    }
   ],
   "source": [
    "fconde = Vector{Float64}() \n",
    "variance = Vector{Float64}()  \n",
    "correlation = Vector{Float64}() \n",
    "for t in 1:0.5:20\n",
    "    J=10\n",
    "    U=t*J\n",
    "    diagscomp = [];\n",
    "    for j in 1:D \n",
    "        sumsdeocup = []; \n",
    "        for k in 1:M\n",
    "        push!(sumsdeocup, valdiags(k, v[j], M))\n",
    "        end  \n",
    "        push!(diagscomp, sum(sumsdeocup))    \n",
    "    end    \n",
    "    Vals = U*diagscomp\n",
    "    Hint = spzeros(D,D)\n",
    "    Hint[diagind(Hint)] = Vals; Hint \n",
    "    Hkin = spzeros(D,D)\n",
    "    firstcolumn = [] \n",
    "    for j in 1:D\n",
    "        for k in 1:M \n",
    "            for h in 1:M   \n",
    "                if k == h \n",
    "                    break \n",
    "                elseif creation_ann(k,h,v[j]) == 0 \n",
    "                    continue \n",
    "                elseif abs(k-h)>2 \n",
    "                    continue \n",
    "                else \n",
    "                     Hkin[DictOfInds[tag(creation_ann( k, h , v[j] )[2],M)], j] = -J*(creation_ann( k, h , v[j])[1])     \n",
    "                end\n",
    "            end \n",
    "        end  \n",
    "    end  \n",
    "    Hkin = Symmetric(Hkin, :L)  \n",
    "    H=Hkin+Hint  \n",
    "    Eval, Evec = eigs(H,nev=2,which=:SR, v0 = ones(D))   \n",
    "    G = Evec[:,1]\n",
    "    SPDM = spzeros(M,M) \n",
    "    for k in 1:M \n",
    "        for h in 1:M   \n",
    "            if k == h \n",
    "                SPDM[k , k] = dot(G, matrixoccupation(k,D)*G) \n",
    "            else  \n",
    "                t = matrixofcreationann(k,h)*G\n",
    "                SPDM[k , h] = dot(G,t)  \n",
    "            end\n",
    "        end  \n",
    "    end   \n",
    "    SPDM = Symmetric(SPDM, :L)\n",
    "    EvalSPDM, EvecSPDM = eigs(SPDM , nev=1, which =:LR, v0=ones(M))    \n",
    "    push!(fconde, real(EvalSPDM[1])/N)   \n",
    "    #Correlacion  \n",
    "    #push!(correlation, dot(G, matrixofcreationann(1 ,floor(M/2) )*G )) \n",
    "    #Varianza \n",
    "    v1 = matrixoccupation(2,D)\n",
    "    v2 = matrixoccupation(2,D)^2\n",
    "    push!(variance, sqrt(dot(G, v2*G) - (dot(G, v1*G))^2)) \n",
    "end       \n",
    "t = 1:0.5:20\n",
    "plot(t,fconde, xlabel = \"U/J\", ylabel= \"f_c\")\n",
    "#plot(t,variance, xlabel = \"U/J\", ylabel= \"σᵢ\") \n",
    "#plot(t, correlation, xlabel = \"U/J\", ylabel = \"ρ⁽¹⁾\")"
   ]
  },
  {
   "cell_type": "code",
   "execution_count": 110,
   "id": "3ce35b03",
   "metadata": {},
   "outputs": [
    {
     "ename": "LoadError",
     "evalue": "KeyError: key 44.69448154405166 not found",
     "output_type": "error",
     "traceback": [
      "KeyError: key 44.69448154405166 not found",
      "",
      "Stacktrace:",
      " [1] getindex(h::Dict{Float64, Int64}, key::Float64)",
      "   @ Base ./dict.jl:482",
      " [2] top-level scope",
      "   @ ./In[110]:28",
      " [3] eval",
      "   @ ./boot.jl:360 [inlined]",
      " [4] include_string(mapexpr::typeof(REPL.softscope), mod::Module, code::String, filename::String)",
      "   @ Base ./loading.jl:1116"
     ]
    }
   ],
   "source": [
    "fconde = Vector{Float64}() \n",
    "variance = Vector{Float64}()  \n",
    "correlation = Vector{Float64}() \n",
    "for t in 1:0.5:20\n",
    "    J=10\n",
    "    U=t*J\n",
    "    diagscomp = [];\n",
    "    for j in 1:D \n",
    "        sumsdeocup = []; \n",
    "        for k in 1:M\n",
    "        push!(sumsdeocup, valdiags(k, v[j], M))\n",
    "        end  \n",
    "        push!(diagscomp, sum(sumsdeocup))    \n",
    "    end    \n",
    "    Vals = U*diagscomp\n",
    "    Hint = spzeros(D,D)\n",
    "    Hint[diagind(Hint)] = Vals; Hint \n",
    "    Hkin = spzeros(D,D)\n",
    "    firstcolumn = [] \n",
    "    for j in 1:D\n",
    "        for k in 1:M \n",
    "            for h in 1:M   \n",
    "                if k == h \n",
    "                    break \n",
    "                elseif creation_ann(k,h,v[j]) == 0 \n",
    "                    continue \n",
    "                else \n",
    "                     Hkin[DictOfInds[tag(creation_ann( k, h , v[j] )[2],M)], j] = -J*(creation_ann( k, h , v[j])[1])     \n",
    "                end\n",
    "            end \n",
    "        end  \n",
    "    end  \n",
    "    Hkin = Symmetric(Hkin, :L)  \n",
    "    H=Hkin+Hint  \n",
    "    Eval, Evec = eigs(H,nev=2,which=:SR, v0 = ones(D))   \n",
    "    G = Evec[:,1]\n",
    "    SPDM = spzeros(M,M) \n",
    "    for k in 1:M \n",
    "        for h in 1:M   \n",
    "            if k == h \n",
    "                SPDM[k , k] = dot(G, matrixoccupation(k,D)*G) \n",
    "            else  \n",
    "                t = matrixofcreationann(k,h)*G\n",
    "                SPDM[k , h] = dot(G,t)  \n",
    "            end\n",
    "        end  \n",
    "    end   \n",
    "    SPDM = Symmetric(SPDM, :L)\n",
    "    EvalSPDM, EvecSPDM = eigs(SPDM , nev=1)    \n",
    "    push!(fconde, real(EvalSPDM[1])/N)   \n",
    "    #Correlacion  \n",
    "#   push!(correlation, dot(G, matrixofcreationann(1 ,floor(M/2) )*G )) \n",
    "    #Varianza \n",
    "    v1 = matrixoccupation(3,D)\n",
    "    v2 = matrixoccupation(3,D)^2\n",
    "    push!(variance, sqrt(dot(G, v2*G) - (dot(G, v1*G))^2)) \n",
    "end       \n",
    "t = 1:0.5:20\n",
    "plot(t,fconde, xlabel = \"U/J\", ylabel= \"f_c\")\n",
    "#plot(t,variance, xlabel = \"U/J\", ylabel= \"σ\") \n",
    "#plot(t, correlation, xlabel = \"U/J\", ylabel = \"ρ⁽¹⁾\")"
   ]
  },
  {
   "cell_type": "code",
   "execution_count": 33,
   "id": "8fa28126",
   "metadata": {},
   "outputs": [
    {
     "data": {
      "text/plain": [
       "10×10 SparseMatrixCSC{Float64, Int64} with 6 stored entries:\n",
       "  ⋅    ⋅    ⋅        ⋅    ⋅        ⋅        ⋅    ⋅        ⋅        ⋅ \n",
       "  ⋅    ⋅    ⋅        ⋅    ⋅        ⋅        ⋅    ⋅        ⋅        ⋅ \n",
       "  ⋅    ⋅   1.41421   ⋅    ⋅        ⋅        ⋅    ⋅        ⋅        ⋅ \n",
       "  ⋅    ⋅    ⋅        ⋅    ⋅        ⋅        ⋅    ⋅        ⋅        ⋅ \n",
       "  ⋅    ⋅    ⋅        ⋅   1.41421   ⋅        ⋅    ⋅        ⋅        ⋅ \n",
       "  ⋅    ⋅    ⋅        ⋅    ⋅       2.44949   ⋅    ⋅        ⋅        ⋅ \n",
       "  ⋅    ⋅    ⋅        ⋅    ⋅        ⋅        ⋅    ⋅        ⋅        ⋅ \n",
       "  ⋅    ⋅    ⋅        ⋅    ⋅        ⋅        ⋅   1.41421   ⋅        ⋅ \n",
       "  ⋅    ⋅    ⋅        ⋅    ⋅        ⋅        ⋅    ⋅       2.44949   ⋅ \n",
       "  ⋅    ⋅    ⋅        ⋅    ⋅        ⋅        ⋅    ⋅        ⋅       3.4641"
      ]
     },
     "execution_count": 33,
     "metadata": {},
     "output_type": "execute_result"
    }
   ],
   "source": [
    "matrixofcreationann(3,3)"
   ]
  },
  {
   "cell_type": "code",
   "execution_count": 282,
   "id": "bc8b81fa",
   "metadata": {},
   "outputs": [
    {
     "data": {
      "text/plain": [
       "2-element Vector{Any}:\n",
       " 1.7320508075688772\n",
       "  [0, 1, 2]"
      ]
     },
     "execution_count": 282,
     "metadata": {},
     "output_type": "execute_result"
    }
   ],
   "source": [
    "creation_ann(2,3,v[10])"
   ]
  },
  {
   "cell_type": "code",
   "execution_count": 298,
   "id": "e8d49a04",
   "metadata": {},
   "outputs": [
    {
     "data": {
      "text/plain": [
       "3-element Vector{Int64}:\n",
       " 0\n",
       " 2\n",
       " 1"
      ]
     },
     "execution_count": 298,
     "metadata": {},
     "output_type": "execute_result"
    }
   ],
   "source": [
    "v[8]"
   ]
  },
  {
   "cell_type": "code",
   "execution_count": 18,
   "id": "3b7f4acb",
   "metadata": {},
   "outputs": [
    {
     "ename": "LoadError",
     "evalue": "BoundsError: attempt to access 4-element Vector{Int64} at index [5]",
     "output_type": "error",
     "traceback": [
      "BoundsError: attempt to access 4-element Vector{Int64} at index [5]",
      "",
      "Stacktrace:",
      " [1] getindex(A::Vector{Int64}, i1::Int64)",
      "   @ Base ./array.jl:805",
      " [2] top-level scope",
      "   @ ./In[18]:6",
      " [3] eval",
      "   @ ./boot.jl:360 [inlined]",
      " [4] include_string(mapexpr::typeof(REPL.softscope), mod::Module, code::String, filename::String)",
      "   @ Base ./loading.jl:1116"
     ]
    }
   ],
   "source": [
    "v = [[0 for j in 1:M] for j in 1:D] \n",
    "v[1][1]=N\n",
    "a=[0 for j in 1:M]\n",
    "    for i in range(1,D):\n",
    "        k=M-1\n",
    "        while v[i-1][k]==0:\n",
    "            k=k-1\n",
    "        a[:]=v[i-1][:]\n",
    "        if k!=M-1:\n",
    "            a[k]=v[i-1][k]-1\n",
    "            suma=0\n",
    "            for j in range(k+1):\n",
    "                suma=suma+a[j]\n",
    "            a[k+1]=N-suma\n",
    "            v[i][:]=a[:]\n",
    "        if k==M-1:\n",
    "            l=M-2\n",
    "            while v[i-1][l]==0:\n",
    "                l=l-1\n",
    "            a[l]=v[i-1][l]-1\n",
    "            suma=0\n",
    "            for j in range(l+1):\n",
    "                suma=suma+a[j]\n",
    "            a[l+1]=N-suma\n",
    "            for j in range(l+2,M):\n",
    "                a[j]=0\n",
    "            v[i][:]=a[:]\n",
    "        \n",
    "    print(v) "
   ]
  },
  {
   "cell_type": "code",
   "execution_count": 4,
   "id": "e6ba6581",
   "metadata": {},
   "outputs": [
    {
     "data": {
      "text/plain": [
       "4"
      ]
     },
     "execution_count": 4,
     "metadata": {},
     "output_type": "execute_result"
    }
   ],
   "source": [
    "function generate_basis(N, M, D)\n",
    "    basis = [[0 for j in 1:M] for j in 1:D] \n",
    "    v1[1][1]=N  \n",
    "    a=[0 for j in 1:M]\n",
    "end"
   ]
  },
  {
   "cell_type": "code",
   "execution_count": 5,
   "id": "aa41ecd8",
   "metadata": {},
   "outputs": [
    {
     "data": {
      "text/plain": [
       "4-element Vector{Int64}:\n",
       " 0\n",
       " 0\n",
       " 0\n",
       " 0"
      ]
     },
     "execution_count": 5,
     "metadata": {},
     "output_type": "execute_result"
    }
   ],
   "source": [
    "a=[0 for j in 1:M]"
   ]
  },
  {
   "cell_type": "code",
   "execution_count": 3,
   "id": "b6cf04c1",
   "metadata": {},
   "outputs": [
    {
     "data": {
      "text/plain": [
       "35-element Vector{Vector{Int64}}:\n",
       " [4, 0, 0, 0]\n",
       " [0, 0, 0, 0]\n",
       " [0, 0, 0, 0]\n",
       " [0, 0, 0, 0]\n",
       " [0, 0, 0, 0]\n",
       " [0, 0, 0, 0]\n",
       " [0, 0, 0, 0]\n",
       " [0, 0, 0, 0]\n",
       " [0, 0, 0, 0]\n",
       " [0, 0, 0, 0]\n",
       " [0, 0, 0, 0]\n",
       " [0, 0, 0, 0]\n",
       " [0, 0, 0, 0]\n",
       " ⋮\n",
       " [0, 0, 0, 0]\n",
       " [0, 0, 0, 0]\n",
       " [0, 0, 0, 0]\n",
       " [0, 0, 0, 0]\n",
       " [0, 0, 0, 0]\n",
       " [0, 0, 0, 0]\n",
       " [0, 0, 0, 0]\n",
       " [0, 0, 0, 0]\n",
       " [0, 0, 0, 0]\n",
       " [0, 0, 0, 0]\n",
       " [0, 0, 0, 0]\n",
       " [0, 0, 0, 0]"
      ]
     },
     "execution_count": 3,
     "metadata": {},
     "output_type": "execute_result"
    }
   ],
   "source": [
    "v1"
   ]
  },
  {
   "cell_type": "code",
   "execution_count": null,
   "id": "4d2eae6d",
   "metadata": {},
   "outputs": [],
   "source": []
  }
 ],
 "metadata": {
  "kernelspec": {
   "display_name": "Julia 1.6.6",
   "language": "julia",
   "name": "julia-1.6"
  },
  "language_info": {
   "file_extension": ".jl",
   "mimetype": "application/julia",
   "name": "julia",
   "version": "1.6.6"
  }
 },
 "nbformat": 4,
 "nbformat_minor": 5
}
