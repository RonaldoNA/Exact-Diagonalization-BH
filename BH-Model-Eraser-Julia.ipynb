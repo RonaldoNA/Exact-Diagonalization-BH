{
 "cells": [
  {
   "cell_type": "code",
   "execution_count": 1,
   "id": "dcb25c26",
   "metadata": {},
   "outputs": [
    {
     "data": {
      "text/plain": [
       "Szbasis(3, 3, 10, [3 2 … 0 0; 0 1 … 1 0; 0 0 … 2 3])"
      ]
     },
     "execution_count": 1,
     "metadata": {},
     "output_type": "execute_result"
    }
   ],
   "source": [
    "using LinearAlgebra \n",
    "#using Gadfly  \n",
    "using Plots\n",
    "using StaticArrays \n",
    "using SparseArrays \n",
    "using Arpack  \n",
    "using JeszenszkiBasis\n",
    "#Variables globales N,M,D\n",
    "global N=3\n",
    "global M=3\n",
    "global D=Int((factorial(M+N-1))/(factorial(M-1)*factorial(N))) \n",
    "\n",
    "#funcion primos \n",
    "p(i)=100i+3\n",
    "#Generamos la base en orden lexicografico para N=M=3\n",
    "# v = []; \n",
    "# i=1;\n",
    "# for n1 in 0:N  \n",
    "#     for n2 in 0:(N-n1)  \n",
    "#         for n3 in 0:(N-n1-n2)  \n",
    "#             if n1+n2+n3 != N\n",
    "#                 continue \n",
    "#             end\n",
    "#             pushfirst!(v, [n1,n2,n3]) \n",
    "#         end\n",
    "#     end\n",
    "# end    \n",
    "v = Szbasis(M, N)  "
   ]
  },
  {
   "cell_type": "code",
   "execution_count": null,
   "id": "334d7956",
   "metadata": {},
   "outputs": [],
   "source": []
  },
  {
   "cell_type": "code",
   "execution_count": 2,
   "id": "29186e7e",
   "metadata": {},
   "outputs": [
    {
     "data": {
      "text/plain": [
       "tag (generic function with 1 method)"
      ]
     },
     "execution_count": 2,
     "metadata": {},
     "output_type": "execute_result"
    }
   ],
   "source": [
    "function tag(b,M)\n",
    "    tag=0;\n",
    "    for i in 1:M\n",
    "        tag += (√p(i))*b[i] \n",
    "    end\n",
    "    return tag \n",
    "end"
   ]
  },
  {
   "cell_type": "code",
   "execution_count": 3,
   "id": "4eb7f985",
   "metadata": {},
   "outputs": [
    {
     "data": {
      "text/plain": [
       "creation_ann (generic function with 1 method)"
      ]
     },
     "execution_count": 3,
     "metadata": {},
     "output_type": "execute_result"
    }
   ],
   "source": [
    "function creation_ann(k,j,v)     \n",
    "    if(v[j] >= 1) \n",
    "        b = copy(v)\n",
    "        value = sqrt(((b[k])+1)*b[j])\n",
    "        b[j] -= 1; \n",
    "        b[k] += 1;    \n",
    "        return [value , b]   \n",
    "    else \n",
    "        return 0; \n",
    "    end \n",
    "end   "
   ]
  },
  {
   "cell_type": "code",
   "execution_count": 15,
   "id": "6a14bc71",
   "metadata": {},
   "outputs": [
    {
     "data": {
      "text/plain": [
       "matrixofcreationann (generic function with 1 method)"
      ]
     },
     "execution_count": 15,
     "metadata": {},
     "output_type": "execute_result"
    }
   ],
   "source": [
    "function matrixofcreationann(i,k)\n",
    "    mat = spzeros(D,D)\n",
    "    for j in 1:D \n",
    "        if(creation_ann(i,k,v[j])==0) \n",
    "            continue\n",
    "        end\n",
    "        mat[DictOfInds[tag(creation_ann( i, k , v[j] )[2],M)], j] = creation_ann(i, k , v[j])[1] \n",
    "    end   \n",
    "    return rot180(mat) \n",
    "end"
   ]
  },
  {
   "cell_type": "code",
   "execution_count": 4,
   "id": "40e7e0d9",
   "metadata": {},
   "outputs": [
    {
     "data": {
      "text/plain": [
       "creationanG (generic function with 1 method)"
      ]
     },
     "execution_count": 4,
     "metadata": {},
     "output_type": "execute_result"
    }
   ],
   "source": [
    "function creationanG(k,j,v)     \n",
    "    if(v[j] > 0)  \n",
    "        b = copy(v)\n",
    "        value = sqrt(((v[k])+1)*v[j]) \n",
    "        b[j] -= 1 \n",
    "        b[k] += 1    \n",
    "        return (value*dot(b,v))     \n",
    "    else \n",
    "        return 0; \n",
    "    end \n",
    "end   "
   ]
  },
  {
   "cell_type": "code",
   "execution_count": 5,
   "id": "7b4e2d8c",
   "metadata": {},
   "outputs": [
    {
     "data": {
      "text/plain": [
       "valdiags (generic function with 1 method)"
      ]
     },
     "execution_count": 5,
     "metadata": {},
     "output_type": "execute_result"
    }
   ],
   "source": [
    "#Valores de la diagonal de los numeros de ocupacion\n",
    "function valdiags(k, v, M)  \n",
    "    if(v[k] >= 1)  \n",
    "        return  (v[k]*(v[k]-1))/2  \n",
    "    else \n",
    "        return 0;\n",
    "    end  \n",
    "end       "
   ]
  },
  {
   "cell_type": "code",
   "execution_count": 6,
   "id": "161a407f",
   "metadata": {},
   "outputs": [],
   "source": [
    "#Array de tags \n",
    "T = []\n",
    "for i in 1:length(v) \n",
    "     push!(T,  tag( v[i] , M )) \n",
    "end"
   ]
  },
  {
   "cell_type": "code",
   "execution_count": 7,
   "id": "94e4174a",
   "metadata": {},
   "outputs": [
    {
     "data": {
      "text/plain": [
       "Dict{Float64, Int64} with 10 entries:\n",
       "  30.4467 => 1\n",
       "  34.5456 => 2\n",
       "  42.7434 => 4\n",
       "  44.9627 => 8\n",
       "  41.8036 => 6\n",
       "  49.0616 => 9\n",
       "  38.6445 => 3\n",
       "  37.7047 => 5\n",
       "  45.9025 => 7\n",
       "  52.2207 => 10"
      ]
     },
     "execution_count": 7,
     "metadata": {},
     "output_type": "execute_result"
    }
   ],
   "source": [
    "#Ordenamos y hacemos un diccionario Tsorted => indices\n",
    "inds = sortperm(T);\n",
    "Tsorted = T[inds];\n",
    "#DictOfInds = Dict(zip(Tsorted, inds)) \n",
    "DictOfInds = Dict(Tsorted .=> inds)"
   ]
  },
  {
   "cell_type": "code",
   "execution_count": 9,
   "id": "06ff77c8",
   "metadata": {},
   "outputs": [
    {
     "name": "stdout",
     "output_type": "stream",
     "text": [
      "Any[3.0, 1.0, 1.0, 3.0, 1.0, 0.0, 1.0, 1.0, 1.0, 3.0]\n"
     ]
    },
    {
     "data": {
      "image/svg+xml": [
       "<?xml version=\"1.0\" encoding=\"utf-8\"?>\n",
       "<svg xmlns=\"http://www.w3.org/2000/svg\" xmlns:xlink=\"http://www.w3.org/1999/xlink\" width=\"600\" height=\"400\" viewBox=\"0 0 2400 1600\">\n",
       "<defs>\n",
       "  <clipPath id=\"clip070\">\n",
       "    <rect x=\"0\" y=\"0\" width=\"2400\" height=\"1600\"/>\n",
       "  </clipPath>\n",
       "</defs>\n",
       "<path clip-path=\"url(#clip070)\" d=\"\n",
       "M0 1600 L2400 1600 L2400 0 L0 0  Z\n",
       "  \" fill=\"#ffffff\" fill-rule=\"evenodd\" fill-opacity=\"1\"/>\n",
       "<defs>\n",
       "  <clipPath id=\"clip071\">\n",
       "    <rect x=\"480\" y=\"0\" width=\"1681\" height=\"1600\"/>\n",
       "  </clipPath>\n",
       "</defs>\n",
       "<path clip-path=\"url(#clip070)\" d=\"\n",
       "M406.256 1486.45 L1845.46 1486.45 L1845.46 47.2441 L406.256 47.2441  Z\n",
       "  \" fill=\"#ffffff\" fill-rule=\"evenodd\" fill-opacity=\"1\"/>\n",
       "<defs>\n",
       "  <clipPath id=\"clip072\">\n",
       "    <rect x=\"406\" y=\"47\" width=\"1440\" height=\"1440\"/>\n",
       "  </clipPath>\n",
       "</defs>\n",
       "<polyline clip-path=\"url(#clip070)\" style=\"stroke:#000000; stroke-linecap:butt; stroke-linejoin:round; stroke-width:4; stroke-opacity:1; fill:none\" points=\"\n",
       "  406.256,1486.45 1845.46,1486.45 \n",
       "  \"/>\n",
       "<polyline clip-path=\"url(#clip070)\" style=\"stroke:#000000; stroke-linecap:butt; stroke-linejoin:round; stroke-width:4; stroke-opacity:1; fill:none\" points=\"\n",
       "  597.848,1486.45 597.848,1467.55 \n",
       "  \"/>\n",
       "<polyline clip-path=\"url(#clip070)\" style=\"stroke:#000000; stroke-linecap:butt; stroke-linejoin:round; stroke-width:4; stroke-opacity:1; fill:none\" points=\"\n",
       "  899.568,1486.45 899.568,1467.55 \n",
       "  \"/>\n",
       "<polyline clip-path=\"url(#clip070)\" style=\"stroke:#000000; stroke-linecap:butt; stroke-linejoin:round; stroke-width:4; stroke-opacity:1; fill:none\" points=\"\n",
       "  1201.29,1486.45 1201.29,1467.55 \n",
       "  \"/>\n",
       "<polyline clip-path=\"url(#clip070)\" style=\"stroke:#000000; stroke-linecap:butt; stroke-linejoin:round; stroke-width:4; stroke-opacity:1; fill:none\" points=\"\n",
       "  1503.01,1486.45 1503.01,1467.55 \n",
       "  \"/>\n",
       "<polyline clip-path=\"url(#clip070)\" style=\"stroke:#000000; stroke-linecap:butt; stroke-linejoin:round; stroke-width:4; stroke-opacity:1; fill:none\" points=\"\n",
       "  1804.73,1486.45 1804.73,1467.55 \n",
       "  \"/>\n",
       "<path clip-path=\"url(#clip070)\" d=\"M592.501 1544.91 L608.82 1544.91 L608.82 1548.85 L586.876 1548.85 L586.876 1544.91 Q589.538 1542.16 594.121 1537.53 Q598.728 1532.88 599.908 1531.53 Q602.153 1529.01 603.033 1527.27 Q603.936 1525.51 603.936 1523.82 Q603.936 1521.07 601.991 1519.33 Q600.07 1517.6 596.968 1517.6 Q594.769 1517.6 592.316 1518.36 Q589.885 1519.13 587.107 1520.68 L587.107 1515.95 Q589.931 1514.82 592.385 1514.24 Q594.839 1513.66 596.876 1513.66 Q602.246 1513.66 605.44 1516.35 Q608.635 1519.03 608.635 1523.52 Q608.635 1525.65 607.825 1527.57 Q607.038 1529.47 604.931 1532.07 Q604.352 1532.74 601.251 1535.95 Q598.149 1539.15 592.501 1544.91 Z\" fill=\"#000000\" fill-rule=\"evenodd\" fill-opacity=\"1\" /><path clip-path=\"url(#clip070)\" d=\"M902.577 1518.36 L890.772 1536.81 L902.577 1536.81 L902.577 1518.36 M901.35 1514.29 L907.23 1514.29 L907.23 1536.81 L912.16 1536.81 L912.16 1540.7 L907.23 1540.7 L907.23 1548.85 L902.577 1548.85 L902.577 1540.7 L886.975 1540.7 L886.975 1536.19 L901.35 1514.29 Z\" fill=\"#000000\" fill-rule=\"evenodd\" fill-opacity=\"1\" /><path clip-path=\"url(#clip070)\" d=\"M1201.69 1529.7 Q1198.54 1529.7 1196.69 1531.86 Q1194.86 1534.01 1194.86 1537.76 Q1194.86 1541.49 1196.69 1543.66 Q1198.54 1545.82 1201.69 1545.82 Q1204.84 1545.82 1206.67 1543.66 Q1208.52 1541.49 1208.52 1537.76 Q1208.52 1534.01 1206.67 1531.86 Q1204.84 1529.7 1201.69 1529.7 M1210.98 1515.05 L1210.98 1519.31 Q1209.22 1518.48 1207.41 1518.04 Q1205.63 1517.6 1203.87 1517.6 Q1199.24 1517.6 1196.79 1520.72 Q1194.35 1523.85 1194.01 1530.17 Q1195.37 1528.15 1197.43 1527.09 Q1199.49 1526 1201.97 1526 Q1207.18 1526 1210.19 1529.17 Q1213.22 1532.32 1213.22 1537.76 Q1213.22 1543.08 1210.07 1546.3 Q1206.92 1549.52 1201.69 1549.52 Q1195.7 1549.52 1192.53 1544.94 Q1189.35 1540.33 1189.35 1531.6 Q1189.35 1523.41 1193.24 1518.55 Q1197.13 1513.66 1203.68 1513.66 Q1205.44 1513.66 1207.23 1514.01 Q1209.03 1514.36 1210.98 1515.05 Z\" fill=\"#000000\" fill-rule=\"evenodd\" fill-opacity=\"1\" /><path clip-path=\"url(#clip070)\" d=\"M1503.01 1532.44 Q1499.67 1532.44 1497.75 1534.22 Q1495.85 1536 1495.85 1539.13 Q1495.85 1542.25 1497.75 1544.03 Q1499.67 1545.82 1503.01 1545.82 Q1506.34 1545.82 1508.26 1544.03 Q1510.18 1542.23 1510.18 1539.13 Q1510.18 1536 1508.26 1534.22 Q1506.36 1532.44 1503.01 1532.44 M1498.33 1530.45 Q1495.32 1529.7 1493.63 1527.64 Q1491.97 1525.58 1491.97 1522.62 Q1491.97 1518.48 1494.91 1516.07 Q1497.87 1513.66 1503.01 1513.66 Q1508.17 1513.66 1511.11 1516.07 Q1514.05 1518.48 1514.05 1522.62 Q1514.05 1525.58 1512.36 1527.64 Q1510.69 1529.7 1507.71 1530.45 Q1511.09 1531.23 1512.96 1533.52 Q1514.86 1535.82 1514.86 1539.13 Q1514.86 1544.15 1511.78 1546.83 Q1508.73 1549.52 1503.01 1549.52 Q1497.29 1549.52 1494.21 1546.83 Q1491.16 1544.15 1491.16 1539.13 Q1491.16 1535.82 1493.05 1533.52 Q1494.95 1531.23 1498.33 1530.45 M1496.62 1523.06 Q1496.62 1525.75 1498.29 1527.25 Q1499.98 1528.76 1503.01 1528.76 Q1506.02 1528.76 1507.71 1527.25 Q1509.42 1525.75 1509.42 1523.06 Q1509.42 1520.38 1507.71 1518.87 Q1506.02 1517.37 1503.01 1517.37 Q1499.98 1517.37 1498.29 1518.87 Q1496.62 1520.38 1496.62 1523.06 Z\" fill=\"#000000\" fill-rule=\"evenodd\" fill-opacity=\"1\" /><path clip-path=\"url(#clip070)\" d=\"M1779.42 1544.91 L1787.05 1544.91 L1787.05 1518.55 L1778.74 1520.21 L1778.74 1515.95 L1787.01 1514.29 L1791.68 1514.29 L1791.68 1544.91 L1799.32 1544.91 L1799.32 1548.85 L1779.42 1548.85 L1779.42 1544.91 Z\" fill=\"#000000\" fill-rule=\"evenodd\" fill-opacity=\"1\" /><path clip-path=\"url(#clip070)\" d=\"M1818.77 1517.37 Q1815.16 1517.37 1813.33 1520.93 Q1811.52 1524.47 1811.52 1531.6 Q1811.52 1538.71 1813.33 1542.27 Q1815.16 1545.82 1818.77 1545.82 Q1822.4 1545.82 1824.21 1542.27 Q1826.04 1538.71 1826.04 1531.6 Q1826.04 1524.47 1824.21 1520.93 Q1822.4 1517.37 1818.77 1517.37 M1818.77 1513.66 Q1824.58 1513.66 1827.63 1518.27 Q1830.71 1522.85 1830.71 1531.6 Q1830.71 1540.33 1827.63 1544.94 Q1824.58 1549.52 1818.77 1549.52 Q1812.96 1549.52 1809.88 1544.94 Q1806.82 1540.33 1806.82 1531.6 Q1806.82 1522.85 1809.88 1518.27 Q1812.96 1513.66 1818.77 1513.66 Z\" fill=\"#000000\" fill-rule=\"evenodd\" fill-opacity=\"1\" /><polyline clip-path=\"url(#clip070)\" style=\"stroke:#000000; stroke-linecap:butt; stroke-linejoin:round; stroke-width:4; stroke-opacity:1; fill:none\" points=\"\n",
       "  406.256,47.2441 406.256,1486.45 \n",
       "  \"/>\n",
       "<polyline clip-path=\"url(#clip070)\" style=\"stroke:#000000; stroke-linecap:butt; stroke-linejoin:round; stroke-width:4; stroke-opacity:1; fill:none\" points=\"\n",
       "  406.256,238.836 418.541,238.836 \n",
       "  \"/>\n",
       "<polyline clip-path=\"url(#clip070)\" style=\"stroke:#000000; stroke-linecap:butt; stroke-linejoin:round; stroke-width:4; stroke-opacity:1; fill:none\" points=\"\n",
       "  406.256,540.556 418.541,540.556 \n",
       "  \"/>\n",
       "<polyline clip-path=\"url(#clip070)\" style=\"stroke:#000000; stroke-linecap:butt; stroke-linejoin:round; stroke-width:4; stroke-opacity:1; fill:none\" points=\"\n",
       "  406.256,842.276 418.541,842.276 \n",
       "  \"/>\n",
       "<polyline clip-path=\"url(#clip070)\" style=\"stroke:#000000; stroke-linecap:butt; stroke-linejoin:round; stroke-width:4; stroke-opacity:1; fill:none\" points=\"\n",
       "  406.256,1144 418.541,1144 \n",
       "  \"/>\n",
       "<polyline clip-path=\"url(#clip070)\" style=\"stroke:#000000; stroke-linecap:butt; stroke-linejoin:round; stroke-width:4; stroke-opacity:1; fill:none\" points=\"\n",
       "  406.256,1445.72 418.541,1445.72 \n",
       "  \"/>\n",
       "<path clip-path=\"url(#clip070)\" d=\"M353.936 252.181 L370.256 252.181 L370.256 256.116 L348.311 256.116 L348.311 252.181 Q350.973 249.426 355.557 244.797 Q360.163 240.144 361.344 238.801 Q363.589 236.278 364.469 234.542 Q365.372 232.783 365.372 231.093 Q365.372 228.339 363.427 226.602 Q361.506 224.866 358.404 224.866 Q356.205 224.866 353.751 225.63 Q351.321 226.394 348.543 227.945 L348.543 223.223 Q351.367 222.089 353.821 221.51 Q356.274 220.931 358.311 220.931 Q363.682 220.931 366.876 223.616 Q370.071 226.302 370.071 230.792 Q370.071 232.922 369.26 234.843 Q368.473 236.741 366.367 239.334 Q365.788 240.005 362.686 243.223 Q359.585 246.417 353.936 252.181 Z\" fill=\"#000000\" fill-rule=\"evenodd\" fill-opacity=\"1\" /><path clip-path=\"url(#clip070)\" d=\"M360.673 527.35 L348.867 545.799 L360.673 545.799 L360.673 527.35 M359.446 523.276 L365.325 523.276 L365.325 545.799 L370.256 545.799 L370.256 549.688 L365.325 549.688 L365.325 557.836 L360.673 557.836 L360.673 549.688 L345.071 549.688 L345.071 545.174 L359.446 523.276 Z\" fill=\"#000000\" fill-rule=\"evenodd\" fill-opacity=\"1\" /><path clip-path=\"url(#clip070)\" d=\"M358.728 840.413 Q355.58 840.413 353.728 842.565 Q351.899 844.718 351.899 848.468 Q351.899 852.195 353.728 854.371 Q355.58 856.524 358.728 856.524 Q361.876 856.524 363.705 854.371 Q365.557 852.195 365.557 848.468 Q365.557 844.718 363.705 842.565 Q361.876 840.413 358.728 840.413 M368.01 825.76 L368.01 830.019 Q366.251 829.186 364.446 828.746 Q362.663 828.306 360.904 828.306 Q356.274 828.306 353.821 831.431 Q351.39 834.556 351.043 840.875 Q352.409 838.862 354.469 837.797 Q356.529 836.709 359.006 836.709 Q364.214 836.709 367.223 839.88 Q370.256 843.028 370.256 848.468 Q370.256 853.792 367.108 857.01 Q363.96 860.227 358.728 860.227 Q352.733 860.227 349.561 855.644 Q346.39 851.037 346.39 842.311 Q346.39 834.116 350.279 829.255 Q354.168 824.371 360.719 824.371 Q362.478 824.371 364.26 824.718 Q366.066 825.065 368.01 825.76 Z\" fill=\"#000000\" fill-rule=\"evenodd\" fill-opacity=\"1\" /><path clip-path=\"url(#clip070)\" d=\"M358.404 1144.86 Q355.071 1144.86 353.149 1146.65 Q351.251 1148.43 351.251 1151.55 Q351.251 1154.68 353.149 1156.46 Q355.071 1158.24 358.404 1158.24 Q361.737 1158.24 363.659 1156.46 Q365.58 1154.66 365.58 1151.55 Q365.58 1148.43 363.659 1146.65 Q361.76 1144.86 358.404 1144.86 M353.728 1142.87 Q350.719 1142.13 349.029 1140.07 Q347.362 1138.01 347.362 1135.05 Q347.362 1130.91 350.302 1128.5 Q353.265 1126.09 358.404 1126.09 Q363.566 1126.09 366.506 1128.5 Q369.446 1130.91 369.446 1135.05 Q369.446 1138.01 367.756 1140.07 Q366.089 1142.13 363.103 1142.87 Q366.483 1143.66 368.358 1145.95 Q370.256 1148.24 370.256 1151.55 Q370.256 1156.58 367.177 1159.26 Q364.122 1161.95 358.404 1161.95 Q352.686 1161.95 349.608 1159.26 Q346.552 1156.58 346.552 1151.55 Q346.552 1148.24 348.45 1145.95 Q350.348 1143.66 353.728 1142.87 M352.015 1135.49 Q352.015 1138.17 353.682 1139.68 Q355.372 1141.18 358.404 1141.18 Q361.413 1141.18 363.103 1139.68 Q364.816 1138.17 364.816 1135.49 Q364.816 1132.8 363.103 1131.3 Q361.413 1129.79 358.404 1129.79 Q355.372 1129.79 353.682 1131.3 Q352.015 1132.8 352.015 1135.49 Z\" fill=\"#000000\" fill-rule=\"evenodd\" fill-opacity=\"1\" /><path clip-path=\"url(#clip070)\" d=\"M318.96 1459.06 L326.599 1459.06 L326.599 1432.69 L318.288 1434.36 L318.288 1430.1 L326.552 1428.44 L331.228 1428.44 L331.228 1459.06 L338.867 1459.06 L338.867 1463 L318.96 1463 L318.96 1459.06 Z\" fill=\"#000000\" fill-rule=\"evenodd\" fill-opacity=\"1\" /><path clip-path=\"url(#clip070)\" d=\"M358.311 1431.51 Q354.7 1431.51 352.872 1435.08 Q351.066 1438.62 351.066 1445.75 Q351.066 1452.86 352.872 1456.42 Q354.7 1459.96 358.311 1459.96 Q361.946 1459.96 363.751 1456.42 Q365.58 1452.86 365.58 1445.75 Q365.58 1438.62 363.751 1435.08 Q361.946 1431.51 358.311 1431.51 M358.311 1427.81 Q364.122 1427.81 367.177 1432.42 Q370.256 1437 370.256 1445.75 Q370.256 1454.48 367.177 1459.08 Q364.122 1463.67 358.311 1463.67 Q352.501 1463.67 349.423 1459.08 Q346.367 1454.48 346.367 1445.75 Q346.367 1437 349.423 1432.42 Q352.501 1427.81 358.311 1427.81 Z\" fill=\"#000000\" fill-rule=\"evenodd\" fill-opacity=\"1\" /><circle clip-path=\"url(#clip072)\" cx=\"446.988\" cy=\"87.9763\" r=\"18\" fill=\"#fcfea4\" fill-rule=\"evenodd\" fill-opacity=\"1\" stroke=\"#000000\" stroke-opacity=\"1\" stroke-width=\"0\"/>\n",
       "<circle clip-path=\"url(#clip072)\" cx=\"446.988\" cy=\"238.836\" r=\"18\" fill=\"#200c49\" fill-rule=\"evenodd\" fill-opacity=\"1\" stroke=\"#000000\" stroke-opacity=\"1\" stroke-width=\"0\"/>\n",
       "<circle clip-path=\"url(#clip072)\" cx=\"446.988\" cy=\"389.696\" r=\"18\" fill=\"#200c49\" fill-rule=\"evenodd\" fill-opacity=\"1\" stroke=\"#000000\" stroke-opacity=\"1\" stroke-width=\"0\"/>\n",
       "<circle clip-path=\"url(#clip072)\" cx=\"597.848\" cy=\"87.9763\" r=\"18\" fill=\"#200c49\" fill-rule=\"evenodd\" fill-opacity=\"1\" stroke=\"#000000\" stroke-opacity=\"1\" stroke-width=\"0\"/>\n",
       "<circle clip-path=\"url(#clip072)\" cx=\"597.848\" cy=\"238.836\" r=\"18\" fill=\"#f1ef75\" fill-rule=\"evenodd\" fill-opacity=\"1\" stroke=\"#000000\" stroke-opacity=\"1\" stroke-width=\"0\"/>\n",
       "<circle clip-path=\"url(#clip072)\" cx=\"597.848\" cy=\"389.696\" r=\"18\" fill=\"#ad305c\" fill-rule=\"evenodd\" fill-opacity=\"1\" stroke=\"#000000\" stroke-opacity=\"1\" stroke-width=\"0\"/>\n",
       "<circle clip-path=\"url(#clip072)\" cx=\"597.848\" cy=\"540.556\" r=\"18\" fill=\"#000003\" fill-rule=\"evenodd\" fill-opacity=\"1\" stroke=\"#000000\" stroke-opacity=\"1\" stroke-width=\"0\"/>\n",
       "<circle clip-path=\"url(#clip072)\" cx=\"597.848\" cy=\"691.416\" r=\"18\" fill=\"#5f136e\" fill-rule=\"evenodd\" fill-opacity=\"1\" stroke=\"#000000\" stroke-opacity=\"1\" stroke-width=\"0\"/>\n",
       "<circle clip-path=\"url(#clip072)\" cx=\"748.708\" cy=\"87.9763\" r=\"18\" fill=\"#200c49\" fill-rule=\"evenodd\" fill-opacity=\"1\" stroke=\"#000000\" stroke-opacity=\"1\" stroke-width=\"0\"/>\n",
       "<circle clip-path=\"url(#clip072)\" cx=\"748.708\" cy=\"238.836\" r=\"18\" fill=\"#ad305c\" fill-rule=\"evenodd\" fill-opacity=\"1\" stroke=\"#000000\" stroke-opacity=\"1\" stroke-width=\"0\"/>\n",
       "<circle clip-path=\"url(#clip072)\" cx=\"748.708\" cy=\"389.696\" r=\"18\" fill=\"#f1ef75\" fill-rule=\"evenodd\" fill-opacity=\"1\" stroke=\"#000000\" stroke-opacity=\"1\" stroke-width=\"0\"/>\n",
       "<circle clip-path=\"url(#clip072)\" cx=\"748.708\" cy=\"691.416\" r=\"18\" fill=\"#5f136e\" fill-rule=\"evenodd\" fill-opacity=\"1\" stroke=\"#000000\" stroke-opacity=\"1\" stroke-width=\"0\"/>\n",
       "<circle clip-path=\"url(#clip072)\" cx=\"748.708\" cy=\"842.276\" r=\"18\" fill=\"#000003\" fill-rule=\"evenodd\" fill-opacity=\"1\" stroke=\"#000000\" stroke-opacity=\"1\" stroke-width=\"0\"/>\n",
       "<circle clip-path=\"url(#clip072)\" cx=\"899.568\" cy=\"238.836\" r=\"18\" fill=\"#000003\" fill-rule=\"evenodd\" fill-opacity=\"1\" stroke=\"#000000\" stroke-opacity=\"1\" stroke-width=\"0\"/>\n",
       "<circle clip-path=\"url(#clip072)\" cx=\"899.568\" cy=\"540.556\" r=\"18\" fill=\"#f1ef75\" fill-rule=\"evenodd\" fill-opacity=\"1\" stroke=\"#000000\" stroke-opacity=\"1\" stroke-width=\"0\"/>\n",
       "<circle clip-path=\"url(#clip072)\" cx=\"899.568\" cy=\"691.416\" r=\"18\" fill=\"#5f136e\" fill-rule=\"evenodd\" fill-opacity=\"1\" stroke=\"#000000\" stroke-opacity=\"1\" stroke-width=\"0\"/>\n",
       "<circle clip-path=\"url(#clip072)\" cx=\"899.568\" cy=\"993.136\" r=\"18\" fill=\"#200c49\" fill-rule=\"evenodd\" fill-opacity=\"1\" stroke=\"#000000\" stroke-opacity=\"1\" stroke-width=\"0\"/>\n",
       "<circle clip-path=\"url(#clip072)\" cx=\"899.568\" cy=\"1144\" r=\"18\" fill=\"#ad305c\" fill-rule=\"evenodd\" fill-opacity=\"1\" stroke=\"#000000\" stroke-opacity=\"1\" stroke-width=\"0\"/>\n",
       "<circle clip-path=\"url(#clip072)\" cx=\"1050.43\" cy=\"238.836\" r=\"18\" fill=\"#5f136e\" fill-rule=\"evenodd\" fill-opacity=\"1\" stroke=\"#000000\" stroke-opacity=\"1\" stroke-width=\"0\"/>\n",
       "<circle clip-path=\"url(#clip072)\" cx=\"1050.43\" cy=\"389.696\" r=\"18\" fill=\"#5f136e\" fill-rule=\"evenodd\" fill-opacity=\"1\" stroke=\"#000000\" stroke-opacity=\"1\" stroke-width=\"0\"/>\n",
       "<circle clip-path=\"url(#clip072)\" cx=\"1050.43\" cy=\"540.556\" r=\"18\" fill=\"#5f136e\" fill-rule=\"evenodd\" fill-opacity=\"1\" stroke=\"#000000\" stroke-opacity=\"1\" stroke-width=\"0\"/>\n",
       "<circle clip-path=\"url(#clip072)\" cx=\"1050.43\" cy=\"842.276\" r=\"18\" fill=\"#5f136e\" fill-rule=\"evenodd\" fill-opacity=\"1\" stroke=\"#000000\" stroke-opacity=\"1\" stroke-width=\"0\"/>\n",
       "<circle clip-path=\"url(#clip072)\" cx=\"1050.43\" cy=\"1144\" r=\"18\" fill=\"#5f136e\" fill-rule=\"evenodd\" fill-opacity=\"1\" stroke=\"#000000\" stroke-opacity=\"1\" stroke-width=\"0\"/>\n",
       "<circle clip-path=\"url(#clip072)\" cx=\"1050.43\" cy=\"1294.86\" r=\"18\" fill=\"#5f136e\" fill-rule=\"evenodd\" fill-opacity=\"1\" stroke=\"#000000\" stroke-opacity=\"1\" stroke-width=\"0\"/>\n",
       "<circle clip-path=\"url(#clip072)\" cx=\"1201.29\" cy=\"389.696\" r=\"18\" fill=\"#000003\" fill-rule=\"evenodd\" fill-opacity=\"1\" stroke=\"#000000\" stroke-opacity=\"1\" stroke-width=\"0\"/>\n",
       "<circle clip-path=\"url(#clip072)\" cx=\"1201.29\" cy=\"691.416\" r=\"18\" fill=\"#5f136e\" fill-rule=\"evenodd\" fill-opacity=\"1\" stroke=\"#000000\" stroke-opacity=\"1\" stroke-width=\"0\"/>\n",
       "<circle clip-path=\"url(#clip072)\" cx=\"1201.29\" cy=\"842.276\" r=\"18\" fill=\"#f1ef75\" fill-rule=\"evenodd\" fill-opacity=\"1\" stroke=\"#000000\" stroke-opacity=\"1\" stroke-width=\"0\"/>\n",
       "<circle clip-path=\"url(#clip072)\" cx=\"1201.29\" cy=\"1294.86\" r=\"18\" fill=\"#ad305c\" fill-rule=\"evenodd\" fill-opacity=\"1\" stroke=\"#000000\" stroke-opacity=\"1\" stroke-width=\"0\"/>\n",
       "<circle clip-path=\"url(#clip072)\" cx=\"1201.29\" cy=\"1445.72\" r=\"18\" fill=\"#200c49\" fill-rule=\"evenodd\" fill-opacity=\"1\" stroke=\"#000000\" stroke-opacity=\"1\" stroke-width=\"0\"/>\n",
       "<circle clip-path=\"url(#clip072)\" cx=\"1352.15\" cy=\"540.556\" r=\"18\" fill=\"#200c49\" fill-rule=\"evenodd\" fill-opacity=\"1\" stroke=\"#000000\" stroke-opacity=\"1\" stroke-width=\"0\"/>\n",
       "<circle clip-path=\"url(#clip072)\" cx=\"1352.15\" cy=\"993.136\" r=\"18\" fill=\"#fcfea4\" fill-rule=\"evenodd\" fill-opacity=\"1\" stroke=\"#000000\" stroke-opacity=\"1\" stroke-width=\"0\"/>\n",
       "<circle clip-path=\"url(#clip072)\" cx=\"1352.15\" cy=\"1144\" r=\"18\" fill=\"#200c49\" fill-rule=\"evenodd\" fill-opacity=\"1\" stroke=\"#000000\" stroke-opacity=\"1\" stroke-width=\"0\"/>\n",
       "<circle clip-path=\"url(#clip072)\" cx=\"1503.01\" cy=\"540.556\" r=\"18\" fill=\"#ad305c\" fill-rule=\"evenodd\" fill-opacity=\"1\" stroke=\"#000000\" stroke-opacity=\"1\" stroke-width=\"0\"/>\n",
       "<circle clip-path=\"url(#clip072)\" cx=\"1503.01\" cy=\"691.416\" r=\"18\" fill=\"#5f136e\" fill-rule=\"evenodd\" fill-opacity=\"1\" stroke=\"#000000\" stroke-opacity=\"1\" stroke-width=\"0\"/>\n",
       "<circle clip-path=\"url(#clip072)\" cx=\"1503.01\" cy=\"993.136\" r=\"18\" fill=\"#200c49\" fill-rule=\"evenodd\" fill-opacity=\"1\" stroke=\"#000000\" stroke-opacity=\"1\" stroke-width=\"0\"/>\n",
       "<circle clip-path=\"url(#clip072)\" cx=\"1503.01\" cy=\"1144\" r=\"18\" fill=\"#f1ef75\" fill-rule=\"evenodd\" fill-opacity=\"1\" stroke=\"#000000\" stroke-opacity=\"1\" stroke-width=\"0\"/>\n",
       "<circle clip-path=\"url(#clip072)\" cx=\"1503.01\" cy=\"1294.86\" r=\"18\" fill=\"#000003\" fill-rule=\"evenodd\" fill-opacity=\"1\" stroke=\"#000000\" stroke-opacity=\"1\" stroke-width=\"0\"/>\n",
       "<circle clip-path=\"url(#clip072)\" cx=\"1653.87\" cy=\"691.416\" r=\"18\" fill=\"#5f136e\" fill-rule=\"evenodd\" fill-opacity=\"1\" stroke=\"#000000\" stroke-opacity=\"1\" stroke-width=\"0\"/>\n",
       "<circle clip-path=\"url(#clip072)\" cx=\"1653.87\" cy=\"842.276\" r=\"18\" fill=\"#ad305c\" fill-rule=\"evenodd\" fill-opacity=\"1\" stroke=\"#000000\" stroke-opacity=\"1\" stroke-width=\"0\"/>\n",
       "<circle clip-path=\"url(#clip072)\" cx=\"1653.87\" cy=\"1144\" r=\"18\" fill=\"#000003\" fill-rule=\"evenodd\" fill-opacity=\"1\" stroke=\"#000000\" stroke-opacity=\"1\" stroke-width=\"0\"/>\n",
       "<circle clip-path=\"url(#clip072)\" cx=\"1653.87\" cy=\"1294.86\" r=\"18\" fill=\"#f1ef75\" fill-rule=\"evenodd\" fill-opacity=\"1\" stroke=\"#000000\" stroke-opacity=\"1\" stroke-width=\"0\"/>\n",
       "<circle clip-path=\"url(#clip072)\" cx=\"1653.87\" cy=\"1445.72\" r=\"18\" fill=\"#200c49\" fill-rule=\"evenodd\" fill-opacity=\"1\" stroke=\"#000000\" stroke-opacity=\"1\" stroke-width=\"0\"/>\n",
       "<circle clip-path=\"url(#clip072)\" cx=\"1804.73\" cy=\"842.276\" r=\"18\" fill=\"#200c49\" fill-rule=\"evenodd\" fill-opacity=\"1\" stroke=\"#000000\" stroke-opacity=\"1\" stroke-width=\"0\"/>\n",
       "<circle clip-path=\"url(#clip072)\" cx=\"1804.73\" cy=\"1294.86\" r=\"18\" fill=\"#200c49\" fill-rule=\"evenodd\" fill-opacity=\"1\" stroke=\"#000000\" stroke-opacity=\"1\" stroke-width=\"0\"/>\n",
       "<circle clip-path=\"url(#clip072)\" cx=\"1804.73\" cy=\"1445.72\" r=\"18\" fill=\"#fcfea4\" fill-rule=\"evenodd\" fill-opacity=\"1\" stroke=\"#000000\" stroke-opacity=\"1\" stroke-width=\"0\"/>\n",
       "<defs>\n",
       "  <clipPath id=\"clip073\">\n",
       "    <rect x=\"1893\" y=\"47\" width=\"73\" height=\"1440\"/>\n",
       "  </clipPath>\n",
       "</defs>\n",
       "<g clip-path=\"url(#clip073)\">\n",
       "<image width=\"72\" height=\"1439\" xlink:href=\"data:image/png;base64,\n",
       "iVBORw0KGgoAAAANSUhEUgAAAEgAAAWfCAYAAAAI7rB3AAAMWUlEQVR4nO3dwY0rRxAFwaZQ/lsh\n",
       "L6XfLQtUeSQPERYsEg8c9MyQ+/n3/v0O/+uvb/8Bv06gIFAQKAgU5r5/v/03/DQLCgIFgYJAQaAw\n",
       "7/359t/w0ywoCBQECgIFR41gQUGgIFAQKAgU5rmKrSwoCBQECgIFgcK86yq2saAgUBAoCBQcNYIF\n",
       "BYGCQEGgIFBwFQsWFAQKAgWBgvtBwYKCQEGgIFAQKMxx1FhZUBAoCBQECgIFN8yCBQWBgkBBoDDH\n",
       "DbOVBQWBgkBBoCBQmHP/+fbf8NMsKAgUBAoCBYGCxz7BgoJAQaAgUHDDLFhQECgIFAQKAgVXsWBB\n",
       "QaAgUBAouB8ULCgIFAQKAgWBwnwcNVYWFAQKAgWBgkBhzvWfWTYWFAQKAgWBgqNGsKAgUBAoCBQE\n",
       "Co4awYKCQEGgIFAQKHjDLFhQECgIFAQK83HUWFlQECgIFAQKAgXvSQcLCgIFgYJAwVEjWFAQKAgU\n",
       "BAoCBc/mgwUFgYJAQaAgUHAWCxYUBAoCBYGCo0awoCBQECgIFAQKjhrBgoJAQaAgUBAozLn323/D\n",
       "T7OgIFAQKAgUHDWCBQWBgkBBoCBQ8NgnWFAQKAgUBAo+pIMFBYGCQEGgIFCYj6caKwsKAgWBgkBB\n",
       "oOAsFiwoCBQECgIFL1AFCwoCBYGCQEGg4IZZsKAgUBAoCBTcDwoWFAQKAgWBgkDBDbNgQUGgIFAQ\n",
       "KAgUXMWCBQWBgkBBoOB788GCgkBBoCBQECg4agQLCgIFgYJAQaDgKhYsKAgUBAoCBR/SwYKCQEGg\n",
       "IFAQKLiKBQsKAgWBgkBhzvMhvbGgIFAQKAgUBAqOGsGCgkBBoCBQECi4igULCgIFgYJAwYd0sKAg\n",
       "UBAoCBQECnPu+/bf8NMsKAgUBAoCBYGCs1iwoCBQECgIFBw1ggUFgYJAQaAgUHDUCBYUBAoCBYGC\n",
       "o0awoCBQECgIFAQKc5w0VhYUBAoCBYGCQGHOcxbbWFAQKAgUBAqOGsGCgkBBoCBQECi4igULCgIF\n",
       "gYJAQaAwfohzZ0FBoCBQECg4agQLCgIFgYJAQaDgKhYsKAgUBAoChTn38+2/4adZUBAoCBQECgKF\n",
       "ec9VbGNBQaAgUBAoCBTcMAsWFAQKAgWBghtmwYKCQEGgIFAQKMy7Gm3UCQIFgYJAwVEjWFAQKAgU\n",
       "BAoChTmeza8sKAgUBAoCBYHCPGexlQUFgYJAQaAwx1ONlTpBoCBQECgIFBw1ggUFgYJAQaAgUPDY\n",
       "J1hQECgIFAQKXgMO6gSBgkBBoCBQ8J50sKAgUBAoCBQ81QgWFAQKAgWBgkBh3tNoo04QKAgUBAoC\n",
       "BTfMggUFgYJAQaDghlmwoCBQECgIFAQKc9wwW6kTBAoCBYGCQMFZLFhQECgIFAQKPqSDBQWBgkBB\n",
       "oCBQ8L35YEFBoCBQECj43nxQJwgUBAoCBYHCPEeNlQUFgYJAQaAgUPDYJ1hQECgIFAQK/jNLUCcI\n",
       "FAQKAgWBghtmwYKCQEGgIFAQKLhhFiwoCBQECgIFR41gQUGgIFAQKAgUvCcd1AkCBYGCQMFRI1hQ\n",
       "ECgIFAQKAgVPNYIFBYGCQEGgIFBwFgsWFAQKAgWBgn+fFSwoCBQECgIFgYJ/ZRzUCQIFgYJAQaDg\n",
       "hlmwoCBQECgIFDybDxYUBAoCBYGCQMFRI1hQECgIFAQKc31IrywoCBQECgIFgYLvzQd1gkBBoCBQ\n",
       "ECi4YRYsKAgUBAoCBR/SwYKCQEGgIFAQKHjDLFhQECgIFAQKjhrBgoJAQaAgUBAouIoFCwoCBYGC\n",
       "QEGg4NdfgjpBoCBQECjM9VRjZUFBoCBQECgIFNwwCxYUBAoCBYGCQMFVLFhQECgIFAQKPqSDBQWB\n",
       "gkBBoCBQ8BtmwYKCQEGgIFBw1AgWFAQKAgWBgkDBVSxYUBAoCBQECgIFX2YJ6gSBgkBBoODLLMGC\n",
       "gkBBoCBQECi4YRYsKAgUBAoCBYGCq1iwoCBQECgIFLwGHCwoCBQECgIFgYKjRrCgIFAQKAgU5h0f\n",
       "0hsLCgIFgYJAQaDghlmwoCBQECgIFAQKbpgFCwoCBYGCQMFRI1hQECgIFAQKAgVHjWBBQaAgUBAo\n",
       "CBScxYIFBYGCQEGg4KgRLCgIFAQKAgWBgqtYsKAgUBAoCBTm+jLLyoKCQEGgIFAQKDhqBAsKAgWB\n",
       "gkBBoODZfLCgIFAQKAgU5r1v/wm/zYKCQEGgIFAQKDhqBAsKAgWBgkDBD00GCwoCBYGCQEGg4KgR\n",
       "LCgIFAQKAgWBgjfMggUFgYJAQaDgyyzBgoJAQaAgUBAoeMMsWFAQKAgUBAoCBY99ggUFgYJAQaDg\n",
       "qUawoCBQECgIFAQKHvsECwoCBYGCQMH9oGBBQaAgUBAoCBQ8mw8WFAQKAgWBgkDBDbNgQUGgIFAQ\n",
       "KHg2HywoCBQECgIFgcLcb/8FP86CgkBBoCBQECg4iwULCgIFgYJAwRtmwYKCQEGgIFAQKLhhFiwo\n",
       "CBQECgIF94OCBQWBgkBBoCBQcNQIFhQECgIFgYJAwVksWFAQKAgUBAqezQcLCgIFgYJAQaAwfvxl\n",
       "Z0FBoCBQECgIFJzFggUFgYJAQaDg2XywoCBQECgIFAQKns0HCwoCBYGCQMFRI1hQECgIFAQKAgVH\n",
       "jWBBQaAgUBAoCBTmesVsZUFBoCBQECi4YRYsKAgUBAoCBYGCG2bBgoJAQaAgUHDUCBYUBAoCBYGC\n",
       "QGGepxorCwoCBYGCQEGgMPe4YbaxoCBQECgIFLxAFSwoCBQECgIFgYIfmgwWFAQKAgWBgkDBD00G\n",
       "CwoCBYGCQMGz+WBBQaAgUBAoCBS8Jx0sKAgUBAoCBd84DBYUBAoCBYGCQMFRI1hQECgIFAQKAgXv\n",
       "SQcLCgIFgYJAwWvAwYKCQEGgIFAQKDhqBAsKAgWBgkBBoOA96WBBQaAgUBAo+ImuYEFBoCBQECgI\n",
       "FNwwCxYUBAoCBYGCZ/PBgoJAQaAgUBAoOGoECwoCBYGCQEGg4CwWLCgIFAQKAgVHjWBBQaAgUBAo\n",
       "CBRcxYIFBYGCQEGgIFBwwyxYUBAoCBQECo4awYKCQEGgIFAQKDhqBAsKAgWBgkDBUSNYUBAoCBQE\n",
       "CgIFP9EVLCgIFAQKAgWBgv8vFiwoCBQECgIFN8yCBQWBgkBBoCBQmHdcxjYWFAQKAgWBgkDBWSxY\n",
       "UBAoCBQECp7NBwsKAgWBgkBBoODZfLCgIFAQKAgU3A8KFhQECgIFgYJAwbP5YEFBoCBQECgIFJzF\n",
       "ggUFgYJAQaDgJ7qCBQWBgkBBoCBQmOsVs5UFBYGCQEGg4AWqYEFBoCBQECgIFOY5aqwsKAgUBAoC\n",
       "BYGCs1iwoCBQECgIFDzVCBYUBAoCBYGCQMEbZsGCgkBBoCBQECjM9ZXMlQUFgYJAQaDghlmwoCBQ\n",
       "ECgIFAQKfv0lWFAQKAgUBApeoAoWFAQKAgWBgkDBU41gQUGgIFAQKAgU3DALFhQECgIFgcLc45bZ\n",
       "xoKCQEGgIFAQKLhhFiwoCBQECgIFgYKrWLCgIFAQKAgUPNUIFhQECgIFgYJAwWOfYEFBoCBQECjM\n",
       "/ThqbCwoCBQECgIFgYKjRrCgIFAQKAgUBArzXMVWFhQECgIFgYKjRrCgIFAQKAgUBApzP65iGwsK\n",
       "AgWBgkBBoOAsFiwoCBQECgIFTzWCBQWBgkBBoCBQcNQIFhQECgIFgYIP6WBBQaAgUBAoCBQ8mw8W\n",
       "FAQKAgWBgkBh3vnz7b/hp1lQECgIFAQKbpgFCwoCBYGCQEGg4A2zYEFBoCBQECjMfe4HbSwoCBQE\n",
       "CgIFgYKjRrCgIFAQKAgUBApzPZtfWVAQKAgUBAqOGsGCgkBBoCBQECg4agQLCgIFgYJAQaAw7zmL\n",
       "bSwoCBQECgIFN8yCBQWBgkBBoCBQ8J50sKAgUBAoCBQcNYIFBYGCQEGgIFCY56ixsqAgUBAoCBQE\n",
       "Cs5iwYKCQEGgIFCY6wWqlQUFgYJAQaAgUPCb9sGCgkBBoCBQECj4MkuwoCBQECgIFDzVCBYUBAoC\n",
       "BYGCQMFRI1hQECgIFAQKPqSDBQWBgkBBoCBQ8Gw+WFAQKAgUBAoCBWexYEFBoCBQECjM8Wx+ZUFB\n",
       "oCBQECgIFBw1ggUFgYJAQaAgUPCedLCgIFAQKAgU5jhqrCwoCBQECgIFgYI3zIIFBYGCQEGg4Nl8\n",
       "sKAgUBAoCBQECm6YBQsKAgWBgkBBoDDvvG//DT/NgoJAQaAgUHDDLFhQECgIFAQKAoU5jhorCwoC\n",
       "BYGCQOE/LrLuTX/wFc8AAAAASUVORK5CYII=\n",
       "\" transform=\"translate(1893, 47)\"/>\n",
       "</g>\n",
       "<path clip-path=\"url(#clip070)\" d=\"M2001.46 1483.27 L2031.14 1483.27 L2031.14 1487.21 L2001.46 1487.21 L2001.46 1483.27 Z\" fill=\"#000000\" fill-rule=\"evenodd\" fill-opacity=\"1\" /><path clip-path=\"url(#clip070)\" d=\"M2054.08 1469.61 L2042.27 1488.06 L2054.08 1488.06 L2054.08 1469.61 M2052.85 1465.54 L2058.73 1465.54 L2058.73 1488.06 L2063.66 1488.06 L2063.66 1491.95 L2058.73 1491.95 L2058.73 1500.1 L2054.08 1500.1 L2054.08 1491.95 L2038.47 1491.95 L2038.47 1487.44 L2052.85 1465.54 Z\" fill=\"#000000\" fill-rule=\"evenodd\" fill-opacity=\"1\" /><path clip-path=\"url(#clip070)\" d=\"M2081.39 1468.62 Q2077.78 1468.62 2075.95 1472.18 Q2074.14 1475.72 2074.14 1482.85 Q2074.14 1489.96 2075.95 1493.53 Q2077.78 1497.07 2081.39 1497.07 Q2085.02 1497.07 2086.83 1493.53 Q2088.66 1489.96 2088.66 1482.85 Q2088.66 1475.72 2086.83 1472.18 Q2085.02 1468.62 2081.39 1468.62 M2081.39 1464.91 Q2087.2 1464.91 2090.26 1469.52 Q2093.33 1474.1 2093.33 1482.85 Q2093.33 1491.58 2090.26 1496.19 Q2087.2 1500.77 2081.39 1500.77 Q2075.58 1500.77 2072.5 1496.19 Q2069.45 1491.58 2069.45 1482.85 Q2069.45 1474.1 2072.5 1469.52 Q2075.58 1464.91 2081.39 1464.91 Z\" fill=\"#000000\" fill-rule=\"evenodd\" fill-opacity=\"1\" /><path clip-path=\"url(#clip070)\" d=\"M2001.46 1315.92 L2031.14 1315.92 L2031.14 1319.86 L2001.46 1319.86 L2001.46 1315.92 Z\" fill=\"#000000\" fill-rule=\"evenodd\" fill-opacity=\"1\" /><path clip-path=\"url(#clip070)\" d=\"M2055.39 1314.12 Q2058.75 1314.83 2060.63 1317.1 Q2062.52 1319.37 2062.52 1322.7 Q2062.52 1327.82 2059.01 1330.62 Q2055.49 1333.42 2049.01 1333.42 Q2046.83 1333.42 2044.51 1332.98 Q2042.22 1332.56 2039.77 1331.71 L2039.77 1327.19 Q2041.71 1328.33 2044.03 1328.91 Q2046.34 1329.49 2048.87 1329.49 Q2053.26 1329.49 2055.56 1327.75 Q2057.87 1326.01 2057.87 1322.7 Q2057.87 1319.65 2055.72 1317.94 Q2053.59 1316.2 2049.77 1316.2 L2045.74 1316.2 L2045.74 1312.36 L2049.95 1312.36 Q2053.4 1312.36 2055.23 1310.99 Q2057.06 1309.6 2057.06 1307.01 Q2057.06 1304.35 2055.16 1302.94 Q2053.29 1301.5 2049.77 1301.5 Q2047.85 1301.5 2045.65 1301.92 Q2043.45 1302.33 2040.81 1303.21 L2040.81 1299.05 Q2043.47 1298.31 2045.79 1297.94 Q2048.13 1297.56 2050.19 1297.56 Q2055.51 1297.56 2058.61 1300 Q2061.71 1302.4 2061.71 1306.52 Q2061.71 1309.39 2060.07 1311.38 Q2058.43 1313.35 2055.39 1314.12 Z\" fill=\"#000000\" fill-rule=\"evenodd\" fill-opacity=\"1\" /><path clip-path=\"url(#clip070)\" d=\"M2071.44 1298.19 L2089.79 1298.19 L2089.79 1302.12 L2075.72 1302.12 L2075.72 1310.6 Q2076.74 1310.25 2077.76 1310.09 Q2078.77 1309.9 2079.79 1309.9 Q2085.58 1309.9 2088.96 1313.07 Q2092.34 1316.25 2092.34 1321.66 Q2092.34 1327.24 2088.87 1330.34 Q2085.39 1333.42 2079.07 1333.42 Q2076.9 1333.42 2074.63 1333.05 Q2072.39 1332.68 2069.98 1331.94 L2069.98 1327.24 Q2072.06 1328.37 2074.28 1328.93 Q2076.51 1329.49 2078.98 1329.49 Q2082.99 1329.49 2085.32 1327.38 Q2087.66 1325.27 2087.66 1321.66 Q2087.66 1318.05 2085.32 1315.94 Q2082.99 1313.84 2078.98 1313.84 Q2077.11 1313.84 2075.23 1314.25 Q2073.38 1314.67 2071.44 1315.55 L2071.44 1298.19 Z\" fill=\"#000000\" fill-rule=\"evenodd\" fill-opacity=\"1\" /><path clip-path=\"url(#clip070)\" d=\"M2001.46 1148.57 L2031.14 1148.57 L2031.14 1152.51 L2001.46 1152.51 L2001.46 1148.57 Z\" fill=\"#000000\" fill-rule=\"evenodd\" fill-opacity=\"1\" /><path clip-path=\"url(#clip070)\" d=\"M2055.39 1146.77 Q2058.75 1147.48 2060.63 1149.75 Q2062.52 1152.02 2062.52 1155.35 Q2062.52 1160.47 2059.01 1163.27 Q2055.49 1166.07 2049.01 1166.07 Q2046.83 1166.07 2044.51 1165.63 Q2042.22 1165.22 2039.77 1164.36 L2039.77 1159.84 Q2041.71 1160.98 2044.03 1161.56 Q2046.34 1162.14 2048.87 1162.14 Q2053.26 1162.14 2055.56 1160.4 Q2057.87 1158.66 2057.87 1155.35 Q2057.87 1152.3 2055.72 1150.59 Q2053.59 1148.85 2049.77 1148.85 L2045.74 1148.85 L2045.74 1145.01 L2049.95 1145.01 Q2053.4 1145.01 2055.23 1143.64 Q2057.06 1142.25 2057.06 1139.66 Q2057.06 1137 2055.16 1135.59 Q2053.29 1134.15 2049.77 1134.15 Q2047.85 1134.15 2045.65 1134.57 Q2043.45 1134.98 2040.81 1135.86 L2040.81 1131.7 Q2043.47 1130.96 2045.79 1130.59 Q2048.13 1130.22 2050.19 1130.22 Q2055.51 1130.22 2058.61 1132.65 Q2061.71 1135.05 2061.71 1139.17 Q2061.71 1142.04 2060.07 1144.03 Q2058.43 1146 2055.39 1146.77 Z\" fill=\"#000000\" fill-rule=\"evenodd\" fill-opacity=\"1\" /><path clip-path=\"url(#clip070)\" d=\"M2081.39 1133.92 Q2077.78 1133.92 2075.95 1137.48 Q2074.14 1141.03 2074.14 1148.16 Q2074.14 1155.26 2075.95 1158.83 Q2077.78 1162.37 2081.39 1162.37 Q2085.02 1162.37 2086.83 1158.83 Q2088.66 1155.26 2088.66 1148.16 Q2088.66 1141.03 2086.83 1137.48 Q2085.02 1133.92 2081.39 1133.92 M2081.39 1130.22 Q2087.2 1130.22 2090.26 1134.82 Q2093.33 1139.41 2093.33 1148.16 Q2093.33 1156.88 2090.26 1161.49 Q2087.2 1166.07 2081.39 1166.07 Q2075.58 1166.07 2072.5 1161.49 Q2069.45 1156.88 2069.45 1148.16 Q2069.45 1139.41 2072.5 1134.82 Q2075.58 1130.22 2081.39 1130.22 Z\" fill=\"#000000\" fill-rule=\"evenodd\" fill-opacity=\"1\" /><path clip-path=\"url(#clip070)\" d=\"M2001.46 981.223 L2031.14 981.223 L2031.14 985.158 L2001.46 985.158 L2001.46 981.223 Z\" fill=\"#000000\" fill-rule=\"evenodd\" fill-opacity=\"1\" /><path clip-path=\"url(#clip070)\" d=\"M2045.26 994.116 L2061.57 994.116 L2061.57 998.051 L2039.63 998.051 L2039.63 994.116 Q2042.29 991.361 2046.88 986.732 Q2051.48 982.079 2052.66 980.737 Q2054.91 978.213 2055.79 976.477 Q2056.69 974.718 2056.69 973.028 Q2056.69 970.274 2054.75 968.538 Q2052.83 966.801 2049.72 966.801 Q2047.52 966.801 2045.07 967.565 Q2042.64 968.329 2039.86 969.88 L2039.86 965.158 Q2042.69 964.024 2045.14 963.445 Q2047.59 962.866 2049.63 962.866 Q2055 962.866 2058.2 965.551 Q2061.39 968.237 2061.39 972.727 Q2061.39 974.857 2060.58 976.778 Q2059.79 978.676 2057.69 981.269 Q2057.11 981.94 2054.01 985.158 Q2050.9 988.352 2045.26 994.116 Z\" fill=\"#000000\" fill-rule=\"evenodd\" fill-opacity=\"1\" /><path clip-path=\"url(#clip070)\" d=\"M2071.44 963.491 L2089.79 963.491 L2089.79 967.426 L2075.72 967.426 L2075.72 975.899 Q2076.74 975.551 2077.76 975.389 Q2078.77 975.204 2079.79 975.204 Q2085.58 975.204 2088.96 978.375 Q2092.34 981.547 2092.34 986.963 Q2092.34 992.542 2088.87 995.644 Q2085.39 998.723 2079.07 998.723 Q2076.9 998.723 2074.63 998.352 Q2072.39 997.982 2069.98 997.241 L2069.98 992.542 Q2072.06 993.676 2074.28 994.232 Q2076.51 994.787 2078.98 994.787 Q2082.99 994.787 2085.32 992.681 Q2087.66 990.574 2087.66 986.963 Q2087.66 983.352 2085.32 981.246 Q2082.99 979.139 2078.98 979.139 Q2077.11 979.139 2075.23 979.556 Q2073.38 979.973 2071.44 980.852 L2071.44 963.491 Z\" fill=\"#000000\" fill-rule=\"evenodd\" fill-opacity=\"1\" /><path clip-path=\"url(#clip070)\" d=\"M2001.46 813.873 L2031.14 813.873 L2031.14 817.809 L2001.46 817.809 L2001.46 813.873 Z\" fill=\"#000000\" fill-rule=\"evenodd\" fill-opacity=\"1\" /><path clip-path=\"url(#clip070)\" d=\"M2045.26 826.767 L2061.57 826.767 L2061.57 830.702 L2039.63 830.702 L2039.63 826.767 Q2042.29 824.012 2046.88 819.383 Q2051.48 814.73 2052.66 813.387 Q2054.91 810.864 2055.79 809.128 Q2056.69 807.369 2056.69 805.679 Q2056.69 802.924 2054.75 801.188 Q2052.83 799.452 2049.72 799.452 Q2047.52 799.452 2045.07 800.216 Q2042.64 800.98 2039.86 802.531 L2039.86 797.809 Q2042.69 796.674 2045.14 796.096 Q2047.59 795.517 2049.63 795.517 Q2055 795.517 2058.2 798.202 Q2061.39 800.887 2061.39 805.378 Q2061.39 807.508 2060.58 809.429 Q2059.79 811.327 2057.69 813.92 Q2057.11 814.591 2054.01 817.809 Q2050.9 821.003 2045.26 826.767 Z\" fill=\"#000000\" fill-rule=\"evenodd\" fill-opacity=\"1\" /><path clip-path=\"url(#clip070)\" d=\"M2081.39 799.221 Q2077.78 799.221 2075.95 802.785 Q2074.14 806.327 2074.14 813.457 Q2074.14 820.563 2075.95 824.128 Q2077.78 827.67 2081.39 827.67 Q2085.02 827.67 2086.83 824.128 Q2088.66 820.563 2088.66 813.457 Q2088.66 806.327 2086.83 802.785 Q2085.02 799.221 2081.39 799.221 M2081.39 795.517 Q2087.2 795.517 2090.26 800.123 Q2093.33 804.707 2093.33 813.457 Q2093.33 822.183 2090.26 826.79 Q2087.2 831.373 2081.39 831.373 Q2075.58 831.373 2072.5 826.79 Q2069.45 822.183 2069.45 813.457 Q2069.45 804.707 2072.5 800.123 Q2075.58 795.517 2081.39 795.517 Z\" fill=\"#000000\" fill-rule=\"evenodd\" fill-opacity=\"1\" /><path clip-path=\"url(#clip070)\" d=\"M2001.46 646.524 L2031.14 646.524 L2031.14 650.459 L2001.46 650.459 L2001.46 646.524 Z\" fill=\"#000000\" fill-rule=\"evenodd\" fill-opacity=\"1\" /><path clip-path=\"url(#clip070)\" d=\"M2042.04 659.418 L2049.68 659.418 L2049.68 633.052 L2041.37 634.719 L2041.37 630.459 L2049.63 628.793 L2054.31 628.793 L2054.31 659.418 L2061.95 659.418 L2061.95 663.353 L2042.04 663.353 L2042.04 659.418 Z\" fill=\"#000000\" fill-rule=\"evenodd\" fill-opacity=\"1\" /><path clip-path=\"url(#clip070)\" d=\"M2071.44 628.793 L2089.79 628.793 L2089.79 632.728 L2075.72 632.728 L2075.72 641.2 Q2076.74 640.853 2077.76 640.691 Q2078.77 640.506 2079.79 640.506 Q2085.58 640.506 2088.96 643.677 Q2092.34 646.848 2092.34 652.265 Q2092.34 657.843 2088.87 660.945 Q2085.39 664.024 2079.07 664.024 Q2076.9 664.024 2074.63 663.654 Q2072.39 663.283 2069.98 662.543 L2069.98 657.843 Q2072.06 658.978 2074.28 659.533 Q2076.51 660.089 2078.98 660.089 Q2082.99 660.089 2085.32 657.982 Q2087.66 655.876 2087.66 652.265 Q2087.66 648.654 2085.32 646.547 Q2082.99 644.441 2078.98 644.441 Q2077.11 644.441 2075.23 644.857 Q2073.38 645.274 2071.44 646.154 L2071.44 628.793 Z\" fill=\"#000000\" fill-rule=\"evenodd\" fill-opacity=\"1\" /><path clip-path=\"url(#clip070)\" d=\"M2001.46 479.175 L2031.14 479.175 L2031.14 483.11 L2001.46 483.11 L2001.46 479.175 Z\" fill=\"#000000\" fill-rule=\"evenodd\" fill-opacity=\"1\" /><path clip-path=\"url(#clip070)\" d=\"M2042.04 492.068 L2049.68 492.068 L2049.68 465.703 L2041.37 467.369 L2041.37 463.11 L2049.63 461.443 L2054.31 461.443 L2054.31 492.068 L2061.95 492.068 L2061.95 496.003 L2042.04 496.003 L2042.04 492.068 Z\" fill=\"#000000\" fill-rule=\"evenodd\" fill-opacity=\"1\" /><path clip-path=\"url(#clip070)\" d=\"M2081.39 464.522 Q2077.78 464.522 2075.95 468.087 Q2074.14 471.629 2074.14 478.758 Q2074.14 485.865 2075.95 489.429 Q2077.78 492.971 2081.39 492.971 Q2085.02 492.971 2086.83 489.429 Q2088.66 485.865 2088.66 478.758 Q2088.66 471.629 2086.83 468.087 Q2085.02 464.522 2081.39 464.522 M2081.39 460.818 Q2087.2 460.818 2090.26 465.425 Q2093.33 470.008 2093.33 478.758 Q2093.33 487.485 2090.26 492.091 Q2087.2 496.675 2081.39 496.675 Q2075.58 496.675 2072.5 492.091 Q2069.45 487.485 2069.45 478.758 Q2069.45 470.008 2072.5 465.425 Q2075.58 460.818 2081.39 460.818 Z\" fill=\"#000000\" fill-rule=\"evenodd\" fill-opacity=\"1\" /><path clip-path=\"url(#clip070)\" d=\"M2001.46 311.826 L2031.14 311.826 L2031.14 315.761 L2001.46 315.761 L2001.46 311.826 Z\" fill=\"#000000\" fill-rule=\"evenodd\" fill-opacity=\"1\" /><path clip-path=\"url(#clip070)\" d=\"M2041.27 294.094 L2059.63 294.094 L2059.63 298.029 L2045.56 298.029 L2045.56 306.501 Q2046.58 306.154 2047.59 305.992 Q2048.61 305.807 2049.63 305.807 Q2055.42 305.807 2058.8 308.978 Q2062.18 312.15 2062.18 317.566 Q2062.18 323.145 2058.7 326.247 Q2055.23 329.325 2048.91 329.325 Q2046.74 329.325 2044.47 328.955 Q2042.22 328.585 2039.82 327.844 L2039.82 323.145 Q2041.9 324.279 2044.12 324.835 Q2046.34 325.39 2048.82 325.39 Q2052.83 325.39 2055.16 323.284 Q2057.5 321.177 2057.5 317.566 Q2057.5 313.955 2055.16 311.849 Q2052.83 309.742 2048.82 309.742 Q2046.95 309.742 2045.07 310.159 Q2043.22 310.576 2041.27 311.455 L2041.27 294.094 Z\" fill=\"#000000\" fill-rule=\"evenodd\" fill-opacity=\"1\" /><path clip-path=\"url(#clip070)\" d=\"M2013.4 129.824 Q2009.79 129.824 2007.96 133.388 Q2006.16 136.93 2006.16 144.06 Q2006.16 151.166 2007.96 154.731 Q2009.79 158.272 2013.4 158.272 Q2017.04 158.272 2018.84 154.731 Q2020.67 151.166 2020.67 144.06 Q2020.67 136.93 2018.84 133.388 Q2017.04 129.824 2013.4 129.824 M2013.4 126.12 Q2019.21 126.12 2022.27 130.726 Q2025.35 135.31 2025.35 144.06 Q2025.35 152.786 2022.27 157.393 Q2019.21 161.976 2013.4 161.976 Q2007.59 161.976 2004.52 157.393 Q2001.46 152.786 2001.46 144.06 Q2001.46 135.31 2004.52 130.726 Q2007.59 126.12 2013.4 126.12 Z\" fill=\"#000000\" fill-rule=\"evenodd\" fill-opacity=\"1\" /><polyline clip-path=\"url(#clip070)\" style=\"stroke:#000000; stroke-linecap:butt; stroke-linejoin:round; stroke-width:4; stroke-opacity:1; fill:none\" points=\"\n",
       "  1965.46,1486.45 1965.46,1486.45 1989.46,1486.45 1965.46,1486.45 1965.46,1319.1 1989.46,1319.1 1965.46,1319.1 1965.46,1151.75 1989.46,1151.75 1965.46,1151.75 \n",
       "  1965.46,984.4 1989.46,984.4 1965.46,984.4 1965.46,817.051 1989.46,817.051 1965.46,817.051 1965.46,649.701 1989.46,649.701 1965.46,649.701 1965.46,482.352 \n",
       "  1989.46,482.352 1965.46,482.352 1965.46,315.003 1989.46,315.003 1965.46,315.003 1965.46,147.654 1989.46,147.654 1965.46,147.654 1965.46,47.2441 \n",
       "  \"/>\n",
       "</svg>\n"
      ]
     },
     "execution_count": 9,
     "metadata": {},
     "output_type": "execute_result"
    }
   ],
   "source": [
    "#for t in 1:10\n",
    "#    J=10\n",
    "#    U=t*J*0.1 \n",
    "#obtener H_int \n",
    "diagscomp = [];\n",
    "for j in 1:D \n",
    "    sumsdeocup = []; \n",
    "    for k in 1:M\n",
    "        push!(sumsdeocup, valdiags(k, v[j], M))\n",
    "    end  \n",
    "    push!(diagscomp, sum(sumsdeocup))    \n",
    "end   \n",
    "#Mostramos la parte  \n",
    "println(diagscomp)\n",
    "Hint = spzeros(D,D)\n",
    "Hint[diagind(Hint)] = diagscomp; Hint \n",
    "#println(Hint)\n",
    "#Hint=diagm(diagscomp) \n",
    "#spy(Hint) \n",
    "J = 20\n",
    "Hkin = spzeros(D,D)\n",
    "#firstcolumn = [] \n",
    "for j in 1:D\n",
    "    for k in 1:M \n",
    "        for h in 1:M   \n",
    "            if k == h \n",
    "                break \n",
    "            elseif creation_ann(k,h,v[j]) == 0 \n",
    "                continue \n",
    "            else \n",
    "                 Hkin[DictOfInds[tag(creation_ann( k, h , v[j] )[2],M)], j] = -J*(creation_ann( k, h , v[j])[1])     \n",
    "            end\n",
    "        end \n",
    "    end  \n",
    "end  \n",
    "Hkin = Symmetric(Hkin, :L)\n",
    "#println(Hkin)  \n",
    "#spy(Hkin)\n",
    "#end    \n",
    "H=rot180(Hkin+Hint) \n",
    "#H=Hkin+Hint\n",
    "spy(H, markersize = 5)"
   ]
  },
  {
   "cell_type": "code",
   "execution_count": 10,
   "id": "55b3c0ec",
   "metadata": {},
   "outputs": [
    {
     "data": {
      "text/plain": [
       "([-119.00550972827367, -58.34436114160425], [0.1892765183646907 0.2715859780478461; 0.33331554134792163 0.43464354393675153; … ; 0.3333155413479214 -0.4327892176712349; 0.1892765183646903 -0.4611460627644778], 2, 1, 10, [0.0, 0.0, 0.0, 0.0, 0.0, 0.0, 0.0, 0.0, 0.0, 0.0])"
      ]
     },
     "execution_count": 10,
     "metadata": {},
     "output_type": "execute_result"
    }
   ],
   "source": [
    "Eval, Evec = eigs(H , nev=2 , which=:SR)"
   ]
  },
  {
   "cell_type": "code",
   "execution_count": 11,
   "id": "e964b8ee",
   "metadata": {},
   "outputs": [
    {
     "data": {
      "text/plain": [
       "10×2 Matrix{Float64}:\n",
       " 0.189277   0.271586\n",
       " 0.333316   0.434644\n",
       " 0.333316   0.046297\n",
       " 0.333316   0.386492\n",
       " 0.475319  -5.55112e-17\n",
       " 0.333316  -0.383836\n",
       " 0.189277   0.18956\n",
       " 0.333316  -0.050808\n",
       " 0.333316  -0.432789\n",
       " 0.189277  -0.461146"
      ]
     },
     "execution_count": 11,
     "metadata": {},
     "output_type": "execute_result"
    }
   ],
   "source": [
    "Evec"
   ]
  },
  {
   "cell_type": "code",
   "execution_count": 12,
   "id": "94703d65",
   "metadata": {},
   "outputs": [
    {
     "data": {
      "text/plain": [
       "10×10 SparseMatrixCSC{Float64, Int64} with 45 stored entries:\n",
       "   3.0    -34.641   -34.641      ⋅      …     ⋅         ⋅         ⋅ \n",
       " -34.641    1.0     -20.0     -40.0           ⋅         ⋅         ⋅ \n",
       " -34.641  -20.0       1.0        ⋅            ⋅         ⋅         ⋅ \n",
       "    ⋅     -40.0        ⋅        1.0        -20.0        ⋅         ⋅ \n",
       "    ⋅     -28.2843  -28.2843  -28.2843     -28.2843  -28.2843     ⋅ \n",
       "    ⋅        ⋅      -40.0        ⋅      …     ⋅      -20.0     -34.641\n",
       "    ⋅        ⋅         ⋅      -34.641      -34.641      ⋅         ⋅ \n",
       "    ⋅        ⋅         ⋅      -20.0          1.0     -40.0        ⋅ \n",
       "    ⋅        ⋅         ⋅         ⋅         -40.0       1.0     -34.641\n",
       "    ⋅        ⋅         ⋅         ⋅            ⋅      -34.641     3.0"
      ]
     },
     "execution_count": 12,
     "metadata": {},
     "output_type": "execute_result"
    }
   ],
   "source": [
    "H"
   ]
  },
  {
   "cell_type": "code",
   "execution_count": 13,
   "id": "72ac9bae",
   "metadata": {},
   "outputs": [
    {
     "data": {
      "text/plain": [
       "10-element Vector{Float64}:\n",
       " 0.1892765183646907\n",
       " 0.33331554134792163\n",
       " 0.33331554134792174\n",
       " 0.3333155413479211\n",
       " 0.4753185228484954\n",
       " 0.3333155413479216\n",
       " 0.18927651836469012\n",
       " 0.3333155413479212\n",
       " 0.3333155413479214\n",
       " 0.1892765183646903"
      ]
     },
     "execution_count": 13,
     "metadata": {},
     "output_type": "execute_result"
    }
   ],
   "source": [
    "G = Evec[:,1] "
   ]
  },
  {
   "cell_type": "code",
   "execution_count": 23,
   "id": "fd68b846",
   "metadata": {},
   "outputs": [
    {
     "data": {
      "text/plain": [
       "3×3 Symmetric{Float64, SparseMatrixCSC{Float64, Int64}}:\n",
       " 0.0       0.999954  0.999954\n",
       " 0.999954  0.0       0.999954\n",
       " 0.999954  0.999954  0.0"
      ]
     },
     "execution_count": 23,
     "metadata": {},
     "output_type": "execute_result"
    }
   ],
   "source": [
    "SPDM = spzeros(M,M) \n",
    "for k in 1:M \n",
    "    for h in 1:M   \n",
    "        if k == h \n",
    "            break \n",
    "        else  \n",
    "            t = matrixofcreationann(k,h)*G\n",
    "            SPDM[k , h] = dot(G,t)  \n",
    "        end\n",
    "    end  \n",
    "end  \n",
    "SPDM = Symmetric(SPDM, :L)"
   ]
  },
  {
   "cell_type": "code",
   "execution_count": null,
   "id": "f77d0192",
   "metadata": {},
   "outputs": [],
   "source": []
  },
  {
   "cell_type": "code",
   "execution_count": 39,
   "id": "cd7ff01d",
   "metadata": {},
   "outputs": [
    {
     "name": "stdout",
     "output_type": "stream",
     "text": [
      "-0.1635616959500708\n",
      "-0.14014352580859557\n",
      "0.12097968427062591\n",
      "-0.10510654013888587\n",
      "0.09179994045491593\n",
      "-0.08052550562132194\n",
      "0.07088913935545282\n",
      "0.06259719181972323\n",
      "-0.05542679675069831\n",
      "0.049204651419774106\n",
      "-0.043792280569659156\n",
      "0.03907608165756625\n",
      "0.03496076471367093\n",
      "-0.03136509648551444\n",
      "0.028219129748436322\n",
      "-0.02546233904596995\n",
      "0.023042282812324677\n",
      "-0.020913561879344567\n",
      "0.019036947230580803\n",
      "-0.017378613672295845\n"
     ]
    }
   ],
   "source": [
    "for t in 1:20\n",
    "    J=10\n",
    "    U=t*J*0.5\n",
    "    diagscomp = [];\n",
    "    for j in 1:D \n",
    "        sumsdeocup = []; \n",
    "        for k in 1:M\n",
    "        push!(sumsdeocup, valdiags(k, v[j], M))\n",
    "        end  \n",
    "        push!(diagscomp, sum(sumsdeocup))    \n",
    "    end    \n",
    "    Vals = U*diagscomp\n",
    "    Hint = spzeros(D,D)\n",
    "    Hint[diagind(Hint)] = Vals; Hint \n",
    "    Hkin = spzeros(D,D)\n",
    "    firstcolumn = [] \n",
    "    for j in 1:D\n",
    "        for k in 1:M \n",
    "            for h in 1:M   \n",
    "                if k == h \n",
    "                    break \n",
    "                elseif creation_ann(k,h,v[j]) == 0 \n",
    "                    continue \n",
    "                else \n",
    "                     Hkin[DictOfInds[tag(creation_ann( k, h , v[j] )[2],M)], j] = -J*(creation_ann( k, h , v[j])[1])     \n",
    "                end\n",
    "            end \n",
    "        end  \n",
    "    end  \n",
    "    Hkin = Symmetric(Hkin, :L)  \n",
    "    H=rot180(Hkin+Hint)  \n",
    "    Eval, Evec = eigs(H,nev=2,which=:SR) \n",
    "    G = Evec[:,1]   \n",
    "    global var = []\n",
    "    global var2 = []\n",
    "    for i in 1:D  \n",
    "        push!(var, G[i]) \n",
    "        push!(var2, (G[i])^2 )\n",
    "    end \n",
    "    variance = sqrt(G[4]-(var[4])^2)  \n",
    "    println(G[1])\n",
    "end   \n",
    "#println(var[1])\n",
    "#plot(fract, UJ)"
   ]
  },
  {
   "cell_type": "code",
   "execution_count": 28,
   "id": "21256415",
   "metadata": {},
   "outputs": [
    {
     "data": {
      "text/plain": [
       "10-element Vector{Float64}:\n",
       " -0.1635616959500707\n",
       " -0.3317261321172084\n",
       " -0.33172613211720836\n",
       " -0.33172613211720803\n",
       " -0.509400976125046\n",
       " -0.33172613211720814\n",
       " -0.16356169595007058\n",
       " -0.331726132117208\n",
       " -0.331726132117208\n",
       " -0.16356169595007064"
      ]
     },
     "execution_count": 28,
     "metadata": {},
     "output_type": "execute_result"
    }
   ],
   "source": [
    "G"
   ]
  },
  {
   "cell_type": "code",
   "execution_count": 289,
   "id": "9f6e9407",
   "metadata": {},
   "outputs": [
    {
     "data": {
      "text/plain": [
       "10-element Vector{Any}:\n",
       " [3, 0, 0]\n",
       " [2, 1, 0]\n",
       " [2, 0, 1]\n",
       " [1, 2, 0]\n",
       " [1, 1, 1]\n",
       " [1, 0, 2]\n",
       " [0, 3, 0]\n",
       " [0, 2, 1]\n",
       " [0, 1, 2]\n",
       " [0, 0, 3]"
      ]
     },
     "execution_count": 289,
     "metadata": {},
     "output_type": "execute_result"
    }
   ],
   "source": [
    "#creation_ann(2,1,v[1]) It works! \n",
    "v"
   ]
  },
  {
   "cell_type": "code",
   "execution_count": 10,
   "id": "f9a17d90",
   "metadata": {},
   "outputs": [],
   "source": [
    "# arr = [0,0,3,0];  \n",
    "# arr[1];\n",
    "# v[2] \n",
    "# function sumyprod(x,y) \n",
    "#     suma = x+y \n",
    "#     prod = x*y \n",
    "#     return suma, prod \n",
    "# end \n",
    "# for i in 1:10 \n",
    "#     for j in 1:3\n",
    "#         println(i, j, sumyprod(i , j) )\n",
    "#     end \n",
    "# end"
   ]
  },
  {
   "cell_type": "code",
   "execution_count": 11,
   "id": "21d1fb4a",
   "metadata": {},
   "outputs": [],
   "source": [
    "#creation_ann(1,2,v[2])\n",
    "#tag(creation_ann(1,2,v[10]), M)  \n",
    "#valdiags(10, v[10]) \n",
    "#v[2]"
   ]
  },
  {
   "cell_type": "code",
   "execution_count": 13,
   "id": "b4c7fcdf",
   "metadata": {},
   "outputs": [],
   "source": [
    "# for j in 1:10\n",
    "#     cont = 0;\n",
    "#     for i in 1:10  \n",
    "#         cont+= i   \n",
    "#         if(cont == 55)\n",
    "#             println(cont, \" \", j) \n",
    "#         end\n",
    "#     end \n",
    "# end  \n",
    "#valdiags(1, v[5], M)\n"
   ]
  },
  {
   "cell_type": "code",
   "execution_count": 229,
   "id": "233894ff",
   "metadata": {},
   "outputs": [
    {
     "data": {
      "text/plain": [
       "10×10 SparseMatrixCSC{Float64, Int64} with 60 stored entries:\n",
       "  ⋅   1.73205  2.0  1.73205   ⋅   1.41421  1.41421   ⋅   1.0   ⋅ \n",
       "  ⋅   1.73205  2.0  1.73205   ⋅   1.41421  1.41421   ⋅   1.0   ⋅ \n",
       "  ⋅   1.73205  2.0  1.73205   ⋅   1.41421  1.41421   ⋅   1.0   ⋅ \n",
       "  ⋅   1.73205  2.0  1.73205   ⋅   1.41421  1.41421   ⋅   1.0   ⋅ \n",
       "  ⋅   1.73205  2.0  1.73205   ⋅   1.41421  1.41421   ⋅   1.0   ⋅ \n",
       "  ⋅   1.73205  2.0  1.73205   ⋅   1.41421  1.41421   ⋅   1.0   ⋅ \n",
       "  ⋅   1.73205  2.0  1.73205   ⋅   1.41421  1.41421   ⋅   1.0   ⋅ \n",
       "  ⋅   1.73205  2.0  1.73205   ⋅   1.41421  1.41421   ⋅   1.0   ⋅ \n",
       "  ⋅   1.73205  2.0  1.73205   ⋅   1.41421  1.41421   ⋅   1.0   ⋅ \n",
       "  ⋅   1.73205  2.0  1.73205   ⋅   1.41421  1.41421   ⋅   1.0   ⋅ "
      ]
     },
     "execution_count": 229,
     "metadata": {},
     "output_type": "execute_result"
    }
   ],
   "source": [
    "#Matrix for 1,2   \n",
    "a12 = spzeros(D,D)\n",
    "for u in 1:D   \n",
    "    for k in 1:D\n",
    "        a12[u,k] = creation_ann(1,2,v[k])[1]\n",
    "    end\n",
    "end\n",
    "a12"
   ]
  },
  {
   "cell_type": "code",
   "execution_count": 363,
   "id": "8fa28126",
   "metadata": {},
   "outputs": [
    {
     "data": {
      "text/plain": [
       "10×10 SparseMatrixCSC{Float64, Int64} with 6 stored entries:\n",
       "  ⋅        ⋅    ⋅        ⋅    ⋅        ⋅        ⋅    ⋅    ⋅    ⋅ \n",
       " 1.73205   ⋅    ⋅        ⋅    ⋅        ⋅        ⋅    ⋅    ⋅    ⋅ \n",
       "  ⋅       2.0   ⋅        ⋅    ⋅        ⋅        ⋅    ⋅    ⋅    ⋅ \n",
       "  ⋅        ⋅   1.73205   ⋅    ⋅        ⋅        ⋅    ⋅    ⋅    ⋅ \n",
       "  ⋅        ⋅    ⋅        ⋅    ⋅        ⋅        ⋅    ⋅    ⋅    ⋅ \n",
       "  ⋅        ⋅    ⋅        ⋅   1.41421   ⋅        ⋅    ⋅    ⋅    ⋅ \n",
       "  ⋅        ⋅    ⋅        ⋅    ⋅       1.41421   ⋅    ⋅    ⋅    ⋅ \n",
       "  ⋅        ⋅    ⋅        ⋅    ⋅        ⋅        ⋅    ⋅    ⋅    ⋅ \n",
       "  ⋅        ⋅    ⋅        ⋅    ⋅        ⋅        ⋅   1.0   ⋅    ⋅ \n",
       "  ⋅        ⋅    ⋅        ⋅    ⋅        ⋅        ⋅    ⋅    ⋅    ⋅ "
      ]
     },
     "execution_count": 363,
     "metadata": {},
     "output_type": "execute_result"
    }
   ],
   "source": [
    "matrixofcreationann(2,1)"
   ]
  },
  {
   "cell_type": "code",
   "execution_count": 362,
   "id": "bc8b81fa",
   "metadata": {},
   "outputs": [
    {
     "data": {
      "text/plain": [
       "2-element Vector{Any}:\n",
       " 1.7320508075688772\n",
       "  [0, 1, 2]"
      ]
     },
     "execution_count": 362,
     "metadata": {},
     "output_type": "execute_result"
    }
   ],
   "source": [
    "creation_ann(2,3,v[10])"
   ]
  },
  {
   "cell_type": "code",
   "execution_count": 357,
   "id": "e8d49a04",
   "metadata": {},
   "outputs": [
    {
     "data": {
      "text/plain": [
       "3-element view(::Matrix{Int64}, :, 9) with eltype Int64:\n",
       " 0\n",
       " 1\n",
       " 2"
      ]
     },
     "execution_count": 357,
     "metadata": {},
     "output_type": "execute_result"
    }
   ],
   "source": [
    "v[9]"
   ]
  },
  {
   "cell_type": "code",
   "execution_count": 252,
   "id": "8fed959e",
   "metadata": {},
   "outputs": [
    {
     "data": {
      "text/plain": [
       "10×10 Matrix{Float64}:\n",
       " 0.0        0.0       0.0       0.0       …  0.0       0.0        0.0\n",
       " 0.397762   0.700216  0.704392  0.766087     0.108265  0.872769   0.800912\n",
       " 0.543451   0.304482  0.633113  0.907778     0.43822   0.289602   0.264092\n",
       " 0.407006   0.386507  0.868429  0.408304     0.238063  0.102256   0.525052\n",
       " 0.0        0.0       0.0       0.0          0.0       0.0        0.0\n",
       " 0.0397973  0.855657  0.406814  0.531925  …  0.508136  0.0598169  0.241222\n",
       " 0.682818   0.195279  0.82833   0.410657     0.614474  0.245067   0.172174\n",
       " 0.0        0.0       0.0       0.0          0.0       0.0        0.0\n",
       " 0.0789091  0.101216  0.514263  0.518546     0.425645  0.426411   0.679419\n",
       " 0.0        0.0       0.0       0.0          0.0       0.0        0.0"
      ]
     },
     "execution_count": 252,
     "metadata": {},
     "output_type": "execute_result"
    }
   ],
   "source": [
    "a12*t"
   ]
  },
  {
   "cell_type": "code",
   "execution_count": 254,
   "id": "ed41b4e8",
   "metadata": {},
   "outputs": [
    {
     "data": {
      "text/plain": [
       "10×10 Matrix{Float64}:\n",
       " 0.543451  0.304482  0.633113  0.907778  …  0.43822   0.289602  0.264092\n",
       " 0.407006  0.386507  0.868429  0.408304     0.238063  0.102256  0.525052\n",
       " 0.15618   0.350977  0.461526  0.33728      0.740168  0.430158  0.440952\n",
       " 0.0       0.0       0.0       0.0          0.0       0.0       0.0\n",
       " 0.682818  0.195279  0.82833   0.410657     0.614474  0.245067  0.172174\n",
       " 0.30623   0.174836  0.972613  0.108055  …  0.860587  0.436411  0.858972\n",
       " 0.0       0.0       0.0       0.0          0.0       0.0       0.0\n",
       " 0.866426  0.367968  0.577975  0.138853     0.181564  0.216868  0.244591\n",
       " 0.0       0.0       0.0       0.0          0.0       0.0       0.0\n",
       " 0.0       0.0       0.0       0.0          0.0       0.0       0.0"
      ]
     },
     "execution_count": 254,
     "metadata": {},
     "output_type": "execute_result"
    }
   ],
   "source": [
    "a12*t"
   ]
  },
  {
   "cell_type": "code",
   "execution_count": null,
   "id": "687d31e6",
   "metadata": {},
   "outputs": [],
   "source": []
  }
 ],
 "metadata": {
  "kernelspec": {
   "display_name": "Julia 1.6.6",
   "language": "julia",
   "name": "julia-1.6"
  },
  "language_info": {
   "file_extension": ".jl",
   "mimetype": "application/julia",
   "name": "julia",
   "version": "1.6.6"
  }
 },
 "nbformat": 4,
 "nbformat_minor": 5
}
